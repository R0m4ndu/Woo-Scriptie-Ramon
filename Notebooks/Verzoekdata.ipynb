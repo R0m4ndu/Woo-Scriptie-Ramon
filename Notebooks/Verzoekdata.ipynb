{
 "cells": [
  {
   "cell_type": "code",
   "execution_count": 25,
   "id": "550ff4e1",
   "metadata": {},
   "outputs": [],
   "source": [
    "from selenium import webdriver\n",
    "from selenium.webdriver.chrome.service import Service\n",
    "from webdriver_manager.chrome import ChromeDriverManager\n",
    "from selenium.webdriver.common.by import By\n",
    "import time\n",
    "from selenium.webdriver.support.ui import WebDriverWait\n",
    "from selenium.webdriver.support import expected_conditions as EC\n",
    "import pandas as pd\n",
    "import numpy as np\n",
    "import regex as re\n",
    "from bs4 import BeautifulSoup\n",
    "import requests\n",
    "import urllib\n",
    "from urllib.request import urlopen\n",
    "from selenium.common.exceptions import NoSuchElementException\n",
    "from collections import Counter"
   ]
  },
  {
   "cell_type": "code",
   "execution_count": 26,
   "id": "d3905bbc",
   "metadata": {
    "scrolled": true
   },
   "outputs": [
    {
     "data": {
      "text/html": [
       "<div>\n",
       "<style scoped>\n",
       "    .dataframe tbody tr th:only-of-type {\n",
       "        vertical-align: middle;\n",
       "    }\n",
       "\n",
       "    .dataframe tbody tr th {\n",
       "        vertical-align: top;\n",
       "    }\n",
       "\n",
       "    .dataframe thead th {\n",
       "        text-align: right;\n",
       "    }\n",
       "</style>\n",
       "<table border=\"1\" class=\"dataframe\">\n",
       "  <thead>\n",
       "    <tr style=\"text-align: right;\">\n",
       "      <th></th>\n",
       "      <th>Titel</th>\n",
       "      <th>Verzoek</th>\n",
       "      <th>Specifiek</th>\n",
       "      <th>Verantwoordelijke</th>\n",
       "      <th>Thema</th>\n",
       "      <th>Documentsoort</th>\n",
       "      <th>Publicatiedatum</th>\n",
       "      <th>Documentdatum</th>\n",
       "      <th>Onderwerp</th>\n",
       "      <th>url</th>\n",
       "      <th>verzoekdatum</th>\n",
       "    </tr>\n",
       "  </thead>\n",
       "  <tbody>\n",
       "    <tr>\n",
       "      <th>3040</th>\n",
       "      <td>Bijlagen deel 1 bij besluit op Woo-verzoek ove...</td>\n",
       "      <td>Bijlagen deel 1 bij besluit op Woo-verzoek ove...</td>\n",
       "      <td>Bijlagen 11-17 bij besluit op Woo-verzoek over...</td>\n",
       "      <td>Ministerie van Infrastructuur en Waterstaat</td>\n",
       "      <td>Water</td>\n",
       "      <td>Beslissing op Wob-/Woo-verzoek</td>\n",
       "      <td>06-03-2023</td>\n",
       "      <td>28-10-2022</td>\n",
       "      <td>NaN</td>\n",
       "      <td>https://open.overheid.nl/documenten/ronl-a624d...</td>\n",
       "      <td>NaN</td>\n",
       "    </tr>\n",
       "    <tr>\n",
       "      <th>3041</th>\n",
       "      <td>Besluit op Woo-verzoek over overeenkomst Arcad...</td>\n",
       "      <td>Besluit op Woo-verzoek over overeenkomst Arcadis</td>\n",
       "      <td>Lijst van documenten</td>\n",
       "      <td>Ministerie van Infrastructuur en Waterstaat</td>\n",
       "      <td>Water</td>\n",
       "      <td>Beslissing op Wob-/Woo-verzoek</td>\n",
       "      <td>06-03-2023</td>\n",
       "      <td>28-10-2022</td>\n",
       "      <td>NaN</td>\n",
       "      <td>https://open.overheid.nl/documenten/ronl-a77f8...</td>\n",
       "      <td>NaN</td>\n",
       "    </tr>\n",
       "    <tr>\n",
       "      <th>3042</th>\n",
       "      <td>Bijlagen deel 1 bij besluit op Woo-verzoek ove...</td>\n",
       "      <td>Bijlagen deel 1 bij besluit op Woo-verzoek ove...</td>\n",
       "      <td>Bijlage 20 bij besluit op Woo-verzoek over ove...</td>\n",
       "      <td>Ministerie van Infrastructuur en Waterstaat</td>\n",
       "      <td>Water</td>\n",
       "      <td>Beslissing op Wob-/Woo-verzoek</td>\n",
       "      <td>06-03-2023</td>\n",
       "      <td>28-10-2022</td>\n",
       "      <td>NaN</td>\n",
       "      <td>https://open.overheid.nl/documenten/ronl-a97fa...</td>\n",
       "      <td>NaN</td>\n",
       "    </tr>\n",
       "    <tr>\n",
       "      <th>3043</th>\n",
       "      <td>Bijlagen deel 1 bij besluit op Woo-verzoek ove...</td>\n",
       "      <td>Bijlagen deel 1 bij besluit op Woo-verzoek ove...</td>\n",
       "      <td>Bijlagen 22-23 bij besluit op Woo-verzoek over...</td>\n",
       "      <td>Ministerie van Infrastructuur en Waterstaat</td>\n",
       "      <td>Water</td>\n",
       "      <td>Beslissing op Wob-/Woo-verzoek</td>\n",
       "      <td>06-03-2023</td>\n",
       "      <td>28-10-2022</td>\n",
       "      <td>NaN</td>\n",
       "      <td>https://open.overheid.nl/documenten/ronl-c0708...</td>\n",
       "      <td>NaN</td>\n",
       "    </tr>\n",
       "    <tr>\n",
       "      <th>3044</th>\n",
       "      <td>Bijlagen deel 1 bij besluit op Woo-verzoek ove...</td>\n",
       "      <td>Bijlagen deel 1 bij besluit op Woo-verzoek ove...</td>\n",
       "      <td>Bijlagen 18-19 bij besluit op Woo-verzoek over...</td>\n",
       "      <td>Ministerie van Infrastructuur en Waterstaat</td>\n",
       "      <td>Water</td>\n",
       "      <td>Beslissing op Wob-/Woo-verzoek</td>\n",
       "      <td>06-03-2023</td>\n",
       "      <td>28-10-2022</td>\n",
       "      <td>NaN</td>\n",
       "      <td>https://open.overheid.nl/documenten/ronl-c9d13...</td>\n",
       "      <td>NaN</td>\n",
       "    </tr>\n",
       "    <tr>\n",
       "      <th>3045</th>\n",
       "      <td>Besluit op Woo-verzoek over meststoffen en afv...</td>\n",
       "      <td>Besluit op Woo-verzoek over meststoffen en afv...</td>\n",
       "      <td>NaN</td>\n",
       "      <td>Ministerie van Landbouw, Natuur en Voedselkwal...</td>\n",
       "      <td>Stoffen</td>\n",
       "      <td>Beslissing op Wob-/Woo-verzoek</td>\n",
       "      <td>06-03-2023</td>\n",
       "      <td>03-03-2023</td>\n",
       "      <td>Mest</td>\n",
       "      <td>https://open.overheid.nl/documenten/ronl-cbaf4...</td>\n",
       "      <td>23-05-2022</td>\n",
       "    </tr>\n",
       "    <tr>\n",
       "      <th>3046</th>\n",
       "      <td>Besluit Woo-verzoek ECER-website - Openbaar ge...</td>\n",
       "      <td>Besluit Woo-verzoek ECER-website</td>\n",
       "      <td>Openbaar gemaakte documenten deel 1</td>\n",
       "      <td>Ministerie van Buitenlandse Zaken</td>\n",
       "      <td>Europese zaken</td>\n",
       "      <td>Beslissing op Wob-/Woo-verzoek</td>\n",
       "      <td>06-03-2023</td>\n",
       "      <td>08-02-2023</td>\n",
       "      <td>Europese Unie</td>\n",
       "      <td>https://open.overheid.nl/documenten/ronl-da28a...</td>\n",
       "      <td>NaN</td>\n",
       "    </tr>\n",
       "    <tr>\n",
       "      <th>3047</th>\n",
       "      <td>Besluit op Woo-verzoek over aanvraag tot verpl...</td>\n",
       "      <td>Besluit op Woo-verzoek over aanvraag tot verpl...</td>\n",
       "      <td>Woo-verzoek aanvraag verplichtstelling deelnem...</td>\n",
       "      <td>Ministerie van Sociale Zaken en Werkgelegenheid</td>\n",
       "      <td>['Arbeidsverhoudingen', 'Arbeidsverhoudingen']</td>\n",
       "      <td>Beslissing op Wob-/Woo-verzoek</td>\n",
       "      <td>06-03-2023</td>\n",
       "      <td>03-03-2023</td>\n",
       "      <td>['Arbeidsovereenkomst en cao', 'Pensioen']</td>\n",
       "      <td>https://open.overheid.nl/documenten/ronl-e1591...</td>\n",
       "      <td>19-05-2022</td>\n",
       "    </tr>\n",
       "    <tr>\n",
       "      <th>3048</th>\n",
       "      <td>Bijlagen deel 3 bij besluit op Woo-verzoek ove...</td>\n",
       "      <td>Bijlagen deel 3 bij besluit op Woo-verzoek ove...</td>\n",
       "      <td>Bijlagen 195-197 bij besluit op Woo-verzoek ov...</td>\n",
       "      <td>Ministerie van Infrastructuur en Waterstaat</td>\n",
       "      <td>Water</td>\n",
       "      <td>Beslissing op Wob-/Woo-verzoek</td>\n",
       "      <td>06-03-2023</td>\n",
       "      <td>28-10-2022</td>\n",
       "      <td>NaN</td>\n",
       "      <td>https://open.overheid.nl/documenten/ronl-e1644...</td>\n",
       "      <td>NaN</td>\n",
       "    </tr>\n",
       "    <tr>\n",
       "      <th>3049</th>\n",
       "      <td>Bijlagen deel 2 bij besluit op Woo-verzoek ove...</td>\n",
       "      <td>Bijlagen deel 2 bij besluit op Woo-verzoek ove...</td>\n",
       "      <td>Bijlagen 43-50 bij besluit op Woo-verzoek over...</td>\n",
       "      <td>Ministerie van Infrastructuur en Waterstaat</td>\n",
       "      <td>Water</td>\n",
       "      <td>Beslissing op Wob-/Woo-verzoek</td>\n",
       "      <td>06-03-2023</td>\n",
       "      <td>28-10-2022</td>\n",
       "      <td>NaN</td>\n",
       "      <td>https://open.overheid.nl/documenten/ronl-e36fc...</td>\n",
       "      <td>NaN</td>\n",
       "    </tr>\n",
       "    <tr>\n",
       "      <th>3050</th>\n",
       "      <td>Besluit op Woo-verzoek over landbouwregistrati...</td>\n",
       "      <td>Besluit op Woo-verzoek over landbouwregistrati...</td>\n",
       "      <td>NaN</td>\n",
       "      <td>Ministerie van Landbouw, Natuur en Voedselkwal...</td>\n",
       "      <td>Landbouw, visserij, voedselkwaliteit</td>\n",
       "      <td>Beslissing op Wob-/Woo-verzoek</td>\n",
       "      <td>06-03-2023</td>\n",
       "      <td>01-03-2023</td>\n",
       "      <td>Veehouderij</td>\n",
       "      <td>https://open.overheid.nl/documenten/ronl-ebaf9...</td>\n",
       "      <td>NaN</td>\n",
       "    </tr>\n",
       "    <tr>\n",
       "      <th>3051</th>\n",
       "      <td>Besluit Woo-verzoek over het smaakstoffen-rapp...</td>\n",
       "      <td>Besluit Woo-verzoek over het smaakstoffen-rapport</td>\n",
       "      <td>Woo-besluit en inventarislijst over het smaaks...</td>\n",
       "      <td>Ministerie van Volksgezondheid, Welzijn en Sport</td>\n",
       "      <td>Gezondheidsrisico's</td>\n",
       "      <td>Beslissing op Wob-/Woo-verzoek</td>\n",
       "      <td>06-03-2023</td>\n",
       "      <td>21-02-2023</td>\n",
       "      <td>Roken</td>\n",
       "      <td>https://open.overheid.nl/documenten/ronl-ee530...</td>\n",
       "      <td>14-06-2022</td>\n",
       "    </tr>\n",
       "    <tr>\n",
       "      <th>3052</th>\n",
       "      <td>Besluit op Wob-/Woo-verzoek over openbaarmakin...</td>\n",
       "      <td>Besluit op Wob-/Woo-verzoek over openbaarmakin...</td>\n",
       "      <td>NaN</td>\n",
       "      <td>Ministerie van Landbouw, Natuur en Voedselkwal...</td>\n",
       "      <td>['Natuur en landschapsbeheer', 'Landbouw visse...</td>\n",
       "      <td>Beslissing op Wob-/Woo-verzoek</td>\n",
       "      <td>06-03-2023</td>\n",
       "      <td>24-02-2023</td>\n",
       "      <td>['Dierenwelzijn', 'Diergezondheid', 'Wetgeving']</td>\n",
       "      <td>https://open.overheid.nl/documenten/ronl-ef91a...</td>\n",
       "      <td>14-07-2021</td>\n",
       "    </tr>\n",
       "    <tr>\n",
       "      <th>3053</th>\n",
       "      <td>Bijlagen deel 1 bij besluit op Woo-verzoek ove...</td>\n",
       "      <td>Bijlagen deel 1 bij besluit op Woo-verzoek ove...</td>\n",
       "      <td>Bijlage 25 bij besluit op Woo-verzoek over ove...</td>\n",
       "      <td>Ministerie van Infrastructuur en Waterstaat</td>\n",
       "      <td>Water</td>\n",
       "      <td>Beslissing op Wob-/Woo-verzoek</td>\n",
       "      <td>06-03-2023</td>\n",
       "      <td>28-10-2022</td>\n",
       "      <td>NaN</td>\n",
       "      <td>https://open.overheid.nl/documenten/ronl-f7489...</td>\n",
       "      <td>NaN</td>\n",
       "    </tr>\n",
       "    <tr>\n",
       "      <th>3054</th>\n",
       "      <td>Besluit Woo-verzoek ECER-website - Openbaar ge...</td>\n",
       "      <td>Besluit Woo-verzoek ECER-website</td>\n",
       "      <td>Openbaar gemaakte documenten deel 2</td>\n",
       "      <td>Ministerie van Buitenlandse Zaken</td>\n",
       "      <td>Europese zaken</td>\n",
       "      <td>Beslissing op Wob-/Woo-verzoek</td>\n",
       "      <td>06-03-2023</td>\n",
       "      <td>08-02-2023</td>\n",
       "      <td>Europese Unie</td>\n",
       "      <td>https://open.overheid.nl/documenten/ronl-f823c...</td>\n",
       "      <td>NaN</td>\n",
       "    </tr>\n",
       "    <tr>\n",
       "      <th>3055</th>\n",
       "      <td>Besluit Woo-verzoek aangepaste werkwijze gezin...</td>\n",
       "      <td>Besluit Woo-verzoek aangepaste werkwijze gezin...</td>\n",
       "      <td>Besluit en lijst van documenten</td>\n",
       "      <td>Ministerie van Buitenlandse Zaken</td>\n",
       "      <td>Migratie</td>\n",
       "      <td>Beslissing op Wob-/Woo-verzoek</td>\n",
       "      <td>06-03-2023</td>\n",
       "      <td>15-02-2023</td>\n",
       "      <td>Asielbeleid</td>\n",
       "      <td>https://open.overheid.nl/documenten/ronl-fcb5a...</td>\n",
       "      <td>NaN</td>\n",
       "    </tr>\n",
       "    <tr>\n",
       "      <th>3056</th>\n",
       "      <td>Besluit op Woo-verzoek over kennisgeving onder...</td>\n",
       "      <td>Besluit op Woo-verzoek over kennisgeving onder...</td>\n",
       "      <td>Besluit</td>\n",
       "      <td>Ministerie van Infrastructuur en Waterstaat</td>\n",
       "      <td>Onbekend thema</td>\n",
       "      <td>Beslissing op Wob-/Woo-verzoek</td>\n",
       "      <td>07-03-2023</td>\n",
       "      <td>02-02-2023</td>\n",
       "      <td>NaN</td>\n",
       "      <td>https://open.overheid.nl/documenten/ronl-16bf3...</td>\n",
       "      <td>09-12-2022</td>\n",
       "    </tr>\n",
       "    <tr>\n",
       "      <th>3057</th>\n",
       "      <td>Besluit op Woo-verzoek over kennisgeving onder...</td>\n",
       "      <td>Besluit op Woo-verzoek over kennisgeving onder...</td>\n",
       "      <td>Bijlagen</td>\n",
       "      <td>Ministerie van Infrastructuur en Waterstaat</td>\n",
       "      <td>Onbekend thema</td>\n",
       "      <td>Beslissing op Wob-/Woo-verzoek</td>\n",
       "      <td>07-03-2023</td>\n",
       "      <td>02-02-2023</td>\n",
       "      <td>NaN</td>\n",
       "      <td>https://open.overheid.nl/documenten/ronl-21c18...</td>\n",
       "      <td>NaN</td>\n",
       "    </tr>\n",
       "    <tr>\n",
       "      <th>3058</th>\n",
       "      <td>Besluit op Woo-verzoek over lozingsvergunning ...</td>\n",
       "      <td>Besluit op Woo-verzoek over lozingsvergunning ...</td>\n",
       "      <td>NaN</td>\n",
       "      <td>Ministerie van Infrastructuur en Waterstaat</td>\n",
       "      <td>Water</td>\n",
       "      <td>Beslissing op Wob-/Woo-verzoek</td>\n",
       "      <td>07-03-2023</td>\n",
       "      <td>01-03-2023</td>\n",
       "      <td>NaN</td>\n",
       "      <td>https://open.overheid.nl/documenten/ronl-37873...</td>\n",
       "      <td>NaN</td>\n",
       "    </tr>\n",
       "    <tr>\n",
       "      <th>3059</th>\n",
       "      <td>Besluit op Woo-verzoek over uitgezonden percen...</td>\n",
       "      <td>Besluit op Woo-verzoek over uitgezonden percen...</td>\n",
       "      <td>NaN</td>\n",
       "      <td>Ministerie van Economische Zaken en Klimaat</td>\n",
       "      <td>['Dienstensector', 'Media']</td>\n",
       "      <td>Beslissing op Wob-/Woo-verzoek</td>\n",
       "      <td>07-03-2023</td>\n",
       "      <td>03-03-2023</td>\n",
       "      <td>['Telecommunicatie', 'Media en publieke omroep']</td>\n",
       "      <td>https://open.overheid.nl/documenten/ronl-b937a...</td>\n",
       "      <td>NaN</td>\n",
       "    </tr>\n",
       "    <tr>\n",
       "      <th>3060</th>\n",
       "      <td>Besluit op Woo-verzoek over kennisgeving onder...</td>\n",
       "      <td>Besluit op Woo-verzoek over kennisgeving onder...</td>\n",
       "      <td>Inventaris</td>\n",
       "      <td>Ministerie van Infrastructuur en Waterstaat</td>\n",
       "      <td>Onbekend thema</td>\n",
       "      <td>Beslissing op Wob-/Woo-verzoek</td>\n",
       "      <td>07-03-2023</td>\n",
       "      <td>02-02-2023</td>\n",
       "      <td>NaN</td>\n",
       "      <td>https://open.overheid.nl/documenten/ronl-f3467...</td>\n",
       "      <td>NaN</td>\n",
       "    </tr>\n",
       "  </tbody>\n",
       "</table>\n",
       "</div>"
      ],
      "text/plain": [
       "                                                  Titel  \\\n",
       "3040  Bijlagen deel 1 bij besluit op Woo-verzoek ove...   \n",
       "3041  Besluit op Woo-verzoek over overeenkomst Arcad...   \n",
       "3042  Bijlagen deel 1 bij besluit op Woo-verzoek ove...   \n",
       "3043  Bijlagen deel 1 bij besluit op Woo-verzoek ove...   \n",
       "3044  Bijlagen deel 1 bij besluit op Woo-verzoek ove...   \n",
       "3045  Besluit op Woo-verzoek over meststoffen en afv...   \n",
       "3046  Besluit Woo-verzoek ECER-website - Openbaar ge...   \n",
       "3047  Besluit op Woo-verzoek over aanvraag tot verpl...   \n",
       "3048  Bijlagen deel 3 bij besluit op Woo-verzoek ove...   \n",
       "3049  Bijlagen deel 2 bij besluit op Woo-verzoek ove...   \n",
       "3050  Besluit op Woo-verzoek over landbouwregistrati...   \n",
       "3051  Besluit Woo-verzoek over het smaakstoffen-rapp...   \n",
       "3052  Besluit op Wob-/Woo-verzoek over openbaarmakin...   \n",
       "3053  Bijlagen deel 1 bij besluit op Woo-verzoek ove...   \n",
       "3054  Besluit Woo-verzoek ECER-website - Openbaar ge...   \n",
       "3055  Besluit Woo-verzoek aangepaste werkwijze gezin...   \n",
       "3056  Besluit op Woo-verzoek over kennisgeving onder...   \n",
       "3057  Besluit op Woo-verzoek over kennisgeving onder...   \n",
       "3058  Besluit op Woo-verzoek over lozingsvergunning ...   \n",
       "3059  Besluit op Woo-verzoek over uitgezonden percen...   \n",
       "3060  Besluit op Woo-verzoek over kennisgeving onder...   \n",
       "\n",
       "                                                Verzoek  \\\n",
       "3040  Bijlagen deel 1 bij besluit op Woo-verzoek ove...   \n",
       "3041   Besluit op Woo-verzoek over overeenkomst Arcadis   \n",
       "3042  Bijlagen deel 1 bij besluit op Woo-verzoek ove...   \n",
       "3043  Bijlagen deel 1 bij besluit op Woo-verzoek ove...   \n",
       "3044  Bijlagen deel 1 bij besluit op Woo-verzoek ove...   \n",
       "3045  Besluit op Woo-verzoek over meststoffen en afv...   \n",
       "3046                   Besluit Woo-verzoek ECER-website   \n",
       "3047  Besluit op Woo-verzoek over aanvraag tot verpl...   \n",
       "3048  Bijlagen deel 3 bij besluit op Woo-verzoek ove...   \n",
       "3049  Bijlagen deel 2 bij besluit op Woo-verzoek ove...   \n",
       "3050  Besluit op Woo-verzoek over landbouwregistrati...   \n",
       "3051  Besluit Woo-verzoek over het smaakstoffen-rapport   \n",
       "3052  Besluit op Wob-/Woo-verzoek over openbaarmakin...   \n",
       "3053  Bijlagen deel 1 bij besluit op Woo-verzoek ove...   \n",
       "3054                   Besluit Woo-verzoek ECER-website   \n",
       "3055  Besluit Woo-verzoek aangepaste werkwijze gezin...   \n",
       "3056  Besluit op Woo-verzoek over kennisgeving onder...   \n",
       "3057  Besluit op Woo-verzoek over kennisgeving onder...   \n",
       "3058  Besluit op Woo-verzoek over lozingsvergunning ...   \n",
       "3059  Besluit op Woo-verzoek over uitgezonden percen...   \n",
       "3060  Besluit op Woo-verzoek over kennisgeving onder...   \n",
       "\n",
       "                                              Specifiek  \\\n",
       "3040  Bijlagen 11-17 bij besluit op Woo-verzoek over...   \n",
       "3041                               Lijst van documenten   \n",
       "3042  Bijlage 20 bij besluit op Woo-verzoek over ove...   \n",
       "3043  Bijlagen 22-23 bij besluit op Woo-verzoek over...   \n",
       "3044  Bijlagen 18-19 bij besluit op Woo-verzoek over...   \n",
       "3045                                                NaN   \n",
       "3046                Openbaar gemaakte documenten deel 1   \n",
       "3047  Woo-verzoek aanvraag verplichtstelling deelnem...   \n",
       "3048  Bijlagen 195-197 bij besluit op Woo-verzoek ov...   \n",
       "3049  Bijlagen 43-50 bij besluit op Woo-verzoek over...   \n",
       "3050                                                NaN   \n",
       "3051  Woo-besluit en inventarislijst over het smaaks...   \n",
       "3052                                                NaN   \n",
       "3053  Bijlage 25 bij besluit op Woo-verzoek over ove...   \n",
       "3054                Openbaar gemaakte documenten deel 2   \n",
       "3055                    Besluit en lijst van documenten   \n",
       "3056                                            Besluit   \n",
       "3057                                           Bijlagen   \n",
       "3058                                                NaN   \n",
       "3059                                                NaN   \n",
       "3060                                         Inventaris   \n",
       "\n",
       "                                      Verantwoordelijke  \\\n",
       "3040        Ministerie van Infrastructuur en Waterstaat   \n",
       "3041        Ministerie van Infrastructuur en Waterstaat   \n",
       "3042        Ministerie van Infrastructuur en Waterstaat   \n",
       "3043        Ministerie van Infrastructuur en Waterstaat   \n",
       "3044        Ministerie van Infrastructuur en Waterstaat   \n",
       "3045  Ministerie van Landbouw, Natuur en Voedselkwal...   \n",
       "3046                  Ministerie van Buitenlandse Zaken   \n",
       "3047    Ministerie van Sociale Zaken en Werkgelegenheid   \n",
       "3048        Ministerie van Infrastructuur en Waterstaat   \n",
       "3049        Ministerie van Infrastructuur en Waterstaat   \n",
       "3050  Ministerie van Landbouw, Natuur en Voedselkwal...   \n",
       "3051   Ministerie van Volksgezondheid, Welzijn en Sport   \n",
       "3052  Ministerie van Landbouw, Natuur en Voedselkwal...   \n",
       "3053        Ministerie van Infrastructuur en Waterstaat   \n",
       "3054                  Ministerie van Buitenlandse Zaken   \n",
       "3055                  Ministerie van Buitenlandse Zaken   \n",
       "3056        Ministerie van Infrastructuur en Waterstaat   \n",
       "3057        Ministerie van Infrastructuur en Waterstaat   \n",
       "3058        Ministerie van Infrastructuur en Waterstaat   \n",
       "3059        Ministerie van Economische Zaken en Klimaat   \n",
       "3060        Ministerie van Infrastructuur en Waterstaat   \n",
       "\n",
       "                                                  Thema  \\\n",
       "3040                                              Water   \n",
       "3041                                              Water   \n",
       "3042                                              Water   \n",
       "3043                                              Water   \n",
       "3044                                              Water   \n",
       "3045                                            Stoffen   \n",
       "3046                                     Europese zaken   \n",
       "3047     ['Arbeidsverhoudingen', 'Arbeidsverhoudingen']   \n",
       "3048                                              Water   \n",
       "3049                                              Water   \n",
       "3050               Landbouw, visserij, voedselkwaliteit   \n",
       "3051                                Gezondheidsrisico's   \n",
       "3052  ['Natuur en landschapsbeheer', 'Landbouw visse...   \n",
       "3053                                              Water   \n",
       "3054                                     Europese zaken   \n",
       "3055                                           Migratie   \n",
       "3056                                     Onbekend thema   \n",
       "3057                                     Onbekend thema   \n",
       "3058                                              Water   \n",
       "3059                        ['Dienstensector', 'Media']   \n",
       "3060                                     Onbekend thema   \n",
       "\n",
       "                       Documentsoort Publicatiedatum Documentdatum  \\\n",
       "3040  Beslissing op Wob-/Woo-verzoek      06-03-2023    28-10-2022   \n",
       "3041  Beslissing op Wob-/Woo-verzoek      06-03-2023    28-10-2022   \n",
       "3042  Beslissing op Wob-/Woo-verzoek      06-03-2023    28-10-2022   \n",
       "3043  Beslissing op Wob-/Woo-verzoek      06-03-2023    28-10-2022   \n",
       "3044  Beslissing op Wob-/Woo-verzoek      06-03-2023    28-10-2022   \n",
       "3045  Beslissing op Wob-/Woo-verzoek      06-03-2023    03-03-2023   \n",
       "3046  Beslissing op Wob-/Woo-verzoek      06-03-2023    08-02-2023   \n",
       "3047  Beslissing op Wob-/Woo-verzoek      06-03-2023    03-03-2023   \n",
       "3048  Beslissing op Wob-/Woo-verzoek      06-03-2023    28-10-2022   \n",
       "3049  Beslissing op Wob-/Woo-verzoek      06-03-2023    28-10-2022   \n",
       "3050  Beslissing op Wob-/Woo-verzoek      06-03-2023    01-03-2023   \n",
       "3051  Beslissing op Wob-/Woo-verzoek      06-03-2023    21-02-2023   \n",
       "3052  Beslissing op Wob-/Woo-verzoek      06-03-2023    24-02-2023   \n",
       "3053  Beslissing op Wob-/Woo-verzoek      06-03-2023    28-10-2022   \n",
       "3054  Beslissing op Wob-/Woo-verzoek      06-03-2023    08-02-2023   \n",
       "3055  Beslissing op Wob-/Woo-verzoek      06-03-2023    15-02-2023   \n",
       "3056  Beslissing op Wob-/Woo-verzoek      07-03-2023    02-02-2023   \n",
       "3057  Beslissing op Wob-/Woo-verzoek      07-03-2023    02-02-2023   \n",
       "3058  Beslissing op Wob-/Woo-verzoek      07-03-2023    01-03-2023   \n",
       "3059  Beslissing op Wob-/Woo-verzoek      07-03-2023    03-03-2023   \n",
       "3060  Beslissing op Wob-/Woo-verzoek      07-03-2023    02-02-2023   \n",
       "\n",
       "                                             Onderwerp  \\\n",
       "3040                                               NaN   \n",
       "3041                                               NaN   \n",
       "3042                                               NaN   \n",
       "3043                                               NaN   \n",
       "3044                                               NaN   \n",
       "3045                                              Mest   \n",
       "3046                                     Europese Unie   \n",
       "3047        ['Arbeidsovereenkomst en cao', 'Pensioen']   \n",
       "3048                                               NaN   \n",
       "3049                                               NaN   \n",
       "3050                                       Veehouderij   \n",
       "3051                                             Roken   \n",
       "3052  ['Dierenwelzijn', 'Diergezondheid', 'Wetgeving']   \n",
       "3053                                               NaN   \n",
       "3054                                     Europese Unie   \n",
       "3055                                       Asielbeleid   \n",
       "3056                                               NaN   \n",
       "3057                                               NaN   \n",
       "3058                                               NaN   \n",
       "3059  ['Telecommunicatie', 'Media en publieke omroep']   \n",
       "3060                                               NaN   \n",
       "\n",
       "                                                    url verzoekdatum  \n",
       "3040  https://open.overheid.nl/documenten/ronl-a624d...          NaN  \n",
       "3041  https://open.overheid.nl/documenten/ronl-a77f8...          NaN  \n",
       "3042  https://open.overheid.nl/documenten/ronl-a97fa...          NaN  \n",
       "3043  https://open.overheid.nl/documenten/ronl-c0708...          NaN  \n",
       "3044  https://open.overheid.nl/documenten/ronl-c9d13...          NaN  \n",
       "3045  https://open.overheid.nl/documenten/ronl-cbaf4...   23-05-2022  \n",
       "3046  https://open.overheid.nl/documenten/ronl-da28a...          NaN  \n",
       "3047  https://open.overheid.nl/documenten/ronl-e1591...   19-05-2022  \n",
       "3048  https://open.overheid.nl/documenten/ronl-e1644...          NaN  \n",
       "3049  https://open.overheid.nl/documenten/ronl-e36fc...          NaN  \n",
       "3050  https://open.overheid.nl/documenten/ronl-ebaf9...          NaN  \n",
       "3051  https://open.overheid.nl/documenten/ronl-ee530...   14-06-2022  \n",
       "3052  https://open.overheid.nl/documenten/ronl-ef91a...   14-07-2021  \n",
       "3053  https://open.overheid.nl/documenten/ronl-f7489...          NaN  \n",
       "3054  https://open.overheid.nl/documenten/ronl-f823c...          NaN  \n",
       "3055  https://open.overheid.nl/documenten/ronl-fcb5a...          NaN  \n",
       "3056  https://open.overheid.nl/documenten/ronl-16bf3...   09-12-2022  \n",
       "3057  https://open.overheid.nl/documenten/ronl-21c18...          NaN  \n",
       "3058  https://open.overheid.nl/documenten/ronl-37873...          NaN  \n",
       "3059  https://open.overheid.nl/documenten/ronl-b937a...          NaN  \n",
       "3060  https://open.overheid.nl/documenten/ronl-f3467...          NaN  "
      ]
     },
     "metadata": {},
     "output_type": "display_data"
    }
   ],
   "source": [
    "Dataframe = pd.read_csv('Woo-5-mei.csv')\n",
    "\n",
    "display(Dataframe[3040:])"
   ]
  },
  {
   "cell_type": "markdown",
   "id": "c3eefd38",
   "metadata": {},
   "source": [
    "Deelbesluiten etc omzetten tot gewoon besluit. "
   ]
  },
  {
   "cell_type": "code",
   "execution_count": 27,
   "id": "aedce7be",
   "metadata": {},
   "outputs": [],
   "source": [
    "def eerstwrd(woord):\n",
    "    \n",
    "    eerste3woorden = woord.split(' ')[:3]\n",
    "    string = ' '.join(eerste3woorden)\n",
    "    \n",
    "    if 'besluit' in string:\n",
    "        if eerste3woorden[2].isnumeric() == True:\n",
    "            Split = woord.split(eerste3woorden[2])\n",
    "        elif eerste3woorden[1].isnumeric() == True:\n",
    "            Split = woord.split(eerste3woorden[1])    \n",
    "            \n",
    "        else:\n",
    "            Split = woord.split('besluit')\n",
    "        \n",
    "        return 'Besluit' + Split[1]\n",
    "    \n",
    "    elif 'beslissing' in string:\n",
    "        \n",
    "        if eerste3woorden[2].isnumeric() == True:\n",
    "            Split = woord.split(eerste3woorden[2])\n",
    "        elif eerste3woorden[1].isnumeric() == True:\n",
    "            Split = woord.split(eerste3woorden[1])    \n",
    "        else:\n",
    "            Split = woord.split('beslissing')\n",
    "            \n",
    "        return 'Beslissing' + Split[1]\n",
    "    \n",
    "    else:\n",
    "        return woord"
   ]
  },
  {
   "cell_type": "code",
   "execution_count": 28,
   "id": "f7a2add3",
   "metadata": {},
   "outputs": [
    {
     "data": {
      "text/html": [
       "<div>\n",
       "<style scoped>\n",
       "    .dataframe tbody tr th:only-of-type {\n",
       "        vertical-align: middle;\n",
       "    }\n",
       "\n",
       "    .dataframe tbody tr th {\n",
       "        vertical-align: top;\n",
       "    }\n",
       "\n",
       "    .dataframe thead th {\n",
       "        text-align: right;\n",
       "    }\n",
       "</style>\n",
       "<table border=\"1\" class=\"dataframe\">\n",
       "  <thead>\n",
       "    <tr style=\"text-align: right;\">\n",
       "      <th></th>\n",
       "      <th>Titel</th>\n",
       "      <th>Verzoek</th>\n",
       "      <th>Specifiek</th>\n",
       "      <th>Verantwoordelijke</th>\n",
       "      <th>Thema</th>\n",
       "      <th>Documentsoort</th>\n",
       "      <th>Publicatiedatum</th>\n",
       "      <th>Documentdatum</th>\n",
       "      <th>Onderwerp</th>\n",
       "      <th>url</th>\n",
       "      <th>verzoekdatum</th>\n",
       "    </tr>\n",
       "  </thead>\n",
       "  <tbody>\n",
       "    <tr>\n",
       "      <th>0</th>\n",
       "      <td>Besluit op Wob-verzoek over aankoop van het sc...</td>\n",
       "      <td>Besluit op Wob-verzoek over aankoop van het sc...</td>\n",
       "      <td>NaN</td>\n",
       "      <td>Ministerie van Onderwijs, Cultuur en Wetenschap</td>\n",
       "      <td>Cultuur</td>\n",
       "      <td>Beslissing op Wob-/Woo-verzoek</td>\n",
       "      <td>02-05-2022</td>\n",
       "      <td>2022-04-29</td>\n",
       "      <td>Kunst en cultuur</td>\n",
       "      <td>https://open.overheid.nl/documenten/ronl-0b4b7...</td>\n",
       "      <td>NaN</td>\n",
       "    </tr>\n",
       "    <tr>\n",
       "      <th>1</th>\n",
       "      <td>Besluit op Wob-verzoek over het op afstand pla...</td>\n",
       "      <td>Besluit op Wob-verzoek over het op afstand pla...</td>\n",
       "      <td>bijlagen bij Wob-verzoek over op afstand plaat...</td>\n",
       "      <td>Ministerie van Financiën</td>\n",
       "      <td>Onbekend thema</td>\n",
       "      <td>Beslissing op Wob-/Woo-verzoek</td>\n",
       "      <td>02-05-2022</td>\n",
       "      <td>2022-04-29</td>\n",
       "      <td>NaN</td>\n",
       "      <td>https://open.overheid.nl/documenten/ronl-232e7...</td>\n",
       "      <td>NaN</td>\n",
       "    </tr>\n",
       "    <tr>\n",
       "      <th>2</th>\n",
       "      <td>Besluit op Wob-verzoek over aankoop van het sc...</td>\n",
       "      <td>Besluit op Wob-verzoek over aankoop van het sc...</td>\n",
       "      <td>Inventarislijst Wob-verzoek over aankoop van s...</td>\n",
       "      <td>Ministerie van Onderwijs, Cultuur en Wetenschap</td>\n",
       "      <td>Cultuur</td>\n",
       "      <td>Beslissing op Wob-/Woo-verzoek</td>\n",
       "      <td>02-05-2022</td>\n",
       "      <td>2022-04-29</td>\n",
       "      <td>Kunst en cultuur</td>\n",
       "      <td>https://open.overheid.nl/documenten/ronl-2af63...</td>\n",
       "      <td>NaN</td>\n",
       "    </tr>\n",
       "    <tr>\n",
       "      <th>3</th>\n",
       "      <td>Besluit op Wob-verzoek over aankoop van het sc...</td>\n",
       "      <td>Besluit op Wob-verzoek over aankoop van het sc...</td>\n",
       "      <td>NaN</td>\n",
       "      <td>Ministerie van Onderwijs, Cultuur en Wetenschap</td>\n",
       "      <td>Cultuur</td>\n",
       "      <td>Beslissing op Wob-/Woo-verzoek</td>\n",
       "      <td>02-05-2022</td>\n",
       "      <td>2022-04-29</td>\n",
       "      <td>Kunst en cultuur</td>\n",
       "      <td>https://open.overheid.nl/documenten/ronl-3210e...</td>\n",
       "      <td>NaN</td>\n",
       "    </tr>\n",
       "    <tr>\n",
       "      <th>4</th>\n",
       "      <td>Besluit op Wob-verzoek correspondentie over st...</td>\n",
       "      <td>Besluit op Wob-verzoek correspondentie over st...</td>\n",
       "      <td>wobbesluit-staatssteunaspecten-bik.pdf</td>\n",
       "      <td>Ministerie van Financiën</td>\n",
       "      <td>Inkoop en beheer</td>\n",
       "      <td>Beslissing op Wob-/Woo-verzoek</td>\n",
       "      <td>02-05-2022</td>\n",
       "      <td>2022-04-29</td>\n",
       "      <td>Staatssteun</td>\n",
       "      <td>https://open.overheid.nl/documenten/ronl-3c18a...</td>\n",
       "      <td>09-07-2021</td>\n",
       "    </tr>\n",
       "    <tr>\n",
       "      <th>...</th>\n",
       "      <td>...</td>\n",
       "      <td>...</td>\n",
       "      <td>...</td>\n",
       "      <td>...</td>\n",
       "      <td>...</td>\n",
       "      <td>...</td>\n",
       "      <td>...</td>\n",
       "      <td>...</td>\n",
       "      <td>...</td>\n",
       "      <td>...</td>\n",
       "      <td>...</td>\n",
       "    </tr>\n",
       "    <tr>\n",
       "      <th>3056</th>\n",
       "      <td>Besluit op Woo-verzoek over kennisgeving onder...</td>\n",
       "      <td>Besluit op Woo-verzoek over kennisgeving onder...</td>\n",
       "      <td>Besluit</td>\n",
       "      <td>Ministerie van Infrastructuur en Waterstaat</td>\n",
       "      <td>Onbekend thema</td>\n",
       "      <td>Beslissing op Wob-/Woo-verzoek</td>\n",
       "      <td>07-03-2023</td>\n",
       "      <td>2023-02-02</td>\n",
       "      <td>NaN</td>\n",
       "      <td>https://open.overheid.nl/documenten/ronl-16bf3...</td>\n",
       "      <td>09-12-2022</td>\n",
       "    </tr>\n",
       "    <tr>\n",
       "      <th>3057</th>\n",
       "      <td>Besluit op Woo-verzoek over kennisgeving onder...</td>\n",
       "      <td>Besluit op Woo-verzoek over kennisgeving onder...</td>\n",
       "      <td>Bijlagen</td>\n",
       "      <td>Ministerie van Infrastructuur en Waterstaat</td>\n",
       "      <td>Onbekend thema</td>\n",
       "      <td>Beslissing op Wob-/Woo-verzoek</td>\n",
       "      <td>07-03-2023</td>\n",
       "      <td>2023-02-02</td>\n",
       "      <td>NaN</td>\n",
       "      <td>https://open.overheid.nl/documenten/ronl-21c18...</td>\n",
       "      <td>NaN</td>\n",
       "    </tr>\n",
       "    <tr>\n",
       "      <th>3058</th>\n",
       "      <td>Besluit op Woo-verzoek over lozingsvergunning ...</td>\n",
       "      <td>Besluit op Woo-verzoek over lozingsvergunning ...</td>\n",
       "      <td>NaN</td>\n",
       "      <td>Ministerie van Infrastructuur en Waterstaat</td>\n",
       "      <td>Water</td>\n",
       "      <td>Beslissing op Wob-/Woo-verzoek</td>\n",
       "      <td>07-03-2023</td>\n",
       "      <td>2023-03-01</td>\n",
       "      <td>NaN</td>\n",
       "      <td>https://open.overheid.nl/documenten/ronl-37873...</td>\n",
       "      <td>NaN</td>\n",
       "    </tr>\n",
       "    <tr>\n",
       "      <th>3059</th>\n",
       "      <td>Besluit op Woo-verzoek over uitgezonden percen...</td>\n",
       "      <td>Besluit op Woo-verzoek over uitgezonden percen...</td>\n",
       "      <td>NaN</td>\n",
       "      <td>Ministerie van Economische Zaken en Klimaat</td>\n",
       "      <td>['Dienstensector', 'Media']</td>\n",
       "      <td>Beslissing op Wob-/Woo-verzoek</td>\n",
       "      <td>07-03-2023</td>\n",
       "      <td>2023-03-03</td>\n",
       "      <td>['Telecommunicatie', 'Media en publieke omroep']</td>\n",
       "      <td>https://open.overheid.nl/documenten/ronl-b937a...</td>\n",
       "      <td>NaN</td>\n",
       "    </tr>\n",
       "    <tr>\n",
       "      <th>3060</th>\n",
       "      <td>Besluit op Woo-verzoek over kennisgeving onder...</td>\n",
       "      <td>Besluit op Woo-verzoek over kennisgeving onder...</td>\n",
       "      <td>Inventaris</td>\n",
       "      <td>Ministerie van Infrastructuur en Waterstaat</td>\n",
       "      <td>Onbekend thema</td>\n",
       "      <td>Beslissing op Wob-/Woo-verzoek</td>\n",
       "      <td>07-03-2023</td>\n",
       "      <td>2023-02-02</td>\n",
       "      <td>NaN</td>\n",
       "      <td>https://open.overheid.nl/documenten/ronl-f3467...</td>\n",
       "      <td>NaN</td>\n",
       "    </tr>\n",
       "  </tbody>\n",
       "</table>\n",
       "<p>2788 rows × 11 columns</p>\n",
       "</div>"
      ],
      "text/plain": [
       "                                                  Titel  \\\n",
       "0     Besluit op Wob-verzoek over aankoop van het sc...   \n",
       "1     Besluit op Wob-verzoek over het op afstand pla...   \n",
       "2     Besluit op Wob-verzoek over aankoop van het sc...   \n",
       "3     Besluit op Wob-verzoek over aankoop van het sc...   \n",
       "4     Besluit op Wob-verzoek correspondentie over st...   \n",
       "...                                                 ...   \n",
       "3056  Besluit op Woo-verzoek over kennisgeving onder...   \n",
       "3057  Besluit op Woo-verzoek over kennisgeving onder...   \n",
       "3058  Besluit op Woo-verzoek over lozingsvergunning ...   \n",
       "3059  Besluit op Woo-verzoek over uitgezonden percen...   \n",
       "3060  Besluit op Woo-verzoek over kennisgeving onder...   \n",
       "\n",
       "                                                Verzoek  \\\n",
       "0     Besluit op Wob-verzoek over aankoop van het sc...   \n",
       "1     Besluit op Wob-verzoek over het op afstand pla...   \n",
       "2     Besluit op Wob-verzoek over aankoop van het sc...   \n",
       "3     Besluit op Wob-verzoek over aankoop van het sc...   \n",
       "4     Besluit op Wob-verzoek correspondentie over st...   \n",
       "...                                                 ...   \n",
       "3056  Besluit op Woo-verzoek over kennisgeving onder...   \n",
       "3057  Besluit op Woo-verzoek over kennisgeving onder...   \n",
       "3058  Besluit op Woo-verzoek over lozingsvergunning ...   \n",
       "3059  Besluit op Woo-verzoek over uitgezonden percen...   \n",
       "3060  Besluit op Woo-verzoek over kennisgeving onder...   \n",
       "\n",
       "                                              Specifiek  \\\n",
       "0                                                   NaN   \n",
       "1     bijlagen bij Wob-verzoek over op afstand plaat...   \n",
       "2     Inventarislijst Wob-verzoek over aankoop van s...   \n",
       "3                                                   NaN   \n",
       "4                wobbesluit-staatssteunaspecten-bik.pdf   \n",
       "...                                                 ...   \n",
       "3056                                            Besluit   \n",
       "3057                                           Bijlagen   \n",
       "3058                                                NaN   \n",
       "3059                                                NaN   \n",
       "3060                                         Inventaris   \n",
       "\n",
       "                                    Verantwoordelijke  \\\n",
       "0     Ministerie van Onderwijs, Cultuur en Wetenschap   \n",
       "1                            Ministerie van Financiën   \n",
       "2     Ministerie van Onderwijs, Cultuur en Wetenschap   \n",
       "3     Ministerie van Onderwijs, Cultuur en Wetenschap   \n",
       "4                            Ministerie van Financiën   \n",
       "...                                               ...   \n",
       "3056      Ministerie van Infrastructuur en Waterstaat   \n",
       "3057      Ministerie van Infrastructuur en Waterstaat   \n",
       "3058      Ministerie van Infrastructuur en Waterstaat   \n",
       "3059      Ministerie van Economische Zaken en Klimaat   \n",
       "3060      Ministerie van Infrastructuur en Waterstaat   \n",
       "\n",
       "                            Thema                   Documentsoort  \\\n",
       "0                         Cultuur  Beslissing op Wob-/Woo-verzoek   \n",
       "1                  Onbekend thema  Beslissing op Wob-/Woo-verzoek   \n",
       "2                         Cultuur  Beslissing op Wob-/Woo-verzoek   \n",
       "3                         Cultuur  Beslissing op Wob-/Woo-verzoek   \n",
       "4                Inkoop en beheer  Beslissing op Wob-/Woo-verzoek   \n",
       "...                           ...                             ...   \n",
       "3056               Onbekend thema  Beslissing op Wob-/Woo-verzoek   \n",
       "3057               Onbekend thema  Beslissing op Wob-/Woo-verzoek   \n",
       "3058                        Water  Beslissing op Wob-/Woo-verzoek   \n",
       "3059  ['Dienstensector', 'Media']  Beslissing op Wob-/Woo-verzoek   \n",
       "3060               Onbekend thema  Beslissing op Wob-/Woo-verzoek   \n",
       "\n",
       "     Publicatiedatum Documentdatum  \\\n",
       "0         02-05-2022    2022-04-29   \n",
       "1         02-05-2022    2022-04-29   \n",
       "2         02-05-2022    2022-04-29   \n",
       "3         02-05-2022    2022-04-29   \n",
       "4         02-05-2022    2022-04-29   \n",
       "...              ...           ...   \n",
       "3056      07-03-2023    2023-02-02   \n",
       "3057      07-03-2023    2023-02-02   \n",
       "3058      07-03-2023    2023-03-01   \n",
       "3059      07-03-2023    2023-03-03   \n",
       "3060      07-03-2023    2023-02-02   \n",
       "\n",
       "                                             Onderwerp  \\\n",
       "0                                     Kunst en cultuur   \n",
       "1                                                  NaN   \n",
       "2                                     Kunst en cultuur   \n",
       "3                                     Kunst en cultuur   \n",
       "4                                          Staatssteun   \n",
       "...                                                ...   \n",
       "3056                                               NaN   \n",
       "3057                                               NaN   \n",
       "3058                                               NaN   \n",
       "3059  ['Telecommunicatie', 'Media en publieke omroep']   \n",
       "3060                                               NaN   \n",
       "\n",
       "                                                    url verzoekdatum  \n",
       "0     https://open.overheid.nl/documenten/ronl-0b4b7...          NaN  \n",
       "1     https://open.overheid.nl/documenten/ronl-232e7...          NaN  \n",
       "2     https://open.overheid.nl/documenten/ronl-2af63...          NaN  \n",
       "3     https://open.overheid.nl/documenten/ronl-3210e...          NaN  \n",
       "4     https://open.overheid.nl/documenten/ronl-3c18a...   09-07-2021  \n",
       "...                                                 ...          ...  \n",
       "3056  https://open.overheid.nl/documenten/ronl-16bf3...   09-12-2022  \n",
       "3057  https://open.overheid.nl/documenten/ronl-21c18...          NaN  \n",
       "3058  https://open.overheid.nl/documenten/ronl-37873...          NaN  \n",
       "3059  https://open.overheid.nl/documenten/ronl-b937a...          NaN  \n",
       "3060  https://open.overheid.nl/documenten/ronl-f3467...          NaN  \n",
       "\n",
       "[2788 rows x 11 columns]"
      ]
     },
     "metadata": {},
     "output_type": "display_data"
    }
   ],
   "source": [
    "Dataframe['Documentdatum'] = pd.to_datetime(Dataframe['Documentdatum'], format='%d-%m-%Y')\n",
    "Dataframe = Dataframe.loc[Dataframe['Documentdatum'] >= '01-05-2022']\n",
    "\n",
    "Dataframe['Verzoek'] = Dataframe['Verzoek'].map(lambda x:eerstwrd(x))\n",
    "\n",
    "# deze functie zal het wisselende beginwoord proberen te veranderen naar Besluit of Beslissing\n",
    "Dataframe['eerste_woord'] = Dataframe['Verzoek'].str.split(' ').str.get(0)\n",
    "\n",
    "# Omdat het moeilijk is om te bepalen welk beginwoord wel of niet te droppen heb ik besloten enkel deze te behouden.\n",
    "woord_list = ['Besluit', 'Wob-verzoek', 'Beslissing', 'Wob-besluit', 'Woo-verzoek','Woo-besluit']\n",
    "\n",
    "Dataframe = Dataframe[Dataframe['eerste_woord'].isin(woord_list)]\n",
    "Dataframe = Dataframe.drop('eerste_woord', axis=1)\n",
    "\n",
    "display(Dataframe)"
   ]
  },
  {
   "cell_type": "markdown",
   "id": "99788dd7",
   "metadata": {},
   "source": [
    "Enkel besluiten van ministeries hebben de structuur die bruikbaar is. "
   ]
  },
  {
   "cell_type": "code",
   "execution_count": 29,
   "id": "bca746b7",
   "metadata": {},
   "outputs": [],
   "source": [
    "def eerste_woord(string):\n",
    "    spl = string.split(' ')\n",
    "    if spl[0] != 'Ministerie':\n",
    "        return np.nan\n",
    "    else:\n",
    "        return string"
   ]
  },
  {
   "cell_type": "code",
   "execution_count": 30,
   "id": "4b3f144c",
   "metadata": {},
   "outputs": [
    {
     "name": "stdout",
     "output_type": "stream",
     "text": [
      "2788\n",
      "2775\n"
     ]
    }
   ],
   "source": [
    "print(len(Dataframe))\n",
    "Dataframe['Verantwoordelijke'] = Dataframe['Verantwoordelijke'].map(lambda x:eerste_woord(x))\n",
    "Dataframe = Dataframe[Dataframe['Verantwoordelijke'].notna()]\n",
    "print(len(Dataframe))"
   ]
  },
  {
   "cell_type": "markdown",
   "id": "348cf4d0",
   "metadata": {},
   "source": [
    "Statistieken over de verzoekdatum:"
   ]
  },
  {
   "cell_type": "code",
   "execution_count": 31,
   "id": "c72af32a",
   "metadata": {},
   "outputs": [
    {
     "name": "stdout",
     "output_type": "stream",
     "text": [
      "2775 Totaal aantal documenten\n",
      "1922 Aantal documenten zonder vindbare verzoekdatum\n",
      "315 Documenten die niet leesbaar zijn (images)\n",
      "11.351351351351353 % fotos\n",
      "19.387387387387385 % met verzoekdatum\n"
     ]
    }
   ],
   "source": [
    "x = Dataframe['verzoekdatum'].values.tolist()\n",
    "\n",
    "total = len(x)\n",
    "nans = len([i for i in x if i is np.nan])\n",
    "imgs = len([i for i in x if i == 'image'])\n",
    "\n",
    "print(f'{total} Totaal aantal documenten')\n",
    "print(f\"{nans} Aantal documenten zonder vindbare verzoekdatum\")\n",
    "print(f'{imgs} Documenten die niet leesbaar zijn (images)')\n",
    "\n",
    "dates = total - nans - imgs\n",
    "print(str((imgs/total) * 100) + ' % fotos')\n",
    "print(str((dates/total) * 100) + ' % met verzoekdatum')"
   ]
  },
  {
   "cell_type": "markdown",
   "id": "fe44995b",
   "metadata": {},
   "source": [
    "Ik haal op dit moment alle besluiten met meerdere data weg maar er kan in de toekomst gekozen worden om dan de eerste of laatste datum te nemen afhankelijk van wat wenselijk is."
   ]
  },
  {
   "cell_type": "code",
   "execution_count": 34,
   "id": "03032c53",
   "metadata": {},
   "outputs": [
    {
     "data": {
      "text/html": [
       "<div>\n",
       "<style scoped>\n",
       "    .dataframe tbody tr th:only-of-type {\n",
       "        vertical-align: middle;\n",
       "    }\n",
       "\n",
       "    .dataframe tbody tr th {\n",
       "        vertical-align: top;\n",
       "    }\n",
       "\n",
       "    .dataframe thead th {\n",
       "        text-align: right;\n",
       "    }\n",
       "</style>\n",
       "<table border=\"1\" class=\"dataframe\">\n",
       "  <thead>\n",
       "    <tr style=\"text-align: right;\">\n",
       "      <th></th>\n",
       "      <th>Verzoek</th>\n",
       "      <th>urls</th>\n",
       "    </tr>\n",
       "  </thead>\n",
       "  <tbody>\n",
       "    <tr>\n",
       "      <th>0</th>\n",
       "      <td>Beslissing op bezwaar Wob verzoek corresponden...</td>\n",
       "      <td>[https://open.overheid.nl/documenten/ronl-34e6...</td>\n",
       "    </tr>\n",
       "    <tr>\n",
       "      <th>1</th>\n",
       "      <td>Beslissing op bezwaar Wob-/Woo-verzoek over in...</td>\n",
       "      <td>[https://open.overheid.nl/documenten/ronl-7a0f...</td>\n",
       "    </tr>\n",
       "    <tr>\n",
       "      <th>2</th>\n",
       "      <td>Beslissing op bezwaar Wob-/Woo-verzoek over ve...</td>\n",
       "      <td>[https://open.overheid.nl/documenten/ronl-0ba9...</td>\n",
       "    </tr>\n",
       "    <tr>\n",
       "      <th>3</th>\n",
       "      <td>Beslissing op bezwaar Wob-besluit Financiën ov...</td>\n",
       "      <td>[https://open.overheid.nl/documenten/ronl-e3e1...</td>\n",
       "    </tr>\n",
       "    <tr>\n",
       "      <th>4</th>\n",
       "      <td>Beslissing op bezwaar Wob-besluit over afstemm...</td>\n",
       "      <td>[https://open.overheid.nl/documenten/ronl-07e2...</td>\n",
       "    </tr>\n",
       "    <tr>\n",
       "      <th>...</th>\n",
       "      <td>...</td>\n",
       "      <td>...</td>\n",
       "    </tr>\n",
       "    <tr>\n",
       "      <th>1128</th>\n",
       "      <td>Besluit van Wob-verzoek over productverbetering</td>\n",
       "      <td>[https://open.overheid.nl/documenten/ronl-0491...</td>\n",
       "    </tr>\n",
       "    <tr>\n",
       "      <th>1129</th>\n",
       "      <td>Woo-verzoek Evaluatiecommissie Tuitjenhorn</td>\n",
       "      <td>[https://open.overheid.nl/documenten/ronl-370d...</td>\n",
       "    </tr>\n",
       "    <tr>\n",
       "      <th>1130</th>\n",
       "      <td>Woo-verzoek over de identiteit achter anonieme...</td>\n",
       "      <td>[https://open.overheid.nl/documenten/ronl-2a0b...</td>\n",
       "    </tr>\n",
       "    <tr>\n",
       "      <th>1131</th>\n",
       "      <td>Woo-verzoek over landbouwvrijstelling in inkom...</td>\n",
       "      <td>[https://open.overheid.nl/documenten/ronl-1c09...</td>\n",
       "    </tr>\n",
       "    <tr>\n",
       "      <th>1132</th>\n",
       "      <td>Woo-verzoek over ongeval met trampoline</td>\n",
       "      <td>[https://open.overheid.nl/documenten/ronl-41c5...</td>\n",
       "    </tr>\n",
       "  </tbody>\n",
       "</table>\n",
       "<p>1133 rows × 2 columns</p>\n",
       "</div>"
      ],
      "text/plain": [
       "                                                Verzoek  \\\n",
       "0     Beslissing op bezwaar Wob verzoek corresponden...   \n",
       "1     Beslissing op bezwaar Wob-/Woo-verzoek over in...   \n",
       "2     Beslissing op bezwaar Wob-/Woo-verzoek over ve...   \n",
       "3     Beslissing op bezwaar Wob-besluit Financiën ov...   \n",
       "4     Beslissing op bezwaar Wob-besluit over afstemm...   \n",
       "...                                                 ...   \n",
       "1128    Besluit van Wob-verzoek over productverbetering   \n",
       "1129         Woo-verzoek Evaluatiecommissie Tuitjenhorn   \n",
       "1130  Woo-verzoek over de identiteit achter anonieme...   \n",
       "1131  Woo-verzoek over landbouwvrijstelling in inkom...   \n",
       "1132            Woo-verzoek over ongeval met trampoline   \n",
       "\n",
       "                                                   urls  \n",
       "0     [https://open.overheid.nl/documenten/ronl-34e6...  \n",
       "1     [https://open.overheid.nl/documenten/ronl-7a0f...  \n",
       "2     [https://open.overheid.nl/documenten/ronl-0ba9...  \n",
       "3     [https://open.overheid.nl/documenten/ronl-e3e1...  \n",
       "4     [https://open.overheid.nl/documenten/ronl-07e2...  \n",
       "...                                                 ...  \n",
       "1128  [https://open.overheid.nl/documenten/ronl-0491...  \n",
       "1129  [https://open.overheid.nl/documenten/ronl-370d...  \n",
       "1130  [https://open.overheid.nl/documenten/ronl-2a0b...  \n",
       "1131  [https://open.overheid.nl/documenten/ronl-1c09...  \n",
       "1132  [https://open.overheid.nl/documenten/ronl-41c5...  \n",
       "\n",
       "[1133 rows x 2 columns]"
      ]
     },
     "metadata": {},
     "output_type": "display_data"
    },
    {
     "data": {
      "text/html": [
       "<div>\n",
       "<style scoped>\n",
       "    .dataframe tbody tr th:only-of-type {\n",
       "        vertical-align: middle;\n",
       "    }\n",
       "\n",
       "    .dataframe tbody tr th {\n",
       "        vertical-align: top;\n",
       "    }\n",
       "\n",
       "    .dataframe thead th {\n",
       "        text-align: right;\n",
       "    }\n",
       "</style>\n",
       "<table border=\"1\" class=\"dataframe\">\n",
       "  <thead>\n",
       "    <tr style=\"text-align: right;\">\n",
       "      <th></th>\n",
       "      <th>Verzoek</th>\n",
       "      <th>docdatums</th>\n",
       "    </tr>\n",
       "  </thead>\n",
       "  <tbody>\n",
       "    <tr>\n",
       "      <th>0</th>\n",
       "      <td>Beslissing op bezwaar Wob verzoek corresponden...</td>\n",
       "      <td>2022-09-15</td>\n",
       "    </tr>\n",
       "    <tr>\n",
       "      <th>1</th>\n",
       "      <td>Beslissing op bezwaar Wob-/Woo-verzoek over in...</td>\n",
       "      <td>2022-12-23</td>\n",
       "    </tr>\n",
       "    <tr>\n",
       "      <th>2</th>\n",
       "      <td>Beslissing op bezwaar Wob-/Woo-verzoek over ve...</td>\n",
       "      <td>2023-01-27</td>\n",
       "    </tr>\n",
       "    <tr>\n",
       "      <th>3</th>\n",
       "      <td>Beslissing op bezwaar Wob-besluit Financiën ov...</td>\n",
       "      <td>2022-04-26</td>\n",
       "    </tr>\n",
       "    <tr>\n",
       "      <th>4</th>\n",
       "      <td>Beslissing op bezwaar Wob-besluit over afstemm...</td>\n",
       "      <td>2023-02-09</td>\n",
       "    </tr>\n",
       "    <tr>\n",
       "      <th>...</th>\n",
       "      <td>...</td>\n",
       "      <td>...</td>\n",
       "    </tr>\n",
       "    <tr>\n",
       "      <th>1127</th>\n",
       "      <td>Besluit van 20 juli 2022 op het verzoek inzake...</td>\n",
       "      <td>2022-07-20</td>\n",
       "    </tr>\n",
       "    <tr>\n",
       "      <th>1129</th>\n",
       "      <td>Woo-verzoek Evaluatiecommissie Tuitjenhorn</td>\n",
       "      <td>2022-06-30</td>\n",
       "    </tr>\n",
       "    <tr>\n",
       "      <th>1130</th>\n",
       "      <td>Woo-verzoek over de identiteit achter anonieme...</td>\n",
       "      <td>2022-08-25</td>\n",
       "    </tr>\n",
       "    <tr>\n",
       "      <th>1131</th>\n",
       "      <td>Woo-verzoek over landbouwvrijstelling in inkom...</td>\n",
       "      <td>2023-02-27</td>\n",
       "    </tr>\n",
       "    <tr>\n",
       "      <th>1132</th>\n",
       "      <td>Woo-verzoek over ongeval met trampoline</td>\n",
       "      <td>2022-08-23</td>\n",
       "    </tr>\n",
       "  </tbody>\n",
       "</table>\n",
       "<p>1112 rows × 2 columns</p>\n",
       "</div>"
      ],
      "text/plain": [
       "                                                Verzoek  docdatums\n",
       "0     Beslissing op bezwaar Wob verzoek corresponden... 2022-09-15\n",
       "1     Beslissing op bezwaar Wob-/Woo-verzoek over in... 2022-12-23\n",
       "2     Beslissing op bezwaar Wob-/Woo-verzoek over ve... 2023-01-27\n",
       "3     Beslissing op bezwaar Wob-besluit Financiën ov... 2022-04-26\n",
       "4     Beslissing op bezwaar Wob-besluit over afstemm... 2023-02-09\n",
       "...                                                 ...        ...\n",
       "1127  Besluit van 20 juli 2022 op het verzoek inzake... 2022-07-20\n",
       "1129         Woo-verzoek Evaluatiecommissie Tuitjenhorn 2022-06-30\n",
       "1130  Woo-verzoek over de identiteit achter anonieme... 2022-08-25\n",
       "1131  Woo-verzoek over landbouwvrijstelling in inkom... 2023-02-27\n",
       "1132            Woo-verzoek over ongeval met trampoline 2022-08-23\n",
       "\n",
       "[1112 rows x 2 columns]"
      ]
     },
     "metadata": {},
     "output_type": "display_data"
    },
    {
     "data": {
      "text/html": [
       "<div>\n",
       "<style scoped>\n",
       "    .dataframe tbody tr th:only-of-type {\n",
       "        vertical-align: middle;\n",
       "    }\n",
       "\n",
       "    .dataframe tbody tr th {\n",
       "        vertical-align: top;\n",
       "    }\n",
       "\n",
       "    .dataframe thead th {\n",
       "        text-align: right;\n",
       "    }\n",
       "</style>\n",
       "<table border=\"1\" class=\"dataframe\">\n",
       "  <thead>\n",
       "    <tr style=\"text-align: right;\">\n",
       "      <th></th>\n",
       "      <th>Verzoek</th>\n",
       "      <th>verdatums</th>\n",
       "    </tr>\n",
       "  </thead>\n",
       "  <tbody>\n",
       "    <tr>\n",
       "      <th>0</th>\n",
       "      <td>Beslissing op bezwaar Wob verzoek corresponden...</td>\n",
       "      <td>[nan, nan, nan]</td>\n",
       "    </tr>\n",
       "    <tr>\n",
       "      <th>1</th>\n",
       "      <td>Beslissing op bezwaar Wob-/Woo-verzoek over in...</td>\n",
       "      <td>[25-07-2022, nan, nan]</td>\n",
       "    </tr>\n",
       "    <tr>\n",
       "      <th>2</th>\n",
       "      <td>Beslissing op bezwaar Wob-/Woo-verzoek over ve...</td>\n",
       "      <td>[image, 02-11-2021, nan]</td>\n",
       "    </tr>\n",
       "    <tr>\n",
       "      <th>3</th>\n",
       "      <td>Beslissing op bezwaar Wob-besluit Financiën ov...</td>\n",
       "      <td>[nan, nan]</td>\n",
       "    </tr>\n",
       "    <tr>\n",
       "      <th>4</th>\n",
       "      <td>Beslissing op bezwaar Wob-besluit over afstemm...</td>\n",
       "      <td>[nan, nan]</td>\n",
       "    </tr>\n",
       "    <tr>\n",
       "      <th>...</th>\n",
       "      <td>...</td>\n",
       "      <td>...</td>\n",
       "    </tr>\n",
       "    <tr>\n",
       "      <th>1128</th>\n",
       "      <td>Besluit van Wob-verzoek over productverbetering</td>\n",
       "      <td>[nan, nan]</td>\n",
       "    </tr>\n",
       "    <tr>\n",
       "      <th>1129</th>\n",
       "      <td>Woo-verzoek Evaluatiecommissie Tuitjenhorn</td>\n",
       "      <td>[22-10-2021, nan]</td>\n",
       "    </tr>\n",
       "    <tr>\n",
       "      <th>1130</th>\n",
       "      <td>Woo-verzoek over de identiteit achter anonieme...</td>\n",
       "      <td>[02-08-2022]</td>\n",
       "    </tr>\n",
       "    <tr>\n",
       "      <th>1131</th>\n",
       "      <td>Woo-verzoek over landbouwvrijstelling in inkom...</td>\n",
       "      <td>[nan, 07-08-2022, nan]</td>\n",
       "    </tr>\n",
       "    <tr>\n",
       "      <th>1132</th>\n",
       "      <td>Woo-verzoek over ongeval met trampoline</td>\n",
       "      <td>[11-05-2022]</td>\n",
       "    </tr>\n",
       "  </tbody>\n",
       "</table>\n",
       "<p>1133 rows × 2 columns</p>\n",
       "</div>"
      ],
      "text/plain": [
       "                                                Verzoek  \\\n",
       "0     Beslissing op bezwaar Wob verzoek corresponden...   \n",
       "1     Beslissing op bezwaar Wob-/Woo-verzoek over in...   \n",
       "2     Beslissing op bezwaar Wob-/Woo-verzoek over ve...   \n",
       "3     Beslissing op bezwaar Wob-besluit Financiën ov...   \n",
       "4     Beslissing op bezwaar Wob-besluit over afstemm...   \n",
       "...                                                 ...   \n",
       "1128    Besluit van Wob-verzoek over productverbetering   \n",
       "1129         Woo-verzoek Evaluatiecommissie Tuitjenhorn   \n",
       "1130  Woo-verzoek over de identiteit achter anonieme...   \n",
       "1131  Woo-verzoek over landbouwvrijstelling in inkom...   \n",
       "1132            Woo-verzoek over ongeval met trampoline   \n",
       "\n",
       "                     verdatums  \n",
       "0              [nan, nan, nan]  \n",
       "1       [25-07-2022, nan, nan]  \n",
       "2     [image, 02-11-2021, nan]  \n",
       "3                   [nan, nan]  \n",
       "4                   [nan, nan]  \n",
       "...                        ...  \n",
       "1128                [nan, nan]  \n",
       "1129         [22-10-2021, nan]  \n",
       "1130              [02-08-2022]  \n",
       "1131    [nan, 07-08-2022, nan]  \n",
       "1132              [11-05-2022]  \n",
       "\n",
       "[1133 rows x 2 columns]"
      ]
     },
     "metadata": {},
     "output_type": "display_data"
    }
   ],
   "source": [
    "df_urls = Dataframe.groupby(['Verzoek'])['url'].apply(list).reset_index(name='urls')\n",
    "# deelbesluiten hebben mogelijk meerdere data dus ook deze nemen we niet of later pas mee!\n",
    "df_documentdatums = Dataframe.groupby(['Verzoek'])['Documentdatum'].apply(set).reset_index(name='docdatums')\n",
    "df_documentdatums = df_documentdatums[df_documentdatums['docdatums'].map(lambda x: len(x)) == 1]\n",
    "df_documentdatums['docdatums'] = df_documentdatums['docdatums'].apply(lambda x: list(x)[0])\n",
    "\n",
    "df_verzoekdatums = Dataframe.groupby(['Verzoek'])['verzoekdatum'].apply(list).reset_index(name='verdatums')\n",
    "df_verantwoordelijke = Dataframe.groupby(['Verzoek'])['Verantwoordelijke'].apply(set).reset_index(name='verantwoordelijke')\n",
    "df_verantwoordelijke['verantwoordelijke'] = df_verantwoordelijke['verantwoordelijke'].apply(lambda x: list(x)[0])\n",
    "\n",
    "display(df_urls)\n",
    "display(df_documentdatums)\n",
    "display(df_verzoekdatums)"
   ]
  },
  {
   "cell_type": "code",
   "execution_count": 35,
   "id": "658666be",
   "metadata": {},
   "outputs": [
    {
     "data": {
      "text/html": [
       "<div>\n",
       "<style scoped>\n",
       "    .dataframe tbody tr th:only-of-type {\n",
       "        vertical-align: middle;\n",
       "    }\n",
       "\n",
       "    .dataframe tbody tr th {\n",
       "        vertical-align: top;\n",
       "    }\n",
       "\n",
       "    .dataframe thead th {\n",
       "        text-align: right;\n",
       "    }\n",
       "</style>\n",
       "<table border=\"1\" class=\"dataframe\">\n",
       "  <thead>\n",
       "    <tr style=\"text-align: right;\">\n",
       "      <th></th>\n",
       "      <th>Verzoek</th>\n",
       "      <th>verantwoordelijke</th>\n",
       "    </tr>\n",
       "  </thead>\n",
       "  <tbody>\n",
       "    <tr>\n",
       "      <th>0</th>\n",
       "      <td>Beslissing op bezwaar Wob verzoek corresponden...</td>\n",
       "      <td>Ministerie van Infrastructuur en Waterstaat</td>\n",
       "    </tr>\n",
       "    <tr>\n",
       "      <th>1</th>\n",
       "      <td>Beslissing op bezwaar Wob-/Woo-verzoek over in...</td>\n",
       "      <td>Ministerie van Infrastructuur en Waterstaat</td>\n",
       "    </tr>\n",
       "    <tr>\n",
       "      <th>2</th>\n",
       "      <td>Beslissing op bezwaar Wob-/Woo-verzoek over ve...</td>\n",
       "      <td>Ministerie van Landbouw, Natuur en Voedselkwal...</td>\n",
       "    </tr>\n",
       "    <tr>\n",
       "      <th>3</th>\n",
       "      <td>Beslissing op bezwaar Wob-besluit Financiën ov...</td>\n",
       "      <td>Ministerie van Financiën</td>\n",
       "    </tr>\n",
       "    <tr>\n",
       "      <th>4</th>\n",
       "      <td>Beslissing op bezwaar Wob-besluit over afstemm...</td>\n",
       "      <td>Ministerie van Financiën</td>\n",
       "    </tr>\n",
       "    <tr>\n",
       "      <th>...</th>\n",
       "      <td>...</td>\n",
       "      <td>...</td>\n",
       "    </tr>\n",
       "    <tr>\n",
       "      <th>1128</th>\n",
       "      <td>Besluit van Wob-verzoek over productverbetering</td>\n",
       "      <td>Ministerie van Volksgezondheid, Welzijn en Sport</td>\n",
       "    </tr>\n",
       "    <tr>\n",
       "      <th>1129</th>\n",
       "      <td>Woo-verzoek Evaluatiecommissie Tuitjenhorn</td>\n",
       "      <td>Ministerie van Justitie en Veiligheid</td>\n",
       "    </tr>\n",
       "    <tr>\n",
       "      <th>1130</th>\n",
       "      <td>Woo-verzoek over de identiteit achter anonieme...</td>\n",
       "      <td>Ministerie van Landbouw, Natuur en Voedselkwal...</td>\n",
       "    </tr>\n",
       "    <tr>\n",
       "      <th>1131</th>\n",
       "      <td>Woo-verzoek over landbouwvrijstelling in inkom...</td>\n",
       "      <td>Ministerie van Financiën</td>\n",
       "    </tr>\n",
       "    <tr>\n",
       "      <th>1132</th>\n",
       "      <td>Woo-verzoek over ongeval met trampoline</td>\n",
       "      <td>Ministerie van Landbouw, Natuur en Voedselkwal...</td>\n",
       "    </tr>\n",
       "  </tbody>\n",
       "</table>\n",
       "<p>1133 rows × 2 columns</p>\n",
       "</div>"
      ],
      "text/plain": [
       "                                                Verzoek  \\\n",
       "0     Beslissing op bezwaar Wob verzoek corresponden...   \n",
       "1     Beslissing op bezwaar Wob-/Woo-verzoek over in...   \n",
       "2     Beslissing op bezwaar Wob-/Woo-verzoek over ve...   \n",
       "3     Beslissing op bezwaar Wob-besluit Financiën ov...   \n",
       "4     Beslissing op bezwaar Wob-besluit over afstemm...   \n",
       "...                                                 ...   \n",
       "1128    Besluit van Wob-verzoek over productverbetering   \n",
       "1129         Woo-verzoek Evaluatiecommissie Tuitjenhorn   \n",
       "1130  Woo-verzoek over de identiteit achter anonieme...   \n",
       "1131  Woo-verzoek over landbouwvrijstelling in inkom...   \n",
       "1132            Woo-verzoek over ongeval met trampoline   \n",
       "\n",
       "                                      verantwoordelijke  \n",
       "0           Ministerie van Infrastructuur en Waterstaat  \n",
       "1           Ministerie van Infrastructuur en Waterstaat  \n",
       "2     Ministerie van Landbouw, Natuur en Voedselkwal...  \n",
       "3                              Ministerie van Financiën  \n",
       "4                              Ministerie van Financiën  \n",
       "...                                                 ...  \n",
       "1128   Ministerie van Volksgezondheid, Welzijn en Sport  \n",
       "1129              Ministerie van Justitie en Veiligheid  \n",
       "1130  Ministerie van Landbouw, Natuur en Voedselkwal...  \n",
       "1131                           Ministerie van Financiën  \n",
       "1132  Ministerie van Landbouw, Natuur en Voedselkwal...  \n",
       "\n",
       "[1133 rows x 2 columns]"
      ]
     },
     "metadata": {},
     "output_type": "display_data"
    }
   ],
   "source": [
    "display(df_verantwoordelijke)"
   ]
  },
  {
   "cell_type": "code",
   "execution_count": 36,
   "id": "bc971212",
   "metadata": {},
   "outputs": [],
   "source": [
    "df_documentdatums = df_documentdatums.join(df_urls.set_index('Verzoek'), on='Verzoek')\n",
    "df = df_documentdatums.join(df_verzoekdatums.set_index('Verzoek'), on='Verzoek')\n",
    "df = df.join(df_verantwoordelijke.set_index('Verzoek'), on='Verzoek')"
   ]
  },
  {
   "cell_type": "code",
   "execution_count": 37,
   "id": "b4146a89",
   "metadata": {
    "scrolled": false
   },
   "outputs": [
    {
     "data": {
      "text/html": [
       "<div>\n",
       "<style scoped>\n",
       "    .dataframe tbody tr th:only-of-type {\n",
       "        vertical-align: middle;\n",
       "    }\n",
       "\n",
       "    .dataframe tbody tr th {\n",
       "        vertical-align: top;\n",
       "    }\n",
       "\n",
       "    .dataframe thead th {\n",
       "        text-align: right;\n",
       "    }\n",
       "</style>\n",
       "<table border=\"1\" class=\"dataframe\">\n",
       "  <thead>\n",
       "    <tr style=\"text-align: right;\">\n",
       "      <th></th>\n",
       "      <th>Verzoek</th>\n",
       "      <th>docdatums</th>\n",
       "      <th>urls</th>\n",
       "      <th>verdatums</th>\n",
       "      <th>verantwoordelijke</th>\n",
       "    </tr>\n",
       "  </thead>\n",
       "  <tbody>\n",
       "    <tr>\n",
       "      <th>0</th>\n",
       "      <td>Beslissing op bezwaar Wob verzoek corresponden...</td>\n",
       "      <td>2022-09-15</td>\n",
       "      <td>[https://open.overheid.nl/documenten/ronl-34e6...</td>\n",
       "      <td>[nan, nan, nan]</td>\n",
       "      <td>Ministerie van Infrastructuur en Waterstaat</td>\n",
       "    </tr>\n",
       "    <tr>\n",
       "      <th>1</th>\n",
       "      <td>Beslissing op bezwaar Wob-/Woo-verzoek over in...</td>\n",
       "      <td>2022-12-23</td>\n",
       "      <td>[https://open.overheid.nl/documenten/ronl-7a0f...</td>\n",
       "      <td>[25-07-2022, nan, nan]</td>\n",
       "      <td>Ministerie van Infrastructuur en Waterstaat</td>\n",
       "    </tr>\n",
       "    <tr>\n",
       "      <th>2</th>\n",
       "      <td>Beslissing op bezwaar Wob-/Woo-verzoek over ve...</td>\n",
       "      <td>2023-01-27</td>\n",
       "      <td>[https://open.overheid.nl/documenten/ronl-0ba9...</td>\n",
       "      <td>[image, 02-11-2021, nan]</td>\n",
       "      <td>Ministerie van Landbouw, Natuur en Voedselkwal...</td>\n",
       "    </tr>\n",
       "    <tr>\n",
       "      <th>3</th>\n",
       "      <td>Beslissing op bezwaar Wob-besluit Financiën ov...</td>\n",
       "      <td>2022-04-26</td>\n",
       "      <td>[https://open.overheid.nl/documenten/ronl-e3e1...</td>\n",
       "      <td>[nan, nan]</td>\n",
       "      <td>Ministerie van Financiën</td>\n",
       "    </tr>\n",
       "    <tr>\n",
       "      <th>4</th>\n",
       "      <td>Beslissing op bezwaar Wob-besluit over afstemm...</td>\n",
       "      <td>2023-02-09</td>\n",
       "      <td>[https://open.overheid.nl/documenten/ronl-07e2...</td>\n",
       "      <td>[nan, nan]</td>\n",
       "      <td>Ministerie van Financiën</td>\n",
       "    </tr>\n",
       "    <tr>\n",
       "      <th>...</th>\n",
       "      <td>...</td>\n",
       "      <td>...</td>\n",
       "      <td>...</td>\n",
       "      <td>...</td>\n",
       "      <td>...</td>\n",
       "    </tr>\n",
       "    <tr>\n",
       "      <th>1127</th>\n",
       "      <td>Besluit van 20 juli 2022 op het verzoek inzake...</td>\n",
       "      <td>2022-07-20</td>\n",
       "      <td>[https://open.overheid.nl/documenten/ronl-7517...</td>\n",
       "      <td>[image]</td>\n",
       "      <td>Ministerie van Justitie en Veiligheid</td>\n",
       "    </tr>\n",
       "    <tr>\n",
       "      <th>1129</th>\n",
       "      <td>Woo-verzoek Evaluatiecommissie Tuitjenhorn</td>\n",
       "      <td>2022-06-30</td>\n",
       "      <td>[https://open.overheid.nl/documenten/ronl-370d...</td>\n",
       "      <td>[22-10-2021, nan]</td>\n",
       "      <td>Ministerie van Justitie en Veiligheid</td>\n",
       "    </tr>\n",
       "    <tr>\n",
       "      <th>1130</th>\n",
       "      <td>Woo-verzoek over de identiteit achter anonieme...</td>\n",
       "      <td>2022-08-25</td>\n",
       "      <td>[https://open.overheid.nl/documenten/ronl-2a0b...</td>\n",
       "      <td>[02-08-2022]</td>\n",
       "      <td>Ministerie van Landbouw, Natuur en Voedselkwal...</td>\n",
       "    </tr>\n",
       "    <tr>\n",
       "      <th>1131</th>\n",
       "      <td>Woo-verzoek over landbouwvrijstelling in inkom...</td>\n",
       "      <td>2023-02-27</td>\n",
       "      <td>[https://open.overheid.nl/documenten/ronl-1c09...</td>\n",
       "      <td>[nan, 07-08-2022, nan]</td>\n",
       "      <td>Ministerie van Financiën</td>\n",
       "    </tr>\n",
       "    <tr>\n",
       "      <th>1132</th>\n",
       "      <td>Woo-verzoek over ongeval met trampoline</td>\n",
       "      <td>2022-08-23</td>\n",
       "      <td>[https://open.overheid.nl/documenten/ronl-41c5...</td>\n",
       "      <td>[11-05-2022]</td>\n",
       "      <td>Ministerie van Landbouw, Natuur en Voedselkwal...</td>\n",
       "    </tr>\n",
       "  </tbody>\n",
       "</table>\n",
       "<p>1112 rows × 5 columns</p>\n",
       "</div>"
      ],
      "text/plain": [
       "                                                Verzoek  docdatums  \\\n",
       "0     Beslissing op bezwaar Wob verzoek corresponden... 2022-09-15   \n",
       "1     Beslissing op bezwaar Wob-/Woo-verzoek over in... 2022-12-23   \n",
       "2     Beslissing op bezwaar Wob-/Woo-verzoek over ve... 2023-01-27   \n",
       "3     Beslissing op bezwaar Wob-besluit Financiën ov... 2022-04-26   \n",
       "4     Beslissing op bezwaar Wob-besluit over afstemm... 2023-02-09   \n",
       "...                                                 ...        ...   \n",
       "1127  Besluit van 20 juli 2022 op het verzoek inzake... 2022-07-20   \n",
       "1129         Woo-verzoek Evaluatiecommissie Tuitjenhorn 2022-06-30   \n",
       "1130  Woo-verzoek over de identiteit achter anonieme... 2022-08-25   \n",
       "1131  Woo-verzoek over landbouwvrijstelling in inkom... 2023-02-27   \n",
       "1132            Woo-verzoek over ongeval met trampoline 2022-08-23   \n",
       "\n",
       "                                                   urls  \\\n",
       "0     [https://open.overheid.nl/documenten/ronl-34e6...   \n",
       "1     [https://open.overheid.nl/documenten/ronl-7a0f...   \n",
       "2     [https://open.overheid.nl/documenten/ronl-0ba9...   \n",
       "3     [https://open.overheid.nl/documenten/ronl-e3e1...   \n",
       "4     [https://open.overheid.nl/documenten/ronl-07e2...   \n",
       "...                                                 ...   \n",
       "1127  [https://open.overheid.nl/documenten/ronl-7517...   \n",
       "1129  [https://open.overheid.nl/documenten/ronl-370d...   \n",
       "1130  [https://open.overheid.nl/documenten/ronl-2a0b...   \n",
       "1131  [https://open.overheid.nl/documenten/ronl-1c09...   \n",
       "1132  [https://open.overheid.nl/documenten/ronl-41c5...   \n",
       "\n",
       "                     verdatums  \\\n",
       "0              [nan, nan, nan]   \n",
       "1       [25-07-2022, nan, nan]   \n",
       "2     [image, 02-11-2021, nan]   \n",
       "3                   [nan, nan]   \n",
       "4                   [nan, nan]   \n",
       "...                        ...   \n",
       "1127                   [image]   \n",
       "1129         [22-10-2021, nan]   \n",
       "1130              [02-08-2022]   \n",
       "1131    [nan, 07-08-2022, nan]   \n",
       "1132              [11-05-2022]   \n",
       "\n",
       "                                      verantwoordelijke  \n",
       "0           Ministerie van Infrastructuur en Waterstaat  \n",
       "1           Ministerie van Infrastructuur en Waterstaat  \n",
       "2     Ministerie van Landbouw, Natuur en Voedselkwal...  \n",
       "3                              Ministerie van Financiën  \n",
       "4                              Ministerie van Financiën  \n",
       "...                                                 ...  \n",
       "1127              Ministerie van Justitie en Veiligheid  \n",
       "1129              Ministerie van Justitie en Veiligheid  \n",
       "1130  Ministerie van Landbouw, Natuur en Voedselkwal...  \n",
       "1131                           Ministerie van Financiën  \n",
       "1132  Ministerie van Landbouw, Natuur en Voedselkwal...  \n",
       "\n",
       "[1112 rows x 5 columns]"
      ]
     },
     "metadata": {},
     "output_type": "display_data"
    }
   ],
   "source": [
    "display(df)"
   ]
  },
  {
   "cell_type": "code",
   "execution_count": 39,
   "id": "483eea0f",
   "metadata": {},
   "outputs": [
    {
     "data": {
      "text/html": [
       "<div>\n",
       "<style scoped>\n",
       "    .dataframe tbody tr th:only-of-type {\n",
       "        vertical-align: middle;\n",
       "    }\n",
       "\n",
       "    .dataframe tbody tr th {\n",
       "        vertical-align: top;\n",
       "    }\n",
       "\n",
       "    .dataframe thead th {\n",
       "        text-align: right;\n",
       "    }\n",
       "</style>\n",
       "<table border=\"1\" class=\"dataframe\">\n",
       "  <thead>\n",
       "    <tr style=\"text-align: right;\">\n",
       "      <th></th>\n",
       "      <th>Verzoek</th>\n",
       "      <th>docdatums</th>\n",
       "      <th>urls</th>\n",
       "      <th>verdatums</th>\n",
       "      <th>verantwoordelijke</th>\n",
       "    </tr>\n",
       "  </thead>\n",
       "  <tbody>\n",
       "    <tr>\n",
       "      <th>0</th>\n",
       "      <td>Beslissing op bezwaar Wob verzoek corresponden...</td>\n",
       "      <td>2022-09-15</td>\n",
       "      <td>[https://open.overheid.nl/documenten/ronl-34e6...</td>\n",
       "      <td>[nan, nan, nan]</td>\n",
       "      <td>Ministerie van Infrastructuur en Waterstaat</td>\n",
       "    </tr>\n",
       "    <tr>\n",
       "      <th>1</th>\n",
       "      <td>Beslissing op bezwaar Wob-/Woo-verzoek over in...</td>\n",
       "      <td>2022-12-23</td>\n",
       "      <td>[https://open.overheid.nl/documenten/ronl-7a0f...</td>\n",
       "      <td>25-07-2022</td>\n",
       "      <td>Ministerie van Infrastructuur en Waterstaat</td>\n",
       "    </tr>\n",
       "    <tr>\n",
       "      <th>2</th>\n",
       "      <td>Beslissing op bezwaar Wob-/Woo-verzoek over ve...</td>\n",
       "      <td>2023-01-27</td>\n",
       "      <td>[https://open.overheid.nl/documenten/ronl-0ba9...</td>\n",
       "      <td>02-11-2021</td>\n",
       "      <td>Ministerie van Landbouw, Natuur en Voedselkwal...</td>\n",
       "    </tr>\n",
       "    <tr>\n",
       "      <th>3</th>\n",
       "      <td>Beslissing op bezwaar Wob-besluit Financiën ov...</td>\n",
       "      <td>2022-04-26</td>\n",
       "      <td>[https://open.overheid.nl/documenten/ronl-e3e1...</td>\n",
       "      <td>[nan, nan]</td>\n",
       "      <td>Ministerie van Financiën</td>\n",
       "    </tr>\n",
       "    <tr>\n",
       "      <th>4</th>\n",
       "      <td>Beslissing op bezwaar Wob-besluit over afstemm...</td>\n",
       "      <td>2023-02-09</td>\n",
       "      <td>[https://open.overheid.nl/documenten/ronl-07e2...</td>\n",
       "      <td>[nan, nan]</td>\n",
       "      <td>Ministerie van Financiën</td>\n",
       "    </tr>\n",
       "    <tr>\n",
       "      <th>...</th>\n",
       "      <td>...</td>\n",
       "      <td>...</td>\n",
       "      <td>...</td>\n",
       "      <td>...</td>\n",
       "      <td>...</td>\n",
       "    </tr>\n",
       "    <tr>\n",
       "      <th>1127</th>\n",
       "      <td>Besluit van 20 juli 2022 op het verzoek inzake...</td>\n",
       "      <td>2022-07-20</td>\n",
       "      <td>[https://open.overheid.nl/documenten/ronl-7517...</td>\n",
       "      <td>[image]</td>\n",
       "      <td>Ministerie van Justitie en Veiligheid</td>\n",
       "    </tr>\n",
       "    <tr>\n",
       "      <th>1129</th>\n",
       "      <td>Woo-verzoek Evaluatiecommissie Tuitjenhorn</td>\n",
       "      <td>2022-06-30</td>\n",
       "      <td>[https://open.overheid.nl/documenten/ronl-370d...</td>\n",
       "      <td>22-10-2021</td>\n",
       "      <td>Ministerie van Justitie en Veiligheid</td>\n",
       "    </tr>\n",
       "    <tr>\n",
       "      <th>1130</th>\n",
       "      <td>Woo-verzoek over de identiteit achter anonieme...</td>\n",
       "      <td>2022-08-25</td>\n",
       "      <td>[https://open.overheid.nl/documenten/ronl-2a0b...</td>\n",
       "      <td>02-08-2022</td>\n",
       "      <td>Ministerie van Landbouw, Natuur en Voedselkwal...</td>\n",
       "    </tr>\n",
       "    <tr>\n",
       "      <th>1131</th>\n",
       "      <td>Woo-verzoek over landbouwvrijstelling in inkom...</td>\n",
       "      <td>2023-02-27</td>\n",
       "      <td>[https://open.overheid.nl/documenten/ronl-1c09...</td>\n",
       "      <td>07-08-2022</td>\n",
       "      <td>Ministerie van Financiën</td>\n",
       "    </tr>\n",
       "    <tr>\n",
       "      <th>1132</th>\n",
       "      <td>Woo-verzoek over ongeval met trampoline</td>\n",
       "      <td>2022-08-23</td>\n",
       "      <td>[https://open.overheid.nl/documenten/ronl-41c5...</td>\n",
       "      <td>11-05-2022</td>\n",
       "      <td>Ministerie van Landbouw, Natuur en Voedselkwal...</td>\n",
       "    </tr>\n",
       "  </tbody>\n",
       "</table>\n",
       "<p>1112 rows × 5 columns</p>\n",
       "</div>"
      ],
      "text/plain": [
       "                                                Verzoek  docdatums  \\\n",
       "0     Beslissing op bezwaar Wob verzoek corresponden... 2022-09-15   \n",
       "1     Beslissing op bezwaar Wob-/Woo-verzoek over in... 2022-12-23   \n",
       "2     Beslissing op bezwaar Wob-/Woo-verzoek over ve... 2023-01-27   \n",
       "3     Beslissing op bezwaar Wob-besluit Financiën ov... 2022-04-26   \n",
       "4     Beslissing op bezwaar Wob-besluit over afstemm... 2023-02-09   \n",
       "...                                                 ...        ...   \n",
       "1127  Besluit van 20 juli 2022 op het verzoek inzake... 2022-07-20   \n",
       "1129         Woo-verzoek Evaluatiecommissie Tuitjenhorn 2022-06-30   \n",
       "1130  Woo-verzoek over de identiteit achter anonieme... 2022-08-25   \n",
       "1131  Woo-verzoek over landbouwvrijstelling in inkom... 2023-02-27   \n",
       "1132            Woo-verzoek over ongeval met trampoline 2022-08-23   \n",
       "\n",
       "                                                   urls        verdatums  \\\n",
       "0     [https://open.overheid.nl/documenten/ronl-34e6...  [nan, nan, nan]   \n",
       "1     [https://open.overheid.nl/documenten/ronl-7a0f...       25-07-2022   \n",
       "2     [https://open.overheid.nl/documenten/ronl-0ba9...       02-11-2021   \n",
       "3     [https://open.overheid.nl/documenten/ronl-e3e1...       [nan, nan]   \n",
       "4     [https://open.overheid.nl/documenten/ronl-07e2...       [nan, nan]   \n",
       "...                                                 ...              ...   \n",
       "1127  [https://open.overheid.nl/documenten/ronl-7517...          [image]   \n",
       "1129  [https://open.overheid.nl/documenten/ronl-370d...       22-10-2021   \n",
       "1130  [https://open.overheid.nl/documenten/ronl-2a0b...       02-08-2022   \n",
       "1131  [https://open.overheid.nl/documenten/ronl-1c09...       07-08-2022   \n",
       "1132  [https://open.overheid.nl/documenten/ronl-41c5...       11-05-2022   \n",
       "\n",
       "                                      verantwoordelijke  \n",
       "0           Ministerie van Infrastructuur en Waterstaat  \n",
       "1           Ministerie van Infrastructuur en Waterstaat  \n",
       "2     Ministerie van Landbouw, Natuur en Voedselkwal...  \n",
       "3                              Ministerie van Financiën  \n",
       "4                              Ministerie van Financiën  \n",
       "...                                                 ...  \n",
       "1127              Ministerie van Justitie en Veiligheid  \n",
       "1129              Ministerie van Justitie en Veiligheid  \n",
       "1130  Ministerie van Landbouw, Natuur en Voedselkwal...  \n",
       "1131                           Ministerie van Financiën  \n",
       "1132  Ministerie van Landbouw, Natuur en Voedselkwal...  \n",
       "\n",
       "[1112 rows x 5 columns]"
      ]
     },
     "metadata": {},
     "output_type": "display_data"
    }
   ],
   "source": [
    "verdatums = []\n",
    "for verzoek in df['verdatums']:\n",
    "    if type(verzoek) is not list:\n",
    "        verdatums.append(verzoek)\n",
    "    \n",
    "    else:    \n",
    "        datum = [i for i in verzoek if '-' in str(i)]\n",
    "        if any(datum) == True:\n",
    "            verdatums.append(datum[0])\n",
    "        else:\n",
    "            verdatums.append(verzoek)\n",
    "\n",
    "df['verdatums'] = verdatums\n",
    "\n",
    "display(df)"
   ]
  },
  {
   "cell_type": "code",
   "execution_count": 40,
   "id": "17dfe906",
   "metadata": {},
   "outputs": [
    {
     "data": {
      "text/html": [
       "<div>\n",
       "<style scoped>\n",
       "    .dataframe tbody tr th:only-of-type {\n",
       "        vertical-align: middle;\n",
       "    }\n",
       "\n",
       "    .dataframe tbody tr th {\n",
       "        vertical-align: top;\n",
       "    }\n",
       "\n",
       "    .dataframe thead th {\n",
       "        text-align: right;\n",
       "    }\n",
       "</style>\n",
       "<table border=\"1\" class=\"dataframe\">\n",
       "  <thead>\n",
       "    <tr style=\"text-align: right;\">\n",
       "      <th></th>\n",
       "      <th>Verzoek</th>\n",
       "      <th>docdatums</th>\n",
       "      <th>urls</th>\n",
       "      <th>verdatums</th>\n",
       "      <th>verantwoordelijke</th>\n",
       "    </tr>\n",
       "  </thead>\n",
       "  <tbody>\n",
       "    <tr>\n",
       "      <th>1</th>\n",
       "      <td>Beslissing op bezwaar Wob-/Woo-verzoek over in...</td>\n",
       "      <td>2022-12-23</td>\n",
       "      <td>[https://open.overheid.nl/documenten/ronl-7a0f...</td>\n",
       "      <td>25-07-2022</td>\n",
       "      <td>Ministerie van Infrastructuur en Waterstaat</td>\n",
       "    </tr>\n",
       "    <tr>\n",
       "      <th>2</th>\n",
       "      <td>Beslissing op bezwaar Wob-/Woo-verzoek over ve...</td>\n",
       "      <td>2023-01-27</td>\n",
       "      <td>[https://open.overheid.nl/documenten/ronl-0ba9...</td>\n",
       "      <td>02-11-2021</td>\n",
       "      <td>Ministerie van Landbouw, Natuur en Voedselkwal...</td>\n",
       "    </tr>\n",
       "    <tr>\n",
       "      <th>17</th>\n",
       "      <td>Beslissing op bezwaar Woo-besluit over vraag 4...</td>\n",
       "      <td>2022-12-01</td>\n",
       "      <td>[https://open.overheid.nl/documenten/ronl-1534...</td>\n",
       "      <td>03-12-2021</td>\n",
       "      <td>Ministerie van Financiën</td>\n",
       "    </tr>\n",
       "    <tr>\n",
       "      <th>24</th>\n",
       "      <td>Beslissing op bezwaar op besluit Wob over VOC-...</td>\n",
       "      <td>2022-10-17</td>\n",
       "      <td>[https://open.overheid.nl/documenten/ronl-201b...</td>\n",
       "      <td>10-09-2021</td>\n",
       "      <td>Ministerie van Landbouw, Natuur en Voedselkwal...</td>\n",
       "    </tr>\n",
       "    <tr>\n",
       "      <th>27</th>\n",
       "      <td>Beslissing op bezwaar tegen Woo-besluit over A...</td>\n",
       "      <td>2023-02-02</td>\n",
       "      <td>[https://open.overheid.nl/documenten/ronl-f944...</td>\n",
       "      <td>09-08-2022</td>\n",
       "      <td>Ministerie van Buitenlandse Zaken</td>\n",
       "    </tr>\n",
       "    <tr>\n",
       "      <th>...</th>\n",
       "      <td>...</td>\n",
       "      <td>...</td>\n",
       "      <td>...</td>\n",
       "      <td>...</td>\n",
       "      <td>...</td>\n",
       "    </tr>\n",
       "    <tr>\n",
       "      <th>1124</th>\n",
       "      <td>Besluit over het corrigeren van onvolkomenhede...</td>\n",
       "      <td>2023-01-05</td>\n",
       "      <td>[https://open.overheid.nl/documenten/ronl-29d6...</td>\n",
       "      <td>14-10-2022</td>\n",
       "      <td>Ministerie van Landbouw, Natuur en Voedselkwal...</td>\n",
       "    </tr>\n",
       "    <tr>\n",
       "      <th>1129</th>\n",
       "      <td>Woo-verzoek Evaluatiecommissie Tuitjenhorn</td>\n",
       "      <td>2022-06-30</td>\n",
       "      <td>[https://open.overheid.nl/documenten/ronl-370d...</td>\n",
       "      <td>22-10-2021</td>\n",
       "      <td>Ministerie van Justitie en Veiligheid</td>\n",
       "    </tr>\n",
       "    <tr>\n",
       "      <th>1130</th>\n",
       "      <td>Woo-verzoek over de identiteit achter anonieme...</td>\n",
       "      <td>2022-08-25</td>\n",
       "      <td>[https://open.overheid.nl/documenten/ronl-2a0b...</td>\n",
       "      <td>02-08-2022</td>\n",
       "      <td>Ministerie van Landbouw, Natuur en Voedselkwal...</td>\n",
       "    </tr>\n",
       "    <tr>\n",
       "      <th>1131</th>\n",
       "      <td>Woo-verzoek over landbouwvrijstelling in inkom...</td>\n",
       "      <td>2023-02-27</td>\n",
       "      <td>[https://open.overheid.nl/documenten/ronl-1c09...</td>\n",
       "      <td>07-08-2022</td>\n",
       "      <td>Ministerie van Financiën</td>\n",
       "    </tr>\n",
       "    <tr>\n",
       "      <th>1132</th>\n",
       "      <td>Woo-verzoek over ongeval met trampoline</td>\n",
       "      <td>2022-08-23</td>\n",
       "      <td>[https://open.overheid.nl/documenten/ronl-41c5...</td>\n",
       "      <td>11-05-2022</td>\n",
       "      <td>Ministerie van Landbouw, Natuur en Voedselkwal...</td>\n",
       "    </tr>\n",
       "  </tbody>\n",
       "</table>\n",
       "<p>516 rows × 5 columns</p>\n",
       "</div>"
      ],
      "text/plain": [
       "                                                Verzoek  docdatums  \\\n",
       "1     Beslissing op bezwaar Wob-/Woo-verzoek over in... 2022-12-23   \n",
       "2     Beslissing op bezwaar Wob-/Woo-verzoek over ve... 2023-01-27   \n",
       "17    Beslissing op bezwaar Woo-besluit over vraag 4... 2022-12-01   \n",
       "24    Beslissing op bezwaar op besluit Wob over VOC-... 2022-10-17   \n",
       "27    Beslissing op bezwaar tegen Woo-besluit over A... 2023-02-02   \n",
       "...                                                 ...        ...   \n",
       "1124  Besluit over het corrigeren van onvolkomenhede... 2023-01-05   \n",
       "1129         Woo-verzoek Evaluatiecommissie Tuitjenhorn 2022-06-30   \n",
       "1130  Woo-verzoek over de identiteit achter anonieme... 2022-08-25   \n",
       "1131  Woo-verzoek over landbouwvrijstelling in inkom... 2023-02-27   \n",
       "1132            Woo-verzoek over ongeval met trampoline 2022-08-23   \n",
       "\n",
       "                                                   urls   verdatums  \\\n",
       "1     [https://open.overheid.nl/documenten/ronl-7a0f...  25-07-2022   \n",
       "2     [https://open.overheid.nl/documenten/ronl-0ba9...  02-11-2021   \n",
       "17    [https://open.overheid.nl/documenten/ronl-1534...  03-12-2021   \n",
       "24    [https://open.overheid.nl/documenten/ronl-201b...  10-09-2021   \n",
       "27    [https://open.overheid.nl/documenten/ronl-f944...  09-08-2022   \n",
       "...                                                 ...         ...   \n",
       "1124  [https://open.overheid.nl/documenten/ronl-29d6...  14-10-2022   \n",
       "1129  [https://open.overheid.nl/documenten/ronl-370d...  22-10-2021   \n",
       "1130  [https://open.overheid.nl/documenten/ronl-2a0b...  02-08-2022   \n",
       "1131  [https://open.overheid.nl/documenten/ronl-1c09...  07-08-2022   \n",
       "1132  [https://open.overheid.nl/documenten/ronl-41c5...  11-05-2022   \n",
       "\n",
       "                                      verantwoordelijke  \n",
       "1           Ministerie van Infrastructuur en Waterstaat  \n",
       "2     Ministerie van Landbouw, Natuur en Voedselkwal...  \n",
       "17                             Ministerie van Financiën  \n",
       "24    Ministerie van Landbouw, Natuur en Voedselkwal...  \n",
       "27                    Ministerie van Buitenlandse Zaken  \n",
       "...                                                 ...  \n",
       "1124  Ministerie van Landbouw, Natuur en Voedselkwal...  \n",
       "1129              Ministerie van Justitie en Veiligheid  \n",
       "1130  Ministerie van Landbouw, Natuur en Voedselkwal...  \n",
       "1131                           Ministerie van Financiën  \n",
       "1132  Ministerie van Landbouw, Natuur en Voedselkwal...  \n",
       "\n",
       "[516 rows x 5 columns]"
      ]
     },
     "metadata": {},
     "output_type": "display_data"
    }
   ],
   "source": [
    "df_dates = df[df['verdatums'].apply(lambda x: isinstance(x, str))]\n",
    "display(df_dates)"
   ]
  },
  {
   "cell_type": "code",
   "execution_count": 55,
   "id": "19208335",
   "metadata": {},
   "outputs": [
    {
     "data": {
      "text/html": [
       "<div>\n",
       "<style scoped>\n",
       "    .dataframe tbody tr th:only-of-type {\n",
       "        vertical-align: middle;\n",
       "    }\n",
       "\n",
       "    .dataframe tbody tr th {\n",
       "        vertical-align: top;\n",
       "    }\n",
       "\n",
       "    .dataframe thead th {\n",
       "        text-align: right;\n",
       "    }\n",
       "</style>\n",
       "<table border=\"1\" class=\"dataframe\">\n",
       "  <thead>\n",
       "    <tr style=\"text-align: right;\">\n",
       "      <th></th>\n",
       "      <th>Verzoek</th>\n",
       "      <th>docdatums</th>\n",
       "      <th>urls</th>\n",
       "      <th>verdatums</th>\n",
       "      <th>verantwoordelijke</th>\n",
       "      <th>dagen</th>\n",
       "    </tr>\n",
       "  </thead>\n",
       "  <tbody>\n",
       "    <tr>\n",
       "      <th>1</th>\n",
       "      <td>Beslissing op bezwaar Wob-/Woo-verzoek over in...</td>\n",
       "      <td>2022-12-23</td>\n",
       "      <td>[https://open.overheid.nl/documenten/ronl-7a0f...</td>\n",
       "      <td>2022-07-25</td>\n",
       "      <td>Ministerie van Infrastructuur en Waterstaat</td>\n",
       "      <td>151</td>\n",
       "    </tr>\n",
       "    <tr>\n",
       "      <th>2</th>\n",
       "      <td>Beslissing op bezwaar Wob-/Woo-verzoek over ve...</td>\n",
       "      <td>2023-01-27</td>\n",
       "      <td>[https://open.overheid.nl/documenten/ronl-0ba9...</td>\n",
       "      <td>2021-11-02</td>\n",
       "      <td>Ministerie van Landbouw, Natuur en Voedselkwal...</td>\n",
       "      <td>451</td>\n",
       "    </tr>\n",
       "    <tr>\n",
       "      <th>17</th>\n",
       "      <td>Beslissing op bezwaar Woo-besluit over vraag 4...</td>\n",
       "      <td>2022-12-01</td>\n",
       "      <td>[https://open.overheid.nl/documenten/ronl-1534...</td>\n",
       "      <td>2021-12-03</td>\n",
       "      <td>Ministerie van Financiën</td>\n",
       "      <td>363</td>\n",
       "    </tr>\n",
       "    <tr>\n",
       "      <th>24</th>\n",
       "      <td>Beslissing op bezwaar op besluit Wob over VOC-...</td>\n",
       "      <td>2022-10-17</td>\n",
       "      <td>[https://open.overheid.nl/documenten/ronl-201b...</td>\n",
       "      <td>2021-09-10</td>\n",
       "      <td>Ministerie van Landbouw, Natuur en Voedselkwal...</td>\n",
       "      <td>402</td>\n",
       "    </tr>\n",
       "    <tr>\n",
       "      <th>27</th>\n",
       "      <td>Beslissing op bezwaar tegen Woo-besluit over A...</td>\n",
       "      <td>2023-02-02</td>\n",
       "      <td>[https://open.overheid.nl/documenten/ronl-f944...</td>\n",
       "      <td>2022-08-09</td>\n",
       "      <td>Ministerie van Buitenlandse Zaken</td>\n",
       "      <td>177</td>\n",
       "    </tr>\n",
       "    <tr>\n",
       "      <th>...</th>\n",
       "      <td>...</td>\n",
       "      <td>...</td>\n",
       "      <td>...</td>\n",
       "      <td>...</td>\n",
       "      <td>...</td>\n",
       "      <td>...</td>\n",
       "    </tr>\n",
       "    <tr>\n",
       "      <th>1124</th>\n",
       "      <td>Besluit over het corrigeren van onvolkomenhede...</td>\n",
       "      <td>2023-01-05</td>\n",
       "      <td>[https://open.overheid.nl/documenten/ronl-29d6...</td>\n",
       "      <td>2022-10-14</td>\n",
       "      <td>Ministerie van Landbouw, Natuur en Voedselkwal...</td>\n",
       "      <td>83</td>\n",
       "    </tr>\n",
       "    <tr>\n",
       "      <th>1129</th>\n",
       "      <td>Woo-verzoek Evaluatiecommissie Tuitjenhorn</td>\n",
       "      <td>2022-06-30</td>\n",
       "      <td>[https://open.overheid.nl/documenten/ronl-370d...</td>\n",
       "      <td>2021-10-22</td>\n",
       "      <td>Ministerie van Justitie en Veiligheid</td>\n",
       "      <td>251</td>\n",
       "    </tr>\n",
       "    <tr>\n",
       "      <th>1130</th>\n",
       "      <td>Woo-verzoek over de identiteit achter anonieme...</td>\n",
       "      <td>2022-08-25</td>\n",
       "      <td>[https://open.overheid.nl/documenten/ronl-2a0b...</td>\n",
       "      <td>2022-08-02</td>\n",
       "      <td>Ministerie van Landbouw, Natuur en Voedselkwal...</td>\n",
       "      <td>23</td>\n",
       "    </tr>\n",
       "    <tr>\n",
       "      <th>1131</th>\n",
       "      <td>Woo-verzoek over landbouwvrijstelling in inkom...</td>\n",
       "      <td>2023-02-27</td>\n",
       "      <td>[https://open.overheid.nl/documenten/ronl-1c09...</td>\n",
       "      <td>2022-08-07</td>\n",
       "      <td>Ministerie van Financiën</td>\n",
       "      <td>204</td>\n",
       "    </tr>\n",
       "    <tr>\n",
       "      <th>1132</th>\n",
       "      <td>Woo-verzoek over ongeval met trampoline</td>\n",
       "      <td>2022-08-23</td>\n",
       "      <td>[https://open.overheid.nl/documenten/ronl-41c5...</td>\n",
       "      <td>2022-05-11</td>\n",
       "      <td>Ministerie van Landbouw, Natuur en Voedselkwal...</td>\n",
       "      <td>104</td>\n",
       "    </tr>\n",
       "  </tbody>\n",
       "</table>\n",
       "<p>514 rows × 6 columns</p>\n",
       "</div>"
      ],
      "text/plain": [
       "                                                Verzoek  docdatums  \\\n",
       "1     Beslissing op bezwaar Wob-/Woo-verzoek over in... 2022-12-23   \n",
       "2     Beslissing op bezwaar Wob-/Woo-verzoek over ve... 2023-01-27   \n",
       "17    Beslissing op bezwaar Woo-besluit over vraag 4... 2022-12-01   \n",
       "24    Beslissing op bezwaar op besluit Wob over VOC-... 2022-10-17   \n",
       "27    Beslissing op bezwaar tegen Woo-besluit over A... 2023-02-02   \n",
       "...                                                 ...        ...   \n",
       "1124  Besluit over het corrigeren van onvolkomenhede... 2023-01-05   \n",
       "1129         Woo-verzoek Evaluatiecommissie Tuitjenhorn 2022-06-30   \n",
       "1130  Woo-verzoek over de identiteit achter anonieme... 2022-08-25   \n",
       "1131  Woo-verzoek over landbouwvrijstelling in inkom... 2023-02-27   \n",
       "1132            Woo-verzoek over ongeval met trampoline 2022-08-23   \n",
       "\n",
       "                                                   urls  verdatums  \\\n",
       "1     [https://open.overheid.nl/documenten/ronl-7a0f... 2022-07-25   \n",
       "2     [https://open.overheid.nl/documenten/ronl-0ba9... 2021-11-02   \n",
       "17    [https://open.overheid.nl/documenten/ronl-1534... 2021-12-03   \n",
       "24    [https://open.overheid.nl/documenten/ronl-201b... 2021-09-10   \n",
       "27    [https://open.overheid.nl/documenten/ronl-f944... 2022-08-09   \n",
       "...                                                 ...        ...   \n",
       "1124  [https://open.overheid.nl/documenten/ronl-29d6... 2022-10-14   \n",
       "1129  [https://open.overheid.nl/documenten/ronl-370d... 2021-10-22   \n",
       "1130  [https://open.overheid.nl/documenten/ronl-2a0b... 2022-08-02   \n",
       "1131  [https://open.overheid.nl/documenten/ronl-1c09... 2022-08-07   \n",
       "1132  [https://open.overheid.nl/documenten/ronl-41c5... 2022-05-11   \n",
       "\n",
       "                                      verantwoordelijke  dagen  \n",
       "1           Ministerie van Infrastructuur en Waterstaat    151  \n",
       "2     Ministerie van Landbouw, Natuur en Voedselkwal...    451  \n",
       "17                             Ministerie van Financiën    363  \n",
       "24    Ministerie van Landbouw, Natuur en Voedselkwal...    402  \n",
       "27                    Ministerie van Buitenlandse Zaken    177  \n",
       "...                                                 ...    ...  \n",
       "1124  Ministerie van Landbouw, Natuur en Voedselkwal...     83  \n",
       "1129              Ministerie van Justitie en Veiligheid    251  \n",
       "1130  Ministerie van Landbouw, Natuur en Voedselkwal...     23  \n",
       "1131                           Ministerie van Financiën    204  \n",
       "1132  Ministerie van Landbouw, Natuur en Voedselkwal...    104  \n",
       "\n",
       "[514 rows x 6 columns]"
      ]
     },
     "metadata": {},
     "output_type": "display_data"
    }
   ],
   "source": [
    "df_dates['docdatums'] = pd.to_datetime(df_dates['docdatums'], format = '%d-%m-%Y')\n",
    "df_dates['verdatums'] = pd.to_datetime(df_dates['verdatums'], format = '%d-%m-%Y')\n",
    "\n",
    "\n",
    "df_dates['dagen'] = (df_dates['docdatums'] - df_dates['verdatums']).dt.days\n",
    "df_dates = df_dates[df_dates['dagen'] > 0]\n",
    "\n",
    "display(df_dates)"
   ]
  },
  {
   "cell_type": "markdown",
   "id": "038bb842",
   "metadata": {},
   "source": [
    "De documentdatum van deze twee is gewoon volledig fout. En is de datum van het verzoek de documentdatum geworden terwijl het besluitdocument pas weken/maanden later uit is gekomen."
   ]
  },
  {
   "cell_type": "code",
   "execution_count": 56,
   "id": "6e725f1e",
   "metadata": {},
   "outputs": [
    {
     "data": {
      "text/plain": [
       "verantwoordelijke\n",
       "Ministerie van Algemene Zaken                                 1\n",
       "Ministerie van Binnenlandse Zaken en Koninkrijksrelaties     43\n",
       "Ministerie van Buitenlandse Zaken                            33\n",
       "Ministerie van Economische Zaken en Klimaat                  53\n",
       "Ministerie van Financiën                                     80\n",
       "Ministerie van Infrastructuur en Waterstaat                  35\n",
       "Ministerie van Justitie en Veiligheid                        24\n",
       "Ministerie van Landbouw, Natuur en Voedselkwaliteit         157\n",
       "Ministerie van Onderwijs, Cultuur en Wetenschap              29\n",
       "Ministerie van Sociale Zaken en Werkgelegenheid              32\n",
       "Ministerie van Volksgezondheid, Welzijn en Sport             27\n",
       "Name: verantwoordelijke, dtype: int64"
      ]
     },
     "metadata": {},
     "output_type": "display_data"
    }
   ],
   "source": [
    "Data1 = df_dates.copy()\n",
    "Data1 = Data1.drop_duplicates(subset = ['Verzoek'])\n",
    "Data1 = Data1.groupby(['verantwoordelijke'])['verantwoordelijke'].count()\n",
    "\n",
    "display(Data1)\n",
    "\n",
    "# Data1.to_csv(r'C:\\Users\\ramon\\Downloads\\TestPlot.csv')"
   ]
  },
  {
   "cell_type": "code",
   "execution_count": 57,
   "id": "8d6e906b",
   "metadata": {
    "scrolled": true
   },
   "outputs": [
    {
     "data": {
      "application/vnd.plotly.v1+json": {
       "config": {
        "plotlyServerURL": "https://plot.ly"
       },
       "data": [
        {
         "alignmentgroup": "True",
         "cliponaxis": false,
         "hovertemplate": "x=%{x}<br>y=%{y}<extra></extra>",
         "legendgroup": "",
         "marker": {
          "color": "#636efa",
          "pattern": {
           "shape": ""
          }
         },
         "name": "",
         "offsetgroup": "",
         "orientation": "h",
         "showlegend": false,
         "textangle": 0,
         "textfont": {
          "size": 12
         },
         "textposition": "outside",
         "texttemplate": "%{x:1s}",
         "type": "bar",
         "x": [
          1,
          43,
          33,
          53,
          80,
          35,
          24,
          157,
          29,
          32,
          27
         ],
         "xaxis": "x",
         "y": [
          "Ministerie van Algemene Zaken",
          "Ministerie van Binnenlandse Zaken en Koninkrijksrelaties",
          "Ministerie van Buitenlandse Zaken",
          "Ministerie van Economische Zaken en Klimaat",
          "Ministerie van Financiën",
          "Ministerie van Infrastructuur en Waterstaat",
          "Ministerie van Justitie en Veiligheid",
          "Ministerie van Landbouw, Natuur en Voedselkwaliteit",
          "Ministerie van Onderwijs, Cultuur en Wetenschap",
          "Ministerie van Sociale Zaken en Werkgelegenheid",
          "Ministerie van Volksgezondheid, Welzijn en Sport"
         ],
         "yaxis": "y"
        }
       ],
       "layout": {
        "barmode": "relative",
        "legend": {
         "tracegroupgap": 0
        },
        "template": {
         "data": {
          "bar": [
           {
            "error_x": {
             "color": "#2a3f5f"
            },
            "error_y": {
             "color": "#2a3f5f"
            },
            "marker": {
             "line": {
              "color": "#E5ECF6",
              "width": 0.5
             },
             "pattern": {
              "fillmode": "overlay",
              "size": 10,
              "solidity": 0.2
             }
            },
            "type": "bar"
           }
          ],
          "barpolar": [
           {
            "marker": {
             "line": {
              "color": "#E5ECF6",
              "width": 0.5
             },
             "pattern": {
              "fillmode": "overlay",
              "size": 10,
              "solidity": 0.2
             }
            },
            "type": "barpolar"
           }
          ],
          "carpet": [
           {
            "aaxis": {
             "endlinecolor": "#2a3f5f",
             "gridcolor": "white",
             "linecolor": "white",
             "minorgridcolor": "white",
             "startlinecolor": "#2a3f5f"
            },
            "baxis": {
             "endlinecolor": "#2a3f5f",
             "gridcolor": "white",
             "linecolor": "white",
             "minorgridcolor": "white",
             "startlinecolor": "#2a3f5f"
            },
            "type": "carpet"
           }
          ],
          "choropleth": [
           {
            "colorbar": {
             "outlinewidth": 0,
             "ticks": ""
            },
            "type": "choropleth"
           }
          ],
          "contour": [
           {
            "colorbar": {
             "outlinewidth": 0,
             "ticks": ""
            },
            "colorscale": [
             [
              0,
              "#0d0887"
             ],
             [
              0.1111111111111111,
              "#46039f"
             ],
             [
              0.2222222222222222,
              "#7201a8"
             ],
             [
              0.3333333333333333,
              "#9c179e"
             ],
             [
              0.4444444444444444,
              "#bd3786"
             ],
             [
              0.5555555555555556,
              "#d8576b"
             ],
             [
              0.6666666666666666,
              "#ed7953"
             ],
             [
              0.7777777777777778,
              "#fb9f3a"
             ],
             [
              0.8888888888888888,
              "#fdca26"
             ],
             [
              1,
              "#f0f921"
             ]
            ],
            "type": "contour"
           }
          ],
          "contourcarpet": [
           {
            "colorbar": {
             "outlinewidth": 0,
             "ticks": ""
            },
            "type": "contourcarpet"
           }
          ],
          "heatmap": [
           {
            "colorbar": {
             "outlinewidth": 0,
             "ticks": ""
            },
            "colorscale": [
             [
              0,
              "#0d0887"
             ],
             [
              0.1111111111111111,
              "#46039f"
             ],
             [
              0.2222222222222222,
              "#7201a8"
             ],
             [
              0.3333333333333333,
              "#9c179e"
             ],
             [
              0.4444444444444444,
              "#bd3786"
             ],
             [
              0.5555555555555556,
              "#d8576b"
             ],
             [
              0.6666666666666666,
              "#ed7953"
             ],
             [
              0.7777777777777778,
              "#fb9f3a"
             ],
             [
              0.8888888888888888,
              "#fdca26"
             ],
             [
              1,
              "#f0f921"
             ]
            ],
            "type": "heatmap"
           }
          ],
          "heatmapgl": [
           {
            "colorbar": {
             "outlinewidth": 0,
             "ticks": ""
            },
            "colorscale": [
             [
              0,
              "#0d0887"
             ],
             [
              0.1111111111111111,
              "#46039f"
             ],
             [
              0.2222222222222222,
              "#7201a8"
             ],
             [
              0.3333333333333333,
              "#9c179e"
             ],
             [
              0.4444444444444444,
              "#bd3786"
             ],
             [
              0.5555555555555556,
              "#d8576b"
             ],
             [
              0.6666666666666666,
              "#ed7953"
             ],
             [
              0.7777777777777778,
              "#fb9f3a"
             ],
             [
              0.8888888888888888,
              "#fdca26"
             ],
             [
              1,
              "#f0f921"
             ]
            ],
            "type": "heatmapgl"
           }
          ],
          "histogram": [
           {
            "marker": {
             "pattern": {
              "fillmode": "overlay",
              "size": 10,
              "solidity": 0.2
             }
            },
            "type": "histogram"
           }
          ],
          "histogram2d": [
           {
            "colorbar": {
             "outlinewidth": 0,
             "ticks": ""
            },
            "colorscale": [
             [
              0,
              "#0d0887"
             ],
             [
              0.1111111111111111,
              "#46039f"
             ],
             [
              0.2222222222222222,
              "#7201a8"
             ],
             [
              0.3333333333333333,
              "#9c179e"
             ],
             [
              0.4444444444444444,
              "#bd3786"
             ],
             [
              0.5555555555555556,
              "#d8576b"
             ],
             [
              0.6666666666666666,
              "#ed7953"
             ],
             [
              0.7777777777777778,
              "#fb9f3a"
             ],
             [
              0.8888888888888888,
              "#fdca26"
             ],
             [
              1,
              "#f0f921"
             ]
            ],
            "type": "histogram2d"
           }
          ],
          "histogram2dcontour": [
           {
            "colorbar": {
             "outlinewidth": 0,
             "ticks": ""
            },
            "colorscale": [
             [
              0,
              "#0d0887"
             ],
             [
              0.1111111111111111,
              "#46039f"
             ],
             [
              0.2222222222222222,
              "#7201a8"
             ],
             [
              0.3333333333333333,
              "#9c179e"
             ],
             [
              0.4444444444444444,
              "#bd3786"
             ],
             [
              0.5555555555555556,
              "#d8576b"
             ],
             [
              0.6666666666666666,
              "#ed7953"
             ],
             [
              0.7777777777777778,
              "#fb9f3a"
             ],
             [
              0.8888888888888888,
              "#fdca26"
             ],
             [
              1,
              "#f0f921"
             ]
            ],
            "type": "histogram2dcontour"
           }
          ],
          "mesh3d": [
           {
            "colorbar": {
             "outlinewidth": 0,
             "ticks": ""
            },
            "type": "mesh3d"
           }
          ],
          "parcoords": [
           {
            "line": {
             "colorbar": {
              "outlinewidth": 0,
              "ticks": ""
             }
            },
            "type": "parcoords"
           }
          ],
          "pie": [
           {
            "automargin": true,
            "type": "pie"
           }
          ],
          "scatter": [
           {
            "marker": {
             "colorbar": {
              "outlinewidth": 0,
              "ticks": ""
             }
            },
            "type": "scatter"
           }
          ],
          "scatter3d": [
           {
            "line": {
             "colorbar": {
              "outlinewidth": 0,
              "ticks": ""
             }
            },
            "marker": {
             "colorbar": {
              "outlinewidth": 0,
              "ticks": ""
             }
            },
            "type": "scatter3d"
           }
          ],
          "scattercarpet": [
           {
            "marker": {
             "colorbar": {
              "outlinewidth": 0,
              "ticks": ""
             }
            },
            "type": "scattercarpet"
           }
          ],
          "scattergeo": [
           {
            "marker": {
             "colorbar": {
              "outlinewidth": 0,
              "ticks": ""
             }
            },
            "type": "scattergeo"
           }
          ],
          "scattergl": [
           {
            "marker": {
             "colorbar": {
              "outlinewidth": 0,
              "ticks": ""
             }
            },
            "type": "scattergl"
           }
          ],
          "scattermapbox": [
           {
            "marker": {
             "colorbar": {
              "outlinewidth": 0,
              "ticks": ""
             }
            },
            "type": "scattermapbox"
           }
          ],
          "scatterpolar": [
           {
            "marker": {
             "colorbar": {
              "outlinewidth": 0,
              "ticks": ""
             }
            },
            "type": "scatterpolar"
           }
          ],
          "scatterpolargl": [
           {
            "marker": {
             "colorbar": {
              "outlinewidth": 0,
              "ticks": ""
             }
            },
            "type": "scatterpolargl"
           }
          ],
          "scatterternary": [
           {
            "marker": {
             "colorbar": {
              "outlinewidth": 0,
              "ticks": ""
             }
            },
            "type": "scatterternary"
           }
          ],
          "surface": [
           {
            "colorbar": {
             "outlinewidth": 0,
             "ticks": ""
            },
            "colorscale": [
             [
              0,
              "#0d0887"
             ],
             [
              0.1111111111111111,
              "#46039f"
             ],
             [
              0.2222222222222222,
              "#7201a8"
             ],
             [
              0.3333333333333333,
              "#9c179e"
             ],
             [
              0.4444444444444444,
              "#bd3786"
             ],
             [
              0.5555555555555556,
              "#d8576b"
             ],
             [
              0.6666666666666666,
              "#ed7953"
             ],
             [
              0.7777777777777778,
              "#fb9f3a"
             ],
             [
              0.8888888888888888,
              "#fdca26"
             ],
             [
              1,
              "#f0f921"
             ]
            ],
            "type": "surface"
           }
          ],
          "table": [
           {
            "cells": {
             "fill": {
              "color": "#EBF0F8"
             },
             "line": {
              "color": "white"
             }
            },
            "header": {
             "fill": {
              "color": "#C8D4E3"
             },
             "line": {
              "color": "white"
             }
            },
            "type": "table"
           }
          ]
         },
         "layout": {
          "annotationdefaults": {
           "arrowcolor": "#2a3f5f",
           "arrowhead": 0,
           "arrowwidth": 1
          },
          "autotypenumbers": "strict",
          "coloraxis": {
           "colorbar": {
            "outlinewidth": 0,
            "ticks": ""
           }
          },
          "colorscale": {
           "diverging": [
            [
             0,
             "#8e0152"
            ],
            [
             0.1,
             "#c51b7d"
            ],
            [
             0.2,
             "#de77ae"
            ],
            [
             0.3,
             "#f1b6da"
            ],
            [
             0.4,
             "#fde0ef"
            ],
            [
             0.5,
             "#f7f7f7"
            ],
            [
             0.6,
             "#e6f5d0"
            ],
            [
             0.7,
             "#b8e186"
            ],
            [
             0.8,
             "#7fbc41"
            ],
            [
             0.9,
             "#4d9221"
            ],
            [
             1,
             "#276419"
            ]
           ],
           "sequential": [
            [
             0,
             "#0d0887"
            ],
            [
             0.1111111111111111,
             "#46039f"
            ],
            [
             0.2222222222222222,
             "#7201a8"
            ],
            [
             0.3333333333333333,
             "#9c179e"
            ],
            [
             0.4444444444444444,
             "#bd3786"
            ],
            [
             0.5555555555555556,
             "#d8576b"
            ],
            [
             0.6666666666666666,
             "#ed7953"
            ],
            [
             0.7777777777777778,
             "#fb9f3a"
            ],
            [
             0.8888888888888888,
             "#fdca26"
            ],
            [
             1,
             "#f0f921"
            ]
           ],
           "sequentialminus": [
            [
             0,
             "#0d0887"
            ],
            [
             0.1111111111111111,
             "#46039f"
            ],
            [
             0.2222222222222222,
             "#7201a8"
            ],
            [
             0.3333333333333333,
             "#9c179e"
            ],
            [
             0.4444444444444444,
             "#bd3786"
            ],
            [
             0.5555555555555556,
             "#d8576b"
            ],
            [
             0.6666666666666666,
             "#ed7953"
            ],
            [
             0.7777777777777778,
             "#fb9f3a"
            ],
            [
             0.8888888888888888,
             "#fdca26"
            ],
            [
             1,
             "#f0f921"
            ]
           ]
          },
          "colorway": [
           "#636efa",
           "#EF553B",
           "#00cc96",
           "#ab63fa",
           "#FFA15A",
           "#19d3f3",
           "#FF6692",
           "#B6E880",
           "#FF97FF",
           "#FECB52"
          ],
          "font": {
           "color": "#2a3f5f"
          },
          "geo": {
           "bgcolor": "white",
           "lakecolor": "white",
           "landcolor": "#E5ECF6",
           "showlakes": true,
           "showland": true,
           "subunitcolor": "white"
          },
          "hoverlabel": {
           "align": "left"
          },
          "hovermode": "closest",
          "mapbox": {
           "style": "light"
          },
          "paper_bgcolor": "white",
          "plot_bgcolor": "#E5ECF6",
          "polar": {
           "angularaxis": {
            "gridcolor": "white",
            "linecolor": "white",
            "ticks": ""
           },
           "bgcolor": "#E5ECF6",
           "radialaxis": {
            "gridcolor": "white",
            "linecolor": "white",
            "ticks": ""
           }
          },
          "scene": {
           "xaxis": {
            "backgroundcolor": "#E5ECF6",
            "gridcolor": "white",
            "gridwidth": 2,
            "linecolor": "white",
            "showbackground": true,
            "ticks": "",
            "zerolinecolor": "white"
           },
           "yaxis": {
            "backgroundcolor": "#E5ECF6",
            "gridcolor": "white",
            "gridwidth": 2,
            "linecolor": "white",
            "showbackground": true,
            "ticks": "",
            "zerolinecolor": "white"
           },
           "zaxis": {
            "backgroundcolor": "#E5ECF6",
            "gridcolor": "white",
            "gridwidth": 2,
            "linecolor": "white",
            "showbackground": true,
            "ticks": "",
            "zerolinecolor": "white"
           }
          },
          "shapedefaults": {
           "line": {
            "color": "#2a3f5f"
           }
          },
          "ternary": {
           "aaxis": {
            "gridcolor": "white",
            "linecolor": "white",
            "ticks": ""
           },
           "baxis": {
            "gridcolor": "white",
            "linecolor": "white",
            "ticks": ""
           },
           "bgcolor": "#E5ECF6",
           "caxis": {
            "gridcolor": "white",
            "linecolor": "white",
            "ticks": ""
           }
          },
          "title": {
           "x": 0.05
          },
          "xaxis": {
           "automargin": true,
           "gridcolor": "white",
           "linecolor": "white",
           "ticks": "",
           "title": {
            "standoff": 15
           },
           "zerolinecolor": "white",
           "zerolinewidth": 2
          },
          "yaxis": {
           "automargin": true,
           "gridcolor": "white",
           "linecolor": "white",
           "ticks": "",
           "title": {
            "standoff": 15
           },
           "zerolinecolor": "white",
           "zerolinewidth": 2
          }
         }
        },
        "title": {
         "text": "Aantal WOO/WOB verzoeken per Ministerie"
        },
        "xaxis": {
         "anchor": "y",
         "domain": [
          0,
          1
         ],
         "title": {
          "text": "x"
         }
        },
        "yaxis": {
         "anchor": "x",
         "domain": [
          0,
          1
         ],
         "title": {
          "text": "y"
         }
        }
       }
      },
      "text/html": [
       "<div>                            <div id=\"2edd002a-6d59-48eb-b685-537459c724a7\" class=\"plotly-graph-div\" style=\"height:525px; width:100%;\"></div>            <script type=\"text/javascript\">                require([\"plotly\"], function(Plotly) {                    window.PLOTLYENV=window.PLOTLYENV || {};                                    if (document.getElementById(\"2edd002a-6d59-48eb-b685-537459c724a7\")) {                    Plotly.newPlot(                        \"2edd002a-6d59-48eb-b685-537459c724a7\",                        [{\"alignmentgroup\":\"True\",\"hovertemplate\":\"x=%{x}<br>y=%{y}<extra></extra>\",\"legendgroup\":\"\",\"marker\":{\"color\":\"#636efa\",\"pattern\":{\"shape\":\"\"}},\"name\":\"\",\"offsetgroup\":\"\",\"orientation\":\"h\",\"showlegend\":false,\"textposition\":\"outside\",\"texttemplate\":\"%{x:1s}\",\"x\":[1,43,33,53,80,35,24,157,29,32,27],\"xaxis\":\"x\",\"y\":[\"Ministerie van Algemene Zaken\",\"Ministerie van Binnenlandse Zaken en Koninkrijksrelaties\",\"Ministerie van Buitenlandse Zaken\",\"Ministerie van Economische Zaken en Klimaat\",\"Ministerie van Financi\\u00ebn\",\"Ministerie van Infrastructuur en Waterstaat\",\"Ministerie van Justitie en Veiligheid\",\"Ministerie van Landbouw, Natuur en Voedselkwaliteit\",\"Ministerie van Onderwijs, Cultuur en Wetenschap\",\"Ministerie van Sociale Zaken en Werkgelegenheid\",\"Ministerie van Volksgezondheid, Welzijn en Sport\"],\"yaxis\":\"y\",\"type\":\"bar\",\"textfont\":{\"size\":12},\"cliponaxis\":false,\"textangle\":0}],                        {\"template\":{\"data\":{\"bar\":[{\"error_x\":{\"color\":\"#2a3f5f\"},\"error_y\":{\"color\":\"#2a3f5f\"},\"marker\":{\"line\":{\"color\":\"#E5ECF6\",\"width\":0.5},\"pattern\":{\"fillmode\":\"overlay\",\"size\":10,\"solidity\":0.2}},\"type\":\"bar\"}],\"barpolar\":[{\"marker\":{\"line\":{\"color\":\"#E5ECF6\",\"width\":0.5},\"pattern\":{\"fillmode\":\"overlay\",\"size\":10,\"solidity\":0.2}},\"type\":\"barpolar\"}],\"carpet\":[{\"aaxis\":{\"endlinecolor\":\"#2a3f5f\",\"gridcolor\":\"white\",\"linecolor\":\"white\",\"minorgridcolor\":\"white\",\"startlinecolor\":\"#2a3f5f\"},\"baxis\":{\"endlinecolor\":\"#2a3f5f\",\"gridcolor\":\"white\",\"linecolor\":\"white\",\"minorgridcolor\":\"white\",\"startlinecolor\":\"#2a3f5f\"},\"type\":\"carpet\"}],\"choropleth\":[{\"colorbar\":{\"outlinewidth\":0,\"ticks\":\"\"},\"type\":\"choropleth\"}],\"contour\":[{\"colorbar\":{\"outlinewidth\":0,\"ticks\":\"\"},\"colorscale\":[[0.0,\"#0d0887\"],[0.1111111111111111,\"#46039f\"],[0.2222222222222222,\"#7201a8\"],[0.3333333333333333,\"#9c179e\"],[0.4444444444444444,\"#bd3786\"],[0.5555555555555556,\"#d8576b\"],[0.6666666666666666,\"#ed7953\"],[0.7777777777777778,\"#fb9f3a\"],[0.8888888888888888,\"#fdca26\"],[1.0,\"#f0f921\"]],\"type\":\"contour\"}],\"contourcarpet\":[{\"colorbar\":{\"outlinewidth\":0,\"ticks\":\"\"},\"type\":\"contourcarpet\"}],\"heatmap\":[{\"colorbar\":{\"outlinewidth\":0,\"ticks\":\"\"},\"colorscale\":[[0.0,\"#0d0887\"],[0.1111111111111111,\"#46039f\"],[0.2222222222222222,\"#7201a8\"],[0.3333333333333333,\"#9c179e\"],[0.4444444444444444,\"#bd3786\"],[0.5555555555555556,\"#d8576b\"],[0.6666666666666666,\"#ed7953\"],[0.7777777777777778,\"#fb9f3a\"],[0.8888888888888888,\"#fdca26\"],[1.0,\"#f0f921\"]],\"type\":\"heatmap\"}],\"heatmapgl\":[{\"colorbar\":{\"outlinewidth\":0,\"ticks\":\"\"},\"colorscale\":[[0.0,\"#0d0887\"],[0.1111111111111111,\"#46039f\"],[0.2222222222222222,\"#7201a8\"],[0.3333333333333333,\"#9c179e\"],[0.4444444444444444,\"#bd3786\"],[0.5555555555555556,\"#d8576b\"],[0.6666666666666666,\"#ed7953\"],[0.7777777777777778,\"#fb9f3a\"],[0.8888888888888888,\"#fdca26\"],[1.0,\"#f0f921\"]],\"type\":\"heatmapgl\"}],\"histogram\":[{\"marker\":{\"pattern\":{\"fillmode\":\"overlay\",\"size\":10,\"solidity\":0.2}},\"type\":\"histogram\"}],\"histogram2d\":[{\"colorbar\":{\"outlinewidth\":0,\"ticks\":\"\"},\"colorscale\":[[0.0,\"#0d0887\"],[0.1111111111111111,\"#46039f\"],[0.2222222222222222,\"#7201a8\"],[0.3333333333333333,\"#9c179e\"],[0.4444444444444444,\"#bd3786\"],[0.5555555555555556,\"#d8576b\"],[0.6666666666666666,\"#ed7953\"],[0.7777777777777778,\"#fb9f3a\"],[0.8888888888888888,\"#fdca26\"],[1.0,\"#f0f921\"]],\"type\":\"histogram2d\"}],\"histogram2dcontour\":[{\"colorbar\":{\"outlinewidth\":0,\"ticks\":\"\"},\"colorscale\":[[0.0,\"#0d0887\"],[0.1111111111111111,\"#46039f\"],[0.2222222222222222,\"#7201a8\"],[0.3333333333333333,\"#9c179e\"],[0.4444444444444444,\"#bd3786\"],[0.5555555555555556,\"#d8576b\"],[0.6666666666666666,\"#ed7953\"],[0.7777777777777778,\"#fb9f3a\"],[0.8888888888888888,\"#fdca26\"],[1.0,\"#f0f921\"]],\"type\":\"histogram2dcontour\"}],\"mesh3d\":[{\"colorbar\":{\"outlinewidth\":0,\"ticks\":\"\"},\"type\":\"mesh3d\"}],\"parcoords\":[{\"line\":{\"colorbar\":{\"outlinewidth\":0,\"ticks\":\"\"}},\"type\":\"parcoords\"}],\"pie\":[{\"automargin\":true,\"type\":\"pie\"}],\"scatter\":[{\"marker\":{\"colorbar\":{\"outlinewidth\":0,\"ticks\":\"\"}},\"type\":\"scatter\"}],\"scatter3d\":[{\"line\":{\"colorbar\":{\"outlinewidth\":0,\"ticks\":\"\"}},\"marker\":{\"colorbar\":{\"outlinewidth\":0,\"ticks\":\"\"}},\"type\":\"scatter3d\"}],\"scattercarpet\":[{\"marker\":{\"colorbar\":{\"outlinewidth\":0,\"ticks\":\"\"}},\"type\":\"scattercarpet\"}],\"scattergeo\":[{\"marker\":{\"colorbar\":{\"outlinewidth\":0,\"ticks\":\"\"}},\"type\":\"scattergeo\"}],\"scattergl\":[{\"marker\":{\"colorbar\":{\"outlinewidth\":0,\"ticks\":\"\"}},\"type\":\"scattergl\"}],\"scattermapbox\":[{\"marker\":{\"colorbar\":{\"outlinewidth\":0,\"ticks\":\"\"}},\"type\":\"scattermapbox\"}],\"scatterpolar\":[{\"marker\":{\"colorbar\":{\"outlinewidth\":0,\"ticks\":\"\"}},\"type\":\"scatterpolar\"}],\"scatterpolargl\":[{\"marker\":{\"colorbar\":{\"outlinewidth\":0,\"ticks\":\"\"}},\"type\":\"scatterpolargl\"}],\"scatterternary\":[{\"marker\":{\"colorbar\":{\"outlinewidth\":0,\"ticks\":\"\"}},\"type\":\"scatterternary\"}],\"surface\":[{\"colorbar\":{\"outlinewidth\":0,\"ticks\":\"\"},\"colorscale\":[[0.0,\"#0d0887\"],[0.1111111111111111,\"#46039f\"],[0.2222222222222222,\"#7201a8\"],[0.3333333333333333,\"#9c179e\"],[0.4444444444444444,\"#bd3786\"],[0.5555555555555556,\"#d8576b\"],[0.6666666666666666,\"#ed7953\"],[0.7777777777777778,\"#fb9f3a\"],[0.8888888888888888,\"#fdca26\"],[1.0,\"#f0f921\"]],\"type\":\"surface\"}],\"table\":[{\"cells\":{\"fill\":{\"color\":\"#EBF0F8\"},\"line\":{\"color\":\"white\"}},\"header\":{\"fill\":{\"color\":\"#C8D4E3\"},\"line\":{\"color\":\"white\"}},\"type\":\"table\"}]},\"layout\":{\"annotationdefaults\":{\"arrowcolor\":\"#2a3f5f\",\"arrowhead\":0,\"arrowwidth\":1},\"autotypenumbers\":\"strict\",\"coloraxis\":{\"colorbar\":{\"outlinewidth\":0,\"ticks\":\"\"}},\"colorscale\":{\"diverging\":[[0,\"#8e0152\"],[0.1,\"#c51b7d\"],[0.2,\"#de77ae\"],[0.3,\"#f1b6da\"],[0.4,\"#fde0ef\"],[0.5,\"#f7f7f7\"],[0.6,\"#e6f5d0\"],[0.7,\"#b8e186\"],[0.8,\"#7fbc41\"],[0.9,\"#4d9221\"],[1,\"#276419\"]],\"sequential\":[[0.0,\"#0d0887\"],[0.1111111111111111,\"#46039f\"],[0.2222222222222222,\"#7201a8\"],[0.3333333333333333,\"#9c179e\"],[0.4444444444444444,\"#bd3786\"],[0.5555555555555556,\"#d8576b\"],[0.6666666666666666,\"#ed7953\"],[0.7777777777777778,\"#fb9f3a\"],[0.8888888888888888,\"#fdca26\"],[1.0,\"#f0f921\"]],\"sequentialminus\":[[0.0,\"#0d0887\"],[0.1111111111111111,\"#46039f\"],[0.2222222222222222,\"#7201a8\"],[0.3333333333333333,\"#9c179e\"],[0.4444444444444444,\"#bd3786\"],[0.5555555555555556,\"#d8576b\"],[0.6666666666666666,\"#ed7953\"],[0.7777777777777778,\"#fb9f3a\"],[0.8888888888888888,\"#fdca26\"],[1.0,\"#f0f921\"]]},\"colorway\":[\"#636efa\",\"#EF553B\",\"#00cc96\",\"#ab63fa\",\"#FFA15A\",\"#19d3f3\",\"#FF6692\",\"#B6E880\",\"#FF97FF\",\"#FECB52\"],\"font\":{\"color\":\"#2a3f5f\"},\"geo\":{\"bgcolor\":\"white\",\"lakecolor\":\"white\",\"landcolor\":\"#E5ECF6\",\"showlakes\":true,\"showland\":true,\"subunitcolor\":\"white\"},\"hoverlabel\":{\"align\":\"left\"},\"hovermode\":\"closest\",\"mapbox\":{\"style\":\"light\"},\"paper_bgcolor\":\"white\",\"plot_bgcolor\":\"#E5ECF6\",\"polar\":{\"angularaxis\":{\"gridcolor\":\"white\",\"linecolor\":\"white\",\"ticks\":\"\"},\"bgcolor\":\"#E5ECF6\",\"radialaxis\":{\"gridcolor\":\"white\",\"linecolor\":\"white\",\"ticks\":\"\"}},\"scene\":{\"xaxis\":{\"backgroundcolor\":\"#E5ECF6\",\"gridcolor\":\"white\",\"gridwidth\":2,\"linecolor\":\"white\",\"showbackground\":true,\"ticks\":\"\",\"zerolinecolor\":\"white\"},\"yaxis\":{\"backgroundcolor\":\"#E5ECF6\",\"gridcolor\":\"white\",\"gridwidth\":2,\"linecolor\":\"white\",\"showbackground\":true,\"ticks\":\"\",\"zerolinecolor\":\"white\"},\"zaxis\":{\"backgroundcolor\":\"#E5ECF6\",\"gridcolor\":\"white\",\"gridwidth\":2,\"linecolor\":\"white\",\"showbackground\":true,\"ticks\":\"\",\"zerolinecolor\":\"white\"}},\"shapedefaults\":{\"line\":{\"color\":\"#2a3f5f\"}},\"ternary\":{\"aaxis\":{\"gridcolor\":\"white\",\"linecolor\":\"white\",\"ticks\":\"\"},\"baxis\":{\"gridcolor\":\"white\",\"linecolor\":\"white\",\"ticks\":\"\"},\"bgcolor\":\"#E5ECF6\",\"caxis\":{\"gridcolor\":\"white\",\"linecolor\":\"white\",\"ticks\":\"\"}},\"title\":{\"x\":0.05},\"xaxis\":{\"automargin\":true,\"gridcolor\":\"white\",\"linecolor\":\"white\",\"ticks\":\"\",\"title\":{\"standoff\":15},\"zerolinecolor\":\"white\",\"zerolinewidth\":2},\"yaxis\":{\"automargin\":true,\"gridcolor\":\"white\",\"linecolor\":\"white\",\"ticks\":\"\",\"title\":{\"standoff\":15},\"zerolinecolor\":\"white\",\"zerolinewidth\":2}}},\"xaxis\":{\"anchor\":\"y\",\"domain\":[0.0,1.0],\"title\":{\"text\":\"x\"}},\"yaxis\":{\"anchor\":\"x\",\"domain\":[0.0,1.0],\"title\":{\"text\":\"y\"}},\"legend\":{\"tracegroupgap\":0},\"title\":{\"text\":\"Aantal WOO/WOB verzoeken per Ministerie\"},\"barmode\":\"relative\"},                        {\"responsive\": true}                    ).then(function(){\n",
       "                            \n",
       "var gd = document.getElementById('2edd002a-6d59-48eb-b685-537459c724a7');\n",
       "var x = new MutationObserver(function (mutations, observer) {{\n",
       "        var display = window.getComputedStyle(gd).display;\n",
       "        if (!display || display === 'none') {{\n",
       "            console.log([gd, 'removed!']);\n",
       "            Plotly.purge(gd);\n",
       "            observer.disconnect();\n",
       "        }}\n",
       "}});\n",
       "\n",
       "// Listen for the removal of the full notebook cells\n",
       "var notebookContainer = gd.closest('#notebook-container');\n",
       "if (notebookContainer) {{\n",
       "    x.observe(notebookContainer, {childList: true});\n",
       "}}\n",
       "\n",
       "// Listen for the clearing of the current output cell\n",
       "var outputEl = gd.closest('.output');\n",
       "if (outputEl) {{\n",
       "    x.observe(outputEl, {childList: true});\n",
       "}}\n",
       "\n",
       "                        })                };                });            </script>        </div>"
      ]
     },
     "metadata": {},
     "output_type": "display_data"
    }
   ],
   "source": [
    "import plotly.express as px\n",
    "\n",
    "# simpel plotje die al met de huidige data te maken is\n",
    "\n",
    "fig = px.bar(y=Data1.index, x=Data1.values, text_auto='1s',\n",
    "            title=\"Aantal WOO/WOB verzoeken per Ministerie\")\n",
    "fig.update_traces(textfont_size=12, textangle=0, textposition=\"outside\", cliponaxis=False)\n",
    "fig.show()"
   ]
  },
  {
   "cell_type": "code",
   "execution_count": 62,
   "id": "1202a6ec",
   "metadata": {
    "scrolled": true
   },
   "outputs": [
    {
     "data": {
      "application/vnd.plotly.v1+json": {
       "config": {
        "plotlyServerURL": "https://plot.ly"
       },
       "data": [
        {
         "alignmentgroup": "True",
         "hovertemplate": "x=%{x}<br>y=%{y}<extra></extra>",
         "legendgroup": "",
         "marker": {
          "color": "#636efa",
          "pattern": {
           "shape": ""
          }
         },
         "name": "",
         "offsetgroup": "",
         "orientation": "v",
         "showlegend": false,
         "textposition": "auto",
         "type": "bar",
         "x": [
          "Ministerie van Algemene Zaken",
          "Ministerie van Binnenlandse Zaken en Koninkrijksrelaties",
          "Ministerie van Buitenlandse Zaken",
          "Ministerie van Economische Zaken en Klimaat",
          "Ministerie van Financiën",
          "Ministerie van Infrastructuur en Waterstaat",
          "Ministerie van Justitie en Veiligheid",
          "Ministerie van Landbouw, Natuur en Voedselkwaliteit",
          "Ministerie van Onderwijs, Cultuur en Wetenschap",
          "Ministerie van Sociale Zaken en Werkgelegenheid",
          "Ministerie van Volksgezondheid, Welzijn en Sport"
         ],
         "xaxis": "x",
         "y": [
          48,
          146.95348837209303,
          104.21212121212122,
          192.67924528301887,
          256.2125,
          233.74285714285713,
          160.70833333333334,
          224.21019108280254,
          69.44827586206897,
          172.625,
          138.4814814814815
         ],
         "yaxis": "y"
        }
       ],
       "layout": {
        "barmode": "relative",
        "legend": {
         "tracegroupgap": 0
        },
        "margin": {
         "t": 60
        },
        "template": {
         "data": {
          "bar": [
           {
            "error_x": {
             "color": "#2a3f5f"
            },
            "error_y": {
             "color": "#2a3f5f"
            },
            "marker": {
             "line": {
              "color": "#E5ECF6",
              "width": 0.5
             },
             "pattern": {
              "fillmode": "overlay",
              "size": 10,
              "solidity": 0.2
             }
            },
            "type": "bar"
           }
          ],
          "barpolar": [
           {
            "marker": {
             "line": {
              "color": "#E5ECF6",
              "width": 0.5
             },
             "pattern": {
              "fillmode": "overlay",
              "size": 10,
              "solidity": 0.2
             }
            },
            "type": "barpolar"
           }
          ],
          "carpet": [
           {
            "aaxis": {
             "endlinecolor": "#2a3f5f",
             "gridcolor": "white",
             "linecolor": "white",
             "minorgridcolor": "white",
             "startlinecolor": "#2a3f5f"
            },
            "baxis": {
             "endlinecolor": "#2a3f5f",
             "gridcolor": "white",
             "linecolor": "white",
             "minorgridcolor": "white",
             "startlinecolor": "#2a3f5f"
            },
            "type": "carpet"
           }
          ],
          "choropleth": [
           {
            "colorbar": {
             "outlinewidth": 0,
             "ticks": ""
            },
            "type": "choropleth"
           }
          ],
          "contour": [
           {
            "colorbar": {
             "outlinewidth": 0,
             "ticks": ""
            },
            "colorscale": [
             [
              0,
              "#0d0887"
             ],
             [
              0.1111111111111111,
              "#46039f"
             ],
             [
              0.2222222222222222,
              "#7201a8"
             ],
             [
              0.3333333333333333,
              "#9c179e"
             ],
             [
              0.4444444444444444,
              "#bd3786"
             ],
             [
              0.5555555555555556,
              "#d8576b"
             ],
             [
              0.6666666666666666,
              "#ed7953"
             ],
             [
              0.7777777777777778,
              "#fb9f3a"
             ],
             [
              0.8888888888888888,
              "#fdca26"
             ],
             [
              1,
              "#f0f921"
             ]
            ],
            "type": "contour"
           }
          ],
          "contourcarpet": [
           {
            "colorbar": {
             "outlinewidth": 0,
             "ticks": ""
            },
            "type": "contourcarpet"
           }
          ],
          "heatmap": [
           {
            "colorbar": {
             "outlinewidth": 0,
             "ticks": ""
            },
            "colorscale": [
             [
              0,
              "#0d0887"
             ],
             [
              0.1111111111111111,
              "#46039f"
             ],
             [
              0.2222222222222222,
              "#7201a8"
             ],
             [
              0.3333333333333333,
              "#9c179e"
             ],
             [
              0.4444444444444444,
              "#bd3786"
             ],
             [
              0.5555555555555556,
              "#d8576b"
             ],
             [
              0.6666666666666666,
              "#ed7953"
             ],
             [
              0.7777777777777778,
              "#fb9f3a"
             ],
             [
              0.8888888888888888,
              "#fdca26"
             ],
             [
              1,
              "#f0f921"
             ]
            ],
            "type": "heatmap"
           }
          ],
          "heatmapgl": [
           {
            "colorbar": {
             "outlinewidth": 0,
             "ticks": ""
            },
            "colorscale": [
             [
              0,
              "#0d0887"
             ],
             [
              0.1111111111111111,
              "#46039f"
             ],
             [
              0.2222222222222222,
              "#7201a8"
             ],
             [
              0.3333333333333333,
              "#9c179e"
             ],
             [
              0.4444444444444444,
              "#bd3786"
             ],
             [
              0.5555555555555556,
              "#d8576b"
             ],
             [
              0.6666666666666666,
              "#ed7953"
             ],
             [
              0.7777777777777778,
              "#fb9f3a"
             ],
             [
              0.8888888888888888,
              "#fdca26"
             ],
             [
              1,
              "#f0f921"
             ]
            ],
            "type": "heatmapgl"
           }
          ],
          "histogram": [
           {
            "marker": {
             "pattern": {
              "fillmode": "overlay",
              "size": 10,
              "solidity": 0.2
             }
            },
            "type": "histogram"
           }
          ],
          "histogram2d": [
           {
            "colorbar": {
             "outlinewidth": 0,
             "ticks": ""
            },
            "colorscale": [
             [
              0,
              "#0d0887"
             ],
             [
              0.1111111111111111,
              "#46039f"
             ],
             [
              0.2222222222222222,
              "#7201a8"
             ],
             [
              0.3333333333333333,
              "#9c179e"
             ],
             [
              0.4444444444444444,
              "#bd3786"
             ],
             [
              0.5555555555555556,
              "#d8576b"
             ],
             [
              0.6666666666666666,
              "#ed7953"
             ],
             [
              0.7777777777777778,
              "#fb9f3a"
             ],
             [
              0.8888888888888888,
              "#fdca26"
             ],
             [
              1,
              "#f0f921"
             ]
            ],
            "type": "histogram2d"
           }
          ],
          "histogram2dcontour": [
           {
            "colorbar": {
             "outlinewidth": 0,
             "ticks": ""
            },
            "colorscale": [
             [
              0,
              "#0d0887"
             ],
             [
              0.1111111111111111,
              "#46039f"
             ],
             [
              0.2222222222222222,
              "#7201a8"
             ],
             [
              0.3333333333333333,
              "#9c179e"
             ],
             [
              0.4444444444444444,
              "#bd3786"
             ],
             [
              0.5555555555555556,
              "#d8576b"
             ],
             [
              0.6666666666666666,
              "#ed7953"
             ],
             [
              0.7777777777777778,
              "#fb9f3a"
             ],
             [
              0.8888888888888888,
              "#fdca26"
             ],
             [
              1,
              "#f0f921"
             ]
            ],
            "type": "histogram2dcontour"
           }
          ],
          "mesh3d": [
           {
            "colorbar": {
             "outlinewidth": 0,
             "ticks": ""
            },
            "type": "mesh3d"
           }
          ],
          "parcoords": [
           {
            "line": {
             "colorbar": {
              "outlinewidth": 0,
              "ticks": ""
             }
            },
            "type": "parcoords"
           }
          ],
          "pie": [
           {
            "automargin": true,
            "type": "pie"
           }
          ],
          "scatter": [
           {
            "marker": {
             "colorbar": {
              "outlinewidth": 0,
              "ticks": ""
             }
            },
            "type": "scatter"
           }
          ],
          "scatter3d": [
           {
            "line": {
             "colorbar": {
              "outlinewidth": 0,
              "ticks": ""
             }
            },
            "marker": {
             "colorbar": {
              "outlinewidth": 0,
              "ticks": ""
             }
            },
            "type": "scatter3d"
           }
          ],
          "scattercarpet": [
           {
            "marker": {
             "colorbar": {
              "outlinewidth": 0,
              "ticks": ""
             }
            },
            "type": "scattercarpet"
           }
          ],
          "scattergeo": [
           {
            "marker": {
             "colorbar": {
              "outlinewidth": 0,
              "ticks": ""
             }
            },
            "type": "scattergeo"
           }
          ],
          "scattergl": [
           {
            "marker": {
             "colorbar": {
              "outlinewidth": 0,
              "ticks": ""
             }
            },
            "type": "scattergl"
           }
          ],
          "scattermapbox": [
           {
            "marker": {
             "colorbar": {
              "outlinewidth": 0,
              "ticks": ""
             }
            },
            "type": "scattermapbox"
           }
          ],
          "scatterpolar": [
           {
            "marker": {
             "colorbar": {
              "outlinewidth": 0,
              "ticks": ""
             }
            },
            "type": "scatterpolar"
           }
          ],
          "scatterpolargl": [
           {
            "marker": {
             "colorbar": {
              "outlinewidth": 0,
              "ticks": ""
             }
            },
            "type": "scatterpolargl"
           }
          ],
          "scatterternary": [
           {
            "marker": {
             "colorbar": {
              "outlinewidth": 0,
              "ticks": ""
             }
            },
            "type": "scatterternary"
           }
          ],
          "surface": [
           {
            "colorbar": {
             "outlinewidth": 0,
             "ticks": ""
            },
            "colorscale": [
             [
              0,
              "#0d0887"
             ],
             [
              0.1111111111111111,
              "#46039f"
             ],
             [
              0.2222222222222222,
              "#7201a8"
             ],
             [
              0.3333333333333333,
              "#9c179e"
             ],
             [
              0.4444444444444444,
              "#bd3786"
             ],
             [
              0.5555555555555556,
              "#d8576b"
             ],
             [
              0.6666666666666666,
              "#ed7953"
             ],
             [
              0.7777777777777778,
              "#fb9f3a"
             ],
             [
              0.8888888888888888,
              "#fdca26"
             ],
             [
              1,
              "#f0f921"
             ]
            ],
            "type": "surface"
           }
          ],
          "table": [
           {
            "cells": {
             "fill": {
              "color": "#EBF0F8"
             },
             "line": {
              "color": "white"
             }
            },
            "header": {
             "fill": {
              "color": "#C8D4E3"
             },
             "line": {
              "color": "white"
             }
            },
            "type": "table"
           }
          ]
         },
         "layout": {
          "annotationdefaults": {
           "arrowcolor": "#2a3f5f",
           "arrowhead": 0,
           "arrowwidth": 1
          },
          "autotypenumbers": "strict",
          "coloraxis": {
           "colorbar": {
            "outlinewidth": 0,
            "ticks": ""
           }
          },
          "colorscale": {
           "diverging": [
            [
             0,
             "#8e0152"
            ],
            [
             0.1,
             "#c51b7d"
            ],
            [
             0.2,
             "#de77ae"
            ],
            [
             0.3,
             "#f1b6da"
            ],
            [
             0.4,
             "#fde0ef"
            ],
            [
             0.5,
             "#f7f7f7"
            ],
            [
             0.6,
             "#e6f5d0"
            ],
            [
             0.7,
             "#b8e186"
            ],
            [
             0.8,
             "#7fbc41"
            ],
            [
             0.9,
             "#4d9221"
            ],
            [
             1,
             "#276419"
            ]
           ],
           "sequential": [
            [
             0,
             "#0d0887"
            ],
            [
             0.1111111111111111,
             "#46039f"
            ],
            [
             0.2222222222222222,
             "#7201a8"
            ],
            [
             0.3333333333333333,
             "#9c179e"
            ],
            [
             0.4444444444444444,
             "#bd3786"
            ],
            [
             0.5555555555555556,
             "#d8576b"
            ],
            [
             0.6666666666666666,
             "#ed7953"
            ],
            [
             0.7777777777777778,
             "#fb9f3a"
            ],
            [
             0.8888888888888888,
             "#fdca26"
            ],
            [
             1,
             "#f0f921"
            ]
           ],
           "sequentialminus": [
            [
             0,
             "#0d0887"
            ],
            [
             0.1111111111111111,
             "#46039f"
            ],
            [
             0.2222222222222222,
             "#7201a8"
            ],
            [
             0.3333333333333333,
             "#9c179e"
            ],
            [
             0.4444444444444444,
             "#bd3786"
            ],
            [
             0.5555555555555556,
             "#d8576b"
            ],
            [
             0.6666666666666666,
             "#ed7953"
            ],
            [
             0.7777777777777778,
             "#fb9f3a"
            ],
            [
             0.8888888888888888,
             "#fdca26"
            ],
            [
             1,
             "#f0f921"
            ]
           ]
          },
          "colorway": [
           "#636efa",
           "#EF553B",
           "#00cc96",
           "#ab63fa",
           "#FFA15A",
           "#19d3f3",
           "#FF6692",
           "#B6E880",
           "#FF97FF",
           "#FECB52"
          ],
          "font": {
           "color": "#2a3f5f"
          },
          "geo": {
           "bgcolor": "white",
           "lakecolor": "white",
           "landcolor": "#E5ECF6",
           "showlakes": true,
           "showland": true,
           "subunitcolor": "white"
          },
          "hoverlabel": {
           "align": "left"
          },
          "hovermode": "closest",
          "mapbox": {
           "style": "light"
          },
          "paper_bgcolor": "white",
          "plot_bgcolor": "#E5ECF6",
          "polar": {
           "angularaxis": {
            "gridcolor": "white",
            "linecolor": "white",
            "ticks": ""
           },
           "bgcolor": "#E5ECF6",
           "radialaxis": {
            "gridcolor": "white",
            "linecolor": "white",
            "ticks": ""
           }
          },
          "scene": {
           "xaxis": {
            "backgroundcolor": "#E5ECF6",
            "gridcolor": "white",
            "gridwidth": 2,
            "linecolor": "white",
            "showbackground": true,
            "ticks": "",
            "zerolinecolor": "white"
           },
           "yaxis": {
            "backgroundcolor": "#E5ECF6",
            "gridcolor": "white",
            "gridwidth": 2,
            "linecolor": "white",
            "showbackground": true,
            "ticks": "",
            "zerolinecolor": "white"
           },
           "zaxis": {
            "backgroundcolor": "#E5ECF6",
            "gridcolor": "white",
            "gridwidth": 2,
            "linecolor": "white",
            "showbackground": true,
            "ticks": "",
            "zerolinecolor": "white"
           }
          },
          "shapedefaults": {
           "line": {
            "color": "#2a3f5f"
           }
          },
          "ternary": {
           "aaxis": {
            "gridcolor": "white",
            "linecolor": "white",
            "ticks": ""
           },
           "baxis": {
            "gridcolor": "white",
            "linecolor": "white",
            "ticks": ""
           },
           "bgcolor": "#E5ECF6",
           "caxis": {
            "gridcolor": "white",
            "linecolor": "white",
            "ticks": ""
           }
          },
          "title": {
           "x": 0.05
          },
          "xaxis": {
           "automargin": true,
           "gridcolor": "white",
           "linecolor": "white",
           "ticks": "",
           "title": {
            "standoff": 15
           },
           "zerolinecolor": "white",
           "zerolinewidth": 2
          },
          "yaxis": {
           "automargin": true,
           "gridcolor": "white",
           "linecolor": "white",
           "ticks": "",
           "title": {
            "standoff": 15
           },
           "zerolinecolor": "white",
           "zerolinewidth": 2
          }
         }
        },
        "xaxis": {
         "anchor": "y",
         "domain": [
          0,
          1
         ],
         "title": {
          "text": "x"
         }
        },
        "yaxis": {
         "anchor": "x",
         "domain": [
          0,
          1
         ],
         "title": {
          "text": "y"
         }
        }
       }
      },
      "text/html": [
       "<div>                            <div id=\"cdbc1a5c-ad15-4750-9220-b9595111a703\" class=\"plotly-graph-div\" style=\"height:525px; width:100%;\"></div>            <script type=\"text/javascript\">                require([\"plotly\"], function(Plotly) {                    window.PLOTLYENV=window.PLOTLYENV || {};                                    if (document.getElementById(\"cdbc1a5c-ad15-4750-9220-b9595111a703\")) {                    Plotly.newPlot(                        \"cdbc1a5c-ad15-4750-9220-b9595111a703\",                        [{\"alignmentgroup\":\"True\",\"hovertemplate\":\"x=%{x}<br>y=%{y}<extra></extra>\",\"legendgroup\":\"\",\"marker\":{\"color\":\"#636efa\",\"pattern\":{\"shape\":\"\"}},\"name\":\"\",\"offsetgroup\":\"\",\"orientation\":\"v\",\"showlegend\":false,\"textposition\":\"auto\",\"x\":[\"Ministerie van Algemene Zaken\",\"Ministerie van Binnenlandse Zaken en Koninkrijksrelaties\",\"Ministerie van Buitenlandse Zaken\",\"Ministerie van Economische Zaken en Klimaat\",\"Ministerie van Financi\\u00ebn\",\"Ministerie van Infrastructuur en Waterstaat\",\"Ministerie van Justitie en Veiligheid\",\"Ministerie van Landbouw, Natuur en Voedselkwaliteit\",\"Ministerie van Onderwijs, Cultuur en Wetenschap\",\"Ministerie van Sociale Zaken en Werkgelegenheid\",\"Ministerie van Volksgezondheid, Welzijn en Sport\"],\"xaxis\":\"x\",\"y\":[48.0,146.95348837209303,104.21212121212122,192.67924528301887,256.2125,233.74285714285713,160.70833333333334,224.21019108280254,69.44827586206897,172.625,138.4814814814815],\"yaxis\":\"y\",\"type\":\"bar\"}],                        {\"template\":{\"data\":{\"bar\":[{\"error_x\":{\"color\":\"#2a3f5f\"},\"error_y\":{\"color\":\"#2a3f5f\"},\"marker\":{\"line\":{\"color\":\"#E5ECF6\",\"width\":0.5},\"pattern\":{\"fillmode\":\"overlay\",\"size\":10,\"solidity\":0.2}},\"type\":\"bar\"}],\"barpolar\":[{\"marker\":{\"line\":{\"color\":\"#E5ECF6\",\"width\":0.5},\"pattern\":{\"fillmode\":\"overlay\",\"size\":10,\"solidity\":0.2}},\"type\":\"barpolar\"}],\"carpet\":[{\"aaxis\":{\"endlinecolor\":\"#2a3f5f\",\"gridcolor\":\"white\",\"linecolor\":\"white\",\"minorgridcolor\":\"white\",\"startlinecolor\":\"#2a3f5f\"},\"baxis\":{\"endlinecolor\":\"#2a3f5f\",\"gridcolor\":\"white\",\"linecolor\":\"white\",\"minorgridcolor\":\"white\",\"startlinecolor\":\"#2a3f5f\"},\"type\":\"carpet\"}],\"choropleth\":[{\"colorbar\":{\"outlinewidth\":0,\"ticks\":\"\"},\"type\":\"choropleth\"}],\"contour\":[{\"colorbar\":{\"outlinewidth\":0,\"ticks\":\"\"},\"colorscale\":[[0.0,\"#0d0887\"],[0.1111111111111111,\"#46039f\"],[0.2222222222222222,\"#7201a8\"],[0.3333333333333333,\"#9c179e\"],[0.4444444444444444,\"#bd3786\"],[0.5555555555555556,\"#d8576b\"],[0.6666666666666666,\"#ed7953\"],[0.7777777777777778,\"#fb9f3a\"],[0.8888888888888888,\"#fdca26\"],[1.0,\"#f0f921\"]],\"type\":\"contour\"}],\"contourcarpet\":[{\"colorbar\":{\"outlinewidth\":0,\"ticks\":\"\"},\"type\":\"contourcarpet\"}],\"heatmap\":[{\"colorbar\":{\"outlinewidth\":0,\"ticks\":\"\"},\"colorscale\":[[0.0,\"#0d0887\"],[0.1111111111111111,\"#46039f\"],[0.2222222222222222,\"#7201a8\"],[0.3333333333333333,\"#9c179e\"],[0.4444444444444444,\"#bd3786\"],[0.5555555555555556,\"#d8576b\"],[0.6666666666666666,\"#ed7953\"],[0.7777777777777778,\"#fb9f3a\"],[0.8888888888888888,\"#fdca26\"],[1.0,\"#f0f921\"]],\"type\":\"heatmap\"}],\"heatmapgl\":[{\"colorbar\":{\"outlinewidth\":0,\"ticks\":\"\"},\"colorscale\":[[0.0,\"#0d0887\"],[0.1111111111111111,\"#46039f\"],[0.2222222222222222,\"#7201a8\"],[0.3333333333333333,\"#9c179e\"],[0.4444444444444444,\"#bd3786\"],[0.5555555555555556,\"#d8576b\"],[0.6666666666666666,\"#ed7953\"],[0.7777777777777778,\"#fb9f3a\"],[0.8888888888888888,\"#fdca26\"],[1.0,\"#f0f921\"]],\"type\":\"heatmapgl\"}],\"histogram\":[{\"marker\":{\"pattern\":{\"fillmode\":\"overlay\",\"size\":10,\"solidity\":0.2}},\"type\":\"histogram\"}],\"histogram2d\":[{\"colorbar\":{\"outlinewidth\":0,\"ticks\":\"\"},\"colorscale\":[[0.0,\"#0d0887\"],[0.1111111111111111,\"#46039f\"],[0.2222222222222222,\"#7201a8\"],[0.3333333333333333,\"#9c179e\"],[0.4444444444444444,\"#bd3786\"],[0.5555555555555556,\"#d8576b\"],[0.6666666666666666,\"#ed7953\"],[0.7777777777777778,\"#fb9f3a\"],[0.8888888888888888,\"#fdca26\"],[1.0,\"#f0f921\"]],\"type\":\"histogram2d\"}],\"histogram2dcontour\":[{\"colorbar\":{\"outlinewidth\":0,\"ticks\":\"\"},\"colorscale\":[[0.0,\"#0d0887\"],[0.1111111111111111,\"#46039f\"],[0.2222222222222222,\"#7201a8\"],[0.3333333333333333,\"#9c179e\"],[0.4444444444444444,\"#bd3786\"],[0.5555555555555556,\"#d8576b\"],[0.6666666666666666,\"#ed7953\"],[0.7777777777777778,\"#fb9f3a\"],[0.8888888888888888,\"#fdca26\"],[1.0,\"#f0f921\"]],\"type\":\"histogram2dcontour\"}],\"mesh3d\":[{\"colorbar\":{\"outlinewidth\":0,\"ticks\":\"\"},\"type\":\"mesh3d\"}],\"parcoords\":[{\"line\":{\"colorbar\":{\"outlinewidth\":0,\"ticks\":\"\"}},\"type\":\"parcoords\"}],\"pie\":[{\"automargin\":true,\"type\":\"pie\"}],\"scatter\":[{\"marker\":{\"colorbar\":{\"outlinewidth\":0,\"ticks\":\"\"}},\"type\":\"scatter\"}],\"scatter3d\":[{\"line\":{\"colorbar\":{\"outlinewidth\":0,\"ticks\":\"\"}},\"marker\":{\"colorbar\":{\"outlinewidth\":0,\"ticks\":\"\"}},\"type\":\"scatter3d\"}],\"scattercarpet\":[{\"marker\":{\"colorbar\":{\"outlinewidth\":0,\"ticks\":\"\"}},\"type\":\"scattercarpet\"}],\"scattergeo\":[{\"marker\":{\"colorbar\":{\"outlinewidth\":0,\"ticks\":\"\"}},\"type\":\"scattergeo\"}],\"scattergl\":[{\"marker\":{\"colorbar\":{\"outlinewidth\":0,\"ticks\":\"\"}},\"type\":\"scattergl\"}],\"scattermapbox\":[{\"marker\":{\"colorbar\":{\"outlinewidth\":0,\"ticks\":\"\"}},\"type\":\"scattermapbox\"}],\"scatterpolar\":[{\"marker\":{\"colorbar\":{\"outlinewidth\":0,\"ticks\":\"\"}},\"type\":\"scatterpolar\"}],\"scatterpolargl\":[{\"marker\":{\"colorbar\":{\"outlinewidth\":0,\"ticks\":\"\"}},\"type\":\"scatterpolargl\"}],\"scatterternary\":[{\"marker\":{\"colorbar\":{\"outlinewidth\":0,\"ticks\":\"\"}},\"type\":\"scatterternary\"}],\"surface\":[{\"colorbar\":{\"outlinewidth\":0,\"ticks\":\"\"},\"colorscale\":[[0.0,\"#0d0887\"],[0.1111111111111111,\"#46039f\"],[0.2222222222222222,\"#7201a8\"],[0.3333333333333333,\"#9c179e\"],[0.4444444444444444,\"#bd3786\"],[0.5555555555555556,\"#d8576b\"],[0.6666666666666666,\"#ed7953\"],[0.7777777777777778,\"#fb9f3a\"],[0.8888888888888888,\"#fdca26\"],[1.0,\"#f0f921\"]],\"type\":\"surface\"}],\"table\":[{\"cells\":{\"fill\":{\"color\":\"#EBF0F8\"},\"line\":{\"color\":\"white\"}},\"header\":{\"fill\":{\"color\":\"#C8D4E3\"},\"line\":{\"color\":\"white\"}},\"type\":\"table\"}]},\"layout\":{\"annotationdefaults\":{\"arrowcolor\":\"#2a3f5f\",\"arrowhead\":0,\"arrowwidth\":1},\"autotypenumbers\":\"strict\",\"coloraxis\":{\"colorbar\":{\"outlinewidth\":0,\"ticks\":\"\"}},\"colorscale\":{\"diverging\":[[0,\"#8e0152\"],[0.1,\"#c51b7d\"],[0.2,\"#de77ae\"],[0.3,\"#f1b6da\"],[0.4,\"#fde0ef\"],[0.5,\"#f7f7f7\"],[0.6,\"#e6f5d0\"],[0.7,\"#b8e186\"],[0.8,\"#7fbc41\"],[0.9,\"#4d9221\"],[1,\"#276419\"]],\"sequential\":[[0.0,\"#0d0887\"],[0.1111111111111111,\"#46039f\"],[0.2222222222222222,\"#7201a8\"],[0.3333333333333333,\"#9c179e\"],[0.4444444444444444,\"#bd3786\"],[0.5555555555555556,\"#d8576b\"],[0.6666666666666666,\"#ed7953\"],[0.7777777777777778,\"#fb9f3a\"],[0.8888888888888888,\"#fdca26\"],[1.0,\"#f0f921\"]],\"sequentialminus\":[[0.0,\"#0d0887\"],[0.1111111111111111,\"#46039f\"],[0.2222222222222222,\"#7201a8\"],[0.3333333333333333,\"#9c179e\"],[0.4444444444444444,\"#bd3786\"],[0.5555555555555556,\"#d8576b\"],[0.6666666666666666,\"#ed7953\"],[0.7777777777777778,\"#fb9f3a\"],[0.8888888888888888,\"#fdca26\"],[1.0,\"#f0f921\"]]},\"colorway\":[\"#636efa\",\"#EF553B\",\"#00cc96\",\"#ab63fa\",\"#FFA15A\",\"#19d3f3\",\"#FF6692\",\"#B6E880\",\"#FF97FF\",\"#FECB52\"],\"font\":{\"color\":\"#2a3f5f\"},\"geo\":{\"bgcolor\":\"white\",\"lakecolor\":\"white\",\"landcolor\":\"#E5ECF6\",\"showlakes\":true,\"showland\":true,\"subunitcolor\":\"white\"},\"hoverlabel\":{\"align\":\"left\"},\"hovermode\":\"closest\",\"mapbox\":{\"style\":\"light\"},\"paper_bgcolor\":\"white\",\"plot_bgcolor\":\"#E5ECF6\",\"polar\":{\"angularaxis\":{\"gridcolor\":\"white\",\"linecolor\":\"white\",\"ticks\":\"\"},\"bgcolor\":\"#E5ECF6\",\"radialaxis\":{\"gridcolor\":\"white\",\"linecolor\":\"white\",\"ticks\":\"\"}},\"scene\":{\"xaxis\":{\"backgroundcolor\":\"#E5ECF6\",\"gridcolor\":\"white\",\"gridwidth\":2,\"linecolor\":\"white\",\"showbackground\":true,\"ticks\":\"\",\"zerolinecolor\":\"white\"},\"yaxis\":{\"backgroundcolor\":\"#E5ECF6\",\"gridcolor\":\"white\",\"gridwidth\":2,\"linecolor\":\"white\",\"showbackground\":true,\"ticks\":\"\",\"zerolinecolor\":\"white\"},\"zaxis\":{\"backgroundcolor\":\"#E5ECF6\",\"gridcolor\":\"white\",\"gridwidth\":2,\"linecolor\":\"white\",\"showbackground\":true,\"ticks\":\"\",\"zerolinecolor\":\"white\"}},\"shapedefaults\":{\"line\":{\"color\":\"#2a3f5f\"}},\"ternary\":{\"aaxis\":{\"gridcolor\":\"white\",\"linecolor\":\"white\",\"ticks\":\"\"},\"baxis\":{\"gridcolor\":\"white\",\"linecolor\":\"white\",\"ticks\":\"\"},\"bgcolor\":\"#E5ECF6\",\"caxis\":{\"gridcolor\":\"white\",\"linecolor\":\"white\",\"ticks\":\"\"}},\"title\":{\"x\":0.05},\"xaxis\":{\"automargin\":true,\"gridcolor\":\"white\",\"linecolor\":\"white\",\"ticks\":\"\",\"title\":{\"standoff\":15},\"zerolinecolor\":\"white\",\"zerolinewidth\":2},\"yaxis\":{\"automargin\":true,\"gridcolor\":\"white\",\"linecolor\":\"white\",\"ticks\":\"\",\"title\":{\"standoff\":15},\"zerolinecolor\":\"white\",\"zerolinewidth\":2}}},\"xaxis\":{\"anchor\":\"y\",\"domain\":[0.0,1.0],\"title\":{\"text\":\"x\"}},\"yaxis\":{\"anchor\":\"x\",\"domain\":[0.0,1.0],\"title\":{\"text\":\"y\"}},\"legend\":{\"tracegroupgap\":0},\"margin\":{\"t\":60},\"barmode\":\"relative\"},                        {\"responsive\": true}                    ).then(function(){\n",
       "                            \n",
       "var gd = document.getElementById('cdbc1a5c-ad15-4750-9220-b9595111a703');\n",
       "var x = new MutationObserver(function (mutations, observer) {{\n",
       "        var display = window.getComputedStyle(gd).display;\n",
       "        if (!display || display === 'none') {{\n",
       "            console.log([gd, 'removed!']);\n",
       "            Plotly.purge(gd);\n",
       "            observer.disconnect();\n",
       "        }}\n",
       "}});\n",
       "\n",
       "// Listen for the removal of the full notebook cells\n",
       "var notebookContainer = gd.closest('#notebook-container');\n",
       "if (notebookContainer) {{\n",
       "    x.observe(notebookContainer, {childList: true});\n",
       "}}\n",
       "\n",
       "// Listen for the clearing of the current output cell\n",
       "var outputEl = gd.closest('.output');\n",
       "if (outputEl) {{\n",
       "    x.observe(outputEl, {childList: true});\n",
       "}}\n",
       "\n",
       "                        })                };                });            </script>        </div>"
      ]
     },
     "metadata": {},
     "output_type": "display_data"
    }
   ],
   "source": [
    "df2 = df_dates.copy()\n",
    "df2 = df2.groupby(['verantwoordelijke'])['dagen'].mean()\n",
    "\n",
    "fig = px.bar(x=df2.index, y=df2.values)\n",
    "fig.show()"
   ]
  },
  {
   "cell_type": "code",
   "execution_count": null,
   "id": "78d8aa9b",
   "metadata": {},
   "outputs": [],
   "source": []
  },
  {
   "cell_type": "code",
   "execution_count": null,
   "id": "c325b27a",
   "metadata": {},
   "outputs": [],
   "source": []
  },
  {
   "cell_type": "code",
   "execution_count": null,
   "id": "cdd552a4",
   "metadata": {},
   "outputs": [],
   "source": []
  }
 ],
 "metadata": {
  "kernelspec": {
   "display_name": "Python 3 (ipykernel)",
   "language": "python",
   "name": "python3"
  },
  "language_info": {
   "codemirror_mode": {
    "name": "ipython",
    "version": 3
   },
   "file_extension": ".py",
   "mimetype": "text/x-python",
   "name": "python",
   "nbconvert_exporter": "python",
   "pygments_lexer": "ipython3",
   "version": "3.9.10"
  }
 },
 "nbformat": 4,
 "nbformat_minor": 5
}
