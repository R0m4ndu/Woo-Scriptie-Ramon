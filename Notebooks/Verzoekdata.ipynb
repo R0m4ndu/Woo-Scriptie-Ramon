{
 "cells": [
  {
   "cell_type": "code",
   "execution_count": 103,
   "id": "550ff4e1",
   "metadata": {},
   "outputs": [],
   "source": [
    "from selenium import webdriver\n",
    "from selenium.webdriver.chrome.service import Service\n",
    "from webdriver_manager.chrome import ChromeDriverManager\n",
    "from selenium.webdriver.common.by import By\n",
    "import time\n",
    "from selenium.webdriver.support.ui import WebDriverWait\n",
    "from selenium.webdriver.support import expected_conditions as EC\n",
    "import pandas as pd\n",
    "import numpy as np\n",
    "import regex as re\n",
    "from bs4 import BeautifulSoup\n",
    "import requests\n",
    "import urllib\n",
    "from urllib.request import urlopen\n",
    "from selenium.common.exceptions import NoSuchElementException\n",
    "from collections import Counter\n",
    "import math\n",
    "import io\n",
    "from PyPDF2 import PdfReader\n",
    "import datefinder\n",
    "import plotly.express as px\n",
    "from PIL import Image\n",
    "import pytesseract\n",
    "import pdf2image\n",
    "import nltk"
   ]
  },
  {
   "cell_type": "code",
   "execution_count": 104,
   "id": "10c2d8bd",
   "metadata": {},
   "outputs": [],
   "source": [
    "import requests\n",
    "from io import BytesIO\n",
    "from pdf2image import convert_from_bytes"
   ]
  },
  {
   "cell_type": "code",
   "execution_count": 105,
   "id": "9d28bb14",
   "metadata": {},
   "outputs": [],
   "source": [
    "def OCR_PDF(url):\n",
    "    tokenizer = nltk.tokenize.punkt.PunktSentenceTokenizer()\n",
    "    tokenizer._params.abbrev_types.update({'d.d'})\n",
    "    \n",
    "    pytesseract.pytesseract.tesseract_cmd = r'C:\\Users\\ramon\\AppData\\Local\\Programs\\Tesseract-OCR\\tesseract.exe'\n",
    "\n",
    "    pdf = requests.get(url)\n",
    "    \n",
    "    images = pdf2image.convert_from_bytes(pdf.content, first_page=1, last_page=1, poppler_path=r\"C:\\Users\\ramon\\Downloads\\Release-23.01.0-0\\poppler-23.01.0\\Library\\bin\")\n",
    "    \n",
    "    image = images[0]\n",
    "    \n",
    "    image.save('page.jpg', 'JPEG')\n",
    "    \n",
    "    string = pytesseract.image_to_string(Image.open('page.jpg'))\n",
    "    \n",
    "    string = string.lower()\n",
    "        \n",
    "    string = string.replace('\\n', ' ')\n",
    "    sentences = tokenizer.tokenize(string)\n",
    "    \n",
    "    return sentences\n",
    "\n",
    "#print(OCR_PDF('https://open.overheid.nl/documenten/ronl-450993204517c5bb0a905ce3ad989c9ac5c4a4ae/pdf'))"
   ]
  },
  {
   "cell_type": "code",
   "execution_count": 159,
   "id": "61c2a35d",
   "metadata": {},
   "outputs": [
    {
     "name": "stdout",
     "output_type": "stream",
     "text": [
      "('08-04-2022', 2)\n"
     ]
    }
   ],
   "source": [
    "# Hiermee is het mogelijk om pdf's te lezen uit een pdfreader wellicht waardeloos, maar kan in sommige gevallen wellicht \n",
    "# wel handig blijken want soms is de verzoekdatum wel makkelijk te achterhalen https://open.overheid.nl/Details/ronl-b1ffb1d37c52ac6e77427cffeaf330381012b589/1#panel-teksterhalen (in uw brief van ... ) om maar een vb te noemen\n",
    "\n",
    "def verzoek_datum(url, OCR = False):\n",
    "    geachte_bool = False\n",
    "    \n",
    "    tokenizer = nltk.tokenize.punkt.PunktSentenceTokenizer()\n",
    "\n",
    "    # ignore d.d. anders wordt dit als het einde van een zin gezien.\n",
    "    tokenizer._params.abbrev_types.update({'d.d'})\n",
    "    \n",
    "    bools = []\n",
    "    \n",
    "    r = requests.get(url)\n",
    "    f = io.BytesIO(r.content)\n",
    "    \n",
    "    try:\n",
    "        reader = PdfReader(f)\n",
    "        pdf_len = len(reader.pages)\n",
    "\n",
    "    except:\n",
    "        return np.nan, 0\n",
    "    \n",
    "    # leest eerste pagina enige mogelijk nuttige pagina lijkt mij\n",
    "    contents = reader.pages[0].extract_text()\n",
    "    contents = contents.lower()\n",
    "    \n",
    "    contents = contents.replace('\\n', ' ')\n",
    "    contents = tokenizer.tokenize(contents)\n",
    "    \n",
    "    if contents == []:\n",
    "        if OCR == False:\n",
    "            return \"image\", pdf_len\n",
    "        \n",
    "        if OCR == True:\n",
    "            contents = OCR_PDF(url)\n",
    "         \n",
    "    # als wob of woo niet 1x genoemd wordt ga ik ervan uit dat we met een ander soort verzoek te maken hebben.\n",
    "    \n",
    "    terms_to_check = [\"wob\", \"woo\", \"wet open overheid\", \"wet openbaarheid van bestuur\", \"wetopenoverheid\", \"wetopenbaarheidvanbestuur\"]\n",
    "    if not any(word in sentence for sentence in contents for word in terms_to_check):\n",
    "        return np.nan, pdf_len\n",
    "    else:\n",
    "        bools.append(True)\n",
    "    \n",
    "    if any(\"betreft\" in s for s in contents):\n",
    "        bools.append(True)\n",
    "\n",
    "    if any(\"datum:\" in s for s in contents):\n",
    "        bools.append(True)\n",
    "        \n",
    "    if any(\"onderwerp\" in s for s in contents):\n",
    "        bools.append(True)\n",
    "        \n",
    "    if any(\"ons kenmerk\" in s for s in contents):\n",
    "        bools.append(True)\n",
    "        \n",
    "    if any(\"retouradres postbus\" in s for s in contents):\n",
    "        bools.append(True)\n",
    "        \n",
    "    if any(\"verzoek\" in s for s in contents):\n",
    "        bools.append(True)\n",
    "    \n",
    "    if sum(bools) <= 1:\n",
    "        return np.nan, pdf_len\n",
    "    \n",
    "    # proberen contents te splitsen want de verzoekdatum zal altijd na 'geachte' komen\n",
    "    contents = ' '.join(contents)\n",
    "    \n",
    "    # geen geachte maar geacht want de persoon is vaak gelakt en dat lijd tot slecht leesbare\n",
    "    contents = contents.split('geachte')\n",
    "\n",
    "    if len(contents) > 1:\n",
    "        geachte_bool = True\n",
    "        contents = contents[1]\n",
    "    else:\n",
    "        contents = contents[0]\n",
    "        \n",
    "    contents = contents.replace('\\n', ' ')\n",
    "    contents = tokenizer.tokenize(contents)\n",
    "    \n",
    "    matching = []\n",
    "    possible_matches = ['inuw', 'heeftu', 'verzoekingediend', 'uheeft', 'hebbenuw', 'uwverzoek','uwbrief', 'uwmail', 'bijbriefvan', 'middelseenverzoek', 'verzochtu']\n",
    "    for content in contents:\n",
    "        content = content.replace(\" \", \"\")\n",
    "        if any(i in content for i in possible_matches) == True:\n",
    "            if content != 'wiltuslechtséénzaakinuwbriefbehandelen.':\n",
    "                matching = content\n",
    "                break\n",
    "\n",
    "    if matching == []:\n",
    "        return np.nan, pdf_len\n",
    "    \n",
    "    # weird empty spaces that occur often will be removed\n",
    "    matching = matching.split(' ')\n",
    "    if '' in matching:\n",
    "        matching = [i for i in matching if i != '']\n",
    "    \n",
    "    # omdat de datum van het verzoek meestal in de eerste zin staat willen we de eerste match\n",
    "    matching = ' '.join(matching)\n",
    "    \n",
    "    maanden = ['januari','februari','maart', 'april', 'mei', 'juni', 'juli', 'augustus', 'september', 'oktober', 'november', 'december']\n",
    "    \n",
    "    reg = re.findall(r\"(0?[1-9]|[12][0-9]|3[01])[^0-9.]?(januari|februari|maart|april|mei|juni|juli|september|augustus|oktober|november|december).?(:19[7-9]\\d|2\\d{3})(?=\\D|$)\", matching)\n",
    "        \n",
    "    if reg == []:\n",
    "        return np.nan, pdf_len\n",
    "    \n",
    "    if 'datum' in matching and len(reg) > 1 and geachte_bool == False:\n",
    "        reg = reg[1]\n",
    "    \n",
    "    else:\n",
    "        reg = reg[0]\n",
    "\n",
    "    for n in enumerate(maanden):\n",
    "        if reg[1] == n[1]:\n",
    "            reg = list(reg)\n",
    "            if n[0] < 9:\n",
    "                reg[1] = '0' + str(n[0] + 1)\n",
    "            else:\n",
    "                reg[1] = str(n[0] + 1)\n",
    "    \n",
    "    if len(reg[0]) == 1:\n",
    "        reg[0] = '0' + reg[0]\n",
    "    \n",
    "    reg = '-'.join(reg)\n",
    "    \n",
    "    return reg, pdf_len\n",
    "\n",
    "print(verzoek_datum('https://open.overheid.nl/documenten/ronl-8711a9e3de852cecd16d28cc4150c07933a8b9f2/pdf', False))\n"
   ]
  },
  {
   "cell_type": "markdown",
   "id": "efbcd1ad",
   "metadata": {},
   "source": [
    "https://open.overheid.nl/documenten/ronl-c8fdc0ed398409a1dbeae58c46f59d4fee7e0b64/pdf is een ander soort verzoek maar komt ook door de keuring heen."
   ]
  },
  {
   "cell_type": "code",
   "execution_count": null,
   "id": "d3905bbc",
   "metadata": {
    "scrolled": false
   },
   "outputs": [],
   "source": [
    "Dataframe = pd.read_csv('Woo5mei.csv')\n",
    "\n",
    "display(Dataframe[3040:])"
   ]
  },
  {
   "cell_type": "markdown",
   "id": "c3eefd38",
   "metadata": {},
   "source": [
    "Deelbesluiten etc omzetten tot gewoon besluit. "
   ]
  },
  {
   "cell_type": "code",
   "execution_count": null,
   "id": "aedce7be",
   "metadata": {},
   "outputs": [],
   "source": [
    "def eerstwrd(woord):\n",
    "    \n",
    "    eerste3woorden = woord.split(' ')[:3]\n",
    "    string = ' '.join(eerste3woorden)\n",
    "    \n",
    "    if 'besluit' in string:\n",
    "        if eerste3woorden[2].isnumeric() == True:\n",
    "            Split = woord.split(eerste3woorden[2])\n",
    "        elif eerste3woorden[1].isnumeric() == True:\n",
    "            Split = woord.split(eerste3woorden[1])    \n",
    "            \n",
    "        else:\n",
    "            Split = woord.split('besluit')\n",
    "        \n",
    "        return 'Besluit' + Split[1]\n",
    "    \n",
    "    elif 'beslissing' in string:\n",
    "        \n",
    "        if eerste3woorden[2].isnumeric() == True:\n",
    "            Split = woord.split(eerste3woorden[2])\n",
    "        elif eerste3woorden[1].isnumeric() == True:\n",
    "            Split = woord.split(eerste3woorden[1])    \n",
    "        else:\n",
    "            Split = woord.split('beslissing')\n",
    "            \n",
    "        return 'Beslissing' + Split[1]\n",
    "    \n",
    "    else:\n",
    "        return woord"
   ]
  },
  {
   "cell_type": "code",
   "execution_count": null,
   "id": "f7a2add3",
   "metadata": {},
   "outputs": [],
   "source": [
    "Dataframe['Documentdatum'] = pd.to_datetime(Dataframe['Documentdatum'], format='%d-%m-%Y')\n",
    "Dataframe = Dataframe.loc[Dataframe['Documentdatum'] >= '01-05-2022']\n",
    "\n",
    "Dataframe['Verzoek'] = Dataframe['Verzoek'].map(lambda x:eerstwrd(x))\n",
    "\n",
    "# deze functie zal het wisselende beginwoord proberen te veranderen naar Besluit of Beslissing\n",
    "Dataframe['eerste_woord'] = Dataframe['Verzoek'].str.split(' ').str.get(0)\n",
    "\n",
    "# Omdat het moeilijk is om te bepalen welk beginwoord wel of niet te droppen heb ik besloten enkel deze te behouden.\n",
    "woord_list = ['Besluit', 'Wob-verzoek', 'Beslissing', 'Wob-besluit', 'Woo-verzoek','Woo-besluit']\n",
    "\n",
    "Dataframe = Dataframe[Dataframe['eerste_woord'].isin(woord_list)]\n",
    "Dataframe = Dataframe.drop('eerste_woord', axis=1)\n",
    "\n",
    "display(Dataframe)"
   ]
  },
  {
   "cell_type": "markdown",
   "id": "99788dd7",
   "metadata": {},
   "source": [
    "Enkel besluiten van ministeries hebben de structuur die bruikbaar is. "
   ]
  },
  {
   "cell_type": "code",
   "execution_count": 107,
   "id": "bca746b7",
   "metadata": {},
   "outputs": [],
   "source": [
    "def eerste_woord(string):\n",
    "    spl = string.split(' ')\n",
    "    if spl[0] != 'Ministerie':\n",
    "        return np.nan\n",
    "    else:\n",
    "        return string"
   ]
  },
  {
   "cell_type": "code",
   "execution_count": 108,
   "id": "4b3f144c",
   "metadata": {},
   "outputs": [
    {
     "name": "stdout",
     "output_type": "stream",
     "text": [
      "2775\n",
      "2775\n"
     ]
    }
   ],
   "source": [
    "print(len(Dataframe))\n",
    "Dataframe['Verantwoordelijke'] = Dataframe['Verantwoordelijke'].map(lambda x:eerste_woord(x))\n",
    "Dataframe = Dataframe[Dataframe['Verantwoordelijke'].notna()]\n",
    "print(len(Dataframe))"
   ]
  },
  {
   "cell_type": "markdown",
   "id": "348cf4d0",
   "metadata": {},
   "source": [
    "Statistieken over de verzoekdatum:"
   ]
  },
  {
   "cell_type": "code",
   "execution_count": 109,
   "id": "c72af32a",
   "metadata": {},
   "outputs": [
    {
     "name": "stdout",
     "output_type": "stream",
     "text": [
      "2775 Totaal aantal documenten\n",
      "1466 Aantal documenten zonder vindbare verzoekdatum\n",
      "334 Documenten die niet leesbaar zijn (images)\n",
      "12.036036036036037 % fotos\n",
      "35.13513513513514 % met verzoekdatum\n"
     ]
    }
   ],
   "source": [
    "x = Dataframe['verzoekdatum'].values.tolist()\n",
    "\n",
    "total = len(x)\n",
    "nans = len([i for i in x if i is np.nan])\n",
    "imgs = len([i for i in x if i == 'image'])\n",
    "\n",
    "print(f'{total} Totaal aantal documenten')\n",
    "print(f\"{nans} Aantal documenten zonder vindbare verzoekdatum\")\n",
    "print(f'{imgs} Documenten die niet leesbaar zijn (images)')\n",
    "\n",
    "dates = total - nans - imgs\n",
    "print(str((imgs/total) * 100) + ' % fotos')\n",
    "print(str((dates/total) * 100) + ' % met verzoekdatum')"
   ]
  },
  {
   "cell_type": "markdown",
   "id": "fe44995b",
   "metadata": {},
   "source": [
    "Ik haal op dit moment alle besluiten met meerdere data weg maar er kan in de toekomst gekozen worden om dan de eerste of laatste datum te nemen afhankelijk van wat wenselijk is."
   ]
  },
  {
   "cell_type": "code",
   "execution_count": 110,
   "id": "536bfc90",
   "metadata": {},
   "outputs": [
    {
     "data": {
      "text/html": [
       "<div>\n",
       "<style scoped>\n",
       "    .dataframe tbody tr th:only-of-type {\n",
       "        vertical-align: middle;\n",
       "    }\n",
       "\n",
       "    .dataframe tbody tr th {\n",
       "        vertical-align: top;\n",
       "    }\n",
       "\n",
       "    .dataframe thead th {\n",
       "        text-align: right;\n",
       "    }\n",
       "</style>\n",
       "<table border=\"1\" class=\"dataframe\">\n",
       "  <thead>\n",
       "    <tr style=\"text-align: right;\">\n",
       "      <th></th>\n",
       "      <th>Verzoek</th>\n",
       "      <th>doc_counts</th>\n",
       "    </tr>\n",
       "  </thead>\n",
       "  <tbody>\n",
       "    <tr>\n",
       "      <th>0</th>\n",
       "      <td>Beslissing op bezwaar Wob verzoek corresponden...</td>\n",
       "      <td>20</td>\n",
       "    </tr>\n",
       "    <tr>\n",
       "      <th>1</th>\n",
       "      <td>Beslissing op bezwaar Wob-/Woo-verzoek over in...</td>\n",
       "      <td>185</td>\n",
       "    </tr>\n",
       "    <tr>\n",
       "      <th>2</th>\n",
       "      <td>Beslissing op bezwaar Wob-/Woo-verzoek over ve...</td>\n",
       "      <td>79</td>\n",
       "    </tr>\n",
       "    <tr>\n",
       "      <th>3</th>\n",
       "      <td>Beslissing op bezwaar Wob-besluit Financiën ov...</td>\n",
       "      <td>5</td>\n",
       "    </tr>\n",
       "    <tr>\n",
       "      <th>4</th>\n",
       "      <td>Beslissing op bezwaar Wob-besluit over afstemm...</td>\n",
       "      <td>5</td>\n",
       "    </tr>\n",
       "    <tr>\n",
       "      <th>...</th>\n",
       "      <td>...</td>\n",
       "      <td>...</td>\n",
       "    </tr>\n",
       "    <tr>\n",
       "      <th>1128</th>\n",
       "      <td>Besluit van Wob-verzoek over productverbetering</td>\n",
       "      <td>50</td>\n",
       "    </tr>\n",
       "    <tr>\n",
       "      <th>1129</th>\n",
       "      <td>Woo-verzoek Evaluatiecommissie Tuitjenhorn</td>\n",
       "      <td>357</td>\n",
       "    </tr>\n",
       "    <tr>\n",
       "      <th>1130</th>\n",
       "      <td>Woo-verzoek over de identiteit achter anonieme...</td>\n",
       "      <td>3</td>\n",
       "    </tr>\n",
       "    <tr>\n",
       "      <th>1131</th>\n",
       "      <td>Woo-verzoek over landbouwvrijstelling in inkom...</td>\n",
       "      <td>15</td>\n",
       "    </tr>\n",
       "    <tr>\n",
       "      <th>1132</th>\n",
       "      <td>Woo-verzoek over ongeval met trampoline</td>\n",
       "      <td>9</td>\n",
       "    </tr>\n",
       "  </tbody>\n",
       "</table>\n",
       "<p>1133 rows × 2 columns</p>\n",
       "</div>"
      ],
      "text/plain": [
       "                                                Verzoek  doc_counts\n",
       "0     Beslissing op bezwaar Wob verzoek corresponden...          20\n",
       "1     Beslissing op bezwaar Wob-/Woo-verzoek over in...         185\n",
       "2     Beslissing op bezwaar Wob-/Woo-verzoek over ve...          79\n",
       "3     Beslissing op bezwaar Wob-besluit Financiën ov...           5\n",
       "4     Beslissing op bezwaar Wob-besluit over afstemm...           5\n",
       "...                                                 ...         ...\n",
       "1128    Besluit van Wob-verzoek over productverbetering          50\n",
       "1129         Woo-verzoek Evaluatiecommissie Tuitjenhorn         357\n",
       "1130  Woo-verzoek over de identiteit achter anonieme...           3\n",
       "1131  Woo-verzoek over landbouwvrijstelling in inkom...          15\n",
       "1132            Woo-verzoek over ongeval met trampoline           9\n",
       "\n",
       "[1133 rows x 2 columns]"
      ]
     },
     "metadata": {},
     "output_type": "display_data"
    }
   ],
   "source": [
    "df_length = Dataframe.groupby(['Verzoek'])['Doc_len'].sum().reset_index(name='doc_counts')\n",
    "\n",
    "display(df_length)"
   ]
  },
  {
   "cell_type": "code",
   "execution_count": 111,
   "id": "8c575d02",
   "metadata": {},
   "outputs": [],
   "source": [
    "df_document_len = df_documentdatums.join(df_length.set_index('Verzoek'), on='Verzoek')\n",
    "df_document_len = df_document_len.drop(['docdatums', 'urls'], axis=1)\n",
    "\n",
    "df_document_len = df_document_len.reset_index(drop=True)"
   ]
  },
  {
   "cell_type": "code",
   "execution_count": 249,
   "id": "abff5ed2",
   "metadata": {
    "scrolled": true
   },
   "outputs": [
    {
     "data": {
      "text/html": [
       "<div>\n",
       "<style scoped>\n",
       "    .dataframe tbody tr th:only-of-type {\n",
       "        vertical-align: middle;\n",
       "    }\n",
       "\n",
       "    .dataframe tbody tr th {\n",
       "        vertical-align: top;\n",
       "    }\n",
       "\n",
       "    .dataframe thead th {\n",
       "        text-align: right;\n",
       "    }\n",
       "</style>\n",
       "<table border=\"1\" class=\"dataframe\">\n",
       "  <thead>\n",
       "    <tr style=\"text-align: right;\">\n",
       "      <th></th>\n",
       "      <th>Verzoek</th>\n",
       "      <th>Publicatiedatum</th>\n",
       "    </tr>\n",
       "  </thead>\n",
       "  <tbody>\n",
       "    <tr>\n",
       "      <th>0</th>\n",
       "      <td>Beslissing op bezwaar Wob verzoek corresponden...</td>\n",
       "      <td>{06-10-2022}</td>\n",
       "    </tr>\n",
       "    <tr>\n",
       "      <th>1</th>\n",
       "      <td>Beslissing op bezwaar Wob-/Woo-verzoek over in...</td>\n",
       "      <td>{11-01-2023}</td>\n",
       "    </tr>\n",
       "    <tr>\n",
       "      <th>2</th>\n",
       "      <td>Beslissing op bezwaar Wob-/Woo-verzoek over ve...</td>\n",
       "      <td>{27-02-2023}</td>\n",
       "    </tr>\n",
       "    <tr>\n",
       "      <th>3</th>\n",
       "      <td>Beslissing op bezwaar Wob-besluit Financiën ov...</td>\n",
       "      <td>{16-05-2022}</td>\n",
       "    </tr>\n",
       "    <tr>\n",
       "      <th>4</th>\n",
       "      <td>Beslissing op bezwaar Wob-besluit over afstemm...</td>\n",
       "      <td>{09-02-2023}</td>\n",
       "    </tr>\n",
       "    <tr>\n",
       "      <th>...</th>\n",
       "      <td>...</td>\n",
       "      <td>...</td>\n",
       "    </tr>\n",
       "    <tr>\n",
       "      <th>1128</th>\n",
       "      <td>Besluit van Wob-verzoek over productverbetering</td>\n",
       "      <td>{13-10-2022, 14-10-2022}</td>\n",
       "    </tr>\n",
       "    <tr>\n",
       "      <th>1129</th>\n",
       "      <td>Woo-verzoek Evaluatiecommissie Tuitjenhorn</td>\n",
       "      <td>{30-06-2022}</td>\n",
       "    </tr>\n",
       "    <tr>\n",
       "      <th>1130</th>\n",
       "      <td>Woo-verzoek over de identiteit achter anonieme...</td>\n",
       "      <td>{25-08-2022}</td>\n",
       "    </tr>\n",
       "    <tr>\n",
       "      <th>1131</th>\n",
       "      <td>Woo-verzoek over landbouwvrijstelling in inkom...</td>\n",
       "      <td>{27-02-2023}</td>\n",
       "    </tr>\n",
       "    <tr>\n",
       "      <th>1132</th>\n",
       "      <td>Woo-verzoek over ongeval met trampoline</td>\n",
       "      <td>{23-08-2022}</td>\n",
       "    </tr>\n",
       "  </tbody>\n",
       "</table>\n",
       "<p>1133 rows × 2 columns</p>\n",
       "</div>"
      ],
      "text/plain": [
       "                                                Verzoek  \\\n",
       "0     Beslissing op bezwaar Wob verzoek corresponden...   \n",
       "1     Beslissing op bezwaar Wob-/Woo-verzoek over in...   \n",
       "2     Beslissing op bezwaar Wob-/Woo-verzoek over ve...   \n",
       "3     Beslissing op bezwaar Wob-besluit Financiën ov...   \n",
       "4     Beslissing op bezwaar Wob-besluit over afstemm...   \n",
       "...                                                 ...   \n",
       "1128    Besluit van Wob-verzoek over productverbetering   \n",
       "1129         Woo-verzoek Evaluatiecommissie Tuitjenhorn   \n",
       "1130  Woo-verzoek over de identiteit achter anonieme...   \n",
       "1131  Woo-verzoek over landbouwvrijstelling in inkom...   \n",
       "1132            Woo-verzoek over ongeval met trampoline   \n",
       "\n",
       "               Publicatiedatum  \n",
       "0                 {06-10-2022}  \n",
       "1                 {11-01-2023}  \n",
       "2                 {27-02-2023}  \n",
       "3                 {16-05-2022}  \n",
       "4                 {09-02-2023}  \n",
       "...                        ...  \n",
       "1128  {13-10-2022, 14-10-2022}  \n",
       "1129              {30-06-2022}  \n",
       "1130              {25-08-2022}  \n",
       "1131              {27-02-2023}  \n",
       "1132              {23-08-2022}  \n",
       "\n",
       "[1133 rows x 2 columns]"
      ]
     },
     "metadata": {},
     "output_type": "display_data"
    },
    {
     "data": {
      "text/html": [
       "<div>\n",
       "<style scoped>\n",
       "    .dataframe tbody tr th:only-of-type {\n",
       "        vertical-align: middle;\n",
       "    }\n",
       "\n",
       "    .dataframe tbody tr th {\n",
       "        vertical-align: top;\n",
       "    }\n",
       "\n",
       "    .dataframe thead th {\n",
       "        text-align: right;\n",
       "    }\n",
       "</style>\n",
       "<table border=\"1\" class=\"dataframe\">\n",
       "  <thead>\n",
       "    <tr style=\"text-align: right;\">\n",
       "      <th></th>\n",
       "      <th>Verzoek</th>\n",
       "      <th>Publicatiedatum</th>\n",
       "    </tr>\n",
       "  </thead>\n",
       "  <tbody>\n",
       "    <tr>\n",
       "      <th>0</th>\n",
       "      <td>Beslissing op bezwaar Wob verzoek corresponden...</td>\n",
       "      <td>06-10-2022</td>\n",
       "    </tr>\n",
       "    <tr>\n",
       "      <th>1</th>\n",
       "      <td>Beslissing op bezwaar Wob-/Woo-verzoek over in...</td>\n",
       "      <td>11-01-2023</td>\n",
       "    </tr>\n",
       "    <tr>\n",
       "      <th>2</th>\n",
       "      <td>Beslissing op bezwaar Wob-/Woo-verzoek over ve...</td>\n",
       "      <td>27-02-2023</td>\n",
       "    </tr>\n",
       "    <tr>\n",
       "      <th>3</th>\n",
       "      <td>Beslissing op bezwaar Wob-besluit Financiën ov...</td>\n",
       "      <td>16-05-2022</td>\n",
       "    </tr>\n",
       "    <tr>\n",
       "      <th>4</th>\n",
       "      <td>Beslissing op bezwaar Wob-besluit over afstemm...</td>\n",
       "      <td>09-02-2023</td>\n",
       "    </tr>\n",
       "    <tr>\n",
       "      <th>...</th>\n",
       "      <td>...</td>\n",
       "      <td>...</td>\n",
       "    </tr>\n",
       "    <tr>\n",
       "      <th>1128</th>\n",
       "      <td>Besluit van Wob-verzoek over productverbetering</td>\n",
       "      <td>14-10-2022</td>\n",
       "    </tr>\n",
       "    <tr>\n",
       "      <th>1129</th>\n",
       "      <td>Woo-verzoek Evaluatiecommissie Tuitjenhorn</td>\n",
       "      <td>30-06-2022</td>\n",
       "    </tr>\n",
       "    <tr>\n",
       "      <th>1130</th>\n",
       "      <td>Woo-verzoek over de identiteit achter anonieme...</td>\n",
       "      <td>25-08-2022</td>\n",
       "    </tr>\n",
       "    <tr>\n",
       "      <th>1131</th>\n",
       "      <td>Woo-verzoek over landbouwvrijstelling in inkom...</td>\n",
       "      <td>27-02-2023</td>\n",
       "    </tr>\n",
       "    <tr>\n",
       "      <th>1132</th>\n",
       "      <td>Woo-verzoek over ongeval met trampoline</td>\n",
       "      <td>23-08-2022</td>\n",
       "    </tr>\n",
       "  </tbody>\n",
       "</table>\n",
       "<p>1133 rows × 2 columns</p>\n",
       "</div>"
      ],
      "text/plain": [
       "                                                Verzoek Publicatiedatum\n",
       "0     Beslissing op bezwaar Wob verzoek corresponden...      06-10-2022\n",
       "1     Beslissing op bezwaar Wob-/Woo-verzoek over in...      11-01-2023\n",
       "2     Beslissing op bezwaar Wob-/Woo-verzoek over ve...      27-02-2023\n",
       "3     Beslissing op bezwaar Wob-besluit Financiën ov...      16-05-2022\n",
       "4     Beslissing op bezwaar Wob-besluit over afstemm...      09-02-2023\n",
       "...                                                 ...             ...\n",
       "1128    Besluit van Wob-verzoek over productverbetering      14-10-2022\n",
       "1129         Woo-verzoek Evaluatiecommissie Tuitjenhorn      30-06-2022\n",
       "1130  Woo-verzoek over de identiteit achter anonieme...      25-08-2022\n",
       "1131  Woo-verzoek over landbouwvrijstelling in inkom...      27-02-2023\n",
       "1132            Woo-verzoek over ongeval met trampoline      23-08-2022\n",
       "\n",
       "[1133 rows x 2 columns]"
      ]
     },
     "metadata": {},
     "output_type": "display_data"
    }
   ],
   "source": [
    "df_publicatiedatums = Dataframe.groupby(['Verzoek'])['Publicatiedatum'].apply(set).reset_index(name='Publicatiedatum')\n",
    "\n",
    "display(df_publicatiedatums)\n",
    "\n",
    "df_publicatiedatums['Publicatiedatum'] = df_publicatiedatums['Publicatiedatum'].apply(lambda x: list(x)[-1])\n",
    "\n",
    "display(df_publicatiedatums)"
   ]
  },
  {
   "cell_type": "code",
   "execution_count": 250,
   "id": "a2703346",
   "metadata": {},
   "outputs": [
    {
     "data": {
      "text/html": [
       "<div>\n",
       "<style scoped>\n",
       "    .dataframe tbody tr th:only-of-type {\n",
       "        vertical-align: middle;\n",
       "    }\n",
       "\n",
       "    .dataframe tbody tr th {\n",
       "        vertical-align: top;\n",
       "    }\n",
       "\n",
       "    .dataframe thead th {\n",
       "        text-align: right;\n",
       "    }\n",
       "</style>\n",
       "<table border=\"1\" class=\"dataframe\">\n",
       "  <thead>\n",
       "    <tr style=\"text-align: right;\">\n",
       "      <th></th>\n",
       "      <th>Verzoek</th>\n",
       "      <th>Publicatiedatum</th>\n",
       "    </tr>\n",
       "  </thead>\n",
       "  <tbody>\n",
       "    <tr>\n",
       "      <th>0</th>\n",
       "      <td>Beslissing op bezwaar Wob verzoek corresponden...</td>\n",
       "      <td>06-10-2022</td>\n",
       "    </tr>\n",
       "    <tr>\n",
       "      <th>1</th>\n",
       "      <td>Beslissing op bezwaar Wob-/Woo-verzoek over in...</td>\n",
       "      <td>11-01-2023</td>\n",
       "    </tr>\n",
       "    <tr>\n",
       "      <th>2</th>\n",
       "      <td>Beslissing op bezwaar Wob-/Woo-verzoek over ve...</td>\n",
       "      <td>27-02-2023</td>\n",
       "    </tr>\n",
       "    <tr>\n",
       "      <th>3</th>\n",
       "      <td>Beslissing op bezwaar Wob-besluit Financiën ov...</td>\n",
       "      <td>16-05-2022</td>\n",
       "    </tr>\n",
       "    <tr>\n",
       "      <th>4</th>\n",
       "      <td>Beslissing op bezwaar Wob-besluit over afstemm...</td>\n",
       "      <td>09-02-2023</td>\n",
       "    </tr>\n",
       "    <tr>\n",
       "      <th>...</th>\n",
       "      <td>...</td>\n",
       "      <td>...</td>\n",
       "    </tr>\n",
       "    <tr>\n",
       "      <th>1107</th>\n",
       "      <td>Besluit van 20 juli 2022 op het verzoek inzake...</td>\n",
       "      <td>20-07-2022</td>\n",
       "    </tr>\n",
       "    <tr>\n",
       "      <th>1108</th>\n",
       "      <td>Woo-verzoek Evaluatiecommissie Tuitjenhorn</td>\n",
       "      <td>30-06-2022</td>\n",
       "    </tr>\n",
       "    <tr>\n",
       "      <th>1109</th>\n",
       "      <td>Woo-verzoek over de identiteit achter anonieme...</td>\n",
       "      <td>25-08-2022</td>\n",
       "    </tr>\n",
       "    <tr>\n",
       "      <th>1110</th>\n",
       "      <td>Woo-verzoek over landbouwvrijstelling in inkom...</td>\n",
       "      <td>27-02-2023</td>\n",
       "    </tr>\n",
       "    <tr>\n",
       "      <th>1111</th>\n",
       "      <td>Woo-verzoek over ongeval met trampoline</td>\n",
       "      <td>23-08-2022</td>\n",
       "    </tr>\n",
       "  </tbody>\n",
       "</table>\n",
       "<p>1112 rows × 2 columns</p>\n",
       "</div>"
      ],
      "text/plain": [
       "                                                Verzoek Publicatiedatum\n",
       "0     Beslissing op bezwaar Wob verzoek corresponden...      06-10-2022\n",
       "1     Beslissing op bezwaar Wob-/Woo-verzoek over in...      11-01-2023\n",
       "2     Beslissing op bezwaar Wob-/Woo-verzoek over ve...      27-02-2023\n",
       "3     Beslissing op bezwaar Wob-besluit Financiën ov...      16-05-2022\n",
       "4     Beslissing op bezwaar Wob-besluit over afstemm...      09-02-2023\n",
       "...                                                 ...             ...\n",
       "1107  Besluit van 20 juli 2022 op het verzoek inzake...      20-07-2022\n",
       "1108         Woo-verzoek Evaluatiecommissie Tuitjenhorn      30-06-2022\n",
       "1109  Woo-verzoek over de identiteit achter anonieme...      25-08-2022\n",
       "1110  Woo-verzoek over landbouwvrijstelling in inkom...      27-02-2023\n",
       "1111            Woo-verzoek over ongeval met trampoline      23-08-2022\n",
       "\n",
       "[1112 rows x 2 columns]"
      ]
     },
     "metadata": {},
     "output_type": "display_data"
    }
   ],
   "source": [
    "df_publicatiedatums = df_documentdatums.join(df_publicatiedatums.set_index('Verzoek'), on='Verzoek')\n",
    "df_publicatiedatums = df_publicatiedatums.drop(['docdatums', 'urls'], axis=1)\n",
    "\n",
    "df_publicatiedatums = df_publicatiedatums.reset_index(drop=True)\n",
    "display(df_publicatiedatums)\n"
   ]
  },
  {
   "cell_type": "code",
   "execution_count": 112,
   "id": "03032c53",
   "metadata": {
    "scrolled": false
   },
   "outputs": [
    {
     "data": {
      "text/html": [
       "<div>\n",
       "<style scoped>\n",
       "    .dataframe tbody tr th:only-of-type {\n",
       "        vertical-align: middle;\n",
       "    }\n",
       "\n",
       "    .dataframe tbody tr th {\n",
       "        vertical-align: top;\n",
       "    }\n",
       "\n",
       "    .dataframe thead th {\n",
       "        text-align: right;\n",
       "    }\n",
       "</style>\n",
       "<table border=\"1\" class=\"dataframe\">\n",
       "  <thead>\n",
       "    <tr style=\"text-align: right;\">\n",
       "      <th></th>\n",
       "      <th>Verzoek</th>\n",
       "      <th>urls</th>\n",
       "    </tr>\n",
       "  </thead>\n",
       "  <tbody>\n",
       "    <tr>\n",
       "      <th>0</th>\n",
       "      <td>Beslissing op bezwaar Wob verzoek corresponden...</td>\n",
       "      <td>[https://open.overheid.nl/documenten/ronl-34e6...</td>\n",
       "    </tr>\n",
       "    <tr>\n",
       "      <th>1</th>\n",
       "      <td>Beslissing op bezwaar Wob-/Woo-verzoek over in...</td>\n",
       "      <td>[https://open.overheid.nl/documenten/ronl-7a0f...</td>\n",
       "    </tr>\n",
       "    <tr>\n",
       "      <th>2</th>\n",
       "      <td>Beslissing op bezwaar Wob-/Woo-verzoek over ve...</td>\n",
       "      <td>[https://open.overheid.nl/documenten/ronl-0ba9...</td>\n",
       "    </tr>\n",
       "    <tr>\n",
       "      <th>3</th>\n",
       "      <td>Beslissing op bezwaar Wob-besluit Financiën ov...</td>\n",
       "      <td>[https://open.overheid.nl/documenten/ronl-e3e1...</td>\n",
       "    </tr>\n",
       "    <tr>\n",
       "      <th>4</th>\n",
       "      <td>Beslissing op bezwaar Wob-besluit over afstemm...</td>\n",
       "      <td>[https://open.overheid.nl/documenten/ronl-07e2...</td>\n",
       "    </tr>\n",
       "    <tr>\n",
       "      <th>...</th>\n",
       "      <td>...</td>\n",
       "      <td>...</td>\n",
       "    </tr>\n",
       "    <tr>\n",
       "      <th>1128</th>\n",
       "      <td>Besluit van Wob-verzoek over productverbetering</td>\n",
       "      <td>[https://open.overheid.nl/documenten/ronl-0491...</td>\n",
       "    </tr>\n",
       "    <tr>\n",
       "      <th>1129</th>\n",
       "      <td>Woo-verzoek Evaluatiecommissie Tuitjenhorn</td>\n",
       "      <td>[https://open.overheid.nl/documenten/ronl-370d...</td>\n",
       "    </tr>\n",
       "    <tr>\n",
       "      <th>1130</th>\n",
       "      <td>Woo-verzoek over de identiteit achter anonieme...</td>\n",
       "      <td>[https://open.overheid.nl/documenten/ronl-2a0b...</td>\n",
       "    </tr>\n",
       "    <tr>\n",
       "      <th>1131</th>\n",
       "      <td>Woo-verzoek over landbouwvrijstelling in inkom...</td>\n",
       "      <td>[https://open.overheid.nl/documenten/ronl-1c09...</td>\n",
       "    </tr>\n",
       "    <tr>\n",
       "      <th>1132</th>\n",
       "      <td>Woo-verzoek over ongeval met trampoline</td>\n",
       "      <td>[https://open.overheid.nl/documenten/ronl-41c5...</td>\n",
       "    </tr>\n",
       "  </tbody>\n",
       "</table>\n",
       "<p>1133 rows × 2 columns</p>\n",
       "</div>"
      ],
      "text/plain": [
       "                                                Verzoek  \\\n",
       "0     Beslissing op bezwaar Wob verzoek corresponden...   \n",
       "1     Beslissing op bezwaar Wob-/Woo-verzoek over in...   \n",
       "2     Beslissing op bezwaar Wob-/Woo-verzoek over ve...   \n",
       "3     Beslissing op bezwaar Wob-besluit Financiën ov...   \n",
       "4     Beslissing op bezwaar Wob-besluit over afstemm...   \n",
       "...                                                 ...   \n",
       "1128    Besluit van Wob-verzoek over productverbetering   \n",
       "1129         Woo-verzoek Evaluatiecommissie Tuitjenhorn   \n",
       "1130  Woo-verzoek over de identiteit achter anonieme...   \n",
       "1131  Woo-verzoek over landbouwvrijstelling in inkom...   \n",
       "1132            Woo-verzoek over ongeval met trampoline   \n",
       "\n",
       "                                                   urls  \n",
       "0     [https://open.overheid.nl/documenten/ronl-34e6...  \n",
       "1     [https://open.overheid.nl/documenten/ronl-7a0f...  \n",
       "2     [https://open.overheid.nl/documenten/ronl-0ba9...  \n",
       "3     [https://open.overheid.nl/documenten/ronl-e3e1...  \n",
       "4     [https://open.overheid.nl/documenten/ronl-07e2...  \n",
       "...                                                 ...  \n",
       "1128  [https://open.overheid.nl/documenten/ronl-0491...  \n",
       "1129  [https://open.overheid.nl/documenten/ronl-370d...  \n",
       "1130  [https://open.overheid.nl/documenten/ronl-2a0b...  \n",
       "1131  [https://open.overheid.nl/documenten/ronl-1c09...  \n",
       "1132  [https://open.overheid.nl/documenten/ronl-41c5...  \n",
       "\n",
       "[1133 rows x 2 columns]"
      ]
     },
     "metadata": {},
     "output_type": "display_data"
    },
    {
     "data": {
      "text/html": [
       "<div>\n",
       "<style scoped>\n",
       "    .dataframe tbody tr th:only-of-type {\n",
       "        vertical-align: middle;\n",
       "    }\n",
       "\n",
       "    .dataframe tbody tr th {\n",
       "        vertical-align: top;\n",
       "    }\n",
       "\n",
       "    .dataframe thead th {\n",
       "        text-align: right;\n",
       "    }\n",
       "</style>\n",
       "<table border=\"1\" class=\"dataframe\">\n",
       "  <thead>\n",
       "    <tr style=\"text-align: right;\">\n",
       "      <th></th>\n",
       "      <th>Verzoek</th>\n",
       "      <th>docdatums</th>\n",
       "    </tr>\n",
       "  </thead>\n",
       "  <tbody>\n",
       "    <tr>\n",
       "      <th>0</th>\n",
       "      <td>Beslissing op bezwaar Wob verzoek corresponden...</td>\n",
       "      <td>2022-09-15</td>\n",
       "    </tr>\n",
       "    <tr>\n",
       "      <th>1</th>\n",
       "      <td>Beslissing op bezwaar Wob-/Woo-verzoek over in...</td>\n",
       "      <td>2022-12-23</td>\n",
       "    </tr>\n",
       "    <tr>\n",
       "      <th>2</th>\n",
       "      <td>Beslissing op bezwaar Wob-/Woo-verzoek over ve...</td>\n",
       "      <td>2023-01-27</td>\n",
       "    </tr>\n",
       "    <tr>\n",
       "      <th>3</th>\n",
       "      <td>Beslissing op bezwaar Wob-besluit Financiën ov...</td>\n",
       "      <td>2022-04-26</td>\n",
       "    </tr>\n",
       "    <tr>\n",
       "      <th>4</th>\n",
       "      <td>Beslissing op bezwaar Wob-besluit over afstemm...</td>\n",
       "      <td>2023-02-09</td>\n",
       "    </tr>\n",
       "    <tr>\n",
       "      <th>...</th>\n",
       "      <td>...</td>\n",
       "      <td>...</td>\n",
       "    </tr>\n",
       "    <tr>\n",
       "      <th>1127</th>\n",
       "      <td>Besluit van 20 juli 2022 op het verzoek inzake...</td>\n",
       "      <td>2022-07-20</td>\n",
       "    </tr>\n",
       "    <tr>\n",
       "      <th>1129</th>\n",
       "      <td>Woo-verzoek Evaluatiecommissie Tuitjenhorn</td>\n",
       "      <td>2022-06-30</td>\n",
       "    </tr>\n",
       "    <tr>\n",
       "      <th>1130</th>\n",
       "      <td>Woo-verzoek over de identiteit achter anonieme...</td>\n",
       "      <td>2022-08-25</td>\n",
       "    </tr>\n",
       "    <tr>\n",
       "      <th>1131</th>\n",
       "      <td>Woo-verzoek over landbouwvrijstelling in inkom...</td>\n",
       "      <td>2023-02-27</td>\n",
       "    </tr>\n",
       "    <tr>\n",
       "      <th>1132</th>\n",
       "      <td>Woo-verzoek over ongeval met trampoline</td>\n",
       "      <td>2022-08-23</td>\n",
       "    </tr>\n",
       "  </tbody>\n",
       "</table>\n",
       "<p>1112 rows × 2 columns</p>\n",
       "</div>"
      ],
      "text/plain": [
       "                                                Verzoek  docdatums\n",
       "0     Beslissing op bezwaar Wob verzoek corresponden... 2022-09-15\n",
       "1     Beslissing op bezwaar Wob-/Woo-verzoek over in... 2022-12-23\n",
       "2     Beslissing op bezwaar Wob-/Woo-verzoek over ve... 2023-01-27\n",
       "3     Beslissing op bezwaar Wob-besluit Financiën ov... 2022-04-26\n",
       "4     Beslissing op bezwaar Wob-besluit over afstemm... 2023-02-09\n",
       "...                                                 ...        ...\n",
       "1127  Besluit van 20 juli 2022 op het verzoek inzake... 2022-07-20\n",
       "1129         Woo-verzoek Evaluatiecommissie Tuitjenhorn 2022-06-30\n",
       "1130  Woo-verzoek over de identiteit achter anonieme... 2022-08-25\n",
       "1131  Woo-verzoek over landbouwvrijstelling in inkom... 2023-02-27\n",
       "1132            Woo-verzoek over ongeval met trampoline 2022-08-23\n",
       "\n",
       "[1112 rows x 2 columns]"
      ]
     },
     "metadata": {},
     "output_type": "display_data"
    },
    {
     "data": {
      "text/html": [
       "<div>\n",
       "<style scoped>\n",
       "    .dataframe tbody tr th:only-of-type {\n",
       "        vertical-align: middle;\n",
       "    }\n",
       "\n",
       "    .dataframe tbody tr th {\n",
       "        vertical-align: top;\n",
       "    }\n",
       "\n",
       "    .dataframe thead th {\n",
       "        text-align: right;\n",
       "    }\n",
       "</style>\n",
       "<table border=\"1\" class=\"dataframe\">\n",
       "  <thead>\n",
       "    <tr style=\"text-align: right;\">\n",
       "      <th></th>\n",
       "      <th>Verzoek</th>\n",
       "      <th>verdatums</th>\n",
       "    </tr>\n",
       "  </thead>\n",
       "  <tbody>\n",
       "    <tr>\n",
       "      <th>0</th>\n",
       "      <td>Beslissing op bezwaar Wob verzoek corresponden...</td>\n",
       "      <td>[nan, nan, nan]</td>\n",
       "    </tr>\n",
       "    <tr>\n",
       "      <th>1</th>\n",
       "      <td>Beslissing op bezwaar Wob-/Woo-verzoek over in...</td>\n",
       "      <td>[14-07-2022, nan, nan]</td>\n",
       "    </tr>\n",
       "    <tr>\n",
       "      <th>2</th>\n",
       "      <td>Beslissing op bezwaar Wob-/Woo-verzoek over ve...</td>\n",
       "      <td>[image, 02-11-2021, 02-11-2021]</td>\n",
       "    </tr>\n",
       "    <tr>\n",
       "      <th>3</th>\n",
       "      <td>Beslissing op bezwaar Wob-besluit Financiën ov...</td>\n",
       "      <td>[22-10-2021, nan]</td>\n",
       "    </tr>\n",
       "    <tr>\n",
       "      <th>4</th>\n",
       "      <td>Beslissing op bezwaar Wob-besluit over afstemm...</td>\n",
       "      <td>[nan, 05-10-2022]</td>\n",
       "    </tr>\n",
       "    <tr>\n",
       "      <th>...</th>\n",
       "      <td>...</td>\n",
       "      <td>...</td>\n",
       "    </tr>\n",
       "    <tr>\n",
       "      <th>1128</th>\n",
       "      <td>Besluit van Wob-verzoek over productverbetering</td>\n",
       "      <td>[13-01-2022, 13-01-2022]</td>\n",
       "    </tr>\n",
       "    <tr>\n",
       "      <th>1129</th>\n",
       "      <td>Woo-verzoek Evaluatiecommissie Tuitjenhorn</td>\n",
       "      <td>[22-10-2021, nan]</td>\n",
       "    </tr>\n",
       "    <tr>\n",
       "      <th>1130</th>\n",
       "      <td>Woo-verzoek over de identiteit achter anonieme...</td>\n",
       "      <td>[02-08-2022]</td>\n",
       "    </tr>\n",
       "    <tr>\n",
       "      <th>1131</th>\n",
       "      <td>Woo-verzoek over landbouwvrijstelling in inkom...</td>\n",
       "      <td>[nan, 07-08-2022, nan]</td>\n",
       "    </tr>\n",
       "    <tr>\n",
       "      <th>1132</th>\n",
       "      <td>Woo-verzoek over ongeval met trampoline</td>\n",
       "      <td>[11-05-2022]</td>\n",
       "    </tr>\n",
       "  </tbody>\n",
       "</table>\n",
       "<p>1133 rows × 2 columns</p>\n",
       "</div>"
      ],
      "text/plain": [
       "                                                Verzoek  \\\n",
       "0     Beslissing op bezwaar Wob verzoek corresponden...   \n",
       "1     Beslissing op bezwaar Wob-/Woo-verzoek over in...   \n",
       "2     Beslissing op bezwaar Wob-/Woo-verzoek over ve...   \n",
       "3     Beslissing op bezwaar Wob-besluit Financiën ov...   \n",
       "4     Beslissing op bezwaar Wob-besluit over afstemm...   \n",
       "...                                                 ...   \n",
       "1128    Besluit van Wob-verzoek over productverbetering   \n",
       "1129         Woo-verzoek Evaluatiecommissie Tuitjenhorn   \n",
       "1130  Woo-verzoek over de identiteit achter anonieme...   \n",
       "1131  Woo-verzoek over landbouwvrijstelling in inkom...   \n",
       "1132            Woo-verzoek over ongeval met trampoline   \n",
       "\n",
       "                            verdatums  \n",
       "0                     [nan, nan, nan]  \n",
       "1              [14-07-2022, nan, nan]  \n",
       "2     [image, 02-11-2021, 02-11-2021]  \n",
       "3                   [22-10-2021, nan]  \n",
       "4                   [nan, 05-10-2022]  \n",
       "...                               ...  \n",
       "1128         [13-01-2022, 13-01-2022]  \n",
       "1129                [22-10-2021, nan]  \n",
       "1130                     [02-08-2022]  \n",
       "1131           [nan, 07-08-2022, nan]  \n",
       "1132                     [11-05-2022]  \n",
       "\n",
       "[1133 rows x 2 columns]"
      ]
     },
     "metadata": {},
     "output_type": "display_data"
    }
   ],
   "source": [
    "df_urls = Dataframe.groupby(['Verzoek'])['url'].apply(list).reset_index(name='urls')\n",
    "# deelbesluiten hebben mogelijk meerdere data dus ook deze nemen we niet of later pas mee!\n",
    "df_documentdatums = Dataframe.groupby(['Verzoek'])['Documentdatum'].apply(set).reset_index(name='docdatums')\n",
    "df_documentdatums = df_documentdatums[df_documentdatums['docdatums'].map(lambda x: len(x)) == 1]\n",
    "df_documentdatums['docdatums'] = df_documentdatums['docdatums'].apply(lambda x: list(x)[0])\n",
    "\n",
    "df_verzoekdatums = Dataframe.groupby(['Verzoek'])['verzoekdatum'].apply(list).reset_index(name='verdatums')\n",
    "df_verantwoordelijke = Dataframe.groupby(['Verzoek'])['Verantwoordelijke'].apply(set).reset_index(name='verantwoordelijke')\n",
    "df_verantwoordelijke['verantwoordelijke'] = df_verantwoordelijke['verantwoordelijke'].apply(lambda x: list(x)[0])\n",
    "\n",
    "display(df_urls)\n",
    "display(df_documentdatums)\n",
    "display(df_verzoekdatums)"
   ]
  },
  {
   "cell_type": "code",
   "execution_count": 113,
   "id": "658666be",
   "metadata": {},
   "outputs": [
    {
     "data": {
      "text/html": [
       "<div>\n",
       "<style scoped>\n",
       "    .dataframe tbody tr th:only-of-type {\n",
       "        vertical-align: middle;\n",
       "    }\n",
       "\n",
       "    .dataframe tbody tr th {\n",
       "        vertical-align: top;\n",
       "    }\n",
       "\n",
       "    .dataframe thead th {\n",
       "        text-align: right;\n",
       "    }\n",
       "</style>\n",
       "<table border=\"1\" class=\"dataframe\">\n",
       "  <thead>\n",
       "    <tr style=\"text-align: right;\">\n",
       "      <th></th>\n",
       "      <th>Verzoek</th>\n",
       "      <th>verantwoordelijke</th>\n",
       "    </tr>\n",
       "  </thead>\n",
       "  <tbody>\n",
       "    <tr>\n",
       "      <th>0</th>\n",
       "      <td>Beslissing op bezwaar Wob verzoek corresponden...</td>\n",
       "      <td>Ministerie van Infrastructuur en Waterstaat</td>\n",
       "    </tr>\n",
       "    <tr>\n",
       "      <th>1</th>\n",
       "      <td>Beslissing op bezwaar Wob-/Woo-verzoek over in...</td>\n",
       "      <td>Ministerie van Infrastructuur en Waterstaat</td>\n",
       "    </tr>\n",
       "    <tr>\n",
       "      <th>2</th>\n",
       "      <td>Beslissing op bezwaar Wob-/Woo-verzoek over ve...</td>\n",
       "      <td>Ministerie van Landbouw, Natuur en Voedselkwal...</td>\n",
       "    </tr>\n",
       "    <tr>\n",
       "      <th>3</th>\n",
       "      <td>Beslissing op bezwaar Wob-besluit Financiën ov...</td>\n",
       "      <td>Ministerie van Financiën</td>\n",
       "    </tr>\n",
       "    <tr>\n",
       "      <th>4</th>\n",
       "      <td>Beslissing op bezwaar Wob-besluit over afstemm...</td>\n",
       "      <td>Ministerie van Financiën</td>\n",
       "    </tr>\n",
       "    <tr>\n",
       "      <th>...</th>\n",
       "      <td>...</td>\n",
       "      <td>...</td>\n",
       "    </tr>\n",
       "    <tr>\n",
       "      <th>1128</th>\n",
       "      <td>Besluit van Wob-verzoek over productverbetering</td>\n",
       "      <td>Ministerie van Volksgezondheid, Welzijn en Sport</td>\n",
       "    </tr>\n",
       "    <tr>\n",
       "      <th>1129</th>\n",
       "      <td>Woo-verzoek Evaluatiecommissie Tuitjenhorn</td>\n",
       "      <td>Ministerie van Justitie en Veiligheid</td>\n",
       "    </tr>\n",
       "    <tr>\n",
       "      <th>1130</th>\n",
       "      <td>Woo-verzoek over de identiteit achter anonieme...</td>\n",
       "      <td>Ministerie van Landbouw, Natuur en Voedselkwal...</td>\n",
       "    </tr>\n",
       "    <tr>\n",
       "      <th>1131</th>\n",
       "      <td>Woo-verzoek over landbouwvrijstelling in inkom...</td>\n",
       "      <td>Ministerie van Financiën</td>\n",
       "    </tr>\n",
       "    <tr>\n",
       "      <th>1132</th>\n",
       "      <td>Woo-verzoek over ongeval met trampoline</td>\n",
       "      <td>Ministerie van Landbouw, Natuur en Voedselkwal...</td>\n",
       "    </tr>\n",
       "  </tbody>\n",
       "</table>\n",
       "<p>1133 rows × 2 columns</p>\n",
       "</div>"
      ],
      "text/plain": [
       "                                                Verzoek  \\\n",
       "0     Beslissing op bezwaar Wob verzoek corresponden...   \n",
       "1     Beslissing op bezwaar Wob-/Woo-verzoek over in...   \n",
       "2     Beslissing op bezwaar Wob-/Woo-verzoek over ve...   \n",
       "3     Beslissing op bezwaar Wob-besluit Financiën ov...   \n",
       "4     Beslissing op bezwaar Wob-besluit over afstemm...   \n",
       "...                                                 ...   \n",
       "1128    Besluit van Wob-verzoek over productverbetering   \n",
       "1129         Woo-verzoek Evaluatiecommissie Tuitjenhorn   \n",
       "1130  Woo-verzoek over de identiteit achter anonieme...   \n",
       "1131  Woo-verzoek over landbouwvrijstelling in inkom...   \n",
       "1132            Woo-verzoek over ongeval met trampoline   \n",
       "\n",
       "                                      verantwoordelijke  \n",
       "0           Ministerie van Infrastructuur en Waterstaat  \n",
       "1           Ministerie van Infrastructuur en Waterstaat  \n",
       "2     Ministerie van Landbouw, Natuur en Voedselkwal...  \n",
       "3                              Ministerie van Financiën  \n",
       "4                              Ministerie van Financiën  \n",
       "...                                                 ...  \n",
       "1128   Ministerie van Volksgezondheid, Welzijn en Sport  \n",
       "1129              Ministerie van Justitie en Veiligheid  \n",
       "1130  Ministerie van Landbouw, Natuur en Voedselkwal...  \n",
       "1131                           Ministerie van Financiën  \n",
       "1132  Ministerie van Landbouw, Natuur en Voedselkwal...  \n",
       "\n",
       "[1133 rows x 2 columns]"
      ]
     },
     "metadata": {},
     "output_type": "display_data"
    }
   ],
   "source": [
    "display(df_verantwoordelijke)"
   ]
  },
  {
   "cell_type": "code",
   "execution_count": 114,
   "id": "bc971212",
   "metadata": {},
   "outputs": [],
   "source": [
    "df_documentdatums = df_documentdatums.join(df_urls.set_index('Verzoek'), on='Verzoek')\n",
    "df = df_documentdatums.join(df_verzoekdatums.set_index('Verzoek'), on='Verzoek')\n",
    "dfII = df.join(df_verantwoordelijke.set_index('Verzoek'), on='Verzoek')"
   ]
  },
  {
   "cell_type": "code",
   "execution_count": 115,
   "id": "080eaeff",
   "metadata": {},
   "outputs": [],
   "source": [
    "def datum_naar_kwartaal(datum):\n",
    "    \"\"\"\" Functie om datum om te zetten naar kwartaal\"\"\"\n",
    "\n",
    "    maand = int(datum[5:7])\n",
    "    kwartaal = math.ceil(maand / 3)\n",
    "    return f\"{kwartaal}e Kwartaal\""
   ]
  },
  {
   "cell_type": "code",
   "execution_count": 116,
   "id": "43ffe309",
   "metadata": {},
   "outputs": [
    {
     "data": {
      "text/html": [
       "<div>\n",
       "<style scoped>\n",
       "    .dataframe tbody tr th:only-of-type {\n",
       "        vertical-align: middle;\n",
       "    }\n",
       "\n",
       "    .dataframe tbody tr th {\n",
       "        vertical-align: top;\n",
       "    }\n",
       "\n",
       "    .dataframe thead th {\n",
       "        text-align: right;\n",
       "    }\n",
       "</style>\n",
       "<table border=\"1\" class=\"dataframe\">\n",
       "  <thead>\n",
       "    <tr style=\"text-align: right;\">\n",
       "      <th></th>\n",
       "      <th>Verzoek</th>\n",
       "      <th>docdatums</th>\n",
       "      <th>urls</th>\n",
       "      <th>verdatums</th>\n",
       "      <th>verantwoordelijke</th>\n",
       "      <th>jaar</th>\n",
       "      <th>kwartaal</th>\n",
       "    </tr>\n",
       "  </thead>\n",
       "  <tbody>\n",
       "    <tr>\n",
       "      <th>0</th>\n",
       "      <td>Beslissing op bezwaar Wob verzoek corresponden...</td>\n",
       "      <td>2022-09-15</td>\n",
       "      <td>[https://open.overheid.nl/documenten/ronl-34e6...</td>\n",
       "      <td>[nan, nan, nan]</td>\n",
       "      <td>Ministerie van Infrastructuur en Waterstaat</td>\n",
       "      <td>2022</td>\n",
       "      <td>3e Kwartaal</td>\n",
       "    </tr>\n",
       "    <tr>\n",
       "      <th>1</th>\n",
       "      <td>Beslissing op bezwaar Wob-/Woo-verzoek over in...</td>\n",
       "      <td>2022-12-23</td>\n",
       "      <td>[https://open.overheid.nl/documenten/ronl-7a0f...</td>\n",
       "      <td>[14-07-2022, nan, nan]</td>\n",
       "      <td>Ministerie van Infrastructuur en Waterstaat</td>\n",
       "      <td>2022</td>\n",
       "      <td>4e Kwartaal</td>\n",
       "    </tr>\n",
       "    <tr>\n",
       "      <th>2</th>\n",
       "      <td>Beslissing op bezwaar Wob-/Woo-verzoek over ve...</td>\n",
       "      <td>2023-01-27</td>\n",
       "      <td>[https://open.overheid.nl/documenten/ronl-0ba9...</td>\n",
       "      <td>[image, 02-11-2021, 02-11-2021]</td>\n",
       "      <td>Ministerie van Landbouw, Natuur en Voedselkwal...</td>\n",
       "      <td>2023</td>\n",
       "      <td>1e Kwartaal</td>\n",
       "    </tr>\n",
       "    <tr>\n",
       "      <th>3</th>\n",
       "      <td>Beslissing op bezwaar Wob-besluit Financiën ov...</td>\n",
       "      <td>2022-04-26</td>\n",
       "      <td>[https://open.overheid.nl/documenten/ronl-e3e1...</td>\n",
       "      <td>[22-10-2021, nan]</td>\n",
       "      <td>Ministerie van Financiën</td>\n",
       "      <td>2022</td>\n",
       "      <td>2e Kwartaal</td>\n",
       "    </tr>\n",
       "    <tr>\n",
       "      <th>4</th>\n",
       "      <td>Beslissing op bezwaar Wob-besluit over afstemm...</td>\n",
       "      <td>2023-02-09</td>\n",
       "      <td>[https://open.overheid.nl/documenten/ronl-07e2...</td>\n",
       "      <td>[nan, 05-10-2022]</td>\n",
       "      <td>Ministerie van Financiën</td>\n",
       "      <td>2023</td>\n",
       "      <td>1e Kwartaal</td>\n",
       "    </tr>\n",
       "    <tr>\n",
       "      <th>...</th>\n",
       "      <td>...</td>\n",
       "      <td>...</td>\n",
       "      <td>...</td>\n",
       "      <td>...</td>\n",
       "      <td>...</td>\n",
       "      <td>...</td>\n",
       "      <td>...</td>\n",
       "    </tr>\n",
       "    <tr>\n",
       "      <th>1127</th>\n",
       "      <td>Besluit van 20 juli 2022 op het verzoek inzake...</td>\n",
       "      <td>2022-07-20</td>\n",
       "      <td>[https://open.overheid.nl/documenten/ronl-7517...</td>\n",
       "      <td>[image]</td>\n",
       "      <td>Ministerie van Justitie en Veiligheid</td>\n",
       "      <td>2022</td>\n",
       "      <td>3e Kwartaal</td>\n",
       "    </tr>\n",
       "    <tr>\n",
       "      <th>1129</th>\n",
       "      <td>Woo-verzoek Evaluatiecommissie Tuitjenhorn</td>\n",
       "      <td>2022-06-30</td>\n",
       "      <td>[https://open.overheid.nl/documenten/ronl-370d...</td>\n",
       "      <td>[22-10-2021, nan]</td>\n",
       "      <td>Ministerie van Justitie en Veiligheid</td>\n",
       "      <td>2022</td>\n",
       "      <td>2e Kwartaal</td>\n",
       "    </tr>\n",
       "    <tr>\n",
       "      <th>1130</th>\n",
       "      <td>Woo-verzoek over de identiteit achter anonieme...</td>\n",
       "      <td>2022-08-25</td>\n",
       "      <td>[https://open.overheid.nl/documenten/ronl-2a0b...</td>\n",
       "      <td>[02-08-2022]</td>\n",
       "      <td>Ministerie van Landbouw, Natuur en Voedselkwal...</td>\n",
       "      <td>2022</td>\n",
       "      <td>3e Kwartaal</td>\n",
       "    </tr>\n",
       "    <tr>\n",
       "      <th>1131</th>\n",
       "      <td>Woo-verzoek over landbouwvrijstelling in inkom...</td>\n",
       "      <td>2023-02-27</td>\n",
       "      <td>[https://open.overheid.nl/documenten/ronl-1c09...</td>\n",
       "      <td>[nan, 07-08-2022, nan]</td>\n",
       "      <td>Ministerie van Financiën</td>\n",
       "      <td>2023</td>\n",
       "      <td>1e Kwartaal</td>\n",
       "    </tr>\n",
       "    <tr>\n",
       "      <th>1132</th>\n",
       "      <td>Woo-verzoek over ongeval met trampoline</td>\n",
       "      <td>2022-08-23</td>\n",
       "      <td>[https://open.overheid.nl/documenten/ronl-41c5...</td>\n",
       "      <td>[11-05-2022]</td>\n",
       "      <td>Ministerie van Landbouw, Natuur en Voedselkwal...</td>\n",
       "      <td>2022</td>\n",
       "      <td>3e Kwartaal</td>\n",
       "    </tr>\n",
       "  </tbody>\n",
       "</table>\n",
       "<p>1112 rows × 7 columns</p>\n",
       "</div>"
      ],
      "text/plain": [
       "                                                Verzoek  docdatums  \\\n",
       "0     Beslissing op bezwaar Wob verzoek corresponden... 2022-09-15   \n",
       "1     Beslissing op bezwaar Wob-/Woo-verzoek over in... 2022-12-23   \n",
       "2     Beslissing op bezwaar Wob-/Woo-verzoek over ve... 2023-01-27   \n",
       "3     Beslissing op bezwaar Wob-besluit Financiën ov... 2022-04-26   \n",
       "4     Beslissing op bezwaar Wob-besluit over afstemm... 2023-02-09   \n",
       "...                                                 ...        ...   \n",
       "1127  Besluit van 20 juli 2022 op het verzoek inzake... 2022-07-20   \n",
       "1129         Woo-verzoek Evaluatiecommissie Tuitjenhorn 2022-06-30   \n",
       "1130  Woo-verzoek over de identiteit achter anonieme... 2022-08-25   \n",
       "1131  Woo-verzoek over landbouwvrijstelling in inkom... 2023-02-27   \n",
       "1132            Woo-verzoek over ongeval met trampoline 2022-08-23   \n",
       "\n",
       "                                                   urls  \\\n",
       "0     [https://open.overheid.nl/documenten/ronl-34e6...   \n",
       "1     [https://open.overheid.nl/documenten/ronl-7a0f...   \n",
       "2     [https://open.overheid.nl/documenten/ronl-0ba9...   \n",
       "3     [https://open.overheid.nl/documenten/ronl-e3e1...   \n",
       "4     [https://open.overheid.nl/documenten/ronl-07e2...   \n",
       "...                                                 ...   \n",
       "1127  [https://open.overheid.nl/documenten/ronl-7517...   \n",
       "1129  [https://open.overheid.nl/documenten/ronl-370d...   \n",
       "1130  [https://open.overheid.nl/documenten/ronl-2a0b...   \n",
       "1131  [https://open.overheid.nl/documenten/ronl-1c09...   \n",
       "1132  [https://open.overheid.nl/documenten/ronl-41c5...   \n",
       "\n",
       "                            verdatums  \\\n",
       "0                     [nan, nan, nan]   \n",
       "1              [14-07-2022, nan, nan]   \n",
       "2     [image, 02-11-2021, 02-11-2021]   \n",
       "3                   [22-10-2021, nan]   \n",
       "4                   [nan, 05-10-2022]   \n",
       "...                               ...   \n",
       "1127                          [image]   \n",
       "1129                [22-10-2021, nan]   \n",
       "1130                     [02-08-2022]   \n",
       "1131           [nan, 07-08-2022, nan]   \n",
       "1132                     [11-05-2022]   \n",
       "\n",
       "                                      verantwoordelijke  jaar     kwartaal  \n",
       "0           Ministerie van Infrastructuur en Waterstaat  2022  3e Kwartaal  \n",
       "1           Ministerie van Infrastructuur en Waterstaat  2022  4e Kwartaal  \n",
       "2     Ministerie van Landbouw, Natuur en Voedselkwal...  2023  1e Kwartaal  \n",
       "3                              Ministerie van Financiën  2022  2e Kwartaal  \n",
       "4                              Ministerie van Financiën  2023  1e Kwartaal  \n",
       "...                                                 ...   ...          ...  \n",
       "1127              Ministerie van Justitie en Veiligheid  2022  3e Kwartaal  \n",
       "1129              Ministerie van Justitie en Veiligheid  2022  2e Kwartaal  \n",
       "1130  Ministerie van Landbouw, Natuur en Voedselkwal...  2022  3e Kwartaal  \n",
       "1131                           Ministerie van Financiën  2023  1e Kwartaal  \n",
       "1132  Ministerie van Landbouw, Natuur en Voedselkwal...  2022  3e Kwartaal  \n",
       "\n",
       "[1112 rows x 7 columns]"
      ]
     },
     "metadata": {},
     "output_type": "display_data"
    }
   ],
   "source": [
    "dfII['jaar'] = dfII['docdatums'].astype(str).str.slice(0 , 4)\n",
    "dfII['kwartaal'] = dfII['docdatums'].astype(str).map(datum_naar_kwartaal)\n",
    "display(dfII)"
   ]
  },
  {
   "cell_type": "code",
   "execution_count": 117,
   "id": "b4146a89",
   "metadata": {
    "scrolled": false
   },
   "outputs": [
    {
     "data": {
      "text/html": [
       "<div>\n",
       "<style scoped>\n",
       "    .dataframe tbody tr th:only-of-type {\n",
       "        vertical-align: middle;\n",
       "    }\n",
       "\n",
       "    .dataframe tbody tr th {\n",
       "        vertical-align: top;\n",
       "    }\n",
       "\n",
       "    .dataframe thead th {\n",
       "        text-align: right;\n",
       "    }\n",
       "</style>\n",
       "<table border=\"1\" class=\"dataframe\">\n",
       "  <thead>\n",
       "    <tr style=\"text-align: right;\">\n",
       "      <th></th>\n",
       "      <th>Verzoek</th>\n",
       "      <th>docdatums</th>\n",
       "      <th>urls</th>\n",
       "      <th>verdatums</th>\n",
       "      <th>verantwoordelijke</th>\n",
       "      <th>jaar</th>\n",
       "      <th>kwartaal</th>\n",
       "    </tr>\n",
       "  </thead>\n",
       "  <tbody>\n",
       "    <tr>\n",
       "      <th>0</th>\n",
       "      <td>Beslissing op bezwaar Wob verzoek corresponden...</td>\n",
       "      <td>2022-09-15</td>\n",
       "      <td>[https://open.overheid.nl/documenten/ronl-34e6...</td>\n",
       "      <td>[nan, nan, nan]</td>\n",
       "      <td>Ministerie van Infrastructuur en Waterstaat</td>\n",
       "      <td>2022</td>\n",
       "      <td>3e Kwartaal</td>\n",
       "    </tr>\n",
       "    <tr>\n",
       "      <th>1</th>\n",
       "      <td>Beslissing op bezwaar Wob-/Woo-verzoek over in...</td>\n",
       "      <td>2022-12-23</td>\n",
       "      <td>[https://open.overheid.nl/documenten/ronl-7a0f...</td>\n",
       "      <td>[14-07-2022, nan, nan]</td>\n",
       "      <td>Ministerie van Infrastructuur en Waterstaat</td>\n",
       "      <td>2022</td>\n",
       "      <td>4e Kwartaal</td>\n",
       "    </tr>\n",
       "    <tr>\n",
       "      <th>2</th>\n",
       "      <td>Beslissing op bezwaar Wob-/Woo-verzoek over ve...</td>\n",
       "      <td>2023-01-27</td>\n",
       "      <td>[https://open.overheid.nl/documenten/ronl-0ba9...</td>\n",
       "      <td>[image, 02-11-2021, 02-11-2021]</td>\n",
       "      <td>Ministerie van Landbouw, Natuur en Voedselkwal...</td>\n",
       "      <td>2023</td>\n",
       "      <td>1e Kwartaal</td>\n",
       "    </tr>\n",
       "    <tr>\n",
       "      <th>3</th>\n",
       "      <td>Beslissing op bezwaar Wob-besluit Financiën ov...</td>\n",
       "      <td>2022-04-26</td>\n",
       "      <td>[https://open.overheid.nl/documenten/ronl-e3e1...</td>\n",
       "      <td>[22-10-2021, nan]</td>\n",
       "      <td>Ministerie van Financiën</td>\n",
       "      <td>2022</td>\n",
       "      <td>2e Kwartaal</td>\n",
       "    </tr>\n",
       "    <tr>\n",
       "      <th>4</th>\n",
       "      <td>Beslissing op bezwaar Wob-besluit over afstemm...</td>\n",
       "      <td>2023-02-09</td>\n",
       "      <td>[https://open.overheid.nl/documenten/ronl-07e2...</td>\n",
       "      <td>[nan, 05-10-2022]</td>\n",
       "      <td>Ministerie van Financiën</td>\n",
       "      <td>2023</td>\n",
       "      <td>1e Kwartaal</td>\n",
       "    </tr>\n",
       "    <tr>\n",
       "      <th>...</th>\n",
       "      <td>...</td>\n",
       "      <td>...</td>\n",
       "      <td>...</td>\n",
       "      <td>...</td>\n",
       "      <td>...</td>\n",
       "      <td>...</td>\n",
       "      <td>...</td>\n",
       "    </tr>\n",
       "    <tr>\n",
       "      <th>1127</th>\n",
       "      <td>Besluit van 20 juli 2022 op het verzoek inzake...</td>\n",
       "      <td>2022-07-20</td>\n",
       "      <td>[https://open.overheid.nl/documenten/ronl-7517...</td>\n",
       "      <td>[image]</td>\n",
       "      <td>Ministerie van Justitie en Veiligheid</td>\n",
       "      <td>2022</td>\n",
       "      <td>3e Kwartaal</td>\n",
       "    </tr>\n",
       "    <tr>\n",
       "      <th>1129</th>\n",
       "      <td>Woo-verzoek Evaluatiecommissie Tuitjenhorn</td>\n",
       "      <td>2022-06-30</td>\n",
       "      <td>[https://open.overheid.nl/documenten/ronl-370d...</td>\n",
       "      <td>[22-10-2021, nan]</td>\n",
       "      <td>Ministerie van Justitie en Veiligheid</td>\n",
       "      <td>2022</td>\n",
       "      <td>2e Kwartaal</td>\n",
       "    </tr>\n",
       "    <tr>\n",
       "      <th>1130</th>\n",
       "      <td>Woo-verzoek over de identiteit achter anonieme...</td>\n",
       "      <td>2022-08-25</td>\n",
       "      <td>[https://open.overheid.nl/documenten/ronl-2a0b...</td>\n",
       "      <td>[02-08-2022]</td>\n",
       "      <td>Ministerie van Landbouw, Natuur en Voedselkwal...</td>\n",
       "      <td>2022</td>\n",
       "      <td>3e Kwartaal</td>\n",
       "    </tr>\n",
       "    <tr>\n",
       "      <th>1131</th>\n",
       "      <td>Woo-verzoek over landbouwvrijstelling in inkom...</td>\n",
       "      <td>2023-02-27</td>\n",
       "      <td>[https://open.overheid.nl/documenten/ronl-1c09...</td>\n",
       "      <td>[nan, 07-08-2022, nan]</td>\n",
       "      <td>Ministerie van Financiën</td>\n",
       "      <td>2023</td>\n",
       "      <td>1e Kwartaal</td>\n",
       "    </tr>\n",
       "    <tr>\n",
       "      <th>1132</th>\n",
       "      <td>Woo-verzoek over ongeval met trampoline</td>\n",
       "      <td>2022-08-23</td>\n",
       "      <td>[https://open.overheid.nl/documenten/ronl-41c5...</td>\n",
       "      <td>[11-05-2022]</td>\n",
       "      <td>Ministerie van Landbouw, Natuur en Voedselkwal...</td>\n",
       "      <td>2022</td>\n",
       "      <td>3e Kwartaal</td>\n",
       "    </tr>\n",
       "  </tbody>\n",
       "</table>\n",
       "<p>1112 rows × 7 columns</p>\n",
       "</div>"
      ],
      "text/plain": [
       "                                                Verzoek  docdatums  \\\n",
       "0     Beslissing op bezwaar Wob verzoek corresponden... 2022-09-15   \n",
       "1     Beslissing op bezwaar Wob-/Woo-verzoek over in... 2022-12-23   \n",
       "2     Beslissing op bezwaar Wob-/Woo-verzoek over ve... 2023-01-27   \n",
       "3     Beslissing op bezwaar Wob-besluit Financiën ov... 2022-04-26   \n",
       "4     Beslissing op bezwaar Wob-besluit over afstemm... 2023-02-09   \n",
       "...                                                 ...        ...   \n",
       "1127  Besluit van 20 juli 2022 op het verzoek inzake... 2022-07-20   \n",
       "1129         Woo-verzoek Evaluatiecommissie Tuitjenhorn 2022-06-30   \n",
       "1130  Woo-verzoek over de identiteit achter anonieme... 2022-08-25   \n",
       "1131  Woo-verzoek over landbouwvrijstelling in inkom... 2023-02-27   \n",
       "1132            Woo-verzoek over ongeval met trampoline 2022-08-23   \n",
       "\n",
       "                                                   urls  \\\n",
       "0     [https://open.overheid.nl/documenten/ronl-34e6...   \n",
       "1     [https://open.overheid.nl/documenten/ronl-7a0f...   \n",
       "2     [https://open.overheid.nl/documenten/ronl-0ba9...   \n",
       "3     [https://open.overheid.nl/documenten/ronl-e3e1...   \n",
       "4     [https://open.overheid.nl/documenten/ronl-07e2...   \n",
       "...                                                 ...   \n",
       "1127  [https://open.overheid.nl/documenten/ronl-7517...   \n",
       "1129  [https://open.overheid.nl/documenten/ronl-370d...   \n",
       "1130  [https://open.overheid.nl/documenten/ronl-2a0b...   \n",
       "1131  [https://open.overheid.nl/documenten/ronl-1c09...   \n",
       "1132  [https://open.overheid.nl/documenten/ronl-41c5...   \n",
       "\n",
       "                            verdatums  \\\n",
       "0                     [nan, nan, nan]   \n",
       "1              [14-07-2022, nan, nan]   \n",
       "2     [image, 02-11-2021, 02-11-2021]   \n",
       "3                   [22-10-2021, nan]   \n",
       "4                   [nan, 05-10-2022]   \n",
       "...                               ...   \n",
       "1127                          [image]   \n",
       "1129                [22-10-2021, nan]   \n",
       "1130                     [02-08-2022]   \n",
       "1131           [nan, 07-08-2022, nan]   \n",
       "1132                     [11-05-2022]   \n",
       "\n",
       "                                      verantwoordelijke  jaar     kwartaal  \n",
       "0           Ministerie van Infrastructuur en Waterstaat  2022  3e Kwartaal  \n",
       "1           Ministerie van Infrastructuur en Waterstaat  2022  4e Kwartaal  \n",
       "2     Ministerie van Landbouw, Natuur en Voedselkwal...  2023  1e Kwartaal  \n",
       "3                              Ministerie van Financiën  2022  2e Kwartaal  \n",
       "4                              Ministerie van Financiën  2023  1e Kwartaal  \n",
       "...                                                 ...   ...          ...  \n",
       "1127              Ministerie van Justitie en Veiligheid  2022  3e Kwartaal  \n",
       "1129              Ministerie van Justitie en Veiligheid  2022  2e Kwartaal  \n",
       "1130  Ministerie van Landbouw, Natuur en Voedselkwal...  2022  3e Kwartaal  \n",
       "1131                           Ministerie van Financiën  2023  1e Kwartaal  \n",
       "1132  Ministerie van Landbouw, Natuur en Voedselkwal...  2022  3e Kwartaal  \n",
       "\n",
       "[1112 rows x 7 columns]"
      ]
     },
     "metadata": {},
     "output_type": "display_data"
    }
   ],
   "source": [
    "display(dfII)"
   ]
  },
  {
   "cell_type": "code",
   "execution_count": 118,
   "id": "9d6d1769",
   "metadata": {},
   "outputs": [
    {
     "data": {
      "text/html": [
       "<div>\n",
       "<style scoped>\n",
       "    .dataframe tbody tr th:only-of-type {\n",
       "        vertical-align: middle;\n",
       "    }\n",
       "\n",
       "    .dataframe tbody tr th {\n",
       "        vertical-align: top;\n",
       "    }\n",
       "\n",
       "    .dataframe thead th {\n",
       "        text-align: right;\n",
       "    }\n",
       "</style>\n",
       "<table border=\"1\" class=\"dataframe\">\n",
       "  <thead>\n",
       "    <tr style=\"text-align: right;\">\n",
       "      <th></th>\n",
       "      <th>Verzoek</th>\n",
       "      <th>docdatums</th>\n",
       "      <th>urls</th>\n",
       "      <th>verdatums</th>\n",
       "      <th>verantwoordelijke</th>\n",
       "      <th>jaar</th>\n",
       "      <th>kwartaal</th>\n",
       "      <th>image</th>\n",
       "    </tr>\n",
       "  </thead>\n",
       "  <tbody>\n",
       "    <tr>\n",
       "      <th>0</th>\n",
       "      <td>Beslissing op bezwaar Wob verzoek corresponden...</td>\n",
       "      <td>2022-09-15</td>\n",
       "      <td>[https://open.overheid.nl/documenten/ronl-34e6...</td>\n",
       "      <td>[nan, nan, nan]</td>\n",
       "      <td>Ministerie van Infrastructuur en Waterstaat</td>\n",
       "      <td>2022</td>\n",
       "      <td>3e Kwartaal</td>\n",
       "      <td>False</td>\n",
       "    </tr>\n",
       "    <tr>\n",
       "      <th>1</th>\n",
       "      <td>Beslissing op bezwaar Wob-/Woo-verzoek over in...</td>\n",
       "      <td>2022-12-23</td>\n",
       "      <td>[https://open.overheid.nl/documenten/ronl-7a0f...</td>\n",
       "      <td>[14-07-2022, nan, nan]</td>\n",
       "      <td>Ministerie van Infrastructuur en Waterstaat</td>\n",
       "      <td>2022</td>\n",
       "      <td>4e Kwartaal</td>\n",
       "      <td>False</td>\n",
       "    </tr>\n",
       "    <tr>\n",
       "      <th>2</th>\n",
       "      <td>Beslissing op bezwaar Wob-/Woo-verzoek over ve...</td>\n",
       "      <td>2023-01-27</td>\n",
       "      <td>[https://open.overheid.nl/documenten/ronl-0ba9...</td>\n",
       "      <td>[image, 02-11-2021, 02-11-2021]</td>\n",
       "      <td>Ministerie van Landbouw, Natuur en Voedselkwal...</td>\n",
       "      <td>2023</td>\n",
       "      <td>1e Kwartaal</td>\n",
       "      <td>True</td>\n",
       "    </tr>\n",
       "    <tr>\n",
       "      <th>3</th>\n",
       "      <td>Beslissing op bezwaar Wob-besluit Financiën ov...</td>\n",
       "      <td>2022-04-26</td>\n",
       "      <td>[https://open.overheid.nl/documenten/ronl-e3e1...</td>\n",
       "      <td>[22-10-2021, nan]</td>\n",
       "      <td>Ministerie van Financiën</td>\n",
       "      <td>2022</td>\n",
       "      <td>2e Kwartaal</td>\n",
       "      <td>False</td>\n",
       "    </tr>\n",
       "    <tr>\n",
       "      <th>4</th>\n",
       "      <td>Beslissing op bezwaar Wob-besluit over afstemm...</td>\n",
       "      <td>2023-02-09</td>\n",
       "      <td>[https://open.overheid.nl/documenten/ronl-07e2...</td>\n",
       "      <td>[nan, 05-10-2022]</td>\n",
       "      <td>Ministerie van Financiën</td>\n",
       "      <td>2023</td>\n",
       "      <td>1e Kwartaal</td>\n",
       "      <td>False</td>\n",
       "    </tr>\n",
       "    <tr>\n",
       "      <th>...</th>\n",
       "      <td>...</td>\n",
       "      <td>...</td>\n",
       "      <td>...</td>\n",
       "      <td>...</td>\n",
       "      <td>...</td>\n",
       "      <td>...</td>\n",
       "      <td>...</td>\n",
       "      <td>...</td>\n",
       "    </tr>\n",
       "    <tr>\n",
       "      <th>1127</th>\n",
       "      <td>Besluit van 20 juli 2022 op het verzoek inzake...</td>\n",
       "      <td>2022-07-20</td>\n",
       "      <td>[https://open.overheid.nl/documenten/ronl-7517...</td>\n",
       "      <td>[image]</td>\n",
       "      <td>Ministerie van Justitie en Veiligheid</td>\n",
       "      <td>2022</td>\n",
       "      <td>3e Kwartaal</td>\n",
       "      <td>True</td>\n",
       "    </tr>\n",
       "    <tr>\n",
       "      <th>1129</th>\n",
       "      <td>Woo-verzoek Evaluatiecommissie Tuitjenhorn</td>\n",
       "      <td>2022-06-30</td>\n",
       "      <td>[https://open.overheid.nl/documenten/ronl-370d...</td>\n",
       "      <td>[22-10-2021, nan]</td>\n",
       "      <td>Ministerie van Justitie en Veiligheid</td>\n",
       "      <td>2022</td>\n",
       "      <td>2e Kwartaal</td>\n",
       "      <td>False</td>\n",
       "    </tr>\n",
       "    <tr>\n",
       "      <th>1130</th>\n",
       "      <td>Woo-verzoek over de identiteit achter anonieme...</td>\n",
       "      <td>2022-08-25</td>\n",
       "      <td>[https://open.overheid.nl/documenten/ronl-2a0b...</td>\n",
       "      <td>[02-08-2022]</td>\n",
       "      <td>Ministerie van Landbouw, Natuur en Voedselkwal...</td>\n",
       "      <td>2022</td>\n",
       "      <td>3e Kwartaal</td>\n",
       "      <td>False</td>\n",
       "    </tr>\n",
       "    <tr>\n",
       "      <th>1131</th>\n",
       "      <td>Woo-verzoek over landbouwvrijstelling in inkom...</td>\n",
       "      <td>2023-02-27</td>\n",
       "      <td>[https://open.overheid.nl/documenten/ronl-1c09...</td>\n",
       "      <td>[nan, 07-08-2022, nan]</td>\n",
       "      <td>Ministerie van Financiën</td>\n",
       "      <td>2023</td>\n",
       "      <td>1e Kwartaal</td>\n",
       "      <td>False</td>\n",
       "    </tr>\n",
       "    <tr>\n",
       "      <th>1132</th>\n",
       "      <td>Woo-verzoek over ongeval met trampoline</td>\n",
       "      <td>2022-08-23</td>\n",
       "      <td>[https://open.overheid.nl/documenten/ronl-41c5...</td>\n",
       "      <td>[11-05-2022]</td>\n",
       "      <td>Ministerie van Landbouw, Natuur en Voedselkwal...</td>\n",
       "      <td>2022</td>\n",
       "      <td>3e Kwartaal</td>\n",
       "      <td>False</td>\n",
       "    </tr>\n",
       "  </tbody>\n",
       "</table>\n",
       "<p>1112 rows × 8 columns</p>\n",
       "</div>"
      ],
      "text/plain": [
       "                                                Verzoek  docdatums  \\\n",
       "0     Beslissing op bezwaar Wob verzoek corresponden... 2022-09-15   \n",
       "1     Beslissing op bezwaar Wob-/Woo-verzoek over in... 2022-12-23   \n",
       "2     Beslissing op bezwaar Wob-/Woo-verzoek over ve... 2023-01-27   \n",
       "3     Beslissing op bezwaar Wob-besluit Financiën ov... 2022-04-26   \n",
       "4     Beslissing op bezwaar Wob-besluit over afstemm... 2023-02-09   \n",
       "...                                                 ...        ...   \n",
       "1127  Besluit van 20 juli 2022 op het verzoek inzake... 2022-07-20   \n",
       "1129         Woo-verzoek Evaluatiecommissie Tuitjenhorn 2022-06-30   \n",
       "1130  Woo-verzoek over de identiteit achter anonieme... 2022-08-25   \n",
       "1131  Woo-verzoek over landbouwvrijstelling in inkom... 2023-02-27   \n",
       "1132            Woo-verzoek over ongeval met trampoline 2022-08-23   \n",
       "\n",
       "                                                   urls  \\\n",
       "0     [https://open.overheid.nl/documenten/ronl-34e6...   \n",
       "1     [https://open.overheid.nl/documenten/ronl-7a0f...   \n",
       "2     [https://open.overheid.nl/documenten/ronl-0ba9...   \n",
       "3     [https://open.overheid.nl/documenten/ronl-e3e1...   \n",
       "4     [https://open.overheid.nl/documenten/ronl-07e2...   \n",
       "...                                                 ...   \n",
       "1127  [https://open.overheid.nl/documenten/ronl-7517...   \n",
       "1129  [https://open.overheid.nl/documenten/ronl-370d...   \n",
       "1130  [https://open.overheid.nl/documenten/ronl-2a0b...   \n",
       "1131  [https://open.overheid.nl/documenten/ronl-1c09...   \n",
       "1132  [https://open.overheid.nl/documenten/ronl-41c5...   \n",
       "\n",
       "                            verdatums  \\\n",
       "0                     [nan, nan, nan]   \n",
       "1              [14-07-2022, nan, nan]   \n",
       "2     [image, 02-11-2021, 02-11-2021]   \n",
       "3                   [22-10-2021, nan]   \n",
       "4                   [nan, 05-10-2022]   \n",
       "...                               ...   \n",
       "1127                          [image]   \n",
       "1129                [22-10-2021, nan]   \n",
       "1130                     [02-08-2022]   \n",
       "1131           [nan, 07-08-2022, nan]   \n",
       "1132                     [11-05-2022]   \n",
       "\n",
       "                                      verantwoordelijke  jaar     kwartaal  \\\n",
       "0           Ministerie van Infrastructuur en Waterstaat  2022  3e Kwartaal   \n",
       "1           Ministerie van Infrastructuur en Waterstaat  2022  4e Kwartaal   \n",
       "2     Ministerie van Landbouw, Natuur en Voedselkwal...  2023  1e Kwartaal   \n",
       "3                              Ministerie van Financiën  2022  2e Kwartaal   \n",
       "4                              Ministerie van Financiën  2023  1e Kwartaal   \n",
       "...                                                 ...   ...          ...   \n",
       "1127              Ministerie van Justitie en Veiligheid  2022  3e Kwartaal   \n",
       "1129              Ministerie van Justitie en Veiligheid  2022  2e Kwartaal   \n",
       "1130  Ministerie van Landbouw, Natuur en Voedselkwal...  2022  3e Kwartaal   \n",
       "1131                           Ministerie van Financiën  2023  1e Kwartaal   \n",
       "1132  Ministerie van Landbouw, Natuur en Voedselkwal...  2022  3e Kwartaal   \n",
       "\n",
       "      image  \n",
       "0     False  \n",
       "1     False  \n",
       "2      True  \n",
       "3     False  \n",
       "4     False  \n",
       "...     ...  \n",
       "1127   True  \n",
       "1129  False  \n",
       "1130  False  \n",
       "1131  False  \n",
       "1132  False  \n",
       "\n",
       "[1112 rows x 8 columns]"
      ]
     },
     "metadata": {},
     "output_type": "display_data"
    }
   ],
   "source": [
    "ls = []\n",
    "for i in dfII.verdatums:\n",
    "    if 'image' in i:\n",
    "        ls.append(True)\n",
    "    else:\n",
    "        ls.append(False)\n",
    "        \n",
    "dfII['image'] = ls\n",
    "\n",
    "display(dfII)"
   ]
  },
  {
   "cell_type": "code",
   "execution_count": 119,
   "id": "483eea0f",
   "metadata": {},
   "outputs": [
    {
     "data": {
      "text/html": [
       "<div>\n",
       "<style scoped>\n",
       "    .dataframe tbody tr th:only-of-type {\n",
       "        vertical-align: middle;\n",
       "    }\n",
       "\n",
       "    .dataframe tbody tr th {\n",
       "        vertical-align: top;\n",
       "    }\n",
       "\n",
       "    .dataframe thead th {\n",
       "        text-align: right;\n",
       "    }\n",
       "</style>\n",
       "<table border=\"1\" class=\"dataframe\">\n",
       "  <thead>\n",
       "    <tr style=\"text-align: right;\">\n",
       "      <th></th>\n",
       "      <th>Verzoek</th>\n",
       "      <th>docdatums</th>\n",
       "      <th>urls</th>\n",
       "      <th>verdatums</th>\n",
       "      <th>verantwoordelijke</th>\n",
       "      <th>jaar</th>\n",
       "      <th>kwartaal</th>\n",
       "      <th>image</th>\n",
       "      <th>verdatum</th>\n",
       "    </tr>\n",
       "  </thead>\n",
       "  <tbody>\n",
       "    <tr>\n",
       "      <th>0</th>\n",
       "      <td>Beslissing op bezwaar Wob verzoek corresponden...</td>\n",
       "      <td>2022-09-15</td>\n",
       "      <td>[https://open.overheid.nl/documenten/ronl-34e6...</td>\n",
       "      <td>[nan, nan, nan]</td>\n",
       "      <td>Ministerie van Infrastructuur en Waterstaat</td>\n",
       "      <td>2022</td>\n",
       "      <td>3e Kwartaal</td>\n",
       "      <td>False</td>\n",
       "      <td>NaN</td>\n",
       "    </tr>\n",
       "    <tr>\n",
       "      <th>1</th>\n",
       "      <td>Beslissing op bezwaar Wob-/Woo-verzoek over in...</td>\n",
       "      <td>2022-12-23</td>\n",
       "      <td>[https://open.overheid.nl/documenten/ronl-7a0f...</td>\n",
       "      <td>[14-07-2022, nan, nan]</td>\n",
       "      <td>Ministerie van Infrastructuur en Waterstaat</td>\n",
       "      <td>2022</td>\n",
       "      <td>4e Kwartaal</td>\n",
       "      <td>False</td>\n",
       "      <td>14-07-2022</td>\n",
       "    </tr>\n",
       "    <tr>\n",
       "      <th>2</th>\n",
       "      <td>Beslissing op bezwaar Wob-/Woo-verzoek over ve...</td>\n",
       "      <td>2023-01-27</td>\n",
       "      <td>[https://open.overheid.nl/documenten/ronl-0ba9...</td>\n",
       "      <td>[image, 02-11-2021, 02-11-2021]</td>\n",
       "      <td>Ministerie van Landbouw, Natuur en Voedselkwal...</td>\n",
       "      <td>2023</td>\n",
       "      <td>1e Kwartaal</td>\n",
       "      <td>True</td>\n",
       "      <td>02-11-2021</td>\n",
       "    </tr>\n",
       "    <tr>\n",
       "      <th>3</th>\n",
       "      <td>Beslissing op bezwaar Wob-besluit Financiën ov...</td>\n",
       "      <td>2022-04-26</td>\n",
       "      <td>[https://open.overheid.nl/documenten/ronl-e3e1...</td>\n",
       "      <td>[22-10-2021, nan]</td>\n",
       "      <td>Ministerie van Financiën</td>\n",
       "      <td>2022</td>\n",
       "      <td>2e Kwartaal</td>\n",
       "      <td>False</td>\n",
       "      <td>22-10-2021</td>\n",
       "    </tr>\n",
       "    <tr>\n",
       "      <th>4</th>\n",
       "      <td>Beslissing op bezwaar Wob-besluit over afstemm...</td>\n",
       "      <td>2023-02-09</td>\n",
       "      <td>[https://open.overheid.nl/documenten/ronl-07e2...</td>\n",
       "      <td>[nan, 05-10-2022]</td>\n",
       "      <td>Ministerie van Financiën</td>\n",
       "      <td>2023</td>\n",
       "      <td>1e Kwartaal</td>\n",
       "      <td>False</td>\n",
       "      <td>05-10-2022</td>\n",
       "    </tr>\n",
       "    <tr>\n",
       "      <th>...</th>\n",
       "      <td>...</td>\n",
       "      <td>...</td>\n",
       "      <td>...</td>\n",
       "      <td>...</td>\n",
       "      <td>...</td>\n",
       "      <td>...</td>\n",
       "      <td>...</td>\n",
       "      <td>...</td>\n",
       "      <td>...</td>\n",
       "    </tr>\n",
       "    <tr>\n",
       "      <th>1127</th>\n",
       "      <td>Besluit van 20 juli 2022 op het verzoek inzake...</td>\n",
       "      <td>2022-07-20</td>\n",
       "      <td>[https://open.overheid.nl/documenten/ronl-7517...</td>\n",
       "      <td>[image]</td>\n",
       "      <td>Ministerie van Justitie en Veiligheid</td>\n",
       "      <td>2022</td>\n",
       "      <td>3e Kwartaal</td>\n",
       "      <td>True</td>\n",
       "      <td>NaN</td>\n",
       "    </tr>\n",
       "    <tr>\n",
       "      <th>1129</th>\n",
       "      <td>Woo-verzoek Evaluatiecommissie Tuitjenhorn</td>\n",
       "      <td>2022-06-30</td>\n",
       "      <td>[https://open.overheid.nl/documenten/ronl-370d...</td>\n",
       "      <td>[22-10-2021, nan]</td>\n",
       "      <td>Ministerie van Justitie en Veiligheid</td>\n",
       "      <td>2022</td>\n",
       "      <td>2e Kwartaal</td>\n",
       "      <td>False</td>\n",
       "      <td>22-10-2021</td>\n",
       "    </tr>\n",
       "    <tr>\n",
       "      <th>1130</th>\n",
       "      <td>Woo-verzoek over de identiteit achter anonieme...</td>\n",
       "      <td>2022-08-25</td>\n",
       "      <td>[https://open.overheid.nl/documenten/ronl-2a0b...</td>\n",
       "      <td>[02-08-2022]</td>\n",
       "      <td>Ministerie van Landbouw, Natuur en Voedselkwal...</td>\n",
       "      <td>2022</td>\n",
       "      <td>3e Kwartaal</td>\n",
       "      <td>False</td>\n",
       "      <td>02-08-2022</td>\n",
       "    </tr>\n",
       "    <tr>\n",
       "      <th>1131</th>\n",
       "      <td>Woo-verzoek over landbouwvrijstelling in inkom...</td>\n",
       "      <td>2023-02-27</td>\n",
       "      <td>[https://open.overheid.nl/documenten/ronl-1c09...</td>\n",
       "      <td>[nan, 07-08-2022, nan]</td>\n",
       "      <td>Ministerie van Financiën</td>\n",
       "      <td>2023</td>\n",
       "      <td>1e Kwartaal</td>\n",
       "      <td>False</td>\n",
       "      <td>07-08-2022</td>\n",
       "    </tr>\n",
       "    <tr>\n",
       "      <th>1132</th>\n",
       "      <td>Woo-verzoek over ongeval met trampoline</td>\n",
       "      <td>2022-08-23</td>\n",
       "      <td>[https://open.overheid.nl/documenten/ronl-41c5...</td>\n",
       "      <td>[11-05-2022]</td>\n",
       "      <td>Ministerie van Landbouw, Natuur en Voedselkwal...</td>\n",
       "      <td>2022</td>\n",
       "      <td>3e Kwartaal</td>\n",
       "      <td>False</td>\n",
       "      <td>11-05-2022</td>\n",
       "    </tr>\n",
       "  </tbody>\n",
       "</table>\n",
       "<p>1112 rows × 9 columns</p>\n",
       "</div>"
      ],
      "text/plain": [
       "                                                Verzoek  docdatums  \\\n",
       "0     Beslissing op bezwaar Wob verzoek corresponden... 2022-09-15   \n",
       "1     Beslissing op bezwaar Wob-/Woo-verzoek over in... 2022-12-23   \n",
       "2     Beslissing op bezwaar Wob-/Woo-verzoek over ve... 2023-01-27   \n",
       "3     Beslissing op bezwaar Wob-besluit Financiën ov... 2022-04-26   \n",
       "4     Beslissing op bezwaar Wob-besluit over afstemm... 2023-02-09   \n",
       "...                                                 ...        ...   \n",
       "1127  Besluit van 20 juli 2022 op het verzoek inzake... 2022-07-20   \n",
       "1129         Woo-verzoek Evaluatiecommissie Tuitjenhorn 2022-06-30   \n",
       "1130  Woo-verzoek over de identiteit achter anonieme... 2022-08-25   \n",
       "1131  Woo-verzoek over landbouwvrijstelling in inkom... 2023-02-27   \n",
       "1132            Woo-verzoek over ongeval met trampoline 2022-08-23   \n",
       "\n",
       "                                                   urls  \\\n",
       "0     [https://open.overheid.nl/documenten/ronl-34e6...   \n",
       "1     [https://open.overheid.nl/documenten/ronl-7a0f...   \n",
       "2     [https://open.overheid.nl/documenten/ronl-0ba9...   \n",
       "3     [https://open.overheid.nl/documenten/ronl-e3e1...   \n",
       "4     [https://open.overheid.nl/documenten/ronl-07e2...   \n",
       "...                                                 ...   \n",
       "1127  [https://open.overheid.nl/documenten/ronl-7517...   \n",
       "1129  [https://open.overheid.nl/documenten/ronl-370d...   \n",
       "1130  [https://open.overheid.nl/documenten/ronl-2a0b...   \n",
       "1131  [https://open.overheid.nl/documenten/ronl-1c09...   \n",
       "1132  [https://open.overheid.nl/documenten/ronl-41c5...   \n",
       "\n",
       "                            verdatums  \\\n",
       "0                     [nan, nan, nan]   \n",
       "1              [14-07-2022, nan, nan]   \n",
       "2     [image, 02-11-2021, 02-11-2021]   \n",
       "3                   [22-10-2021, nan]   \n",
       "4                   [nan, 05-10-2022]   \n",
       "...                               ...   \n",
       "1127                          [image]   \n",
       "1129                [22-10-2021, nan]   \n",
       "1130                     [02-08-2022]   \n",
       "1131           [nan, 07-08-2022, nan]   \n",
       "1132                     [11-05-2022]   \n",
       "\n",
       "                                      verantwoordelijke  jaar     kwartaal  \\\n",
       "0           Ministerie van Infrastructuur en Waterstaat  2022  3e Kwartaal   \n",
       "1           Ministerie van Infrastructuur en Waterstaat  2022  4e Kwartaal   \n",
       "2     Ministerie van Landbouw, Natuur en Voedselkwal...  2023  1e Kwartaal   \n",
       "3                              Ministerie van Financiën  2022  2e Kwartaal   \n",
       "4                              Ministerie van Financiën  2023  1e Kwartaal   \n",
       "...                                                 ...   ...          ...   \n",
       "1127              Ministerie van Justitie en Veiligheid  2022  3e Kwartaal   \n",
       "1129              Ministerie van Justitie en Veiligheid  2022  2e Kwartaal   \n",
       "1130  Ministerie van Landbouw, Natuur en Voedselkwal...  2022  3e Kwartaal   \n",
       "1131                           Ministerie van Financiën  2023  1e Kwartaal   \n",
       "1132  Ministerie van Landbouw, Natuur en Voedselkwal...  2022  3e Kwartaal   \n",
       "\n",
       "      image    verdatum  \n",
       "0     False         NaN  \n",
       "1     False  14-07-2022  \n",
       "2      True  02-11-2021  \n",
       "3     False  22-10-2021  \n",
       "4     False  05-10-2022  \n",
       "...     ...         ...  \n",
       "1127   True         NaN  \n",
       "1129  False  22-10-2021  \n",
       "1130  False  02-08-2022  \n",
       "1131  False  07-08-2022  \n",
       "1132  False  11-05-2022  \n",
       "\n",
       "[1112 rows x 9 columns]"
      ]
     },
     "metadata": {},
     "output_type": "display_data"
    }
   ],
   "source": [
    "df = dfII.copy()\n",
    "\n",
    "verdatums = []\n",
    "verdatum = []\n",
    "for verzoek in df['verdatums']:\n",
    "    if type(verzoek) is not list:\n",
    "        verdatums.append(verzoek)\n",
    "    \n",
    "    else:    \n",
    "        datum = [i for i in verzoek if '-' in str(i)]\n",
    "        if any(datum) == True:\n",
    "            verdatums.append(verzoek)\n",
    "            verdatum.append(datum[0])\n",
    "        else:\n",
    "            verdatums.append(verzoek)\n",
    "            verdatum.append(np.nan)\n",
    "\n",
    "df['verdatums'] = verdatums\n",
    "df['verdatum'] = verdatum\n",
    "\n",
    "display(df)"
   ]
  },
  {
   "cell_type": "code",
   "execution_count": 120,
   "id": "a74df479",
   "metadata": {},
   "outputs": [
    {
     "data": {
      "text/html": [
       "<div>\n",
       "<style scoped>\n",
       "    .dataframe tbody tr th:only-of-type {\n",
       "        vertical-align: middle;\n",
       "    }\n",
       "\n",
       "    .dataframe tbody tr th {\n",
       "        vertical-align: top;\n",
       "    }\n",
       "\n",
       "    .dataframe thead th {\n",
       "        text-align: right;\n",
       "    }\n",
       "</style>\n",
       "<table border=\"1\" class=\"dataframe\">\n",
       "  <thead>\n",
       "    <tr style=\"text-align: right;\">\n",
       "      <th></th>\n",
       "      <th>verantwoordelijke</th>\n",
       "      <th>aantal</th>\n",
       "    </tr>\n",
       "  </thead>\n",
       "  <tbody>\n",
       "    <tr>\n",
       "      <th>0</th>\n",
       "      <td>Ministerie van Algemene Zaken</td>\n",
       "      <td>3</td>\n",
       "    </tr>\n",
       "    <tr>\n",
       "      <th>1</th>\n",
       "      <td>Ministerie van Binnenlandse Zaken en Koninkrij...</td>\n",
       "      <td>96</td>\n",
       "    </tr>\n",
       "    <tr>\n",
       "      <th>2</th>\n",
       "      <td>Ministerie van Buitenlandse Zaken</td>\n",
       "      <td>69</td>\n",
       "    </tr>\n",
       "    <tr>\n",
       "      <th>3</th>\n",
       "      <td>Ministerie van Defensie</td>\n",
       "      <td>48</td>\n",
       "    </tr>\n",
       "    <tr>\n",
       "      <th>4</th>\n",
       "      <td>Ministerie van Economische Zaken en Klimaat</td>\n",
       "      <td>88</td>\n",
       "    </tr>\n",
       "    <tr>\n",
       "      <th>5</th>\n",
       "      <td>Ministerie van Financiën</td>\n",
       "      <td>150</td>\n",
       "    </tr>\n",
       "    <tr>\n",
       "      <th>6</th>\n",
       "      <td>Ministerie van Infrastructuur en Waterstaat</td>\n",
       "      <td>117</td>\n",
       "    </tr>\n",
       "    <tr>\n",
       "      <th>7</th>\n",
       "      <td>Ministerie van Justitie en Veiligheid</td>\n",
       "      <td>129</td>\n",
       "    </tr>\n",
       "    <tr>\n",
       "      <th>8</th>\n",
       "      <td>Ministerie van Landbouw, Natuur en Voedselkwal...</td>\n",
       "      <td>281</td>\n",
       "    </tr>\n",
       "    <tr>\n",
       "      <th>9</th>\n",
       "      <td>Ministerie van Onderwijs, Cultuur en Wetenschap</td>\n",
       "      <td>52</td>\n",
       "    </tr>\n",
       "    <tr>\n",
       "      <th>10</th>\n",
       "      <td>Ministerie van Sociale Zaken en Werkgelegenheid</td>\n",
       "      <td>48</td>\n",
       "    </tr>\n",
       "    <tr>\n",
       "      <th>11</th>\n",
       "      <td>Ministerie van Volksgezondheid, Welzijn en Sport</td>\n",
       "      <td>31</td>\n",
       "    </tr>\n",
       "  </tbody>\n",
       "</table>\n",
       "</div>"
      ],
      "text/plain": [
       "                                    verantwoordelijke  aantal\n",
       "0                       Ministerie van Algemene Zaken       3\n",
       "1   Ministerie van Binnenlandse Zaken en Koninkrij...      96\n",
       "2                   Ministerie van Buitenlandse Zaken      69\n",
       "3                             Ministerie van Defensie      48\n",
       "4         Ministerie van Economische Zaken en Klimaat      88\n",
       "5                            Ministerie van Financiën     150\n",
       "6         Ministerie van Infrastructuur en Waterstaat     117\n",
       "7               Ministerie van Justitie en Veiligheid     129\n",
       "8   Ministerie van Landbouw, Natuur en Voedselkwal...     281\n",
       "9     Ministerie van Onderwijs, Cultuur en Wetenschap      52\n",
       "10    Ministerie van Sociale Zaken en Werkgelegenheid      48\n",
       "11   Ministerie van Volksgezondheid, Welzijn en Sport      31"
      ]
     },
     "metadata": {},
     "output_type": "display_data"
    }
   ],
   "source": [
    "XXX = df.copy()\n",
    "XXX = XXX.drop_duplicates(subset = ['Verzoek'])\n",
    "XXX = XXX.groupby(['verantwoordelijke'])['verantwoordelijke'].count().reset_index(name='aantal')\n",
    "\n",
    "display(XXX)\n",
    "\n",
    "# Data1.to_csv(r'C:\\Users\\ramon\\Downloads\\TestPlot.csv')"
   ]
  },
  {
   "cell_type": "code",
   "execution_count": 121,
   "id": "238fdd58",
   "metadata": {},
   "outputs": [
    {
     "data": {
      "text/html": [
       "<div>\n",
       "<style scoped>\n",
       "    .dataframe tbody tr th:only-of-type {\n",
       "        vertical-align: middle;\n",
       "    }\n",
       "\n",
       "    .dataframe tbody tr th {\n",
       "        vertical-align: top;\n",
       "    }\n",
       "\n",
       "    .dataframe thead th {\n",
       "        text-align: right;\n",
       "    }\n",
       "</style>\n",
       "<table border=\"1\" class=\"dataframe\">\n",
       "  <thead>\n",
       "    <tr style=\"text-align: right;\">\n",
       "      <th></th>\n",
       "      <th>Verzoek</th>\n",
       "      <th>docdatums</th>\n",
       "      <th>urls</th>\n",
       "      <th>verdatums</th>\n",
       "      <th>verantwoordelijke</th>\n",
       "      <th>jaar</th>\n",
       "      <th>kwartaal</th>\n",
       "      <th>image</th>\n",
       "      <th>verdatum</th>\n",
       "    </tr>\n",
       "  </thead>\n",
       "  <tbody>\n",
       "    <tr>\n",
       "      <th>0</th>\n",
       "      <td>Beslissing op bezwaar Wob verzoek corresponden...</td>\n",
       "      <td>2022-09-15</td>\n",
       "      <td>[https://open.overheid.nl/documenten/ronl-34e6...</td>\n",
       "      <td>[nan, nan, nan]</td>\n",
       "      <td>Ministerie van Infrastructuur en Waterstaat</td>\n",
       "      <td>2022</td>\n",
       "      <td>3e Kwartaal</td>\n",
       "      <td>False</td>\n",
       "      <td>NaN</td>\n",
       "    </tr>\n",
       "    <tr>\n",
       "      <th>1</th>\n",
       "      <td>Beslissing op bezwaar Wob-/Woo-verzoek over in...</td>\n",
       "      <td>2022-12-23</td>\n",
       "      <td>[https://open.overheid.nl/documenten/ronl-7a0f...</td>\n",
       "      <td>[14-07-2022, nan, nan]</td>\n",
       "      <td>Ministerie van Infrastructuur en Waterstaat</td>\n",
       "      <td>2022</td>\n",
       "      <td>4e Kwartaal</td>\n",
       "      <td>False</td>\n",
       "      <td>14-07-2022</td>\n",
       "    </tr>\n",
       "    <tr>\n",
       "      <th>2</th>\n",
       "      <td>Beslissing op bezwaar Wob-/Woo-verzoek over ve...</td>\n",
       "      <td>2023-01-27</td>\n",
       "      <td>[https://open.overheid.nl/documenten/ronl-0ba9...</td>\n",
       "      <td>[image, 02-11-2021, 02-11-2021]</td>\n",
       "      <td>Ministerie van Landbouw, Natuur en Voedselkwal...</td>\n",
       "      <td>2023</td>\n",
       "      <td>1e Kwartaal</td>\n",
       "      <td>True</td>\n",
       "      <td>02-11-2021</td>\n",
       "    </tr>\n",
       "    <tr>\n",
       "      <th>3</th>\n",
       "      <td>Beslissing op bezwaar Wob-besluit Financiën ov...</td>\n",
       "      <td>2022-04-26</td>\n",
       "      <td>[https://open.overheid.nl/documenten/ronl-e3e1...</td>\n",
       "      <td>[22-10-2021, nan]</td>\n",
       "      <td>Ministerie van Financiën</td>\n",
       "      <td>2022</td>\n",
       "      <td>2e Kwartaal</td>\n",
       "      <td>False</td>\n",
       "      <td>22-10-2021</td>\n",
       "    </tr>\n",
       "    <tr>\n",
       "      <th>4</th>\n",
       "      <td>Beslissing op bezwaar Wob-besluit over afstemm...</td>\n",
       "      <td>2023-02-09</td>\n",
       "      <td>[https://open.overheid.nl/documenten/ronl-07e2...</td>\n",
       "      <td>[nan, 05-10-2022]</td>\n",
       "      <td>Ministerie van Financiën</td>\n",
       "      <td>2023</td>\n",
       "      <td>1e Kwartaal</td>\n",
       "      <td>False</td>\n",
       "      <td>05-10-2022</td>\n",
       "    </tr>\n",
       "    <tr>\n",
       "      <th>...</th>\n",
       "      <td>...</td>\n",
       "      <td>...</td>\n",
       "      <td>...</td>\n",
       "      <td>...</td>\n",
       "      <td>...</td>\n",
       "      <td>...</td>\n",
       "      <td>...</td>\n",
       "      <td>...</td>\n",
       "      <td>...</td>\n",
       "    </tr>\n",
       "    <tr>\n",
       "      <th>1127</th>\n",
       "      <td>Besluit van 20 juli 2022 op het verzoek inzake...</td>\n",
       "      <td>2022-07-20</td>\n",
       "      <td>[https://open.overheid.nl/documenten/ronl-7517...</td>\n",
       "      <td>[image]</td>\n",
       "      <td>Ministerie van Justitie en Veiligheid</td>\n",
       "      <td>2022</td>\n",
       "      <td>3e Kwartaal</td>\n",
       "      <td>True</td>\n",
       "      <td>NaN</td>\n",
       "    </tr>\n",
       "    <tr>\n",
       "      <th>1129</th>\n",
       "      <td>Woo-verzoek Evaluatiecommissie Tuitjenhorn</td>\n",
       "      <td>2022-06-30</td>\n",
       "      <td>[https://open.overheid.nl/documenten/ronl-370d...</td>\n",
       "      <td>[22-10-2021, nan]</td>\n",
       "      <td>Ministerie van Justitie en Veiligheid</td>\n",
       "      <td>2022</td>\n",
       "      <td>2e Kwartaal</td>\n",
       "      <td>False</td>\n",
       "      <td>22-10-2021</td>\n",
       "    </tr>\n",
       "    <tr>\n",
       "      <th>1130</th>\n",
       "      <td>Woo-verzoek over de identiteit achter anonieme...</td>\n",
       "      <td>2022-08-25</td>\n",
       "      <td>[https://open.overheid.nl/documenten/ronl-2a0b...</td>\n",
       "      <td>[02-08-2022]</td>\n",
       "      <td>Ministerie van Landbouw, Natuur en Voedselkwal...</td>\n",
       "      <td>2022</td>\n",
       "      <td>3e Kwartaal</td>\n",
       "      <td>False</td>\n",
       "      <td>02-08-2022</td>\n",
       "    </tr>\n",
       "    <tr>\n",
       "      <th>1131</th>\n",
       "      <td>Woo-verzoek over landbouwvrijstelling in inkom...</td>\n",
       "      <td>2023-02-27</td>\n",
       "      <td>[https://open.overheid.nl/documenten/ronl-1c09...</td>\n",
       "      <td>[nan, 07-08-2022, nan]</td>\n",
       "      <td>Ministerie van Financiën</td>\n",
       "      <td>2023</td>\n",
       "      <td>1e Kwartaal</td>\n",
       "      <td>False</td>\n",
       "      <td>07-08-2022</td>\n",
       "    </tr>\n",
       "    <tr>\n",
       "      <th>1132</th>\n",
       "      <td>Woo-verzoek over ongeval met trampoline</td>\n",
       "      <td>2022-08-23</td>\n",
       "      <td>[https://open.overheid.nl/documenten/ronl-41c5...</td>\n",
       "      <td>[11-05-2022]</td>\n",
       "      <td>Ministerie van Landbouw, Natuur en Voedselkwal...</td>\n",
       "      <td>2022</td>\n",
       "      <td>3e Kwartaal</td>\n",
       "      <td>False</td>\n",
       "      <td>11-05-2022</td>\n",
       "    </tr>\n",
       "  </tbody>\n",
       "</table>\n",
       "<p>1112 rows × 9 columns</p>\n",
       "</div>"
      ],
      "text/plain": [
       "                                                Verzoek  docdatums  \\\n",
       "0     Beslissing op bezwaar Wob verzoek corresponden... 2022-09-15   \n",
       "1     Beslissing op bezwaar Wob-/Woo-verzoek over in... 2022-12-23   \n",
       "2     Beslissing op bezwaar Wob-/Woo-verzoek over ve... 2023-01-27   \n",
       "3     Beslissing op bezwaar Wob-besluit Financiën ov... 2022-04-26   \n",
       "4     Beslissing op bezwaar Wob-besluit over afstemm... 2023-02-09   \n",
       "...                                                 ...        ...   \n",
       "1127  Besluit van 20 juli 2022 op het verzoek inzake... 2022-07-20   \n",
       "1129         Woo-verzoek Evaluatiecommissie Tuitjenhorn 2022-06-30   \n",
       "1130  Woo-verzoek over de identiteit achter anonieme... 2022-08-25   \n",
       "1131  Woo-verzoek over landbouwvrijstelling in inkom... 2023-02-27   \n",
       "1132            Woo-verzoek over ongeval met trampoline 2022-08-23   \n",
       "\n",
       "                                                   urls  \\\n",
       "0     [https://open.overheid.nl/documenten/ronl-34e6...   \n",
       "1     [https://open.overheid.nl/documenten/ronl-7a0f...   \n",
       "2     [https://open.overheid.nl/documenten/ronl-0ba9...   \n",
       "3     [https://open.overheid.nl/documenten/ronl-e3e1...   \n",
       "4     [https://open.overheid.nl/documenten/ronl-07e2...   \n",
       "...                                                 ...   \n",
       "1127  [https://open.overheid.nl/documenten/ronl-7517...   \n",
       "1129  [https://open.overheid.nl/documenten/ronl-370d...   \n",
       "1130  [https://open.overheid.nl/documenten/ronl-2a0b...   \n",
       "1131  [https://open.overheid.nl/documenten/ronl-1c09...   \n",
       "1132  [https://open.overheid.nl/documenten/ronl-41c5...   \n",
       "\n",
       "                            verdatums  \\\n",
       "0                     [nan, nan, nan]   \n",
       "1              [14-07-2022, nan, nan]   \n",
       "2     [image, 02-11-2021, 02-11-2021]   \n",
       "3                   [22-10-2021, nan]   \n",
       "4                   [nan, 05-10-2022]   \n",
       "...                               ...   \n",
       "1127                          [image]   \n",
       "1129                [22-10-2021, nan]   \n",
       "1130                     [02-08-2022]   \n",
       "1131           [nan, 07-08-2022, nan]   \n",
       "1132                     [11-05-2022]   \n",
       "\n",
       "                                      verantwoordelijke  jaar     kwartaal  \\\n",
       "0           Ministerie van Infrastructuur en Waterstaat  2022  3e Kwartaal   \n",
       "1           Ministerie van Infrastructuur en Waterstaat  2022  4e Kwartaal   \n",
       "2     Ministerie van Landbouw, Natuur en Voedselkwal...  2023  1e Kwartaal   \n",
       "3                              Ministerie van Financiën  2022  2e Kwartaal   \n",
       "4                              Ministerie van Financiën  2023  1e Kwartaal   \n",
       "...                                                 ...   ...          ...   \n",
       "1127              Ministerie van Justitie en Veiligheid  2022  3e Kwartaal   \n",
       "1129              Ministerie van Justitie en Veiligheid  2022  2e Kwartaal   \n",
       "1130  Ministerie van Landbouw, Natuur en Voedselkwal...  2022  3e Kwartaal   \n",
       "1131                           Ministerie van Financiën  2023  1e Kwartaal   \n",
       "1132  Ministerie van Landbouw, Natuur en Voedselkwal...  2022  3e Kwartaal   \n",
       "\n",
       "      image    verdatum  \n",
       "0     False         NaN  \n",
       "1     False  14-07-2022  \n",
       "2      True  02-11-2021  \n",
       "3     False  22-10-2021  \n",
       "4     False  05-10-2022  \n",
       "...     ...         ...  \n",
       "1127   True         NaN  \n",
       "1129  False  22-10-2021  \n",
       "1130  False  02-08-2022  \n",
       "1131  False  07-08-2022  \n",
       "1132  False  11-05-2022  \n",
       "\n",
       "[1112 rows x 9 columns]"
      ]
     },
     "metadata": {},
     "output_type": "display_data"
    }
   ],
   "source": [
    "display(df)"
   ]
  },
  {
   "cell_type": "code",
   "execution_count": 122,
   "id": "17dfe906",
   "metadata": {
    "scrolled": false
   },
   "outputs": [
    {
     "data": {
      "text/html": [
       "<div>\n",
       "<style scoped>\n",
       "    .dataframe tbody tr th:only-of-type {\n",
       "        vertical-align: middle;\n",
       "    }\n",
       "\n",
       "    .dataframe tbody tr th {\n",
       "        vertical-align: top;\n",
       "    }\n",
       "\n",
       "    .dataframe thead th {\n",
       "        text-align: right;\n",
       "    }\n",
       "</style>\n",
       "<table border=\"1\" class=\"dataframe\">\n",
       "  <thead>\n",
       "    <tr style=\"text-align: right;\">\n",
       "      <th></th>\n",
       "      <th>Verzoek</th>\n",
       "      <th>docdatums</th>\n",
       "      <th>urls</th>\n",
       "      <th>verdatums</th>\n",
       "      <th>verantwoordelijke</th>\n",
       "      <th>jaar</th>\n",
       "      <th>kwartaal</th>\n",
       "      <th>image</th>\n",
       "      <th>verdatum</th>\n",
       "    </tr>\n",
       "  </thead>\n",
       "  <tbody>\n",
       "    <tr>\n",
       "      <th>1</th>\n",
       "      <td>Beslissing op bezwaar Wob-/Woo-verzoek over in...</td>\n",
       "      <td>2022-12-23</td>\n",
       "      <td>[https://open.overheid.nl/documenten/ronl-7a0f...</td>\n",
       "      <td>[14-07-2022, nan, nan]</td>\n",
       "      <td>Ministerie van Infrastructuur en Waterstaat</td>\n",
       "      <td>2022</td>\n",
       "      <td>4e Kwartaal</td>\n",
       "      <td>False</td>\n",
       "      <td>14-07-2022</td>\n",
       "    </tr>\n",
       "    <tr>\n",
       "      <th>2</th>\n",
       "      <td>Beslissing op bezwaar Wob-/Woo-verzoek over ve...</td>\n",
       "      <td>2023-01-27</td>\n",
       "      <td>[https://open.overheid.nl/documenten/ronl-0ba9...</td>\n",
       "      <td>[image, 02-11-2021, 02-11-2021]</td>\n",
       "      <td>Ministerie van Landbouw, Natuur en Voedselkwal...</td>\n",
       "      <td>2023</td>\n",
       "      <td>1e Kwartaal</td>\n",
       "      <td>True</td>\n",
       "      <td>02-11-2021</td>\n",
       "    </tr>\n",
       "    <tr>\n",
       "      <th>3</th>\n",
       "      <td>Beslissing op bezwaar Wob-besluit Financiën ov...</td>\n",
       "      <td>2022-04-26</td>\n",
       "      <td>[https://open.overheid.nl/documenten/ronl-e3e1...</td>\n",
       "      <td>[22-10-2021, nan]</td>\n",
       "      <td>Ministerie van Financiën</td>\n",
       "      <td>2022</td>\n",
       "      <td>2e Kwartaal</td>\n",
       "      <td>False</td>\n",
       "      <td>22-10-2021</td>\n",
       "    </tr>\n",
       "    <tr>\n",
       "      <th>4</th>\n",
       "      <td>Beslissing op bezwaar Wob-besluit over afstemm...</td>\n",
       "      <td>2023-02-09</td>\n",
       "      <td>[https://open.overheid.nl/documenten/ronl-07e2...</td>\n",
       "      <td>[nan, 05-10-2022]</td>\n",
       "      <td>Ministerie van Financiën</td>\n",
       "      <td>2023</td>\n",
       "      <td>1e Kwartaal</td>\n",
       "      <td>False</td>\n",
       "      <td>05-10-2022</td>\n",
       "    </tr>\n",
       "    <tr>\n",
       "      <th>5</th>\n",
       "      <td>Beslissing op bezwaar Wob-besluit over contact...</td>\n",
       "      <td>2023-02-08</td>\n",
       "      <td>[https://open.overheid.nl/documenten/ronl-aa6e...</td>\n",
       "      <td>[25-03-2021, nan, image]</td>\n",
       "      <td>Ministerie van Financiën</td>\n",
       "      <td>2023</td>\n",
       "      <td>1e Kwartaal</td>\n",
       "      <td>True</td>\n",
       "      <td>25-03-2021</td>\n",
       "    </tr>\n",
       "    <tr>\n",
       "      <th>...</th>\n",
       "      <td>...</td>\n",
       "      <td>...</td>\n",
       "      <td>...</td>\n",
       "      <td>...</td>\n",
       "      <td>...</td>\n",
       "      <td>...</td>\n",
       "      <td>...</td>\n",
       "      <td>...</td>\n",
       "      <td>...</td>\n",
       "    </tr>\n",
       "    <tr>\n",
       "      <th>1125</th>\n",
       "      <td>Besluit over koude weer training</td>\n",
       "      <td>2022-09-13</td>\n",
       "      <td>[https://open.overheid.nl/documenten/ronl-60da...</td>\n",
       "      <td>[09-06-2022]</td>\n",
       "      <td>Ministerie van Defensie</td>\n",
       "      <td>2022</td>\n",
       "      <td>3e Kwartaal</td>\n",
       "      <td>False</td>\n",
       "      <td>09-06-2022</td>\n",
       "    </tr>\n",
       "    <tr>\n",
       "      <th>1129</th>\n",
       "      <td>Woo-verzoek Evaluatiecommissie Tuitjenhorn</td>\n",
       "      <td>2022-06-30</td>\n",
       "      <td>[https://open.overheid.nl/documenten/ronl-370d...</td>\n",
       "      <td>[22-10-2021, nan]</td>\n",
       "      <td>Ministerie van Justitie en Veiligheid</td>\n",
       "      <td>2022</td>\n",
       "      <td>2e Kwartaal</td>\n",
       "      <td>False</td>\n",
       "      <td>22-10-2021</td>\n",
       "    </tr>\n",
       "    <tr>\n",
       "      <th>1130</th>\n",
       "      <td>Woo-verzoek over de identiteit achter anonieme...</td>\n",
       "      <td>2022-08-25</td>\n",
       "      <td>[https://open.overheid.nl/documenten/ronl-2a0b...</td>\n",
       "      <td>[02-08-2022]</td>\n",
       "      <td>Ministerie van Landbouw, Natuur en Voedselkwal...</td>\n",
       "      <td>2022</td>\n",
       "      <td>3e Kwartaal</td>\n",
       "      <td>False</td>\n",
       "      <td>02-08-2022</td>\n",
       "    </tr>\n",
       "    <tr>\n",
       "      <th>1131</th>\n",
       "      <td>Woo-verzoek over landbouwvrijstelling in inkom...</td>\n",
       "      <td>2023-02-27</td>\n",
       "      <td>[https://open.overheid.nl/documenten/ronl-1c09...</td>\n",
       "      <td>[nan, 07-08-2022, nan]</td>\n",
       "      <td>Ministerie van Financiën</td>\n",
       "      <td>2023</td>\n",
       "      <td>1e Kwartaal</td>\n",
       "      <td>False</td>\n",
       "      <td>07-08-2022</td>\n",
       "    </tr>\n",
       "    <tr>\n",
       "      <th>1132</th>\n",
       "      <td>Woo-verzoek over ongeval met trampoline</td>\n",
       "      <td>2022-08-23</td>\n",
       "      <td>[https://open.overheid.nl/documenten/ronl-41c5...</td>\n",
       "      <td>[11-05-2022]</td>\n",
       "      <td>Ministerie van Landbouw, Natuur en Voedselkwal...</td>\n",
       "      <td>2022</td>\n",
       "      <td>3e Kwartaal</td>\n",
       "      <td>False</td>\n",
       "      <td>11-05-2022</td>\n",
       "    </tr>\n",
       "  </tbody>\n",
       "</table>\n",
       "<p>918 rows × 9 columns</p>\n",
       "</div>"
      ],
      "text/plain": [
       "                                                Verzoek  docdatums  \\\n",
       "1     Beslissing op bezwaar Wob-/Woo-verzoek over in... 2022-12-23   \n",
       "2     Beslissing op bezwaar Wob-/Woo-verzoek over ve... 2023-01-27   \n",
       "3     Beslissing op bezwaar Wob-besluit Financiën ov... 2022-04-26   \n",
       "4     Beslissing op bezwaar Wob-besluit over afstemm... 2023-02-09   \n",
       "5     Beslissing op bezwaar Wob-besluit over contact... 2023-02-08   \n",
       "...                                                 ...        ...   \n",
       "1125                   Besluit over koude weer training 2022-09-13   \n",
       "1129         Woo-verzoek Evaluatiecommissie Tuitjenhorn 2022-06-30   \n",
       "1130  Woo-verzoek over de identiteit achter anonieme... 2022-08-25   \n",
       "1131  Woo-verzoek over landbouwvrijstelling in inkom... 2023-02-27   \n",
       "1132            Woo-verzoek over ongeval met trampoline 2022-08-23   \n",
       "\n",
       "                                                   urls  \\\n",
       "1     [https://open.overheid.nl/documenten/ronl-7a0f...   \n",
       "2     [https://open.overheid.nl/documenten/ronl-0ba9...   \n",
       "3     [https://open.overheid.nl/documenten/ronl-e3e1...   \n",
       "4     [https://open.overheid.nl/documenten/ronl-07e2...   \n",
       "5     [https://open.overheid.nl/documenten/ronl-aa6e...   \n",
       "...                                                 ...   \n",
       "1125  [https://open.overheid.nl/documenten/ronl-60da...   \n",
       "1129  [https://open.overheid.nl/documenten/ronl-370d...   \n",
       "1130  [https://open.overheid.nl/documenten/ronl-2a0b...   \n",
       "1131  [https://open.overheid.nl/documenten/ronl-1c09...   \n",
       "1132  [https://open.overheid.nl/documenten/ronl-41c5...   \n",
       "\n",
       "                            verdatums  \\\n",
       "1              [14-07-2022, nan, nan]   \n",
       "2     [image, 02-11-2021, 02-11-2021]   \n",
       "3                   [22-10-2021, nan]   \n",
       "4                   [nan, 05-10-2022]   \n",
       "5            [25-03-2021, nan, image]   \n",
       "...                               ...   \n",
       "1125                     [09-06-2022]   \n",
       "1129                [22-10-2021, nan]   \n",
       "1130                     [02-08-2022]   \n",
       "1131           [nan, 07-08-2022, nan]   \n",
       "1132                     [11-05-2022]   \n",
       "\n",
       "                                      verantwoordelijke  jaar     kwartaal  \\\n",
       "1           Ministerie van Infrastructuur en Waterstaat  2022  4e Kwartaal   \n",
       "2     Ministerie van Landbouw, Natuur en Voedselkwal...  2023  1e Kwartaal   \n",
       "3                              Ministerie van Financiën  2022  2e Kwartaal   \n",
       "4                              Ministerie van Financiën  2023  1e Kwartaal   \n",
       "5                              Ministerie van Financiën  2023  1e Kwartaal   \n",
       "...                                                 ...   ...          ...   \n",
       "1125                            Ministerie van Defensie  2022  3e Kwartaal   \n",
       "1129              Ministerie van Justitie en Veiligheid  2022  2e Kwartaal   \n",
       "1130  Ministerie van Landbouw, Natuur en Voedselkwal...  2022  3e Kwartaal   \n",
       "1131                           Ministerie van Financiën  2023  1e Kwartaal   \n",
       "1132  Ministerie van Landbouw, Natuur en Voedselkwal...  2022  3e Kwartaal   \n",
       "\n",
       "      image    verdatum  \n",
       "1     False  14-07-2022  \n",
       "2      True  02-11-2021  \n",
       "3     False  22-10-2021  \n",
       "4     False  05-10-2022  \n",
       "5      True  25-03-2021  \n",
       "...     ...         ...  \n",
       "1125  False  09-06-2022  \n",
       "1129  False  22-10-2021  \n",
       "1130  False  02-08-2022  \n",
       "1131  False  07-08-2022  \n",
       "1132  False  11-05-2022  \n",
       "\n",
       "[918 rows x 9 columns]"
      ]
     },
     "metadata": {},
     "output_type": "display_data"
    }
   ],
   "source": [
    "df_dates = df[df['verdatum'].apply(lambda x: isinstance(x, str))]\n",
    "display(df_dates)"
   ]
  },
  {
   "cell_type": "code",
   "execution_count": 123,
   "id": "8d3d0082",
   "metadata": {},
   "outputs": [],
   "source": [
    "# url = 'https://open.overheid.nl/documenten/ronl-7a0f146a99fbedda2e677881e1516d02894733c9/pdf'\n",
    "# res = requests.get(url)\n",
    "# html_page = res.content\n",
    "\n",
    "# soup = BeautifulSoup(html_page, 'html.parser')\n",
    "\n",
    "# text = soup.find_all()\n",
    "# print(text)"
   ]
  },
  {
   "cell_type": "code",
   "execution_count": 235,
   "id": "19208335",
   "metadata": {},
   "outputs": [
    {
     "data": {
      "text/html": [
       "<div>\n",
       "<style scoped>\n",
       "    .dataframe tbody tr th:only-of-type {\n",
       "        vertical-align: middle;\n",
       "    }\n",
       "\n",
       "    .dataframe tbody tr th {\n",
       "        vertical-align: top;\n",
       "    }\n",
       "\n",
       "    .dataframe thead th {\n",
       "        text-align: right;\n",
       "    }\n",
       "</style>\n",
       "<table border=\"1\" class=\"dataframe\">\n",
       "  <thead>\n",
       "    <tr style=\"text-align: right;\">\n",
       "      <th></th>\n",
       "      <th>Verzoek</th>\n",
       "      <th>docdatums</th>\n",
       "      <th>urls</th>\n",
       "      <th>verdatums</th>\n",
       "      <th>verantwoordelijke</th>\n",
       "      <th>jaar</th>\n",
       "      <th>kwartaal</th>\n",
       "      <th>image</th>\n",
       "      <th>verdatum</th>\n",
       "      <th>dagen</th>\n",
       "    </tr>\n",
       "  </thead>\n",
       "  <tbody>\n",
       "    <tr>\n",
       "      <th>1</th>\n",
       "      <td>Beslissing op bezwaar Wob-/Woo-verzoek over in...</td>\n",
       "      <td>2022-12-23</td>\n",
       "      <td>[https://open.overheid.nl/documenten/ronl-7a0f...</td>\n",
       "      <td>2022-07-14</td>\n",
       "      <td>Ministerie van Infrastructuur en Waterstaat</td>\n",
       "      <td>2022</td>\n",
       "      <td>4e Kwartaal</td>\n",
       "      <td>False</td>\n",
       "      <td>14-07-2022</td>\n",
       "      <td>162</td>\n",
       "    </tr>\n",
       "    <tr>\n",
       "      <th>2</th>\n",
       "      <td>Beslissing op bezwaar Wob-/Woo-verzoek over ve...</td>\n",
       "      <td>2023-01-27</td>\n",
       "      <td>[https://open.overheid.nl/documenten/ronl-0ba9...</td>\n",
       "      <td>2021-11-02</td>\n",
       "      <td>Ministerie van Landbouw, Natuur en Voedselkwal...</td>\n",
       "      <td>2023</td>\n",
       "      <td>1e Kwartaal</td>\n",
       "      <td>True</td>\n",
       "      <td>02-11-2021</td>\n",
       "      <td>451</td>\n",
       "    </tr>\n",
       "    <tr>\n",
       "      <th>3</th>\n",
       "      <td>Beslissing op bezwaar Wob-besluit Financiën ov...</td>\n",
       "      <td>2022-04-26</td>\n",
       "      <td>[https://open.overheid.nl/documenten/ronl-e3e1...</td>\n",
       "      <td>2021-10-22</td>\n",
       "      <td>Ministerie van Financiën</td>\n",
       "      <td>2022</td>\n",
       "      <td>2e Kwartaal</td>\n",
       "      <td>False</td>\n",
       "      <td>22-10-2021</td>\n",
       "      <td>186</td>\n",
       "    </tr>\n",
       "    <tr>\n",
       "      <th>4</th>\n",
       "      <td>Beslissing op bezwaar Wob-besluit over afstemm...</td>\n",
       "      <td>2023-02-09</td>\n",
       "      <td>[https://open.overheid.nl/documenten/ronl-07e2...</td>\n",
       "      <td>2022-10-05</td>\n",
       "      <td>Ministerie van Financiën</td>\n",
       "      <td>2023</td>\n",
       "      <td>1e Kwartaal</td>\n",
       "      <td>False</td>\n",
       "      <td>05-10-2022</td>\n",
       "      <td>127</td>\n",
       "    </tr>\n",
       "    <tr>\n",
       "      <th>5</th>\n",
       "      <td>Beslissing op bezwaar Wob-besluit over contact...</td>\n",
       "      <td>2023-02-08</td>\n",
       "      <td>[https://open.overheid.nl/documenten/ronl-aa6e...</td>\n",
       "      <td>2021-03-25</td>\n",
       "      <td>Ministerie van Financiën</td>\n",
       "      <td>2023</td>\n",
       "      <td>1e Kwartaal</td>\n",
       "      <td>True</td>\n",
       "      <td>25-03-2021</td>\n",
       "      <td>685</td>\n",
       "    </tr>\n",
       "    <tr>\n",
       "      <th>...</th>\n",
       "      <td>...</td>\n",
       "      <td>...</td>\n",
       "      <td>...</td>\n",
       "      <td>...</td>\n",
       "      <td>...</td>\n",
       "      <td>...</td>\n",
       "      <td>...</td>\n",
       "      <td>...</td>\n",
       "      <td>...</td>\n",
       "      <td>...</td>\n",
       "    </tr>\n",
       "    <tr>\n",
       "      <th>1125</th>\n",
       "      <td>Besluit over koude weer training</td>\n",
       "      <td>2022-09-13</td>\n",
       "      <td>[https://open.overheid.nl/documenten/ronl-60da...</td>\n",
       "      <td>2022-06-09</td>\n",
       "      <td>Ministerie van Defensie</td>\n",
       "      <td>2022</td>\n",
       "      <td>3e Kwartaal</td>\n",
       "      <td>False</td>\n",
       "      <td>09-06-2022</td>\n",
       "      <td>96</td>\n",
       "    </tr>\n",
       "    <tr>\n",
       "      <th>1129</th>\n",
       "      <td>Woo-verzoek Evaluatiecommissie Tuitjenhorn</td>\n",
       "      <td>2022-06-30</td>\n",
       "      <td>[https://open.overheid.nl/documenten/ronl-370d...</td>\n",
       "      <td>2021-10-22</td>\n",
       "      <td>Ministerie van Justitie en Veiligheid</td>\n",
       "      <td>2022</td>\n",
       "      <td>2e Kwartaal</td>\n",
       "      <td>False</td>\n",
       "      <td>22-10-2021</td>\n",
       "      <td>251</td>\n",
       "    </tr>\n",
       "    <tr>\n",
       "      <th>1130</th>\n",
       "      <td>Woo-verzoek over de identiteit achter anonieme...</td>\n",
       "      <td>2022-08-25</td>\n",
       "      <td>[https://open.overheid.nl/documenten/ronl-2a0b...</td>\n",
       "      <td>2022-08-02</td>\n",
       "      <td>Ministerie van Landbouw, Natuur en Voedselkwal...</td>\n",
       "      <td>2022</td>\n",
       "      <td>3e Kwartaal</td>\n",
       "      <td>False</td>\n",
       "      <td>02-08-2022</td>\n",
       "      <td>23</td>\n",
       "    </tr>\n",
       "    <tr>\n",
       "      <th>1131</th>\n",
       "      <td>Woo-verzoek over landbouwvrijstelling in inkom...</td>\n",
       "      <td>2023-02-27</td>\n",
       "      <td>[https://open.overheid.nl/documenten/ronl-1c09...</td>\n",
       "      <td>2022-08-07</td>\n",
       "      <td>Ministerie van Financiën</td>\n",
       "      <td>2023</td>\n",
       "      <td>1e Kwartaal</td>\n",
       "      <td>False</td>\n",
       "      <td>07-08-2022</td>\n",
       "      <td>204</td>\n",
       "    </tr>\n",
       "    <tr>\n",
       "      <th>1132</th>\n",
       "      <td>Woo-verzoek over ongeval met trampoline</td>\n",
       "      <td>2022-08-23</td>\n",
       "      <td>[https://open.overheid.nl/documenten/ronl-41c5...</td>\n",
       "      <td>2022-05-11</td>\n",
       "      <td>Ministerie van Landbouw, Natuur en Voedselkwal...</td>\n",
       "      <td>2022</td>\n",
       "      <td>3e Kwartaal</td>\n",
       "      <td>False</td>\n",
       "      <td>11-05-2022</td>\n",
       "      <td>104</td>\n",
       "    </tr>\n",
       "  </tbody>\n",
       "</table>\n",
       "<p>871 rows × 10 columns</p>\n",
       "</div>"
      ],
      "text/plain": [
       "                                                Verzoek  docdatums  \\\n",
       "1     Beslissing op bezwaar Wob-/Woo-verzoek over in... 2022-12-23   \n",
       "2     Beslissing op bezwaar Wob-/Woo-verzoek over ve... 2023-01-27   \n",
       "3     Beslissing op bezwaar Wob-besluit Financiën ov... 2022-04-26   \n",
       "4     Beslissing op bezwaar Wob-besluit over afstemm... 2023-02-09   \n",
       "5     Beslissing op bezwaar Wob-besluit over contact... 2023-02-08   \n",
       "...                                                 ...        ...   \n",
       "1125                   Besluit over koude weer training 2022-09-13   \n",
       "1129         Woo-verzoek Evaluatiecommissie Tuitjenhorn 2022-06-30   \n",
       "1130  Woo-verzoek over de identiteit achter anonieme... 2022-08-25   \n",
       "1131  Woo-verzoek over landbouwvrijstelling in inkom... 2023-02-27   \n",
       "1132            Woo-verzoek over ongeval met trampoline 2022-08-23   \n",
       "\n",
       "                                                   urls  verdatums  \\\n",
       "1     [https://open.overheid.nl/documenten/ronl-7a0f... 2022-07-14   \n",
       "2     [https://open.overheid.nl/documenten/ronl-0ba9... 2021-11-02   \n",
       "3     [https://open.overheid.nl/documenten/ronl-e3e1... 2021-10-22   \n",
       "4     [https://open.overheid.nl/documenten/ronl-07e2... 2022-10-05   \n",
       "5     [https://open.overheid.nl/documenten/ronl-aa6e... 2021-03-25   \n",
       "...                                                 ...        ...   \n",
       "1125  [https://open.overheid.nl/documenten/ronl-60da... 2022-06-09   \n",
       "1129  [https://open.overheid.nl/documenten/ronl-370d... 2021-10-22   \n",
       "1130  [https://open.overheid.nl/documenten/ronl-2a0b... 2022-08-02   \n",
       "1131  [https://open.overheid.nl/documenten/ronl-1c09... 2022-08-07   \n",
       "1132  [https://open.overheid.nl/documenten/ronl-41c5... 2022-05-11   \n",
       "\n",
       "                                      verantwoordelijke  jaar     kwartaal  \\\n",
       "1           Ministerie van Infrastructuur en Waterstaat  2022  4e Kwartaal   \n",
       "2     Ministerie van Landbouw, Natuur en Voedselkwal...  2023  1e Kwartaal   \n",
       "3                              Ministerie van Financiën  2022  2e Kwartaal   \n",
       "4                              Ministerie van Financiën  2023  1e Kwartaal   \n",
       "5                              Ministerie van Financiën  2023  1e Kwartaal   \n",
       "...                                                 ...   ...          ...   \n",
       "1125                            Ministerie van Defensie  2022  3e Kwartaal   \n",
       "1129              Ministerie van Justitie en Veiligheid  2022  2e Kwartaal   \n",
       "1130  Ministerie van Landbouw, Natuur en Voedselkwal...  2022  3e Kwartaal   \n",
       "1131                           Ministerie van Financiën  2023  1e Kwartaal   \n",
       "1132  Ministerie van Landbouw, Natuur en Voedselkwal...  2022  3e Kwartaal   \n",
       "\n",
       "      image    verdatum  dagen  \n",
       "1     False  14-07-2022    162  \n",
       "2      True  02-11-2021    451  \n",
       "3     False  22-10-2021    186  \n",
       "4     False  05-10-2022    127  \n",
       "5      True  25-03-2021    685  \n",
       "...     ...         ...    ...  \n",
       "1125  False  09-06-2022     96  \n",
       "1129  False  22-10-2021    251  \n",
       "1130  False  02-08-2022     23  \n",
       "1131  False  07-08-2022    204  \n",
       "1132  False  11-05-2022    104  \n",
       "\n",
       "[871 rows x 10 columns]"
      ]
     },
     "metadata": {},
     "output_type": "display_data"
    },
    {
     "data": {
      "text/html": [
       "<div>\n",
       "<style scoped>\n",
       "    .dataframe tbody tr th:only-of-type {\n",
       "        vertical-align: middle;\n",
       "    }\n",
       "\n",
       "    .dataframe tbody tr th {\n",
       "        vertical-align: top;\n",
       "    }\n",
       "\n",
       "    .dataframe thead th {\n",
       "        text-align: right;\n",
       "    }\n",
       "</style>\n",
       "<table border=\"1\" class=\"dataframe\">\n",
       "  <thead>\n",
       "    <tr style=\"text-align: right;\">\n",
       "      <th></th>\n",
       "      <th>Verzoek</th>\n",
       "      <th>docdatums</th>\n",
       "      <th>urls</th>\n",
       "      <th>verdatums</th>\n",
       "      <th>verantwoordelijke</th>\n",
       "      <th>jaar</th>\n",
       "      <th>kwartaal</th>\n",
       "      <th>image</th>\n",
       "      <th>verdatum</th>\n",
       "      <th>dagen</th>\n",
       "    </tr>\n",
       "  </thead>\n",
       "  <tbody>\n",
       "    <tr>\n",
       "      <th>1</th>\n",
       "      <td>Beslissing op bezwaar Wob-/Woo-verzoek over in...</td>\n",
       "      <td>2022-12-23</td>\n",
       "      <td>[https://open.overheid.nl/documenten/ronl-7a0f...</td>\n",
       "      <td>2022-07-14</td>\n",
       "      <td>Ministerie van Infrastructuur en Waterstaat</td>\n",
       "      <td>2022</td>\n",
       "      <td>4e Kwartaal</td>\n",
       "      <td>False</td>\n",
       "      <td>14-07-2022</td>\n",
       "      <td>162</td>\n",
       "    </tr>\n",
       "    <tr>\n",
       "      <th>2</th>\n",
       "      <td>Beslissing op bezwaar Wob-/Woo-verzoek over ve...</td>\n",
       "      <td>2023-01-27</td>\n",
       "      <td>[https://open.overheid.nl/documenten/ronl-0ba9...</td>\n",
       "      <td>2021-11-02</td>\n",
       "      <td>Ministerie van Landbouw, Natuur en Voedselkwal...</td>\n",
       "      <td>2023</td>\n",
       "      <td>1e Kwartaal</td>\n",
       "      <td>True</td>\n",
       "      <td>02-11-2021</td>\n",
       "      <td>451</td>\n",
       "    </tr>\n",
       "    <tr>\n",
       "      <th>3</th>\n",
       "      <td>Beslissing op bezwaar Wob-besluit Financiën ov...</td>\n",
       "      <td>2022-04-26</td>\n",
       "      <td>[https://open.overheid.nl/documenten/ronl-e3e1...</td>\n",
       "      <td>2021-10-22</td>\n",
       "      <td>Ministerie van Financiën</td>\n",
       "      <td>2022</td>\n",
       "      <td>2e Kwartaal</td>\n",
       "      <td>False</td>\n",
       "      <td>22-10-2021</td>\n",
       "      <td>186</td>\n",
       "    </tr>\n",
       "    <tr>\n",
       "      <th>4</th>\n",
       "      <td>Beslissing op bezwaar Wob-besluit over afstemm...</td>\n",
       "      <td>2023-02-09</td>\n",
       "      <td>[https://open.overheid.nl/documenten/ronl-07e2...</td>\n",
       "      <td>2022-10-05</td>\n",
       "      <td>Ministerie van Financiën</td>\n",
       "      <td>2023</td>\n",
       "      <td>1e Kwartaal</td>\n",
       "      <td>False</td>\n",
       "      <td>05-10-2022</td>\n",
       "      <td>127</td>\n",
       "    </tr>\n",
       "    <tr>\n",
       "      <th>5</th>\n",
       "      <td>Beslissing op bezwaar Wob-besluit over contact...</td>\n",
       "      <td>2023-02-08</td>\n",
       "      <td>[https://open.overheid.nl/documenten/ronl-aa6e...</td>\n",
       "      <td>2021-03-25</td>\n",
       "      <td>Ministerie van Financiën</td>\n",
       "      <td>2023</td>\n",
       "      <td>1e Kwartaal</td>\n",
       "      <td>True</td>\n",
       "      <td>25-03-2021</td>\n",
       "      <td>685</td>\n",
       "    </tr>\n",
       "    <tr>\n",
       "      <th>...</th>\n",
       "      <td>...</td>\n",
       "      <td>...</td>\n",
       "      <td>...</td>\n",
       "      <td>...</td>\n",
       "      <td>...</td>\n",
       "      <td>...</td>\n",
       "      <td>...</td>\n",
       "      <td>...</td>\n",
       "      <td>...</td>\n",
       "      <td>...</td>\n",
       "    </tr>\n",
       "    <tr>\n",
       "      <th>1125</th>\n",
       "      <td>Besluit over koude weer training</td>\n",
       "      <td>2022-09-13</td>\n",
       "      <td>[https://open.overheid.nl/documenten/ronl-60da...</td>\n",
       "      <td>2022-06-09</td>\n",
       "      <td>Ministerie van Defensie</td>\n",
       "      <td>2022</td>\n",
       "      <td>3e Kwartaal</td>\n",
       "      <td>False</td>\n",
       "      <td>09-06-2022</td>\n",
       "      <td>96</td>\n",
       "    </tr>\n",
       "    <tr>\n",
       "      <th>1129</th>\n",
       "      <td>Woo-verzoek Evaluatiecommissie Tuitjenhorn</td>\n",
       "      <td>2022-06-30</td>\n",
       "      <td>[https://open.overheid.nl/documenten/ronl-370d...</td>\n",
       "      <td>2021-10-22</td>\n",
       "      <td>Ministerie van Justitie en Veiligheid</td>\n",
       "      <td>2022</td>\n",
       "      <td>2e Kwartaal</td>\n",
       "      <td>False</td>\n",
       "      <td>22-10-2021</td>\n",
       "      <td>251</td>\n",
       "    </tr>\n",
       "    <tr>\n",
       "      <th>1130</th>\n",
       "      <td>Woo-verzoek over de identiteit achter anonieme...</td>\n",
       "      <td>2022-08-25</td>\n",
       "      <td>[https://open.overheid.nl/documenten/ronl-2a0b...</td>\n",
       "      <td>2022-08-02</td>\n",
       "      <td>Ministerie van Landbouw, Natuur en Voedselkwal...</td>\n",
       "      <td>2022</td>\n",
       "      <td>3e Kwartaal</td>\n",
       "      <td>False</td>\n",
       "      <td>02-08-2022</td>\n",
       "      <td>23</td>\n",
       "    </tr>\n",
       "    <tr>\n",
       "      <th>1131</th>\n",
       "      <td>Woo-verzoek over landbouwvrijstelling in inkom...</td>\n",
       "      <td>2023-02-27</td>\n",
       "      <td>[https://open.overheid.nl/documenten/ronl-1c09...</td>\n",
       "      <td>2022-08-07</td>\n",
       "      <td>Ministerie van Financiën</td>\n",
       "      <td>2023</td>\n",
       "      <td>1e Kwartaal</td>\n",
       "      <td>False</td>\n",
       "      <td>07-08-2022</td>\n",
       "      <td>204</td>\n",
       "    </tr>\n",
       "    <tr>\n",
       "      <th>1132</th>\n",
       "      <td>Woo-verzoek over ongeval met trampoline</td>\n",
       "      <td>2022-08-23</td>\n",
       "      <td>[https://open.overheid.nl/documenten/ronl-41c5...</td>\n",
       "      <td>2022-05-11</td>\n",
       "      <td>Ministerie van Landbouw, Natuur en Voedselkwal...</td>\n",
       "      <td>2022</td>\n",
       "      <td>3e Kwartaal</td>\n",
       "      <td>False</td>\n",
       "      <td>11-05-2022</td>\n",
       "      <td>104</td>\n",
       "    </tr>\n",
       "  </tbody>\n",
       "</table>\n",
       "<p>871 rows × 10 columns</p>\n",
       "</div>"
      ],
      "text/plain": [
       "                                                Verzoek  docdatums  \\\n",
       "1     Beslissing op bezwaar Wob-/Woo-verzoek over in... 2022-12-23   \n",
       "2     Beslissing op bezwaar Wob-/Woo-verzoek over ve... 2023-01-27   \n",
       "3     Beslissing op bezwaar Wob-besluit Financiën ov... 2022-04-26   \n",
       "4     Beslissing op bezwaar Wob-besluit over afstemm... 2023-02-09   \n",
       "5     Beslissing op bezwaar Wob-besluit over contact... 2023-02-08   \n",
       "...                                                 ...        ...   \n",
       "1125                   Besluit over koude weer training 2022-09-13   \n",
       "1129         Woo-verzoek Evaluatiecommissie Tuitjenhorn 2022-06-30   \n",
       "1130  Woo-verzoek over de identiteit achter anonieme... 2022-08-25   \n",
       "1131  Woo-verzoek over landbouwvrijstelling in inkom... 2023-02-27   \n",
       "1132            Woo-verzoek over ongeval met trampoline 2022-08-23   \n",
       "\n",
       "                                                   urls  verdatums  \\\n",
       "1     [https://open.overheid.nl/documenten/ronl-7a0f... 2022-07-14   \n",
       "2     [https://open.overheid.nl/documenten/ronl-0ba9... 2021-11-02   \n",
       "3     [https://open.overheid.nl/documenten/ronl-e3e1... 2021-10-22   \n",
       "4     [https://open.overheid.nl/documenten/ronl-07e2... 2022-10-05   \n",
       "5     [https://open.overheid.nl/documenten/ronl-aa6e... 2021-03-25   \n",
       "...                                                 ...        ...   \n",
       "1125  [https://open.overheid.nl/documenten/ronl-60da... 2022-06-09   \n",
       "1129  [https://open.overheid.nl/documenten/ronl-370d... 2021-10-22   \n",
       "1130  [https://open.overheid.nl/documenten/ronl-2a0b... 2022-08-02   \n",
       "1131  [https://open.overheid.nl/documenten/ronl-1c09... 2022-08-07   \n",
       "1132  [https://open.overheid.nl/documenten/ronl-41c5... 2022-05-11   \n",
       "\n",
       "                                      verantwoordelijke  jaar     kwartaal  \\\n",
       "1           Ministerie van Infrastructuur en Waterstaat  2022  4e Kwartaal   \n",
       "2     Ministerie van Landbouw, Natuur en Voedselkwal...  2023  1e Kwartaal   \n",
       "3                              Ministerie van Financiën  2022  2e Kwartaal   \n",
       "4                              Ministerie van Financiën  2023  1e Kwartaal   \n",
       "5                              Ministerie van Financiën  2023  1e Kwartaal   \n",
       "...                                                 ...   ...          ...   \n",
       "1125                            Ministerie van Defensie  2022  3e Kwartaal   \n",
       "1129              Ministerie van Justitie en Veiligheid  2022  2e Kwartaal   \n",
       "1130  Ministerie van Landbouw, Natuur en Voedselkwal...  2022  3e Kwartaal   \n",
       "1131                           Ministerie van Financiën  2023  1e Kwartaal   \n",
       "1132  Ministerie van Landbouw, Natuur en Voedselkwal...  2022  3e Kwartaal   \n",
       "\n",
       "      image    verdatum  dagen  \n",
       "1     False  14-07-2022    162  \n",
       "2      True  02-11-2021    451  \n",
       "3     False  22-10-2021    186  \n",
       "4     False  05-10-2022    127  \n",
       "5      True  25-03-2021    685  \n",
       "...     ...         ...    ...  \n",
       "1125  False  09-06-2022     96  \n",
       "1129  False  22-10-2021    251  \n",
       "1130  False  02-08-2022     23  \n",
       "1131  False  07-08-2022    204  \n",
       "1132  False  11-05-2022    104  \n",
       "\n",
       "[871 rows x 10 columns]"
      ]
     },
     "metadata": {},
     "output_type": "display_data"
    }
   ],
   "source": [
    "df_dates['docdatums'] = pd.to_datetime(df_dates['docdatums'], format = '%d-%m-%Y')\n",
    "df_dates['verdatums'] = pd.to_datetime(df_dates['verdatum'], format = '%d-%m-%Y')\n",
    "\n",
    "\n",
    "df_dates['dagen'] = (df_dates['docdatums'] - df_dates['verdatums']).dt.days\n",
    "df_dates = df_dates[df_dates['dagen'] > 0]\n",
    "\n",
    "display(df_dates)\n",
    "\n",
    "\n",
    "#df_dates.to_csv(r'C:\\Users\\ramon\\Downloads\\PlotData.csv', index=False)"
   ]
  },
  {
   "cell_type": "markdown",
   "id": "038bb842",
   "metadata": {},
   "source": [
    "De documentdatum van deze twee is gewoon volledig fout. En is de datum van het verzoek de documentdatum geworden terwijl het besluitdocument pas weken/maanden later uit is gekomen."
   ]
  },
  {
   "cell_type": "code",
   "execution_count": 125,
   "id": "6e725f1e",
   "metadata": {},
   "outputs": [
    {
     "data": {
      "text/html": [
       "<div>\n",
       "<style scoped>\n",
       "    .dataframe tbody tr th:only-of-type {\n",
       "        vertical-align: middle;\n",
       "    }\n",
       "\n",
       "    .dataframe tbody tr th {\n",
       "        vertical-align: top;\n",
       "    }\n",
       "\n",
       "    .dataframe thead th {\n",
       "        text-align: right;\n",
       "    }\n",
       "</style>\n",
       "<table border=\"1\" class=\"dataframe\">\n",
       "  <thead>\n",
       "    <tr style=\"text-align: right;\">\n",
       "      <th></th>\n",
       "      <th>verantwoordelijke</th>\n",
       "      <th>aantal</th>\n",
       "    </tr>\n",
       "  </thead>\n",
       "  <tbody>\n",
       "    <tr>\n",
       "      <th>0</th>\n",
       "      <td>Ministerie van Algemene Zaken</td>\n",
       "      <td>3</td>\n",
       "    </tr>\n",
       "    <tr>\n",
       "      <th>1</th>\n",
       "      <td>Ministerie van Binnenlandse Zaken en Koninkrij...</td>\n",
       "      <td>87</td>\n",
       "    </tr>\n",
       "    <tr>\n",
       "      <th>2</th>\n",
       "      <td>Ministerie van Buitenlandse Zaken</td>\n",
       "      <td>64</td>\n",
       "    </tr>\n",
       "    <tr>\n",
       "      <th>3</th>\n",
       "      <td>Ministerie van Defensie</td>\n",
       "      <td>36</td>\n",
       "    </tr>\n",
       "    <tr>\n",
       "      <th>4</th>\n",
       "      <td>Ministerie van Economische Zaken en Klimaat</td>\n",
       "      <td>76</td>\n",
       "    </tr>\n",
       "    <tr>\n",
       "      <th>5</th>\n",
       "      <td>Ministerie van Financiën</td>\n",
       "      <td>129</td>\n",
       "    </tr>\n",
       "    <tr>\n",
       "      <th>6</th>\n",
       "      <td>Ministerie van Infrastructuur en Waterstaat</td>\n",
       "      <td>89</td>\n",
       "    </tr>\n",
       "    <tr>\n",
       "      <th>7</th>\n",
       "      <td>Ministerie van Justitie en Veiligheid</td>\n",
       "      <td>62</td>\n",
       "    </tr>\n",
       "    <tr>\n",
       "      <th>8</th>\n",
       "      <td>Ministerie van Landbouw, Natuur en Voedselkwal...</td>\n",
       "      <td>247</td>\n",
       "    </tr>\n",
       "    <tr>\n",
       "      <th>9</th>\n",
       "      <td>Ministerie van Onderwijs, Cultuur en Wetenschap</td>\n",
       "      <td>39</td>\n",
       "    </tr>\n",
       "    <tr>\n",
       "      <th>10</th>\n",
       "      <td>Ministerie van Sociale Zaken en Werkgelegenheid</td>\n",
       "      <td>13</td>\n",
       "    </tr>\n",
       "    <tr>\n",
       "      <th>11</th>\n",
       "      <td>Ministerie van Volksgezondheid, Welzijn en Sport</td>\n",
       "      <td>26</td>\n",
       "    </tr>\n",
       "  </tbody>\n",
       "</table>\n",
       "</div>"
      ],
      "text/plain": [
       "                                    verantwoordelijke  aantal\n",
       "0                       Ministerie van Algemene Zaken       3\n",
       "1   Ministerie van Binnenlandse Zaken en Koninkrij...      87\n",
       "2                   Ministerie van Buitenlandse Zaken      64\n",
       "3                             Ministerie van Defensie      36\n",
       "4         Ministerie van Economische Zaken en Klimaat      76\n",
       "5                            Ministerie van Financiën     129\n",
       "6         Ministerie van Infrastructuur en Waterstaat      89\n",
       "7               Ministerie van Justitie en Veiligheid      62\n",
       "8   Ministerie van Landbouw, Natuur en Voedselkwal...     247\n",
       "9     Ministerie van Onderwijs, Cultuur en Wetenschap      39\n",
       "10    Ministerie van Sociale Zaken en Werkgelegenheid      13\n",
       "11   Ministerie van Volksgezondheid, Welzijn en Sport      26"
      ]
     },
     "metadata": {},
     "output_type": "display_data"
    },
    {
     "data": {
      "text/html": [
       "<div>\n",
       "<style scoped>\n",
       "    .dataframe tbody tr th:only-of-type {\n",
       "        vertical-align: middle;\n",
       "    }\n",
       "\n",
       "    .dataframe tbody tr th {\n",
       "        vertical-align: top;\n",
       "    }\n",
       "\n",
       "    .dataframe thead th {\n",
       "        text-align: right;\n",
       "    }\n",
       "</style>\n",
       "<table border=\"1\" class=\"dataframe\">\n",
       "  <thead>\n",
       "    <tr style=\"text-align: right;\">\n",
       "      <th></th>\n",
       "      <th>verantwoordelijke</th>\n",
       "      <th>aantal_left</th>\n",
       "      <th>aantal_right</th>\n",
       "    </tr>\n",
       "  </thead>\n",
       "  <tbody>\n",
       "    <tr>\n",
       "      <th>0</th>\n",
       "      <td>Ministerie van Algemene Zaken</td>\n",
       "      <td>3</td>\n",
       "      <td>3</td>\n",
       "    </tr>\n",
       "    <tr>\n",
       "      <th>1</th>\n",
       "      <td>Ministerie van Binnenlandse Zaken en Koninkrij...</td>\n",
       "      <td>96</td>\n",
       "      <td>87</td>\n",
       "    </tr>\n",
       "    <tr>\n",
       "      <th>2</th>\n",
       "      <td>Ministerie van Buitenlandse Zaken</td>\n",
       "      <td>69</td>\n",
       "      <td>64</td>\n",
       "    </tr>\n",
       "    <tr>\n",
       "      <th>3</th>\n",
       "      <td>Ministerie van Defensie</td>\n",
       "      <td>48</td>\n",
       "      <td>36</td>\n",
       "    </tr>\n",
       "    <tr>\n",
       "      <th>4</th>\n",
       "      <td>Ministerie van Economische Zaken en Klimaat</td>\n",
       "      <td>88</td>\n",
       "      <td>76</td>\n",
       "    </tr>\n",
       "    <tr>\n",
       "      <th>5</th>\n",
       "      <td>Ministerie van Financiën</td>\n",
       "      <td>150</td>\n",
       "      <td>129</td>\n",
       "    </tr>\n",
       "    <tr>\n",
       "      <th>6</th>\n",
       "      <td>Ministerie van Infrastructuur en Waterstaat</td>\n",
       "      <td>117</td>\n",
       "      <td>89</td>\n",
       "    </tr>\n",
       "    <tr>\n",
       "      <th>7</th>\n",
       "      <td>Ministerie van Justitie en Veiligheid</td>\n",
       "      <td>129</td>\n",
       "      <td>62</td>\n",
       "    </tr>\n",
       "    <tr>\n",
       "      <th>8</th>\n",
       "      <td>Ministerie van Landbouw, Natuur en Voedselkwal...</td>\n",
       "      <td>281</td>\n",
       "      <td>247</td>\n",
       "    </tr>\n",
       "    <tr>\n",
       "      <th>9</th>\n",
       "      <td>Ministerie van Onderwijs, Cultuur en Wetenschap</td>\n",
       "      <td>52</td>\n",
       "      <td>39</td>\n",
       "    </tr>\n",
       "    <tr>\n",
       "      <th>10</th>\n",
       "      <td>Ministerie van Sociale Zaken en Werkgelegenheid</td>\n",
       "      <td>48</td>\n",
       "      <td>13</td>\n",
       "    </tr>\n",
       "    <tr>\n",
       "      <th>11</th>\n",
       "      <td>Ministerie van Volksgezondheid, Welzijn en Sport</td>\n",
       "      <td>31</td>\n",
       "      <td>26</td>\n",
       "    </tr>\n",
       "  </tbody>\n",
       "</table>\n",
       "</div>"
      ],
      "text/plain": [
       "                                    verantwoordelijke  aantal_left  \\\n",
       "0                       Ministerie van Algemene Zaken            3   \n",
       "1   Ministerie van Binnenlandse Zaken en Koninkrij...           96   \n",
       "2                   Ministerie van Buitenlandse Zaken           69   \n",
       "3                             Ministerie van Defensie           48   \n",
       "4         Ministerie van Economische Zaken en Klimaat           88   \n",
       "5                            Ministerie van Financiën          150   \n",
       "6         Ministerie van Infrastructuur en Waterstaat          117   \n",
       "7               Ministerie van Justitie en Veiligheid          129   \n",
       "8   Ministerie van Landbouw, Natuur en Voedselkwal...          281   \n",
       "9     Ministerie van Onderwijs, Cultuur en Wetenschap           52   \n",
       "10    Ministerie van Sociale Zaken en Werkgelegenheid           48   \n",
       "11   Ministerie van Volksgezondheid, Welzijn en Sport           31   \n",
       "\n",
       "    aantal_right  \n",
       "0              3  \n",
       "1             87  \n",
       "2             64  \n",
       "3             36  \n",
       "4             76  \n",
       "5            129  \n",
       "6             89  \n",
       "7             62  \n",
       "8            247  \n",
       "9             39  \n",
       "10            13  \n",
       "11            26  "
      ]
     },
     "metadata": {},
     "output_type": "display_data"
    }
   ],
   "source": [
    "Data1 = df_dates.copy()\n",
    "Data1 = Data1.drop_duplicates(subset = ['Verzoek'])\n",
    "Data1 = Data1.groupby(['verantwoordelijke'])['verantwoordelijke'].count().reset_index(name='aantal')\n",
    "\n",
    "display(Data1)\n",
    "\n",
    "XXX=XXX.join(Data1.set_index('verantwoordelijke'), on='verantwoordelijke', how='left', lsuffix='_left', rsuffix='_right')\n",
    "Merged = XXX.fillna(0)\n",
    "\n",
    "display(Merged)"
   ]
  },
  {
   "cell_type": "code",
   "execution_count": 126,
   "id": "6111bb81",
   "metadata": {
    "scrolled": false
   },
   "outputs": [
    {
     "data": {
      "text/html": [
       "<div>\n",
       "<style scoped>\n",
       "    .dataframe tbody tr th:only-of-type {\n",
       "        vertical-align: middle;\n",
       "    }\n",
       "\n",
       "    .dataframe tbody tr th {\n",
       "        vertical-align: top;\n",
       "    }\n",
       "\n",
       "    .dataframe thead th {\n",
       "        text-align: right;\n",
       "    }\n",
       "</style>\n",
       "<table border=\"1\" class=\"dataframe\">\n",
       "  <thead>\n",
       "    <tr style=\"text-align: right;\">\n",
       "      <th></th>\n",
       "      <th>verantwoordelijke</th>\n",
       "      <th>aantal_left</th>\n",
       "      <th>aantal_right</th>\n",
       "      <th>difference</th>\n",
       "      <th>percentage</th>\n",
       "    </tr>\n",
       "  </thead>\n",
       "  <tbody>\n",
       "    <tr>\n",
       "      <th>0</th>\n",
       "      <td>Ministerie van Algemene Zaken</td>\n",
       "      <td>3</td>\n",
       "      <td>3</td>\n",
       "      <td>0</td>\n",
       "      <td>1.000000</td>\n",
       "    </tr>\n",
       "    <tr>\n",
       "      <th>1</th>\n",
       "      <td>Ministerie van Binnenlandse Zaken en Koninkrij...</td>\n",
       "      <td>96</td>\n",
       "      <td>87</td>\n",
       "      <td>9</td>\n",
       "      <td>0.906250</td>\n",
       "    </tr>\n",
       "    <tr>\n",
       "      <th>2</th>\n",
       "      <td>Ministerie van Buitenlandse Zaken</td>\n",
       "      <td>69</td>\n",
       "      <td>64</td>\n",
       "      <td>5</td>\n",
       "      <td>0.927536</td>\n",
       "    </tr>\n",
       "    <tr>\n",
       "      <th>3</th>\n",
       "      <td>Ministerie van Defensie</td>\n",
       "      <td>48</td>\n",
       "      <td>36</td>\n",
       "      <td>12</td>\n",
       "      <td>0.750000</td>\n",
       "    </tr>\n",
       "    <tr>\n",
       "      <th>4</th>\n",
       "      <td>Ministerie van Economische Zaken en Klimaat</td>\n",
       "      <td>88</td>\n",
       "      <td>76</td>\n",
       "      <td>12</td>\n",
       "      <td>0.863636</td>\n",
       "    </tr>\n",
       "    <tr>\n",
       "      <th>5</th>\n",
       "      <td>Ministerie van Financiën</td>\n",
       "      <td>150</td>\n",
       "      <td>129</td>\n",
       "      <td>21</td>\n",
       "      <td>0.860000</td>\n",
       "    </tr>\n",
       "    <tr>\n",
       "      <th>6</th>\n",
       "      <td>Ministerie van Infrastructuur en Waterstaat</td>\n",
       "      <td>117</td>\n",
       "      <td>89</td>\n",
       "      <td>28</td>\n",
       "      <td>0.760684</td>\n",
       "    </tr>\n",
       "    <tr>\n",
       "      <th>7</th>\n",
       "      <td>Ministerie van Justitie en Veiligheid</td>\n",
       "      <td>129</td>\n",
       "      <td>62</td>\n",
       "      <td>67</td>\n",
       "      <td>0.480620</td>\n",
       "    </tr>\n",
       "    <tr>\n",
       "      <th>8</th>\n",
       "      <td>Ministerie van Landbouw, Natuur en Voedselkwal...</td>\n",
       "      <td>281</td>\n",
       "      <td>247</td>\n",
       "      <td>34</td>\n",
       "      <td>0.879004</td>\n",
       "    </tr>\n",
       "    <tr>\n",
       "      <th>9</th>\n",
       "      <td>Ministerie van Onderwijs, Cultuur en Wetenschap</td>\n",
       "      <td>52</td>\n",
       "      <td>39</td>\n",
       "      <td>13</td>\n",
       "      <td>0.750000</td>\n",
       "    </tr>\n",
       "    <tr>\n",
       "      <th>10</th>\n",
       "      <td>Ministerie van Sociale Zaken en Werkgelegenheid</td>\n",
       "      <td>48</td>\n",
       "      <td>13</td>\n",
       "      <td>35</td>\n",
       "      <td>0.270833</td>\n",
       "    </tr>\n",
       "    <tr>\n",
       "      <th>11</th>\n",
       "      <td>Ministerie van Volksgezondheid, Welzijn en Sport</td>\n",
       "      <td>31</td>\n",
       "      <td>26</td>\n",
       "      <td>5</td>\n",
       "      <td>0.838710</td>\n",
       "    </tr>\n",
       "  </tbody>\n",
       "</table>\n",
       "</div>"
      ],
      "text/plain": [
       "                                    verantwoordelijke  aantal_left  \\\n",
       "0                       Ministerie van Algemene Zaken            3   \n",
       "1   Ministerie van Binnenlandse Zaken en Koninkrij...           96   \n",
       "2                   Ministerie van Buitenlandse Zaken           69   \n",
       "3                             Ministerie van Defensie           48   \n",
       "4         Ministerie van Economische Zaken en Klimaat           88   \n",
       "5                            Ministerie van Financiën          150   \n",
       "6         Ministerie van Infrastructuur en Waterstaat          117   \n",
       "7               Ministerie van Justitie en Veiligheid          129   \n",
       "8   Ministerie van Landbouw, Natuur en Voedselkwal...          281   \n",
       "9     Ministerie van Onderwijs, Cultuur en Wetenschap           52   \n",
       "10    Ministerie van Sociale Zaken en Werkgelegenheid           48   \n",
       "11   Ministerie van Volksgezondheid, Welzijn en Sport           31   \n",
       "\n",
       "    aantal_right  difference  percentage  \n",
       "0              3           0    1.000000  \n",
       "1             87           9    0.906250  \n",
       "2             64           5    0.927536  \n",
       "3             36          12    0.750000  \n",
       "4             76          12    0.863636  \n",
       "5            129          21    0.860000  \n",
       "6             89          28    0.760684  \n",
       "7             62          67    0.480620  \n",
       "8            247          34    0.879004  \n",
       "9             39          13    0.750000  \n",
       "10            13          35    0.270833  \n",
       "11            26           5    0.838710  "
      ]
     },
     "metadata": {},
     "output_type": "display_data"
    },
    {
     "name": "stdout",
     "output_type": "stream",
     "text": [
      "0.8282374100719424\n"
     ]
    }
   ],
   "source": [
    "Merged['difference'] = Merged['aantal_left'] - Merged['aantal_right']\n",
    "Merged['percentage'] = Merged['aantal_right'] / Merged['aantal_left']\n",
    "display(Merged)\n",
    "\n",
    "print((sum(Merged.aantal_right) + 50) /sum(Merged.aantal_left))"
   ]
  },
  {
   "cell_type": "code",
   "execution_count": 127,
   "id": "8d6e906b",
   "metadata": {
    "scrolled": false
   },
   "outputs": [
    {
     "data": {
      "application/vnd.plotly.v1+json": {
       "config": {
        "plotlyServerURL": "https://plot.ly"
       },
       "data": [
        {
         "alignmentgroup": "True",
         "cliponaxis": false,
         "hovertemplate": "x=%{x}<br>y=%{y}<extra></extra>",
         "legendgroup": "",
         "marker": {
          "color": "#636efa",
          "pattern": {
           "shape": ""
          }
         },
         "name": "",
         "offsetgroup": "",
         "orientation": "h",
         "showlegend": false,
         "textangle": 0,
         "textfont": {
          "size": 12
         },
         "textposition": "outside",
         "texttemplate": "%{x:1s}",
         "type": "bar",
         "x": [
          3,
          87,
          64,
          36,
          76,
          129,
          89,
          62,
          247,
          39,
          13,
          26
         ],
         "xaxis": "x",
         "y": [
          "Ministerie van Algemene Zaken",
          "Ministerie van Binnenlandse Zaken en Koninkrijksrelaties",
          "Ministerie van Buitenlandse Zaken",
          "Ministerie van Defensie",
          "Ministerie van Economische Zaken en Klimaat",
          "Ministerie van Financiën",
          "Ministerie van Infrastructuur en Waterstaat",
          "Ministerie van Justitie en Veiligheid",
          "Ministerie van Landbouw, Natuur en Voedselkwaliteit",
          "Ministerie van Onderwijs, Cultuur en Wetenschap",
          "Ministerie van Sociale Zaken en Werkgelegenheid",
          "Ministerie van Volksgezondheid, Welzijn en Sport"
         ],
         "yaxis": "y"
        }
       ],
       "layout": {
        "barmode": "relative",
        "legend": {
         "tracegroupgap": 0
        },
        "template": {
         "data": {
          "bar": [
           {
            "error_x": {
             "color": "#2a3f5f"
            },
            "error_y": {
             "color": "#2a3f5f"
            },
            "marker": {
             "line": {
              "color": "#E5ECF6",
              "width": 0.5
             },
             "pattern": {
              "fillmode": "overlay",
              "size": 10,
              "solidity": 0.2
             }
            },
            "type": "bar"
           }
          ],
          "barpolar": [
           {
            "marker": {
             "line": {
              "color": "#E5ECF6",
              "width": 0.5
             },
             "pattern": {
              "fillmode": "overlay",
              "size": 10,
              "solidity": 0.2
             }
            },
            "type": "barpolar"
           }
          ],
          "carpet": [
           {
            "aaxis": {
             "endlinecolor": "#2a3f5f",
             "gridcolor": "white",
             "linecolor": "white",
             "minorgridcolor": "white",
             "startlinecolor": "#2a3f5f"
            },
            "baxis": {
             "endlinecolor": "#2a3f5f",
             "gridcolor": "white",
             "linecolor": "white",
             "minorgridcolor": "white",
             "startlinecolor": "#2a3f5f"
            },
            "type": "carpet"
           }
          ],
          "choropleth": [
           {
            "colorbar": {
             "outlinewidth": 0,
             "ticks": ""
            },
            "type": "choropleth"
           }
          ],
          "contour": [
           {
            "colorbar": {
             "outlinewidth": 0,
             "ticks": ""
            },
            "colorscale": [
             [
              0,
              "#0d0887"
             ],
             [
              0.1111111111111111,
              "#46039f"
             ],
             [
              0.2222222222222222,
              "#7201a8"
             ],
             [
              0.3333333333333333,
              "#9c179e"
             ],
             [
              0.4444444444444444,
              "#bd3786"
             ],
             [
              0.5555555555555556,
              "#d8576b"
             ],
             [
              0.6666666666666666,
              "#ed7953"
             ],
             [
              0.7777777777777778,
              "#fb9f3a"
             ],
             [
              0.8888888888888888,
              "#fdca26"
             ],
             [
              1,
              "#f0f921"
             ]
            ],
            "type": "contour"
           }
          ],
          "contourcarpet": [
           {
            "colorbar": {
             "outlinewidth": 0,
             "ticks": ""
            },
            "type": "contourcarpet"
           }
          ],
          "heatmap": [
           {
            "colorbar": {
             "outlinewidth": 0,
             "ticks": ""
            },
            "colorscale": [
             [
              0,
              "#0d0887"
             ],
             [
              0.1111111111111111,
              "#46039f"
             ],
             [
              0.2222222222222222,
              "#7201a8"
             ],
             [
              0.3333333333333333,
              "#9c179e"
             ],
             [
              0.4444444444444444,
              "#bd3786"
             ],
             [
              0.5555555555555556,
              "#d8576b"
             ],
             [
              0.6666666666666666,
              "#ed7953"
             ],
             [
              0.7777777777777778,
              "#fb9f3a"
             ],
             [
              0.8888888888888888,
              "#fdca26"
             ],
             [
              1,
              "#f0f921"
             ]
            ],
            "type": "heatmap"
           }
          ],
          "heatmapgl": [
           {
            "colorbar": {
             "outlinewidth": 0,
             "ticks": ""
            },
            "colorscale": [
             [
              0,
              "#0d0887"
             ],
             [
              0.1111111111111111,
              "#46039f"
             ],
             [
              0.2222222222222222,
              "#7201a8"
             ],
             [
              0.3333333333333333,
              "#9c179e"
             ],
             [
              0.4444444444444444,
              "#bd3786"
             ],
             [
              0.5555555555555556,
              "#d8576b"
             ],
             [
              0.6666666666666666,
              "#ed7953"
             ],
             [
              0.7777777777777778,
              "#fb9f3a"
             ],
             [
              0.8888888888888888,
              "#fdca26"
             ],
             [
              1,
              "#f0f921"
             ]
            ],
            "type": "heatmapgl"
           }
          ],
          "histogram": [
           {
            "marker": {
             "pattern": {
              "fillmode": "overlay",
              "size": 10,
              "solidity": 0.2
             }
            },
            "type": "histogram"
           }
          ],
          "histogram2d": [
           {
            "colorbar": {
             "outlinewidth": 0,
             "ticks": ""
            },
            "colorscale": [
             [
              0,
              "#0d0887"
             ],
             [
              0.1111111111111111,
              "#46039f"
             ],
             [
              0.2222222222222222,
              "#7201a8"
             ],
             [
              0.3333333333333333,
              "#9c179e"
             ],
             [
              0.4444444444444444,
              "#bd3786"
             ],
             [
              0.5555555555555556,
              "#d8576b"
             ],
             [
              0.6666666666666666,
              "#ed7953"
             ],
             [
              0.7777777777777778,
              "#fb9f3a"
             ],
             [
              0.8888888888888888,
              "#fdca26"
             ],
             [
              1,
              "#f0f921"
             ]
            ],
            "type": "histogram2d"
           }
          ],
          "histogram2dcontour": [
           {
            "colorbar": {
             "outlinewidth": 0,
             "ticks": ""
            },
            "colorscale": [
             [
              0,
              "#0d0887"
             ],
             [
              0.1111111111111111,
              "#46039f"
             ],
             [
              0.2222222222222222,
              "#7201a8"
             ],
             [
              0.3333333333333333,
              "#9c179e"
             ],
             [
              0.4444444444444444,
              "#bd3786"
             ],
             [
              0.5555555555555556,
              "#d8576b"
             ],
             [
              0.6666666666666666,
              "#ed7953"
             ],
             [
              0.7777777777777778,
              "#fb9f3a"
             ],
             [
              0.8888888888888888,
              "#fdca26"
             ],
             [
              1,
              "#f0f921"
             ]
            ],
            "type": "histogram2dcontour"
           }
          ],
          "mesh3d": [
           {
            "colorbar": {
             "outlinewidth": 0,
             "ticks": ""
            },
            "type": "mesh3d"
           }
          ],
          "parcoords": [
           {
            "line": {
             "colorbar": {
              "outlinewidth": 0,
              "ticks": ""
             }
            },
            "type": "parcoords"
           }
          ],
          "pie": [
           {
            "automargin": true,
            "type": "pie"
           }
          ],
          "scatter": [
           {
            "marker": {
             "colorbar": {
              "outlinewidth": 0,
              "ticks": ""
             }
            },
            "type": "scatter"
           }
          ],
          "scatter3d": [
           {
            "line": {
             "colorbar": {
              "outlinewidth": 0,
              "ticks": ""
             }
            },
            "marker": {
             "colorbar": {
              "outlinewidth": 0,
              "ticks": ""
             }
            },
            "type": "scatter3d"
           }
          ],
          "scattercarpet": [
           {
            "marker": {
             "colorbar": {
              "outlinewidth": 0,
              "ticks": ""
             }
            },
            "type": "scattercarpet"
           }
          ],
          "scattergeo": [
           {
            "marker": {
             "colorbar": {
              "outlinewidth": 0,
              "ticks": ""
             }
            },
            "type": "scattergeo"
           }
          ],
          "scattergl": [
           {
            "marker": {
             "colorbar": {
              "outlinewidth": 0,
              "ticks": ""
             }
            },
            "type": "scattergl"
           }
          ],
          "scattermapbox": [
           {
            "marker": {
             "colorbar": {
              "outlinewidth": 0,
              "ticks": ""
             }
            },
            "type": "scattermapbox"
           }
          ],
          "scatterpolar": [
           {
            "marker": {
             "colorbar": {
              "outlinewidth": 0,
              "ticks": ""
             }
            },
            "type": "scatterpolar"
           }
          ],
          "scatterpolargl": [
           {
            "marker": {
             "colorbar": {
              "outlinewidth": 0,
              "ticks": ""
             }
            },
            "type": "scatterpolargl"
           }
          ],
          "scatterternary": [
           {
            "marker": {
             "colorbar": {
              "outlinewidth": 0,
              "ticks": ""
             }
            },
            "type": "scatterternary"
           }
          ],
          "surface": [
           {
            "colorbar": {
             "outlinewidth": 0,
             "ticks": ""
            },
            "colorscale": [
             [
              0,
              "#0d0887"
             ],
             [
              0.1111111111111111,
              "#46039f"
             ],
             [
              0.2222222222222222,
              "#7201a8"
             ],
             [
              0.3333333333333333,
              "#9c179e"
             ],
             [
              0.4444444444444444,
              "#bd3786"
             ],
             [
              0.5555555555555556,
              "#d8576b"
             ],
             [
              0.6666666666666666,
              "#ed7953"
             ],
             [
              0.7777777777777778,
              "#fb9f3a"
             ],
             [
              0.8888888888888888,
              "#fdca26"
             ],
             [
              1,
              "#f0f921"
             ]
            ],
            "type": "surface"
           }
          ],
          "table": [
           {
            "cells": {
             "fill": {
              "color": "#EBF0F8"
             },
             "line": {
              "color": "white"
             }
            },
            "header": {
             "fill": {
              "color": "#C8D4E3"
             },
             "line": {
              "color": "white"
             }
            },
            "type": "table"
           }
          ]
         },
         "layout": {
          "annotationdefaults": {
           "arrowcolor": "#2a3f5f",
           "arrowhead": 0,
           "arrowwidth": 1
          },
          "autotypenumbers": "strict",
          "coloraxis": {
           "colorbar": {
            "outlinewidth": 0,
            "ticks": ""
           }
          },
          "colorscale": {
           "diverging": [
            [
             0,
             "#8e0152"
            ],
            [
             0.1,
             "#c51b7d"
            ],
            [
             0.2,
             "#de77ae"
            ],
            [
             0.3,
             "#f1b6da"
            ],
            [
             0.4,
             "#fde0ef"
            ],
            [
             0.5,
             "#f7f7f7"
            ],
            [
             0.6,
             "#e6f5d0"
            ],
            [
             0.7,
             "#b8e186"
            ],
            [
             0.8,
             "#7fbc41"
            ],
            [
             0.9,
             "#4d9221"
            ],
            [
             1,
             "#276419"
            ]
           ],
           "sequential": [
            [
             0,
             "#0d0887"
            ],
            [
             0.1111111111111111,
             "#46039f"
            ],
            [
             0.2222222222222222,
             "#7201a8"
            ],
            [
             0.3333333333333333,
             "#9c179e"
            ],
            [
             0.4444444444444444,
             "#bd3786"
            ],
            [
             0.5555555555555556,
             "#d8576b"
            ],
            [
             0.6666666666666666,
             "#ed7953"
            ],
            [
             0.7777777777777778,
             "#fb9f3a"
            ],
            [
             0.8888888888888888,
             "#fdca26"
            ],
            [
             1,
             "#f0f921"
            ]
           ],
           "sequentialminus": [
            [
             0,
             "#0d0887"
            ],
            [
             0.1111111111111111,
             "#46039f"
            ],
            [
             0.2222222222222222,
             "#7201a8"
            ],
            [
             0.3333333333333333,
             "#9c179e"
            ],
            [
             0.4444444444444444,
             "#bd3786"
            ],
            [
             0.5555555555555556,
             "#d8576b"
            ],
            [
             0.6666666666666666,
             "#ed7953"
            ],
            [
             0.7777777777777778,
             "#fb9f3a"
            ],
            [
             0.8888888888888888,
             "#fdca26"
            ],
            [
             1,
             "#f0f921"
            ]
           ]
          },
          "colorway": [
           "#636efa",
           "#EF553B",
           "#00cc96",
           "#ab63fa",
           "#FFA15A",
           "#19d3f3",
           "#FF6692",
           "#B6E880",
           "#FF97FF",
           "#FECB52"
          ],
          "font": {
           "color": "#2a3f5f"
          },
          "geo": {
           "bgcolor": "white",
           "lakecolor": "white",
           "landcolor": "#E5ECF6",
           "showlakes": true,
           "showland": true,
           "subunitcolor": "white"
          },
          "hoverlabel": {
           "align": "left"
          },
          "hovermode": "closest",
          "mapbox": {
           "style": "light"
          },
          "paper_bgcolor": "white",
          "plot_bgcolor": "#E5ECF6",
          "polar": {
           "angularaxis": {
            "gridcolor": "white",
            "linecolor": "white",
            "ticks": ""
           },
           "bgcolor": "#E5ECF6",
           "radialaxis": {
            "gridcolor": "white",
            "linecolor": "white",
            "ticks": ""
           }
          },
          "scene": {
           "xaxis": {
            "backgroundcolor": "#E5ECF6",
            "gridcolor": "white",
            "gridwidth": 2,
            "linecolor": "white",
            "showbackground": true,
            "ticks": "",
            "zerolinecolor": "white"
           },
           "yaxis": {
            "backgroundcolor": "#E5ECF6",
            "gridcolor": "white",
            "gridwidth": 2,
            "linecolor": "white",
            "showbackground": true,
            "ticks": "",
            "zerolinecolor": "white"
           },
           "zaxis": {
            "backgroundcolor": "#E5ECF6",
            "gridcolor": "white",
            "gridwidth": 2,
            "linecolor": "white",
            "showbackground": true,
            "ticks": "",
            "zerolinecolor": "white"
           }
          },
          "shapedefaults": {
           "line": {
            "color": "#2a3f5f"
           }
          },
          "ternary": {
           "aaxis": {
            "gridcolor": "white",
            "linecolor": "white",
            "ticks": ""
           },
           "baxis": {
            "gridcolor": "white",
            "linecolor": "white",
            "ticks": ""
           },
           "bgcolor": "#E5ECF6",
           "caxis": {
            "gridcolor": "white",
            "linecolor": "white",
            "ticks": ""
           }
          },
          "title": {
           "x": 0.05
          },
          "xaxis": {
           "automargin": true,
           "gridcolor": "white",
           "linecolor": "white",
           "ticks": "",
           "title": {
            "standoff": 15
           },
           "zerolinecolor": "white",
           "zerolinewidth": 2
          },
          "yaxis": {
           "automargin": true,
           "gridcolor": "white",
           "linecolor": "white",
           "ticks": "",
           "title": {
            "standoff": 15
           },
           "zerolinecolor": "white",
           "zerolinewidth": 2
          }
         }
        },
        "title": {
         "text": "Aantal WOO/WOB verzoeken per Ministerie"
        },
        "xaxis": {
         "anchor": "y",
         "domain": [
          0,
          1
         ],
         "title": {
          "text": "x"
         }
        },
        "yaxis": {
         "anchor": "x",
         "domain": [
          0,
          1
         ],
         "title": {
          "text": "y"
         }
        }
       }
      },
      "text/html": [
       "<div>                            <div id=\"62d59233-e6b5-4fa4-92f2-2a0c76b45c33\" class=\"plotly-graph-div\" style=\"height:525px; width:100%;\"></div>            <script type=\"text/javascript\">                require([\"plotly\"], function(Plotly) {                    window.PLOTLYENV=window.PLOTLYENV || {};                                    if (document.getElementById(\"62d59233-e6b5-4fa4-92f2-2a0c76b45c33\")) {                    Plotly.newPlot(                        \"62d59233-e6b5-4fa4-92f2-2a0c76b45c33\",                        [{\"alignmentgroup\":\"True\",\"hovertemplate\":\"x=%{x}<br>y=%{y}<extra></extra>\",\"legendgroup\":\"\",\"marker\":{\"color\":\"#636efa\",\"pattern\":{\"shape\":\"\"}},\"name\":\"\",\"offsetgroup\":\"\",\"orientation\":\"h\",\"showlegend\":false,\"textposition\":\"outside\",\"texttemplate\":\"%{x:1s}\",\"x\":[3,87,64,36,76,129,89,62,247,39,13,26],\"xaxis\":\"x\",\"y\":[\"Ministerie van Algemene Zaken\",\"Ministerie van Binnenlandse Zaken en Koninkrijksrelaties\",\"Ministerie van Buitenlandse Zaken\",\"Ministerie van Defensie\",\"Ministerie van Economische Zaken en Klimaat\",\"Ministerie van Financi\\u00ebn\",\"Ministerie van Infrastructuur en Waterstaat\",\"Ministerie van Justitie en Veiligheid\",\"Ministerie van Landbouw, Natuur en Voedselkwaliteit\",\"Ministerie van Onderwijs, Cultuur en Wetenschap\",\"Ministerie van Sociale Zaken en Werkgelegenheid\",\"Ministerie van Volksgezondheid, Welzijn en Sport\"],\"yaxis\":\"y\",\"type\":\"bar\",\"textfont\":{\"size\":12},\"cliponaxis\":false,\"textangle\":0}],                        {\"template\":{\"data\":{\"bar\":[{\"error_x\":{\"color\":\"#2a3f5f\"},\"error_y\":{\"color\":\"#2a3f5f\"},\"marker\":{\"line\":{\"color\":\"#E5ECF6\",\"width\":0.5},\"pattern\":{\"fillmode\":\"overlay\",\"size\":10,\"solidity\":0.2}},\"type\":\"bar\"}],\"barpolar\":[{\"marker\":{\"line\":{\"color\":\"#E5ECF6\",\"width\":0.5},\"pattern\":{\"fillmode\":\"overlay\",\"size\":10,\"solidity\":0.2}},\"type\":\"barpolar\"}],\"carpet\":[{\"aaxis\":{\"endlinecolor\":\"#2a3f5f\",\"gridcolor\":\"white\",\"linecolor\":\"white\",\"minorgridcolor\":\"white\",\"startlinecolor\":\"#2a3f5f\"},\"baxis\":{\"endlinecolor\":\"#2a3f5f\",\"gridcolor\":\"white\",\"linecolor\":\"white\",\"minorgridcolor\":\"white\",\"startlinecolor\":\"#2a3f5f\"},\"type\":\"carpet\"}],\"choropleth\":[{\"colorbar\":{\"outlinewidth\":0,\"ticks\":\"\"},\"type\":\"choropleth\"}],\"contour\":[{\"colorbar\":{\"outlinewidth\":0,\"ticks\":\"\"},\"colorscale\":[[0.0,\"#0d0887\"],[0.1111111111111111,\"#46039f\"],[0.2222222222222222,\"#7201a8\"],[0.3333333333333333,\"#9c179e\"],[0.4444444444444444,\"#bd3786\"],[0.5555555555555556,\"#d8576b\"],[0.6666666666666666,\"#ed7953\"],[0.7777777777777778,\"#fb9f3a\"],[0.8888888888888888,\"#fdca26\"],[1.0,\"#f0f921\"]],\"type\":\"contour\"}],\"contourcarpet\":[{\"colorbar\":{\"outlinewidth\":0,\"ticks\":\"\"},\"type\":\"contourcarpet\"}],\"heatmap\":[{\"colorbar\":{\"outlinewidth\":0,\"ticks\":\"\"},\"colorscale\":[[0.0,\"#0d0887\"],[0.1111111111111111,\"#46039f\"],[0.2222222222222222,\"#7201a8\"],[0.3333333333333333,\"#9c179e\"],[0.4444444444444444,\"#bd3786\"],[0.5555555555555556,\"#d8576b\"],[0.6666666666666666,\"#ed7953\"],[0.7777777777777778,\"#fb9f3a\"],[0.8888888888888888,\"#fdca26\"],[1.0,\"#f0f921\"]],\"type\":\"heatmap\"}],\"heatmapgl\":[{\"colorbar\":{\"outlinewidth\":0,\"ticks\":\"\"},\"colorscale\":[[0.0,\"#0d0887\"],[0.1111111111111111,\"#46039f\"],[0.2222222222222222,\"#7201a8\"],[0.3333333333333333,\"#9c179e\"],[0.4444444444444444,\"#bd3786\"],[0.5555555555555556,\"#d8576b\"],[0.6666666666666666,\"#ed7953\"],[0.7777777777777778,\"#fb9f3a\"],[0.8888888888888888,\"#fdca26\"],[1.0,\"#f0f921\"]],\"type\":\"heatmapgl\"}],\"histogram\":[{\"marker\":{\"pattern\":{\"fillmode\":\"overlay\",\"size\":10,\"solidity\":0.2}},\"type\":\"histogram\"}],\"histogram2d\":[{\"colorbar\":{\"outlinewidth\":0,\"ticks\":\"\"},\"colorscale\":[[0.0,\"#0d0887\"],[0.1111111111111111,\"#46039f\"],[0.2222222222222222,\"#7201a8\"],[0.3333333333333333,\"#9c179e\"],[0.4444444444444444,\"#bd3786\"],[0.5555555555555556,\"#d8576b\"],[0.6666666666666666,\"#ed7953\"],[0.7777777777777778,\"#fb9f3a\"],[0.8888888888888888,\"#fdca26\"],[1.0,\"#f0f921\"]],\"type\":\"histogram2d\"}],\"histogram2dcontour\":[{\"colorbar\":{\"outlinewidth\":0,\"ticks\":\"\"},\"colorscale\":[[0.0,\"#0d0887\"],[0.1111111111111111,\"#46039f\"],[0.2222222222222222,\"#7201a8\"],[0.3333333333333333,\"#9c179e\"],[0.4444444444444444,\"#bd3786\"],[0.5555555555555556,\"#d8576b\"],[0.6666666666666666,\"#ed7953\"],[0.7777777777777778,\"#fb9f3a\"],[0.8888888888888888,\"#fdca26\"],[1.0,\"#f0f921\"]],\"type\":\"histogram2dcontour\"}],\"mesh3d\":[{\"colorbar\":{\"outlinewidth\":0,\"ticks\":\"\"},\"type\":\"mesh3d\"}],\"parcoords\":[{\"line\":{\"colorbar\":{\"outlinewidth\":0,\"ticks\":\"\"}},\"type\":\"parcoords\"}],\"pie\":[{\"automargin\":true,\"type\":\"pie\"}],\"scatter\":[{\"marker\":{\"colorbar\":{\"outlinewidth\":0,\"ticks\":\"\"}},\"type\":\"scatter\"}],\"scatter3d\":[{\"line\":{\"colorbar\":{\"outlinewidth\":0,\"ticks\":\"\"}},\"marker\":{\"colorbar\":{\"outlinewidth\":0,\"ticks\":\"\"}},\"type\":\"scatter3d\"}],\"scattercarpet\":[{\"marker\":{\"colorbar\":{\"outlinewidth\":0,\"ticks\":\"\"}},\"type\":\"scattercarpet\"}],\"scattergeo\":[{\"marker\":{\"colorbar\":{\"outlinewidth\":0,\"ticks\":\"\"}},\"type\":\"scattergeo\"}],\"scattergl\":[{\"marker\":{\"colorbar\":{\"outlinewidth\":0,\"ticks\":\"\"}},\"type\":\"scattergl\"}],\"scattermapbox\":[{\"marker\":{\"colorbar\":{\"outlinewidth\":0,\"ticks\":\"\"}},\"type\":\"scattermapbox\"}],\"scatterpolar\":[{\"marker\":{\"colorbar\":{\"outlinewidth\":0,\"ticks\":\"\"}},\"type\":\"scatterpolar\"}],\"scatterpolargl\":[{\"marker\":{\"colorbar\":{\"outlinewidth\":0,\"ticks\":\"\"}},\"type\":\"scatterpolargl\"}],\"scatterternary\":[{\"marker\":{\"colorbar\":{\"outlinewidth\":0,\"ticks\":\"\"}},\"type\":\"scatterternary\"}],\"surface\":[{\"colorbar\":{\"outlinewidth\":0,\"ticks\":\"\"},\"colorscale\":[[0.0,\"#0d0887\"],[0.1111111111111111,\"#46039f\"],[0.2222222222222222,\"#7201a8\"],[0.3333333333333333,\"#9c179e\"],[0.4444444444444444,\"#bd3786\"],[0.5555555555555556,\"#d8576b\"],[0.6666666666666666,\"#ed7953\"],[0.7777777777777778,\"#fb9f3a\"],[0.8888888888888888,\"#fdca26\"],[1.0,\"#f0f921\"]],\"type\":\"surface\"}],\"table\":[{\"cells\":{\"fill\":{\"color\":\"#EBF0F8\"},\"line\":{\"color\":\"white\"}},\"header\":{\"fill\":{\"color\":\"#C8D4E3\"},\"line\":{\"color\":\"white\"}},\"type\":\"table\"}]},\"layout\":{\"annotationdefaults\":{\"arrowcolor\":\"#2a3f5f\",\"arrowhead\":0,\"arrowwidth\":1},\"autotypenumbers\":\"strict\",\"coloraxis\":{\"colorbar\":{\"outlinewidth\":0,\"ticks\":\"\"}},\"colorscale\":{\"diverging\":[[0,\"#8e0152\"],[0.1,\"#c51b7d\"],[0.2,\"#de77ae\"],[0.3,\"#f1b6da\"],[0.4,\"#fde0ef\"],[0.5,\"#f7f7f7\"],[0.6,\"#e6f5d0\"],[0.7,\"#b8e186\"],[0.8,\"#7fbc41\"],[0.9,\"#4d9221\"],[1,\"#276419\"]],\"sequential\":[[0.0,\"#0d0887\"],[0.1111111111111111,\"#46039f\"],[0.2222222222222222,\"#7201a8\"],[0.3333333333333333,\"#9c179e\"],[0.4444444444444444,\"#bd3786\"],[0.5555555555555556,\"#d8576b\"],[0.6666666666666666,\"#ed7953\"],[0.7777777777777778,\"#fb9f3a\"],[0.8888888888888888,\"#fdca26\"],[1.0,\"#f0f921\"]],\"sequentialminus\":[[0.0,\"#0d0887\"],[0.1111111111111111,\"#46039f\"],[0.2222222222222222,\"#7201a8\"],[0.3333333333333333,\"#9c179e\"],[0.4444444444444444,\"#bd3786\"],[0.5555555555555556,\"#d8576b\"],[0.6666666666666666,\"#ed7953\"],[0.7777777777777778,\"#fb9f3a\"],[0.8888888888888888,\"#fdca26\"],[1.0,\"#f0f921\"]]},\"colorway\":[\"#636efa\",\"#EF553B\",\"#00cc96\",\"#ab63fa\",\"#FFA15A\",\"#19d3f3\",\"#FF6692\",\"#B6E880\",\"#FF97FF\",\"#FECB52\"],\"font\":{\"color\":\"#2a3f5f\"},\"geo\":{\"bgcolor\":\"white\",\"lakecolor\":\"white\",\"landcolor\":\"#E5ECF6\",\"showlakes\":true,\"showland\":true,\"subunitcolor\":\"white\"},\"hoverlabel\":{\"align\":\"left\"},\"hovermode\":\"closest\",\"mapbox\":{\"style\":\"light\"},\"paper_bgcolor\":\"white\",\"plot_bgcolor\":\"#E5ECF6\",\"polar\":{\"angularaxis\":{\"gridcolor\":\"white\",\"linecolor\":\"white\",\"ticks\":\"\"},\"bgcolor\":\"#E5ECF6\",\"radialaxis\":{\"gridcolor\":\"white\",\"linecolor\":\"white\",\"ticks\":\"\"}},\"scene\":{\"xaxis\":{\"backgroundcolor\":\"#E5ECF6\",\"gridcolor\":\"white\",\"gridwidth\":2,\"linecolor\":\"white\",\"showbackground\":true,\"ticks\":\"\",\"zerolinecolor\":\"white\"},\"yaxis\":{\"backgroundcolor\":\"#E5ECF6\",\"gridcolor\":\"white\",\"gridwidth\":2,\"linecolor\":\"white\",\"showbackground\":true,\"ticks\":\"\",\"zerolinecolor\":\"white\"},\"zaxis\":{\"backgroundcolor\":\"#E5ECF6\",\"gridcolor\":\"white\",\"gridwidth\":2,\"linecolor\":\"white\",\"showbackground\":true,\"ticks\":\"\",\"zerolinecolor\":\"white\"}},\"shapedefaults\":{\"line\":{\"color\":\"#2a3f5f\"}},\"ternary\":{\"aaxis\":{\"gridcolor\":\"white\",\"linecolor\":\"white\",\"ticks\":\"\"},\"baxis\":{\"gridcolor\":\"white\",\"linecolor\":\"white\",\"ticks\":\"\"},\"bgcolor\":\"#E5ECF6\",\"caxis\":{\"gridcolor\":\"white\",\"linecolor\":\"white\",\"ticks\":\"\"}},\"title\":{\"x\":0.05},\"xaxis\":{\"automargin\":true,\"gridcolor\":\"white\",\"linecolor\":\"white\",\"ticks\":\"\",\"title\":{\"standoff\":15},\"zerolinecolor\":\"white\",\"zerolinewidth\":2},\"yaxis\":{\"automargin\":true,\"gridcolor\":\"white\",\"linecolor\":\"white\",\"ticks\":\"\",\"title\":{\"standoff\":15},\"zerolinecolor\":\"white\",\"zerolinewidth\":2}}},\"xaxis\":{\"anchor\":\"y\",\"domain\":[0.0,1.0],\"title\":{\"text\":\"x\"}},\"yaxis\":{\"anchor\":\"x\",\"domain\":[0.0,1.0],\"title\":{\"text\":\"y\"}},\"legend\":{\"tracegroupgap\":0},\"title\":{\"text\":\"Aantal WOO/WOB verzoeken per Ministerie\"},\"barmode\":\"relative\"},                        {\"responsive\": true}                    ).then(function(){\n",
       "                            \n",
       "var gd = document.getElementById('62d59233-e6b5-4fa4-92f2-2a0c76b45c33');\n",
       "var x = new MutationObserver(function (mutations, observer) {{\n",
       "        var display = window.getComputedStyle(gd).display;\n",
       "        if (!display || display === 'none') {{\n",
       "            console.log([gd, 'removed!']);\n",
       "            Plotly.purge(gd);\n",
       "            observer.disconnect();\n",
       "        }}\n",
       "}});\n",
       "\n",
       "// Listen for the removal of the full notebook cells\n",
       "var notebookContainer = gd.closest('#notebook-container');\n",
       "if (notebookContainer) {{\n",
       "    x.observe(notebookContainer, {childList: true});\n",
       "}}\n",
       "\n",
       "// Listen for the clearing of the current output cell\n",
       "var outputEl = gd.closest('.output');\n",
       "if (outputEl) {{\n",
       "    x.observe(outputEl, {childList: true});\n",
       "}}\n",
       "\n",
       "                        })                };                });            </script>        </div>"
      ]
     },
     "metadata": {},
     "output_type": "display_data"
    }
   ],
   "source": [
    "# simpel plotje die al met de huidige data te maken is\n",
    "\n",
    "fig = px.bar(y=Data1.verantwoordelijke, x=Data1.aantal, text_auto='1s',\n",
    "            title=\"Aantal WOO/WOB verzoeken per Ministerie\")\n",
    "fig.update_traces(textfont_size=12, textangle=0, textposition=\"outside\", cliponaxis=False)\n",
    "fig.show()"
   ]
  },
  {
   "cell_type": "code",
   "execution_count": 128,
   "id": "1202a6ec",
   "metadata": {
    "scrolled": false
   },
   "outputs": [
    {
     "data": {
      "text/html": [
       "<div>\n",
       "<style scoped>\n",
       "    .dataframe tbody tr th:only-of-type {\n",
       "        vertical-align: middle;\n",
       "    }\n",
       "\n",
       "    .dataframe tbody tr th {\n",
       "        vertical-align: top;\n",
       "    }\n",
       "\n",
       "    .dataframe thead th {\n",
       "        text-align: right;\n",
       "    }\n",
       "</style>\n",
       "<table border=\"1\" class=\"dataframe\">\n",
       "  <thead>\n",
       "    <tr style=\"text-align: right;\">\n",
       "      <th></th>\n",
       "      <th>verantwoordelijke</th>\n",
       "      <th>dagen</th>\n",
       "    </tr>\n",
       "  </thead>\n",
       "  <tbody>\n",
       "    <tr>\n",
       "      <th>0</th>\n",
       "      <td>Ministerie van Algemene Zaken</td>\n",
       "      <td>89.666667</td>\n",
       "    </tr>\n",
       "    <tr>\n",
       "      <th>1</th>\n",
       "      <td>Ministerie van Binnenlandse Zaken en Koninkrij...</td>\n",
       "      <td>212.057471</td>\n",
       "    </tr>\n",
       "    <tr>\n",
       "      <th>2</th>\n",
       "      <td>Ministerie van Buitenlandse Zaken</td>\n",
       "      <td>147.187500</td>\n",
       "    </tr>\n",
       "    <tr>\n",
       "      <th>3</th>\n",
       "      <td>Ministerie van Defensie</td>\n",
       "      <td>91.944444</td>\n",
       "    </tr>\n",
       "    <tr>\n",
       "      <th>4</th>\n",
       "      <td>Ministerie van Economische Zaken en Klimaat</td>\n",
       "      <td>192.868421</td>\n",
       "    </tr>\n",
       "    <tr>\n",
       "      <th>5</th>\n",
       "      <td>Ministerie van Financiën</td>\n",
       "      <td>243.736434</td>\n",
       "    </tr>\n",
       "    <tr>\n",
       "      <th>6</th>\n",
       "      <td>Ministerie van Infrastructuur en Waterstaat</td>\n",
       "      <td>243.516854</td>\n",
       "    </tr>\n",
       "    <tr>\n",
       "      <th>7</th>\n",
       "      <td>Ministerie van Justitie en Veiligheid</td>\n",
       "      <td>194.419355</td>\n",
       "    </tr>\n",
       "    <tr>\n",
       "      <th>8</th>\n",
       "      <td>Ministerie van Landbouw, Natuur en Voedselkwal...</td>\n",
       "      <td>193.765182</td>\n",
       "    </tr>\n",
       "    <tr>\n",
       "      <th>9</th>\n",
       "      <td>Ministerie van Onderwijs, Cultuur en Wetenschap</td>\n",
       "      <td>90.000000</td>\n",
       "    </tr>\n",
       "    <tr>\n",
       "      <th>10</th>\n",
       "      <td>Ministerie van Sociale Zaken en Werkgelegenheid</td>\n",
       "      <td>264.769231</td>\n",
       "    </tr>\n",
       "    <tr>\n",
       "      <th>11</th>\n",
       "      <td>Ministerie van Volksgezondheid, Welzijn en Sport</td>\n",
       "      <td>165.769231</td>\n",
       "    </tr>\n",
       "  </tbody>\n",
       "</table>\n",
       "</div>"
      ],
      "text/plain": [
       "                                    verantwoordelijke       dagen\n",
       "0                       Ministerie van Algemene Zaken   89.666667\n",
       "1   Ministerie van Binnenlandse Zaken en Koninkrij...  212.057471\n",
       "2                   Ministerie van Buitenlandse Zaken  147.187500\n",
       "3                             Ministerie van Defensie   91.944444\n",
       "4         Ministerie van Economische Zaken en Klimaat  192.868421\n",
       "5                            Ministerie van Financiën  243.736434\n",
       "6         Ministerie van Infrastructuur en Waterstaat  243.516854\n",
       "7               Ministerie van Justitie en Veiligheid  194.419355\n",
       "8   Ministerie van Landbouw, Natuur en Voedselkwal...  193.765182\n",
       "9     Ministerie van Onderwijs, Cultuur en Wetenschap   90.000000\n",
       "10    Ministerie van Sociale Zaken en Werkgelegenheid  264.769231\n",
       "11   Ministerie van Volksgezondheid, Welzijn en Sport  165.769231"
      ]
     },
     "metadata": {},
     "output_type": "display_data"
    },
    {
     "data": {
      "application/vnd.plotly.v1+json": {
       "config": {
        "plotlyServerURL": "https://plot.ly"
       },
       "data": [
        {
         "alignmentgroup": "True",
         "hovertemplate": "x=%{x}<br>y=%{y}<extra></extra>",
         "legendgroup": "",
         "marker": {
          "color": "#636efa",
          "pattern": {
           "shape": ""
          }
         },
         "name": "",
         "offsetgroup": "",
         "orientation": "v",
         "showlegend": false,
         "textposition": "auto",
         "type": "bar",
         "x": [
          "Ministerie van Algemene Zaken",
          "Ministerie van Binnenlandse Zaken en Koninkrijksrelaties",
          "Ministerie van Buitenlandse Zaken",
          "Ministerie van Defensie",
          "Ministerie van Economische Zaken en Klimaat",
          "Ministerie van Financiën",
          "Ministerie van Infrastructuur en Waterstaat",
          "Ministerie van Justitie en Veiligheid",
          "Ministerie van Landbouw, Natuur en Voedselkwaliteit",
          "Ministerie van Onderwijs, Cultuur en Wetenschap",
          "Ministerie van Sociale Zaken en Werkgelegenheid",
          "Ministerie van Volksgezondheid, Welzijn en Sport"
         ],
         "xaxis": "x",
         "y": [
          89.66666666666667,
          212.05747126436782,
          147.1875,
          91.94444444444444,
          192.8684210526316,
          243.73643410852713,
          243.51685393258427,
          194.41935483870967,
          193.76518218623482,
          90,
          264.7692307692308,
          165.76923076923077
         ],
         "yaxis": "y"
        }
       ],
       "layout": {
        "barmode": "relative",
        "legend": {
         "tracegroupgap": 0
        },
        "margin": {
         "t": 60
        },
        "template": {
         "data": {
          "bar": [
           {
            "error_x": {
             "color": "#2a3f5f"
            },
            "error_y": {
             "color": "#2a3f5f"
            },
            "marker": {
             "line": {
              "color": "#E5ECF6",
              "width": 0.5
             },
             "pattern": {
              "fillmode": "overlay",
              "size": 10,
              "solidity": 0.2
             }
            },
            "type": "bar"
           }
          ],
          "barpolar": [
           {
            "marker": {
             "line": {
              "color": "#E5ECF6",
              "width": 0.5
             },
             "pattern": {
              "fillmode": "overlay",
              "size": 10,
              "solidity": 0.2
             }
            },
            "type": "barpolar"
           }
          ],
          "carpet": [
           {
            "aaxis": {
             "endlinecolor": "#2a3f5f",
             "gridcolor": "white",
             "linecolor": "white",
             "minorgridcolor": "white",
             "startlinecolor": "#2a3f5f"
            },
            "baxis": {
             "endlinecolor": "#2a3f5f",
             "gridcolor": "white",
             "linecolor": "white",
             "minorgridcolor": "white",
             "startlinecolor": "#2a3f5f"
            },
            "type": "carpet"
           }
          ],
          "choropleth": [
           {
            "colorbar": {
             "outlinewidth": 0,
             "ticks": ""
            },
            "type": "choropleth"
           }
          ],
          "contour": [
           {
            "colorbar": {
             "outlinewidth": 0,
             "ticks": ""
            },
            "colorscale": [
             [
              0,
              "#0d0887"
             ],
             [
              0.1111111111111111,
              "#46039f"
             ],
             [
              0.2222222222222222,
              "#7201a8"
             ],
             [
              0.3333333333333333,
              "#9c179e"
             ],
             [
              0.4444444444444444,
              "#bd3786"
             ],
             [
              0.5555555555555556,
              "#d8576b"
             ],
             [
              0.6666666666666666,
              "#ed7953"
             ],
             [
              0.7777777777777778,
              "#fb9f3a"
             ],
             [
              0.8888888888888888,
              "#fdca26"
             ],
             [
              1,
              "#f0f921"
             ]
            ],
            "type": "contour"
           }
          ],
          "contourcarpet": [
           {
            "colorbar": {
             "outlinewidth": 0,
             "ticks": ""
            },
            "type": "contourcarpet"
           }
          ],
          "heatmap": [
           {
            "colorbar": {
             "outlinewidth": 0,
             "ticks": ""
            },
            "colorscale": [
             [
              0,
              "#0d0887"
             ],
             [
              0.1111111111111111,
              "#46039f"
             ],
             [
              0.2222222222222222,
              "#7201a8"
             ],
             [
              0.3333333333333333,
              "#9c179e"
             ],
             [
              0.4444444444444444,
              "#bd3786"
             ],
             [
              0.5555555555555556,
              "#d8576b"
             ],
             [
              0.6666666666666666,
              "#ed7953"
             ],
             [
              0.7777777777777778,
              "#fb9f3a"
             ],
             [
              0.8888888888888888,
              "#fdca26"
             ],
             [
              1,
              "#f0f921"
             ]
            ],
            "type": "heatmap"
           }
          ],
          "heatmapgl": [
           {
            "colorbar": {
             "outlinewidth": 0,
             "ticks": ""
            },
            "colorscale": [
             [
              0,
              "#0d0887"
             ],
             [
              0.1111111111111111,
              "#46039f"
             ],
             [
              0.2222222222222222,
              "#7201a8"
             ],
             [
              0.3333333333333333,
              "#9c179e"
             ],
             [
              0.4444444444444444,
              "#bd3786"
             ],
             [
              0.5555555555555556,
              "#d8576b"
             ],
             [
              0.6666666666666666,
              "#ed7953"
             ],
             [
              0.7777777777777778,
              "#fb9f3a"
             ],
             [
              0.8888888888888888,
              "#fdca26"
             ],
             [
              1,
              "#f0f921"
             ]
            ],
            "type": "heatmapgl"
           }
          ],
          "histogram": [
           {
            "marker": {
             "pattern": {
              "fillmode": "overlay",
              "size": 10,
              "solidity": 0.2
             }
            },
            "type": "histogram"
           }
          ],
          "histogram2d": [
           {
            "colorbar": {
             "outlinewidth": 0,
             "ticks": ""
            },
            "colorscale": [
             [
              0,
              "#0d0887"
             ],
             [
              0.1111111111111111,
              "#46039f"
             ],
             [
              0.2222222222222222,
              "#7201a8"
             ],
             [
              0.3333333333333333,
              "#9c179e"
             ],
             [
              0.4444444444444444,
              "#bd3786"
             ],
             [
              0.5555555555555556,
              "#d8576b"
             ],
             [
              0.6666666666666666,
              "#ed7953"
             ],
             [
              0.7777777777777778,
              "#fb9f3a"
             ],
             [
              0.8888888888888888,
              "#fdca26"
             ],
             [
              1,
              "#f0f921"
             ]
            ],
            "type": "histogram2d"
           }
          ],
          "histogram2dcontour": [
           {
            "colorbar": {
             "outlinewidth": 0,
             "ticks": ""
            },
            "colorscale": [
             [
              0,
              "#0d0887"
             ],
             [
              0.1111111111111111,
              "#46039f"
             ],
             [
              0.2222222222222222,
              "#7201a8"
             ],
             [
              0.3333333333333333,
              "#9c179e"
             ],
             [
              0.4444444444444444,
              "#bd3786"
             ],
             [
              0.5555555555555556,
              "#d8576b"
             ],
             [
              0.6666666666666666,
              "#ed7953"
             ],
             [
              0.7777777777777778,
              "#fb9f3a"
             ],
             [
              0.8888888888888888,
              "#fdca26"
             ],
             [
              1,
              "#f0f921"
             ]
            ],
            "type": "histogram2dcontour"
           }
          ],
          "mesh3d": [
           {
            "colorbar": {
             "outlinewidth": 0,
             "ticks": ""
            },
            "type": "mesh3d"
           }
          ],
          "parcoords": [
           {
            "line": {
             "colorbar": {
              "outlinewidth": 0,
              "ticks": ""
             }
            },
            "type": "parcoords"
           }
          ],
          "pie": [
           {
            "automargin": true,
            "type": "pie"
           }
          ],
          "scatter": [
           {
            "marker": {
             "colorbar": {
              "outlinewidth": 0,
              "ticks": ""
             }
            },
            "type": "scatter"
           }
          ],
          "scatter3d": [
           {
            "line": {
             "colorbar": {
              "outlinewidth": 0,
              "ticks": ""
             }
            },
            "marker": {
             "colorbar": {
              "outlinewidth": 0,
              "ticks": ""
             }
            },
            "type": "scatter3d"
           }
          ],
          "scattercarpet": [
           {
            "marker": {
             "colorbar": {
              "outlinewidth": 0,
              "ticks": ""
             }
            },
            "type": "scattercarpet"
           }
          ],
          "scattergeo": [
           {
            "marker": {
             "colorbar": {
              "outlinewidth": 0,
              "ticks": ""
             }
            },
            "type": "scattergeo"
           }
          ],
          "scattergl": [
           {
            "marker": {
             "colorbar": {
              "outlinewidth": 0,
              "ticks": ""
             }
            },
            "type": "scattergl"
           }
          ],
          "scattermapbox": [
           {
            "marker": {
             "colorbar": {
              "outlinewidth": 0,
              "ticks": ""
             }
            },
            "type": "scattermapbox"
           }
          ],
          "scatterpolar": [
           {
            "marker": {
             "colorbar": {
              "outlinewidth": 0,
              "ticks": ""
             }
            },
            "type": "scatterpolar"
           }
          ],
          "scatterpolargl": [
           {
            "marker": {
             "colorbar": {
              "outlinewidth": 0,
              "ticks": ""
             }
            },
            "type": "scatterpolargl"
           }
          ],
          "scatterternary": [
           {
            "marker": {
             "colorbar": {
              "outlinewidth": 0,
              "ticks": ""
             }
            },
            "type": "scatterternary"
           }
          ],
          "surface": [
           {
            "colorbar": {
             "outlinewidth": 0,
             "ticks": ""
            },
            "colorscale": [
             [
              0,
              "#0d0887"
             ],
             [
              0.1111111111111111,
              "#46039f"
             ],
             [
              0.2222222222222222,
              "#7201a8"
             ],
             [
              0.3333333333333333,
              "#9c179e"
             ],
             [
              0.4444444444444444,
              "#bd3786"
             ],
             [
              0.5555555555555556,
              "#d8576b"
             ],
             [
              0.6666666666666666,
              "#ed7953"
             ],
             [
              0.7777777777777778,
              "#fb9f3a"
             ],
             [
              0.8888888888888888,
              "#fdca26"
             ],
             [
              1,
              "#f0f921"
             ]
            ],
            "type": "surface"
           }
          ],
          "table": [
           {
            "cells": {
             "fill": {
              "color": "#EBF0F8"
             },
             "line": {
              "color": "white"
             }
            },
            "header": {
             "fill": {
              "color": "#C8D4E3"
             },
             "line": {
              "color": "white"
             }
            },
            "type": "table"
           }
          ]
         },
         "layout": {
          "annotationdefaults": {
           "arrowcolor": "#2a3f5f",
           "arrowhead": 0,
           "arrowwidth": 1
          },
          "autotypenumbers": "strict",
          "coloraxis": {
           "colorbar": {
            "outlinewidth": 0,
            "ticks": ""
           }
          },
          "colorscale": {
           "diverging": [
            [
             0,
             "#8e0152"
            ],
            [
             0.1,
             "#c51b7d"
            ],
            [
             0.2,
             "#de77ae"
            ],
            [
             0.3,
             "#f1b6da"
            ],
            [
             0.4,
             "#fde0ef"
            ],
            [
             0.5,
             "#f7f7f7"
            ],
            [
             0.6,
             "#e6f5d0"
            ],
            [
             0.7,
             "#b8e186"
            ],
            [
             0.8,
             "#7fbc41"
            ],
            [
             0.9,
             "#4d9221"
            ],
            [
             1,
             "#276419"
            ]
           ],
           "sequential": [
            [
             0,
             "#0d0887"
            ],
            [
             0.1111111111111111,
             "#46039f"
            ],
            [
             0.2222222222222222,
             "#7201a8"
            ],
            [
             0.3333333333333333,
             "#9c179e"
            ],
            [
             0.4444444444444444,
             "#bd3786"
            ],
            [
             0.5555555555555556,
             "#d8576b"
            ],
            [
             0.6666666666666666,
             "#ed7953"
            ],
            [
             0.7777777777777778,
             "#fb9f3a"
            ],
            [
             0.8888888888888888,
             "#fdca26"
            ],
            [
             1,
             "#f0f921"
            ]
           ],
           "sequentialminus": [
            [
             0,
             "#0d0887"
            ],
            [
             0.1111111111111111,
             "#46039f"
            ],
            [
             0.2222222222222222,
             "#7201a8"
            ],
            [
             0.3333333333333333,
             "#9c179e"
            ],
            [
             0.4444444444444444,
             "#bd3786"
            ],
            [
             0.5555555555555556,
             "#d8576b"
            ],
            [
             0.6666666666666666,
             "#ed7953"
            ],
            [
             0.7777777777777778,
             "#fb9f3a"
            ],
            [
             0.8888888888888888,
             "#fdca26"
            ],
            [
             1,
             "#f0f921"
            ]
           ]
          },
          "colorway": [
           "#636efa",
           "#EF553B",
           "#00cc96",
           "#ab63fa",
           "#FFA15A",
           "#19d3f3",
           "#FF6692",
           "#B6E880",
           "#FF97FF",
           "#FECB52"
          ],
          "font": {
           "color": "#2a3f5f"
          },
          "geo": {
           "bgcolor": "white",
           "lakecolor": "white",
           "landcolor": "#E5ECF6",
           "showlakes": true,
           "showland": true,
           "subunitcolor": "white"
          },
          "hoverlabel": {
           "align": "left"
          },
          "hovermode": "closest",
          "mapbox": {
           "style": "light"
          },
          "paper_bgcolor": "white",
          "plot_bgcolor": "#E5ECF6",
          "polar": {
           "angularaxis": {
            "gridcolor": "white",
            "linecolor": "white",
            "ticks": ""
           },
           "bgcolor": "#E5ECF6",
           "radialaxis": {
            "gridcolor": "white",
            "linecolor": "white",
            "ticks": ""
           }
          },
          "scene": {
           "xaxis": {
            "backgroundcolor": "#E5ECF6",
            "gridcolor": "white",
            "gridwidth": 2,
            "linecolor": "white",
            "showbackground": true,
            "ticks": "",
            "zerolinecolor": "white"
           },
           "yaxis": {
            "backgroundcolor": "#E5ECF6",
            "gridcolor": "white",
            "gridwidth": 2,
            "linecolor": "white",
            "showbackground": true,
            "ticks": "",
            "zerolinecolor": "white"
           },
           "zaxis": {
            "backgroundcolor": "#E5ECF6",
            "gridcolor": "white",
            "gridwidth": 2,
            "linecolor": "white",
            "showbackground": true,
            "ticks": "",
            "zerolinecolor": "white"
           }
          },
          "shapedefaults": {
           "line": {
            "color": "#2a3f5f"
           }
          },
          "ternary": {
           "aaxis": {
            "gridcolor": "white",
            "linecolor": "white",
            "ticks": ""
           },
           "baxis": {
            "gridcolor": "white",
            "linecolor": "white",
            "ticks": ""
           },
           "bgcolor": "#E5ECF6",
           "caxis": {
            "gridcolor": "white",
            "linecolor": "white",
            "ticks": ""
           }
          },
          "title": {
           "x": 0.05
          },
          "xaxis": {
           "automargin": true,
           "gridcolor": "white",
           "linecolor": "white",
           "ticks": "",
           "title": {
            "standoff": 15
           },
           "zerolinecolor": "white",
           "zerolinewidth": 2
          },
          "yaxis": {
           "automargin": true,
           "gridcolor": "white",
           "linecolor": "white",
           "ticks": "",
           "title": {
            "standoff": 15
           },
           "zerolinecolor": "white",
           "zerolinewidth": 2
          }
         }
        },
        "xaxis": {
         "anchor": "y",
         "domain": [
          0,
          1
         ],
         "title": {
          "text": "x"
         }
        },
        "yaxis": {
         "anchor": "x",
         "domain": [
          0,
          1
         ],
         "title": {
          "text": "y"
         }
        }
       }
      },
      "text/html": [
       "<div>                            <div id=\"61304f97-001f-4564-9a97-b57aa8032278\" class=\"plotly-graph-div\" style=\"height:525px; width:100%;\"></div>            <script type=\"text/javascript\">                require([\"plotly\"], function(Plotly) {                    window.PLOTLYENV=window.PLOTLYENV || {};                                    if (document.getElementById(\"61304f97-001f-4564-9a97-b57aa8032278\")) {                    Plotly.newPlot(                        \"61304f97-001f-4564-9a97-b57aa8032278\",                        [{\"alignmentgroup\":\"True\",\"hovertemplate\":\"x=%{x}<br>y=%{y}<extra></extra>\",\"legendgroup\":\"\",\"marker\":{\"color\":\"#636efa\",\"pattern\":{\"shape\":\"\"}},\"name\":\"\",\"offsetgroup\":\"\",\"orientation\":\"v\",\"showlegend\":false,\"textposition\":\"auto\",\"x\":[\"Ministerie van Algemene Zaken\",\"Ministerie van Binnenlandse Zaken en Koninkrijksrelaties\",\"Ministerie van Buitenlandse Zaken\",\"Ministerie van Defensie\",\"Ministerie van Economische Zaken en Klimaat\",\"Ministerie van Financi\\u00ebn\",\"Ministerie van Infrastructuur en Waterstaat\",\"Ministerie van Justitie en Veiligheid\",\"Ministerie van Landbouw, Natuur en Voedselkwaliteit\",\"Ministerie van Onderwijs, Cultuur en Wetenschap\",\"Ministerie van Sociale Zaken en Werkgelegenheid\",\"Ministerie van Volksgezondheid, Welzijn en Sport\"],\"xaxis\":\"x\",\"y\":[89.66666666666667,212.05747126436782,147.1875,91.94444444444444,192.8684210526316,243.73643410852713,243.51685393258427,194.41935483870967,193.76518218623482,90.0,264.7692307692308,165.76923076923077],\"yaxis\":\"y\",\"type\":\"bar\"}],                        {\"template\":{\"data\":{\"bar\":[{\"error_x\":{\"color\":\"#2a3f5f\"},\"error_y\":{\"color\":\"#2a3f5f\"},\"marker\":{\"line\":{\"color\":\"#E5ECF6\",\"width\":0.5},\"pattern\":{\"fillmode\":\"overlay\",\"size\":10,\"solidity\":0.2}},\"type\":\"bar\"}],\"barpolar\":[{\"marker\":{\"line\":{\"color\":\"#E5ECF6\",\"width\":0.5},\"pattern\":{\"fillmode\":\"overlay\",\"size\":10,\"solidity\":0.2}},\"type\":\"barpolar\"}],\"carpet\":[{\"aaxis\":{\"endlinecolor\":\"#2a3f5f\",\"gridcolor\":\"white\",\"linecolor\":\"white\",\"minorgridcolor\":\"white\",\"startlinecolor\":\"#2a3f5f\"},\"baxis\":{\"endlinecolor\":\"#2a3f5f\",\"gridcolor\":\"white\",\"linecolor\":\"white\",\"minorgridcolor\":\"white\",\"startlinecolor\":\"#2a3f5f\"},\"type\":\"carpet\"}],\"choropleth\":[{\"colorbar\":{\"outlinewidth\":0,\"ticks\":\"\"},\"type\":\"choropleth\"}],\"contour\":[{\"colorbar\":{\"outlinewidth\":0,\"ticks\":\"\"},\"colorscale\":[[0.0,\"#0d0887\"],[0.1111111111111111,\"#46039f\"],[0.2222222222222222,\"#7201a8\"],[0.3333333333333333,\"#9c179e\"],[0.4444444444444444,\"#bd3786\"],[0.5555555555555556,\"#d8576b\"],[0.6666666666666666,\"#ed7953\"],[0.7777777777777778,\"#fb9f3a\"],[0.8888888888888888,\"#fdca26\"],[1.0,\"#f0f921\"]],\"type\":\"contour\"}],\"contourcarpet\":[{\"colorbar\":{\"outlinewidth\":0,\"ticks\":\"\"},\"type\":\"contourcarpet\"}],\"heatmap\":[{\"colorbar\":{\"outlinewidth\":0,\"ticks\":\"\"},\"colorscale\":[[0.0,\"#0d0887\"],[0.1111111111111111,\"#46039f\"],[0.2222222222222222,\"#7201a8\"],[0.3333333333333333,\"#9c179e\"],[0.4444444444444444,\"#bd3786\"],[0.5555555555555556,\"#d8576b\"],[0.6666666666666666,\"#ed7953\"],[0.7777777777777778,\"#fb9f3a\"],[0.8888888888888888,\"#fdca26\"],[1.0,\"#f0f921\"]],\"type\":\"heatmap\"}],\"heatmapgl\":[{\"colorbar\":{\"outlinewidth\":0,\"ticks\":\"\"},\"colorscale\":[[0.0,\"#0d0887\"],[0.1111111111111111,\"#46039f\"],[0.2222222222222222,\"#7201a8\"],[0.3333333333333333,\"#9c179e\"],[0.4444444444444444,\"#bd3786\"],[0.5555555555555556,\"#d8576b\"],[0.6666666666666666,\"#ed7953\"],[0.7777777777777778,\"#fb9f3a\"],[0.8888888888888888,\"#fdca26\"],[1.0,\"#f0f921\"]],\"type\":\"heatmapgl\"}],\"histogram\":[{\"marker\":{\"pattern\":{\"fillmode\":\"overlay\",\"size\":10,\"solidity\":0.2}},\"type\":\"histogram\"}],\"histogram2d\":[{\"colorbar\":{\"outlinewidth\":0,\"ticks\":\"\"},\"colorscale\":[[0.0,\"#0d0887\"],[0.1111111111111111,\"#46039f\"],[0.2222222222222222,\"#7201a8\"],[0.3333333333333333,\"#9c179e\"],[0.4444444444444444,\"#bd3786\"],[0.5555555555555556,\"#d8576b\"],[0.6666666666666666,\"#ed7953\"],[0.7777777777777778,\"#fb9f3a\"],[0.8888888888888888,\"#fdca26\"],[1.0,\"#f0f921\"]],\"type\":\"histogram2d\"}],\"histogram2dcontour\":[{\"colorbar\":{\"outlinewidth\":0,\"ticks\":\"\"},\"colorscale\":[[0.0,\"#0d0887\"],[0.1111111111111111,\"#46039f\"],[0.2222222222222222,\"#7201a8\"],[0.3333333333333333,\"#9c179e\"],[0.4444444444444444,\"#bd3786\"],[0.5555555555555556,\"#d8576b\"],[0.6666666666666666,\"#ed7953\"],[0.7777777777777778,\"#fb9f3a\"],[0.8888888888888888,\"#fdca26\"],[1.0,\"#f0f921\"]],\"type\":\"histogram2dcontour\"}],\"mesh3d\":[{\"colorbar\":{\"outlinewidth\":0,\"ticks\":\"\"},\"type\":\"mesh3d\"}],\"parcoords\":[{\"line\":{\"colorbar\":{\"outlinewidth\":0,\"ticks\":\"\"}},\"type\":\"parcoords\"}],\"pie\":[{\"automargin\":true,\"type\":\"pie\"}],\"scatter\":[{\"marker\":{\"colorbar\":{\"outlinewidth\":0,\"ticks\":\"\"}},\"type\":\"scatter\"}],\"scatter3d\":[{\"line\":{\"colorbar\":{\"outlinewidth\":0,\"ticks\":\"\"}},\"marker\":{\"colorbar\":{\"outlinewidth\":0,\"ticks\":\"\"}},\"type\":\"scatter3d\"}],\"scattercarpet\":[{\"marker\":{\"colorbar\":{\"outlinewidth\":0,\"ticks\":\"\"}},\"type\":\"scattercarpet\"}],\"scattergeo\":[{\"marker\":{\"colorbar\":{\"outlinewidth\":0,\"ticks\":\"\"}},\"type\":\"scattergeo\"}],\"scattergl\":[{\"marker\":{\"colorbar\":{\"outlinewidth\":0,\"ticks\":\"\"}},\"type\":\"scattergl\"}],\"scattermapbox\":[{\"marker\":{\"colorbar\":{\"outlinewidth\":0,\"ticks\":\"\"}},\"type\":\"scattermapbox\"}],\"scatterpolar\":[{\"marker\":{\"colorbar\":{\"outlinewidth\":0,\"ticks\":\"\"}},\"type\":\"scatterpolar\"}],\"scatterpolargl\":[{\"marker\":{\"colorbar\":{\"outlinewidth\":0,\"ticks\":\"\"}},\"type\":\"scatterpolargl\"}],\"scatterternary\":[{\"marker\":{\"colorbar\":{\"outlinewidth\":0,\"ticks\":\"\"}},\"type\":\"scatterternary\"}],\"surface\":[{\"colorbar\":{\"outlinewidth\":0,\"ticks\":\"\"},\"colorscale\":[[0.0,\"#0d0887\"],[0.1111111111111111,\"#46039f\"],[0.2222222222222222,\"#7201a8\"],[0.3333333333333333,\"#9c179e\"],[0.4444444444444444,\"#bd3786\"],[0.5555555555555556,\"#d8576b\"],[0.6666666666666666,\"#ed7953\"],[0.7777777777777778,\"#fb9f3a\"],[0.8888888888888888,\"#fdca26\"],[1.0,\"#f0f921\"]],\"type\":\"surface\"}],\"table\":[{\"cells\":{\"fill\":{\"color\":\"#EBF0F8\"},\"line\":{\"color\":\"white\"}},\"header\":{\"fill\":{\"color\":\"#C8D4E3\"},\"line\":{\"color\":\"white\"}},\"type\":\"table\"}]},\"layout\":{\"annotationdefaults\":{\"arrowcolor\":\"#2a3f5f\",\"arrowhead\":0,\"arrowwidth\":1},\"autotypenumbers\":\"strict\",\"coloraxis\":{\"colorbar\":{\"outlinewidth\":0,\"ticks\":\"\"}},\"colorscale\":{\"diverging\":[[0,\"#8e0152\"],[0.1,\"#c51b7d\"],[0.2,\"#de77ae\"],[0.3,\"#f1b6da\"],[0.4,\"#fde0ef\"],[0.5,\"#f7f7f7\"],[0.6,\"#e6f5d0\"],[0.7,\"#b8e186\"],[0.8,\"#7fbc41\"],[0.9,\"#4d9221\"],[1,\"#276419\"]],\"sequential\":[[0.0,\"#0d0887\"],[0.1111111111111111,\"#46039f\"],[0.2222222222222222,\"#7201a8\"],[0.3333333333333333,\"#9c179e\"],[0.4444444444444444,\"#bd3786\"],[0.5555555555555556,\"#d8576b\"],[0.6666666666666666,\"#ed7953\"],[0.7777777777777778,\"#fb9f3a\"],[0.8888888888888888,\"#fdca26\"],[1.0,\"#f0f921\"]],\"sequentialminus\":[[0.0,\"#0d0887\"],[0.1111111111111111,\"#46039f\"],[0.2222222222222222,\"#7201a8\"],[0.3333333333333333,\"#9c179e\"],[0.4444444444444444,\"#bd3786\"],[0.5555555555555556,\"#d8576b\"],[0.6666666666666666,\"#ed7953\"],[0.7777777777777778,\"#fb9f3a\"],[0.8888888888888888,\"#fdca26\"],[1.0,\"#f0f921\"]]},\"colorway\":[\"#636efa\",\"#EF553B\",\"#00cc96\",\"#ab63fa\",\"#FFA15A\",\"#19d3f3\",\"#FF6692\",\"#B6E880\",\"#FF97FF\",\"#FECB52\"],\"font\":{\"color\":\"#2a3f5f\"},\"geo\":{\"bgcolor\":\"white\",\"lakecolor\":\"white\",\"landcolor\":\"#E5ECF6\",\"showlakes\":true,\"showland\":true,\"subunitcolor\":\"white\"},\"hoverlabel\":{\"align\":\"left\"},\"hovermode\":\"closest\",\"mapbox\":{\"style\":\"light\"},\"paper_bgcolor\":\"white\",\"plot_bgcolor\":\"#E5ECF6\",\"polar\":{\"angularaxis\":{\"gridcolor\":\"white\",\"linecolor\":\"white\",\"ticks\":\"\"},\"bgcolor\":\"#E5ECF6\",\"radialaxis\":{\"gridcolor\":\"white\",\"linecolor\":\"white\",\"ticks\":\"\"}},\"scene\":{\"xaxis\":{\"backgroundcolor\":\"#E5ECF6\",\"gridcolor\":\"white\",\"gridwidth\":2,\"linecolor\":\"white\",\"showbackground\":true,\"ticks\":\"\",\"zerolinecolor\":\"white\"},\"yaxis\":{\"backgroundcolor\":\"#E5ECF6\",\"gridcolor\":\"white\",\"gridwidth\":2,\"linecolor\":\"white\",\"showbackground\":true,\"ticks\":\"\",\"zerolinecolor\":\"white\"},\"zaxis\":{\"backgroundcolor\":\"#E5ECF6\",\"gridcolor\":\"white\",\"gridwidth\":2,\"linecolor\":\"white\",\"showbackground\":true,\"ticks\":\"\",\"zerolinecolor\":\"white\"}},\"shapedefaults\":{\"line\":{\"color\":\"#2a3f5f\"}},\"ternary\":{\"aaxis\":{\"gridcolor\":\"white\",\"linecolor\":\"white\",\"ticks\":\"\"},\"baxis\":{\"gridcolor\":\"white\",\"linecolor\":\"white\",\"ticks\":\"\"},\"bgcolor\":\"#E5ECF6\",\"caxis\":{\"gridcolor\":\"white\",\"linecolor\":\"white\",\"ticks\":\"\"}},\"title\":{\"x\":0.05},\"xaxis\":{\"automargin\":true,\"gridcolor\":\"white\",\"linecolor\":\"white\",\"ticks\":\"\",\"title\":{\"standoff\":15},\"zerolinecolor\":\"white\",\"zerolinewidth\":2},\"yaxis\":{\"automargin\":true,\"gridcolor\":\"white\",\"linecolor\":\"white\",\"ticks\":\"\",\"title\":{\"standoff\":15},\"zerolinecolor\":\"white\",\"zerolinewidth\":2}}},\"xaxis\":{\"anchor\":\"y\",\"domain\":[0.0,1.0],\"title\":{\"text\":\"x\"}},\"yaxis\":{\"anchor\":\"x\",\"domain\":[0.0,1.0],\"title\":{\"text\":\"y\"}},\"legend\":{\"tracegroupgap\":0},\"margin\":{\"t\":60},\"barmode\":\"relative\"},                        {\"responsive\": true}                    ).then(function(){\n",
       "                            \n",
       "var gd = document.getElementById('61304f97-001f-4564-9a97-b57aa8032278');\n",
       "var x = new MutationObserver(function (mutations, observer) {{\n",
       "        var display = window.getComputedStyle(gd).display;\n",
       "        if (!display || display === 'none') {{\n",
       "            console.log([gd, 'removed!']);\n",
       "            Plotly.purge(gd);\n",
       "            observer.disconnect();\n",
       "        }}\n",
       "}});\n",
       "\n",
       "// Listen for the removal of the full notebook cells\n",
       "var notebookContainer = gd.closest('#notebook-container');\n",
       "if (notebookContainer) {{\n",
       "    x.observe(notebookContainer, {childList: true});\n",
       "}}\n",
       "\n",
       "// Listen for the clearing of the current output cell\n",
       "var outputEl = gd.closest('.output');\n",
       "if (outputEl) {{\n",
       "    x.observe(outputEl, {childList: true});\n",
       "}}\n",
       "\n",
       "                        })                };                });            </script>        </div>"
      ]
     },
     "metadata": {},
     "output_type": "display_data"
    }
   ],
   "source": [
    "df2 = df_dates.copy()\n",
    "df2 = df2.groupby(['verantwoordelijke'])['dagen'].mean().reset_index(name='dagen')\n",
    "\n",
    "display(df2)\n",
    "\n",
    "fig = px.bar(x=df2.verantwoordelijke, y=df2.dagen)\n",
    "fig.show()"
   ]
  },
  {
   "cell_type": "code",
   "execution_count": 129,
   "id": "78d8aa9b",
   "metadata": {},
   "outputs": [
    {
     "name": "stdout",
     "output_type": "stream",
     "text": [
      "12.19147344801795\n"
     ]
    }
   ],
   "source": [
    "imglist = []\n",
    "\n",
    "for i in dfII.verdatums:\n",
    "    for ele in i:\n",
    "        imglist.append(ele)\n",
    "        \n",
    "images = Counter(imglist)['image']\n",
    "length = len(imglist)\n",
    "\n",
    "print((images/length)*100)"
   ]
  },
  {
   "cell_type": "code",
   "execution_count": null,
   "id": "1aadc775",
   "metadata": {},
   "outputs": [],
   "source": []
  },
  {
   "cell_type": "code",
   "execution_count": 130,
   "id": "44e297c2",
   "metadata": {
    "scrolled": false
   },
   "outputs": [],
   "source": [
    "# for i, r in dfII.iterrows():\n",
    "#     if r.verantwoordelijke == 'Ministerie van Justitie en Veiligheid':\n",
    "#         print(r.Verzoek)\n",
    "#         print(len(r.urls))\n",
    "#         print(r.verdatums)"
   ]
  },
  {
   "cell_type": "code",
   "execution_count": 131,
   "id": "4f61da9b",
   "metadata": {
    "scrolled": true
   },
   "outputs": [],
   "source": [
    "# LIST = []\n",
    "# for i, r in dfII.iterrows():\n",
    "#     lsst = []\n",
    "#     if r.verantwoordelijke == 'Ministerie van Justitie en Veiligheid':\n",
    "#         for url in r.urls:\n",
    "#             print(url)\n",
    "#             lsst.append(verzoek_datum(url))\n",
    "#         LIST.append(lsst)\n",
    "        \n",
    "# print(LIST)"
   ]
  },
  {
   "cell_type": "code",
   "execution_count": 132,
   "id": "35e5e373",
   "metadata": {},
   "outputs": [
    {
     "ename": "NameError",
     "evalue": "name 'LIST' is not defined",
     "output_type": "error",
     "traceback": [
      "\u001b[1;31m---------------------------------------------------------------------------\u001b[0m",
      "\u001b[1;31mNameError\u001b[0m                                 Traceback (most recent call last)",
      "Input \u001b[1;32mIn [132]\u001b[0m, in \u001b[0;36m<module>\u001b[1;34m\u001b[0m\n\u001b[0;32m      1\u001b[0m tem \u001b[38;5;241m=\u001b[39m []\n\u001b[1;32m----> 2\u001b[0m \u001b[38;5;28mprint\u001b[39m(\u001b[43mLIST\u001b[49m)\n\u001b[0;32m      4\u001b[0m \u001b[38;5;28;01mfor\u001b[39;00m I \u001b[38;5;129;01min\u001b[39;00m LIST:\n\u001b[0;32m      5\u001b[0m     tem2 \u001b[38;5;241m=\u001b[39m []\n",
      "\u001b[1;31mNameError\u001b[0m: name 'LIST' is not defined"
     ]
    }
   ],
   "source": [
    "tem = []\n",
    "print(LIST)\n",
    "\n",
    "for I in LIST:\n",
    "    tem2 = []\n",
    "    for i in I:\n",
    "        if '-' in str(i):\n",
    "            tem2.append(True)\n",
    "        else:\n",
    "            tem2.append(False)\n",
    "        \n",
    "    if any(tem2):\n",
    "        tem.append(True)\n",
    "    else:\n",
    "        tem.append(False)\n",
    "\n",
    "print(sum(tem)/len(tem))\n",
    "            \n",
    "        "
   ]
  },
  {
   "cell_type": "markdown",
   "id": "87adf936",
   "metadata": {},
   "source": [
    "83.33"
   ]
  },
  {
   "cell_type": "markdown",
   "id": "443a1474",
   "metadata": {},
   "source": [
    "https://open.overheid.nl/documenten/ronl-ff8822d30a30c1f70df73b7394eb941503f04728/pdf In dit document is het jaar weggelaten uit van het verzoek."
   ]
  },
  {
   "cell_type": "code",
   "execution_count": 133,
   "id": "cdd552a4",
   "metadata": {},
   "outputs": [
    {
     "data": {
      "text/html": [
       "<div>\n",
       "<style scoped>\n",
       "    .dataframe tbody tr th:only-of-type {\n",
       "        vertical-align: middle;\n",
       "    }\n",
       "\n",
       "    .dataframe tbody tr th {\n",
       "        vertical-align: top;\n",
       "    }\n",
       "\n",
       "    .dataframe thead th {\n",
       "        text-align: right;\n",
       "    }\n",
       "</style>\n",
       "<table border=\"1\" class=\"dataframe\">\n",
       "  <thead>\n",
       "    <tr style=\"text-align: right;\">\n",
       "      <th></th>\n",
       "      <th>verantwoordelijke</th>\n",
       "      <th>image</th>\n",
       "    </tr>\n",
       "  </thead>\n",
       "  <tbody>\n",
       "    <tr>\n",
       "      <th>0</th>\n",
       "      <td>Ministerie van Algemene Zaken</td>\n",
       "      <td>0.333333</td>\n",
       "    </tr>\n",
       "    <tr>\n",
       "      <th>1</th>\n",
       "      <td>Ministerie van Binnenlandse Zaken en Koninkrij...</td>\n",
       "      <td>0.010417</td>\n",
       "    </tr>\n",
       "    <tr>\n",
       "      <th>2</th>\n",
       "      <td>Ministerie van Buitenlandse Zaken</td>\n",
       "      <td>0.072464</td>\n",
       "    </tr>\n",
       "    <tr>\n",
       "      <th>3</th>\n",
       "      <td>Ministerie van Defensie</td>\n",
       "      <td>0.062500</td>\n",
       "    </tr>\n",
       "    <tr>\n",
       "      <th>4</th>\n",
       "      <td>Ministerie van Economische Zaken en Klimaat</td>\n",
       "      <td>0.386364</td>\n",
       "    </tr>\n",
       "    <tr>\n",
       "      <th>5</th>\n",
       "      <td>Ministerie van Financiën</td>\n",
       "      <td>0.066667</td>\n",
       "    </tr>\n",
       "    <tr>\n",
       "      <th>6</th>\n",
       "      <td>Ministerie van Infrastructuur en Waterstaat</td>\n",
       "      <td>0.205128</td>\n",
       "    </tr>\n",
       "    <tr>\n",
       "      <th>7</th>\n",
       "      <td>Ministerie van Justitie en Veiligheid</td>\n",
       "      <td>0.403101</td>\n",
       "    </tr>\n",
       "    <tr>\n",
       "      <th>8</th>\n",
       "      <td>Ministerie van Landbouw, Natuur en Voedselkwal...</td>\n",
       "      <td>0.135231</td>\n",
       "    </tr>\n",
       "    <tr>\n",
       "      <th>9</th>\n",
       "      <td>Ministerie van Onderwijs, Cultuur en Wetenschap</td>\n",
       "      <td>0.076923</td>\n",
       "    </tr>\n",
       "    <tr>\n",
       "      <th>10</th>\n",
       "      <td>Ministerie van Sociale Zaken en Werkgelegenheid</td>\n",
       "      <td>0.291667</td>\n",
       "    </tr>\n",
       "    <tr>\n",
       "      <th>11</th>\n",
       "      <td>Ministerie van Volksgezondheid, Welzijn en Sport</td>\n",
       "      <td>0.064516</td>\n",
       "    </tr>\n",
       "  </tbody>\n",
       "</table>\n",
       "</div>"
      ],
      "text/plain": [
       "                                    verantwoordelijke     image\n",
       "0                       Ministerie van Algemene Zaken  0.333333\n",
       "1   Ministerie van Binnenlandse Zaken en Koninkrij...  0.010417\n",
       "2                   Ministerie van Buitenlandse Zaken  0.072464\n",
       "3                             Ministerie van Defensie  0.062500\n",
       "4         Ministerie van Economische Zaken en Klimaat  0.386364\n",
       "5                            Ministerie van Financiën  0.066667\n",
       "6         Ministerie van Infrastructuur en Waterstaat  0.205128\n",
       "7               Ministerie van Justitie en Veiligheid  0.403101\n",
       "8   Ministerie van Landbouw, Natuur en Voedselkwal...  0.135231\n",
       "9     Ministerie van Onderwijs, Cultuur en Wetenschap  0.076923\n",
       "10    Ministerie van Sociale Zaken en Werkgelegenheid  0.291667\n",
       "11   Ministerie van Volksgezondheid, Welzijn en Sport  0.064516"
      ]
     },
     "metadata": {},
     "output_type": "display_data"
    },
    {
     "data": {
      "application/vnd.plotly.v1+json": {
       "config": {
        "plotlyServerURL": "https://plot.ly"
       },
       "data": [
        {
         "alignmentgroup": "True",
         "customdata": [
          [
           3
          ],
          [
           87
          ],
          [
           64
          ],
          [
           36
          ],
          [
           76
          ],
          [
           129
          ],
          [
           89
          ],
          [
           62
          ],
          [
           247
          ],
          [
           39
          ],
          [
           13
          ],
          [
           26
          ]
         ],
         "hovertemplate": "x=%{x}<br>y=%{y}<br>hover_data_0=%{customdata[0]}<extra></extra>",
         "legendgroup": "",
         "marker": {
          "color": "#636efa",
          "pattern": {
           "shape": ""
          }
         },
         "name": "",
         "offsetgroup": "",
         "orientation": "v",
         "showlegend": false,
         "textposition": "auto",
         "type": "bar",
         "x": [
          "Ministerie van Algemene Zaken",
          "Ministerie van Binnenlandse Zaken en Koninkrijksrelaties",
          "Ministerie van Buitenlandse Zaken",
          "Ministerie van Defensie",
          "Ministerie van Economische Zaken en Klimaat",
          "Ministerie van Financiën",
          "Ministerie van Infrastructuur en Waterstaat",
          "Ministerie van Justitie en Veiligheid",
          "Ministerie van Landbouw, Natuur en Voedselkwaliteit",
          "Ministerie van Onderwijs, Cultuur en Wetenschap",
          "Ministerie van Sociale Zaken en Werkgelegenheid",
          "Ministerie van Volksgezondheid, Welzijn en Sport"
         ],
         "xaxis": "x",
         "y": [
          0.3333333333333333,
          0.010416666666666666,
          0.07246376811594203,
          0.0625,
          0.38636363636363635,
          0.06666666666666667,
          0.20512820512820512,
          0.40310077519379844,
          0.13523131672597866,
          0.07692307692307693,
          0.2916666666666667,
          0.06451612903225806
         ],
         "yaxis": "y"
        }
       ],
       "layout": {
        "barmode": "relative",
        "legend": {
         "tracegroupgap": 0
        },
        "margin": {
         "t": 60
        },
        "template": {
         "data": {
          "bar": [
           {
            "error_x": {
             "color": "#2a3f5f"
            },
            "error_y": {
             "color": "#2a3f5f"
            },
            "marker": {
             "line": {
              "color": "#E5ECF6",
              "width": 0.5
             },
             "pattern": {
              "fillmode": "overlay",
              "size": 10,
              "solidity": 0.2
             }
            },
            "type": "bar"
           }
          ],
          "barpolar": [
           {
            "marker": {
             "line": {
              "color": "#E5ECF6",
              "width": 0.5
             },
             "pattern": {
              "fillmode": "overlay",
              "size": 10,
              "solidity": 0.2
             }
            },
            "type": "barpolar"
           }
          ],
          "carpet": [
           {
            "aaxis": {
             "endlinecolor": "#2a3f5f",
             "gridcolor": "white",
             "linecolor": "white",
             "minorgridcolor": "white",
             "startlinecolor": "#2a3f5f"
            },
            "baxis": {
             "endlinecolor": "#2a3f5f",
             "gridcolor": "white",
             "linecolor": "white",
             "minorgridcolor": "white",
             "startlinecolor": "#2a3f5f"
            },
            "type": "carpet"
           }
          ],
          "choropleth": [
           {
            "colorbar": {
             "outlinewidth": 0,
             "ticks": ""
            },
            "type": "choropleth"
           }
          ],
          "contour": [
           {
            "colorbar": {
             "outlinewidth": 0,
             "ticks": ""
            },
            "colorscale": [
             [
              0,
              "#0d0887"
             ],
             [
              0.1111111111111111,
              "#46039f"
             ],
             [
              0.2222222222222222,
              "#7201a8"
             ],
             [
              0.3333333333333333,
              "#9c179e"
             ],
             [
              0.4444444444444444,
              "#bd3786"
             ],
             [
              0.5555555555555556,
              "#d8576b"
             ],
             [
              0.6666666666666666,
              "#ed7953"
             ],
             [
              0.7777777777777778,
              "#fb9f3a"
             ],
             [
              0.8888888888888888,
              "#fdca26"
             ],
             [
              1,
              "#f0f921"
             ]
            ],
            "type": "contour"
           }
          ],
          "contourcarpet": [
           {
            "colorbar": {
             "outlinewidth": 0,
             "ticks": ""
            },
            "type": "contourcarpet"
           }
          ],
          "heatmap": [
           {
            "colorbar": {
             "outlinewidth": 0,
             "ticks": ""
            },
            "colorscale": [
             [
              0,
              "#0d0887"
             ],
             [
              0.1111111111111111,
              "#46039f"
             ],
             [
              0.2222222222222222,
              "#7201a8"
             ],
             [
              0.3333333333333333,
              "#9c179e"
             ],
             [
              0.4444444444444444,
              "#bd3786"
             ],
             [
              0.5555555555555556,
              "#d8576b"
             ],
             [
              0.6666666666666666,
              "#ed7953"
             ],
             [
              0.7777777777777778,
              "#fb9f3a"
             ],
             [
              0.8888888888888888,
              "#fdca26"
             ],
             [
              1,
              "#f0f921"
             ]
            ],
            "type": "heatmap"
           }
          ],
          "heatmapgl": [
           {
            "colorbar": {
             "outlinewidth": 0,
             "ticks": ""
            },
            "colorscale": [
             [
              0,
              "#0d0887"
             ],
             [
              0.1111111111111111,
              "#46039f"
             ],
             [
              0.2222222222222222,
              "#7201a8"
             ],
             [
              0.3333333333333333,
              "#9c179e"
             ],
             [
              0.4444444444444444,
              "#bd3786"
             ],
             [
              0.5555555555555556,
              "#d8576b"
             ],
             [
              0.6666666666666666,
              "#ed7953"
             ],
             [
              0.7777777777777778,
              "#fb9f3a"
             ],
             [
              0.8888888888888888,
              "#fdca26"
             ],
             [
              1,
              "#f0f921"
             ]
            ],
            "type": "heatmapgl"
           }
          ],
          "histogram": [
           {
            "marker": {
             "pattern": {
              "fillmode": "overlay",
              "size": 10,
              "solidity": 0.2
             }
            },
            "type": "histogram"
           }
          ],
          "histogram2d": [
           {
            "colorbar": {
             "outlinewidth": 0,
             "ticks": ""
            },
            "colorscale": [
             [
              0,
              "#0d0887"
             ],
             [
              0.1111111111111111,
              "#46039f"
             ],
             [
              0.2222222222222222,
              "#7201a8"
             ],
             [
              0.3333333333333333,
              "#9c179e"
             ],
             [
              0.4444444444444444,
              "#bd3786"
             ],
             [
              0.5555555555555556,
              "#d8576b"
             ],
             [
              0.6666666666666666,
              "#ed7953"
             ],
             [
              0.7777777777777778,
              "#fb9f3a"
             ],
             [
              0.8888888888888888,
              "#fdca26"
             ],
             [
              1,
              "#f0f921"
             ]
            ],
            "type": "histogram2d"
           }
          ],
          "histogram2dcontour": [
           {
            "colorbar": {
             "outlinewidth": 0,
             "ticks": ""
            },
            "colorscale": [
             [
              0,
              "#0d0887"
             ],
             [
              0.1111111111111111,
              "#46039f"
             ],
             [
              0.2222222222222222,
              "#7201a8"
             ],
             [
              0.3333333333333333,
              "#9c179e"
             ],
             [
              0.4444444444444444,
              "#bd3786"
             ],
             [
              0.5555555555555556,
              "#d8576b"
             ],
             [
              0.6666666666666666,
              "#ed7953"
             ],
             [
              0.7777777777777778,
              "#fb9f3a"
             ],
             [
              0.8888888888888888,
              "#fdca26"
             ],
             [
              1,
              "#f0f921"
             ]
            ],
            "type": "histogram2dcontour"
           }
          ],
          "mesh3d": [
           {
            "colorbar": {
             "outlinewidth": 0,
             "ticks": ""
            },
            "type": "mesh3d"
           }
          ],
          "parcoords": [
           {
            "line": {
             "colorbar": {
              "outlinewidth": 0,
              "ticks": ""
             }
            },
            "type": "parcoords"
           }
          ],
          "pie": [
           {
            "automargin": true,
            "type": "pie"
           }
          ],
          "scatter": [
           {
            "marker": {
             "colorbar": {
              "outlinewidth": 0,
              "ticks": ""
             }
            },
            "type": "scatter"
           }
          ],
          "scatter3d": [
           {
            "line": {
             "colorbar": {
              "outlinewidth": 0,
              "ticks": ""
             }
            },
            "marker": {
             "colorbar": {
              "outlinewidth": 0,
              "ticks": ""
             }
            },
            "type": "scatter3d"
           }
          ],
          "scattercarpet": [
           {
            "marker": {
             "colorbar": {
              "outlinewidth": 0,
              "ticks": ""
             }
            },
            "type": "scattercarpet"
           }
          ],
          "scattergeo": [
           {
            "marker": {
             "colorbar": {
              "outlinewidth": 0,
              "ticks": ""
             }
            },
            "type": "scattergeo"
           }
          ],
          "scattergl": [
           {
            "marker": {
             "colorbar": {
              "outlinewidth": 0,
              "ticks": ""
             }
            },
            "type": "scattergl"
           }
          ],
          "scattermapbox": [
           {
            "marker": {
             "colorbar": {
              "outlinewidth": 0,
              "ticks": ""
             }
            },
            "type": "scattermapbox"
           }
          ],
          "scatterpolar": [
           {
            "marker": {
             "colorbar": {
              "outlinewidth": 0,
              "ticks": ""
             }
            },
            "type": "scatterpolar"
           }
          ],
          "scatterpolargl": [
           {
            "marker": {
             "colorbar": {
              "outlinewidth": 0,
              "ticks": ""
             }
            },
            "type": "scatterpolargl"
           }
          ],
          "scatterternary": [
           {
            "marker": {
             "colorbar": {
              "outlinewidth": 0,
              "ticks": ""
             }
            },
            "type": "scatterternary"
           }
          ],
          "surface": [
           {
            "colorbar": {
             "outlinewidth": 0,
             "ticks": ""
            },
            "colorscale": [
             [
              0,
              "#0d0887"
             ],
             [
              0.1111111111111111,
              "#46039f"
             ],
             [
              0.2222222222222222,
              "#7201a8"
             ],
             [
              0.3333333333333333,
              "#9c179e"
             ],
             [
              0.4444444444444444,
              "#bd3786"
             ],
             [
              0.5555555555555556,
              "#d8576b"
             ],
             [
              0.6666666666666666,
              "#ed7953"
             ],
             [
              0.7777777777777778,
              "#fb9f3a"
             ],
             [
              0.8888888888888888,
              "#fdca26"
             ],
             [
              1,
              "#f0f921"
             ]
            ],
            "type": "surface"
           }
          ],
          "table": [
           {
            "cells": {
             "fill": {
              "color": "#EBF0F8"
             },
             "line": {
              "color": "white"
             }
            },
            "header": {
             "fill": {
              "color": "#C8D4E3"
             },
             "line": {
              "color": "white"
             }
            },
            "type": "table"
           }
          ]
         },
         "layout": {
          "annotationdefaults": {
           "arrowcolor": "#2a3f5f",
           "arrowhead": 0,
           "arrowwidth": 1
          },
          "autotypenumbers": "strict",
          "coloraxis": {
           "colorbar": {
            "outlinewidth": 0,
            "ticks": ""
           }
          },
          "colorscale": {
           "diverging": [
            [
             0,
             "#8e0152"
            ],
            [
             0.1,
             "#c51b7d"
            ],
            [
             0.2,
             "#de77ae"
            ],
            [
             0.3,
             "#f1b6da"
            ],
            [
             0.4,
             "#fde0ef"
            ],
            [
             0.5,
             "#f7f7f7"
            ],
            [
             0.6,
             "#e6f5d0"
            ],
            [
             0.7,
             "#b8e186"
            ],
            [
             0.8,
             "#7fbc41"
            ],
            [
             0.9,
             "#4d9221"
            ],
            [
             1,
             "#276419"
            ]
           ],
           "sequential": [
            [
             0,
             "#0d0887"
            ],
            [
             0.1111111111111111,
             "#46039f"
            ],
            [
             0.2222222222222222,
             "#7201a8"
            ],
            [
             0.3333333333333333,
             "#9c179e"
            ],
            [
             0.4444444444444444,
             "#bd3786"
            ],
            [
             0.5555555555555556,
             "#d8576b"
            ],
            [
             0.6666666666666666,
             "#ed7953"
            ],
            [
             0.7777777777777778,
             "#fb9f3a"
            ],
            [
             0.8888888888888888,
             "#fdca26"
            ],
            [
             1,
             "#f0f921"
            ]
           ],
           "sequentialminus": [
            [
             0,
             "#0d0887"
            ],
            [
             0.1111111111111111,
             "#46039f"
            ],
            [
             0.2222222222222222,
             "#7201a8"
            ],
            [
             0.3333333333333333,
             "#9c179e"
            ],
            [
             0.4444444444444444,
             "#bd3786"
            ],
            [
             0.5555555555555556,
             "#d8576b"
            ],
            [
             0.6666666666666666,
             "#ed7953"
            ],
            [
             0.7777777777777778,
             "#fb9f3a"
            ],
            [
             0.8888888888888888,
             "#fdca26"
            ],
            [
             1,
             "#f0f921"
            ]
           ]
          },
          "colorway": [
           "#636efa",
           "#EF553B",
           "#00cc96",
           "#ab63fa",
           "#FFA15A",
           "#19d3f3",
           "#FF6692",
           "#B6E880",
           "#FF97FF",
           "#FECB52"
          ],
          "font": {
           "color": "#2a3f5f"
          },
          "geo": {
           "bgcolor": "white",
           "lakecolor": "white",
           "landcolor": "#E5ECF6",
           "showlakes": true,
           "showland": true,
           "subunitcolor": "white"
          },
          "hoverlabel": {
           "align": "left"
          },
          "hovermode": "closest",
          "mapbox": {
           "style": "light"
          },
          "paper_bgcolor": "white",
          "plot_bgcolor": "#E5ECF6",
          "polar": {
           "angularaxis": {
            "gridcolor": "white",
            "linecolor": "white",
            "ticks": ""
           },
           "bgcolor": "#E5ECF6",
           "radialaxis": {
            "gridcolor": "white",
            "linecolor": "white",
            "ticks": ""
           }
          },
          "scene": {
           "xaxis": {
            "backgroundcolor": "#E5ECF6",
            "gridcolor": "white",
            "gridwidth": 2,
            "linecolor": "white",
            "showbackground": true,
            "ticks": "",
            "zerolinecolor": "white"
           },
           "yaxis": {
            "backgroundcolor": "#E5ECF6",
            "gridcolor": "white",
            "gridwidth": 2,
            "linecolor": "white",
            "showbackground": true,
            "ticks": "",
            "zerolinecolor": "white"
           },
           "zaxis": {
            "backgroundcolor": "#E5ECF6",
            "gridcolor": "white",
            "gridwidth": 2,
            "linecolor": "white",
            "showbackground": true,
            "ticks": "",
            "zerolinecolor": "white"
           }
          },
          "shapedefaults": {
           "line": {
            "color": "#2a3f5f"
           }
          },
          "ternary": {
           "aaxis": {
            "gridcolor": "white",
            "linecolor": "white",
            "ticks": ""
           },
           "baxis": {
            "gridcolor": "white",
            "linecolor": "white",
            "ticks": ""
           },
           "bgcolor": "#E5ECF6",
           "caxis": {
            "gridcolor": "white",
            "linecolor": "white",
            "ticks": ""
           }
          },
          "title": {
           "x": 0.05
          },
          "xaxis": {
           "automargin": true,
           "gridcolor": "white",
           "linecolor": "white",
           "ticks": "",
           "title": {
            "standoff": 15
           },
           "zerolinecolor": "white",
           "zerolinewidth": 2
          },
          "yaxis": {
           "automargin": true,
           "gridcolor": "white",
           "linecolor": "white",
           "ticks": "",
           "title": {
            "standoff": 15
           },
           "zerolinecolor": "white",
           "zerolinewidth": 2
          }
         }
        },
        "xaxis": {
         "anchor": "y",
         "domain": [
          0,
          1
         ],
         "title": {
          "text": "x"
         }
        },
        "yaxis": {
         "anchor": "x",
         "domain": [
          0,
          1
         ],
         "title": {
          "text": "y"
         }
        }
       }
      },
      "text/html": [
       "<div>                            <div id=\"09807cd0-fd69-436b-9dcc-72fdc00f3b49\" class=\"plotly-graph-div\" style=\"height:525px; width:100%;\"></div>            <script type=\"text/javascript\">                require([\"plotly\"], function(Plotly) {                    window.PLOTLYENV=window.PLOTLYENV || {};                                    if (document.getElementById(\"09807cd0-fd69-436b-9dcc-72fdc00f3b49\")) {                    Plotly.newPlot(                        \"09807cd0-fd69-436b-9dcc-72fdc00f3b49\",                        [{\"alignmentgroup\":\"True\",\"customdata\":[[3],[87],[64],[36],[76],[129],[89],[62],[247],[39],[13],[26]],\"hovertemplate\":\"x=%{x}<br>y=%{y}<br>hover_data_0=%{customdata[0]}<extra></extra>\",\"legendgroup\":\"\",\"marker\":{\"color\":\"#636efa\",\"pattern\":{\"shape\":\"\"}},\"name\":\"\",\"offsetgroup\":\"\",\"orientation\":\"v\",\"showlegend\":false,\"textposition\":\"auto\",\"x\":[\"Ministerie van Algemene Zaken\",\"Ministerie van Binnenlandse Zaken en Koninkrijksrelaties\",\"Ministerie van Buitenlandse Zaken\",\"Ministerie van Defensie\",\"Ministerie van Economische Zaken en Klimaat\",\"Ministerie van Financi\\u00ebn\",\"Ministerie van Infrastructuur en Waterstaat\",\"Ministerie van Justitie en Veiligheid\",\"Ministerie van Landbouw, Natuur en Voedselkwaliteit\",\"Ministerie van Onderwijs, Cultuur en Wetenschap\",\"Ministerie van Sociale Zaken en Werkgelegenheid\",\"Ministerie van Volksgezondheid, Welzijn en Sport\"],\"xaxis\":\"x\",\"y\":[0.3333333333333333,0.010416666666666666,0.07246376811594203,0.0625,0.38636363636363635,0.06666666666666667,0.20512820512820512,0.40310077519379844,0.13523131672597866,0.07692307692307693,0.2916666666666667,0.06451612903225806],\"yaxis\":\"y\",\"type\":\"bar\"}],                        {\"template\":{\"data\":{\"bar\":[{\"error_x\":{\"color\":\"#2a3f5f\"},\"error_y\":{\"color\":\"#2a3f5f\"},\"marker\":{\"line\":{\"color\":\"#E5ECF6\",\"width\":0.5},\"pattern\":{\"fillmode\":\"overlay\",\"size\":10,\"solidity\":0.2}},\"type\":\"bar\"}],\"barpolar\":[{\"marker\":{\"line\":{\"color\":\"#E5ECF6\",\"width\":0.5},\"pattern\":{\"fillmode\":\"overlay\",\"size\":10,\"solidity\":0.2}},\"type\":\"barpolar\"}],\"carpet\":[{\"aaxis\":{\"endlinecolor\":\"#2a3f5f\",\"gridcolor\":\"white\",\"linecolor\":\"white\",\"minorgridcolor\":\"white\",\"startlinecolor\":\"#2a3f5f\"},\"baxis\":{\"endlinecolor\":\"#2a3f5f\",\"gridcolor\":\"white\",\"linecolor\":\"white\",\"minorgridcolor\":\"white\",\"startlinecolor\":\"#2a3f5f\"},\"type\":\"carpet\"}],\"choropleth\":[{\"colorbar\":{\"outlinewidth\":0,\"ticks\":\"\"},\"type\":\"choropleth\"}],\"contour\":[{\"colorbar\":{\"outlinewidth\":0,\"ticks\":\"\"},\"colorscale\":[[0.0,\"#0d0887\"],[0.1111111111111111,\"#46039f\"],[0.2222222222222222,\"#7201a8\"],[0.3333333333333333,\"#9c179e\"],[0.4444444444444444,\"#bd3786\"],[0.5555555555555556,\"#d8576b\"],[0.6666666666666666,\"#ed7953\"],[0.7777777777777778,\"#fb9f3a\"],[0.8888888888888888,\"#fdca26\"],[1.0,\"#f0f921\"]],\"type\":\"contour\"}],\"contourcarpet\":[{\"colorbar\":{\"outlinewidth\":0,\"ticks\":\"\"},\"type\":\"contourcarpet\"}],\"heatmap\":[{\"colorbar\":{\"outlinewidth\":0,\"ticks\":\"\"},\"colorscale\":[[0.0,\"#0d0887\"],[0.1111111111111111,\"#46039f\"],[0.2222222222222222,\"#7201a8\"],[0.3333333333333333,\"#9c179e\"],[0.4444444444444444,\"#bd3786\"],[0.5555555555555556,\"#d8576b\"],[0.6666666666666666,\"#ed7953\"],[0.7777777777777778,\"#fb9f3a\"],[0.8888888888888888,\"#fdca26\"],[1.0,\"#f0f921\"]],\"type\":\"heatmap\"}],\"heatmapgl\":[{\"colorbar\":{\"outlinewidth\":0,\"ticks\":\"\"},\"colorscale\":[[0.0,\"#0d0887\"],[0.1111111111111111,\"#46039f\"],[0.2222222222222222,\"#7201a8\"],[0.3333333333333333,\"#9c179e\"],[0.4444444444444444,\"#bd3786\"],[0.5555555555555556,\"#d8576b\"],[0.6666666666666666,\"#ed7953\"],[0.7777777777777778,\"#fb9f3a\"],[0.8888888888888888,\"#fdca26\"],[1.0,\"#f0f921\"]],\"type\":\"heatmapgl\"}],\"histogram\":[{\"marker\":{\"pattern\":{\"fillmode\":\"overlay\",\"size\":10,\"solidity\":0.2}},\"type\":\"histogram\"}],\"histogram2d\":[{\"colorbar\":{\"outlinewidth\":0,\"ticks\":\"\"},\"colorscale\":[[0.0,\"#0d0887\"],[0.1111111111111111,\"#46039f\"],[0.2222222222222222,\"#7201a8\"],[0.3333333333333333,\"#9c179e\"],[0.4444444444444444,\"#bd3786\"],[0.5555555555555556,\"#d8576b\"],[0.6666666666666666,\"#ed7953\"],[0.7777777777777778,\"#fb9f3a\"],[0.8888888888888888,\"#fdca26\"],[1.0,\"#f0f921\"]],\"type\":\"histogram2d\"}],\"histogram2dcontour\":[{\"colorbar\":{\"outlinewidth\":0,\"ticks\":\"\"},\"colorscale\":[[0.0,\"#0d0887\"],[0.1111111111111111,\"#46039f\"],[0.2222222222222222,\"#7201a8\"],[0.3333333333333333,\"#9c179e\"],[0.4444444444444444,\"#bd3786\"],[0.5555555555555556,\"#d8576b\"],[0.6666666666666666,\"#ed7953\"],[0.7777777777777778,\"#fb9f3a\"],[0.8888888888888888,\"#fdca26\"],[1.0,\"#f0f921\"]],\"type\":\"histogram2dcontour\"}],\"mesh3d\":[{\"colorbar\":{\"outlinewidth\":0,\"ticks\":\"\"},\"type\":\"mesh3d\"}],\"parcoords\":[{\"line\":{\"colorbar\":{\"outlinewidth\":0,\"ticks\":\"\"}},\"type\":\"parcoords\"}],\"pie\":[{\"automargin\":true,\"type\":\"pie\"}],\"scatter\":[{\"marker\":{\"colorbar\":{\"outlinewidth\":0,\"ticks\":\"\"}},\"type\":\"scatter\"}],\"scatter3d\":[{\"line\":{\"colorbar\":{\"outlinewidth\":0,\"ticks\":\"\"}},\"marker\":{\"colorbar\":{\"outlinewidth\":0,\"ticks\":\"\"}},\"type\":\"scatter3d\"}],\"scattercarpet\":[{\"marker\":{\"colorbar\":{\"outlinewidth\":0,\"ticks\":\"\"}},\"type\":\"scattercarpet\"}],\"scattergeo\":[{\"marker\":{\"colorbar\":{\"outlinewidth\":0,\"ticks\":\"\"}},\"type\":\"scattergeo\"}],\"scattergl\":[{\"marker\":{\"colorbar\":{\"outlinewidth\":0,\"ticks\":\"\"}},\"type\":\"scattergl\"}],\"scattermapbox\":[{\"marker\":{\"colorbar\":{\"outlinewidth\":0,\"ticks\":\"\"}},\"type\":\"scattermapbox\"}],\"scatterpolar\":[{\"marker\":{\"colorbar\":{\"outlinewidth\":0,\"ticks\":\"\"}},\"type\":\"scatterpolar\"}],\"scatterpolargl\":[{\"marker\":{\"colorbar\":{\"outlinewidth\":0,\"ticks\":\"\"}},\"type\":\"scatterpolargl\"}],\"scatterternary\":[{\"marker\":{\"colorbar\":{\"outlinewidth\":0,\"ticks\":\"\"}},\"type\":\"scatterternary\"}],\"surface\":[{\"colorbar\":{\"outlinewidth\":0,\"ticks\":\"\"},\"colorscale\":[[0.0,\"#0d0887\"],[0.1111111111111111,\"#46039f\"],[0.2222222222222222,\"#7201a8\"],[0.3333333333333333,\"#9c179e\"],[0.4444444444444444,\"#bd3786\"],[0.5555555555555556,\"#d8576b\"],[0.6666666666666666,\"#ed7953\"],[0.7777777777777778,\"#fb9f3a\"],[0.8888888888888888,\"#fdca26\"],[1.0,\"#f0f921\"]],\"type\":\"surface\"}],\"table\":[{\"cells\":{\"fill\":{\"color\":\"#EBF0F8\"},\"line\":{\"color\":\"white\"}},\"header\":{\"fill\":{\"color\":\"#C8D4E3\"},\"line\":{\"color\":\"white\"}},\"type\":\"table\"}]},\"layout\":{\"annotationdefaults\":{\"arrowcolor\":\"#2a3f5f\",\"arrowhead\":0,\"arrowwidth\":1},\"autotypenumbers\":\"strict\",\"coloraxis\":{\"colorbar\":{\"outlinewidth\":0,\"ticks\":\"\"}},\"colorscale\":{\"diverging\":[[0,\"#8e0152\"],[0.1,\"#c51b7d\"],[0.2,\"#de77ae\"],[0.3,\"#f1b6da\"],[0.4,\"#fde0ef\"],[0.5,\"#f7f7f7\"],[0.6,\"#e6f5d0\"],[0.7,\"#b8e186\"],[0.8,\"#7fbc41\"],[0.9,\"#4d9221\"],[1,\"#276419\"]],\"sequential\":[[0.0,\"#0d0887\"],[0.1111111111111111,\"#46039f\"],[0.2222222222222222,\"#7201a8\"],[0.3333333333333333,\"#9c179e\"],[0.4444444444444444,\"#bd3786\"],[0.5555555555555556,\"#d8576b\"],[0.6666666666666666,\"#ed7953\"],[0.7777777777777778,\"#fb9f3a\"],[0.8888888888888888,\"#fdca26\"],[1.0,\"#f0f921\"]],\"sequentialminus\":[[0.0,\"#0d0887\"],[0.1111111111111111,\"#46039f\"],[0.2222222222222222,\"#7201a8\"],[0.3333333333333333,\"#9c179e\"],[0.4444444444444444,\"#bd3786\"],[0.5555555555555556,\"#d8576b\"],[0.6666666666666666,\"#ed7953\"],[0.7777777777777778,\"#fb9f3a\"],[0.8888888888888888,\"#fdca26\"],[1.0,\"#f0f921\"]]},\"colorway\":[\"#636efa\",\"#EF553B\",\"#00cc96\",\"#ab63fa\",\"#FFA15A\",\"#19d3f3\",\"#FF6692\",\"#B6E880\",\"#FF97FF\",\"#FECB52\"],\"font\":{\"color\":\"#2a3f5f\"},\"geo\":{\"bgcolor\":\"white\",\"lakecolor\":\"white\",\"landcolor\":\"#E5ECF6\",\"showlakes\":true,\"showland\":true,\"subunitcolor\":\"white\"},\"hoverlabel\":{\"align\":\"left\"},\"hovermode\":\"closest\",\"mapbox\":{\"style\":\"light\"},\"paper_bgcolor\":\"white\",\"plot_bgcolor\":\"#E5ECF6\",\"polar\":{\"angularaxis\":{\"gridcolor\":\"white\",\"linecolor\":\"white\",\"ticks\":\"\"},\"bgcolor\":\"#E5ECF6\",\"radialaxis\":{\"gridcolor\":\"white\",\"linecolor\":\"white\",\"ticks\":\"\"}},\"scene\":{\"xaxis\":{\"backgroundcolor\":\"#E5ECF6\",\"gridcolor\":\"white\",\"gridwidth\":2,\"linecolor\":\"white\",\"showbackground\":true,\"ticks\":\"\",\"zerolinecolor\":\"white\"},\"yaxis\":{\"backgroundcolor\":\"#E5ECF6\",\"gridcolor\":\"white\",\"gridwidth\":2,\"linecolor\":\"white\",\"showbackground\":true,\"ticks\":\"\",\"zerolinecolor\":\"white\"},\"zaxis\":{\"backgroundcolor\":\"#E5ECF6\",\"gridcolor\":\"white\",\"gridwidth\":2,\"linecolor\":\"white\",\"showbackground\":true,\"ticks\":\"\",\"zerolinecolor\":\"white\"}},\"shapedefaults\":{\"line\":{\"color\":\"#2a3f5f\"}},\"ternary\":{\"aaxis\":{\"gridcolor\":\"white\",\"linecolor\":\"white\",\"ticks\":\"\"},\"baxis\":{\"gridcolor\":\"white\",\"linecolor\":\"white\",\"ticks\":\"\"},\"bgcolor\":\"#E5ECF6\",\"caxis\":{\"gridcolor\":\"white\",\"linecolor\":\"white\",\"ticks\":\"\"}},\"title\":{\"x\":0.05},\"xaxis\":{\"automargin\":true,\"gridcolor\":\"white\",\"linecolor\":\"white\",\"ticks\":\"\",\"title\":{\"standoff\":15},\"zerolinecolor\":\"white\",\"zerolinewidth\":2},\"yaxis\":{\"automargin\":true,\"gridcolor\":\"white\",\"linecolor\":\"white\",\"ticks\":\"\",\"title\":{\"standoff\":15},\"zerolinecolor\":\"white\",\"zerolinewidth\":2}}},\"xaxis\":{\"anchor\":\"y\",\"domain\":[0.0,1.0],\"title\":{\"text\":\"x\"}},\"yaxis\":{\"anchor\":\"x\",\"domain\":[0.0,1.0],\"title\":{\"text\":\"y\"}},\"legend\":{\"tracegroupgap\":0},\"margin\":{\"t\":60},\"barmode\":\"relative\"},                        {\"responsive\": true}                    ).then(function(){\n",
       "                            \n",
       "var gd = document.getElementById('09807cd0-fd69-436b-9dcc-72fdc00f3b49');\n",
       "var x = new MutationObserver(function (mutations, observer) {{\n",
       "        var display = window.getComputedStyle(gd).display;\n",
       "        if (!display || display === 'none') {{\n",
       "            console.log([gd, 'removed!']);\n",
       "            Plotly.purge(gd);\n",
       "            observer.disconnect();\n",
       "        }}\n",
       "}});\n",
       "\n",
       "// Listen for the removal of the full notebook cells\n",
       "var notebookContainer = gd.closest('#notebook-container');\n",
       "if (notebookContainer) {{\n",
       "    x.observe(notebookContainer, {childList: true});\n",
       "}}\n",
       "\n",
       "// Listen for the clearing of the current output cell\n",
       "var outputEl = gd.closest('.output');\n",
       "if (outputEl) {{\n",
       "    x.observe(outputEl, {childList: true});\n",
       "}}\n",
       "\n",
       "                        })                };                });            </script>        </div>"
      ]
     },
     "metadata": {},
     "output_type": "display_data"
    }
   ],
   "source": [
    "dfIII = dfII.copy()\n",
    "dfIII = dfIII.groupby(['verantwoordelijke'])['image'].apply(list).reset_index(name='image')\n",
    "\n",
    "means = [i.count(True) / len(i) for i in dfIII.image]\n",
    "\n",
    "dfIII['image'] = means\n",
    "display(dfIII)\n",
    "\n",
    "fig = px.bar(x=dfIII.verantwoordelijke, y=dfIII.image, hover_data = [Data1['aantal']])\n",
    "fig.show()"
   ]
  },
  {
   "cell_type": "code",
   "execution_count": 134,
   "id": "b535fa44",
   "metadata": {
    "scrolled": false
   },
   "outputs": [
    {
     "data": {
      "text/html": [
       "<div>\n",
       "<style scoped>\n",
       "    .dataframe tbody tr th:only-of-type {\n",
       "        vertical-align: middle;\n",
       "    }\n",
       "\n",
       "    .dataframe tbody tr th {\n",
       "        vertical-align: top;\n",
       "    }\n",
       "\n",
       "    .dataframe thead th {\n",
       "        text-align: right;\n",
       "    }\n",
       "</style>\n",
       "<table border=\"1\" class=\"dataframe\">\n",
       "  <thead>\n",
       "    <tr style=\"text-align: right;\">\n",
       "      <th></th>\n",
       "      <th>periode</th>\n",
       "      <th>verantwoordelijke</th>\n",
       "      <th>Verzoek</th>\n",
       "      <th>image</th>\n",
       "    </tr>\n",
       "  </thead>\n",
       "  <tbody>\n",
       "    <tr>\n",
       "      <th>0</th>\n",
       "      <td>2022 1e Kwartaal</td>\n",
       "      <td>Ministerie van Algemene Zaken</td>\n",
       "      <td>0</td>\n",
       "      <td>0</td>\n",
       "    </tr>\n",
       "    <tr>\n",
       "      <th>1</th>\n",
       "      <td>2022 1e Kwartaal</td>\n",
       "      <td>Ministerie van Binnenlandse Zaken en Koninkrij...</td>\n",
       "      <td>0</td>\n",
       "      <td>0</td>\n",
       "    </tr>\n",
       "    <tr>\n",
       "      <th>2</th>\n",
       "      <td>2022 1e Kwartaal</td>\n",
       "      <td>Ministerie van Buitenlandse Zaken</td>\n",
       "      <td>1</td>\n",
       "      <td>0</td>\n",
       "    </tr>\n",
       "    <tr>\n",
       "      <th>3</th>\n",
       "      <td>2022 1e Kwartaal</td>\n",
       "      <td>Ministerie van Defensie</td>\n",
       "      <td>0</td>\n",
       "      <td>0</td>\n",
       "    </tr>\n",
       "    <tr>\n",
       "      <th>4</th>\n",
       "      <td>2022 1e Kwartaal</td>\n",
       "      <td>Ministerie van Economische Zaken en Klimaat</td>\n",
       "      <td>2</td>\n",
       "      <td>1</td>\n",
       "    </tr>\n",
       "    <tr>\n",
       "      <th>5</th>\n",
       "      <td>2022 1e Kwartaal</td>\n",
       "      <td>Ministerie van Financiën</td>\n",
       "      <td>1</td>\n",
       "      <td>0</td>\n",
       "    </tr>\n",
       "    <tr>\n",
       "      <th>6</th>\n",
       "      <td>2022 1e Kwartaal</td>\n",
       "      <td>Ministerie van Infrastructuur en Waterstaat</td>\n",
       "      <td>8</td>\n",
       "      <td>1</td>\n",
       "    </tr>\n",
       "    <tr>\n",
       "      <th>7</th>\n",
       "      <td>2022 1e Kwartaal</td>\n",
       "      <td>Ministerie van Justitie en Veiligheid</td>\n",
       "      <td>0</td>\n",
       "      <td>0</td>\n",
       "    </tr>\n",
       "    <tr>\n",
       "      <th>8</th>\n",
       "      <td>2022 1e Kwartaal</td>\n",
       "      <td>Ministerie van Landbouw, Natuur en Voedselkwal...</td>\n",
       "      <td>3</td>\n",
       "      <td>1</td>\n",
       "    </tr>\n",
       "    <tr>\n",
       "      <th>9</th>\n",
       "      <td>2022 1e Kwartaal</td>\n",
       "      <td>Ministerie van Onderwijs, Cultuur en Wetenschap</td>\n",
       "      <td>1</td>\n",
       "      <td>0</td>\n",
       "    </tr>\n",
       "    <tr>\n",
       "      <th>10</th>\n",
       "      <td>2022 1e Kwartaal</td>\n",
       "      <td>Ministerie van Sociale Zaken en Werkgelegenheid</td>\n",
       "      <td>7</td>\n",
       "      <td>4</td>\n",
       "    </tr>\n",
       "    <tr>\n",
       "      <th>11</th>\n",
       "      <td>2022 1e Kwartaal</td>\n",
       "      <td>Ministerie van Volksgezondheid, Welzijn en Sport</td>\n",
       "      <td>4</td>\n",
       "      <td>0</td>\n",
       "    </tr>\n",
       "    <tr>\n",
       "      <th>12</th>\n",
       "      <td>2022 2e Kwartaal</td>\n",
       "      <td>Ministerie van Algemene Zaken</td>\n",
       "      <td>0</td>\n",
       "      <td>0</td>\n",
       "    </tr>\n",
       "    <tr>\n",
       "      <th>13</th>\n",
       "      <td>2022 2e Kwartaal</td>\n",
       "      <td>Ministerie van Binnenlandse Zaken en Koninkrij...</td>\n",
       "      <td>19</td>\n",
       "      <td>1</td>\n",
       "    </tr>\n",
       "    <tr>\n",
       "      <th>14</th>\n",
       "      <td>2022 2e Kwartaal</td>\n",
       "      <td>Ministerie van Buitenlandse Zaken</td>\n",
       "      <td>9</td>\n",
       "      <td>1</td>\n",
       "    </tr>\n",
       "    <tr>\n",
       "      <th>15</th>\n",
       "      <td>2022 2e Kwartaal</td>\n",
       "      <td>Ministerie van Defensie</td>\n",
       "      <td>14</td>\n",
       "      <td>0</td>\n",
       "    </tr>\n",
       "    <tr>\n",
       "      <th>16</th>\n",
       "      <td>2022 2e Kwartaal</td>\n",
       "      <td>Ministerie van Economische Zaken en Klimaat</td>\n",
       "      <td>10</td>\n",
       "      <td>3</td>\n",
       "    </tr>\n",
       "    <tr>\n",
       "      <th>17</th>\n",
       "      <td>2022 2e Kwartaal</td>\n",
       "      <td>Ministerie van Financiën</td>\n",
       "      <td>37</td>\n",
       "      <td>4</td>\n",
       "    </tr>\n",
       "    <tr>\n",
       "      <th>18</th>\n",
       "      <td>2022 2e Kwartaal</td>\n",
       "      <td>Ministerie van Infrastructuur en Waterstaat</td>\n",
       "      <td>32</td>\n",
       "      <td>9</td>\n",
       "    </tr>\n",
       "    <tr>\n",
       "      <th>19</th>\n",
       "      <td>2022 2e Kwartaal</td>\n",
       "      <td>Ministerie van Justitie en Veiligheid</td>\n",
       "      <td>18</td>\n",
       "      <td>6</td>\n",
       "    </tr>\n",
       "    <tr>\n",
       "      <th>20</th>\n",
       "      <td>2022 2e Kwartaal</td>\n",
       "      <td>Ministerie van Landbouw, Natuur en Voedselkwal...</td>\n",
       "      <td>46</td>\n",
       "      <td>8</td>\n",
       "    </tr>\n",
       "    <tr>\n",
       "      <th>21</th>\n",
       "      <td>2022 2e Kwartaal</td>\n",
       "      <td>Ministerie van Onderwijs, Cultuur en Wetenschap</td>\n",
       "      <td>4</td>\n",
       "      <td>1</td>\n",
       "    </tr>\n",
       "    <tr>\n",
       "      <th>22</th>\n",
       "      <td>2022 2e Kwartaal</td>\n",
       "      <td>Ministerie van Sociale Zaken en Werkgelegenheid</td>\n",
       "      <td>4</td>\n",
       "      <td>3</td>\n",
       "    </tr>\n",
       "    <tr>\n",
       "      <th>23</th>\n",
       "      <td>2022 2e Kwartaal</td>\n",
       "      <td>Ministerie van Volksgezondheid, Welzijn en Sport</td>\n",
       "      <td>5</td>\n",
       "      <td>0</td>\n",
       "    </tr>\n",
       "    <tr>\n",
       "      <th>24</th>\n",
       "      <td>2022 3e Kwartaal</td>\n",
       "      <td>Ministerie van Algemene Zaken</td>\n",
       "      <td>2</td>\n",
       "      <td>1</td>\n",
       "    </tr>\n",
       "    <tr>\n",
       "      <th>25</th>\n",
       "      <td>2022 3e Kwartaal</td>\n",
       "      <td>Ministerie van Binnenlandse Zaken en Koninkrij...</td>\n",
       "      <td>25</td>\n",
       "      <td>0</td>\n",
       "    </tr>\n",
       "    <tr>\n",
       "      <th>26</th>\n",
       "      <td>2022 3e Kwartaal</td>\n",
       "      <td>Ministerie van Buitenlandse Zaken</td>\n",
       "      <td>31</td>\n",
       "      <td>1</td>\n",
       "    </tr>\n",
       "    <tr>\n",
       "      <th>27</th>\n",
       "      <td>2022 3e Kwartaal</td>\n",
       "      <td>Ministerie van Defensie</td>\n",
       "      <td>11</td>\n",
       "      <td>2</td>\n",
       "    </tr>\n",
       "    <tr>\n",
       "      <th>28</th>\n",
       "      <td>2022 3e Kwartaal</td>\n",
       "      <td>Ministerie van Economische Zaken en Klimaat</td>\n",
       "      <td>32</td>\n",
       "      <td>14</td>\n",
       "    </tr>\n",
       "    <tr>\n",
       "      <th>29</th>\n",
       "      <td>2022 3e Kwartaal</td>\n",
       "      <td>Ministerie van Financiën</td>\n",
       "      <td>36</td>\n",
       "      <td>3</td>\n",
       "    </tr>\n",
       "    <tr>\n",
       "      <th>30</th>\n",
       "      <td>2022 3e Kwartaal</td>\n",
       "      <td>Ministerie van Infrastructuur en Waterstaat</td>\n",
       "      <td>38</td>\n",
       "      <td>10</td>\n",
       "    </tr>\n",
       "    <tr>\n",
       "      <th>31</th>\n",
       "      <td>2022 3e Kwartaal</td>\n",
       "      <td>Ministerie van Justitie en Veiligheid</td>\n",
       "      <td>43</td>\n",
       "      <td>20</td>\n",
       "    </tr>\n",
       "    <tr>\n",
       "      <th>32</th>\n",
       "      <td>2022 3e Kwartaal</td>\n",
       "      <td>Ministerie van Landbouw, Natuur en Voedselkwal...</td>\n",
       "      <td>76</td>\n",
       "      <td>15</td>\n",
       "    </tr>\n",
       "    <tr>\n",
       "      <th>33</th>\n",
       "      <td>2022 3e Kwartaal</td>\n",
       "      <td>Ministerie van Onderwijs, Cultuur en Wetenschap</td>\n",
       "      <td>24</td>\n",
       "      <td>3</td>\n",
       "    </tr>\n",
       "    <tr>\n",
       "      <th>34</th>\n",
       "      <td>2022 3e Kwartaal</td>\n",
       "      <td>Ministerie van Sociale Zaken en Werkgelegenheid</td>\n",
       "      <td>10</td>\n",
       "      <td>2</td>\n",
       "    </tr>\n",
       "    <tr>\n",
       "      <th>35</th>\n",
       "      <td>2022 3e Kwartaal</td>\n",
       "      <td>Ministerie van Volksgezondheid, Welzijn en Sport</td>\n",
       "      <td>5</td>\n",
       "      <td>0</td>\n",
       "    </tr>\n",
       "    <tr>\n",
       "      <th>36</th>\n",
       "      <td>2022 4e Kwartaal</td>\n",
       "      <td>Ministerie van Algemene Zaken</td>\n",
       "      <td>1</td>\n",
       "      <td>0</td>\n",
       "    </tr>\n",
       "    <tr>\n",
       "      <th>37</th>\n",
       "      <td>2022 4e Kwartaal</td>\n",
       "      <td>Ministerie van Binnenlandse Zaken en Koninkrij...</td>\n",
       "      <td>32</td>\n",
       "      <td>0</td>\n",
       "    </tr>\n",
       "    <tr>\n",
       "      <th>38</th>\n",
       "      <td>2022 4e Kwartaal</td>\n",
       "      <td>Ministerie van Buitenlandse Zaken</td>\n",
       "      <td>16</td>\n",
       "      <td>3</td>\n",
       "    </tr>\n",
       "    <tr>\n",
       "      <th>39</th>\n",
       "      <td>2022 4e Kwartaal</td>\n",
       "      <td>Ministerie van Defensie</td>\n",
       "      <td>17</td>\n",
       "      <td>0</td>\n",
       "    </tr>\n",
       "    <tr>\n",
       "      <th>40</th>\n",
       "      <td>2022 4e Kwartaal</td>\n",
       "      <td>Ministerie van Economische Zaken en Klimaat</td>\n",
       "      <td>29</td>\n",
       "      <td>11</td>\n",
       "    </tr>\n",
       "    <tr>\n",
       "      <th>41</th>\n",
       "      <td>2022 4e Kwartaal</td>\n",
       "      <td>Ministerie van Financiën</td>\n",
       "      <td>45</td>\n",
       "      <td>2</td>\n",
       "    </tr>\n",
       "    <tr>\n",
       "      <th>42</th>\n",
       "      <td>2022 4e Kwartaal</td>\n",
       "      <td>Ministerie van Infrastructuur en Waterstaat</td>\n",
       "      <td>25</td>\n",
       "      <td>3</td>\n",
       "    </tr>\n",
       "    <tr>\n",
       "      <th>43</th>\n",
       "      <td>2022 4e Kwartaal</td>\n",
       "      <td>Ministerie van Justitie en Veiligheid</td>\n",
       "      <td>48</td>\n",
       "      <td>18</td>\n",
       "    </tr>\n",
       "    <tr>\n",
       "      <th>44</th>\n",
       "      <td>2022 4e Kwartaal</td>\n",
       "      <td>Ministerie van Landbouw, Natuur en Voedselkwal...</td>\n",
       "      <td>102</td>\n",
       "      <td>11</td>\n",
       "    </tr>\n",
       "    <tr>\n",
       "      <th>45</th>\n",
       "      <td>2022 4e Kwartaal</td>\n",
       "      <td>Ministerie van Onderwijs, Cultuur en Wetenschap</td>\n",
       "      <td>17</td>\n",
       "      <td>0</td>\n",
       "    </tr>\n",
       "    <tr>\n",
       "      <th>46</th>\n",
       "      <td>2022 4e Kwartaal</td>\n",
       "      <td>Ministerie van Sociale Zaken en Werkgelegenheid</td>\n",
       "      <td>21</td>\n",
       "      <td>3</td>\n",
       "    </tr>\n",
       "    <tr>\n",
       "      <th>47</th>\n",
       "      <td>2022 4e Kwartaal</td>\n",
       "      <td>Ministerie van Volksgezondheid, Welzijn en Sport</td>\n",
       "      <td>14</td>\n",
       "      <td>1</td>\n",
       "    </tr>\n",
       "    <tr>\n",
       "      <th>48</th>\n",
       "      <td>2023 1e Kwartaal</td>\n",
       "      <td>Ministerie van Algemene Zaken</td>\n",
       "      <td>0</td>\n",
       "      <td>0</td>\n",
       "    </tr>\n",
       "    <tr>\n",
       "      <th>49</th>\n",
       "      <td>2023 1e Kwartaal</td>\n",
       "      <td>Ministerie van Binnenlandse Zaken en Koninkrij...</td>\n",
       "      <td>20</td>\n",
       "      <td>0</td>\n",
       "    </tr>\n",
       "    <tr>\n",
       "      <th>50</th>\n",
       "      <td>2023 1e Kwartaal</td>\n",
       "      <td>Ministerie van Buitenlandse Zaken</td>\n",
       "      <td>12</td>\n",
       "      <td>0</td>\n",
       "    </tr>\n",
       "    <tr>\n",
       "      <th>51</th>\n",
       "      <td>2023 1e Kwartaal</td>\n",
       "      <td>Ministerie van Defensie</td>\n",
       "      <td>6</td>\n",
       "      <td>1</td>\n",
       "    </tr>\n",
       "    <tr>\n",
       "      <th>52</th>\n",
       "      <td>2023 1e Kwartaal</td>\n",
       "      <td>Ministerie van Economische Zaken en Klimaat</td>\n",
       "      <td>15</td>\n",
       "      <td>5</td>\n",
       "    </tr>\n",
       "    <tr>\n",
       "      <th>53</th>\n",
       "      <td>2023 1e Kwartaal</td>\n",
       "      <td>Ministerie van Financiën</td>\n",
       "      <td>31</td>\n",
       "      <td>1</td>\n",
       "    </tr>\n",
       "    <tr>\n",
       "      <th>54</th>\n",
       "      <td>2023 1e Kwartaal</td>\n",
       "      <td>Ministerie van Infrastructuur en Waterstaat</td>\n",
       "      <td>14</td>\n",
       "      <td>1</td>\n",
       "    </tr>\n",
       "    <tr>\n",
       "      <th>55</th>\n",
       "      <td>2023 1e Kwartaal</td>\n",
       "      <td>Ministerie van Justitie en Veiligheid</td>\n",
       "      <td>20</td>\n",
       "      <td>8</td>\n",
       "    </tr>\n",
       "    <tr>\n",
       "      <th>56</th>\n",
       "      <td>2023 1e Kwartaal</td>\n",
       "      <td>Ministerie van Landbouw, Natuur en Voedselkwal...</td>\n",
       "      <td>54</td>\n",
       "      <td>3</td>\n",
       "    </tr>\n",
       "    <tr>\n",
       "      <th>57</th>\n",
       "      <td>2023 1e Kwartaal</td>\n",
       "      <td>Ministerie van Onderwijs, Cultuur en Wetenschap</td>\n",
       "      <td>6</td>\n",
       "      <td>0</td>\n",
       "    </tr>\n",
       "    <tr>\n",
       "      <th>58</th>\n",
       "      <td>2023 1e Kwartaal</td>\n",
       "      <td>Ministerie van Sociale Zaken en Werkgelegenheid</td>\n",
       "      <td>6</td>\n",
       "      <td>2</td>\n",
       "    </tr>\n",
       "    <tr>\n",
       "      <th>59</th>\n",
       "      <td>2023 1e Kwartaal</td>\n",
       "      <td>Ministerie van Volksgezondheid, Welzijn en Sport</td>\n",
       "      <td>3</td>\n",
       "      <td>1</td>\n",
       "    </tr>\n",
       "  </tbody>\n",
       "</table>\n",
       "</div>"
      ],
      "text/plain": [
       "             periode                                  verantwoordelijke  \\\n",
       "0   2022 1e Kwartaal                      Ministerie van Algemene Zaken   \n",
       "1   2022 1e Kwartaal  Ministerie van Binnenlandse Zaken en Koninkrij...   \n",
       "2   2022 1e Kwartaal                  Ministerie van Buitenlandse Zaken   \n",
       "3   2022 1e Kwartaal                            Ministerie van Defensie   \n",
       "4   2022 1e Kwartaal        Ministerie van Economische Zaken en Klimaat   \n",
       "5   2022 1e Kwartaal                           Ministerie van Financiën   \n",
       "6   2022 1e Kwartaal        Ministerie van Infrastructuur en Waterstaat   \n",
       "7   2022 1e Kwartaal              Ministerie van Justitie en Veiligheid   \n",
       "8   2022 1e Kwartaal  Ministerie van Landbouw, Natuur en Voedselkwal...   \n",
       "9   2022 1e Kwartaal    Ministerie van Onderwijs, Cultuur en Wetenschap   \n",
       "10  2022 1e Kwartaal    Ministerie van Sociale Zaken en Werkgelegenheid   \n",
       "11  2022 1e Kwartaal   Ministerie van Volksgezondheid, Welzijn en Sport   \n",
       "12  2022 2e Kwartaal                      Ministerie van Algemene Zaken   \n",
       "13  2022 2e Kwartaal  Ministerie van Binnenlandse Zaken en Koninkrij...   \n",
       "14  2022 2e Kwartaal                  Ministerie van Buitenlandse Zaken   \n",
       "15  2022 2e Kwartaal                            Ministerie van Defensie   \n",
       "16  2022 2e Kwartaal        Ministerie van Economische Zaken en Klimaat   \n",
       "17  2022 2e Kwartaal                           Ministerie van Financiën   \n",
       "18  2022 2e Kwartaal        Ministerie van Infrastructuur en Waterstaat   \n",
       "19  2022 2e Kwartaal              Ministerie van Justitie en Veiligheid   \n",
       "20  2022 2e Kwartaal  Ministerie van Landbouw, Natuur en Voedselkwal...   \n",
       "21  2022 2e Kwartaal    Ministerie van Onderwijs, Cultuur en Wetenschap   \n",
       "22  2022 2e Kwartaal    Ministerie van Sociale Zaken en Werkgelegenheid   \n",
       "23  2022 2e Kwartaal   Ministerie van Volksgezondheid, Welzijn en Sport   \n",
       "24  2022 3e Kwartaal                      Ministerie van Algemene Zaken   \n",
       "25  2022 3e Kwartaal  Ministerie van Binnenlandse Zaken en Koninkrij...   \n",
       "26  2022 3e Kwartaal                  Ministerie van Buitenlandse Zaken   \n",
       "27  2022 3e Kwartaal                            Ministerie van Defensie   \n",
       "28  2022 3e Kwartaal        Ministerie van Economische Zaken en Klimaat   \n",
       "29  2022 3e Kwartaal                           Ministerie van Financiën   \n",
       "30  2022 3e Kwartaal        Ministerie van Infrastructuur en Waterstaat   \n",
       "31  2022 3e Kwartaal              Ministerie van Justitie en Veiligheid   \n",
       "32  2022 3e Kwartaal  Ministerie van Landbouw, Natuur en Voedselkwal...   \n",
       "33  2022 3e Kwartaal    Ministerie van Onderwijs, Cultuur en Wetenschap   \n",
       "34  2022 3e Kwartaal    Ministerie van Sociale Zaken en Werkgelegenheid   \n",
       "35  2022 3e Kwartaal   Ministerie van Volksgezondheid, Welzijn en Sport   \n",
       "36  2022 4e Kwartaal                      Ministerie van Algemene Zaken   \n",
       "37  2022 4e Kwartaal  Ministerie van Binnenlandse Zaken en Koninkrij...   \n",
       "38  2022 4e Kwartaal                  Ministerie van Buitenlandse Zaken   \n",
       "39  2022 4e Kwartaal                            Ministerie van Defensie   \n",
       "40  2022 4e Kwartaal        Ministerie van Economische Zaken en Klimaat   \n",
       "41  2022 4e Kwartaal                           Ministerie van Financiën   \n",
       "42  2022 4e Kwartaal        Ministerie van Infrastructuur en Waterstaat   \n",
       "43  2022 4e Kwartaal              Ministerie van Justitie en Veiligheid   \n",
       "44  2022 4e Kwartaal  Ministerie van Landbouw, Natuur en Voedselkwal...   \n",
       "45  2022 4e Kwartaal    Ministerie van Onderwijs, Cultuur en Wetenschap   \n",
       "46  2022 4e Kwartaal    Ministerie van Sociale Zaken en Werkgelegenheid   \n",
       "47  2022 4e Kwartaal   Ministerie van Volksgezondheid, Welzijn en Sport   \n",
       "48  2023 1e Kwartaal                      Ministerie van Algemene Zaken   \n",
       "49  2023 1e Kwartaal  Ministerie van Binnenlandse Zaken en Koninkrij...   \n",
       "50  2023 1e Kwartaal                  Ministerie van Buitenlandse Zaken   \n",
       "51  2023 1e Kwartaal                            Ministerie van Defensie   \n",
       "52  2023 1e Kwartaal        Ministerie van Economische Zaken en Klimaat   \n",
       "53  2023 1e Kwartaal                           Ministerie van Financiën   \n",
       "54  2023 1e Kwartaal        Ministerie van Infrastructuur en Waterstaat   \n",
       "55  2023 1e Kwartaal              Ministerie van Justitie en Veiligheid   \n",
       "56  2023 1e Kwartaal  Ministerie van Landbouw, Natuur en Voedselkwal...   \n",
       "57  2023 1e Kwartaal    Ministerie van Onderwijs, Cultuur en Wetenschap   \n",
       "58  2023 1e Kwartaal    Ministerie van Sociale Zaken en Werkgelegenheid   \n",
       "59  2023 1e Kwartaal   Ministerie van Volksgezondheid, Welzijn en Sport   \n",
       "\n",
       "    Verzoek  image  \n",
       "0         0      0  \n",
       "1         0      0  \n",
       "2         1      0  \n",
       "3         0      0  \n",
       "4         2      1  \n",
       "5         1      0  \n",
       "6         8      1  \n",
       "7         0      0  \n",
       "8         3      1  \n",
       "9         1      0  \n",
       "10        7      4  \n",
       "11        4      0  \n",
       "12        0      0  \n",
       "13       19      1  \n",
       "14        9      1  \n",
       "15       14      0  \n",
       "16       10      3  \n",
       "17       37      4  \n",
       "18       32      9  \n",
       "19       18      6  \n",
       "20       46      8  \n",
       "21        4      1  \n",
       "22        4      3  \n",
       "23        5      0  \n",
       "24        2      1  \n",
       "25       25      0  \n",
       "26       31      1  \n",
       "27       11      2  \n",
       "28       32     14  \n",
       "29       36      3  \n",
       "30       38     10  \n",
       "31       43     20  \n",
       "32       76     15  \n",
       "33       24      3  \n",
       "34       10      2  \n",
       "35        5      0  \n",
       "36        1      0  \n",
       "37       32      0  \n",
       "38       16      3  \n",
       "39       17      0  \n",
       "40       29     11  \n",
       "41       45      2  \n",
       "42       25      3  \n",
       "43       48     18  \n",
       "44      102     11  \n",
       "45       17      0  \n",
       "46       21      3  \n",
       "47       14      1  \n",
       "48        0      0  \n",
       "49       20      0  \n",
       "50       12      0  \n",
       "51        6      1  \n",
       "52       15      5  \n",
       "53       31      1  \n",
       "54       14      1  \n",
       "55       20      8  \n",
       "56       54      3  \n",
       "57        6      0  \n",
       "58        6      2  \n",
       "59        3      1  "
      ]
     },
     "metadata": {},
     "output_type": "display_data"
    }
   ],
   "source": [
    "result = dfII.copy()\n",
    "result['periode'] = result['jaar'] + ' ' + result['kwartaal']\n",
    "temp_result = result.groupby(['periode','verantwoordelijke']).count()\n",
    "temp_result['image'] = result.groupby(['periode','verantwoordelijke'])['image'].sum()\n",
    "result = temp_result\n",
    "\n",
    "result = result.drop(['docdatums', 'urls', 'verdatums', 'jaar', 'kwartaal'], axis=1)\n",
    "result = result.reset_index(level=['periode', 'verantwoordelijke'])\n",
    "result['temp'] = result.periode + ' ' + result.verantwoordelijke\n",
    "periodes = list(set(i for i in result.periode))\n",
    "vera = list(set(i for i in result.verantwoordelijke))\n",
    "temp_list = result.temp.values\n",
    "\n",
    "new_rows = []\n",
    "\n",
    "for i in periodes:\n",
    "    for n in vera:\n",
    "        value = i+' '+n\n",
    "        \n",
    "        if value not in temp_list:\n",
    "            new_rows.append([i, n, 0, 0, np.nan])\n",
    "            \n",
    "Length = len(result)\n",
    "for i in enumerate(new_rows):\n",
    "    result.loc[Length + i[0]] = i[1]\n",
    "    \n",
    "result = result.drop(['temp'], axis=1)\n",
    "\n",
    "result = result.sort_values(['periode', 'verantwoordelijke'],\n",
    "              ascending = [True, True]).reset_index()\n",
    "\n",
    "result = result.drop(['index'], axis=1)\n",
    "        \n",
    "display(result)        "
   ]
  },
  {
   "cell_type": "code",
   "execution_count": 135,
   "id": "2cc1c88a",
   "metadata": {
    "scrolled": true
   },
   "outputs": [
    {
     "data": {
      "application/vnd.plotly.v1+json": {
       "config": {
        "plotlyServerURL": "https://plot.ly"
       },
       "data": [
        {
         "alignmentgroup": "True",
         "hovertemplate": "x=%{x}<br>y=%{y}<extra></extra>",
         "legendgroup": "",
         "marker": {
          "color": "#636efa",
          "pattern": {
           "shape": ""
          }
         },
         "name": "",
         "offsetgroup": "",
         "orientation": "v",
         "showlegend": false,
         "textposition": "auto",
         "type": "bar",
         "x": [
          "Ministerie van Algemene Zaken",
          "Ministerie van Binnenlandse Zaken en Koninkrijksrelaties",
          "Ministerie van Buitenlandse Zaken",
          "Ministerie van Defensie",
          "Ministerie van Economische Zaken en Klimaat",
          "Ministerie van Financiën",
          "Ministerie van Infrastructuur en Waterstaat",
          "Ministerie van Justitie en Veiligheid",
          "Ministerie van Landbouw, Natuur en Voedselkwaliteit",
          "Ministerie van Onderwijs, Cultuur en Wetenschap",
          "Ministerie van Sociale Zaken en Werkgelegenheid",
          "Ministerie van Volksgezondheid, Welzijn en Sport"
         ],
         "xaxis": "x",
         "y": [
          0.3333333333333333,
          0.010416666666666666,
          0.07246376811594203,
          0.0625,
          0.38636363636363635,
          0.06666666666666667,
          0.20512820512820512,
          0.40310077519379844,
          0.13523131672597866,
          0.07692307692307693,
          0.2916666666666667,
          0.06451612903225806
         ],
         "yaxis": "y"
        }
       ],
       "layout": {
        "barmode": "relative",
        "legend": {
         "tracegroupgap": 0
        },
        "margin": {
         "t": 60
        },
        "template": {
         "data": {
          "bar": [
           {
            "error_x": {
             "color": "#2a3f5f"
            },
            "error_y": {
             "color": "#2a3f5f"
            },
            "marker": {
             "line": {
              "color": "#E5ECF6",
              "width": 0.5
             },
             "pattern": {
              "fillmode": "overlay",
              "size": 10,
              "solidity": 0.2
             }
            },
            "type": "bar"
           }
          ],
          "barpolar": [
           {
            "marker": {
             "line": {
              "color": "#E5ECF6",
              "width": 0.5
             },
             "pattern": {
              "fillmode": "overlay",
              "size": 10,
              "solidity": 0.2
             }
            },
            "type": "barpolar"
           }
          ],
          "carpet": [
           {
            "aaxis": {
             "endlinecolor": "#2a3f5f",
             "gridcolor": "white",
             "linecolor": "white",
             "minorgridcolor": "white",
             "startlinecolor": "#2a3f5f"
            },
            "baxis": {
             "endlinecolor": "#2a3f5f",
             "gridcolor": "white",
             "linecolor": "white",
             "minorgridcolor": "white",
             "startlinecolor": "#2a3f5f"
            },
            "type": "carpet"
           }
          ],
          "choropleth": [
           {
            "colorbar": {
             "outlinewidth": 0,
             "ticks": ""
            },
            "type": "choropleth"
           }
          ],
          "contour": [
           {
            "colorbar": {
             "outlinewidth": 0,
             "ticks": ""
            },
            "colorscale": [
             [
              0,
              "#0d0887"
             ],
             [
              0.1111111111111111,
              "#46039f"
             ],
             [
              0.2222222222222222,
              "#7201a8"
             ],
             [
              0.3333333333333333,
              "#9c179e"
             ],
             [
              0.4444444444444444,
              "#bd3786"
             ],
             [
              0.5555555555555556,
              "#d8576b"
             ],
             [
              0.6666666666666666,
              "#ed7953"
             ],
             [
              0.7777777777777778,
              "#fb9f3a"
             ],
             [
              0.8888888888888888,
              "#fdca26"
             ],
             [
              1,
              "#f0f921"
             ]
            ],
            "type": "contour"
           }
          ],
          "contourcarpet": [
           {
            "colorbar": {
             "outlinewidth": 0,
             "ticks": ""
            },
            "type": "contourcarpet"
           }
          ],
          "heatmap": [
           {
            "colorbar": {
             "outlinewidth": 0,
             "ticks": ""
            },
            "colorscale": [
             [
              0,
              "#0d0887"
             ],
             [
              0.1111111111111111,
              "#46039f"
             ],
             [
              0.2222222222222222,
              "#7201a8"
             ],
             [
              0.3333333333333333,
              "#9c179e"
             ],
             [
              0.4444444444444444,
              "#bd3786"
             ],
             [
              0.5555555555555556,
              "#d8576b"
             ],
             [
              0.6666666666666666,
              "#ed7953"
             ],
             [
              0.7777777777777778,
              "#fb9f3a"
             ],
             [
              0.8888888888888888,
              "#fdca26"
             ],
             [
              1,
              "#f0f921"
             ]
            ],
            "type": "heatmap"
           }
          ],
          "heatmapgl": [
           {
            "colorbar": {
             "outlinewidth": 0,
             "ticks": ""
            },
            "colorscale": [
             [
              0,
              "#0d0887"
             ],
             [
              0.1111111111111111,
              "#46039f"
             ],
             [
              0.2222222222222222,
              "#7201a8"
             ],
             [
              0.3333333333333333,
              "#9c179e"
             ],
             [
              0.4444444444444444,
              "#bd3786"
             ],
             [
              0.5555555555555556,
              "#d8576b"
             ],
             [
              0.6666666666666666,
              "#ed7953"
             ],
             [
              0.7777777777777778,
              "#fb9f3a"
             ],
             [
              0.8888888888888888,
              "#fdca26"
             ],
             [
              1,
              "#f0f921"
             ]
            ],
            "type": "heatmapgl"
           }
          ],
          "histogram": [
           {
            "marker": {
             "pattern": {
              "fillmode": "overlay",
              "size": 10,
              "solidity": 0.2
             }
            },
            "type": "histogram"
           }
          ],
          "histogram2d": [
           {
            "colorbar": {
             "outlinewidth": 0,
             "ticks": ""
            },
            "colorscale": [
             [
              0,
              "#0d0887"
             ],
             [
              0.1111111111111111,
              "#46039f"
             ],
             [
              0.2222222222222222,
              "#7201a8"
             ],
             [
              0.3333333333333333,
              "#9c179e"
             ],
             [
              0.4444444444444444,
              "#bd3786"
             ],
             [
              0.5555555555555556,
              "#d8576b"
             ],
             [
              0.6666666666666666,
              "#ed7953"
             ],
             [
              0.7777777777777778,
              "#fb9f3a"
             ],
             [
              0.8888888888888888,
              "#fdca26"
             ],
             [
              1,
              "#f0f921"
             ]
            ],
            "type": "histogram2d"
           }
          ],
          "histogram2dcontour": [
           {
            "colorbar": {
             "outlinewidth": 0,
             "ticks": ""
            },
            "colorscale": [
             [
              0,
              "#0d0887"
             ],
             [
              0.1111111111111111,
              "#46039f"
             ],
             [
              0.2222222222222222,
              "#7201a8"
             ],
             [
              0.3333333333333333,
              "#9c179e"
             ],
             [
              0.4444444444444444,
              "#bd3786"
             ],
             [
              0.5555555555555556,
              "#d8576b"
             ],
             [
              0.6666666666666666,
              "#ed7953"
             ],
             [
              0.7777777777777778,
              "#fb9f3a"
             ],
             [
              0.8888888888888888,
              "#fdca26"
             ],
             [
              1,
              "#f0f921"
             ]
            ],
            "type": "histogram2dcontour"
           }
          ],
          "mesh3d": [
           {
            "colorbar": {
             "outlinewidth": 0,
             "ticks": ""
            },
            "type": "mesh3d"
           }
          ],
          "parcoords": [
           {
            "line": {
             "colorbar": {
              "outlinewidth": 0,
              "ticks": ""
             }
            },
            "type": "parcoords"
           }
          ],
          "pie": [
           {
            "automargin": true,
            "type": "pie"
           }
          ],
          "scatter": [
           {
            "marker": {
             "colorbar": {
              "outlinewidth": 0,
              "ticks": ""
             }
            },
            "type": "scatter"
           }
          ],
          "scatter3d": [
           {
            "line": {
             "colorbar": {
              "outlinewidth": 0,
              "ticks": ""
             }
            },
            "marker": {
             "colorbar": {
              "outlinewidth": 0,
              "ticks": ""
             }
            },
            "type": "scatter3d"
           }
          ],
          "scattercarpet": [
           {
            "marker": {
             "colorbar": {
              "outlinewidth": 0,
              "ticks": ""
             }
            },
            "type": "scattercarpet"
           }
          ],
          "scattergeo": [
           {
            "marker": {
             "colorbar": {
              "outlinewidth": 0,
              "ticks": ""
             }
            },
            "type": "scattergeo"
           }
          ],
          "scattergl": [
           {
            "marker": {
             "colorbar": {
              "outlinewidth": 0,
              "ticks": ""
             }
            },
            "type": "scattergl"
           }
          ],
          "scattermapbox": [
           {
            "marker": {
             "colorbar": {
              "outlinewidth": 0,
              "ticks": ""
             }
            },
            "type": "scattermapbox"
           }
          ],
          "scatterpolar": [
           {
            "marker": {
             "colorbar": {
              "outlinewidth": 0,
              "ticks": ""
             }
            },
            "type": "scatterpolar"
           }
          ],
          "scatterpolargl": [
           {
            "marker": {
             "colorbar": {
              "outlinewidth": 0,
              "ticks": ""
             }
            },
            "type": "scatterpolargl"
           }
          ],
          "scatterternary": [
           {
            "marker": {
             "colorbar": {
              "outlinewidth": 0,
              "ticks": ""
             }
            },
            "type": "scatterternary"
           }
          ],
          "surface": [
           {
            "colorbar": {
             "outlinewidth": 0,
             "ticks": ""
            },
            "colorscale": [
             [
              0,
              "#0d0887"
             ],
             [
              0.1111111111111111,
              "#46039f"
             ],
             [
              0.2222222222222222,
              "#7201a8"
             ],
             [
              0.3333333333333333,
              "#9c179e"
             ],
             [
              0.4444444444444444,
              "#bd3786"
             ],
             [
              0.5555555555555556,
              "#d8576b"
             ],
             [
              0.6666666666666666,
              "#ed7953"
             ],
             [
              0.7777777777777778,
              "#fb9f3a"
             ],
             [
              0.8888888888888888,
              "#fdca26"
             ],
             [
              1,
              "#f0f921"
             ]
            ],
            "type": "surface"
           }
          ],
          "table": [
           {
            "cells": {
             "fill": {
              "color": "#EBF0F8"
             },
             "line": {
              "color": "white"
             }
            },
            "header": {
             "fill": {
              "color": "#C8D4E3"
             },
             "line": {
              "color": "white"
             }
            },
            "type": "table"
           }
          ]
         },
         "layout": {
          "annotationdefaults": {
           "arrowcolor": "#2a3f5f",
           "arrowhead": 0,
           "arrowwidth": 1
          },
          "autotypenumbers": "strict",
          "coloraxis": {
           "colorbar": {
            "outlinewidth": 0,
            "ticks": ""
           }
          },
          "colorscale": {
           "diverging": [
            [
             0,
             "#8e0152"
            ],
            [
             0.1,
             "#c51b7d"
            ],
            [
             0.2,
             "#de77ae"
            ],
            [
             0.3,
             "#f1b6da"
            ],
            [
             0.4,
             "#fde0ef"
            ],
            [
             0.5,
             "#f7f7f7"
            ],
            [
             0.6,
             "#e6f5d0"
            ],
            [
             0.7,
             "#b8e186"
            ],
            [
             0.8,
             "#7fbc41"
            ],
            [
             0.9,
             "#4d9221"
            ],
            [
             1,
             "#276419"
            ]
           ],
           "sequential": [
            [
             0,
             "#0d0887"
            ],
            [
             0.1111111111111111,
             "#46039f"
            ],
            [
             0.2222222222222222,
             "#7201a8"
            ],
            [
             0.3333333333333333,
             "#9c179e"
            ],
            [
             0.4444444444444444,
             "#bd3786"
            ],
            [
             0.5555555555555556,
             "#d8576b"
            ],
            [
             0.6666666666666666,
             "#ed7953"
            ],
            [
             0.7777777777777778,
             "#fb9f3a"
            ],
            [
             0.8888888888888888,
             "#fdca26"
            ],
            [
             1,
             "#f0f921"
            ]
           ],
           "sequentialminus": [
            [
             0,
             "#0d0887"
            ],
            [
             0.1111111111111111,
             "#46039f"
            ],
            [
             0.2222222222222222,
             "#7201a8"
            ],
            [
             0.3333333333333333,
             "#9c179e"
            ],
            [
             0.4444444444444444,
             "#bd3786"
            ],
            [
             0.5555555555555556,
             "#d8576b"
            ],
            [
             0.6666666666666666,
             "#ed7953"
            ],
            [
             0.7777777777777778,
             "#fb9f3a"
            ],
            [
             0.8888888888888888,
             "#fdca26"
            ],
            [
             1,
             "#f0f921"
            ]
           ]
          },
          "colorway": [
           "#636efa",
           "#EF553B",
           "#00cc96",
           "#ab63fa",
           "#FFA15A",
           "#19d3f3",
           "#FF6692",
           "#B6E880",
           "#FF97FF",
           "#FECB52"
          ],
          "font": {
           "color": "#2a3f5f"
          },
          "geo": {
           "bgcolor": "white",
           "lakecolor": "white",
           "landcolor": "#E5ECF6",
           "showlakes": true,
           "showland": true,
           "subunitcolor": "white"
          },
          "hoverlabel": {
           "align": "left"
          },
          "hovermode": "closest",
          "mapbox": {
           "style": "light"
          },
          "paper_bgcolor": "white",
          "plot_bgcolor": "#E5ECF6",
          "polar": {
           "angularaxis": {
            "gridcolor": "white",
            "linecolor": "white",
            "ticks": ""
           },
           "bgcolor": "#E5ECF6",
           "radialaxis": {
            "gridcolor": "white",
            "linecolor": "white",
            "ticks": ""
           }
          },
          "scene": {
           "xaxis": {
            "backgroundcolor": "#E5ECF6",
            "gridcolor": "white",
            "gridwidth": 2,
            "linecolor": "white",
            "showbackground": true,
            "ticks": "",
            "zerolinecolor": "white"
           },
           "yaxis": {
            "backgroundcolor": "#E5ECF6",
            "gridcolor": "white",
            "gridwidth": 2,
            "linecolor": "white",
            "showbackground": true,
            "ticks": "",
            "zerolinecolor": "white"
           },
           "zaxis": {
            "backgroundcolor": "#E5ECF6",
            "gridcolor": "white",
            "gridwidth": 2,
            "linecolor": "white",
            "showbackground": true,
            "ticks": "",
            "zerolinecolor": "white"
           }
          },
          "shapedefaults": {
           "line": {
            "color": "#2a3f5f"
           }
          },
          "ternary": {
           "aaxis": {
            "gridcolor": "white",
            "linecolor": "white",
            "ticks": ""
           },
           "baxis": {
            "gridcolor": "white",
            "linecolor": "white",
            "ticks": ""
           },
           "bgcolor": "#E5ECF6",
           "caxis": {
            "gridcolor": "white",
            "linecolor": "white",
            "ticks": ""
           }
          },
          "title": {
           "x": 0.05
          },
          "xaxis": {
           "automargin": true,
           "gridcolor": "white",
           "linecolor": "white",
           "ticks": "",
           "title": {
            "standoff": 15
           },
           "zerolinecolor": "white",
           "zerolinewidth": 2
          },
          "yaxis": {
           "automargin": true,
           "gridcolor": "white",
           "linecolor": "white",
           "ticks": "",
           "title": {
            "standoff": 15
           },
           "zerolinecolor": "white",
           "zerolinewidth": 2
          }
         }
        },
        "xaxis": {
         "anchor": "y",
         "domain": [
          0,
          1
         ],
         "title": {
          "text": "x"
         }
        },
        "yaxis": {
         "anchor": "x",
         "domain": [
          0,
          1
         ],
         "title": {
          "text": "y"
         }
        }
       }
      },
      "text/html": [
       "<div>                            <div id=\"ba80f93a-5cd6-483a-834c-8c5a238bce5e\" class=\"plotly-graph-div\" style=\"height:525px; width:100%;\"></div>            <script type=\"text/javascript\">                require([\"plotly\"], function(Plotly) {                    window.PLOTLYENV=window.PLOTLYENV || {};                                    if (document.getElementById(\"ba80f93a-5cd6-483a-834c-8c5a238bce5e\")) {                    Plotly.newPlot(                        \"ba80f93a-5cd6-483a-834c-8c5a238bce5e\",                        [{\"alignmentgroup\":\"True\",\"hovertemplate\":\"x=%{x}<br>y=%{y}<extra></extra>\",\"legendgroup\":\"\",\"marker\":{\"color\":\"#636efa\",\"pattern\":{\"shape\":\"\"}},\"name\":\"\",\"offsetgroup\":\"\",\"orientation\":\"v\",\"showlegend\":false,\"textposition\":\"auto\",\"x\":[\"Ministerie van Algemene Zaken\",\"Ministerie van Binnenlandse Zaken en Koninkrijksrelaties\",\"Ministerie van Buitenlandse Zaken\",\"Ministerie van Defensie\",\"Ministerie van Economische Zaken en Klimaat\",\"Ministerie van Financi\\u00ebn\",\"Ministerie van Infrastructuur en Waterstaat\",\"Ministerie van Justitie en Veiligheid\",\"Ministerie van Landbouw, Natuur en Voedselkwaliteit\",\"Ministerie van Onderwijs, Cultuur en Wetenschap\",\"Ministerie van Sociale Zaken en Werkgelegenheid\",\"Ministerie van Volksgezondheid, Welzijn en Sport\"],\"xaxis\":\"x\",\"y\":[0.3333333333333333,0.010416666666666666,0.07246376811594203,0.0625,0.38636363636363635,0.06666666666666667,0.20512820512820512,0.40310077519379844,0.13523131672597866,0.07692307692307693,0.2916666666666667,0.06451612903225806],\"yaxis\":\"y\",\"type\":\"bar\"}],                        {\"template\":{\"data\":{\"bar\":[{\"error_x\":{\"color\":\"#2a3f5f\"},\"error_y\":{\"color\":\"#2a3f5f\"},\"marker\":{\"line\":{\"color\":\"#E5ECF6\",\"width\":0.5},\"pattern\":{\"fillmode\":\"overlay\",\"size\":10,\"solidity\":0.2}},\"type\":\"bar\"}],\"barpolar\":[{\"marker\":{\"line\":{\"color\":\"#E5ECF6\",\"width\":0.5},\"pattern\":{\"fillmode\":\"overlay\",\"size\":10,\"solidity\":0.2}},\"type\":\"barpolar\"}],\"carpet\":[{\"aaxis\":{\"endlinecolor\":\"#2a3f5f\",\"gridcolor\":\"white\",\"linecolor\":\"white\",\"minorgridcolor\":\"white\",\"startlinecolor\":\"#2a3f5f\"},\"baxis\":{\"endlinecolor\":\"#2a3f5f\",\"gridcolor\":\"white\",\"linecolor\":\"white\",\"minorgridcolor\":\"white\",\"startlinecolor\":\"#2a3f5f\"},\"type\":\"carpet\"}],\"choropleth\":[{\"colorbar\":{\"outlinewidth\":0,\"ticks\":\"\"},\"type\":\"choropleth\"}],\"contour\":[{\"colorbar\":{\"outlinewidth\":0,\"ticks\":\"\"},\"colorscale\":[[0.0,\"#0d0887\"],[0.1111111111111111,\"#46039f\"],[0.2222222222222222,\"#7201a8\"],[0.3333333333333333,\"#9c179e\"],[0.4444444444444444,\"#bd3786\"],[0.5555555555555556,\"#d8576b\"],[0.6666666666666666,\"#ed7953\"],[0.7777777777777778,\"#fb9f3a\"],[0.8888888888888888,\"#fdca26\"],[1.0,\"#f0f921\"]],\"type\":\"contour\"}],\"contourcarpet\":[{\"colorbar\":{\"outlinewidth\":0,\"ticks\":\"\"},\"type\":\"contourcarpet\"}],\"heatmap\":[{\"colorbar\":{\"outlinewidth\":0,\"ticks\":\"\"},\"colorscale\":[[0.0,\"#0d0887\"],[0.1111111111111111,\"#46039f\"],[0.2222222222222222,\"#7201a8\"],[0.3333333333333333,\"#9c179e\"],[0.4444444444444444,\"#bd3786\"],[0.5555555555555556,\"#d8576b\"],[0.6666666666666666,\"#ed7953\"],[0.7777777777777778,\"#fb9f3a\"],[0.8888888888888888,\"#fdca26\"],[1.0,\"#f0f921\"]],\"type\":\"heatmap\"}],\"heatmapgl\":[{\"colorbar\":{\"outlinewidth\":0,\"ticks\":\"\"},\"colorscale\":[[0.0,\"#0d0887\"],[0.1111111111111111,\"#46039f\"],[0.2222222222222222,\"#7201a8\"],[0.3333333333333333,\"#9c179e\"],[0.4444444444444444,\"#bd3786\"],[0.5555555555555556,\"#d8576b\"],[0.6666666666666666,\"#ed7953\"],[0.7777777777777778,\"#fb9f3a\"],[0.8888888888888888,\"#fdca26\"],[1.0,\"#f0f921\"]],\"type\":\"heatmapgl\"}],\"histogram\":[{\"marker\":{\"pattern\":{\"fillmode\":\"overlay\",\"size\":10,\"solidity\":0.2}},\"type\":\"histogram\"}],\"histogram2d\":[{\"colorbar\":{\"outlinewidth\":0,\"ticks\":\"\"},\"colorscale\":[[0.0,\"#0d0887\"],[0.1111111111111111,\"#46039f\"],[0.2222222222222222,\"#7201a8\"],[0.3333333333333333,\"#9c179e\"],[0.4444444444444444,\"#bd3786\"],[0.5555555555555556,\"#d8576b\"],[0.6666666666666666,\"#ed7953\"],[0.7777777777777778,\"#fb9f3a\"],[0.8888888888888888,\"#fdca26\"],[1.0,\"#f0f921\"]],\"type\":\"histogram2d\"}],\"histogram2dcontour\":[{\"colorbar\":{\"outlinewidth\":0,\"ticks\":\"\"},\"colorscale\":[[0.0,\"#0d0887\"],[0.1111111111111111,\"#46039f\"],[0.2222222222222222,\"#7201a8\"],[0.3333333333333333,\"#9c179e\"],[0.4444444444444444,\"#bd3786\"],[0.5555555555555556,\"#d8576b\"],[0.6666666666666666,\"#ed7953\"],[0.7777777777777778,\"#fb9f3a\"],[0.8888888888888888,\"#fdca26\"],[1.0,\"#f0f921\"]],\"type\":\"histogram2dcontour\"}],\"mesh3d\":[{\"colorbar\":{\"outlinewidth\":0,\"ticks\":\"\"},\"type\":\"mesh3d\"}],\"parcoords\":[{\"line\":{\"colorbar\":{\"outlinewidth\":0,\"ticks\":\"\"}},\"type\":\"parcoords\"}],\"pie\":[{\"automargin\":true,\"type\":\"pie\"}],\"scatter\":[{\"marker\":{\"colorbar\":{\"outlinewidth\":0,\"ticks\":\"\"}},\"type\":\"scatter\"}],\"scatter3d\":[{\"line\":{\"colorbar\":{\"outlinewidth\":0,\"ticks\":\"\"}},\"marker\":{\"colorbar\":{\"outlinewidth\":0,\"ticks\":\"\"}},\"type\":\"scatter3d\"}],\"scattercarpet\":[{\"marker\":{\"colorbar\":{\"outlinewidth\":0,\"ticks\":\"\"}},\"type\":\"scattercarpet\"}],\"scattergeo\":[{\"marker\":{\"colorbar\":{\"outlinewidth\":0,\"ticks\":\"\"}},\"type\":\"scattergeo\"}],\"scattergl\":[{\"marker\":{\"colorbar\":{\"outlinewidth\":0,\"ticks\":\"\"}},\"type\":\"scattergl\"}],\"scattermapbox\":[{\"marker\":{\"colorbar\":{\"outlinewidth\":0,\"ticks\":\"\"}},\"type\":\"scattermapbox\"}],\"scatterpolar\":[{\"marker\":{\"colorbar\":{\"outlinewidth\":0,\"ticks\":\"\"}},\"type\":\"scatterpolar\"}],\"scatterpolargl\":[{\"marker\":{\"colorbar\":{\"outlinewidth\":0,\"ticks\":\"\"}},\"type\":\"scatterpolargl\"}],\"scatterternary\":[{\"marker\":{\"colorbar\":{\"outlinewidth\":0,\"ticks\":\"\"}},\"type\":\"scatterternary\"}],\"surface\":[{\"colorbar\":{\"outlinewidth\":0,\"ticks\":\"\"},\"colorscale\":[[0.0,\"#0d0887\"],[0.1111111111111111,\"#46039f\"],[0.2222222222222222,\"#7201a8\"],[0.3333333333333333,\"#9c179e\"],[0.4444444444444444,\"#bd3786\"],[0.5555555555555556,\"#d8576b\"],[0.6666666666666666,\"#ed7953\"],[0.7777777777777778,\"#fb9f3a\"],[0.8888888888888888,\"#fdca26\"],[1.0,\"#f0f921\"]],\"type\":\"surface\"}],\"table\":[{\"cells\":{\"fill\":{\"color\":\"#EBF0F8\"},\"line\":{\"color\":\"white\"}},\"header\":{\"fill\":{\"color\":\"#C8D4E3\"},\"line\":{\"color\":\"white\"}},\"type\":\"table\"}]},\"layout\":{\"annotationdefaults\":{\"arrowcolor\":\"#2a3f5f\",\"arrowhead\":0,\"arrowwidth\":1},\"autotypenumbers\":\"strict\",\"coloraxis\":{\"colorbar\":{\"outlinewidth\":0,\"ticks\":\"\"}},\"colorscale\":{\"diverging\":[[0,\"#8e0152\"],[0.1,\"#c51b7d\"],[0.2,\"#de77ae\"],[0.3,\"#f1b6da\"],[0.4,\"#fde0ef\"],[0.5,\"#f7f7f7\"],[0.6,\"#e6f5d0\"],[0.7,\"#b8e186\"],[0.8,\"#7fbc41\"],[0.9,\"#4d9221\"],[1,\"#276419\"]],\"sequential\":[[0.0,\"#0d0887\"],[0.1111111111111111,\"#46039f\"],[0.2222222222222222,\"#7201a8\"],[0.3333333333333333,\"#9c179e\"],[0.4444444444444444,\"#bd3786\"],[0.5555555555555556,\"#d8576b\"],[0.6666666666666666,\"#ed7953\"],[0.7777777777777778,\"#fb9f3a\"],[0.8888888888888888,\"#fdca26\"],[1.0,\"#f0f921\"]],\"sequentialminus\":[[0.0,\"#0d0887\"],[0.1111111111111111,\"#46039f\"],[0.2222222222222222,\"#7201a8\"],[0.3333333333333333,\"#9c179e\"],[0.4444444444444444,\"#bd3786\"],[0.5555555555555556,\"#d8576b\"],[0.6666666666666666,\"#ed7953\"],[0.7777777777777778,\"#fb9f3a\"],[0.8888888888888888,\"#fdca26\"],[1.0,\"#f0f921\"]]},\"colorway\":[\"#636efa\",\"#EF553B\",\"#00cc96\",\"#ab63fa\",\"#FFA15A\",\"#19d3f3\",\"#FF6692\",\"#B6E880\",\"#FF97FF\",\"#FECB52\"],\"font\":{\"color\":\"#2a3f5f\"},\"geo\":{\"bgcolor\":\"white\",\"lakecolor\":\"white\",\"landcolor\":\"#E5ECF6\",\"showlakes\":true,\"showland\":true,\"subunitcolor\":\"white\"},\"hoverlabel\":{\"align\":\"left\"},\"hovermode\":\"closest\",\"mapbox\":{\"style\":\"light\"},\"paper_bgcolor\":\"white\",\"plot_bgcolor\":\"#E5ECF6\",\"polar\":{\"angularaxis\":{\"gridcolor\":\"white\",\"linecolor\":\"white\",\"ticks\":\"\"},\"bgcolor\":\"#E5ECF6\",\"radialaxis\":{\"gridcolor\":\"white\",\"linecolor\":\"white\",\"ticks\":\"\"}},\"scene\":{\"xaxis\":{\"backgroundcolor\":\"#E5ECF6\",\"gridcolor\":\"white\",\"gridwidth\":2,\"linecolor\":\"white\",\"showbackground\":true,\"ticks\":\"\",\"zerolinecolor\":\"white\"},\"yaxis\":{\"backgroundcolor\":\"#E5ECF6\",\"gridcolor\":\"white\",\"gridwidth\":2,\"linecolor\":\"white\",\"showbackground\":true,\"ticks\":\"\",\"zerolinecolor\":\"white\"},\"zaxis\":{\"backgroundcolor\":\"#E5ECF6\",\"gridcolor\":\"white\",\"gridwidth\":2,\"linecolor\":\"white\",\"showbackground\":true,\"ticks\":\"\",\"zerolinecolor\":\"white\"}},\"shapedefaults\":{\"line\":{\"color\":\"#2a3f5f\"}},\"ternary\":{\"aaxis\":{\"gridcolor\":\"white\",\"linecolor\":\"white\",\"ticks\":\"\"},\"baxis\":{\"gridcolor\":\"white\",\"linecolor\":\"white\",\"ticks\":\"\"},\"bgcolor\":\"#E5ECF6\",\"caxis\":{\"gridcolor\":\"white\",\"linecolor\":\"white\",\"ticks\":\"\"}},\"title\":{\"x\":0.05},\"xaxis\":{\"automargin\":true,\"gridcolor\":\"white\",\"linecolor\":\"white\",\"ticks\":\"\",\"title\":{\"standoff\":15},\"zerolinecolor\":\"white\",\"zerolinewidth\":2},\"yaxis\":{\"automargin\":true,\"gridcolor\":\"white\",\"linecolor\":\"white\",\"ticks\":\"\",\"title\":{\"standoff\":15},\"zerolinecolor\":\"white\",\"zerolinewidth\":2}}},\"xaxis\":{\"anchor\":\"y\",\"domain\":[0.0,1.0],\"title\":{\"text\":\"x\"}},\"yaxis\":{\"anchor\":\"x\",\"domain\":[0.0,1.0],\"title\":{\"text\":\"y\"}},\"legend\":{\"tracegroupgap\":0},\"margin\":{\"t\":60},\"barmode\":\"relative\"},                        {\"responsive\": true}                    ).then(function(){\n",
       "                            \n",
       "var gd = document.getElementById('ba80f93a-5cd6-483a-834c-8c5a238bce5e');\n",
       "var x = new MutationObserver(function (mutations, observer) {{\n",
       "        var display = window.getComputedStyle(gd).display;\n",
       "        if (!display || display === 'none') {{\n",
       "            console.log([gd, 'removed!']);\n",
       "            Plotly.purge(gd);\n",
       "            observer.disconnect();\n",
       "        }}\n",
       "}});\n",
       "\n",
       "// Listen for the removal of the full notebook cells\n",
       "var notebookContainer = gd.closest('#notebook-container');\n",
       "if (notebookContainer) {{\n",
       "    x.observe(notebookContainer, {childList: true});\n",
       "}}\n",
       "\n",
       "// Listen for the clearing of the current output cell\n",
       "var outputEl = gd.closest('.output');\n",
       "if (outputEl) {{\n",
       "    x.observe(outputEl, {childList: true});\n",
       "}}\n",
       "\n",
       "                        })                };                });            </script>        </div>"
      ]
     },
     "metadata": {},
     "output_type": "display_data"
    }
   ],
   "source": [
    "fig = px.bar(x=dfIII.verantwoordelijke, y=dfIII.image)\n",
    "fig.show()"
   ]
  },
  {
   "cell_type": "code",
   "execution_count": 136,
   "id": "68edf3e9",
   "metadata": {},
   "outputs": [
    {
     "data": {
      "text/html": [
       "<div>\n",
       "<style scoped>\n",
       "    .dataframe tbody tr th:only-of-type {\n",
       "        vertical-align: middle;\n",
       "    }\n",
       "\n",
       "    .dataframe tbody tr th {\n",
       "        vertical-align: top;\n",
       "    }\n",
       "\n",
       "    .dataframe thead th {\n",
       "        text-align: right;\n",
       "    }\n",
       "</style>\n",
       "<table border=\"1\" class=\"dataframe\">\n",
       "  <thead>\n",
       "    <tr style=\"text-align: right;\">\n",
       "      <th></th>\n",
       "      <th>periode</th>\n",
       "      <th>verantwoordelijke</th>\n",
       "      <th>Verzoek</th>\n",
       "      <th>image</th>\n",
       "      <th>pdf</th>\n",
       "    </tr>\n",
       "  </thead>\n",
       "  <tbody>\n",
       "    <tr>\n",
       "      <th>0</th>\n",
       "      <td>2022 1e Kwartaal</td>\n",
       "      <td>Ministerie van Algemene Zaken</td>\n",
       "      <td>0</td>\n",
       "      <td>0</td>\n",
       "      <td>0</td>\n",
       "    </tr>\n",
       "    <tr>\n",
       "      <th>1</th>\n",
       "      <td>2022 1e Kwartaal</td>\n",
       "      <td>Ministerie van Binnenlandse Zaken en Koninkrij...</td>\n",
       "      <td>0</td>\n",
       "      <td>0</td>\n",
       "      <td>0</td>\n",
       "    </tr>\n",
       "    <tr>\n",
       "      <th>2</th>\n",
       "      <td>2022 1e Kwartaal</td>\n",
       "      <td>Ministerie van Buitenlandse Zaken</td>\n",
       "      <td>1</td>\n",
       "      <td>0</td>\n",
       "      <td>1</td>\n",
       "    </tr>\n",
       "    <tr>\n",
       "      <th>3</th>\n",
       "      <td>2022 1e Kwartaal</td>\n",
       "      <td>Ministerie van Defensie</td>\n",
       "      <td>0</td>\n",
       "      <td>0</td>\n",
       "      <td>0</td>\n",
       "    </tr>\n",
       "    <tr>\n",
       "      <th>4</th>\n",
       "      <td>2022 1e Kwartaal</td>\n",
       "      <td>Ministerie van Economische Zaken en Klimaat</td>\n",
       "      <td>2</td>\n",
       "      <td>1</td>\n",
       "      <td>1</td>\n",
       "    </tr>\n",
       "    <tr>\n",
       "      <th>5</th>\n",
       "      <td>2022 1e Kwartaal</td>\n",
       "      <td>Ministerie van Financiën</td>\n",
       "      <td>1</td>\n",
       "      <td>0</td>\n",
       "      <td>1</td>\n",
       "    </tr>\n",
       "    <tr>\n",
       "      <th>6</th>\n",
       "      <td>2022 1e Kwartaal</td>\n",
       "      <td>Ministerie van Infrastructuur en Waterstaat</td>\n",
       "      <td>8</td>\n",
       "      <td>1</td>\n",
       "      <td>7</td>\n",
       "    </tr>\n",
       "    <tr>\n",
       "      <th>7</th>\n",
       "      <td>2022 1e Kwartaal</td>\n",
       "      <td>Ministerie van Justitie en Veiligheid</td>\n",
       "      <td>0</td>\n",
       "      <td>0</td>\n",
       "      <td>0</td>\n",
       "    </tr>\n",
       "    <tr>\n",
       "      <th>8</th>\n",
       "      <td>2022 1e Kwartaal</td>\n",
       "      <td>Ministerie van Landbouw, Natuur en Voedselkwal...</td>\n",
       "      <td>3</td>\n",
       "      <td>1</td>\n",
       "      <td>2</td>\n",
       "    </tr>\n",
       "    <tr>\n",
       "      <th>9</th>\n",
       "      <td>2022 1e Kwartaal</td>\n",
       "      <td>Ministerie van Onderwijs, Cultuur en Wetenschap</td>\n",
       "      <td>1</td>\n",
       "      <td>0</td>\n",
       "      <td>1</td>\n",
       "    </tr>\n",
       "    <tr>\n",
       "      <th>10</th>\n",
       "      <td>2022 1e Kwartaal</td>\n",
       "      <td>Ministerie van Sociale Zaken en Werkgelegenheid</td>\n",
       "      <td>7</td>\n",
       "      <td>4</td>\n",
       "      <td>3</td>\n",
       "    </tr>\n",
       "    <tr>\n",
       "      <th>11</th>\n",
       "      <td>2022 1e Kwartaal</td>\n",
       "      <td>Ministerie van Volksgezondheid, Welzijn en Sport</td>\n",
       "      <td>4</td>\n",
       "      <td>0</td>\n",
       "      <td>4</td>\n",
       "    </tr>\n",
       "    <tr>\n",
       "      <th>12</th>\n",
       "      <td>2022 2e Kwartaal</td>\n",
       "      <td>Ministerie van Algemene Zaken</td>\n",
       "      <td>0</td>\n",
       "      <td>0</td>\n",
       "      <td>0</td>\n",
       "    </tr>\n",
       "    <tr>\n",
       "      <th>13</th>\n",
       "      <td>2022 2e Kwartaal</td>\n",
       "      <td>Ministerie van Binnenlandse Zaken en Koninkrij...</td>\n",
       "      <td>19</td>\n",
       "      <td>1</td>\n",
       "      <td>18</td>\n",
       "    </tr>\n",
       "    <tr>\n",
       "      <th>14</th>\n",
       "      <td>2022 2e Kwartaal</td>\n",
       "      <td>Ministerie van Buitenlandse Zaken</td>\n",
       "      <td>9</td>\n",
       "      <td>1</td>\n",
       "      <td>8</td>\n",
       "    </tr>\n",
       "    <tr>\n",
       "      <th>15</th>\n",
       "      <td>2022 2e Kwartaal</td>\n",
       "      <td>Ministerie van Defensie</td>\n",
       "      <td>14</td>\n",
       "      <td>0</td>\n",
       "      <td>14</td>\n",
       "    </tr>\n",
       "    <tr>\n",
       "      <th>16</th>\n",
       "      <td>2022 2e Kwartaal</td>\n",
       "      <td>Ministerie van Economische Zaken en Klimaat</td>\n",
       "      <td>10</td>\n",
       "      <td>3</td>\n",
       "      <td>7</td>\n",
       "    </tr>\n",
       "    <tr>\n",
       "      <th>17</th>\n",
       "      <td>2022 2e Kwartaal</td>\n",
       "      <td>Ministerie van Financiën</td>\n",
       "      <td>37</td>\n",
       "      <td>4</td>\n",
       "      <td>33</td>\n",
       "    </tr>\n",
       "    <tr>\n",
       "      <th>18</th>\n",
       "      <td>2022 2e Kwartaal</td>\n",
       "      <td>Ministerie van Infrastructuur en Waterstaat</td>\n",
       "      <td>32</td>\n",
       "      <td>9</td>\n",
       "      <td>23</td>\n",
       "    </tr>\n",
       "    <tr>\n",
       "      <th>19</th>\n",
       "      <td>2022 2e Kwartaal</td>\n",
       "      <td>Ministerie van Justitie en Veiligheid</td>\n",
       "      <td>18</td>\n",
       "      <td>6</td>\n",
       "      <td>12</td>\n",
       "    </tr>\n",
       "    <tr>\n",
       "      <th>20</th>\n",
       "      <td>2022 2e Kwartaal</td>\n",
       "      <td>Ministerie van Landbouw, Natuur en Voedselkwal...</td>\n",
       "      <td>46</td>\n",
       "      <td>8</td>\n",
       "      <td>38</td>\n",
       "    </tr>\n",
       "    <tr>\n",
       "      <th>21</th>\n",
       "      <td>2022 2e Kwartaal</td>\n",
       "      <td>Ministerie van Onderwijs, Cultuur en Wetenschap</td>\n",
       "      <td>4</td>\n",
       "      <td>1</td>\n",
       "      <td>3</td>\n",
       "    </tr>\n",
       "    <tr>\n",
       "      <th>22</th>\n",
       "      <td>2022 2e Kwartaal</td>\n",
       "      <td>Ministerie van Sociale Zaken en Werkgelegenheid</td>\n",
       "      <td>4</td>\n",
       "      <td>3</td>\n",
       "      <td>1</td>\n",
       "    </tr>\n",
       "    <tr>\n",
       "      <th>23</th>\n",
       "      <td>2022 2e Kwartaal</td>\n",
       "      <td>Ministerie van Volksgezondheid, Welzijn en Sport</td>\n",
       "      <td>5</td>\n",
       "      <td>0</td>\n",
       "      <td>5</td>\n",
       "    </tr>\n",
       "    <tr>\n",
       "      <th>24</th>\n",
       "      <td>2022 3e Kwartaal</td>\n",
       "      <td>Ministerie van Algemene Zaken</td>\n",
       "      <td>2</td>\n",
       "      <td>1</td>\n",
       "      <td>1</td>\n",
       "    </tr>\n",
       "    <tr>\n",
       "      <th>25</th>\n",
       "      <td>2022 3e Kwartaal</td>\n",
       "      <td>Ministerie van Binnenlandse Zaken en Koninkrij...</td>\n",
       "      <td>25</td>\n",
       "      <td>0</td>\n",
       "      <td>25</td>\n",
       "    </tr>\n",
       "    <tr>\n",
       "      <th>26</th>\n",
       "      <td>2022 3e Kwartaal</td>\n",
       "      <td>Ministerie van Buitenlandse Zaken</td>\n",
       "      <td>31</td>\n",
       "      <td>1</td>\n",
       "      <td>30</td>\n",
       "    </tr>\n",
       "    <tr>\n",
       "      <th>27</th>\n",
       "      <td>2022 3e Kwartaal</td>\n",
       "      <td>Ministerie van Defensie</td>\n",
       "      <td>11</td>\n",
       "      <td>2</td>\n",
       "      <td>9</td>\n",
       "    </tr>\n",
       "    <tr>\n",
       "      <th>28</th>\n",
       "      <td>2022 3e Kwartaal</td>\n",
       "      <td>Ministerie van Economische Zaken en Klimaat</td>\n",
       "      <td>32</td>\n",
       "      <td>14</td>\n",
       "      <td>18</td>\n",
       "    </tr>\n",
       "    <tr>\n",
       "      <th>29</th>\n",
       "      <td>2022 3e Kwartaal</td>\n",
       "      <td>Ministerie van Financiën</td>\n",
       "      <td>36</td>\n",
       "      <td>3</td>\n",
       "      <td>33</td>\n",
       "    </tr>\n",
       "    <tr>\n",
       "      <th>30</th>\n",
       "      <td>2022 3e Kwartaal</td>\n",
       "      <td>Ministerie van Infrastructuur en Waterstaat</td>\n",
       "      <td>38</td>\n",
       "      <td>10</td>\n",
       "      <td>28</td>\n",
       "    </tr>\n",
       "    <tr>\n",
       "      <th>31</th>\n",
       "      <td>2022 3e Kwartaal</td>\n",
       "      <td>Ministerie van Justitie en Veiligheid</td>\n",
       "      <td>43</td>\n",
       "      <td>20</td>\n",
       "      <td>23</td>\n",
       "    </tr>\n",
       "    <tr>\n",
       "      <th>32</th>\n",
       "      <td>2022 3e Kwartaal</td>\n",
       "      <td>Ministerie van Landbouw, Natuur en Voedselkwal...</td>\n",
       "      <td>76</td>\n",
       "      <td>15</td>\n",
       "      <td>61</td>\n",
       "    </tr>\n",
       "    <tr>\n",
       "      <th>33</th>\n",
       "      <td>2022 3e Kwartaal</td>\n",
       "      <td>Ministerie van Onderwijs, Cultuur en Wetenschap</td>\n",
       "      <td>24</td>\n",
       "      <td>3</td>\n",
       "      <td>21</td>\n",
       "    </tr>\n",
       "    <tr>\n",
       "      <th>34</th>\n",
       "      <td>2022 3e Kwartaal</td>\n",
       "      <td>Ministerie van Sociale Zaken en Werkgelegenheid</td>\n",
       "      <td>10</td>\n",
       "      <td>2</td>\n",
       "      <td>8</td>\n",
       "    </tr>\n",
       "    <tr>\n",
       "      <th>35</th>\n",
       "      <td>2022 3e Kwartaal</td>\n",
       "      <td>Ministerie van Volksgezondheid, Welzijn en Sport</td>\n",
       "      <td>5</td>\n",
       "      <td>0</td>\n",
       "      <td>5</td>\n",
       "    </tr>\n",
       "    <tr>\n",
       "      <th>36</th>\n",
       "      <td>2022 4e Kwartaal</td>\n",
       "      <td>Ministerie van Algemene Zaken</td>\n",
       "      <td>1</td>\n",
       "      <td>0</td>\n",
       "      <td>1</td>\n",
       "    </tr>\n",
       "    <tr>\n",
       "      <th>37</th>\n",
       "      <td>2022 4e Kwartaal</td>\n",
       "      <td>Ministerie van Binnenlandse Zaken en Koninkrij...</td>\n",
       "      <td>32</td>\n",
       "      <td>0</td>\n",
       "      <td>32</td>\n",
       "    </tr>\n",
       "    <tr>\n",
       "      <th>38</th>\n",
       "      <td>2022 4e Kwartaal</td>\n",
       "      <td>Ministerie van Buitenlandse Zaken</td>\n",
       "      <td>16</td>\n",
       "      <td>3</td>\n",
       "      <td>13</td>\n",
       "    </tr>\n",
       "    <tr>\n",
       "      <th>39</th>\n",
       "      <td>2022 4e Kwartaal</td>\n",
       "      <td>Ministerie van Defensie</td>\n",
       "      <td>17</td>\n",
       "      <td>0</td>\n",
       "      <td>17</td>\n",
       "    </tr>\n",
       "    <tr>\n",
       "      <th>40</th>\n",
       "      <td>2022 4e Kwartaal</td>\n",
       "      <td>Ministerie van Economische Zaken en Klimaat</td>\n",
       "      <td>29</td>\n",
       "      <td>11</td>\n",
       "      <td>18</td>\n",
       "    </tr>\n",
       "    <tr>\n",
       "      <th>41</th>\n",
       "      <td>2022 4e Kwartaal</td>\n",
       "      <td>Ministerie van Financiën</td>\n",
       "      <td>45</td>\n",
       "      <td>2</td>\n",
       "      <td>43</td>\n",
       "    </tr>\n",
       "    <tr>\n",
       "      <th>42</th>\n",
       "      <td>2022 4e Kwartaal</td>\n",
       "      <td>Ministerie van Infrastructuur en Waterstaat</td>\n",
       "      <td>25</td>\n",
       "      <td>3</td>\n",
       "      <td>22</td>\n",
       "    </tr>\n",
       "    <tr>\n",
       "      <th>43</th>\n",
       "      <td>2022 4e Kwartaal</td>\n",
       "      <td>Ministerie van Justitie en Veiligheid</td>\n",
       "      <td>48</td>\n",
       "      <td>18</td>\n",
       "      <td>30</td>\n",
       "    </tr>\n",
       "    <tr>\n",
       "      <th>44</th>\n",
       "      <td>2022 4e Kwartaal</td>\n",
       "      <td>Ministerie van Landbouw, Natuur en Voedselkwal...</td>\n",
       "      <td>102</td>\n",
       "      <td>11</td>\n",
       "      <td>91</td>\n",
       "    </tr>\n",
       "    <tr>\n",
       "      <th>45</th>\n",
       "      <td>2022 4e Kwartaal</td>\n",
       "      <td>Ministerie van Onderwijs, Cultuur en Wetenschap</td>\n",
       "      <td>17</td>\n",
       "      <td>0</td>\n",
       "      <td>17</td>\n",
       "    </tr>\n",
       "    <tr>\n",
       "      <th>46</th>\n",
       "      <td>2022 4e Kwartaal</td>\n",
       "      <td>Ministerie van Sociale Zaken en Werkgelegenheid</td>\n",
       "      <td>21</td>\n",
       "      <td>3</td>\n",
       "      <td>18</td>\n",
       "    </tr>\n",
       "    <tr>\n",
       "      <th>47</th>\n",
       "      <td>2022 4e Kwartaal</td>\n",
       "      <td>Ministerie van Volksgezondheid, Welzijn en Sport</td>\n",
       "      <td>14</td>\n",
       "      <td>1</td>\n",
       "      <td>13</td>\n",
       "    </tr>\n",
       "    <tr>\n",
       "      <th>48</th>\n",
       "      <td>2023 1e Kwartaal</td>\n",
       "      <td>Ministerie van Algemene Zaken</td>\n",
       "      <td>0</td>\n",
       "      <td>0</td>\n",
       "      <td>0</td>\n",
       "    </tr>\n",
       "    <tr>\n",
       "      <th>49</th>\n",
       "      <td>2023 1e Kwartaal</td>\n",
       "      <td>Ministerie van Binnenlandse Zaken en Koninkrij...</td>\n",
       "      <td>20</td>\n",
       "      <td>0</td>\n",
       "      <td>20</td>\n",
       "    </tr>\n",
       "    <tr>\n",
       "      <th>50</th>\n",
       "      <td>2023 1e Kwartaal</td>\n",
       "      <td>Ministerie van Buitenlandse Zaken</td>\n",
       "      <td>12</td>\n",
       "      <td>0</td>\n",
       "      <td>12</td>\n",
       "    </tr>\n",
       "    <tr>\n",
       "      <th>51</th>\n",
       "      <td>2023 1e Kwartaal</td>\n",
       "      <td>Ministerie van Defensie</td>\n",
       "      <td>6</td>\n",
       "      <td>1</td>\n",
       "      <td>5</td>\n",
       "    </tr>\n",
       "    <tr>\n",
       "      <th>52</th>\n",
       "      <td>2023 1e Kwartaal</td>\n",
       "      <td>Ministerie van Economische Zaken en Klimaat</td>\n",
       "      <td>15</td>\n",
       "      <td>5</td>\n",
       "      <td>10</td>\n",
       "    </tr>\n",
       "    <tr>\n",
       "      <th>53</th>\n",
       "      <td>2023 1e Kwartaal</td>\n",
       "      <td>Ministerie van Financiën</td>\n",
       "      <td>31</td>\n",
       "      <td>1</td>\n",
       "      <td>30</td>\n",
       "    </tr>\n",
       "    <tr>\n",
       "      <th>54</th>\n",
       "      <td>2023 1e Kwartaal</td>\n",
       "      <td>Ministerie van Infrastructuur en Waterstaat</td>\n",
       "      <td>14</td>\n",
       "      <td>1</td>\n",
       "      <td>13</td>\n",
       "    </tr>\n",
       "    <tr>\n",
       "      <th>55</th>\n",
       "      <td>2023 1e Kwartaal</td>\n",
       "      <td>Ministerie van Justitie en Veiligheid</td>\n",
       "      <td>20</td>\n",
       "      <td>8</td>\n",
       "      <td>12</td>\n",
       "    </tr>\n",
       "    <tr>\n",
       "      <th>56</th>\n",
       "      <td>2023 1e Kwartaal</td>\n",
       "      <td>Ministerie van Landbouw, Natuur en Voedselkwal...</td>\n",
       "      <td>54</td>\n",
       "      <td>3</td>\n",
       "      <td>51</td>\n",
       "    </tr>\n",
       "    <tr>\n",
       "      <th>57</th>\n",
       "      <td>2023 1e Kwartaal</td>\n",
       "      <td>Ministerie van Onderwijs, Cultuur en Wetenschap</td>\n",
       "      <td>6</td>\n",
       "      <td>0</td>\n",
       "      <td>6</td>\n",
       "    </tr>\n",
       "    <tr>\n",
       "      <th>58</th>\n",
       "      <td>2023 1e Kwartaal</td>\n",
       "      <td>Ministerie van Sociale Zaken en Werkgelegenheid</td>\n",
       "      <td>6</td>\n",
       "      <td>2</td>\n",
       "      <td>4</td>\n",
       "    </tr>\n",
       "    <tr>\n",
       "      <th>59</th>\n",
       "      <td>2023 1e Kwartaal</td>\n",
       "      <td>Ministerie van Volksgezondheid, Welzijn en Sport</td>\n",
       "      <td>3</td>\n",
       "      <td>1</td>\n",
       "      <td>2</td>\n",
       "    </tr>\n",
       "  </tbody>\n",
       "</table>\n",
       "</div>"
      ],
      "text/plain": [
       "             periode                                  verantwoordelijke  \\\n",
       "0   2022 1e Kwartaal                      Ministerie van Algemene Zaken   \n",
       "1   2022 1e Kwartaal  Ministerie van Binnenlandse Zaken en Koninkrij...   \n",
       "2   2022 1e Kwartaal                  Ministerie van Buitenlandse Zaken   \n",
       "3   2022 1e Kwartaal                            Ministerie van Defensie   \n",
       "4   2022 1e Kwartaal        Ministerie van Economische Zaken en Klimaat   \n",
       "5   2022 1e Kwartaal                           Ministerie van Financiën   \n",
       "6   2022 1e Kwartaal        Ministerie van Infrastructuur en Waterstaat   \n",
       "7   2022 1e Kwartaal              Ministerie van Justitie en Veiligheid   \n",
       "8   2022 1e Kwartaal  Ministerie van Landbouw, Natuur en Voedselkwal...   \n",
       "9   2022 1e Kwartaal    Ministerie van Onderwijs, Cultuur en Wetenschap   \n",
       "10  2022 1e Kwartaal    Ministerie van Sociale Zaken en Werkgelegenheid   \n",
       "11  2022 1e Kwartaal   Ministerie van Volksgezondheid, Welzijn en Sport   \n",
       "12  2022 2e Kwartaal                      Ministerie van Algemene Zaken   \n",
       "13  2022 2e Kwartaal  Ministerie van Binnenlandse Zaken en Koninkrij...   \n",
       "14  2022 2e Kwartaal                  Ministerie van Buitenlandse Zaken   \n",
       "15  2022 2e Kwartaal                            Ministerie van Defensie   \n",
       "16  2022 2e Kwartaal        Ministerie van Economische Zaken en Klimaat   \n",
       "17  2022 2e Kwartaal                           Ministerie van Financiën   \n",
       "18  2022 2e Kwartaal        Ministerie van Infrastructuur en Waterstaat   \n",
       "19  2022 2e Kwartaal              Ministerie van Justitie en Veiligheid   \n",
       "20  2022 2e Kwartaal  Ministerie van Landbouw, Natuur en Voedselkwal...   \n",
       "21  2022 2e Kwartaal    Ministerie van Onderwijs, Cultuur en Wetenschap   \n",
       "22  2022 2e Kwartaal    Ministerie van Sociale Zaken en Werkgelegenheid   \n",
       "23  2022 2e Kwartaal   Ministerie van Volksgezondheid, Welzijn en Sport   \n",
       "24  2022 3e Kwartaal                      Ministerie van Algemene Zaken   \n",
       "25  2022 3e Kwartaal  Ministerie van Binnenlandse Zaken en Koninkrij...   \n",
       "26  2022 3e Kwartaal                  Ministerie van Buitenlandse Zaken   \n",
       "27  2022 3e Kwartaal                            Ministerie van Defensie   \n",
       "28  2022 3e Kwartaal        Ministerie van Economische Zaken en Klimaat   \n",
       "29  2022 3e Kwartaal                           Ministerie van Financiën   \n",
       "30  2022 3e Kwartaal        Ministerie van Infrastructuur en Waterstaat   \n",
       "31  2022 3e Kwartaal              Ministerie van Justitie en Veiligheid   \n",
       "32  2022 3e Kwartaal  Ministerie van Landbouw, Natuur en Voedselkwal...   \n",
       "33  2022 3e Kwartaal    Ministerie van Onderwijs, Cultuur en Wetenschap   \n",
       "34  2022 3e Kwartaal    Ministerie van Sociale Zaken en Werkgelegenheid   \n",
       "35  2022 3e Kwartaal   Ministerie van Volksgezondheid, Welzijn en Sport   \n",
       "36  2022 4e Kwartaal                      Ministerie van Algemene Zaken   \n",
       "37  2022 4e Kwartaal  Ministerie van Binnenlandse Zaken en Koninkrij...   \n",
       "38  2022 4e Kwartaal                  Ministerie van Buitenlandse Zaken   \n",
       "39  2022 4e Kwartaal                            Ministerie van Defensie   \n",
       "40  2022 4e Kwartaal        Ministerie van Economische Zaken en Klimaat   \n",
       "41  2022 4e Kwartaal                           Ministerie van Financiën   \n",
       "42  2022 4e Kwartaal        Ministerie van Infrastructuur en Waterstaat   \n",
       "43  2022 4e Kwartaal              Ministerie van Justitie en Veiligheid   \n",
       "44  2022 4e Kwartaal  Ministerie van Landbouw, Natuur en Voedselkwal...   \n",
       "45  2022 4e Kwartaal    Ministerie van Onderwijs, Cultuur en Wetenschap   \n",
       "46  2022 4e Kwartaal    Ministerie van Sociale Zaken en Werkgelegenheid   \n",
       "47  2022 4e Kwartaal   Ministerie van Volksgezondheid, Welzijn en Sport   \n",
       "48  2023 1e Kwartaal                      Ministerie van Algemene Zaken   \n",
       "49  2023 1e Kwartaal  Ministerie van Binnenlandse Zaken en Koninkrij...   \n",
       "50  2023 1e Kwartaal                  Ministerie van Buitenlandse Zaken   \n",
       "51  2023 1e Kwartaal                            Ministerie van Defensie   \n",
       "52  2023 1e Kwartaal        Ministerie van Economische Zaken en Klimaat   \n",
       "53  2023 1e Kwartaal                           Ministerie van Financiën   \n",
       "54  2023 1e Kwartaal        Ministerie van Infrastructuur en Waterstaat   \n",
       "55  2023 1e Kwartaal              Ministerie van Justitie en Veiligheid   \n",
       "56  2023 1e Kwartaal  Ministerie van Landbouw, Natuur en Voedselkwal...   \n",
       "57  2023 1e Kwartaal    Ministerie van Onderwijs, Cultuur en Wetenschap   \n",
       "58  2023 1e Kwartaal    Ministerie van Sociale Zaken en Werkgelegenheid   \n",
       "59  2023 1e Kwartaal   Ministerie van Volksgezondheid, Welzijn en Sport   \n",
       "\n",
       "    Verzoek  image  pdf  \n",
       "0         0      0    0  \n",
       "1         0      0    0  \n",
       "2         1      0    1  \n",
       "3         0      0    0  \n",
       "4         2      1    1  \n",
       "5         1      0    1  \n",
       "6         8      1    7  \n",
       "7         0      0    0  \n",
       "8         3      1    2  \n",
       "9         1      0    1  \n",
       "10        7      4    3  \n",
       "11        4      0    4  \n",
       "12        0      0    0  \n",
       "13       19      1   18  \n",
       "14        9      1    8  \n",
       "15       14      0   14  \n",
       "16       10      3    7  \n",
       "17       37      4   33  \n",
       "18       32      9   23  \n",
       "19       18      6   12  \n",
       "20       46      8   38  \n",
       "21        4      1    3  \n",
       "22        4      3    1  \n",
       "23        5      0    5  \n",
       "24        2      1    1  \n",
       "25       25      0   25  \n",
       "26       31      1   30  \n",
       "27       11      2    9  \n",
       "28       32     14   18  \n",
       "29       36      3   33  \n",
       "30       38     10   28  \n",
       "31       43     20   23  \n",
       "32       76     15   61  \n",
       "33       24      3   21  \n",
       "34       10      2    8  \n",
       "35        5      0    5  \n",
       "36        1      0    1  \n",
       "37       32      0   32  \n",
       "38       16      3   13  \n",
       "39       17      0   17  \n",
       "40       29     11   18  \n",
       "41       45      2   43  \n",
       "42       25      3   22  \n",
       "43       48     18   30  \n",
       "44      102     11   91  \n",
       "45       17      0   17  \n",
       "46       21      3   18  \n",
       "47       14      1   13  \n",
       "48        0      0    0  \n",
       "49       20      0   20  \n",
       "50       12      0   12  \n",
       "51        6      1    5  \n",
       "52       15      5   10  \n",
       "53       31      1   30  \n",
       "54       14      1   13  \n",
       "55       20      8   12  \n",
       "56       54      3   51  \n",
       "57        6      0    6  \n",
       "58        6      2    4  \n",
       "59        3      1    2  "
      ]
     },
     "metadata": {},
     "output_type": "display_data"
    }
   ],
   "source": [
    "result['pdf'] = result['Verzoek'] - result['image']\n",
    "display(result)"
   ]
  },
  {
   "cell_type": "code",
   "execution_count": 137,
   "id": "7bd97a28",
   "metadata": {
    "scrolled": false
   },
   "outputs": [
    {
     "data": {
      "application/vnd.plotly.v1+json": {
       "config": {
        "plotlyServerURL": "https://plot.ly"
       },
       "data": [
        {
         "alignmentgroup": "True",
         "hovertemplate": "<b>%{hovertext}</b><br><br>variable=image<br>periode=2022 1e Kwartaal<br>verantwoordelijke=%{x}<br>value=%{y}<extra></extra>",
         "hovertext": [
          "Ministerie van Algemene Zaken",
          "Ministerie van Binnenlandse Zaken en Koninkrijksrelaties",
          "Ministerie van Buitenlandse Zaken",
          "Ministerie van Defensie",
          "Ministerie van Economische Zaken en Klimaat",
          "Ministerie van Financiën",
          "Ministerie van Infrastructuur en Waterstaat",
          "Ministerie van Justitie en Veiligheid",
          "Ministerie van Landbouw, Natuur en Voedselkwaliteit",
          "Ministerie van Onderwijs, Cultuur en Wetenschap",
          "Ministerie van Sociale Zaken en Werkgelegenheid",
          "Ministerie van Volksgezondheid, Welzijn en Sport"
         ],
         "legendgroup": "image",
         "marker": {
          "color": "#636efa",
          "pattern": {
           "shape": ""
          }
         },
         "name": "image",
         "offsetgroup": "image",
         "orientation": "v",
         "showlegend": true,
         "textposition": "auto",
         "type": "bar",
         "x": [
          "Ministerie van Algemene Zaken",
          "Ministerie van Binnenlandse Zaken en Koninkrijksrelaties",
          "Ministerie van Buitenlandse Zaken",
          "Ministerie van Defensie",
          "Ministerie van Economische Zaken en Klimaat",
          "Ministerie van Financiën",
          "Ministerie van Infrastructuur en Waterstaat",
          "Ministerie van Justitie en Veiligheid",
          "Ministerie van Landbouw, Natuur en Voedselkwaliteit",
          "Ministerie van Onderwijs, Cultuur en Wetenschap",
          "Ministerie van Sociale Zaken en Werkgelegenheid",
          "Ministerie van Volksgezondheid, Welzijn en Sport"
         ],
         "xaxis": "x",
         "y": [
          0,
          0,
          0,
          0,
          1,
          0,
          1,
          0,
          1,
          0,
          4,
          0
         ],
         "yaxis": "y"
        },
        {
         "alignmentgroup": "True",
         "hovertemplate": "<b>%{hovertext}</b><br><br>variable=pdf<br>periode=2022 1e Kwartaal<br>verantwoordelijke=%{x}<br>value=%{y}<extra></extra>",
         "hovertext": [
          "Ministerie van Algemene Zaken",
          "Ministerie van Binnenlandse Zaken en Koninkrijksrelaties",
          "Ministerie van Buitenlandse Zaken",
          "Ministerie van Defensie",
          "Ministerie van Economische Zaken en Klimaat",
          "Ministerie van Financiën",
          "Ministerie van Infrastructuur en Waterstaat",
          "Ministerie van Justitie en Veiligheid",
          "Ministerie van Landbouw, Natuur en Voedselkwaliteit",
          "Ministerie van Onderwijs, Cultuur en Wetenschap",
          "Ministerie van Sociale Zaken en Werkgelegenheid",
          "Ministerie van Volksgezondheid, Welzijn en Sport"
         ],
         "legendgroup": "pdf",
         "marker": {
          "color": "#EF553B",
          "pattern": {
           "shape": ""
          }
         },
         "name": "pdf",
         "offsetgroup": "pdf",
         "orientation": "v",
         "showlegend": true,
         "textposition": "auto",
         "type": "bar",
         "x": [
          "Ministerie van Algemene Zaken",
          "Ministerie van Binnenlandse Zaken en Koninkrijksrelaties",
          "Ministerie van Buitenlandse Zaken",
          "Ministerie van Defensie",
          "Ministerie van Economische Zaken en Klimaat",
          "Ministerie van Financiën",
          "Ministerie van Infrastructuur en Waterstaat",
          "Ministerie van Justitie en Veiligheid",
          "Ministerie van Landbouw, Natuur en Voedselkwaliteit",
          "Ministerie van Onderwijs, Cultuur en Wetenschap",
          "Ministerie van Sociale Zaken en Werkgelegenheid",
          "Ministerie van Volksgezondheid, Welzijn en Sport"
         ],
         "xaxis": "x",
         "y": [
          0,
          0,
          1,
          0,
          1,
          1,
          7,
          0,
          2,
          1,
          3,
          4
         ],
         "yaxis": "y"
        }
       ],
       "frames": [
        {
         "data": [
          {
           "alignmentgroup": "True",
           "hovertemplate": "<b>%{hovertext}</b><br><br>variable=image<br>periode=2022 1e Kwartaal<br>verantwoordelijke=%{x}<br>value=%{y}<extra></extra>",
           "hovertext": [
            "Ministerie van Algemene Zaken",
            "Ministerie van Binnenlandse Zaken en Koninkrijksrelaties",
            "Ministerie van Buitenlandse Zaken",
            "Ministerie van Defensie",
            "Ministerie van Economische Zaken en Klimaat",
            "Ministerie van Financiën",
            "Ministerie van Infrastructuur en Waterstaat",
            "Ministerie van Justitie en Veiligheid",
            "Ministerie van Landbouw, Natuur en Voedselkwaliteit",
            "Ministerie van Onderwijs, Cultuur en Wetenschap",
            "Ministerie van Sociale Zaken en Werkgelegenheid",
            "Ministerie van Volksgezondheid, Welzijn en Sport"
           ],
           "legendgroup": "image",
           "marker": {
            "color": "#636efa",
            "pattern": {
             "shape": ""
            }
           },
           "name": "image",
           "offsetgroup": "image",
           "orientation": "v",
           "showlegend": true,
           "textposition": "auto",
           "type": "bar",
           "x": [
            "Ministerie van Algemene Zaken",
            "Ministerie van Binnenlandse Zaken en Koninkrijksrelaties",
            "Ministerie van Buitenlandse Zaken",
            "Ministerie van Defensie",
            "Ministerie van Economische Zaken en Klimaat",
            "Ministerie van Financiën",
            "Ministerie van Infrastructuur en Waterstaat",
            "Ministerie van Justitie en Veiligheid",
            "Ministerie van Landbouw, Natuur en Voedselkwaliteit",
            "Ministerie van Onderwijs, Cultuur en Wetenschap",
            "Ministerie van Sociale Zaken en Werkgelegenheid",
            "Ministerie van Volksgezondheid, Welzijn en Sport"
           ],
           "xaxis": "x",
           "y": [
            0,
            0,
            0,
            0,
            1,
            0,
            1,
            0,
            1,
            0,
            4,
            0
           ],
           "yaxis": "y"
          },
          {
           "alignmentgroup": "True",
           "hovertemplate": "<b>%{hovertext}</b><br><br>variable=pdf<br>periode=2022 1e Kwartaal<br>verantwoordelijke=%{x}<br>value=%{y}<extra></extra>",
           "hovertext": [
            "Ministerie van Algemene Zaken",
            "Ministerie van Binnenlandse Zaken en Koninkrijksrelaties",
            "Ministerie van Buitenlandse Zaken",
            "Ministerie van Defensie",
            "Ministerie van Economische Zaken en Klimaat",
            "Ministerie van Financiën",
            "Ministerie van Infrastructuur en Waterstaat",
            "Ministerie van Justitie en Veiligheid",
            "Ministerie van Landbouw, Natuur en Voedselkwaliteit",
            "Ministerie van Onderwijs, Cultuur en Wetenschap",
            "Ministerie van Sociale Zaken en Werkgelegenheid",
            "Ministerie van Volksgezondheid, Welzijn en Sport"
           ],
           "legendgroup": "pdf",
           "marker": {
            "color": "#EF553B",
            "pattern": {
             "shape": ""
            }
           },
           "name": "pdf",
           "offsetgroup": "pdf",
           "orientation": "v",
           "showlegend": true,
           "textposition": "auto",
           "type": "bar",
           "x": [
            "Ministerie van Algemene Zaken",
            "Ministerie van Binnenlandse Zaken en Koninkrijksrelaties",
            "Ministerie van Buitenlandse Zaken",
            "Ministerie van Defensie",
            "Ministerie van Economische Zaken en Klimaat",
            "Ministerie van Financiën",
            "Ministerie van Infrastructuur en Waterstaat",
            "Ministerie van Justitie en Veiligheid",
            "Ministerie van Landbouw, Natuur en Voedselkwaliteit",
            "Ministerie van Onderwijs, Cultuur en Wetenschap",
            "Ministerie van Sociale Zaken en Werkgelegenheid",
            "Ministerie van Volksgezondheid, Welzijn en Sport"
           ],
           "xaxis": "x",
           "y": [
            0,
            0,
            1,
            0,
            1,
            1,
            7,
            0,
            2,
            1,
            3,
            4
           ],
           "yaxis": "y"
          }
         ],
         "name": "2022 1e Kwartaal"
        },
        {
         "data": [
          {
           "alignmentgroup": "True",
           "hovertemplate": "<b>%{hovertext}</b><br><br>variable=image<br>periode=2022 2e Kwartaal<br>verantwoordelijke=%{x}<br>value=%{y}<extra></extra>",
           "hovertext": [
            "Ministerie van Algemene Zaken",
            "Ministerie van Binnenlandse Zaken en Koninkrijksrelaties",
            "Ministerie van Buitenlandse Zaken",
            "Ministerie van Defensie",
            "Ministerie van Economische Zaken en Klimaat",
            "Ministerie van Financiën",
            "Ministerie van Infrastructuur en Waterstaat",
            "Ministerie van Justitie en Veiligheid",
            "Ministerie van Landbouw, Natuur en Voedselkwaliteit",
            "Ministerie van Onderwijs, Cultuur en Wetenschap",
            "Ministerie van Sociale Zaken en Werkgelegenheid",
            "Ministerie van Volksgezondheid, Welzijn en Sport"
           ],
           "legendgroup": "image",
           "marker": {
            "color": "#636efa",
            "pattern": {
             "shape": ""
            }
           },
           "name": "image",
           "offsetgroup": "image",
           "orientation": "v",
           "showlegend": true,
           "textposition": "auto",
           "type": "bar",
           "x": [
            "Ministerie van Algemene Zaken",
            "Ministerie van Binnenlandse Zaken en Koninkrijksrelaties",
            "Ministerie van Buitenlandse Zaken",
            "Ministerie van Defensie",
            "Ministerie van Economische Zaken en Klimaat",
            "Ministerie van Financiën",
            "Ministerie van Infrastructuur en Waterstaat",
            "Ministerie van Justitie en Veiligheid",
            "Ministerie van Landbouw, Natuur en Voedselkwaliteit",
            "Ministerie van Onderwijs, Cultuur en Wetenschap",
            "Ministerie van Sociale Zaken en Werkgelegenheid",
            "Ministerie van Volksgezondheid, Welzijn en Sport"
           ],
           "xaxis": "x",
           "y": [
            0,
            1,
            1,
            0,
            3,
            4,
            9,
            6,
            8,
            1,
            3,
            0
           ],
           "yaxis": "y"
          },
          {
           "alignmentgroup": "True",
           "hovertemplate": "<b>%{hovertext}</b><br><br>variable=pdf<br>periode=2022 2e Kwartaal<br>verantwoordelijke=%{x}<br>value=%{y}<extra></extra>",
           "hovertext": [
            "Ministerie van Algemene Zaken",
            "Ministerie van Binnenlandse Zaken en Koninkrijksrelaties",
            "Ministerie van Buitenlandse Zaken",
            "Ministerie van Defensie",
            "Ministerie van Economische Zaken en Klimaat",
            "Ministerie van Financiën",
            "Ministerie van Infrastructuur en Waterstaat",
            "Ministerie van Justitie en Veiligheid",
            "Ministerie van Landbouw, Natuur en Voedselkwaliteit",
            "Ministerie van Onderwijs, Cultuur en Wetenschap",
            "Ministerie van Sociale Zaken en Werkgelegenheid",
            "Ministerie van Volksgezondheid, Welzijn en Sport"
           ],
           "legendgroup": "pdf",
           "marker": {
            "color": "#EF553B",
            "pattern": {
             "shape": ""
            }
           },
           "name": "pdf",
           "offsetgroup": "pdf",
           "orientation": "v",
           "showlegend": true,
           "textposition": "auto",
           "type": "bar",
           "x": [
            "Ministerie van Algemene Zaken",
            "Ministerie van Binnenlandse Zaken en Koninkrijksrelaties",
            "Ministerie van Buitenlandse Zaken",
            "Ministerie van Defensie",
            "Ministerie van Economische Zaken en Klimaat",
            "Ministerie van Financiën",
            "Ministerie van Infrastructuur en Waterstaat",
            "Ministerie van Justitie en Veiligheid",
            "Ministerie van Landbouw, Natuur en Voedselkwaliteit",
            "Ministerie van Onderwijs, Cultuur en Wetenschap",
            "Ministerie van Sociale Zaken en Werkgelegenheid",
            "Ministerie van Volksgezondheid, Welzijn en Sport"
           ],
           "xaxis": "x",
           "y": [
            0,
            18,
            8,
            14,
            7,
            33,
            23,
            12,
            38,
            3,
            1,
            5
           ],
           "yaxis": "y"
          }
         ],
         "name": "2022 2e Kwartaal"
        },
        {
         "data": [
          {
           "alignmentgroup": "True",
           "hovertemplate": "<b>%{hovertext}</b><br><br>variable=image<br>periode=2022 3e Kwartaal<br>verantwoordelijke=%{x}<br>value=%{y}<extra></extra>",
           "hovertext": [
            "Ministerie van Algemene Zaken",
            "Ministerie van Binnenlandse Zaken en Koninkrijksrelaties",
            "Ministerie van Buitenlandse Zaken",
            "Ministerie van Defensie",
            "Ministerie van Economische Zaken en Klimaat",
            "Ministerie van Financiën",
            "Ministerie van Infrastructuur en Waterstaat",
            "Ministerie van Justitie en Veiligheid",
            "Ministerie van Landbouw, Natuur en Voedselkwaliteit",
            "Ministerie van Onderwijs, Cultuur en Wetenschap",
            "Ministerie van Sociale Zaken en Werkgelegenheid",
            "Ministerie van Volksgezondheid, Welzijn en Sport"
           ],
           "legendgroup": "image",
           "marker": {
            "color": "#636efa",
            "pattern": {
             "shape": ""
            }
           },
           "name": "image",
           "offsetgroup": "image",
           "orientation": "v",
           "showlegend": true,
           "textposition": "auto",
           "type": "bar",
           "x": [
            "Ministerie van Algemene Zaken",
            "Ministerie van Binnenlandse Zaken en Koninkrijksrelaties",
            "Ministerie van Buitenlandse Zaken",
            "Ministerie van Defensie",
            "Ministerie van Economische Zaken en Klimaat",
            "Ministerie van Financiën",
            "Ministerie van Infrastructuur en Waterstaat",
            "Ministerie van Justitie en Veiligheid",
            "Ministerie van Landbouw, Natuur en Voedselkwaliteit",
            "Ministerie van Onderwijs, Cultuur en Wetenschap",
            "Ministerie van Sociale Zaken en Werkgelegenheid",
            "Ministerie van Volksgezondheid, Welzijn en Sport"
           ],
           "xaxis": "x",
           "y": [
            1,
            0,
            1,
            2,
            14,
            3,
            10,
            20,
            15,
            3,
            2,
            0
           ],
           "yaxis": "y"
          },
          {
           "alignmentgroup": "True",
           "hovertemplate": "<b>%{hovertext}</b><br><br>variable=pdf<br>periode=2022 3e Kwartaal<br>verantwoordelijke=%{x}<br>value=%{y}<extra></extra>",
           "hovertext": [
            "Ministerie van Algemene Zaken",
            "Ministerie van Binnenlandse Zaken en Koninkrijksrelaties",
            "Ministerie van Buitenlandse Zaken",
            "Ministerie van Defensie",
            "Ministerie van Economische Zaken en Klimaat",
            "Ministerie van Financiën",
            "Ministerie van Infrastructuur en Waterstaat",
            "Ministerie van Justitie en Veiligheid",
            "Ministerie van Landbouw, Natuur en Voedselkwaliteit",
            "Ministerie van Onderwijs, Cultuur en Wetenschap",
            "Ministerie van Sociale Zaken en Werkgelegenheid",
            "Ministerie van Volksgezondheid, Welzijn en Sport"
           ],
           "legendgroup": "pdf",
           "marker": {
            "color": "#EF553B",
            "pattern": {
             "shape": ""
            }
           },
           "name": "pdf",
           "offsetgroup": "pdf",
           "orientation": "v",
           "showlegend": true,
           "textposition": "auto",
           "type": "bar",
           "x": [
            "Ministerie van Algemene Zaken",
            "Ministerie van Binnenlandse Zaken en Koninkrijksrelaties",
            "Ministerie van Buitenlandse Zaken",
            "Ministerie van Defensie",
            "Ministerie van Economische Zaken en Klimaat",
            "Ministerie van Financiën",
            "Ministerie van Infrastructuur en Waterstaat",
            "Ministerie van Justitie en Veiligheid",
            "Ministerie van Landbouw, Natuur en Voedselkwaliteit",
            "Ministerie van Onderwijs, Cultuur en Wetenschap",
            "Ministerie van Sociale Zaken en Werkgelegenheid",
            "Ministerie van Volksgezondheid, Welzijn en Sport"
           ],
           "xaxis": "x",
           "y": [
            1,
            25,
            30,
            9,
            18,
            33,
            28,
            23,
            61,
            21,
            8,
            5
           ],
           "yaxis": "y"
          }
         ],
         "name": "2022 3e Kwartaal"
        },
        {
         "data": [
          {
           "alignmentgroup": "True",
           "hovertemplate": "<b>%{hovertext}</b><br><br>variable=image<br>periode=2022 4e Kwartaal<br>verantwoordelijke=%{x}<br>value=%{y}<extra></extra>",
           "hovertext": [
            "Ministerie van Algemene Zaken",
            "Ministerie van Binnenlandse Zaken en Koninkrijksrelaties",
            "Ministerie van Buitenlandse Zaken",
            "Ministerie van Defensie",
            "Ministerie van Economische Zaken en Klimaat",
            "Ministerie van Financiën",
            "Ministerie van Infrastructuur en Waterstaat",
            "Ministerie van Justitie en Veiligheid",
            "Ministerie van Landbouw, Natuur en Voedselkwaliteit",
            "Ministerie van Onderwijs, Cultuur en Wetenschap",
            "Ministerie van Sociale Zaken en Werkgelegenheid",
            "Ministerie van Volksgezondheid, Welzijn en Sport"
           ],
           "legendgroup": "image",
           "marker": {
            "color": "#636efa",
            "pattern": {
             "shape": ""
            }
           },
           "name": "image",
           "offsetgroup": "image",
           "orientation": "v",
           "showlegend": true,
           "textposition": "auto",
           "type": "bar",
           "x": [
            "Ministerie van Algemene Zaken",
            "Ministerie van Binnenlandse Zaken en Koninkrijksrelaties",
            "Ministerie van Buitenlandse Zaken",
            "Ministerie van Defensie",
            "Ministerie van Economische Zaken en Klimaat",
            "Ministerie van Financiën",
            "Ministerie van Infrastructuur en Waterstaat",
            "Ministerie van Justitie en Veiligheid",
            "Ministerie van Landbouw, Natuur en Voedselkwaliteit",
            "Ministerie van Onderwijs, Cultuur en Wetenschap",
            "Ministerie van Sociale Zaken en Werkgelegenheid",
            "Ministerie van Volksgezondheid, Welzijn en Sport"
           ],
           "xaxis": "x",
           "y": [
            0,
            0,
            3,
            0,
            11,
            2,
            3,
            18,
            11,
            0,
            3,
            1
           ],
           "yaxis": "y"
          },
          {
           "alignmentgroup": "True",
           "hovertemplate": "<b>%{hovertext}</b><br><br>variable=pdf<br>periode=2022 4e Kwartaal<br>verantwoordelijke=%{x}<br>value=%{y}<extra></extra>",
           "hovertext": [
            "Ministerie van Algemene Zaken",
            "Ministerie van Binnenlandse Zaken en Koninkrijksrelaties",
            "Ministerie van Buitenlandse Zaken",
            "Ministerie van Defensie",
            "Ministerie van Economische Zaken en Klimaat",
            "Ministerie van Financiën",
            "Ministerie van Infrastructuur en Waterstaat",
            "Ministerie van Justitie en Veiligheid",
            "Ministerie van Landbouw, Natuur en Voedselkwaliteit",
            "Ministerie van Onderwijs, Cultuur en Wetenschap",
            "Ministerie van Sociale Zaken en Werkgelegenheid",
            "Ministerie van Volksgezondheid, Welzijn en Sport"
           ],
           "legendgroup": "pdf",
           "marker": {
            "color": "#EF553B",
            "pattern": {
             "shape": ""
            }
           },
           "name": "pdf",
           "offsetgroup": "pdf",
           "orientation": "v",
           "showlegend": true,
           "textposition": "auto",
           "type": "bar",
           "x": [
            "Ministerie van Algemene Zaken",
            "Ministerie van Binnenlandse Zaken en Koninkrijksrelaties",
            "Ministerie van Buitenlandse Zaken",
            "Ministerie van Defensie",
            "Ministerie van Economische Zaken en Klimaat",
            "Ministerie van Financiën",
            "Ministerie van Infrastructuur en Waterstaat",
            "Ministerie van Justitie en Veiligheid",
            "Ministerie van Landbouw, Natuur en Voedselkwaliteit",
            "Ministerie van Onderwijs, Cultuur en Wetenschap",
            "Ministerie van Sociale Zaken en Werkgelegenheid",
            "Ministerie van Volksgezondheid, Welzijn en Sport"
           ],
           "xaxis": "x",
           "y": [
            1,
            32,
            13,
            17,
            18,
            43,
            22,
            30,
            91,
            17,
            18,
            13
           ],
           "yaxis": "y"
          }
         ],
         "name": "2022 4e Kwartaal"
        },
        {
         "data": [
          {
           "alignmentgroup": "True",
           "hovertemplate": "<b>%{hovertext}</b><br><br>variable=image<br>periode=2023 1e Kwartaal<br>verantwoordelijke=%{x}<br>value=%{y}<extra></extra>",
           "hovertext": [
            "Ministerie van Algemene Zaken",
            "Ministerie van Binnenlandse Zaken en Koninkrijksrelaties",
            "Ministerie van Buitenlandse Zaken",
            "Ministerie van Defensie",
            "Ministerie van Economische Zaken en Klimaat",
            "Ministerie van Financiën",
            "Ministerie van Infrastructuur en Waterstaat",
            "Ministerie van Justitie en Veiligheid",
            "Ministerie van Landbouw, Natuur en Voedselkwaliteit",
            "Ministerie van Onderwijs, Cultuur en Wetenschap",
            "Ministerie van Sociale Zaken en Werkgelegenheid",
            "Ministerie van Volksgezondheid, Welzijn en Sport"
           ],
           "legendgroup": "image",
           "marker": {
            "color": "#636efa",
            "pattern": {
             "shape": ""
            }
           },
           "name": "image",
           "offsetgroup": "image",
           "orientation": "v",
           "showlegend": true,
           "textposition": "auto",
           "type": "bar",
           "x": [
            "Ministerie van Algemene Zaken",
            "Ministerie van Binnenlandse Zaken en Koninkrijksrelaties",
            "Ministerie van Buitenlandse Zaken",
            "Ministerie van Defensie",
            "Ministerie van Economische Zaken en Klimaat",
            "Ministerie van Financiën",
            "Ministerie van Infrastructuur en Waterstaat",
            "Ministerie van Justitie en Veiligheid",
            "Ministerie van Landbouw, Natuur en Voedselkwaliteit",
            "Ministerie van Onderwijs, Cultuur en Wetenschap",
            "Ministerie van Sociale Zaken en Werkgelegenheid",
            "Ministerie van Volksgezondheid, Welzijn en Sport"
           ],
           "xaxis": "x",
           "y": [
            0,
            0,
            0,
            1,
            5,
            1,
            1,
            8,
            3,
            0,
            2,
            1
           ],
           "yaxis": "y"
          },
          {
           "alignmentgroup": "True",
           "hovertemplate": "<b>%{hovertext}</b><br><br>variable=pdf<br>periode=2023 1e Kwartaal<br>verantwoordelijke=%{x}<br>value=%{y}<extra></extra>",
           "hovertext": [
            "Ministerie van Algemene Zaken",
            "Ministerie van Binnenlandse Zaken en Koninkrijksrelaties",
            "Ministerie van Buitenlandse Zaken",
            "Ministerie van Defensie",
            "Ministerie van Economische Zaken en Klimaat",
            "Ministerie van Financiën",
            "Ministerie van Infrastructuur en Waterstaat",
            "Ministerie van Justitie en Veiligheid",
            "Ministerie van Landbouw, Natuur en Voedselkwaliteit",
            "Ministerie van Onderwijs, Cultuur en Wetenschap",
            "Ministerie van Sociale Zaken en Werkgelegenheid",
            "Ministerie van Volksgezondheid, Welzijn en Sport"
           ],
           "legendgroup": "pdf",
           "marker": {
            "color": "#EF553B",
            "pattern": {
             "shape": ""
            }
           },
           "name": "pdf",
           "offsetgroup": "pdf",
           "orientation": "v",
           "showlegend": true,
           "textposition": "auto",
           "type": "bar",
           "x": [
            "Ministerie van Algemene Zaken",
            "Ministerie van Binnenlandse Zaken en Koninkrijksrelaties",
            "Ministerie van Buitenlandse Zaken",
            "Ministerie van Defensie",
            "Ministerie van Economische Zaken en Klimaat",
            "Ministerie van Financiën",
            "Ministerie van Infrastructuur en Waterstaat",
            "Ministerie van Justitie en Veiligheid",
            "Ministerie van Landbouw, Natuur en Voedselkwaliteit",
            "Ministerie van Onderwijs, Cultuur en Wetenschap",
            "Ministerie van Sociale Zaken en Werkgelegenheid",
            "Ministerie van Volksgezondheid, Welzijn en Sport"
           ],
           "xaxis": "x",
           "y": [
            0,
            20,
            12,
            5,
            10,
            30,
            13,
            12,
            51,
            6,
            4,
            2
           ],
           "yaxis": "y"
          }
         ],
         "name": "2023 1e Kwartaal"
        }
       ],
       "layout": {
        "barmode": "relative",
        "legend": {
         "title": {
          "text": "variable"
         },
         "tracegroupgap": 0
        },
        "margin": {
         "t": 60
        },
        "sliders": [
         {
          "active": 0,
          "currentvalue": {
           "prefix": "periode="
          },
          "len": 0.9,
          "pad": {
           "b": 10,
           "t": 60
          },
          "steps": [
           {
            "args": [
             [
              "2022 1e Kwartaal"
             ],
             {
              "frame": {
               "duration": 0,
               "redraw": true
              },
              "fromcurrent": true,
              "mode": "immediate",
              "transition": {
               "duration": 0,
               "easing": "linear"
              }
             }
            ],
            "label": "2022 1e Kwartaal",
            "method": "animate"
           },
           {
            "args": [
             [
              "2022 2e Kwartaal"
             ],
             {
              "frame": {
               "duration": 0,
               "redraw": true
              },
              "fromcurrent": true,
              "mode": "immediate",
              "transition": {
               "duration": 0,
               "easing": "linear"
              }
             }
            ],
            "label": "2022 2e Kwartaal",
            "method": "animate"
           },
           {
            "args": [
             [
              "2022 3e Kwartaal"
             ],
             {
              "frame": {
               "duration": 0,
               "redraw": true
              },
              "fromcurrent": true,
              "mode": "immediate",
              "transition": {
               "duration": 0,
               "easing": "linear"
              }
             }
            ],
            "label": "2022 3e Kwartaal",
            "method": "animate"
           },
           {
            "args": [
             [
              "2022 4e Kwartaal"
             ],
             {
              "frame": {
               "duration": 0,
               "redraw": true
              },
              "fromcurrent": true,
              "mode": "immediate",
              "transition": {
               "duration": 0,
               "easing": "linear"
              }
             }
            ],
            "label": "2022 4e Kwartaal",
            "method": "animate"
           },
           {
            "args": [
             [
              "2023 1e Kwartaal"
             ],
             {
              "frame": {
               "duration": 0,
               "redraw": true
              },
              "fromcurrent": true,
              "mode": "immediate",
              "transition": {
               "duration": 0,
               "easing": "linear"
              }
             }
            ],
            "label": "2023 1e Kwartaal",
            "method": "animate"
           }
          ],
          "x": 0.1,
          "xanchor": "left",
          "y": 0,
          "yanchor": "top"
         }
        ],
        "template": {
         "data": {
          "bar": [
           {
            "error_x": {
             "color": "#2a3f5f"
            },
            "error_y": {
             "color": "#2a3f5f"
            },
            "marker": {
             "line": {
              "color": "#E5ECF6",
              "width": 0.5
             },
             "pattern": {
              "fillmode": "overlay",
              "size": 10,
              "solidity": 0.2
             }
            },
            "type": "bar"
           }
          ],
          "barpolar": [
           {
            "marker": {
             "line": {
              "color": "#E5ECF6",
              "width": 0.5
             },
             "pattern": {
              "fillmode": "overlay",
              "size": 10,
              "solidity": 0.2
             }
            },
            "type": "barpolar"
           }
          ],
          "carpet": [
           {
            "aaxis": {
             "endlinecolor": "#2a3f5f",
             "gridcolor": "white",
             "linecolor": "white",
             "minorgridcolor": "white",
             "startlinecolor": "#2a3f5f"
            },
            "baxis": {
             "endlinecolor": "#2a3f5f",
             "gridcolor": "white",
             "linecolor": "white",
             "minorgridcolor": "white",
             "startlinecolor": "#2a3f5f"
            },
            "type": "carpet"
           }
          ],
          "choropleth": [
           {
            "colorbar": {
             "outlinewidth": 0,
             "ticks": ""
            },
            "type": "choropleth"
           }
          ],
          "contour": [
           {
            "colorbar": {
             "outlinewidth": 0,
             "ticks": ""
            },
            "colorscale": [
             [
              0,
              "#0d0887"
             ],
             [
              0.1111111111111111,
              "#46039f"
             ],
             [
              0.2222222222222222,
              "#7201a8"
             ],
             [
              0.3333333333333333,
              "#9c179e"
             ],
             [
              0.4444444444444444,
              "#bd3786"
             ],
             [
              0.5555555555555556,
              "#d8576b"
             ],
             [
              0.6666666666666666,
              "#ed7953"
             ],
             [
              0.7777777777777778,
              "#fb9f3a"
             ],
             [
              0.8888888888888888,
              "#fdca26"
             ],
             [
              1,
              "#f0f921"
             ]
            ],
            "type": "contour"
           }
          ],
          "contourcarpet": [
           {
            "colorbar": {
             "outlinewidth": 0,
             "ticks": ""
            },
            "type": "contourcarpet"
           }
          ],
          "heatmap": [
           {
            "colorbar": {
             "outlinewidth": 0,
             "ticks": ""
            },
            "colorscale": [
             [
              0,
              "#0d0887"
             ],
             [
              0.1111111111111111,
              "#46039f"
             ],
             [
              0.2222222222222222,
              "#7201a8"
             ],
             [
              0.3333333333333333,
              "#9c179e"
             ],
             [
              0.4444444444444444,
              "#bd3786"
             ],
             [
              0.5555555555555556,
              "#d8576b"
             ],
             [
              0.6666666666666666,
              "#ed7953"
             ],
             [
              0.7777777777777778,
              "#fb9f3a"
             ],
             [
              0.8888888888888888,
              "#fdca26"
             ],
             [
              1,
              "#f0f921"
             ]
            ],
            "type": "heatmap"
           }
          ],
          "heatmapgl": [
           {
            "colorbar": {
             "outlinewidth": 0,
             "ticks": ""
            },
            "colorscale": [
             [
              0,
              "#0d0887"
             ],
             [
              0.1111111111111111,
              "#46039f"
             ],
             [
              0.2222222222222222,
              "#7201a8"
             ],
             [
              0.3333333333333333,
              "#9c179e"
             ],
             [
              0.4444444444444444,
              "#bd3786"
             ],
             [
              0.5555555555555556,
              "#d8576b"
             ],
             [
              0.6666666666666666,
              "#ed7953"
             ],
             [
              0.7777777777777778,
              "#fb9f3a"
             ],
             [
              0.8888888888888888,
              "#fdca26"
             ],
             [
              1,
              "#f0f921"
             ]
            ],
            "type": "heatmapgl"
           }
          ],
          "histogram": [
           {
            "marker": {
             "pattern": {
              "fillmode": "overlay",
              "size": 10,
              "solidity": 0.2
             }
            },
            "type": "histogram"
           }
          ],
          "histogram2d": [
           {
            "colorbar": {
             "outlinewidth": 0,
             "ticks": ""
            },
            "colorscale": [
             [
              0,
              "#0d0887"
             ],
             [
              0.1111111111111111,
              "#46039f"
             ],
             [
              0.2222222222222222,
              "#7201a8"
             ],
             [
              0.3333333333333333,
              "#9c179e"
             ],
             [
              0.4444444444444444,
              "#bd3786"
             ],
             [
              0.5555555555555556,
              "#d8576b"
             ],
             [
              0.6666666666666666,
              "#ed7953"
             ],
             [
              0.7777777777777778,
              "#fb9f3a"
             ],
             [
              0.8888888888888888,
              "#fdca26"
             ],
             [
              1,
              "#f0f921"
             ]
            ],
            "type": "histogram2d"
           }
          ],
          "histogram2dcontour": [
           {
            "colorbar": {
             "outlinewidth": 0,
             "ticks": ""
            },
            "colorscale": [
             [
              0,
              "#0d0887"
             ],
             [
              0.1111111111111111,
              "#46039f"
             ],
             [
              0.2222222222222222,
              "#7201a8"
             ],
             [
              0.3333333333333333,
              "#9c179e"
             ],
             [
              0.4444444444444444,
              "#bd3786"
             ],
             [
              0.5555555555555556,
              "#d8576b"
             ],
             [
              0.6666666666666666,
              "#ed7953"
             ],
             [
              0.7777777777777778,
              "#fb9f3a"
             ],
             [
              0.8888888888888888,
              "#fdca26"
             ],
             [
              1,
              "#f0f921"
             ]
            ],
            "type": "histogram2dcontour"
           }
          ],
          "mesh3d": [
           {
            "colorbar": {
             "outlinewidth": 0,
             "ticks": ""
            },
            "type": "mesh3d"
           }
          ],
          "parcoords": [
           {
            "line": {
             "colorbar": {
              "outlinewidth": 0,
              "ticks": ""
             }
            },
            "type": "parcoords"
           }
          ],
          "pie": [
           {
            "automargin": true,
            "type": "pie"
           }
          ],
          "scatter": [
           {
            "marker": {
             "colorbar": {
              "outlinewidth": 0,
              "ticks": ""
             }
            },
            "type": "scatter"
           }
          ],
          "scatter3d": [
           {
            "line": {
             "colorbar": {
              "outlinewidth": 0,
              "ticks": ""
             }
            },
            "marker": {
             "colorbar": {
              "outlinewidth": 0,
              "ticks": ""
             }
            },
            "type": "scatter3d"
           }
          ],
          "scattercarpet": [
           {
            "marker": {
             "colorbar": {
              "outlinewidth": 0,
              "ticks": ""
             }
            },
            "type": "scattercarpet"
           }
          ],
          "scattergeo": [
           {
            "marker": {
             "colorbar": {
              "outlinewidth": 0,
              "ticks": ""
             }
            },
            "type": "scattergeo"
           }
          ],
          "scattergl": [
           {
            "marker": {
             "colorbar": {
              "outlinewidth": 0,
              "ticks": ""
             }
            },
            "type": "scattergl"
           }
          ],
          "scattermapbox": [
           {
            "marker": {
             "colorbar": {
              "outlinewidth": 0,
              "ticks": ""
             }
            },
            "type": "scattermapbox"
           }
          ],
          "scatterpolar": [
           {
            "marker": {
             "colorbar": {
              "outlinewidth": 0,
              "ticks": ""
             }
            },
            "type": "scatterpolar"
           }
          ],
          "scatterpolargl": [
           {
            "marker": {
             "colorbar": {
              "outlinewidth": 0,
              "ticks": ""
             }
            },
            "type": "scatterpolargl"
           }
          ],
          "scatterternary": [
           {
            "marker": {
             "colorbar": {
              "outlinewidth": 0,
              "ticks": ""
             }
            },
            "type": "scatterternary"
           }
          ],
          "surface": [
           {
            "colorbar": {
             "outlinewidth": 0,
             "ticks": ""
            },
            "colorscale": [
             [
              0,
              "#0d0887"
             ],
             [
              0.1111111111111111,
              "#46039f"
             ],
             [
              0.2222222222222222,
              "#7201a8"
             ],
             [
              0.3333333333333333,
              "#9c179e"
             ],
             [
              0.4444444444444444,
              "#bd3786"
             ],
             [
              0.5555555555555556,
              "#d8576b"
             ],
             [
              0.6666666666666666,
              "#ed7953"
             ],
             [
              0.7777777777777778,
              "#fb9f3a"
             ],
             [
              0.8888888888888888,
              "#fdca26"
             ],
             [
              1,
              "#f0f921"
             ]
            ],
            "type": "surface"
           }
          ],
          "table": [
           {
            "cells": {
             "fill": {
              "color": "#EBF0F8"
             },
             "line": {
              "color": "white"
             }
            },
            "header": {
             "fill": {
              "color": "#C8D4E3"
             },
             "line": {
              "color": "white"
             }
            },
            "type": "table"
           }
          ]
         },
         "layout": {
          "annotationdefaults": {
           "arrowcolor": "#2a3f5f",
           "arrowhead": 0,
           "arrowwidth": 1
          },
          "autotypenumbers": "strict",
          "coloraxis": {
           "colorbar": {
            "outlinewidth": 0,
            "ticks": ""
           }
          },
          "colorscale": {
           "diverging": [
            [
             0,
             "#8e0152"
            ],
            [
             0.1,
             "#c51b7d"
            ],
            [
             0.2,
             "#de77ae"
            ],
            [
             0.3,
             "#f1b6da"
            ],
            [
             0.4,
             "#fde0ef"
            ],
            [
             0.5,
             "#f7f7f7"
            ],
            [
             0.6,
             "#e6f5d0"
            ],
            [
             0.7,
             "#b8e186"
            ],
            [
             0.8,
             "#7fbc41"
            ],
            [
             0.9,
             "#4d9221"
            ],
            [
             1,
             "#276419"
            ]
           ],
           "sequential": [
            [
             0,
             "#0d0887"
            ],
            [
             0.1111111111111111,
             "#46039f"
            ],
            [
             0.2222222222222222,
             "#7201a8"
            ],
            [
             0.3333333333333333,
             "#9c179e"
            ],
            [
             0.4444444444444444,
             "#bd3786"
            ],
            [
             0.5555555555555556,
             "#d8576b"
            ],
            [
             0.6666666666666666,
             "#ed7953"
            ],
            [
             0.7777777777777778,
             "#fb9f3a"
            ],
            [
             0.8888888888888888,
             "#fdca26"
            ],
            [
             1,
             "#f0f921"
            ]
           ],
           "sequentialminus": [
            [
             0,
             "#0d0887"
            ],
            [
             0.1111111111111111,
             "#46039f"
            ],
            [
             0.2222222222222222,
             "#7201a8"
            ],
            [
             0.3333333333333333,
             "#9c179e"
            ],
            [
             0.4444444444444444,
             "#bd3786"
            ],
            [
             0.5555555555555556,
             "#d8576b"
            ],
            [
             0.6666666666666666,
             "#ed7953"
            ],
            [
             0.7777777777777778,
             "#fb9f3a"
            ],
            [
             0.8888888888888888,
             "#fdca26"
            ],
            [
             1,
             "#f0f921"
            ]
           ]
          },
          "colorway": [
           "#636efa",
           "#EF553B",
           "#00cc96",
           "#ab63fa",
           "#FFA15A",
           "#19d3f3",
           "#FF6692",
           "#B6E880",
           "#FF97FF",
           "#FECB52"
          ],
          "font": {
           "color": "#2a3f5f"
          },
          "geo": {
           "bgcolor": "white",
           "lakecolor": "white",
           "landcolor": "#E5ECF6",
           "showlakes": true,
           "showland": true,
           "subunitcolor": "white"
          },
          "hoverlabel": {
           "align": "left"
          },
          "hovermode": "closest",
          "mapbox": {
           "style": "light"
          },
          "paper_bgcolor": "white",
          "plot_bgcolor": "#E5ECF6",
          "polar": {
           "angularaxis": {
            "gridcolor": "white",
            "linecolor": "white",
            "ticks": ""
           },
           "bgcolor": "#E5ECF6",
           "radialaxis": {
            "gridcolor": "white",
            "linecolor": "white",
            "ticks": ""
           }
          },
          "scene": {
           "xaxis": {
            "backgroundcolor": "#E5ECF6",
            "gridcolor": "white",
            "gridwidth": 2,
            "linecolor": "white",
            "showbackground": true,
            "ticks": "",
            "zerolinecolor": "white"
           },
           "yaxis": {
            "backgroundcolor": "#E5ECF6",
            "gridcolor": "white",
            "gridwidth": 2,
            "linecolor": "white",
            "showbackground": true,
            "ticks": "",
            "zerolinecolor": "white"
           },
           "zaxis": {
            "backgroundcolor": "#E5ECF6",
            "gridcolor": "white",
            "gridwidth": 2,
            "linecolor": "white",
            "showbackground": true,
            "ticks": "",
            "zerolinecolor": "white"
           }
          },
          "shapedefaults": {
           "line": {
            "color": "#2a3f5f"
           }
          },
          "ternary": {
           "aaxis": {
            "gridcolor": "white",
            "linecolor": "white",
            "ticks": ""
           },
           "baxis": {
            "gridcolor": "white",
            "linecolor": "white",
            "ticks": ""
           },
           "bgcolor": "#E5ECF6",
           "caxis": {
            "gridcolor": "white",
            "linecolor": "white",
            "ticks": ""
           }
          },
          "title": {
           "x": 0.05
          },
          "xaxis": {
           "automargin": true,
           "gridcolor": "white",
           "linecolor": "white",
           "ticks": "",
           "title": {
            "standoff": 15
           },
           "zerolinecolor": "white",
           "zerolinewidth": 2
          },
          "yaxis": {
           "automargin": true,
           "gridcolor": "white",
           "linecolor": "white",
           "ticks": "",
           "title": {
            "standoff": 15
           },
           "zerolinecolor": "white",
           "zerolinewidth": 2
          }
         }
        },
        "xaxis": {
         "anchor": "y",
         "domain": [
          0,
          1
         ],
         "title": {
          "text": "verantwoordelijke"
         }
        },
        "yaxis": {
         "anchor": "x",
         "autorange": true,
         "domain": [
          0,
          1
         ],
         "fixedrange": true,
         "title": {
          "text": "value"
         }
        }
       }
      },
      "text/html": [
       "<div>                            <div id=\"54ce42a5-1dab-45c0-a2c8-2e98472e7ea3\" class=\"plotly-graph-div\" style=\"height:525px; width:100%;\"></div>            <script type=\"text/javascript\">                require([\"plotly\"], function(Plotly) {                    window.PLOTLYENV=window.PLOTLYENV || {};                                    if (document.getElementById(\"54ce42a5-1dab-45c0-a2c8-2e98472e7ea3\")) {                    Plotly.newPlot(                        \"54ce42a5-1dab-45c0-a2c8-2e98472e7ea3\",                        [{\"alignmentgroup\":\"True\",\"hovertemplate\":\"<b>%{hovertext}</b><br><br>variable=image<br>periode=2022 1e Kwartaal<br>verantwoordelijke=%{x}<br>value=%{y}<extra></extra>\",\"hovertext\":[\"Ministerie van Algemene Zaken\",\"Ministerie van Binnenlandse Zaken en Koninkrijksrelaties\",\"Ministerie van Buitenlandse Zaken\",\"Ministerie van Defensie\",\"Ministerie van Economische Zaken en Klimaat\",\"Ministerie van Financi\\u00ebn\",\"Ministerie van Infrastructuur en Waterstaat\",\"Ministerie van Justitie en Veiligheid\",\"Ministerie van Landbouw, Natuur en Voedselkwaliteit\",\"Ministerie van Onderwijs, Cultuur en Wetenschap\",\"Ministerie van Sociale Zaken en Werkgelegenheid\",\"Ministerie van Volksgezondheid, Welzijn en Sport\"],\"legendgroup\":\"image\",\"marker\":{\"color\":\"#636efa\",\"pattern\":{\"shape\":\"\"}},\"name\":\"image\",\"offsetgroup\":\"image\",\"orientation\":\"v\",\"showlegend\":true,\"textposition\":\"auto\",\"x\":[\"Ministerie van Algemene Zaken\",\"Ministerie van Binnenlandse Zaken en Koninkrijksrelaties\",\"Ministerie van Buitenlandse Zaken\",\"Ministerie van Defensie\",\"Ministerie van Economische Zaken en Klimaat\",\"Ministerie van Financi\\u00ebn\",\"Ministerie van Infrastructuur en Waterstaat\",\"Ministerie van Justitie en Veiligheid\",\"Ministerie van Landbouw, Natuur en Voedselkwaliteit\",\"Ministerie van Onderwijs, Cultuur en Wetenschap\",\"Ministerie van Sociale Zaken en Werkgelegenheid\",\"Ministerie van Volksgezondheid, Welzijn en Sport\"],\"xaxis\":\"x\",\"y\":[0,0,0,0,1,0,1,0,1,0,4,0],\"yaxis\":\"y\",\"type\":\"bar\"},{\"alignmentgroup\":\"True\",\"hovertemplate\":\"<b>%{hovertext}</b><br><br>variable=pdf<br>periode=2022 1e Kwartaal<br>verantwoordelijke=%{x}<br>value=%{y}<extra></extra>\",\"hovertext\":[\"Ministerie van Algemene Zaken\",\"Ministerie van Binnenlandse Zaken en Koninkrijksrelaties\",\"Ministerie van Buitenlandse Zaken\",\"Ministerie van Defensie\",\"Ministerie van Economische Zaken en Klimaat\",\"Ministerie van Financi\\u00ebn\",\"Ministerie van Infrastructuur en Waterstaat\",\"Ministerie van Justitie en Veiligheid\",\"Ministerie van Landbouw, Natuur en Voedselkwaliteit\",\"Ministerie van Onderwijs, Cultuur en Wetenschap\",\"Ministerie van Sociale Zaken en Werkgelegenheid\",\"Ministerie van Volksgezondheid, Welzijn en Sport\"],\"legendgroup\":\"pdf\",\"marker\":{\"color\":\"#EF553B\",\"pattern\":{\"shape\":\"\"}},\"name\":\"pdf\",\"offsetgroup\":\"pdf\",\"orientation\":\"v\",\"showlegend\":true,\"textposition\":\"auto\",\"x\":[\"Ministerie van Algemene Zaken\",\"Ministerie van Binnenlandse Zaken en Koninkrijksrelaties\",\"Ministerie van Buitenlandse Zaken\",\"Ministerie van Defensie\",\"Ministerie van Economische Zaken en Klimaat\",\"Ministerie van Financi\\u00ebn\",\"Ministerie van Infrastructuur en Waterstaat\",\"Ministerie van Justitie en Veiligheid\",\"Ministerie van Landbouw, Natuur en Voedselkwaliteit\",\"Ministerie van Onderwijs, Cultuur en Wetenschap\",\"Ministerie van Sociale Zaken en Werkgelegenheid\",\"Ministerie van Volksgezondheid, Welzijn en Sport\"],\"xaxis\":\"x\",\"y\":[0,0,1,0,1,1,7,0,2,1,3,4],\"yaxis\":\"y\",\"type\":\"bar\"}],                        {\"template\":{\"data\":{\"bar\":[{\"error_x\":{\"color\":\"#2a3f5f\"},\"error_y\":{\"color\":\"#2a3f5f\"},\"marker\":{\"line\":{\"color\":\"#E5ECF6\",\"width\":0.5},\"pattern\":{\"fillmode\":\"overlay\",\"size\":10,\"solidity\":0.2}},\"type\":\"bar\"}],\"barpolar\":[{\"marker\":{\"line\":{\"color\":\"#E5ECF6\",\"width\":0.5},\"pattern\":{\"fillmode\":\"overlay\",\"size\":10,\"solidity\":0.2}},\"type\":\"barpolar\"}],\"carpet\":[{\"aaxis\":{\"endlinecolor\":\"#2a3f5f\",\"gridcolor\":\"white\",\"linecolor\":\"white\",\"minorgridcolor\":\"white\",\"startlinecolor\":\"#2a3f5f\"},\"baxis\":{\"endlinecolor\":\"#2a3f5f\",\"gridcolor\":\"white\",\"linecolor\":\"white\",\"minorgridcolor\":\"white\",\"startlinecolor\":\"#2a3f5f\"},\"type\":\"carpet\"}],\"choropleth\":[{\"colorbar\":{\"outlinewidth\":0,\"ticks\":\"\"},\"type\":\"choropleth\"}],\"contour\":[{\"colorbar\":{\"outlinewidth\":0,\"ticks\":\"\"},\"colorscale\":[[0.0,\"#0d0887\"],[0.1111111111111111,\"#46039f\"],[0.2222222222222222,\"#7201a8\"],[0.3333333333333333,\"#9c179e\"],[0.4444444444444444,\"#bd3786\"],[0.5555555555555556,\"#d8576b\"],[0.6666666666666666,\"#ed7953\"],[0.7777777777777778,\"#fb9f3a\"],[0.8888888888888888,\"#fdca26\"],[1.0,\"#f0f921\"]],\"type\":\"contour\"}],\"contourcarpet\":[{\"colorbar\":{\"outlinewidth\":0,\"ticks\":\"\"},\"type\":\"contourcarpet\"}],\"heatmap\":[{\"colorbar\":{\"outlinewidth\":0,\"ticks\":\"\"},\"colorscale\":[[0.0,\"#0d0887\"],[0.1111111111111111,\"#46039f\"],[0.2222222222222222,\"#7201a8\"],[0.3333333333333333,\"#9c179e\"],[0.4444444444444444,\"#bd3786\"],[0.5555555555555556,\"#d8576b\"],[0.6666666666666666,\"#ed7953\"],[0.7777777777777778,\"#fb9f3a\"],[0.8888888888888888,\"#fdca26\"],[1.0,\"#f0f921\"]],\"type\":\"heatmap\"}],\"heatmapgl\":[{\"colorbar\":{\"outlinewidth\":0,\"ticks\":\"\"},\"colorscale\":[[0.0,\"#0d0887\"],[0.1111111111111111,\"#46039f\"],[0.2222222222222222,\"#7201a8\"],[0.3333333333333333,\"#9c179e\"],[0.4444444444444444,\"#bd3786\"],[0.5555555555555556,\"#d8576b\"],[0.6666666666666666,\"#ed7953\"],[0.7777777777777778,\"#fb9f3a\"],[0.8888888888888888,\"#fdca26\"],[1.0,\"#f0f921\"]],\"type\":\"heatmapgl\"}],\"histogram\":[{\"marker\":{\"pattern\":{\"fillmode\":\"overlay\",\"size\":10,\"solidity\":0.2}},\"type\":\"histogram\"}],\"histogram2d\":[{\"colorbar\":{\"outlinewidth\":0,\"ticks\":\"\"},\"colorscale\":[[0.0,\"#0d0887\"],[0.1111111111111111,\"#46039f\"],[0.2222222222222222,\"#7201a8\"],[0.3333333333333333,\"#9c179e\"],[0.4444444444444444,\"#bd3786\"],[0.5555555555555556,\"#d8576b\"],[0.6666666666666666,\"#ed7953\"],[0.7777777777777778,\"#fb9f3a\"],[0.8888888888888888,\"#fdca26\"],[1.0,\"#f0f921\"]],\"type\":\"histogram2d\"}],\"histogram2dcontour\":[{\"colorbar\":{\"outlinewidth\":0,\"ticks\":\"\"},\"colorscale\":[[0.0,\"#0d0887\"],[0.1111111111111111,\"#46039f\"],[0.2222222222222222,\"#7201a8\"],[0.3333333333333333,\"#9c179e\"],[0.4444444444444444,\"#bd3786\"],[0.5555555555555556,\"#d8576b\"],[0.6666666666666666,\"#ed7953\"],[0.7777777777777778,\"#fb9f3a\"],[0.8888888888888888,\"#fdca26\"],[1.0,\"#f0f921\"]],\"type\":\"histogram2dcontour\"}],\"mesh3d\":[{\"colorbar\":{\"outlinewidth\":0,\"ticks\":\"\"},\"type\":\"mesh3d\"}],\"parcoords\":[{\"line\":{\"colorbar\":{\"outlinewidth\":0,\"ticks\":\"\"}},\"type\":\"parcoords\"}],\"pie\":[{\"automargin\":true,\"type\":\"pie\"}],\"scatter\":[{\"marker\":{\"colorbar\":{\"outlinewidth\":0,\"ticks\":\"\"}},\"type\":\"scatter\"}],\"scatter3d\":[{\"line\":{\"colorbar\":{\"outlinewidth\":0,\"ticks\":\"\"}},\"marker\":{\"colorbar\":{\"outlinewidth\":0,\"ticks\":\"\"}},\"type\":\"scatter3d\"}],\"scattercarpet\":[{\"marker\":{\"colorbar\":{\"outlinewidth\":0,\"ticks\":\"\"}},\"type\":\"scattercarpet\"}],\"scattergeo\":[{\"marker\":{\"colorbar\":{\"outlinewidth\":0,\"ticks\":\"\"}},\"type\":\"scattergeo\"}],\"scattergl\":[{\"marker\":{\"colorbar\":{\"outlinewidth\":0,\"ticks\":\"\"}},\"type\":\"scattergl\"}],\"scattermapbox\":[{\"marker\":{\"colorbar\":{\"outlinewidth\":0,\"ticks\":\"\"}},\"type\":\"scattermapbox\"}],\"scatterpolar\":[{\"marker\":{\"colorbar\":{\"outlinewidth\":0,\"ticks\":\"\"}},\"type\":\"scatterpolar\"}],\"scatterpolargl\":[{\"marker\":{\"colorbar\":{\"outlinewidth\":0,\"ticks\":\"\"}},\"type\":\"scatterpolargl\"}],\"scatterternary\":[{\"marker\":{\"colorbar\":{\"outlinewidth\":0,\"ticks\":\"\"}},\"type\":\"scatterternary\"}],\"surface\":[{\"colorbar\":{\"outlinewidth\":0,\"ticks\":\"\"},\"colorscale\":[[0.0,\"#0d0887\"],[0.1111111111111111,\"#46039f\"],[0.2222222222222222,\"#7201a8\"],[0.3333333333333333,\"#9c179e\"],[0.4444444444444444,\"#bd3786\"],[0.5555555555555556,\"#d8576b\"],[0.6666666666666666,\"#ed7953\"],[0.7777777777777778,\"#fb9f3a\"],[0.8888888888888888,\"#fdca26\"],[1.0,\"#f0f921\"]],\"type\":\"surface\"}],\"table\":[{\"cells\":{\"fill\":{\"color\":\"#EBF0F8\"},\"line\":{\"color\":\"white\"}},\"header\":{\"fill\":{\"color\":\"#C8D4E3\"},\"line\":{\"color\":\"white\"}},\"type\":\"table\"}]},\"layout\":{\"annotationdefaults\":{\"arrowcolor\":\"#2a3f5f\",\"arrowhead\":0,\"arrowwidth\":1},\"autotypenumbers\":\"strict\",\"coloraxis\":{\"colorbar\":{\"outlinewidth\":0,\"ticks\":\"\"}},\"colorscale\":{\"diverging\":[[0,\"#8e0152\"],[0.1,\"#c51b7d\"],[0.2,\"#de77ae\"],[0.3,\"#f1b6da\"],[0.4,\"#fde0ef\"],[0.5,\"#f7f7f7\"],[0.6,\"#e6f5d0\"],[0.7,\"#b8e186\"],[0.8,\"#7fbc41\"],[0.9,\"#4d9221\"],[1,\"#276419\"]],\"sequential\":[[0.0,\"#0d0887\"],[0.1111111111111111,\"#46039f\"],[0.2222222222222222,\"#7201a8\"],[0.3333333333333333,\"#9c179e\"],[0.4444444444444444,\"#bd3786\"],[0.5555555555555556,\"#d8576b\"],[0.6666666666666666,\"#ed7953\"],[0.7777777777777778,\"#fb9f3a\"],[0.8888888888888888,\"#fdca26\"],[1.0,\"#f0f921\"]],\"sequentialminus\":[[0.0,\"#0d0887\"],[0.1111111111111111,\"#46039f\"],[0.2222222222222222,\"#7201a8\"],[0.3333333333333333,\"#9c179e\"],[0.4444444444444444,\"#bd3786\"],[0.5555555555555556,\"#d8576b\"],[0.6666666666666666,\"#ed7953\"],[0.7777777777777778,\"#fb9f3a\"],[0.8888888888888888,\"#fdca26\"],[1.0,\"#f0f921\"]]},\"colorway\":[\"#636efa\",\"#EF553B\",\"#00cc96\",\"#ab63fa\",\"#FFA15A\",\"#19d3f3\",\"#FF6692\",\"#B6E880\",\"#FF97FF\",\"#FECB52\"],\"font\":{\"color\":\"#2a3f5f\"},\"geo\":{\"bgcolor\":\"white\",\"lakecolor\":\"white\",\"landcolor\":\"#E5ECF6\",\"showlakes\":true,\"showland\":true,\"subunitcolor\":\"white\"},\"hoverlabel\":{\"align\":\"left\"},\"hovermode\":\"closest\",\"mapbox\":{\"style\":\"light\"},\"paper_bgcolor\":\"white\",\"plot_bgcolor\":\"#E5ECF6\",\"polar\":{\"angularaxis\":{\"gridcolor\":\"white\",\"linecolor\":\"white\",\"ticks\":\"\"},\"bgcolor\":\"#E5ECF6\",\"radialaxis\":{\"gridcolor\":\"white\",\"linecolor\":\"white\",\"ticks\":\"\"}},\"scene\":{\"xaxis\":{\"backgroundcolor\":\"#E5ECF6\",\"gridcolor\":\"white\",\"gridwidth\":2,\"linecolor\":\"white\",\"showbackground\":true,\"ticks\":\"\",\"zerolinecolor\":\"white\"},\"yaxis\":{\"backgroundcolor\":\"#E5ECF6\",\"gridcolor\":\"white\",\"gridwidth\":2,\"linecolor\":\"white\",\"showbackground\":true,\"ticks\":\"\",\"zerolinecolor\":\"white\"},\"zaxis\":{\"backgroundcolor\":\"#E5ECF6\",\"gridcolor\":\"white\",\"gridwidth\":2,\"linecolor\":\"white\",\"showbackground\":true,\"ticks\":\"\",\"zerolinecolor\":\"white\"}},\"shapedefaults\":{\"line\":{\"color\":\"#2a3f5f\"}},\"ternary\":{\"aaxis\":{\"gridcolor\":\"white\",\"linecolor\":\"white\",\"ticks\":\"\"},\"baxis\":{\"gridcolor\":\"white\",\"linecolor\":\"white\",\"ticks\":\"\"},\"bgcolor\":\"#E5ECF6\",\"caxis\":{\"gridcolor\":\"white\",\"linecolor\":\"white\",\"ticks\":\"\"}},\"title\":{\"x\":0.05},\"xaxis\":{\"automargin\":true,\"gridcolor\":\"white\",\"linecolor\":\"white\",\"ticks\":\"\",\"title\":{\"standoff\":15},\"zerolinecolor\":\"white\",\"zerolinewidth\":2},\"yaxis\":{\"automargin\":true,\"gridcolor\":\"white\",\"linecolor\":\"white\",\"ticks\":\"\",\"title\":{\"standoff\":15},\"zerolinecolor\":\"white\",\"zerolinewidth\":2}}},\"xaxis\":{\"anchor\":\"y\",\"domain\":[0.0,1.0],\"title\":{\"text\":\"verantwoordelijke\"}},\"yaxis\":{\"anchor\":\"x\",\"domain\":[0.0,1.0],\"title\":{\"text\":\"value\"},\"autorange\":true,\"fixedrange\":true},\"legend\":{\"title\":{\"text\":\"variable\"},\"tracegroupgap\":0},\"margin\":{\"t\":60},\"barmode\":\"relative\",\"sliders\":[{\"active\":0,\"currentvalue\":{\"prefix\":\"periode=\"},\"len\":0.9,\"pad\":{\"b\":10,\"t\":60},\"steps\":[{\"args\":[[\"2022 1e Kwartaal\"],{\"frame\":{\"duration\":0,\"redraw\":true},\"mode\":\"immediate\",\"fromcurrent\":true,\"transition\":{\"duration\":0,\"easing\":\"linear\"}}],\"label\":\"2022 1e Kwartaal\",\"method\":\"animate\"},{\"args\":[[\"2022 2e Kwartaal\"],{\"frame\":{\"duration\":0,\"redraw\":true},\"mode\":\"immediate\",\"fromcurrent\":true,\"transition\":{\"duration\":0,\"easing\":\"linear\"}}],\"label\":\"2022 2e Kwartaal\",\"method\":\"animate\"},{\"args\":[[\"2022 3e Kwartaal\"],{\"frame\":{\"duration\":0,\"redraw\":true},\"mode\":\"immediate\",\"fromcurrent\":true,\"transition\":{\"duration\":0,\"easing\":\"linear\"}}],\"label\":\"2022 3e Kwartaal\",\"method\":\"animate\"},{\"args\":[[\"2022 4e Kwartaal\"],{\"frame\":{\"duration\":0,\"redraw\":true},\"mode\":\"immediate\",\"fromcurrent\":true,\"transition\":{\"duration\":0,\"easing\":\"linear\"}}],\"label\":\"2022 4e Kwartaal\",\"method\":\"animate\"},{\"args\":[[\"2023 1e Kwartaal\"],{\"frame\":{\"duration\":0,\"redraw\":true},\"mode\":\"immediate\",\"fromcurrent\":true,\"transition\":{\"duration\":0,\"easing\":\"linear\"}}],\"label\":\"2023 1e Kwartaal\",\"method\":\"animate\"}],\"x\":0.1,\"xanchor\":\"left\",\"y\":0,\"yanchor\":\"top\"}]},                        {\"responsive\": true}                    ).then(function(){\n",
       "                            Plotly.addFrames('54ce42a5-1dab-45c0-a2c8-2e98472e7ea3', [{\"data\":[{\"alignmentgroup\":\"True\",\"hovertemplate\":\"<b>%{hovertext}</b><br><br>variable=image<br>periode=2022 1e Kwartaal<br>verantwoordelijke=%{x}<br>value=%{y}<extra></extra>\",\"hovertext\":[\"Ministerie van Algemene Zaken\",\"Ministerie van Binnenlandse Zaken en Koninkrijksrelaties\",\"Ministerie van Buitenlandse Zaken\",\"Ministerie van Defensie\",\"Ministerie van Economische Zaken en Klimaat\",\"Ministerie van Financi\\u00ebn\",\"Ministerie van Infrastructuur en Waterstaat\",\"Ministerie van Justitie en Veiligheid\",\"Ministerie van Landbouw, Natuur en Voedselkwaliteit\",\"Ministerie van Onderwijs, Cultuur en Wetenschap\",\"Ministerie van Sociale Zaken en Werkgelegenheid\",\"Ministerie van Volksgezondheid, Welzijn en Sport\"],\"legendgroup\":\"image\",\"marker\":{\"color\":\"#636efa\",\"pattern\":{\"shape\":\"\"}},\"name\":\"image\",\"offsetgroup\":\"image\",\"orientation\":\"v\",\"showlegend\":true,\"textposition\":\"auto\",\"x\":[\"Ministerie van Algemene Zaken\",\"Ministerie van Binnenlandse Zaken en Koninkrijksrelaties\",\"Ministerie van Buitenlandse Zaken\",\"Ministerie van Defensie\",\"Ministerie van Economische Zaken en Klimaat\",\"Ministerie van Financi\\u00ebn\",\"Ministerie van Infrastructuur en Waterstaat\",\"Ministerie van Justitie en Veiligheid\",\"Ministerie van Landbouw, Natuur en Voedselkwaliteit\",\"Ministerie van Onderwijs, Cultuur en Wetenschap\",\"Ministerie van Sociale Zaken en Werkgelegenheid\",\"Ministerie van Volksgezondheid, Welzijn en Sport\"],\"xaxis\":\"x\",\"y\":[0,0,0,0,1,0,1,0,1,0,4,0],\"yaxis\":\"y\",\"type\":\"bar\"},{\"alignmentgroup\":\"True\",\"hovertemplate\":\"<b>%{hovertext}</b><br><br>variable=pdf<br>periode=2022 1e Kwartaal<br>verantwoordelijke=%{x}<br>value=%{y}<extra></extra>\",\"hovertext\":[\"Ministerie van Algemene Zaken\",\"Ministerie van Binnenlandse Zaken en Koninkrijksrelaties\",\"Ministerie van Buitenlandse Zaken\",\"Ministerie van Defensie\",\"Ministerie van Economische Zaken en Klimaat\",\"Ministerie van Financi\\u00ebn\",\"Ministerie van Infrastructuur en Waterstaat\",\"Ministerie van Justitie en Veiligheid\",\"Ministerie van Landbouw, Natuur en Voedselkwaliteit\",\"Ministerie van Onderwijs, Cultuur en Wetenschap\",\"Ministerie van Sociale Zaken en Werkgelegenheid\",\"Ministerie van Volksgezondheid, Welzijn en Sport\"],\"legendgroup\":\"pdf\",\"marker\":{\"color\":\"#EF553B\",\"pattern\":{\"shape\":\"\"}},\"name\":\"pdf\",\"offsetgroup\":\"pdf\",\"orientation\":\"v\",\"showlegend\":true,\"textposition\":\"auto\",\"x\":[\"Ministerie van Algemene Zaken\",\"Ministerie van Binnenlandse Zaken en Koninkrijksrelaties\",\"Ministerie van Buitenlandse Zaken\",\"Ministerie van Defensie\",\"Ministerie van Economische Zaken en Klimaat\",\"Ministerie van Financi\\u00ebn\",\"Ministerie van Infrastructuur en Waterstaat\",\"Ministerie van Justitie en Veiligheid\",\"Ministerie van Landbouw, Natuur en Voedselkwaliteit\",\"Ministerie van Onderwijs, Cultuur en Wetenschap\",\"Ministerie van Sociale Zaken en Werkgelegenheid\",\"Ministerie van Volksgezondheid, Welzijn en Sport\"],\"xaxis\":\"x\",\"y\":[0,0,1,0,1,1,7,0,2,1,3,4],\"yaxis\":\"y\",\"type\":\"bar\"}],\"name\":\"2022 1e Kwartaal\"},{\"data\":[{\"alignmentgroup\":\"True\",\"hovertemplate\":\"<b>%{hovertext}</b><br><br>variable=image<br>periode=2022 2e Kwartaal<br>verantwoordelijke=%{x}<br>value=%{y}<extra></extra>\",\"hovertext\":[\"Ministerie van Algemene Zaken\",\"Ministerie van Binnenlandse Zaken en Koninkrijksrelaties\",\"Ministerie van Buitenlandse Zaken\",\"Ministerie van Defensie\",\"Ministerie van Economische Zaken en Klimaat\",\"Ministerie van Financi\\u00ebn\",\"Ministerie van Infrastructuur en Waterstaat\",\"Ministerie van Justitie en Veiligheid\",\"Ministerie van Landbouw, Natuur en Voedselkwaliteit\",\"Ministerie van Onderwijs, Cultuur en Wetenschap\",\"Ministerie van Sociale Zaken en Werkgelegenheid\",\"Ministerie van Volksgezondheid, Welzijn en Sport\"],\"legendgroup\":\"image\",\"marker\":{\"color\":\"#636efa\",\"pattern\":{\"shape\":\"\"}},\"name\":\"image\",\"offsetgroup\":\"image\",\"orientation\":\"v\",\"showlegend\":true,\"textposition\":\"auto\",\"x\":[\"Ministerie van Algemene Zaken\",\"Ministerie van Binnenlandse Zaken en Koninkrijksrelaties\",\"Ministerie van Buitenlandse Zaken\",\"Ministerie van Defensie\",\"Ministerie van Economische Zaken en Klimaat\",\"Ministerie van Financi\\u00ebn\",\"Ministerie van Infrastructuur en Waterstaat\",\"Ministerie van Justitie en Veiligheid\",\"Ministerie van Landbouw, Natuur en Voedselkwaliteit\",\"Ministerie van Onderwijs, Cultuur en Wetenschap\",\"Ministerie van Sociale Zaken en Werkgelegenheid\",\"Ministerie van Volksgezondheid, Welzijn en Sport\"],\"xaxis\":\"x\",\"y\":[0,1,1,0,3,4,9,6,8,1,3,0],\"yaxis\":\"y\",\"type\":\"bar\"},{\"alignmentgroup\":\"True\",\"hovertemplate\":\"<b>%{hovertext}</b><br><br>variable=pdf<br>periode=2022 2e Kwartaal<br>verantwoordelijke=%{x}<br>value=%{y}<extra></extra>\",\"hovertext\":[\"Ministerie van Algemene Zaken\",\"Ministerie van Binnenlandse Zaken en Koninkrijksrelaties\",\"Ministerie van Buitenlandse Zaken\",\"Ministerie van Defensie\",\"Ministerie van Economische Zaken en Klimaat\",\"Ministerie van Financi\\u00ebn\",\"Ministerie van Infrastructuur en Waterstaat\",\"Ministerie van Justitie en Veiligheid\",\"Ministerie van Landbouw, Natuur en Voedselkwaliteit\",\"Ministerie van Onderwijs, Cultuur en Wetenschap\",\"Ministerie van Sociale Zaken en Werkgelegenheid\",\"Ministerie van Volksgezondheid, Welzijn en Sport\"],\"legendgroup\":\"pdf\",\"marker\":{\"color\":\"#EF553B\",\"pattern\":{\"shape\":\"\"}},\"name\":\"pdf\",\"offsetgroup\":\"pdf\",\"orientation\":\"v\",\"showlegend\":true,\"textposition\":\"auto\",\"x\":[\"Ministerie van Algemene Zaken\",\"Ministerie van Binnenlandse Zaken en Koninkrijksrelaties\",\"Ministerie van Buitenlandse Zaken\",\"Ministerie van Defensie\",\"Ministerie van Economische Zaken en Klimaat\",\"Ministerie van Financi\\u00ebn\",\"Ministerie van Infrastructuur en Waterstaat\",\"Ministerie van Justitie en Veiligheid\",\"Ministerie van Landbouw, Natuur en Voedselkwaliteit\",\"Ministerie van Onderwijs, Cultuur en Wetenschap\",\"Ministerie van Sociale Zaken en Werkgelegenheid\",\"Ministerie van Volksgezondheid, Welzijn en Sport\"],\"xaxis\":\"x\",\"y\":[0,18,8,14,7,33,23,12,38,3,1,5],\"yaxis\":\"y\",\"type\":\"bar\"}],\"name\":\"2022 2e Kwartaal\"},{\"data\":[{\"alignmentgroup\":\"True\",\"hovertemplate\":\"<b>%{hovertext}</b><br><br>variable=image<br>periode=2022 3e Kwartaal<br>verantwoordelijke=%{x}<br>value=%{y}<extra></extra>\",\"hovertext\":[\"Ministerie van Algemene Zaken\",\"Ministerie van Binnenlandse Zaken en Koninkrijksrelaties\",\"Ministerie van Buitenlandse Zaken\",\"Ministerie van Defensie\",\"Ministerie van Economische Zaken en Klimaat\",\"Ministerie van Financi\\u00ebn\",\"Ministerie van Infrastructuur en Waterstaat\",\"Ministerie van Justitie en Veiligheid\",\"Ministerie van Landbouw, Natuur en Voedselkwaliteit\",\"Ministerie van Onderwijs, Cultuur en Wetenschap\",\"Ministerie van Sociale Zaken en Werkgelegenheid\",\"Ministerie van Volksgezondheid, Welzijn en Sport\"],\"legendgroup\":\"image\",\"marker\":{\"color\":\"#636efa\",\"pattern\":{\"shape\":\"\"}},\"name\":\"image\",\"offsetgroup\":\"image\",\"orientation\":\"v\",\"showlegend\":true,\"textposition\":\"auto\",\"x\":[\"Ministerie van Algemene Zaken\",\"Ministerie van Binnenlandse Zaken en Koninkrijksrelaties\",\"Ministerie van Buitenlandse Zaken\",\"Ministerie van Defensie\",\"Ministerie van Economische Zaken en Klimaat\",\"Ministerie van Financi\\u00ebn\",\"Ministerie van Infrastructuur en Waterstaat\",\"Ministerie van Justitie en Veiligheid\",\"Ministerie van Landbouw, Natuur en Voedselkwaliteit\",\"Ministerie van Onderwijs, Cultuur en Wetenschap\",\"Ministerie van Sociale Zaken en Werkgelegenheid\",\"Ministerie van Volksgezondheid, Welzijn en Sport\"],\"xaxis\":\"x\",\"y\":[1,0,1,2,14,3,10,20,15,3,2,0],\"yaxis\":\"y\",\"type\":\"bar\"},{\"alignmentgroup\":\"True\",\"hovertemplate\":\"<b>%{hovertext}</b><br><br>variable=pdf<br>periode=2022 3e Kwartaal<br>verantwoordelijke=%{x}<br>value=%{y}<extra></extra>\",\"hovertext\":[\"Ministerie van Algemene Zaken\",\"Ministerie van Binnenlandse Zaken en Koninkrijksrelaties\",\"Ministerie van Buitenlandse Zaken\",\"Ministerie van Defensie\",\"Ministerie van Economische Zaken en Klimaat\",\"Ministerie van Financi\\u00ebn\",\"Ministerie van Infrastructuur en Waterstaat\",\"Ministerie van Justitie en Veiligheid\",\"Ministerie van Landbouw, Natuur en Voedselkwaliteit\",\"Ministerie van Onderwijs, Cultuur en Wetenschap\",\"Ministerie van Sociale Zaken en Werkgelegenheid\",\"Ministerie van Volksgezondheid, Welzijn en Sport\"],\"legendgroup\":\"pdf\",\"marker\":{\"color\":\"#EF553B\",\"pattern\":{\"shape\":\"\"}},\"name\":\"pdf\",\"offsetgroup\":\"pdf\",\"orientation\":\"v\",\"showlegend\":true,\"textposition\":\"auto\",\"x\":[\"Ministerie van Algemene Zaken\",\"Ministerie van Binnenlandse Zaken en Koninkrijksrelaties\",\"Ministerie van Buitenlandse Zaken\",\"Ministerie van Defensie\",\"Ministerie van Economische Zaken en Klimaat\",\"Ministerie van Financi\\u00ebn\",\"Ministerie van Infrastructuur en Waterstaat\",\"Ministerie van Justitie en Veiligheid\",\"Ministerie van Landbouw, Natuur en Voedselkwaliteit\",\"Ministerie van Onderwijs, Cultuur en Wetenschap\",\"Ministerie van Sociale Zaken en Werkgelegenheid\",\"Ministerie van Volksgezondheid, Welzijn en Sport\"],\"xaxis\":\"x\",\"y\":[1,25,30,9,18,33,28,23,61,21,8,5],\"yaxis\":\"y\",\"type\":\"bar\"}],\"name\":\"2022 3e Kwartaal\"},{\"data\":[{\"alignmentgroup\":\"True\",\"hovertemplate\":\"<b>%{hovertext}</b><br><br>variable=image<br>periode=2022 4e Kwartaal<br>verantwoordelijke=%{x}<br>value=%{y}<extra></extra>\",\"hovertext\":[\"Ministerie van Algemene Zaken\",\"Ministerie van Binnenlandse Zaken en Koninkrijksrelaties\",\"Ministerie van Buitenlandse Zaken\",\"Ministerie van Defensie\",\"Ministerie van Economische Zaken en Klimaat\",\"Ministerie van Financi\\u00ebn\",\"Ministerie van Infrastructuur en Waterstaat\",\"Ministerie van Justitie en Veiligheid\",\"Ministerie van Landbouw, Natuur en Voedselkwaliteit\",\"Ministerie van Onderwijs, Cultuur en Wetenschap\",\"Ministerie van Sociale Zaken en Werkgelegenheid\",\"Ministerie van Volksgezondheid, Welzijn en Sport\"],\"legendgroup\":\"image\",\"marker\":{\"color\":\"#636efa\",\"pattern\":{\"shape\":\"\"}},\"name\":\"image\",\"offsetgroup\":\"image\",\"orientation\":\"v\",\"showlegend\":true,\"textposition\":\"auto\",\"x\":[\"Ministerie van Algemene Zaken\",\"Ministerie van Binnenlandse Zaken en Koninkrijksrelaties\",\"Ministerie van Buitenlandse Zaken\",\"Ministerie van Defensie\",\"Ministerie van Economische Zaken en Klimaat\",\"Ministerie van Financi\\u00ebn\",\"Ministerie van Infrastructuur en Waterstaat\",\"Ministerie van Justitie en Veiligheid\",\"Ministerie van Landbouw, Natuur en Voedselkwaliteit\",\"Ministerie van Onderwijs, Cultuur en Wetenschap\",\"Ministerie van Sociale Zaken en Werkgelegenheid\",\"Ministerie van Volksgezondheid, Welzijn en Sport\"],\"xaxis\":\"x\",\"y\":[0,0,3,0,11,2,3,18,11,0,3,1],\"yaxis\":\"y\",\"type\":\"bar\"},{\"alignmentgroup\":\"True\",\"hovertemplate\":\"<b>%{hovertext}</b><br><br>variable=pdf<br>periode=2022 4e Kwartaal<br>verantwoordelijke=%{x}<br>value=%{y}<extra></extra>\",\"hovertext\":[\"Ministerie van Algemene Zaken\",\"Ministerie van Binnenlandse Zaken en Koninkrijksrelaties\",\"Ministerie van Buitenlandse Zaken\",\"Ministerie van Defensie\",\"Ministerie van Economische Zaken en Klimaat\",\"Ministerie van Financi\\u00ebn\",\"Ministerie van Infrastructuur en Waterstaat\",\"Ministerie van Justitie en Veiligheid\",\"Ministerie van Landbouw, Natuur en Voedselkwaliteit\",\"Ministerie van Onderwijs, Cultuur en Wetenschap\",\"Ministerie van Sociale Zaken en Werkgelegenheid\",\"Ministerie van Volksgezondheid, Welzijn en Sport\"],\"legendgroup\":\"pdf\",\"marker\":{\"color\":\"#EF553B\",\"pattern\":{\"shape\":\"\"}},\"name\":\"pdf\",\"offsetgroup\":\"pdf\",\"orientation\":\"v\",\"showlegend\":true,\"textposition\":\"auto\",\"x\":[\"Ministerie van Algemene Zaken\",\"Ministerie van Binnenlandse Zaken en Koninkrijksrelaties\",\"Ministerie van Buitenlandse Zaken\",\"Ministerie van Defensie\",\"Ministerie van Economische Zaken en Klimaat\",\"Ministerie van Financi\\u00ebn\",\"Ministerie van Infrastructuur en Waterstaat\",\"Ministerie van Justitie en Veiligheid\",\"Ministerie van Landbouw, Natuur en Voedselkwaliteit\",\"Ministerie van Onderwijs, Cultuur en Wetenschap\",\"Ministerie van Sociale Zaken en Werkgelegenheid\",\"Ministerie van Volksgezondheid, Welzijn en Sport\"],\"xaxis\":\"x\",\"y\":[1,32,13,17,18,43,22,30,91,17,18,13],\"yaxis\":\"y\",\"type\":\"bar\"}],\"name\":\"2022 4e Kwartaal\"},{\"data\":[{\"alignmentgroup\":\"True\",\"hovertemplate\":\"<b>%{hovertext}</b><br><br>variable=image<br>periode=2023 1e Kwartaal<br>verantwoordelijke=%{x}<br>value=%{y}<extra></extra>\",\"hovertext\":[\"Ministerie van Algemene Zaken\",\"Ministerie van Binnenlandse Zaken en Koninkrijksrelaties\",\"Ministerie van Buitenlandse Zaken\",\"Ministerie van Defensie\",\"Ministerie van Economische Zaken en Klimaat\",\"Ministerie van Financi\\u00ebn\",\"Ministerie van Infrastructuur en Waterstaat\",\"Ministerie van Justitie en Veiligheid\",\"Ministerie van Landbouw, Natuur en Voedselkwaliteit\",\"Ministerie van Onderwijs, Cultuur en Wetenschap\",\"Ministerie van Sociale Zaken en Werkgelegenheid\",\"Ministerie van Volksgezondheid, Welzijn en Sport\"],\"legendgroup\":\"image\",\"marker\":{\"color\":\"#636efa\",\"pattern\":{\"shape\":\"\"}},\"name\":\"image\",\"offsetgroup\":\"image\",\"orientation\":\"v\",\"showlegend\":true,\"textposition\":\"auto\",\"x\":[\"Ministerie van Algemene Zaken\",\"Ministerie van Binnenlandse Zaken en Koninkrijksrelaties\",\"Ministerie van Buitenlandse Zaken\",\"Ministerie van Defensie\",\"Ministerie van Economische Zaken en Klimaat\",\"Ministerie van Financi\\u00ebn\",\"Ministerie van Infrastructuur en Waterstaat\",\"Ministerie van Justitie en Veiligheid\",\"Ministerie van Landbouw, Natuur en Voedselkwaliteit\",\"Ministerie van Onderwijs, Cultuur en Wetenschap\",\"Ministerie van Sociale Zaken en Werkgelegenheid\",\"Ministerie van Volksgezondheid, Welzijn en Sport\"],\"xaxis\":\"x\",\"y\":[0,0,0,1,5,1,1,8,3,0,2,1],\"yaxis\":\"y\",\"type\":\"bar\"},{\"alignmentgroup\":\"True\",\"hovertemplate\":\"<b>%{hovertext}</b><br><br>variable=pdf<br>periode=2023 1e Kwartaal<br>verantwoordelijke=%{x}<br>value=%{y}<extra></extra>\",\"hovertext\":[\"Ministerie van Algemene Zaken\",\"Ministerie van Binnenlandse Zaken en Koninkrijksrelaties\",\"Ministerie van Buitenlandse Zaken\",\"Ministerie van Defensie\",\"Ministerie van Economische Zaken en Klimaat\",\"Ministerie van Financi\\u00ebn\",\"Ministerie van Infrastructuur en Waterstaat\",\"Ministerie van Justitie en Veiligheid\",\"Ministerie van Landbouw, Natuur en Voedselkwaliteit\",\"Ministerie van Onderwijs, Cultuur en Wetenschap\",\"Ministerie van Sociale Zaken en Werkgelegenheid\",\"Ministerie van Volksgezondheid, Welzijn en Sport\"],\"legendgroup\":\"pdf\",\"marker\":{\"color\":\"#EF553B\",\"pattern\":{\"shape\":\"\"}},\"name\":\"pdf\",\"offsetgroup\":\"pdf\",\"orientation\":\"v\",\"showlegend\":true,\"textposition\":\"auto\",\"x\":[\"Ministerie van Algemene Zaken\",\"Ministerie van Binnenlandse Zaken en Koninkrijksrelaties\",\"Ministerie van Buitenlandse Zaken\",\"Ministerie van Defensie\",\"Ministerie van Economische Zaken en Klimaat\",\"Ministerie van Financi\\u00ebn\",\"Ministerie van Infrastructuur en Waterstaat\",\"Ministerie van Justitie en Veiligheid\",\"Ministerie van Landbouw, Natuur en Voedselkwaliteit\",\"Ministerie van Onderwijs, Cultuur en Wetenschap\",\"Ministerie van Sociale Zaken en Werkgelegenheid\",\"Ministerie van Volksgezondheid, Welzijn en Sport\"],\"xaxis\":\"x\",\"y\":[0,20,12,5,10,30,13,12,51,6,4,2],\"yaxis\":\"y\",\"type\":\"bar\"}],\"name\":\"2023 1e Kwartaal\"}]);\n",
       "                        }).then(function(){\n",
       "                            \n",
       "var gd = document.getElementById('54ce42a5-1dab-45c0-a2c8-2e98472e7ea3');\n",
       "var x = new MutationObserver(function (mutations, observer) {{\n",
       "        var display = window.getComputedStyle(gd).display;\n",
       "        if (!display || display === 'none') {{\n",
       "            console.log([gd, 'removed!']);\n",
       "            Plotly.purge(gd);\n",
       "            observer.disconnect();\n",
       "        }}\n",
       "}});\n",
       "\n",
       "// Listen for the removal of the full notebook cells\n",
       "var notebookContainer = gd.closest('#notebook-container');\n",
       "if (notebookContainer) {{\n",
       "    x.observe(notebookContainer, {childList: true});\n",
       "}}\n",
       "\n",
       "// Listen for the clearing of the current output cell\n",
       "var outputEl = gd.closest('.output');\n",
       "if (outputEl) {{\n",
       "    x.observe(outputEl, {childList: true});\n",
       "}}\n",
       "\n",
       "                        })                };                });            </script>        </div>"
      ]
     },
     "metadata": {},
     "output_type": "display_data"
    }
   ],
   "source": [
    "fig = px.bar(result, x=\"verantwoordelijke\", y=[\"image\", \"pdf\"], animation_frame='periode',\n",
    "         hover_name=\"verantwoordelijke\")\n",
    "\n",
    "fig.update_yaxes(\n",
    "    autorange = True,\n",
    "    fixedrange = True\n",
    ")\n",
    "\n",
    "\n",
    "fig[\"layout\"].pop(\"updatemenus\") # optional, drop animation buttons\n",
    "fig.show()"
   ]
  },
  {
   "cell_type": "code",
   "execution_count": 138,
   "id": "cd219509",
   "metadata": {},
   "outputs": [
    {
     "name": "stderr",
     "output_type": "stream",
     "text": [
      "C:\\Users\\ramon\\AppData\\Local\\Temp\\ipykernel_47428\\1376667530.py:1: FutureWarning:\n",
      "\n",
      "Indexing with multiple keys (implicitly converted to a tuple of keys) will be deprecated, use a list instead.\n",
      "\n"
     ]
    },
    {
     "data": {
      "text/html": [
       "<div>\n",
       "<style scoped>\n",
       "    .dataframe tbody tr th:only-of-type {\n",
       "        vertical-align: middle;\n",
       "    }\n",
       "\n",
       "    .dataframe tbody tr th {\n",
       "        vertical-align: top;\n",
       "    }\n",
       "\n",
       "    .dataframe thead th {\n",
       "        text-align: right;\n",
       "    }\n",
       "</style>\n",
       "<table border=\"1\" class=\"dataframe\">\n",
       "  <thead>\n",
       "    <tr style=\"text-align: right;\">\n",
       "      <th></th>\n",
       "      <th>verantwoordelijke</th>\n",
       "      <th>pdf</th>\n",
       "      <th>image</th>\n",
       "    </tr>\n",
       "  </thead>\n",
       "  <tbody>\n",
       "    <tr>\n",
       "      <th>0</th>\n",
       "      <td>Ministerie van Algemene Zaken</td>\n",
       "      <td>2</td>\n",
       "      <td>1</td>\n",
       "    </tr>\n",
       "    <tr>\n",
       "      <th>1</th>\n",
       "      <td>Ministerie van Binnenlandse Zaken en Koninkrij...</td>\n",
       "      <td>95</td>\n",
       "      <td>1</td>\n",
       "    </tr>\n",
       "    <tr>\n",
       "      <th>2</th>\n",
       "      <td>Ministerie van Buitenlandse Zaken</td>\n",
       "      <td>64</td>\n",
       "      <td>5</td>\n",
       "    </tr>\n",
       "    <tr>\n",
       "      <th>3</th>\n",
       "      <td>Ministerie van Defensie</td>\n",
       "      <td>45</td>\n",
       "      <td>3</td>\n",
       "    </tr>\n",
       "    <tr>\n",
       "      <th>4</th>\n",
       "      <td>Ministerie van Economische Zaken en Klimaat</td>\n",
       "      <td>54</td>\n",
       "      <td>34</td>\n",
       "    </tr>\n",
       "    <tr>\n",
       "      <th>5</th>\n",
       "      <td>Ministerie van Financiën</td>\n",
       "      <td>140</td>\n",
       "      <td>10</td>\n",
       "    </tr>\n",
       "    <tr>\n",
       "      <th>6</th>\n",
       "      <td>Ministerie van Infrastructuur en Waterstaat</td>\n",
       "      <td>93</td>\n",
       "      <td>24</td>\n",
       "    </tr>\n",
       "    <tr>\n",
       "      <th>7</th>\n",
       "      <td>Ministerie van Justitie en Veiligheid</td>\n",
       "      <td>77</td>\n",
       "      <td>52</td>\n",
       "    </tr>\n",
       "    <tr>\n",
       "      <th>8</th>\n",
       "      <td>Ministerie van Landbouw, Natuur en Voedselkwal...</td>\n",
       "      <td>243</td>\n",
       "      <td>38</td>\n",
       "    </tr>\n",
       "    <tr>\n",
       "      <th>9</th>\n",
       "      <td>Ministerie van Onderwijs, Cultuur en Wetenschap</td>\n",
       "      <td>48</td>\n",
       "      <td>4</td>\n",
       "    </tr>\n",
       "    <tr>\n",
       "      <th>10</th>\n",
       "      <td>Ministerie van Sociale Zaken en Werkgelegenheid</td>\n",
       "      <td>34</td>\n",
       "      <td>14</td>\n",
       "    </tr>\n",
       "    <tr>\n",
       "      <th>11</th>\n",
       "      <td>Ministerie van Volksgezondheid, Welzijn en Sport</td>\n",
       "      <td>29</td>\n",
       "      <td>2</td>\n",
       "    </tr>\n",
       "  </tbody>\n",
       "</table>\n",
       "</div>"
      ],
      "text/plain": [
       "                                    verantwoordelijke  pdf  image\n",
       "0                       Ministerie van Algemene Zaken    2      1\n",
       "1   Ministerie van Binnenlandse Zaken en Koninkrij...   95      1\n",
       "2                   Ministerie van Buitenlandse Zaken   64      5\n",
       "3                             Ministerie van Defensie   45      3\n",
       "4         Ministerie van Economische Zaken en Klimaat   54     34\n",
       "5                            Ministerie van Financiën  140     10\n",
       "6         Ministerie van Infrastructuur en Waterstaat   93     24\n",
       "7               Ministerie van Justitie en Veiligheid   77     52\n",
       "8   Ministerie van Landbouw, Natuur en Voedselkwal...  243     38\n",
       "9     Ministerie van Onderwijs, Cultuur en Wetenschap   48      4\n",
       "10    Ministerie van Sociale Zaken en Werkgelegenheid   34     14\n",
       "11   Ministerie van Volksgezondheid, Welzijn en Sport   29      2"
      ]
     },
     "metadata": {},
     "output_type": "display_data"
    }
   ],
   "source": [
    "result2 = result.groupby(['verantwoordelijke'])['pdf','image'].sum().reset_index()\n",
    "display(result2)"
   ]
  },
  {
   "cell_type": "code",
   "execution_count": 139,
   "id": "ae73958c",
   "metadata": {},
   "outputs": [
    {
     "data": {
      "application/vnd.plotly.v1+json": {
       "config": {
        "plotlyServerURL": "https://plot.ly"
       },
       "data": [
        {
         "marker": {
          "color": "indianred"
         },
         "name": "text-pdf",
         "type": "bar",
         "x": [
          "Ministerie van Algemene Zaken",
          "Ministerie van Binnenlandse Zaken en Koninkrijksrelaties",
          "Ministerie van Buitenlandse Zaken",
          "Ministerie van Defensie",
          "Ministerie van Economische Zaken en Klimaat",
          "Ministerie van Financiën",
          "Ministerie van Infrastructuur en Waterstaat",
          "Ministerie van Justitie en Veiligheid",
          "Ministerie van Landbouw, Natuur en Voedselkwaliteit",
          "Ministerie van Onderwijs, Cultuur en Wetenschap",
          "Ministerie van Sociale Zaken en Werkgelegenheid",
          "Ministerie van Volksgezondheid, Welzijn en Sport",
          "Ministerie van Algemene Zaken",
          "Ministerie van Binnenlandse Zaken en Koninkrijksrelaties",
          "Ministerie van Buitenlandse Zaken",
          "Ministerie van Defensie",
          "Ministerie van Economische Zaken en Klimaat",
          "Ministerie van Financiën",
          "Ministerie van Infrastructuur en Waterstaat",
          "Ministerie van Justitie en Veiligheid",
          "Ministerie van Landbouw, Natuur en Voedselkwaliteit",
          "Ministerie van Onderwijs, Cultuur en Wetenschap",
          "Ministerie van Sociale Zaken en Werkgelegenheid",
          "Ministerie van Volksgezondheid, Welzijn en Sport",
          "Ministerie van Algemene Zaken",
          "Ministerie van Binnenlandse Zaken en Koninkrijksrelaties",
          "Ministerie van Buitenlandse Zaken",
          "Ministerie van Defensie",
          "Ministerie van Economische Zaken en Klimaat",
          "Ministerie van Financiën",
          "Ministerie van Infrastructuur en Waterstaat",
          "Ministerie van Justitie en Veiligheid",
          "Ministerie van Landbouw, Natuur en Voedselkwaliteit",
          "Ministerie van Onderwijs, Cultuur en Wetenschap",
          "Ministerie van Sociale Zaken en Werkgelegenheid",
          "Ministerie van Volksgezondheid, Welzijn en Sport",
          "Ministerie van Algemene Zaken",
          "Ministerie van Binnenlandse Zaken en Koninkrijksrelaties",
          "Ministerie van Buitenlandse Zaken",
          "Ministerie van Defensie",
          "Ministerie van Economische Zaken en Klimaat",
          "Ministerie van Financiën",
          "Ministerie van Infrastructuur en Waterstaat",
          "Ministerie van Justitie en Veiligheid",
          "Ministerie van Landbouw, Natuur en Voedselkwaliteit",
          "Ministerie van Onderwijs, Cultuur en Wetenschap",
          "Ministerie van Sociale Zaken en Werkgelegenheid",
          "Ministerie van Volksgezondheid, Welzijn en Sport",
          "Ministerie van Algemene Zaken",
          "Ministerie van Binnenlandse Zaken en Koninkrijksrelaties",
          "Ministerie van Buitenlandse Zaken",
          "Ministerie van Defensie",
          "Ministerie van Economische Zaken en Klimaat",
          "Ministerie van Financiën",
          "Ministerie van Infrastructuur en Waterstaat",
          "Ministerie van Justitie en Veiligheid",
          "Ministerie van Landbouw, Natuur en Voedselkwaliteit",
          "Ministerie van Onderwijs, Cultuur en Wetenschap",
          "Ministerie van Sociale Zaken en Werkgelegenheid",
          "Ministerie van Volksgezondheid, Welzijn en Sport"
         ],
         "y": [
          2,
          95,
          64,
          45,
          54,
          140,
          93,
          77,
          243,
          48,
          34,
          29
         ]
        },
        {
         "marker": {
          "color": "lightsalmon"
         },
         "name": "fotos",
         "type": "bar",
         "x": [
          "Ministerie van Algemene Zaken",
          "Ministerie van Binnenlandse Zaken en Koninkrijksrelaties",
          "Ministerie van Buitenlandse Zaken",
          "Ministerie van Defensie",
          "Ministerie van Economische Zaken en Klimaat",
          "Ministerie van Financiën",
          "Ministerie van Infrastructuur en Waterstaat",
          "Ministerie van Justitie en Veiligheid",
          "Ministerie van Landbouw, Natuur en Voedselkwaliteit",
          "Ministerie van Onderwijs, Cultuur en Wetenschap",
          "Ministerie van Sociale Zaken en Werkgelegenheid",
          "Ministerie van Volksgezondheid, Welzijn en Sport",
          "Ministerie van Algemene Zaken",
          "Ministerie van Binnenlandse Zaken en Koninkrijksrelaties",
          "Ministerie van Buitenlandse Zaken",
          "Ministerie van Defensie",
          "Ministerie van Economische Zaken en Klimaat",
          "Ministerie van Financiën",
          "Ministerie van Infrastructuur en Waterstaat",
          "Ministerie van Justitie en Veiligheid",
          "Ministerie van Landbouw, Natuur en Voedselkwaliteit",
          "Ministerie van Onderwijs, Cultuur en Wetenschap",
          "Ministerie van Sociale Zaken en Werkgelegenheid",
          "Ministerie van Volksgezondheid, Welzijn en Sport",
          "Ministerie van Algemene Zaken",
          "Ministerie van Binnenlandse Zaken en Koninkrijksrelaties",
          "Ministerie van Buitenlandse Zaken",
          "Ministerie van Defensie",
          "Ministerie van Economische Zaken en Klimaat",
          "Ministerie van Financiën",
          "Ministerie van Infrastructuur en Waterstaat",
          "Ministerie van Justitie en Veiligheid",
          "Ministerie van Landbouw, Natuur en Voedselkwaliteit",
          "Ministerie van Onderwijs, Cultuur en Wetenschap",
          "Ministerie van Sociale Zaken en Werkgelegenheid",
          "Ministerie van Volksgezondheid, Welzijn en Sport",
          "Ministerie van Algemene Zaken",
          "Ministerie van Binnenlandse Zaken en Koninkrijksrelaties",
          "Ministerie van Buitenlandse Zaken",
          "Ministerie van Defensie",
          "Ministerie van Economische Zaken en Klimaat",
          "Ministerie van Financiën",
          "Ministerie van Infrastructuur en Waterstaat",
          "Ministerie van Justitie en Veiligheid",
          "Ministerie van Landbouw, Natuur en Voedselkwaliteit",
          "Ministerie van Onderwijs, Cultuur en Wetenschap",
          "Ministerie van Sociale Zaken en Werkgelegenheid",
          "Ministerie van Volksgezondheid, Welzijn en Sport",
          "Ministerie van Algemene Zaken",
          "Ministerie van Binnenlandse Zaken en Koninkrijksrelaties",
          "Ministerie van Buitenlandse Zaken",
          "Ministerie van Defensie",
          "Ministerie van Economische Zaken en Klimaat",
          "Ministerie van Financiën",
          "Ministerie van Infrastructuur en Waterstaat",
          "Ministerie van Justitie en Veiligheid",
          "Ministerie van Landbouw, Natuur en Voedselkwaliteit",
          "Ministerie van Onderwijs, Cultuur en Wetenschap",
          "Ministerie van Sociale Zaken en Werkgelegenheid",
          "Ministerie van Volksgezondheid, Welzijn en Sport"
         ],
         "y": [
          1,
          1,
          5,
          3,
          34,
          10,
          24,
          52,
          38,
          4,
          14,
          2
         ]
        }
       ],
       "layout": {
        "barmode": "group",
        "template": {
         "data": {
          "bar": [
           {
            "error_x": {
             "color": "#2a3f5f"
            },
            "error_y": {
             "color": "#2a3f5f"
            },
            "marker": {
             "line": {
              "color": "#E5ECF6",
              "width": 0.5
             },
             "pattern": {
              "fillmode": "overlay",
              "size": 10,
              "solidity": 0.2
             }
            },
            "type": "bar"
           }
          ],
          "barpolar": [
           {
            "marker": {
             "line": {
              "color": "#E5ECF6",
              "width": 0.5
             },
             "pattern": {
              "fillmode": "overlay",
              "size": 10,
              "solidity": 0.2
             }
            },
            "type": "barpolar"
           }
          ],
          "carpet": [
           {
            "aaxis": {
             "endlinecolor": "#2a3f5f",
             "gridcolor": "white",
             "linecolor": "white",
             "minorgridcolor": "white",
             "startlinecolor": "#2a3f5f"
            },
            "baxis": {
             "endlinecolor": "#2a3f5f",
             "gridcolor": "white",
             "linecolor": "white",
             "minorgridcolor": "white",
             "startlinecolor": "#2a3f5f"
            },
            "type": "carpet"
           }
          ],
          "choropleth": [
           {
            "colorbar": {
             "outlinewidth": 0,
             "ticks": ""
            },
            "type": "choropleth"
           }
          ],
          "contour": [
           {
            "colorbar": {
             "outlinewidth": 0,
             "ticks": ""
            },
            "colorscale": [
             [
              0,
              "#0d0887"
             ],
             [
              0.1111111111111111,
              "#46039f"
             ],
             [
              0.2222222222222222,
              "#7201a8"
             ],
             [
              0.3333333333333333,
              "#9c179e"
             ],
             [
              0.4444444444444444,
              "#bd3786"
             ],
             [
              0.5555555555555556,
              "#d8576b"
             ],
             [
              0.6666666666666666,
              "#ed7953"
             ],
             [
              0.7777777777777778,
              "#fb9f3a"
             ],
             [
              0.8888888888888888,
              "#fdca26"
             ],
             [
              1,
              "#f0f921"
             ]
            ],
            "type": "contour"
           }
          ],
          "contourcarpet": [
           {
            "colorbar": {
             "outlinewidth": 0,
             "ticks": ""
            },
            "type": "contourcarpet"
           }
          ],
          "heatmap": [
           {
            "colorbar": {
             "outlinewidth": 0,
             "ticks": ""
            },
            "colorscale": [
             [
              0,
              "#0d0887"
             ],
             [
              0.1111111111111111,
              "#46039f"
             ],
             [
              0.2222222222222222,
              "#7201a8"
             ],
             [
              0.3333333333333333,
              "#9c179e"
             ],
             [
              0.4444444444444444,
              "#bd3786"
             ],
             [
              0.5555555555555556,
              "#d8576b"
             ],
             [
              0.6666666666666666,
              "#ed7953"
             ],
             [
              0.7777777777777778,
              "#fb9f3a"
             ],
             [
              0.8888888888888888,
              "#fdca26"
             ],
             [
              1,
              "#f0f921"
             ]
            ],
            "type": "heatmap"
           }
          ],
          "heatmapgl": [
           {
            "colorbar": {
             "outlinewidth": 0,
             "ticks": ""
            },
            "colorscale": [
             [
              0,
              "#0d0887"
             ],
             [
              0.1111111111111111,
              "#46039f"
             ],
             [
              0.2222222222222222,
              "#7201a8"
             ],
             [
              0.3333333333333333,
              "#9c179e"
             ],
             [
              0.4444444444444444,
              "#bd3786"
             ],
             [
              0.5555555555555556,
              "#d8576b"
             ],
             [
              0.6666666666666666,
              "#ed7953"
             ],
             [
              0.7777777777777778,
              "#fb9f3a"
             ],
             [
              0.8888888888888888,
              "#fdca26"
             ],
             [
              1,
              "#f0f921"
             ]
            ],
            "type": "heatmapgl"
           }
          ],
          "histogram": [
           {
            "marker": {
             "pattern": {
              "fillmode": "overlay",
              "size": 10,
              "solidity": 0.2
             }
            },
            "type": "histogram"
           }
          ],
          "histogram2d": [
           {
            "colorbar": {
             "outlinewidth": 0,
             "ticks": ""
            },
            "colorscale": [
             [
              0,
              "#0d0887"
             ],
             [
              0.1111111111111111,
              "#46039f"
             ],
             [
              0.2222222222222222,
              "#7201a8"
             ],
             [
              0.3333333333333333,
              "#9c179e"
             ],
             [
              0.4444444444444444,
              "#bd3786"
             ],
             [
              0.5555555555555556,
              "#d8576b"
             ],
             [
              0.6666666666666666,
              "#ed7953"
             ],
             [
              0.7777777777777778,
              "#fb9f3a"
             ],
             [
              0.8888888888888888,
              "#fdca26"
             ],
             [
              1,
              "#f0f921"
             ]
            ],
            "type": "histogram2d"
           }
          ],
          "histogram2dcontour": [
           {
            "colorbar": {
             "outlinewidth": 0,
             "ticks": ""
            },
            "colorscale": [
             [
              0,
              "#0d0887"
             ],
             [
              0.1111111111111111,
              "#46039f"
             ],
             [
              0.2222222222222222,
              "#7201a8"
             ],
             [
              0.3333333333333333,
              "#9c179e"
             ],
             [
              0.4444444444444444,
              "#bd3786"
             ],
             [
              0.5555555555555556,
              "#d8576b"
             ],
             [
              0.6666666666666666,
              "#ed7953"
             ],
             [
              0.7777777777777778,
              "#fb9f3a"
             ],
             [
              0.8888888888888888,
              "#fdca26"
             ],
             [
              1,
              "#f0f921"
             ]
            ],
            "type": "histogram2dcontour"
           }
          ],
          "mesh3d": [
           {
            "colorbar": {
             "outlinewidth": 0,
             "ticks": ""
            },
            "type": "mesh3d"
           }
          ],
          "parcoords": [
           {
            "line": {
             "colorbar": {
              "outlinewidth": 0,
              "ticks": ""
             }
            },
            "type": "parcoords"
           }
          ],
          "pie": [
           {
            "automargin": true,
            "type": "pie"
           }
          ],
          "scatter": [
           {
            "marker": {
             "colorbar": {
              "outlinewidth": 0,
              "ticks": ""
             }
            },
            "type": "scatter"
           }
          ],
          "scatter3d": [
           {
            "line": {
             "colorbar": {
              "outlinewidth": 0,
              "ticks": ""
             }
            },
            "marker": {
             "colorbar": {
              "outlinewidth": 0,
              "ticks": ""
             }
            },
            "type": "scatter3d"
           }
          ],
          "scattercarpet": [
           {
            "marker": {
             "colorbar": {
              "outlinewidth": 0,
              "ticks": ""
             }
            },
            "type": "scattercarpet"
           }
          ],
          "scattergeo": [
           {
            "marker": {
             "colorbar": {
              "outlinewidth": 0,
              "ticks": ""
             }
            },
            "type": "scattergeo"
           }
          ],
          "scattergl": [
           {
            "marker": {
             "colorbar": {
              "outlinewidth": 0,
              "ticks": ""
             }
            },
            "type": "scattergl"
           }
          ],
          "scattermapbox": [
           {
            "marker": {
             "colorbar": {
              "outlinewidth": 0,
              "ticks": ""
             }
            },
            "type": "scattermapbox"
           }
          ],
          "scatterpolar": [
           {
            "marker": {
             "colorbar": {
              "outlinewidth": 0,
              "ticks": ""
             }
            },
            "type": "scatterpolar"
           }
          ],
          "scatterpolargl": [
           {
            "marker": {
             "colorbar": {
              "outlinewidth": 0,
              "ticks": ""
             }
            },
            "type": "scatterpolargl"
           }
          ],
          "scatterternary": [
           {
            "marker": {
             "colorbar": {
              "outlinewidth": 0,
              "ticks": ""
             }
            },
            "type": "scatterternary"
           }
          ],
          "surface": [
           {
            "colorbar": {
             "outlinewidth": 0,
             "ticks": ""
            },
            "colorscale": [
             [
              0,
              "#0d0887"
             ],
             [
              0.1111111111111111,
              "#46039f"
             ],
             [
              0.2222222222222222,
              "#7201a8"
             ],
             [
              0.3333333333333333,
              "#9c179e"
             ],
             [
              0.4444444444444444,
              "#bd3786"
             ],
             [
              0.5555555555555556,
              "#d8576b"
             ],
             [
              0.6666666666666666,
              "#ed7953"
             ],
             [
              0.7777777777777778,
              "#fb9f3a"
             ],
             [
              0.8888888888888888,
              "#fdca26"
             ],
             [
              1,
              "#f0f921"
             ]
            ],
            "type": "surface"
           }
          ],
          "table": [
           {
            "cells": {
             "fill": {
              "color": "#EBF0F8"
             },
             "line": {
              "color": "white"
             }
            },
            "header": {
             "fill": {
              "color": "#C8D4E3"
             },
             "line": {
              "color": "white"
             }
            },
            "type": "table"
           }
          ]
         },
         "layout": {
          "annotationdefaults": {
           "arrowcolor": "#2a3f5f",
           "arrowhead": 0,
           "arrowwidth": 1
          },
          "autotypenumbers": "strict",
          "coloraxis": {
           "colorbar": {
            "outlinewidth": 0,
            "ticks": ""
           }
          },
          "colorscale": {
           "diverging": [
            [
             0,
             "#8e0152"
            ],
            [
             0.1,
             "#c51b7d"
            ],
            [
             0.2,
             "#de77ae"
            ],
            [
             0.3,
             "#f1b6da"
            ],
            [
             0.4,
             "#fde0ef"
            ],
            [
             0.5,
             "#f7f7f7"
            ],
            [
             0.6,
             "#e6f5d0"
            ],
            [
             0.7,
             "#b8e186"
            ],
            [
             0.8,
             "#7fbc41"
            ],
            [
             0.9,
             "#4d9221"
            ],
            [
             1,
             "#276419"
            ]
           ],
           "sequential": [
            [
             0,
             "#0d0887"
            ],
            [
             0.1111111111111111,
             "#46039f"
            ],
            [
             0.2222222222222222,
             "#7201a8"
            ],
            [
             0.3333333333333333,
             "#9c179e"
            ],
            [
             0.4444444444444444,
             "#bd3786"
            ],
            [
             0.5555555555555556,
             "#d8576b"
            ],
            [
             0.6666666666666666,
             "#ed7953"
            ],
            [
             0.7777777777777778,
             "#fb9f3a"
            ],
            [
             0.8888888888888888,
             "#fdca26"
            ],
            [
             1,
             "#f0f921"
            ]
           ],
           "sequentialminus": [
            [
             0,
             "#0d0887"
            ],
            [
             0.1111111111111111,
             "#46039f"
            ],
            [
             0.2222222222222222,
             "#7201a8"
            ],
            [
             0.3333333333333333,
             "#9c179e"
            ],
            [
             0.4444444444444444,
             "#bd3786"
            ],
            [
             0.5555555555555556,
             "#d8576b"
            ],
            [
             0.6666666666666666,
             "#ed7953"
            ],
            [
             0.7777777777777778,
             "#fb9f3a"
            ],
            [
             0.8888888888888888,
             "#fdca26"
            ],
            [
             1,
             "#f0f921"
            ]
           ]
          },
          "colorway": [
           "#636efa",
           "#EF553B",
           "#00cc96",
           "#ab63fa",
           "#FFA15A",
           "#19d3f3",
           "#FF6692",
           "#B6E880",
           "#FF97FF",
           "#FECB52"
          ],
          "font": {
           "color": "#2a3f5f"
          },
          "geo": {
           "bgcolor": "white",
           "lakecolor": "white",
           "landcolor": "#E5ECF6",
           "showlakes": true,
           "showland": true,
           "subunitcolor": "white"
          },
          "hoverlabel": {
           "align": "left"
          },
          "hovermode": "closest",
          "mapbox": {
           "style": "light"
          },
          "paper_bgcolor": "white",
          "plot_bgcolor": "#E5ECF6",
          "polar": {
           "angularaxis": {
            "gridcolor": "white",
            "linecolor": "white",
            "ticks": ""
           },
           "bgcolor": "#E5ECF6",
           "radialaxis": {
            "gridcolor": "white",
            "linecolor": "white",
            "ticks": ""
           }
          },
          "scene": {
           "xaxis": {
            "backgroundcolor": "#E5ECF6",
            "gridcolor": "white",
            "gridwidth": 2,
            "linecolor": "white",
            "showbackground": true,
            "ticks": "",
            "zerolinecolor": "white"
           },
           "yaxis": {
            "backgroundcolor": "#E5ECF6",
            "gridcolor": "white",
            "gridwidth": 2,
            "linecolor": "white",
            "showbackground": true,
            "ticks": "",
            "zerolinecolor": "white"
           },
           "zaxis": {
            "backgroundcolor": "#E5ECF6",
            "gridcolor": "white",
            "gridwidth": 2,
            "linecolor": "white",
            "showbackground": true,
            "ticks": "",
            "zerolinecolor": "white"
           }
          },
          "shapedefaults": {
           "line": {
            "color": "#2a3f5f"
           }
          },
          "ternary": {
           "aaxis": {
            "gridcolor": "white",
            "linecolor": "white",
            "ticks": ""
           },
           "baxis": {
            "gridcolor": "white",
            "linecolor": "white",
            "ticks": ""
           },
           "bgcolor": "#E5ECF6",
           "caxis": {
            "gridcolor": "white",
            "linecolor": "white",
            "ticks": ""
           }
          },
          "title": {
           "x": 0.05
          },
          "xaxis": {
           "automargin": true,
           "gridcolor": "white",
           "linecolor": "white",
           "ticks": "",
           "title": {
            "standoff": 15
           },
           "zerolinecolor": "white",
           "zerolinewidth": 2
          },
          "yaxis": {
           "automargin": true,
           "gridcolor": "white",
           "linecolor": "white",
           "ticks": "",
           "title": {
            "standoff": 15
           },
           "zerolinecolor": "white",
           "zerolinewidth": 2
          }
         }
        },
        "xaxis": {
         "tickangle": -45
        }
       }
      },
      "text/html": [
       "<div>                            <div id=\"038c10e6-ea4c-4ef0-a203-ab2eb43571b7\" class=\"plotly-graph-div\" style=\"height:525px; width:100%;\"></div>            <script type=\"text/javascript\">                require([\"plotly\"], function(Plotly) {                    window.PLOTLYENV=window.PLOTLYENV || {};                                    if (document.getElementById(\"038c10e6-ea4c-4ef0-a203-ab2eb43571b7\")) {                    Plotly.newPlot(                        \"038c10e6-ea4c-4ef0-a203-ab2eb43571b7\",                        [{\"marker\":{\"color\":\"indianred\"},\"name\":\"text-pdf\",\"x\":[\"Ministerie van Algemene Zaken\",\"Ministerie van Binnenlandse Zaken en Koninkrijksrelaties\",\"Ministerie van Buitenlandse Zaken\",\"Ministerie van Defensie\",\"Ministerie van Economische Zaken en Klimaat\",\"Ministerie van Financi\\u00ebn\",\"Ministerie van Infrastructuur en Waterstaat\",\"Ministerie van Justitie en Veiligheid\",\"Ministerie van Landbouw, Natuur en Voedselkwaliteit\",\"Ministerie van Onderwijs, Cultuur en Wetenschap\",\"Ministerie van Sociale Zaken en Werkgelegenheid\",\"Ministerie van Volksgezondheid, Welzijn en Sport\",\"Ministerie van Algemene Zaken\",\"Ministerie van Binnenlandse Zaken en Koninkrijksrelaties\",\"Ministerie van Buitenlandse Zaken\",\"Ministerie van Defensie\",\"Ministerie van Economische Zaken en Klimaat\",\"Ministerie van Financi\\u00ebn\",\"Ministerie van Infrastructuur en Waterstaat\",\"Ministerie van Justitie en Veiligheid\",\"Ministerie van Landbouw, Natuur en Voedselkwaliteit\",\"Ministerie van Onderwijs, Cultuur en Wetenschap\",\"Ministerie van Sociale Zaken en Werkgelegenheid\",\"Ministerie van Volksgezondheid, Welzijn en Sport\",\"Ministerie van Algemene Zaken\",\"Ministerie van Binnenlandse Zaken en Koninkrijksrelaties\",\"Ministerie van Buitenlandse Zaken\",\"Ministerie van Defensie\",\"Ministerie van Economische Zaken en Klimaat\",\"Ministerie van Financi\\u00ebn\",\"Ministerie van Infrastructuur en Waterstaat\",\"Ministerie van Justitie en Veiligheid\",\"Ministerie van Landbouw, Natuur en Voedselkwaliteit\",\"Ministerie van Onderwijs, Cultuur en Wetenschap\",\"Ministerie van Sociale Zaken en Werkgelegenheid\",\"Ministerie van Volksgezondheid, Welzijn en Sport\",\"Ministerie van Algemene Zaken\",\"Ministerie van Binnenlandse Zaken en Koninkrijksrelaties\",\"Ministerie van Buitenlandse Zaken\",\"Ministerie van Defensie\",\"Ministerie van Economische Zaken en Klimaat\",\"Ministerie van Financi\\u00ebn\",\"Ministerie van Infrastructuur en Waterstaat\",\"Ministerie van Justitie en Veiligheid\",\"Ministerie van Landbouw, Natuur en Voedselkwaliteit\",\"Ministerie van Onderwijs, Cultuur en Wetenschap\",\"Ministerie van Sociale Zaken en Werkgelegenheid\",\"Ministerie van Volksgezondheid, Welzijn en Sport\",\"Ministerie van Algemene Zaken\",\"Ministerie van Binnenlandse Zaken en Koninkrijksrelaties\",\"Ministerie van Buitenlandse Zaken\",\"Ministerie van Defensie\",\"Ministerie van Economische Zaken en Klimaat\",\"Ministerie van Financi\\u00ebn\",\"Ministerie van Infrastructuur en Waterstaat\",\"Ministerie van Justitie en Veiligheid\",\"Ministerie van Landbouw, Natuur en Voedselkwaliteit\",\"Ministerie van Onderwijs, Cultuur en Wetenschap\",\"Ministerie van Sociale Zaken en Werkgelegenheid\",\"Ministerie van Volksgezondheid, Welzijn en Sport\"],\"y\":[2,95,64,45,54,140,93,77,243,48,34,29],\"type\":\"bar\"},{\"marker\":{\"color\":\"lightsalmon\"},\"name\":\"fotos\",\"x\":[\"Ministerie van Algemene Zaken\",\"Ministerie van Binnenlandse Zaken en Koninkrijksrelaties\",\"Ministerie van Buitenlandse Zaken\",\"Ministerie van Defensie\",\"Ministerie van Economische Zaken en Klimaat\",\"Ministerie van Financi\\u00ebn\",\"Ministerie van Infrastructuur en Waterstaat\",\"Ministerie van Justitie en Veiligheid\",\"Ministerie van Landbouw, Natuur en Voedselkwaliteit\",\"Ministerie van Onderwijs, Cultuur en Wetenschap\",\"Ministerie van Sociale Zaken en Werkgelegenheid\",\"Ministerie van Volksgezondheid, Welzijn en Sport\",\"Ministerie van Algemene Zaken\",\"Ministerie van Binnenlandse Zaken en Koninkrijksrelaties\",\"Ministerie van Buitenlandse Zaken\",\"Ministerie van Defensie\",\"Ministerie van Economische Zaken en Klimaat\",\"Ministerie van Financi\\u00ebn\",\"Ministerie van Infrastructuur en Waterstaat\",\"Ministerie van Justitie en Veiligheid\",\"Ministerie van Landbouw, Natuur en Voedselkwaliteit\",\"Ministerie van Onderwijs, Cultuur en Wetenschap\",\"Ministerie van Sociale Zaken en Werkgelegenheid\",\"Ministerie van Volksgezondheid, Welzijn en Sport\",\"Ministerie van Algemene Zaken\",\"Ministerie van Binnenlandse Zaken en Koninkrijksrelaties\",\"Ministerie van Buitenlandse Zaken\",\"Ministerie van Defensie\",\"Ministerie van Economische Zaken en Klimaat\",\"Ministerie van Financi\\u00ebn\",\"Ministerie van Infrastructuur en Waterstaat\",\"Ministerie van Justitie en Veiligheid\",\"Ministerie van Landbouw, Natuur en Voedselkwaliteit\",\"Ministerie van Onderwijs, Cultuur en Wetenschap\",\"Ministerie van Sociale Zaken en Werkgelegenheid\",\"Ministerie van Volksgezondheid, Welzijn en Sport\",\"Ministerie van Algemene Zaken\",\"Ministerie van Binnenlandse Zaken en Koninkrijksrelaties\",\"Ministerie van Buitenlandse Zaken\",\"Ministerie van Defensie\",\"Ministerie van Economische Zaken en Klimaat\",\"Ministerie van Financi\\u00ebn\",\"Ministerie van Infrastructuur en Waterstaat\",\"Ministerie van Justitie en Veiligheid\",\"Ministerie van Landbouw, Natuur en Voedselkwaliteit\",\"Ministerie van Onderwijs, Cultuur en Wetenschap\",\"Ministerie van Sociale Zaken en Werkgelegenheid\",\"Ministerie van Volksgezondheid, Welzijn en Sport\",\"Ministerie van Algemene Zaken\",\"Ministerie van Binnenlandse Zaken en Koninkrijksrelaties\",\"Ministerie van Buitenlandse Zaken\",\"Ministerie van Defensie\",\"Ministerie van Economische Zaken en Klimaat\",\"Ministerie van Financi\\u00ebn\",\"Ministerie van Infrastructuur en Waterstaat\",\"Ministerie van Justitie en Veiligheid\",\"Ministerie van Landbouw, Natuur en Voedselkwaliteit\",\"Ministerie van Onderwijs, Cultuur en Wetenschap\",\"Ministerie van Sociale Zaken en Werkgelegenheid\",\"Ministerie van Volksgezondheid, Welzijn en Sport\"],\"y\":[1,1,5,3,34,10,24,52,38,4,14,2],\"type\":\"bar\"}],                        {\"template\":{\"data\":{\"bar\":[{\"error_x\":{\"color\":\"#2a3f5f\"},\"error_y\":{\"color\":\"#2a3f5f\"},\"marker\":{\"line\":{\"color\":\"#E5ECF6\",\"width\":0.5},\"pattern\":{\"fillmode\":\"overlay\",\"size\":10,\"solidity\":0.2}},\"type\":\"bar\"}],\"barpolar\":[{\"marker\":{\"line\":{\"color\":\"#E5ECF6\",\"width\":0.5},\"pattern\":{\"fillmode\":\"overlay\",\"size\":10,\"solidity\":0.2}},\"type\":\"barpolar\"}],\"carpet\":[{\"aaxis\":{\"endlinecolor\":\"#2a3f5f\",\"gridcolor\":\"white\",\"linecolor\":\"white\",\"minorgridcolor\":\"white\",\"startlinecolor\":\"#2a3f5f\"},\"baxis\":{\"endlinecolor\":\"#2a3f5f\",\"gridcolor\":\"white\",\"linecolor\":\"white\",\"minorgridcolor\":\"white\",\"startlinecolor\":\"#2a3f5f\"},\"type\":\"carpet\"}],\"choropleth\":[{\"colorbar\":{\"outlinewidth\":0,\"ticks\":\"\"},\"type\":\"choropleth\"}],\"contour\":[{\"colorbar\":{\"outlinewidth\":0,\"ticks\":\"\"},\"colorscale\":[[0.0,\"#0d0887\"],[0.1111111111111111,\"#46039f\"],[0.2222222222222222,\"#7201a8\"],[0.3333333333333333,\"#9c179e\"],[0.4444444444444444,\"#bd3786\"],[0.5555555555555556,\"#d8576b\"],[0.6666666666666666,\"#ed7953\"],[0.7777777777777778,\"#fb9f3a\"],[0.8888888888888888,\"#fdca26\"],[1.0,\"#f0f921\"]],\"type\":\"contour\"}],\"contourcarpet\":[{\"colorbar\":{\"outlinewidth\":0,\"ticks\":\"\"},\"type\":\"contourcarpet\"}],\"heatmap\":[{\"colorbar\":{\"outlinewidth\":0,\"ticks\":\"\"},\"colorscale\":[[0.0,\"#0d0887\"],[0.1111111111111111,\"#46039f\"],[0.2222222222222222,\"#7201a8\"],[0.3333333333333333,\"#9c179e\"],[0.4444444444444444,\"#bd3786\"],[0.5555555555555556,\"#d8576b\"],[0.6666666666666666,\"#ed7953\"],[0.7777777777777778,\"#fb9f3a\"],[0.8888888888888888,\"#fdca26\"],[1.0,\"#f0f921\"]],\"type\":\"heatmap\"}],\"heatmapgl\":[{\"colorbar\":{\"outlinewidth\":0,\"ticks\":\"\"},\"colorscale\":[[0.0,\"#0d0887\"],[0.1111111111111111,\"#46039f\"],[0.2222222222222222,\"#7201a8\"],[0.3333333333333333,\"#9c179e\"],[0.4444444444444444,\"#bd3786\"],[0.5555555555555556,\"#d8576b\"],[0.6666666666666666,\"#ed7953\"],[0.7777777777777778,\"#fb9f3a\"],[0.8888888888888888,\"#fdca26\"],[1.0,\"#f0f921\"]],\"type\":\"heatmapgl\"}],\"histogram\":[{\"marker\":{\"pattern\":{\"fillmode\":\"overlay\",\"size\":10,\"solidity\":0.2}},\"type\":\"histogram\"}],\"histogram2d\":[{\"colorbar\":{\"outlinewidth\":0,\"ticks\":\"\"},\"colorscale\":[[0.0,\"#0d0887\"],[0.1111111111111111,\"#46039f\"],[0.2222222222222222,\"#7201a8\"],[0.3333333333333333,\"#9c179e\"],[0.4444444444444444,\"#bd3786\"],[0.5555555555555556,\"#d8576b\"],[0.6666666666666666,\"#ed7953\"],[0.7777777777777778,\"#fb9f3a\"],[0.8888888888888888,\"#fdca26\"],[1.0,\"#f0f921\"]],\"type\":\"histogram2d\"}],\"histogram2dcontour\":[{\"colorbar\":{\"outlinewidth\":0,\"ticks\":\"\"},\"colorscale\":[[0.0,\"#0d0887\"],[0.1111111111111111,\"#46039f\"],[0.2222222222222222,\"#7201a8\"],[0.3333333333333333,\"#9c179e\"],[0.4444444444444444,\"#bd3786\"],[0.5555555555555556,\"#d8576b\"],[0.6666666666666666,\"#ed7953\"],[0.7777777777777778,\"#fb9f3a\"],[0.8888888888888888,\"#fdca26\"],[1.0,\"#f0f921\"]],\"type\":\"histogram2dcontour\"}],\"mesh3d\":[{\"colorbar\":{\"outlinewidth\":0,\"ticks\":\"\"},\"type\":\"mesh3d\"}],\"parcoords\":[{\"line\":{\"colorbar\":{\"outlinewidth\":0,\"ticks\":\"\"}},\"type\":\"parcoords\"}],\"pie\":[{\"automargin\":true,\"type\":\"pie\"}],\"scatter\":[{\"marker\":{\"colorbar\":{\"outlinewidth\":0,\"ticks\":\"\"}},\"type\":\"scatter\"}],\"scatter3d\":[{\"line\":{\"colorbar\":{\"outlinewidth\":0,\"ticks\":\"\"}},\"marker\":{\"colorbar\":{\"outlinewidth\":0,\"ticks\":\"\"}},\"type\":\"scatter3d\"}],\"scattercarpet\":[{\"marker\":{\"colorbar\":{\"outlinewidth\":0,\"ticks\":\"\"}},\"type\":\"scattercarpet\"}],\"scattergeo\":[{\"marker\":{\"colorbar\":{\"outlinewidth\":0,\"ticks\":\"\"}},\"type\":\"scattergeo\"}],\"scattergl\":[{\"marker\":{\"colorbar\":{\"outlinewidth\":0,\"ticks\":\"\"}},\"type\":\"scattergl\"}],\"scattermapbox\":[{\"marker\":{\"colorbar\":{\"outlinewidth\":0,\"ticks\":\"\"}},\"type\":\"scattermapbox\"}],\"scatterpolar\":[{\"marker\":{\"colorbar\":{\"outlinewidth\":0,\"ticks\":\"\"}},\"type\":\"scatterpolar\"}],\"scatterpolargl\":[{\"marker\":{\"colorbar\":{\"outlinewidth\":0,\"ticks\":\"\"}},\"type\":\"scatterpolargl\"}],\"scatterternary\":[{\"marker\":{\"colorbar\":{\"outlinewidth\":0,\"ticks\":\"\"}},\"type\":\"scatterternary\"}],\"surface\":[{\"colorbar\":{\"outlinewidth\":0,\"ticks\":\"\"},\"colorscale\":[[0.0,\"#0d0887\"],[0.1111111111111111,\"#46039f\"],[0.2222222222222222,\"#7201a8\"],[0.3333333333333333,\"#9c179e\"],[0.4444444444444444,\"#bd3786\"],[0.5555555555555556,\"#d8576b\"],[0.6666666666666666,\"#ed7953\"],[0.7777777777777778,\"#fb9f3a\"],[0.8888888888888888,\"#fdca26\"],[1.0,\"#f0f921\"]],\"type\":\"surface\"}],\"table\":[{\"cells\":{\"fill\":{\"color\":\"#EBF0F8\"},\"line\":{\"color\":\"white\"}},\"header\":{\"fill\":{\"color\":\"#C8D4E3\"},\"line\":{\"color\":\"white\"}},\"type\":\"table\"}]},\"layout\":{\"annotationdefaults\":{\"arrowcolor\":\"#2a3f5f\",\"arrowhead\":0,\"arrowwidth\":1},\"autotypenumbers\":\"strict\",\"coloraxis\":{\"colorbar\":{\"outlinewidth\":0,\"ticks\":\"\"}},\"colorscale\":{\"diverging\":[[0,\"#8e0152\"],[0.1,\"#c51b7d\"],[0.2,\"#de77ae\"],[0.3,\"#f1b6da\"],[0.4,\"#fde0ef\"],[0.5,\"#f7f7f7\"],[0.6,\"#e6f5d0\"],[0.7,\"#b8e186\"],[0.8,\"#7fbc41\"],[0.9,\"#4d9221\"],[1,\"#276419\"]],\"sequential\":[[0.0,\"#0d0887\"],[0.1111111111111111,\"#46039f\"],[0.2222222222222222,\"#7201a8\"],[0.3333333333333333,\"#9c179e\"],[0.4444444444444444,\"#bd3786\"],[0.5555555555555556,\"#d8576b\"],[0.6666666666666666,\"#ed7953\"],[0.7777777777777778,\"#fb9f3a\"],[0.8888888888888888,\"#fdca26\"],[1.0,\"#f0f921\"]],\"sequentialminus\":[[0.0,\"#0d0887\"],[0.1111111111111111,\"#46039f\"],[0.2222222222222222,\"#7201a8\"],[0.3333333333333333,\"#9c179e\"],[0.4444444444444444,\"#bd3786\"],[0.5555555555555556,\"#d8576b\"],[0.6666666666666666,\"#ed7953\"],[0.7777777777777778,\"#fb9f3a\"],[0.8888888888888888,\"#fdca26\"],[1.0,\"#f0f921\"]]},\"colorway\":[\"#636efa\",\"#EF553B\",\"#00cc96\",\"#ab63fa\",\"#FFA15A\",\"#19d3f3\",\"#FF6692\",\"#B6E880\",\"#FF97FF\",\"#FECB52\"],\"font\":{\"color\":\"#2a3f5f\"},\"geo\":{\"bgcolor\":\"white\",\"lakecolor\":\"white\",\"landcolor\":\"#E5ECF6\",\"showlakes\":true,\"showland\":true,\"subunitcolor\":\"white\"},\"hoverlabel\":{\"align\":\"left\"},\"hovermode\":\"closest\",\"mapbox\":{\"style\":\"light\"},\"paper_bgcolor\":\"white\",\"plot_bgcolor\":\"#E5ECF6\",\"polar\":{\"angularaxis\":{\"gridcolor\":\"white\",\"linecolor\":\"white\",\"ticks\":\"\"},\"bgcolor\":\"#E5ECF6\",\"radialaxis\":{\"gridcolor\":\"white\",\"linecolor\":\"white\",\"ticks\":\"\"}},\"scene\":{\"xaxis\":{\"backgroundcolor\":\"#E5ECF6\",\"gridcolor\":\"white\",\"gridwidth\":2,\"linecolor\":\"white\",\"showbackground\":true,\"ticks\":\"\",\"zerolinecolor\":\"white\"},\"yaxis\":{\"backgroundcolor\":\"#E5ECF6\",\"gridcolor\":\"white\",\"gridwidth\":2,\"linecolor\":\"white\",\"showbackground\":true,\"ticks\":\"\",\"zerolinecolor\":\"white\"},\"zaxis\":{\"backgroundcolor\":\"#E5ECF6\",\"gridcolor\":\"white\",\"gridwidth\":2,\"linecolor\":\"white\",\"showbackground\":true,\"ticks\":\"\",\"zerolinecolor\":\"white\"}},\"shapedefaults\":{\"line\":{\"color\":\"#2a3f5f\"}},\"ternary\":{\"aaxis\":{\"gridcolor\":\"white\",\"linecolor\":\"white\",\"ticks\":\"\"},\"baxis\":{\"gridcolor\":\"white\",\"linecolor\":\"white\",\"ticks\":\"\"},\"bgcolor\":\"#E5ECF6\",\"caxis\":{\"gridcolor\":\"white\",\"linecolor\":\"white\",\"ticks\":\"\"}},\"title\":{\"x\":0.05},\"xaxis\":{\"automargin\":true,\"gridcolor\":\"white\",\"linecolor\":\"white\",\"ticks\":\"\",\"title\":{\"standoff\":15},\"zerolinecolor\":\"white\",\"zerolinewidth\":2},\"yaxis\":{\"automargin\":true,\"gridcolor\":\"white\",\"linecolor\":\"white\",\"ticks\":\"\",\"title\":{\"standoff\":15},\"zerolinecolor\":\"white\",\"zerolinewidth\":2}}},\"xaxis\":{\"tickangle\":-45},\"barmode\":\"group\"},                        {\"responsive\": true}                    ).then(function(){\n",
       "                            \n",
       "var gd = document.getElementById('038c10e6-ea4c-4ef0-a203-ab2eb43571b7');\n",
       "var x = new MutationObserver(function (mutations, observer) {{\n",
       "        var display = window.getComputedStyle(gd).display;\n",
       "        if (!display || display === 'none') {{\n",
       "            console.log([gd, 'removed!']);\n",
       "            Plotly.purge(gd);\n",
       "            observer.disconnect();\n",
       "        }}\n",
       "}});\n",
       "\n",
       "// Listen for the removal of the full notebook cells\n",
       "var notebookContainer = gd.closest('#notebook-container');\n",
       "if (notebookContainer) {{\n",
       "    x.observe(notebookContainer, {childList: true});\n",
       "}}\n",
       "\n",
       "// Listen for the clearing of the current output cell\n",
       "var outputEl = gd.closest('.output');\n",
       "if (outputEl) {{\n",
       "    x.observe(outputEl, {childList: true});\n",
       "}}\n",
       "\n",
       "                        })                };                });            </script>        </div>"
      ]
     },
     "metadata": {},
     "output_type": "display_data"
    }
   ],
   "source": [
    "import plotly.graph_objects as go\n",
    "\n",
    "ver = result.verantwoordelijke.values\n",
    "\n",
    "fig = go.Figure()\n",
    "fig.add_trace(go.Bar(\n",
    "    x=ver,\n",
    "    y=result2.pdf,\n",
    "    name='text-pdf',\n",
    "    marker_color='indianred'\n",
    "))\n",
    "fig.add_trace(go.Bar(\n",
    "    x=ver,\n",
    "    y=result2.image,\n",
    "    name='fotos',\n",
    "    marker_color='lightsalmon'\n",
    "))\n",
    "\n",
    "# Here we modify the tickangle of the xaxis, resulting in rotated labels.\n",
    "fig.update_layout(barmode='group', xaxis_tickangle=-45)\n",
    "fig.show()"
   ]
  },
  {
   "cell_type": "code",
   "execution_count": 140,
   "id": "579300d5",
   "metadata": {
    "scrolled": true
   },
   "outputs": [
    {
     "ename": "NameError",
     "evalue": "name 'LIST' is not defined",
     "output_type": "error",
     "traceback": [
      "\u001b[1;31m---------------------------------------------------------------------------\u001b[0m",
      "\u001b[1;31mNameError\u001b[0m                                 Traceback (most recent call last)",
      "Input \u001b[1;32mIn [140]\u001b[0m, in \u001b[0;36m<module>\u001b[1;34m\u001b[0m\n\u001b[0;32m      1\u001b[0m count \u001b[38;5;241m=\u001b[39m \u001b[38;5;241m0\u001b[39m\n\u001b[0;32m      2\u001b[0m count2 \u001b[38;5;241m=\u001b[39m \u001b[38;5;241m0\u001b[39m\n\u001b[1;32m----> 4\u001b[0m \u001b[38;5;28;01mfor\u001b[39;00m i \u001b[38;5;129;01min\u001b[39;00m \u001b[43mLIST\u001b[49m:\n\u001b[0;32m      5\u001b[0m     count2 \u001b[38;5;241m+\u001b[39m\u001b[38;5;241m=\u001b[39m\u001b[38;5;241m1\u001b[39m\n\u001b[0;32m      6\u001b[0m     X \u001b[38;5;241m=\u001b[39m [ele \u001b[38;5;28;01mfor\u001b[39;00m ele \u001b[38;5;129;01min\u001b[39;00m i \u001b[38;5;28;01mif\u001b[39;00m \u001b[38;5;124m'\u001b[39m\u001b[38;5;124m-\u001b[39m\u001b[38;5;124m'\u001b[39m \u001b[38;5;129;01min\u001b[39;00m \u001b[38;5;28mstr\u001b[39m(ele)]\n",
      "\u001b[1;31mNameError\u001b[0m: name 'LIST' is not defined"
     ]
    }
   ],
   "source": [
    "count = 0\n",
    "count2 = 0\n",
    "\n",
    "for i in LIST:\n",
    "    count2 +=1\n",
    "    X = [ele for ele in i if '-' in str(ele)]\n",
    "    if X != []:\n",
    "        count+=1\n",
    "    else:\n",
    "        print(count2)\n",
    "        \n",
    "print(count/len(LIST))"
   ]
  },
  {
   "cell_type": "code",
   "execution_count": null,
   "id": "67fd844f",
   "metadata": {},
   "outputs": [],
   "source": []
  },
  {
   "cell_type": "code",
   "execution_count": 141,
   "id": "cda4cfd4",
   "metadata": {},
   "outputs": [
    {
     "data": {
      "text/html": [
       "<div>\n",
       "<style scoped>\n",
       "    .dataframe tbody tr th:only-of-type {\n",
       "        vertical-align: middle;\n",
       "    }\n",
       "\n",
       "    .dataframe tbody tr th {\n",
       "        vertical-align: top;\n",
       "    }\n",
       "\n",
       "    .dataframe thead th {\n",
       "        text-align: right;\n",
       "    }\n",
       "</style>\n",
       "<table border=\"1\" class=\"dataframe\">\n",
       "  <thead>\n",
       "    <tr style=\"text-align: right;\">\n",
       "      <th></th>\n",
       "      <th>Verzoek</th>\n",
       "      <th>docdatums</th>\n",
       "      <th>urls</th>\n",
       "      <th>verdatums</th>\n",
       "      <th>verantwoordelijke</th>\n",
       "      <th>jaar</th>\n",
       "      <th>kwartaal</th>\n",
       "      <th>image</th>\n",
       "      <th>verdatum</th>\n",
       "    </tr>\n",
       "  </thead>\n",
       "  <tbody>\n",
       "    <tr>\n",
       "      <th>0</th>\n",
       "      <td>Beslissing op bezwaar Wob verzoek corresponden...</td>\n",
       "      <td>2022-09-15</td>\n",
       "      <td>[https://open.overheid.nl/documenten/ronl-34e6...</td>\n",
       "      <td>[nan, nan, nan]</td>\n",
       "      <td>Ministerie van Infrastructuur en Waterstaat</td>\n",
       "      <td>2022</td>\n",
       "      <td>3e Kwartaal</td>\n",
       "      <td>False</td>\n",
       "      <td>NaN</td>\n",
       "    </tr>\n",
       "    <tr>\n",
       "      <th>1</th>\n",
       "      <td>Beslissing op bezwaar Wob-/Woo-verzoek over in...</td>\n",
       "      <td>2022-12-23</td>\n",
       "      <td>[https://open.overheid.nl/documenten/ronl-7a0f...</td>\n",
       "      <td>[14-07-2022, nan, nan]</td>\n",
       "      <td>Ministerie van Infrastructuur en Waterstaat</td>\n",
       "      <td>2022</td>\n",
       "      <td>4e Kwartaal</td>\n",
       "      <td>False</td>\n",
       "      <td>14-07-2022</td>\n",
       "    </tr>\n",
       "    <tr>\n",
       "      <th>2</th>\n",
       "      <td>Beslissing op bezwaar Wob-/Woo-verzoek over ve...</td>\n",
       "      <td>2023-01-27</td>\n",
       "      <td>[https://open.overheid.nl/documenten/ronl-0ba9...</td>\n",
       "      <td>[image, 02-11-2021, 02-11-2021]</td>\n",
       "      <td>Ministerie van Landbouw, Natuur en Voedselkwal...</td>\n",
       "      <td>2023</td>\n",
       "      <td>1e Kwartaal</td>\n",
       "      <td>True</td>\n",
       "      <td>02-11-2021</td>\n",
       "    </tr>\n",
       "    <tr>\n",
       "      <th>3</th>\n",
       "      <td>Beslissing op bezwaar Wob-besluit Financiën ov...</td>\n",
       "      <td>2022-04-26</td>\n",
       "      <td>[https://open.overheid.nl/documenten/ronl-e3e1...</td>\n",
       "      <td>[22-10-2021, nan]</td>\n",
       "      <td>Ministerie van Financiën</td>\n",
       "      <td>2022</td>\n",
       "      <td>2e Kwartaal</td>\n",
       "      <td>False</td>\n",
       "      <td>22-10-2021</td>\n",
       "    </tr>\n",
       "    <tr>\n",
       "      <th>4</th>\n",
       "      <td>Beslissing op bezwaar Wob-besluit over afstemm...</td>\n",
       "      <td>2023-02-09</td>\n",
       "      <td>[https://open.overheid.nl/documenten/ronl-07e2...</td>\n",
       "      <td>[nan, 05-10-2022]</td>\n",
       "      <td>Ministerie van Financiën</td>\n",
       "      <td>2023</td>\n",
       "      <td>1e Kwartaal</td>\n",
       "      <td>False</td>\n",
       "      <td>05-10-2022</td>\n",
       "    </tr>\n",
       "    <tr>\n",
       "      <th>...</th>\n",
       "      <td>...</td>\n",
       "      <td>...</td>\n",
       "      <td>...</td>\n",
       "      <td>...</td>\n",
       "      <td>...</td>\n",
       "      <td>...</td>\n",
       "      <td>...</td>\n",
       "      <td>...</td>\n",
       "      <td>...</td>\n",
       "    </tr>\n",
       "    <tr>\n",
       "      <th>1127</th>\n",
       "      <td>Besluit van 20 juli 2022 op het verzoek inzake...</td>\n",
       "      <td>2022-07-20</td>\n",
       "      <td>[https://open.overheid.nl/documenten/ronl-7517...</td>\n",
       "      <td>[image]</td>\n",
       "      <td>Ministerie van Justitie en Veiligheid</td>\n",
       "      <td>2022</td>\n",
       "      <td>3e Kwartaal</td>\n",
       "      <td>True</td>\n",
       "      <td>NaN</td>\n",
       "    </tr>\n",
       "    <tr>\n",
       "      <th>1129</th>\n",
       "      <td>Woo-verzoek Evaluatiecommissie Tuitjenhorn</td>\n",
       "      <td>2022-06-30</td>\n",
       "      <td>[https://open.overheid.nl/documenten/ronl-370d...</td>\n",
       "      <td>[22-10-2021, nan]</td>\n",
       "      <td>Ministerie van Justitie en Veiligheid</td>\n",
       "      <td>2022</td>\n",
       "      <td>2e Kwartaal</td>\n",
       "      <td>False</td>\n",
       "      <td>22-10-2021</td>\n",
       "    </tr>\n",
       "    <tr>\n",
       "      <th>1130</th>\n",
       "      <td>Woo-verzoek over de identiteit achter anonieme...</td>\n",
       "      <td>2022-08-25</td>\n",
       "      <td>[https://open.overheid.nl/documenten/ronl-2a0b...</td>\n",
       "      <td>[02-08-2022]</td>\n",
       "      <td>Ministerie van Landbouw, Natuur en Voedselkwal...</td>\n",
       "      <td>2022</td>\n",
       "      <td>3e Kwartaal</td>\n",
       "      <td>False</td>\n",
       "      <td>02-08-2022</td>\n",
       "    </tr>\n",
       "    <tr>\n",
       "      <th>1131</th>\n",
       "      <td>Woo-verzoek over landbouwvrijstelling in inkom...</td>\n",
       "      <td>2023-02-27</td>\n",
       "      <td>[https://open.overheid.nl/documenten/ronl-1c09...</td>\n",
       "      <td>[nan, 07-08-2022, nan]</td>\n",
       "      <td>Ministerie van Financiën</td>\n",
       "      <td>2023</td>\n",
       "      <td>1e Kwartaal</td>\n",
       "      <td>False</td>\n",
       "      <td>07-08-2022</td>\n",
       "    </tr>\n",
       "    <tr>\n",
       "      <th>1132</th>\n",
       "      <td>Woo-verzoek over ongeval met trampoline</td>\n",
       "      <td>2022-08-23</td>\n",
       "      <td>[https://open.overheid.nl/documenten/ronl-41c5...</td>\n",
       "      <td>[11-05-2022]</td>\n",
       "      <td>Ministerie van Landbouw, Natuur en Voedselkwal...</td>\n",
       "      <td>2022</td>\n",
       "      <td>3e Kwartaal</td>\n",
       "      <td>False</td>\n",
       "      <td>11-05-2022</td>\n",
       "    </tr>\n",
       "  </tbody>\n",
       "</table>\n",
       "<p>1112 rows × 9 columns</p>\n",
       "</div>"
      ],
      "text/plain": [
       "                                                Verzoek  docdatums  \\\n",
       "0     Beslissing op bezwaar Wob verzoek corresponden... 2022-09-15   \n",
       "1     Beslissing op bezwaar Wob-/Woo-verzoek over in... 2022-12-23   \n",
       "2     Beslissing op bezwaar Wob-/Woo-verzoek over ve... 2023-01-27   \n",
       "3     Beslissing op bezwaar Wob-besluit Financiën ov... 2022-04-26   \n",
       "4     Beslissing op bezwaar Wob-besluit over afstemm... 2023-02-09   \n",
       "...                                                 ...        ...   \n",
       "1127  Besluit van 20 juli 2022 op het verzoek inzake... 2022-07-20   \n",
       "1129         Woo-verzoek Evaluatiecommissie Tuitjenhorn 2022-06-30   \n",
       "1130  Woo-verzoek over de identiteit achter anonieme... 2022-08-25   \n",
       "1131  Woo-verzoek over landbouwvrijstelling in inkom... 2023-02-27   \n",
       "1132            Woo-verzoek over ongeval met trampoline 2022-08-23   \n",
       "\n",
       "                                                   urls  \\\n",
       "0     [https://open.overheid.nl/documenten/ronl-34e6...   \n",
       "1     [https://open.overheid.nl/documenten/ronl-7a0f...   \n",
       "2     [https://open.overheid.nl/documenten/ronl-0ba9...   \n",
       "3     [https://open.overheid.nl/documenten/ronl-e3e1...   \n",
       "4     [https://open.overheid.nl/documenten/ronl-07e2...   \n",
       "...                                                 ...   \n",
       "1127  [https://open.overheid.nl/documenten/ronl-7517...   \n",
       "1129  [https://open.overheid.nl/documenten/ronl-370d...   \n",
       "1130  [https://open.overheid.nl/documenten/ronl-2a0b...   \n",
       "1131  [https://open.overheid.nl/documenten/ronl-1c09...   \n",
       "1132  [https://open.overheid.nl/documenten/ronl-41c5...   \n",
       "\n",
       "                            verdatums  \\\n",
       "0                     [nan, nan, nan]   \n",
       "1              [14-07-2022, nan, nan]   \n",
       "2     [image, 02-11-2021, 02-11-2021]   \n",
       "3                   [22-10-2021, nan]   \n",
       "4                   [nan, 05-10-2022]   \n",
       "...                               ...   \n",
       "1127                          [image]   \n",
       "1129                [22-10-2021, nan]   \n",
       "1130                     [02-08-2022]   \n",
       "1131           [nan, 07-08-2022, nan]   \n",
       "1132                     [11-05-2022]   \n",
       "\n",
       "                                      verantwoordelijke  jaar     kwartaal  \\\n",
       "0           Ministerie van Infrastructuur en Waterstaat  2022  3e Kwartaal   \n",
       "1           Ministerie van Infrastructuur en Waterstaat  2022  4e Kwartaal   \n",
       "2     Ministerie van Landbouw, Natuur en Voedselkwal...  2023  1e Kwartaal   \n",
       "3                              Ministerie van Financiën  2022  2e Kwartaal   \n",
       "4                              Ministerie van Financiën  2023  1e Kwartaal   \n",
       "...                                                 ...   ...          ...   \n",
       "1127              Ministerie van Justitie en Veiligheid  2022  3e Kwartaal   \n",
       "1129              Ministerie van Justitie en Veiligheid  2022  2e Kwartaal   \n",
       "1130  Ministerie van Landbouw, Natuur en Voedselkwal...  2022  3e Kwartaal   \n",
       "1131                           Ministerie van Financiën  2023  1e Kwartaal   \n",
       "1132  Ministerie van Landbouw, Natuur en Voedselkwal...  2022  3e Kwartaal   \n",
       "\n",
       "      image    verdatum  \n",
       "0     False         NaN  \n",
       "1     False  14-07-2022  \n",
       "2      True  02-11-2021  \n",
       "3     False  22-10-2021  \n",
       "4     False  05-10-2022  \n",
       "...     ...         ...  \n",
       "1127   True         NaN  \n",
       "1129  False  22-10-2021  \n",
       "1130  False  02-08-2022  \n",
       "1131  False  07-08-2022  \n",
       "1132  False  11-05-2022  \n",
       "\n",
       "[1112 rows x 9 columns]"
      ]
     },
     "metadata": {},
     "output_type": "display_data"
    }
   ],
   "source": [
    "display(df)"
   ]
  },
  {
   "cell_type": "code",
   "execution_count": 160,
   "id": "1639ba58",
   "metadata": {
    "scrolled": true
   },
   "outputs": [
    {
     "name": "stdout",
     "output_type": "stream",
     "text": [
      "nan\n",
      "nan\n",
      "nan\n",
      "nan\n",
      "nan\n",
      "nan\n",
      "nan\n",
      "nan\n",
      "nan\n",
      "1\n",
      "(nan, 73)\n",
      "https://open.overheid.nl/documenten/ronl-62c1905bc371b853e52acd3a7f0d3dba6b090d20/pdf\n",
      "[(nan, 73)]\n",
      "nan\n",
      "nan\n",
      "nan\n",
      "nan\n",
      "nan\n",
      "nan\n",
      "nan\n",
      "nan\n",
      "nan\n",
      "nan\n",
      "nan\n",
      "2\n",
      "('24-02-2022', 5)\n",
      "https://open.overheid.nl/documenten/ronl-d82e831e1472117eafa560f51ff30202ea2fda3b/pdf\n",
      "[('24-02-2022', 5)]\n",
      "3\n",
      "('09-05-2022', 6)\n",
      "https://open.overheid.nl/documenten/ronl-41bda038b24f871db89186d5dedbcc891fcd24fe/pdf\n",
      "[('09-05-2022', 6)]\n",
      "nan\n",
      "nan\n",
      "nan\n",
      "nan\n",
      "nan\n",
      "nan\n",
      "4\n",
      "(nan, 28)\n",
      "https://open.overheid.nl/documenten/ronl-6dce40798a138a5a0a77a868448822a3307a6557/pdf\n",
      "[(nan, 28)]\n",
      "nan\n",
      "nan\n",
      "nan\n",
      "nan\n",
      "nan\n",
      "nan\n",
      "nan\n",
      "nan\n",
      "nan\n",
      "nan\n",
      "nan\n",
      "nan\n",
      "nan\n",
      "nan\n",
      "nan\n",
      "nan\n",
      "nan\n",
      "nan\n",
      "nan\n",
      "nan\n",
      "nan\n",
      "nan\n",
      "nan\n",
      "nan\n",
      "nan\n",
      "nan\n",
      "nan\n",
      "nan\n",
      "nan\n",
      "nan\n",
      "nan\n",
      "nan\n",
      "nan\n",
      "nan\n",
      "nan\n",
      "nan\n",
      "nan\n",
      "nan\n",
      "nan\n",
      "nan\n",
      "nan\n",
      "nan\n",
      "nan\n",
      "nan\n",
      "nan\n",
      "nan\n",
      "nan\n",
      "nan\n",
      "nan\n",
      "nan\n",
      "nan\n",
      "nan\n",
      "5\n",
      "(nan, 56)\n",
      "https://open.overheid.nl/documenten/ronl-034d6865b2267014396b2a70ecc499a9bb60adf3/pdf\n",
      "('10-05-2021', 5)\n",
      "https://open.overheid.nl/documenten/ronl-d3a04859846ecb0609d85e869459139ebdd6e1d9/pdf\n",
      "[(nan, 56), ('10-05-2021', 5)]\n",
      "nan\n",
      "nan\n",
      "nan\n",
      "nan\n",
      "nan\n",
      "nan\n",
      "nan\n",
      "nan\n",
      "nan\n",
      "nan\n",
      "nan\n",
      "nan\n",
      "nan\n",
      "nan\n",
      "nan\n",
      "nan\n",
      "nan\n",
      "6\n",
      "(nan, 4)\n",
      "https://open.overheid.nl/documenten/ronl-bfeb6e208ad5cc64aca4734b9eb0c1936067395f/pdf\n",
      "[(nan, 4)]\n",
      "nan\n",
      "nan\n",
      "7\n",
      "('23-11-2021', 2)\n",
      "https://open.overheid.nl/documenten/ronl-4b72fb4d1b6e0140b738253ac692523319ec7cd2/pdf\n",
      "(nan, 1)\n",
      "https://open.overheid.nl/documenten/ronl-bbbe4bffe7b837c496855dd7fa5fd69b29cfb99a/pdf\n",
      "[('23-11-2021', 2), (nan, 1)]\n",
      "nan\n",
      "nan\n",
      "nan\n",
      "nan\n",
      "nan\n",
      "nan\n",
      "nan\n",
      "nan\n",
      "nan\n",
      "nan\n",
      "nan\n",
      "nan\n",
      "nan\n",
      "nan\n",
      "nan\n",
      "8\n",
      "('02-12-2021', 59)\n",
      "https://open.overheid.nl/documenten/ronl-3424c729eb56a897330638ff8ad70c967dd1817b/pdf\n",
      "[('02-12-2021', 59)]\n",
      "nan\n",
      "nan\n",
      "nan\n",
      "nan\n",
      "nan\n",
      "nan\n",
      "nan\n",
      "nan\n",
      "nan\n",
      "nan\n",
      "nan\n",
      "nan\n",
      "9\n",
      "(nan, 5)\n",
      "https://open.overheid.nl/documenten/ronl-0c198cb3fda61a72e9f4d1891faf96558b2b4fae/pdf\n",
      "('11-11-2021', 3)\n",
      "https://open.overheid.nl/documenten/ronl-2368a81cc0e031ecc9fd7398a83d0bd18463c318/pdf\n",
      "[(nan, 5), ('11-11-2021', 3)]\n",
      "nan\n",
      "nan\n",
      "nan\n",
      "nan\n",
      "nan\n",
      "nan\n",
      "nan\n",
      "nan\n",
      "nan\n",
      "nan\n",
      "nan\n",
      "nan\n",
      "nan\n",
      "nan\n",
      "nan\n",
      "nan\n",
      "nan\n",
      "nan\n",
      "nan\n",
      "nan\n",
      "10\n",
      "(nan, 53)\n",
      "https://open.overheid.nl/documenten/ronl-6e383c0444ace1e984b132d23a90eabff7e081db/pdf\n",
      "[(nan, 53)]\n",
      "nan\n",
      "nan\n",
      "nan\n",
      "nan\n",
      "nan\n",
      "nan\n",
      "nan\n",
      "nan\n",
      "nan\n",
      "nan\n",
      "nan\n",
      "nan\n",
      "nan\n",
      "nan\n",
      "nan\n",
      "11\n",
      "('06-05-2022', 93)\n",
      "https://open.overheid.nl/documenten/ronl-220a4975ba29aec3ae8e2472f3bac98ab3526ecd/pdf\n",
      "[('06-05-2022', 93)]\n",
      "nan\n",
      "nan\n",
      "nan\n",
      "nan\n",
      "nan\n",
      "nan\n",
      "nan\n",
      "nan\n",
      "nan\n",
      "nan\n",
      "nan\n",
      "nan\n",
      "nan\n",
      "nan\n",
      "nan\n",
      "nan\n",
      "nan\n",
      "nan\n",
      "nan\n",
      "nan\n",
      "nan\n",
      "nan\n",
      "nan\n",
      "nan\n",
      "nan\n",
      "nan\n",
      "nan\n",
      "nan\n",
      "nan\n",
      "nan\n",
      "nan\n",
      "nan\n",
      "nan\n",
      "nan\n",
      "nan\n",
      "nan\n",
      "nan\n",
      "nan\n",
      "nan\n",
      "nan\n",
      "nan\n",
      "nan\n",
      "nan\n",
      "nan\n",
      "nan\n",
      "nan\n",
      "nan\n",
      "nan\n",
      "nan\n",
      "nan\n",
      "nan\n",
      "nan\n",
      "nan\n",
      "nan\n",
      "nan\n",
      "nan\n",
      "nan\n",
      "nan\n",
      "nan\n",
      "nan\n",
      "nan\n",
      "nan\n",
      "nan\n",
      "nan\n",
      "nan\n",
      "nan\n",
      "nan\n",
      "nan\n",
      "nan\n",
      "nan\n",
      "nan\n",
      "nan\n",
      "nan\n",
      "nan\n",
      "nan\n",
      "nan\n",
      "nan\n",
      "nan\n",
      "nan\n",
      "nan\n",
      "nan\n",
      "nan\n",
      "nan\n",
      "nan\n",
      "nan\n",
      "nan\n",
      "nan\n",
      "nan\n",
      "nan\n",
      "nan\n",
      "nan\n",
      "nan\n",
      "nan\n",
      "nan\n",
      "nan\n",
      "nan\n",
      "nan\n",
      "nan\n",
      "nan\n",
      "nan\n",
      "12\n",
      "('20-07-2022', 10)\n",
      "https://open.overheid.nl/documenten/ronl-76ef320eb96ec8c3345fe8ce10a0685088bb4142/pdf\n",
      "[('20-07-2022', 10)]\n",
      "nan\n",
      "nan\n",
      "nan\n",
      "nan\n",
      "nan\n",
      "nan\n",
      "nan\n",
      "nan\n",
      "nan\n",
      "nan\n",
      "nan\n",
      "nan\n",
      "nan\n",
      "nan\n",
      "nan\n",
      "nan\n",
      "nan\n",
      "nan\n",
      "nan\n",
      "nan\n",
      "nan\n",
      "nan\n",
      "nan\n",
      "nan\n",
      "nan\n",
      "nan\n",
      "nan\n",
      "nan\n",
      "nan\n",
      "nan\n",
      "nan\n",
      "nan\n",
      "nan\n",
      "nan\n",
      "nan\n",
      "nan\n",
      "nan\n",
      "nan\n",
      "13\n",
      "('12-12-2018', 5)\n",
      "https://open.overheid.nl/documenten/ronl-e23b8fa1b6ae3a9ef66a647673d7e701ec17a2ed/pdf\n",
      "[('12-12-2018', 5)]\n",
      "nan\n",
      "nan\n",
      "nan\n",
      "nan\n",
      "nan\n",
      "14\n",
      "('01-07-2022', 7)\n",
      "https://open.overheid.nl/documenten/ronl-ca3d7bd5060081cf566a6628c8a992d4f297695b/pdf\n",
      "[('01-07-2022', 7)]\n",
      "15\n",
      "(nan, 1)\n",
      "https://open.overheid.nl/documenten/ronl-2c835a1ef39fc7308bb32e3b2d264d7c09cbede8/pdf\n",
      "('29-10-2021', 6)\n",
      "https://open.overheid.nl/documenten/ronl-65b75a4eee626e5b051d563a3e61f094657a86c5/pdf\n",
      "(nan, 4)\n",
      "https://open.overheid.nl/documenten/ronl-76136272188fdb6f962f1fe6f21097a419c11ca8/pdf\n",
      "(nan, 80)\n",
      "https://open.overheid.nl/documenten/ronl-87a7a5a7cb844f8e3792b2686e83fac78ef659c7/pdf\n",
      "[(nan, 1), ('29-10-2021', 6), (nan, 4), (nan, 80)]\n",
      "16\n",
      "('22-07-2022', 3)\n",
      "https://open.overheid.nl/documenten/ronl-2de94c5f9609362fa09cdef38e82e3e5c5a4cfa0/pdf\n",
      "(nan, 1)\n",
      "https://open.overheid.nl/documenten/ronl-317fb34b7a6514529b3cf3d5ca27d62770674bcb/pdf\n",
      "(nan, 18)\n",
      "https://open.overheid.nl/documenten/ronl-8d9789a646f70e40f242a4865de38d6bae727de1/pdf\n",
      "[('22-07-2022', 3), (nan, 1), (nan, 18)]\n",
      "nan\n",
      "17\n",
      "('02-02-2022', 8)\n",
      "https://open.overheid.nl/documenten/ronl-9997ab37d7ce8ffe905050c349da80445fe3e33b/pdf\n",
      "[('02-02-2022', 8)]\n",
      "nan\n",
      "nan\n",
      "18\n",
      "(nan, 85)\n",
      "https://open.overheid.nl/documenten/ronl-4e2d7fd216f8bba501efac572349bcc96d86907e/pdf\n",
      "(nan, 44)\n",
      "https://open.overheid.nl/documenten/ronl-736810fea475af17d9b506cf2bb24e25aef37c5d/pdf\n",
      "(nan, 85)\n",
      "https://open.overheid.nl/documenten/ronl-ee0c1faf541d422b2708e0969563831759fffae3/pdf\n",
      "[(nan, 85), (nan, 44), (nan, 85)]\n",
      "nan\n",
      "nan\n",
      "nan\n",
      "nan\n",
      "nan\n",
      "nan\n",
      "nan\n",
      "nan\n",
      "nan\n",
      "nan\n",
      "nan\n",
      "nan\n",
      "nan\n",
      "nan\n",
      "nan\n",
      "nan\n",
      "nan\n",
      "nan\n",
      "nan\n",
      "nan\n",
      "nan\n",
      "nan\n",
      "nan\n",
      "nan\n",
      "nan\n",
      "nan\n",
      "nan\n",
      "nan\n",
      "nan\n",
      "nan\n",
      "nan\n",
      "nan\n",
      "nan\n",
      "nan\n",
      "nan\n",
      "nan\n",
      "nan\n",
      "nan\n",
      "nan\n",
      "nan\n",
      "nan\n",
      "nan\n",
      "nan\n",
      "nan\n",
      "nan\n",
      "nan\n",
      "nan\n",
      "nan\n",
      "nan\n",
      "nan\n",
      "nan\n",
      "nan\n",
      "nan\n",
      "nan\n",
      "nan\n",
      "nan\n",
      "nan\n",
      "nan\n",
      "19\n",
      "(nan, 44)\n",
      "https://open.overheid.nl/documenten/ronl-821cfe501f0ab5daf59d492ed177d46deb019aa4/pdf\n",
      "[(nan, 44)]\n",
      "nan\n",
      "nan\n",
      "nan\n",
      "nan\n",
      "nan\n",
      "nan\n",
      "nan\n",
      "20\n",
      "(nan, 12)\n",
      "https://open.overheid.nl/documenten/ronl-e92c8fd9e9da5cb8538ba487592bc445de91a02a/pdf\n",
      "[(nan, 12)]\n",
      "nan\n",
      "nan\n",
      "nan\n",
      "nan\n",
      "nan\n",
      "nan\n",
      "nan\n",
      "nan\n",
      "nan\n",
      "nan\n",
      "nan\n",
      "nan\n",
      "nan\n",
      "nan\n",
      "nan\n",
      "nan\n",
      "nan\n",
      "nan\n",
      "nan\n",
      "nan\n",
      "21\n",
      "(nan, 231)\n",
      "https://open.overheid.nl/documenten/ronl-2bd38c9c2089f9cb7c8b11c057a46eb39a9d75e0/pdf\n",
      "('31-03-2022', 18)\n",
      "https://open.overheid.nl/documenten/ronl-fd860e05ed3652217ae4861c6ca20e17deee5a34/pdf\n",
      "[(nan, 231), ('31-03-2022', 18)]\n",
      "nan\n",
      "nan\n",
      "nan\n",
      "nan\n",
      "nan\n",
      "22\n",
      "(nan, 9)\n",
      "https://open.overheid.nl/documenten/ronl-61f54a07a3bdbc969683f48d7414d7fbe0bfcf5b/pdf\n",
      "[(nan, 9)]\n",
      "nan\n",
      "nan\n",
      "nan\n",
      "nan\n",
      "nan\n",
      "nan\n",
      "nan\n",
      "nan\n",
      "nan\n",
      "nan\n",
      "nan\n",
      "nan\n",
      "nan\n",
      "23\n",
      "(nan, 85)\n",
      "https://open.overheid.nl/documenten/ronl-6e42517c90ad8e8db952d7d657733550b46c60c0/pdf\n",
      "[(nan, 85)]\n",
      "nan\n",
      "nan\n",
      "nan\n",
      "nan\n",
      "nan\n",
      "nan\n",
      "nan\n",
      "24\n",
      "(nan, 64)\n",
      "https://open.overheid.nl/documenten/ronl-4852e2bb2383de7d302a7e946c76e21a2aa38102/pdf\n",
      "('30-12-2021', 11)\n",
      "https://open.overheid.nl/documenten/ronl-66b94a3ebb7802b395844dfed57e3c354fc111c3/pdf\n",
      "[(nan, 64), ('30-12-2021', 11)]\n",
      "nan\n",
      "nan\n",
      "nan\n",
      "nan\n",
      "nan\n",
      "nan\n",
      "nan\n",
      "nan\n",
      "nan\n",
      "nan\n",
      "nan\n",
      "nan\n",
      "nan\n",
      "nan\n",
      "nan\n",
      "nan\n",
      "nan\n",
      "nan\n",
      "nan\n",
      "nan\n",
      "nan\n",
      "nan\n",
      "nan\n",
      "nan\n",
      "nan\n",
      "nan\n",
      "nan\n",
      "25\n",
      "('07-03-2022', 3)\n",
      "https://open.overheid.nl/documenten/ronl-761de58d5fad5d3d5322285b0907351544aec75f/pdf\n",
      "[('07-03-2022', 3)]\n",
      "nan\n",
      "nan\n",
      "nan\n",
      "nan\n",
      "nan\n",
      "nan\n",
      "nan\n",
      "nan\n",
      "nan\n",
      "nan\n",
      "nan\n",
      "26\n",
      "(nan, 8)\n",
      "https://open.overheid.nl/documenten/ronl-6c2b0510a57cc7c71010be132c2cff18c58d1d63/pdf\n",
      "[(nan, 8)]\n",
      "27\n",
      "(nan, 6)\n",
      "https://open.overheid.nl/documenten/ronl-4da255ba4947fe3d09f3c2c5d143ee1739ead396/pdf\n",
      "[(nan, 6)]\n",
      "nan\n",
      "nan\n",
      "nan\n",
      "nan\n",
      "28\n",
      "('23-06-2022', 7)\n",
      "https://open.overheid.nl/documenten/ronl-439dfebe8cffecb9a385633cb757ced59de469ee/pdf\n",
      "[('23-06-2022', 7)]\n",
      "nan\n",
      "nan\n",
      "nan\n",
      "nan\n",
      "nan\n",
      "nan\n",
      "nan\n",
      "nan\n",
      "nan\n",
      "29\n",
      "('25-08-2021', 11)\n",
      "https://open.overheid.nl/documenten/ronl-0cc4bbcb50a1e5868d34ec84edd3c88b57cc0826/pdf\n",
      "[('25-08-2021', 11)]\n",
      "nan\n",
      "nan\n",
      "nan\n",
      "nan\n",
      "nan\n",
      "nan\n",
      "nan\n",
      "nan\n",
      "nan\n",
      "nan\n",
      "nan\n",
      "nan\n",
      "nan\n",
      "nan\n",
      "nan\n",
      "nan\n",
      "nan\n",
      "nan\n",
      "nan\n",
      "nan\n",
      "nan\n",
      "nan\n",
      "nan\n",
      "nan\n",
      "nan\n",
      "nan\n",
      "nan\n",
      "nan\n",
      "nan\n",
      "nan\n",
      "nan\n",
      "nan\n",
      "nan\n",
      "nan\n",
      "nan\n",
      "nan\n",
      "nan\n",
      "nan\n",
      "nan\n",
      "nan\n",
      "nan\n",
      "nan\n",
      "nan\n",
      "nan\n",
      "nan\n",
      "nan\n",
      "nan\n",
      "nan\n",
      "nan\n",
      "nan\n",
      "nan\n",
      "nan\n",
      "nan\n",
      "nan\n",
      "nan\n",
      "nan\n",
      "nan\n",
      "nan\n",
      "nan\n",
      "nan\n",
      "nan\n",
      "nan\n",
      "nan\n",
      "nan\n",
      "nan\n",
      "nan\n",
      "nan\n",
      "nan\n",
      "nan\n",
      "nan\n",
      "nan\n",
      "nan\n",
      "nan\n",
      "nan\n",
      "nan\n",
      "nan\n",
      "nan\n",
      "nan\n",
      "nan\n",
      "nan\n",
      "nan\n",
      "nan\n",
      "nan\n",
      "nan\n",
      "nan\n",
      "nan\n",
      "nan\n",
      "nan\n",
      "nan\n",
      "nan\n",
      "nan\n",
      "nan\n",
      "nan\n",
      "nan\n",
      "nan\n",
      "nan\n",
      "nan\n",
      "nan\n",
      "nan\n",
      "nan\n",
      "nan\n",
      "nan\n",
      "nan\n",
      "nan\n",
      "nan\n",
      "nan\n",
      "nan\n",
      "nan\n",
      "nan\n",
      "nan\n",
      "nan\n",
      "nan\n",
      "nan\n",
      "nan\n",
      "nan\n",
      "nan\n",
      "nan\n",
      "nan\n",
      "nan\n",
      "nan\n",
      "nan\n",
      "nan\n",
      "nan\n",
      "nan\n",
      "nan\n",
      "nan\n",
      "nan\n",
      "nan\n",
      "nan\n",
      "30\n",
      "(nan, 12)\n",
      "https://open.overheid.nl/documenten/ronl-569d1b6551d4841fbc9388b632f88751e2ceea0b/pdf\n",
      "[(nan, 12)]\n",
      "nan\n",
      "nan\n",
      "nan\n",
      "nan\n",
      "nan\n",
      "31\n",
      "('22-12-2021', 17)\n",
      "https://open.overheid.nl/documenten/ronl-fa6ab26d7ef778629391b4fe75c66d883798f424/pdf\n",
      "[('22-12-2021', 17)]\n",
      "nan\n",
      "nan\n",
      "nan\n",
      "nan\n",
      "nan\n",
      "nan\n",
      "nan\n",
      "32\n",
      "('21-02-2022', 5)\n",
      "https://open.overheid.nl/documenten/ronl-f9dd999b78159d0763911599f71119cc13a2914b/pdf\n",
      "[('21-02-2022', 5)]\n",
      "nan\n",
      "nan\n",
      "nan\n",
      "nan\n",
      "nan\n",
      "33\n",
      "('02-06-2022', 3)\n",
      "https://open.overheid.nl/documenten/ronl-6517fb0606812dc556e6a375f53c150688a9fb8d/pdf\n",
      "[('02-06-2022', 3)]\n",
      "nan\n",
      "nan\n",
      "nan\n",
      "34\n",
      "(nan, 6)\n",
      "https://open.overheid.nl/documenten/ronl-ebb1c38af20b0a4a397e6a9c0d9aa8bb4af226f7/pdf\n",
      "[(nan, 6)]\n",
      "nan\n",
      "nan\n",
      "35\n",
      "(nan, 95)\n",
      "https://open.overheid.nl/documenten/ronl-164be31f08ef6d10bbc90ea7d23e4080ccf614d5/pdf\n",
      "(nan, 438)\n",
      "https://open.overheid.nl/documenten/ronl-31d5aa66daee26eebaaa92f510e56c9af192695e/pdf\n",
      "(nan, 6)\n",
      "https://open.overheid.nl/documenten/ronl-3fc5d77651c7ab624729e88f03b1dbe122aa0cdb/pdf\n",
      "(nan, 4)\n",
      "https://open.overheid.nl/documenten/ronl-a4f42710ffec45435f51aaaa6fbf712ac40fbbd5/pdf\n"
     ]
    },
    {
     "name": "stdout",
     "output_type": "stream",
     "text": [
      "('06-09-2022', 7)\n",
      "https://open.overheid.nl/documenten/ronl-f47eec8a7a10ecf56c3fd7ae146b5041f3bacae7/pdf\n",
      "[(nan, 95), (nan, 438), (nan, 6), (nan, 4), ('06-09-2022', 7)]\n",
      "nan\n",
      "nan\n",
      "nan\n",
      "nan\n",
      "nan\n",
      "nan\n",
      "nan\n",
      "nan\n",
      "nan\n",
      "36\n",
      "(nan, 2)\n",
      "https://open.overheid.nl/documenten/ronl-4883a7e8c9275999c59f136ed931ca31be18dc41/pdf\n",
      "(nan, 98)\n",
      "https://open.overheid.nl/documenten/ronl-b4b19d95907895c6078efcbb360abe64e42af95c/pdf\n",
      "[(nan, 2), (nan, 98)]\n",
      "nan\n",
      "37\n",
      "('10-06-2022', 4)\n",
      "https://open.overheid.nl/documenten/ronl-d88571189cbd9a865416729bee4e58adb8b06441/pdf\n",
      "[('10-06-2022', 4)]\n",
      "nan\n",
      "nan\n",
      "nan\n",
      "38\n",
      "(nan, 16)\n",
      "https://open.overheid.nl/documenten/ronl-059cafe348a226a30708c812268e51b104e137e4/pdf\n",
      "[(nan, 16)]\n",
      "nan\n",
      "nan\n",
      "39\n",
      "('12-12-2022', 3)\n",
      "https://open.overheid.nl/documenten/ronl-c7c5fd16a1652e18ab92f6cea3e80a074990dfd0/pdf\n",
      "[('12-12-2022', 3)]\n",
      "40\n",
      "('12-12-2022', 3)\n",
      "https://open.overheid.nl/documenten/ronl-2b23e5d8309d176d5d68640929dd0ccd69cf63da/pdf\n",
      "[('12-12-2022', 3)]\n",
      "nan\n",
      "41\n",
      "('08-06-2022', 3)\n",
      "https://open.overheid.nl/documenten/ronl-cc0b7734fe08a80558778216f85cb8ff69ab7987/pdf\n",
      "[('08-06-2022', 3)]\n",
      "42\n",
      "(nan, 9)\n",
      "https://open.overheid.nl/documenten/ronl-346e197f70bf74ffeaf0113dc09bdceb02b0cff6/pdf\n",
      "('11-03-2022', 2)\n",
      "https://open.overheid.nl/documenten/ronl-eb0ea6134168946b022ca12544a8beb686d18f0d/pdf\n",
      "[(nan, 9), ('11-03-2022', 2)]\n",
      "nan\n",
      "43\n",
      "('12-10-2022', 6)\n",
      "https://open.overheid.nl/documenten/ronl-8c634381b9bd8920b1b7a1d79f692806bd8444e9/pdf\n",
      "[('12-10-2022', 6)]\n",
      "nan\n",
      "nan\n",
      "nan\n",
      "nan\n",
      "nan\n",
      "nan\n",
      "nan\n",
      "nan\n",
      "nan\n",
      "nan\n",
      "44\n",
      "('27-05-2021', 4)\n",
      "https://open.overheid.nl/documenten/ronl-4725d66bb0fc6bcd810b313cf4273890f71ec3c9/pdf\n",
      "[('27-05-2021', 4)]\n",
      "nan\n",
      "nan\n",
      "45\n",
      "('18-01-2023', 6)\n",
      "https://open.overheid.nl/documenten/ronl-16c5557d4cb967d4d7bf0c9fa7a923f792dbee77/pdf\n",
      "[('18-01-2023', 6)]\n",
      "nan\n",
      "46\n",
      "('11-03-2022', 5)\n",
      "https://open.overheid.nl/documenten/ronl-65776775f791493e5419cce8dbc9a31e690cd2a4/pdf\n",
      "[('11-03-2022', 5)]\n",
      "47\n",
      "(nan, 6)\n",
      "https://open.overheid.nl/documenten/ronl-c4c61d971fbc07e89f55abe757f5f68420445f8a/pdf\n",
      "(nan, 27)\n",
      "https://open.overheid.nl/documenten/ronl-f63027b9b6c0cd64075a8e1242d0b362725e77ee/pdf\n",
      "[(nan, 6), (nan, 27)]\n",
      "48\n",
      "('25-08-2021', 11)\n",
      "https://open.overheid.nl/documenten/ronl-5f213e426ec8dbae83148a8abcdb03d7e096293a/pdf\n",
      "[('25-08-2021', 11)]\n",
      "nan\n",
      "nan\n",
      "nan\n",
      "49\n",
      "(nan, 84)\n",
      "https://open.overheid.nl/documenten/ronl-657540d0474f53a1475a49af84e3d24dc74058ce/pdf\n",
      "('29-06-2022', 9)\n",
      "https://open.overheid.nl/documenten/ronl-e401a43b075faee82df427b7f34c16eb1028535c/pdf\n",
      "(nan, 32)\n",
      "https://open.overheid.nl/documenten/ronl-fb0bfd01ca4d1c41837294e3acda13ef739195b3/pdf\n",
      "[(nan, 84), ('29-06-2022', 9), (nan, 32)]\n",
      "nan\n",
      "nan\n",
      "nan\n",
      "nan\n",
      "nan\n",
      "nan\n",
      "nan\n",
      "nan\n",
      "nan\n",
      "nan\n",
      "nan\n",
      "nan\n",
      "nan\n",
      "nan\n",
      "nan\n",
      "nan\n",
      "nan\n",
      "nan\n",
      "nan\n",
      "nan\n",
      "nan\n",
      "nan\n",
      "nan\n",
      "nan\n",
      "nan\n",
      "nan\n",
      "nan\n",
      "nan\n",
      "nan\n",
      "nan\n",
      "nan\n",
      "nan\n",
      "nan\n",
      "nan\n",
      "nan\n",
      "nan\n",
      "nan\n",
      "nan\n",
      "50\n",
      "(nan, 45)\n",
      "https://open.overheid.nl/documenten/ronl-2b1d532ec1285de9136f215683d0b28d557ebad4/pdf\n",
      "(nan, 45)\n",
      "https://open.overheid.nl/documenten/ronl-54947afd2f366d24fbd6c77e41eee6868945e5b2/pdf\n",
      "(nan, 45)\n",
      "https://open.overheid.nl/documenten/ronl-fa1e6836362c4e39e9dd13175d311cb2bae6e03f/pdf\n",
      "(nan, 40)\n",
      "https://open.overheid.nl/documenten/ronl-fe2dea8f0cc2731b9da4519e7be27fa4a29a8d09/pdf\n",
      "[(nan, 45), (nan, 45), (nan, 45), (nan, 40)]\n",
      "nan\n",
      "nan\n",
      "nan\n",
      "51\n",
      "('20-04-2022', 4)\n",
      "https://open.overheid.nl/documenten/ronl-8e653a6035eee05779003083e702f7d76f604143/pdf\n",
      "[('20-04-2022', 4)]\n",
      "nan\n",
      "nan\n",
      "nan\n",
      "nan\n",
      "nan\n",
      "nan\n",
      "nan\n",
      "nan\n",
      "nan\n",
      "nan\n",
      "nan\n",
      "nan\n",
      "nan\n",
      "nan\n",
      "nan\n",
      "nan\n",
      "nan\n",
      "nan\n",
      "nan\n",
      "nan\n",
      "nan\n",
      "nan\n",
      "nan\n",
      "nan\n",
      "nan\n",
      "nan\n",
      "nan\n",
      "nan\n",
      "nan\n",
      "nan\n",
      "nan\n",
      "nan\n",
      "nan\n",
      "nan\n",
      "nan\n",
      "nan\n",
      "nan\n",
      "nan\n",
      "nan\n",
      "nan\n",
      "nan\n",
      "nan\n",
      "nan\n",
      "nan\n",
      "nan\n",
      "nan\n",
      "nan\n",
      "nan\n",
      "nan\n",
      "nan\n",
      "nan\n",
      "nan\n",
      "nan\n",
      "nan\n",
      "nan\n",
      "nan\n",
      "nan\n",
      "nan\n",
      "nan\n",
      "nan\n",
      "nan\n",
      "nan\n",
      "nan\n",
      "nan\n",
      "nan\n",
      "nan\n",
      "nan\n",
      "nan\n",
      "nan\n",
      "nan\n",
      "nan\n",
      "nan\n",
      "nan\n",
      "nan\n",
      "nan\n",
      "nan\n",
      "nan\n",
      "nan\n",
      "nan\n",
      "nan\n",
      "nan\n",
      "nan\n",
      "nan\n",
      "nan\n",
      "nan\n",
      "nan\n",
      "nan\n",
      "nan\n",
      "nan\n",
      "nan\n",
      "nan\n",
      "nan\n",
      "nan\n",
      "nan\n",
      "52\n",
      "('26-05-2021', 3)\n",
      "https://open.overheid.nl/documenten/ronl-2e8692149452bf153e7a6bbb8c9acc08af7f405a/pdf\n",
      "[('26-05-2021', 3)]\n",
      "nan\n",
      "nan\n",
      "nan\n",
      "nan\n",
      "nan\n",
      "nan\n",
      "nan\n",
      "nan\n",
      "nan\n",
      "nan\n",
      "nan\n",
      "nan\n",
      "nan\n",
      "nan\n",
      "nan\n",
      "nan\n",
      "nan\n",
      "nan\n",
      "nan\n",
      "nan\n",
      "nan\n",
      "nan\n",
      "nan\n",
      "nan\n",
      "nan\n",
      "nan\n",
      "nan\n",
      "nan\n",
      "nan\n",
      "nan\n",
      "nan\n",
      "nan\n",
      "nan\n",
      "nan\n",
      "nan\n",
      "nan\n",
      "nan\n",
      "nan\n",
      "nan\n",
      "nan\n",
      "nan\n",
      "nan\n",
      "nan\n",
      "nan\n",
      "nan\n",
      "nan\n",
      "nan\n",
      "nan\n",
      "nan\n",
      "nan\n",
      "nan\n",
      "nan\n",
      "nan\n",
      "nan\n",
      "nan\n",
      "nan\n",
      "nan\n",
      "nan\n",
      "nan\n",
      "nan\n",
      "nan\n",
      "nan\n",
      "nan\n",
      "nan\n",
      "nan\n",
      "nan\n",
      "nan\n",
      "nan\n",
      "53\n",
      "('03-05-2021', 12)\n",
      "https://open.overheid.nl/documenten/ronl-770d0f6c5db3b4a25a67d245a4251f80e6a0f60b/pdf\n",
      "[('03-05-2021', 12)]\n",
      "54\n",
      "('15-10-2021', 6)\n",
      "https://open.overheid.nl/documenten/ronl-50208192c8883da2019ec39c585b7dcde8fd53ff/pdf\n",
      "[('15-10-2021', 6)]\n",
      "nan\n",
      "55\n",
      "('07-07-2021', 13)\n",
      "https://open.overheid.nl/documenten/ronl-b6c4ea682523e3e5f947c50564ecf2a3749984e9/pdf\n",
      "[('07-07-2021', 13)]\n",
      "nan\n",
      "nan\n",
      "nan\n",
      "nan\n",
      "nan\n",
      "nan\n",
      "nan\n",
      "nan\n",
      "nan\n",
      "nan\n",
      "nan\n",
      "nan\n",
      "nan\n",
      "nan\n",
      "nan\n",
      "nan\n",
      "nan\n",
      "nan\n",
      "nan\n",
      "nan\n",
      "nan\n",
      "nan\n",
      "56\n",
      "('16-01-2023', 78)\n",
      "https://open.overheid.nl/documenten/ronl-23f8e267bff3f57299eb9388a48c7490d55e7052/pdf\n",
      "[('16-01-2023', 78)]\n",
      "nan\n",
      "nan\n",
      "nan\n",
      "nan\n",
      "nan\n",
      "nan\n",
      "nan\n",
      "nan\n",
      "nan\n",
      "nan\n",
      "nan\n",
      "57\n",
      "('22-07-2022', 33)\n",
      "https://open.overheid.nl/documenten/ronl-aa6d3207236bc70fae8d2081efd38dc6f49b72ab/pdf\n",
      "[('22-07-2022', 33)]\n",
      "nan\n",
      "58\n",
      "('12-05-2022', 2)\n",
      "https://open.overheid.nl/documenten/ronl-65439304a4bd36503f7ec6bd16ddd8587deebf9e/pdf\n",
      "[('12-05-2022', 2)]\n",
      "nan\n",
      "nan\n",
      "nan\n",
      "nan\n",
      "nan\n",
      "nan\n",
      "nan\n",
      "nan\n",
      "nan\n",
      "nan\n",
      "nan\n",
      "nan\n",
      "nan\n",
      "nan\n",
      "nan\n",
      "nan\n",
      "nan\n",
      "nan\n",
      "nan\n",
      "nan\n",
      "nan\n",
      "nan\n",
      "nan\n",
      "59\n",
      "(nan, 5)\n",
      "https://open.overheid.nl/documenten/ronl-3c5bfed93381a00138beba55663ab808cbb5b959/pdf\n",
      "[(nan, 5)]\n",
      "nan\n",
      "nan\n",
      "nan\n",
      "nan\n",
      "nan\n",
      "nan\n",
      "nan\n",
      "60\n",
      "('13-05-2022', 3)\n",
      "https://open.overheid.nl/documenten/ronl-39e0e2c0614535977c3550db00fc9d6485c18f10/pdf\n",
      "[('13-05-2022', 3)]\n",
      "nan\n",
      "nan\n",
      "nan\n",
      "nan\n",
      "nan\n",
      "nan\n",
      "nan\n",
      "nan\n",
      "nan\n",
      "nan\n",
      "nan\n",
      "nan\n",
      "nan\n",
      "nan\n",
      "nan\n",
      "nan\n",
      "nan\n",
      "nan\n",
      "nan\n",
      "nan\n",
      "nan\n",
      "nan\n",
      "nan\n",
      "nan\n",
      "nan\n",
      "nan\n",
      "nan\n",
      "61\n",
      "('21-11-2022', 26)\n",
      "https://open.overheid.nl/documenten/ronl-a6af003cb561c3d4195d4b1cd3b7c96015a2ce23/pdf\n",
      "[('21-11-2022', 26)]\n",
      "nan\n",
      "nan\n",
      "nan\n",
      "nan\n",
      "nan\n",
      "nan\n",
      "nan\n",
      "nan\n",
      "nan\n",
      "nan\n",
      "nan\n",
      "nan\n",
      "nan\n",
      "nan\n",
      "nan\n",
      "62\n",
      "(nan, 99)\n",
      "https://open.overheid.nl/documenten/ronl-1bb2ea35e8d852393adacfe218d01d22b22a880f/pdf\n",
      "(nan, 66)\n",
      "https://open.overheid.nl/documenten/ronl-623bda2757c70f27a51021a4521d35b6bf45df2b/pdf\n",
      "('15-06-2022', 11)\n",
      "https://open.overheid.nl/documenten/ronl-9649358cf92c4743cc5cc8ddaa887ffeecdf7c83/pdf\n",
      "[(nan, 99), (nan, 66), ('15-06-2022', 11)]\n",
      "nan\n",
      "nan\n",
      "nan\n",
      "nan\n",
      "nan\n",
      "nan\n",
      "nan\n",
      "nan\n",
      "nan\n",
      "nan\n",
      "nan\n",
      "nan\n",
      "nan\n",
      "nan\n",
      "nan\n",
      "nan\n",
      "nan\n",
      "nan\n",
      "nan\n",
      "nan\n",
      "nan\n",
      "nan\n",
      "nan\n",
      "nan\n",
      "nan\n",
      "nan\n",
      "nan\n",
      "nan\n",
      "nan\n",
      "nan\n",
      "nan\n",
      "nan\n",
      "nan\n",
      "nan\n",
      "nan\n",
      "nan\n",
      "nan\n",
      "nan\n",
      "nan\n",
      "nan\n",
      "nan\n",
      "nan\n",
      "nan\n",
      "nan\n",
      "nan\n",
      "nan\n",
      "63\n",
      "(nan, 49)\n",
      "https://open.overheid.nl/documenten/ronl-049a2ee5e6cc15233044ece07ebe2c98857925dc/pdf\n",
      "('01-03-2022', 9)\n",
      "https://open.overheid.nl/documenten/ronl-d8e6296e7fc8088df5bdd4ec6e54ca253d07b02e/pdf\n",
      "[(nan, 49), ('01-03-2022', 9)]\n",
      "nan\n",
      "nan\n",
      "nan\n",
      "nan\n",
      "nan\n",
      "nan\n",
      "nan\n",
      "64\n",
      "(nan, 2)\n",
      "https://open.overheid.nl/documenten/ronl-7aea4be4eb21750609702c273913ec4c223a2ecf/pdf\n",
      "[(nan, 2)]\n",
      "nan\n",
      "65\n",
      "('07-01-2022', 13)\n",
      "https://open.overheid.nl/documenten/ronl-1008cfdeb1f33acb18de63c9b7198adee26517d9/pdf\n",
      "('30-12-2013', 14)\n",
      "https://open.overheid.nl/documenten/ronl-32f47aed752d2df5a26857249cd1c812af8575d3/pdf\n",
      "[('07-01-2022', 13), ('30-12-2013', 14)]\n",
      "66\n",
      "('03-01-2022', 7)\n",
      "https://open.overheid.nl/documenten/ronl-37862ba1acfdb2d6bb2fed1588cfd7ec10f1a01a/pdf\n",
      "(nan, 11)\n",
      "https://open.overheid.nl/documenten/ronl-ff4f6116059c423f47296972c459f6a1e538b057/pdf\n",
      "[('03-01-2022', 7), (nan, 11)]\n",
      "nan\n",
      "nan\n",
      "nan\n",
      "nan\n",
      "nan\n",
      "nan\n",
      "nan\n",
      "nan\n",
      "nan\n",
      "nan\n",
      "nan\n",
      "nan\n",
      "nan\n",
      "nan\n",
      "nan\n",
      "67\n",
      "(nan, 13)\n",
      "https://open.overheid.nl/documenten/ronl-36f85bbf4ffcf92dc66c0b6048c7edb37c2f8a01/pdf\n",
      "(nan, 11)\n",
      "https://open.overheid.nl/documenten/ronl-72548706ee5f38494c145ff3e1c0dce60c747ef8/pdf\n",
      "(nan, 12)\n",
      "https://open.overheid.nl/documenten/ronl-88beb6b3fd2e958d8e63dd3048ba0e8e6cb99c84/pdf\n",
      "('28-05-2021', 29)\n",
      "https://open.overheid.nl/documenten/ronl-92867cc90de46486945a04e07f69a05bb88a4e6b/pdf\n",
      "(nan, 15)\n",
      "https://open.overheid.nl/documenten/ronl-f9739b659f2e13fcf5ea962ca2aa2e4b32e39a9c/pdf\n",
      "[(nan, 13), (nan, 11), (nan, 12), ('28-05-2021', 29), (nan, 15)]\n",
      "68\n",
      "('05-04-2022', 8)\n",
      "https://open.overheid.nl/documenten/ronl-d8f88170c6770a1044fb2404fa5ee998d7a69fa5/pdf\n",
      "[('05-04-2022', 8)]\n",
      "nan\n",
      "nan\n",
      "69\n",
      "('08-09-2022', 3)\n",
      "https://open.overheid.nl/documenten/ronl-1101c61ce283a97d71c274468d3900012b5bbfa3/pdf\n",
      "[('08-09-2022', 3)]\n",
      "nan\n",
      "nan\n",
      "nan\n",
      "nan\n",
      "nan\n",
      "nan\n",
      "nan\n",
      "70\n",
      "('22-03-2022', 69)\n",
      "https://open.overheid.nl/documenten/ronl-7517bf69ecc569c0e09f91f7e1196862632f6b94/pdf\n",
      "[('22-03-2022', 69)]\n",
      "nan\n",
      "nan\n",
      "nan\n",
      "nan\n"
     ]
    }
   ],
   "source": [
    "verzoek_datums = []\n",
    "\n",
    "count = 0\n",
    "for i,r in df.iterrows():\n",
    "    if r.image == True and r.verdatum is np.nan:\n",
    "        count+=1\n",
    "        print(count)\n",
    "        vds = []\n",
    "        for idx, value in enumerate(r.verdatums):\n",
    "            if value == 'image':\n",
    "                vd = verzoek_datum(r.urls[idx], True)\n",
    "                print(vd)\n",
    "                print(r.urls[idx])\n",
    "                vds.append(vd)          \n",
    "                \n",
    "    else:\n",
    "        vds = np.nan\n",
    "    \n",
    "    if vds != np.nan:\n",
    "        print(vds)\n",
    "        \n",
    "    verzoek_datums.append(vds)"
   ]
  },
  {
   "cell_type": "code",
   "execution_count": 143,
   "id": "961cfd0a",
   "metadata": {},
   "outputs": [
    {
     "name": "stdout",
     "output_type": "stream",
     "text": [
      "[nan, nan, nan, nan, nan, nan, nan, nan, nan, [(nan, 73)], nan, nan, nan, nan, nan, nan, nan, nan, nan, nan, nan]\n"
     ]
    }
   ],
   "source": [
    "print(verzoek_datums)"
   ]
  },
  {
   "cell_type": "code",
   "execution_count": 161,
   "id": "ad50bf1a",
   "metadata": {},
   "outputs": [
    {
     "name": "stdout",
     "output_type": "stream",
     "text": [
      "70\n",
      "51\n",
      "0.7285714285714285\n"
     ]
    }
   ],
   "source": [
    "OCR_datum = []\n",
    "count1 = 0\n",
    "count2 = 0\n",
    "for i in verzoek_datums:\n",
    "    if isinstance(i, list):\n",
    "        datum = [ele for ele in i if '-' in str(ele)]\n",
    "        count1 += 1\n",
    "        if len(datum) > 0:\n",
    "            count2 += 1\n",
    "            OCR_datum.append(datum[0][0])\n",
    "        else:\n",
    "            OCR_datum.append(np.nan)\n",
    "    else:\n",
    "        OCR_datum.append(np.nan)\n",
    "        \n",
    "        \n",
    "print(count1)\n",
    "print(count2)\n",
    "\n",
    "print(count2/count1)\n",
    "        \n",
    "df['OCR_datum'] = OCR_datum"
   ]
  },
  {
   "cell_type": "code",
   "execution_count": 162,
   "id": "ffd54c6f",
   "metadata": {},
   "outputs": [],
   "source": [
    "#df.to_csv(r'C:\\Users\\ramon\\Downloads\\WithOCR.csv', index = False)"
   ]
  },
  {
   "cell_type": "code",
   "execution_count": 182,
   "id": "7c9530c1",
   "metadata": {},
   "outputs": [
    {
     "data": {
      "text/html": [
       "<div>\n",
       "<style scoped>\n",
       "    .dataframe tbody tr th:only-of-type {\n",
       "        vertical-align: middle;\n",
       "    }\n",
       "\n",
       "    .dataframe tbody tr th {\n",
       "        vertical-align: top;\n",
       "    }\n",
       "\n",
       "    .dataframe thead th {\n",
       "        text-align: right;\n",
       "    }\n",
       "</style>\n",
       "<table border=\"1\" class=\"dataframe\">\n",
       "  <thead>\n",
       "    <tr style=\"text-align: right;\">\n",
       "      <th></th>\n",
       "      <th>Verzoek</th>\n",
       "      <th>docdatums</th>\n",
       "      <th>urls</th>\n",
       "      <th>verdatums</th>\n",
       "      <th>verantwoordelijke</th>\n",
       "      <th>jaar</th>\n",
       "      <th>kwartaal</th>\n",
       "      <th>image</th>\n",
       "      <th>verdatum</th>\n",
       "      <th>OCR_datum</th>\n",
       "    </tr>\n",
       "  </thead>\n",
       "  <tbody>\n",
       "    <tr>\n",
       "      <th>0</th>\n",
       "      <td>Beslissing op bezwaar Wob verzoek corresponden...</td>\n",
       "      <td>2022-09-15</td>\n",
       "      <td>['https://open.overheid.nl/documenten/ronl-34e...</td>\n",
       "      <td>[nan, nan, nan]</td>\n",
       "      <td>Ministerie van Infrastructuur en Waterstaat</td>\n",
       "      <td>2022</td>\n",
       "      <td>3e Kwartaal</td>\n",
       "      <td>False</td>\n",
       "      <td>NaN</td>\n",
       "      <td>NaN</td>\n",
       "    </tr>\n",
       "    <tr>\n",
       "      <th>1</th>\n",
       "      <td>Beslissing op bezwaar Wob-/Woo-verzoek over in...</td>\n",
       "      <td>2022-12-23</td>\n",
       "      <td>['https://open.overheid.nl/documenten/ronl-7a0...</td>\n",
       "      <td>['14-07-2022', nan, nan]</td>\n",
       "      <td>Ministerie van Infrastructuur en Waterstaat</td>\n",
       "      <td>2022</td>\n",
       "      <td>4e Kwartaal</td>\n",
       "      <td>False</td>\n",
       "      <td>14-07-2022</td>\n",
       "      <td>NaN</td>\n",
       "    </tr>\n",
       "    <tr>\n",
       "      <th>2</th>\n",
       "      <td>Beslissing op bezwaar Wob-/Woo-verzoek over ve...</td>\n",
       "      <td>2023-01-27</td>\n",
       "      <td>['https://open.overheid.nl/documenten/ronl-0ba...</td>\n",
       "      <td>['image', '02-11-2021', '02-11-2021']</td>\n",
       "      <td>Ministerie van Landbouw, Natuur en Voedselkwal...</td>\n",
       "      <td>2023</td>\n",
       "      <td>1e Kwartaal</td>\n",
       "      <td>True</td>\n",
       "      <td>02-11-2021</td>\n",
       "      <td>NaN</td>\n",
       "    </tr>\n",
       "    <tr>\n",
       "      <th>3</th>\n",
       "      <td>Beslissing op bezwaar Wob-besluit Financiën ov...</td>\n",
       "      <td>2022-04-26</td>\n",
       "      <td>['https://open.overheid.nl/documenten/ronl-e3e...</td>\n",
       "      <td>['22-10-2021', nan]</td>\n",
       "      <td>Ministerie van Financiën</td>\n",
       "      <td>2022</td>\n",
       "      <td>2e Kwartaal</td>\n",
       "      <td>False</td>\n",
       "      <td>22-10-2021</td>\n",
       "      <td>NaN</td>\n",
       "    </tr>\n",
       "    <tr>\n",
       "      <th>4</th>\n",
       "      <td>Beslissing op bezwaar Wob-besluit over afstemm...</td>\n",
       "      <td>2023-02-09</td>\n",
       "      <td>['https://open.overheid.nl/documenten/ronl-07e...</td>\n",
       "      <td>[nan, '05-10-2022']</td>\n",
       "      <td>Ministerie van Financiën</td>\n",
       "      <td>2023</td>\n",
       "      <td>1e Kwartaal</td>\n",
       "      <td>False</td>\n",
       "      <td>05-10-2022</td>\n",
       "      <td>NaN</td>\n",
       "    </tr>\n",
       "    <tr>\n",
       "      <th>...</th>\n",
       "      <td>...</td>\n",
       "      <td>...</td>\n",
       "      <td>...</td>\n",
       "      <td>...</td>\n",
       "      <td>...</td>\n",
       "      <td>...</td>\n",
       "      <td>...</td>\n",
       "      <td>...</td>\n",
       "      <td>...</td>\n",
       "      <td>...</td>\n",
       "    </tr>\n",
       "    <tr>\n",
       "      <th>1107</th>\n",
       "      <td>Besluit van 20 juli 2022 op het verzoek inzake...</td>\n",
       "      <td>2022-07-20</td>\n",
       "      <td>['https://open.overheid.nl/documenten/ronl-751...</td>\n",
       "      <td>['image']</td>\n",
       "      <td>Ministerie van Justitie en Veiligheid</td>\n",
       "      <td>2022</td>\n",
       "      <td>3e Kwartaal</td>\n",
       "      <td>True</td>\n",
       "      <td>NaN</td>\n",
       "      <td>22-03-2022</td>\n",
       "    </tr>\n",
       "    <tr>\n",
       "      <th>1108</th>\n",
       "      <td>Woo-verzoek Evaluatiecommissie Tuitjenhorn</td>\n",
       "      <td>2022-06-30</td>\n",
       "      <td>['https://open.overheid.nl/documenten/ronl-370...</td>\n",
       "      <td>['22-10-2021', nan]</td>\n",
       "      <td>Ministerie van Justitie en Veiligheid</td>\n",
       "      <td>2022</td>\n",
       "      <td>2e Kwartaal</td>\n",
       "      <td>False</td>\n",
       "      <td>22-10-2021</td>\n",
       "      <td>NaN</td>\n",
       "    </tr>\n",
       "    <tr>\n",
       "      <th>1109</th>\n",
       "      <td>Woo-verzoek over de identiteit achter anonieme...</td>\n",
       "      <td>2022-08-25</td>\n",
       "      <td>['https://open.overheid.nl/documenten/ronl-2a0...</td>\n",
       "      <td>['02-08-2022']</td>\n",
       "      <td>Ministerie van Landbouw, Natuur en Voedselkwal...</td>\n",
       "      <td>2022</td>\n",
       "      <td>3e Kwartaal</td>\n",
       "      <td>False</td>\n",
       "      <td>02-08-2022</td>\n",
       "      <td>NaN</td>\n",
       "    </tr>\n",
       "    <tr>\n",
       "      <th>1110</th>\n",
       "      <td>Woo-verzoek over landbouwvrijstelling in inkom...</td>\n",
       "      <td>2023-02-27</td>\n",
       "      <td>['https://open.overheid.nl/documenten/ronl-1c0...</td>\n",
       "      <td>[nan, '07-08-2022', nan]</td>\n",
       "      <td>Ministerie van Financiën</td>\n",
       "      <td>2023</td>\n",
       "      <td>1e Kwartaal</td>\n",
       "      <td>False</td>\n",
       "      <td>07-08-2022</td>\n",
       "      <td>NaN</td>\n",
       "    </tr>\n",
       "    <tr>\n",
       "      <th>1111</th>\n",
       "      <td>Woo-verzoek over ongeval met trampoline</td>\n",
       "      <td>2022-08-23</td>\n",
       "      <td>['https://open.overheid.nl/documenten/ronl-41c...</td>\n",
       "      <td>['11-05-2022']</td>\n",
       "      <td>Ministerie van Landbouw, Natuur en Voedselkwal...</td>\n",
       "      <td>2022</td>\n",
       "      <td>3e Kwartaal</td>\n",
       "      <td>False</td>\n",
       "      <td>11-05-2022</td>\n",
       "      <td>NaN</td>\n",
       "    </tr>\n",
       "  </tbody>\n",
       "</table>\n",
       "<p>1112 rows × 10 columns</p>\n",
       "</div>"
      ],
      "text/plain": [
       "                                                Verzoek   docdatums  \\\n",
       "0     Beslissing op bezwaar Wob verzoek corresponden...  2022-09-15   \n",
       "1     Beslissing op bezwaar Wob-/Woo-verzoek over in...  2022-12-23   \n",
       "2     Beslissing op bezwaar Wob-/Woo-verzoek over ve...  2023-01-27   \n",
       "3     Beslissing op bezwaar Wob-besluit Financiën ov...  2022-04-26   \n",
       "4     Beslissing op bezwaar Wob-besluit over afstemm...  2023-02-09   \n",
       "...                                                 ...         ...   \n",
       "1107  Besluit van 20 juli 2022 op het verzoek inzake...  2022-07-20   \n",
       "1108         Woo-verzoek Evaluatiecommissie Tuitjenhorn  2022-06-30   \n",
       "1109  Woo-verzoek over de identiteit achter anonieme...  2022-08-25   \n",
       "1110  Woo-verzoek over landbouwvrijstelling in inkom...  2023-02-27   \n",
       "1111            Woo-verzoek over ongeval met trampoline  2022-08-23   \n",
       "\n",
       "                                                   urls  \\\n",
       "0     ['https://open.overheid.nl/documenten/ronl-34e...   \n",
       "1     ['https://open.overheid.nl/documenten/ronl-7a0...   \n",
       "2     ['https://open.overheid.nl/documenten/ronl-0ba...   \n",
       "3     ['https://open.overheid.nl/documenten/ronl-e3e...   \n",
       "4     ['https://open.overheid.nl/documenten/ronl-07e...   \n",
       "...                                                 ...   \n",
       "1107  ['https://open.overheid.nl/documenten/ronl-751...   \n",
       "1108  ['https://open.overheid.nl/documenten/ronl-370...   \n",
       "1109  ['https://open.overheid.nl/documenten/ronl-2a0...   \n",
       "1110  ['https://open.overheid.nl/documenten/ronl-1c0...   \n",
       "1111  ['https://open.overheid.nl/documenten/ronl-41c...   \n",
       "\n",
       "                                  verdatums  \\\n",
       "0                           [nan, nan, nan]   \n",
       "1                  ['14-07-2022', nan, nan]   \n",
       "2     ['image', '02-11-2021', '02-11-2021']   \n",
       "3                       ['22-10-2021', nan]   \n",
       "4                       [nan, '05-10-2022']   \n",
       "...                                     ...   \n",
       "1107                              ['image']   \n",
       "1108                    ['22-10-2021', nan]   \n",
       "1109                         ['02-08-2022']   \n",
       "1110               [nan, '07-08-2022', nan]   \n",
       "1111                         ['11-05-2022']   \n",
       "\n",
       "                                      verantwoordelijke  jaar     kwartaal  \\\n",
       "0           Ministerie van Infrastructuur en Waterstaat  2022  3e Kwartaal   \n",
       "1           Ministerie van Infrastructuur en Waterstaat  2022  4e Kwartaal   \n",
       "2     Ministerie van Landbouw, Natuur en Voedselkwal...  2023  1e Kwartaal   \n",
       "3                              Ministerie van Financiën  2022  2e Kwartaal   \n",
       "4                              Ministerie van Financiën  2023  1e Kwartaal   \n",
       "...                                                 ...   ...          ...   \n",
       "1107              Ministerie van Justitie en Veiligheid  2022  3e Kwartaal   \n",
       "1108              Ministerie van Justitie en Veiligheid  2022  2e Kwartaal   \n",
       "1109  Ministerie van Landbouw, Natuur en Voedselkwal...  2022  3e Kwartaal   \n",
       "1110                           Ministerie van Financiën  2023  1e Kwartaal   \n",
       "1111  Ministerie van Landbouw, Natuur en Voedselkwal...  2022  3e Kwartaal   \n",
       "\n",
       "      image    verdatum   OCR_datum  \n",
       "0     False         NaN         NaN  \n",
       "1     False  14-07-2022         NaN  \n",
       "2      True  02-11-2021         NaN  \n",
       "3     False  22-10-2021         NaN  \n",
       "4     False  05-10-2022         NaN  \n",
       "...     ...         ...         ...  \n",
       "1107   True         NaN  22-03-2022  \n",
       "1108  False  22-10-2021         NaN  \n",
       "1109  False  02-08-2022         NaN  \n",
       "1110  False  07-08-2022         NaN  \n",
       "1111  False  11-05-2022         NaN  \n",
       "\n",
       "[1112 rows x 10 columns]"
      ]
     },
     "metadata": {},
     "output_type": "display_data"
    }
   ],
   "source": [
    "df_withOCR = pd.read_csv('WithOCR.csv')\n",
    "display(df_withOCR)"
   ]
  },
  {
   "cell_type": "code",
   "execution_count": 183,
   "id": "f369ea35",
   "metadata": {
    "scrolled": true
   },
   "outputs": [],
   "source": [
    "# for i, r in df.iterrows():\n",
    "#     if r.OCR_datum is np.nan and r.verdatum is np.nan:\n",
    "#         for i in r.urls:\n",
    "#             print(i)"
   ]
  },
  {
   "cell_type": "code",
   "execution_count": 184,
   "id": "e57b2ec2",
   "metadata": {},
   "outputs": [
    {
     "name": "stdout",
     "output_type": "stream",
     "text": [
      "{'Ministerie van Sociale Zaken en Werkgelegenheid', 'Ministerie van Financiën', 'Ministerie van Algemene Zaken', 'Ministerie van Defensie', 'Ministerie van Onderwijs, Cultuur en Wetenschap', 'Ministerie van Landbouw, Natuur en Voedselkwaliteit', 'Ministerie van Binnenlandse Zaken en Koninkrijksrelaties', 'Ministerie van Buitenlandse Zaken', 'Ministerie van Justitie en Veiligheid', 'Ministerie van Volksgezondheid, Welzijn en Sport', 'Ministerie van Economische Zaken en Klimaat', 'Ministerie van Infrastructuur en Waterstaat'}\n"
     ]
    }
   ],
   "source": [
    "Verantw = set(df_withOCR.verantwoordelijke.values.tolist())\n",
    "print(Verantw)   "
   ]
  },
  {
   "cell_type": "code",
   "execution_count": 185,
   "id": "4c147821",
   "metadata": {},
   "outputs": [
    {
     "name": "stdout",
     "output_type": "stream",
     "text": [
      "969\n",
      "1112\n",
      "0.8714028776978417\n"
     ]
    }
   ],
   "source": [
    "counter_nn = 0\n",
    "\n",
    "for vera in Verantw:\n",
    "    for i,r in df_withOCR.iterrows():\n",
    "        if r.verantwoordelijke == vera:\n",
    "            dates = [r.OCR_datum, r.verdatum]\n",
    "            non_nan_values = [ele for ele in dates if ele is not np.nan]\n",
    "\n",
    "            if non_nan_values:\n",
    "                counter_nn += 1\n",
    "            \n",
    "print(counter_nn)\n",
    "print(len(df_withOCR))\n",
    "\n",
    "print(counter_nn/len(df_withOCR))"
   ]
  },
  {
   "cell_type": "code",
   "execution_count": 186,
   "id": "834fc1e5",
   "metadata": {},
   "outputs": [
    {
     "data": {
      "text/html": [
       "<div>\n",
       "<style scoped>\n",
       "    .dataframe tbody tr th:only-of-type {\n",
       "        vertical-align: middle;\n",
       "    }\n",
       "\n",
       "    .dataframe tbody tr th {\n",
       "        vertical-align: top;\n",
       "    }\n",
       "\n",
       "    .dataframe thead th {\n",
       "        text-align: right;\n",
       "    }\n",
       "</style>\n",
       "<table border=\"1\" class=\"dataframe\">\n",
       "  <thead>\n",
       "    <tr style=\"text-align: right;\">\n",
       "      <th></th>\n",
       "      <th>Verzoek</th>\n",
       "      <th>doc_counts</th>\n",
       "    </tr>\n",
       "  </thead>\n",
       "  <tbody>\n",
       "    <tr>\n",
       "      <th>0</th>\n",
       "      <td>Beslissing op bezwaar Wob verzoek corresponden...</td>\n",
       "      <td>20</td>\n",
       "    </tr>\n",
       "    <tr>\n",
       "      <th>1</th>\n",
       "      <td>Beslissing op bezwaar Wob-/Woo-verzoek over in...</td>\n",
       "      <td>185</td>\n",
       "    </tr>\n",
       "    <tr>\n",
       "      <th>2</th>\n",
       "      <td>Beslissing op bezwaar Wob-/Woo-verzoek over ve...</td>\n",
       "      <td>79</td>\n",
       "    </tr>\n",
       "    <tr>\n",
       "      <th>3</th>\n",
       "      <td>Beslissing op bezwaar Wob-besluit Financiën ov...</td>\n",
       "      <td>5</td>\n",
       "    </tr>\n",
       "    <tr>\n",
       "      <th>4</th>\n",
       "      <td>Beslissing op bezwaar Wob-besluit over afstemm...</td>\n",
       "      <td>5</td>\n",
       "    </tr>\n",
       "    <tr>\n",
       "      <th>...</th>\n",
       "      <td>...</td>\n",
       "      <td>...</td>\n",
       "    </tr>\n",
       "    <tr>\n",
       "      <th>1107</th>\n",
       "      <td>Besluit van 20 juli 2022 op het verzoek inzake...</td>\n",
       "      <td>69</td>\n",
       "    </tr>\n",
       "    <tr>\n",
       "      <th>1108</th>\n",
       "      <td>Woo-verzoek Evaluatiecommissie Tuitjenhorn</td>\n",
       "      <td>357</td>\n",
       "    </tr>\n",
       "    <tr>\n",
       "      <th>1109</th>\n",
       "      <td>Woo-verzoek over de identiteit achter anonieme...</td>\n",
       "      <td>3</td>\n",
       "    </tr>\n",
       "    <tr>\n",
       "      <th>1110</th>\n",
       "      <td>Woo-verzoek over landbouwvrijstelling in inkom...</td>\n",
       "      <td>15</td>\n",
       "    </tr>\n",
       "    <tr>\n",
       "      <th>1111</th>\n",
       "      <td>Woo-verzoek over ongeval met trampoline</td>\n",
       "      <td>9</td>\n",
       "    </tr>\n",
       "  </tbody>\n",
       "</table>\n",
       "<p>1112 rows × 2 columns</p>\n",
       "</div>"
      ],
      "text/plain": [
       "                                                Verzoek  doc_counts\n",
       "0     Beslissing op bezwaar Wob verzoek corresponden...          20\n",
       "1     Beslissing op bezwaar Wob-/Woo-verzoek over in...         185\n",
       "2     Beslissing op bezwaar Wob-/Woo-verzoek over ve...          79\n",
       "3     Beslissing op bezwaar Wob-besluit Financiën ov...           5\n",
       "4     Beslissing op bezwaar Wob-besluit over afstemm...           5\n",
       "...                                                 ...         ...\n",
       "1107  Besluit van 20 juli 2022 op het verzoek inzake...          69\n",
       "1108         Woo-verzoek Evaluatiecommissie Tuitjenhorn         357\n",
       "1109  Woo-verzoek over de identiteit achter anonieme...           3\n",
       "1110  Woo-verzoek over landbouwvrijstelling in inkom...          15\n",
       "1111            Woo-verzoek over ongeval met trampoline           9\n",
       "\n",
       "[1112 rows x 2 columns]"
      ]
     },
     "metadata": {},
     "output_type": "display_data"
    }
   ],
   "source": [
    "display(df_document_len)"
   ]
  },
  {
   "cell_type": "code",
   "execution_count": 187,
   "id": "ba722d12",
   "metadata": {},
   "outputs": [],
   "source": [
    "df_withOCR['Doc_Length'] = df_document_len['doc_counts']"
   ]
  },
  {
   "cell_type": "code",
   "execution_count": 188,
   "id": "0a4ffbd7",
   "metadata": {},
   "outputs": [
    {
     "data": {
      "text/html": [
       "<div>\n",
       "<style scoped>\n",
       "    .dataframe tbody tr th:only-of-type {\n",
       "        vertical-align: middle;\n",
       "    }\n",
       "\n",
       "    .dataframe tbody tr th {\n",
       "        vertical-align: top;\n",
       "    }\n",
       "\n",
       "    .dataframe thead th {\n",
       "        text-align: right;\n",
       "    }\n",
       "</style>\n",
       "<table border=\"1\" class=\"dataframe\">\n",
       "  <thead>\n",
       "    <tr style=\"text-align: right;\">\n",
       "      <th></th>\n",
       "      <th>Verzoek</th>\n",
       "      <th>docdatums</th>\n",
       "      <th>urls</th>\n",
       "      <th>verdatums</th>\n",
       "      <th>verantwoordelijke</th>\n",
       "      <th>jaar</th>\n",
       "      <th>kwartaal</th>\n",
       "      <th>image</th>\n",
       "      <th>verdatum</th>\n",
       "      <th>OCR_datum</th>\n",
       "      <th>Doc_Length</th>\n",
       "    </tr>\n",
       "  </thead>\n",
       "  <tbody>\n",
       "    <tr>\n",
       "      <th>0</th>\n",
       "      <td>Beslissing op bezwaar Wob verzoek corresponden...</td>\n",
       "      <td>2022-09-15</td>\n",
       "      <td>['https://open.overheid.nl/documenten/ronl-34e...</td>\n",
       "      <td>[nan, nan, nan]</td>\n",
       "      <td>Ministerie van Infrastructuur en Waterstaat</td>\n",
       "      <td>2022</td>\n",
       "      <td>3e Kwartaal</td>\n",
       "      <td>False</td>\n",
       "      <td>NaN</td>\n",
       "      <td>NaN</td>\n",
       "      <td>20</td>\n",
       "    </tr>\n",
       "    <tr>\n",
       "      <th>1</th>\n",
       "      <td>Beslissing op bezwaar Wob-/Woo-verzoek over in...</td>\n",
       "      <td>2022-12-23</td>\n",
       "      <td>['https://open.overheid.nl/documenten/ronl-7a0...</td>\n",
       "      <td>['14-07-2022', nan, nan]</td>\n",
       "      <td>Ministerie van Infrastructuur en Waterstaat</td>\n",
       "      <td>2022</td>\n",
       "      <td>4e Kwartaal</td>\n",
       "      <td>False</td>\n",
       "      <td>14-07-2022</td>\n",
       "      <td>NaN</td>\n",
       "      <td>185</td>\n",
       "    </tr>\n",
       "    <tr>\n",
       "      <th>2</th>\n",
       "      <td>Beslissing op bezwaar Wob-/Woo-verzoek over ve...</td>\n",
       "      <td>2023-01-27</td>\n",
       "      <td>['https://open.overheid.nl/documenten/ronl-0ba...</td>\n",
       "      <td>['image', '02-11-2021', '02-11-2021']</td>\n",
       "      <td>Ministerie van Landbouw, Natuur en Voedselkwal...</td>\n",
       "      <td>2023</td>\n",
       "      <td>1e Kwartaal</td>\n",
       "      <td>True</td>\n",
       "      <td>02-11-2021</td>\n",
       "      <td>NaN</td>\n",
       "      <td>79</td>\n",
       "    </tr>\n",
       "    <tr>\n",
       "      <th>3</th>\n",
       "      <td>Beslissing op bezwaar Wob-besluit Financiën ov...</td>\n",
       "      <td>2022-04-26</td>\n",
       "      <td>['https://open.overheid.nl/documenten/ronl-e3e...</td>\n",
       "      <td>['22-10-2021', nan]</td>\n",
       "      <td>Ministerie van Financiën</td>\n",
       "      <td>2022</td>\n",
       "      <td>2e Kwartaal</td>\n",
       "      <td>False</td>\n",
       "      <td>22-10-2021</td>\n",
       "      <td>NaN</td>\n",
       "      <td>5</td>\n",
       "    </tr>\n",
       "    <tr>\n",
       "      <th>4</th>\n",
       "      <td>Beslissing op bezwaar Wob-besluit over afstemm...</td>\n",
       "      <td>2023-02-09</td>\n",
       "      <td>['https://open.overheid.nl/documenten/ronl-07e...</td>\n",
       "      <td>[nan, '05-10-2022']</td>\n",
       "      <td>Ministerie van Financiën</td>\n",
       "      <td>2023</td>\n",
       "      <td>1e Kwartaal</td>\n",
       "      <td>False</td>\n",
       "      <td>05-10-2022</td>\n",
       "      <td>NaN</td>\n",
       "      <td>5</td>\n",
       "    </tr>\n",
       "    <tr>\n",
       "      <th>...</th>\n",
       "      <td>...</td>\n",
       "      <td>...</td>\n",
       "      <td>...</td>\n",
       "      <td>...</td>\n",
       "      <td>...</td>\n",
       "      <td>...</td>\n",
       "      <td>...</td>\n",
       "      <td>...</td>\n",
       "      <td>...</td>\n",
       "      <td>...</td>\n",
       "      <td>...</td>\n",
       "    </tr>\n",
       "    <tr>\n",
       "      <th>1107</th>\n",
       "      <td>Besluit van 20 juli 2022 op het verzoek inzake...</td>\n",
       "      <td>2022-07-20</td>\n",
       "      <td>['https://open.overheid.nl/documenten/ronl-751...</td>\n",
       "      <td>['image']</td>\n",
       "      <td>Ministerie van Justitie en Veiligheid</td>\n",
       "      <td>2022</td>\n",
       "      <td>3e Kwartaal</td>\n",
       "      <td>True</td>\n",
       "      <td>NaN</td>\n",
       "      <td>22-03-2022</td>\n",
       "      <td>69</td>\n",
       "    </tr>\n",
       "    <tr>\n",
       "      <th>1108</th>\n",
       "      <td>Woo-verzoek Evaluatiecommissie Tuitjenhorn</td>\n",
       "      <td>2022-06-30</td>\n",
       "      <td>['https://open.overheid.nl/documenten/ronl-370...</td>\n",
       "      <td>['22-10-2021', nan]</td>\n",
       "      <td>Ministerie van Justitie en Veiligheid</td>\n",
       "      <td>2022</td>\n",
       "      <td>2e Kwartaal</td>\n",
       "      <td>False</td>\n",
       "      <td>22-10-2021</td>\n",
       "      <td>NaN</td>\n",
       "      <td>357</td>\n",
       "    </tr>\n",
       "    <tr>\n",
       "      <th>1109</th>\n",
       "      <td>Woo-verzoek over de identiteit achter anonieme...</td>\n",
       "      <td>2022-08-25</td>\n",
       "      <td>['https://open.overheid.nl/documenten/ronl-2a0...</td>\n",
       "      <td>['02-08-2022']</td>\n",
       "      <td>Ministerie van Landbouw, Natuur en Voedselkwal...</td>\n",
       "      <td>2022</td>\n",
       "      <td>3e Kwartaal</td>\n",
       "      <td>False</td>\n",
       "      <td>02-08-2022</td>\n",
       "      <td>NaN</td>\n",
       "      <td>3</td>\n",
       "    </tr>\n",
       "    <tr>\n",
       "      <th>1110</th>\n",
       "      <td>Woo-verzoek over landbouwvrijstelling in inkom...</td>\n",
       "      <td>2023-02-27</td>\n",
       "      <td>['https://open.overheid.nl/documenten/ronl-1c0...</td>\n",
       "      <td>[nan, '07-08-2022', nan]</td>\n",
       "      <td>Ministerie van Financiën</td>\n",
       "      <td>2023</td>\n",
       "      <td>1e Kwartaal</td>\n",
       "      <td>False</td>\n",
       "      <td>07-08-2022</td>\n",
       "      <td>NaN</td>\n",
       "      <td>15</td>\n",
       "    </tr>\n",
       "    <tr>\n",
       "      <th>1111</th>\n",
       "      <td>Woo-verzoek over ongeval met trampoline</td>\n",
       "      <td>2022-08-23</td>\n",
       "      <td>['https://open.overheid.nl/documenten/ronl-41c...</td>\n",
       "      <td>['11-05-2022']</td>\n",
       "      <td>Ministerie van Landbouw, Natuur en Voedselkwal...</td>\n",
       "      <td>2022</td>\n",
       "      <td>3e Kwartaal</td>\n",
       "      <td>False</td>\n",
       "      <td>11-05-2022</td>\n",
       "      <td>NaN</td>\n",
       "      <td>9</td>\n",
       "    </tr>\n",
       "  </tbody>\n",
       "</table>\n",
       "<p>1112 rows × 11 columns</p>\n",
       "</div>"
      ],
      "text/plain": [
       "                                                Verzoek   docdatums  \\\n",
       "0     Beslissing op bezwaar Wob verzoek corresponden...  2022-09-15   \n",
       "1     Beslissing op bezwaar Wob-/Woo-verzoek over in...  2022-12-23   \n",
       "2     Beslissing op bezwaar Wob-/Woo-verzoek over ve...  2023-01-27   \n",
       "3     Beslissing op bezwaar Wob-besluit Financiën ov...  2022-04-26   \n",
       "4     Beslissing op bezwaar Wob-besluit over afstemm...  2023-02-09   \n",
       "...                                                 ...         ...   \n",
       "1107  Besluit van 20 juli 2022 op het verzoek inzake...  2022-07-20   \n",
       "1108         Woo-verzoek Evaluatiecommissie Tuitjenhorn  2022-06-30   \n",
       "1109  Woo-verzoek over de identiteit achter anonieme...  2022-08-25   \n",
       "1110  Woo-verzoek over landbouwvrijstelling in inkom...  2023-02-27   \n",
       "1111            Woo-verzoek over ongeval met trampoline  2022-08-23   \n",
       "\n",
       "                                                   urls  \\\n",
       "0     ['https://open.overheid.nl/documenten/ronl-34e...   \n",
       "1     ['https://open.overheid.nl/documenten/ronl-7a0...   \n",
       "2     ['https://open.overheid.nl/documenten/ronl-0ba...   \n",
       "3     ['https://open.overheid.nl/documenten/ronl-e3e...   \n",
       "4     ['https://open.overheid.nl/documenten/ronl-07e...   \n",
       "...                                                 ...   \n",
       "1107  ['https://open.overheid.nl/documenten/ronl-751...   \n",
       "1108  ['https://open.overheid.nl/documenten/ronl-370...   \n",
       "1109  ['https://open.overheid.nl/documenten/ronl-2a0...   \n",
       "1110  ['https://open.overheid.nl/documenten/ronl-1c0...   \n",
       "1111  ['https://open.overheid.nl/documenten/ronl-41c...   \n",
       "\n",
       "                                  verdatums  \\\n",
       "0                           [nan, nan, nan]   \n",
       "1                  ['14-07-2022', nan, nan]   \n",
       "2     ['image', '02-11-2021', '02-11-2021']   \n",
       "3                       ['22-10-2021', nan]   \n",
       "4                       [nan, '05-10-2022']   \n",
       "...                                     ...   \n",
       "1107                              ['image']   \n",
       "1108                    ['22-10-2021', nan]   \n",
       "1109                         ['02-08-2022']   \n",
       "1110               [nan, '07-08-2022', nan]   \n",
       "1111                         ['11-05-2022']   \n",
       "\n",
       "                                      verantwoordelijke  jaar     kwartaal  \\\n",
       "0           Ministerie van Infrastructuur en Waterstaat  2022  3e Kwartaal   \n",
       "1           Ministerie van Infrastructuur en Waterstaat  2022  4e Kwartaal   \n",
       "2     Ministerie van Landbouw, Natuur en Voedselkwal...  2023  1e Kwartaal   \n",
       "3                              Ministerie van Financiën  2022  2e Kwartaal   \n",
       "4                              Ministerie van Financiën  2023  1e Kwartaal   \n",
       "...                                                 ...   ...          ...   \n",
       "1107              Ministerie van Justitie en Veiligheid  2022  3e Kwartaal   \n",
       "1108              Ministerie van Justitie en Veiligheid  2022  2e Kwartaal   \n",
       "1109  Ministerie van Landbouw, Natuur en Voedselkwal...  2022  3e Kwartaal   \n",
       "1110                           Ministerie van Financiën  2023  1e Kwartaal   \n",
       "1111  Ministerie van Landbouw, Natuur en Voedselkwal...  2022  3e Kwartaal   \n",
       "\n",
       "      image    verdatum   OCR_datum  Doc_Length  \n",
       "0     False         NaN         NaN          20  \n",
       "1     False  14-07-2022         NaN         185  \n",
       "2      True  02-11-2021         NaN          79  \n",
       "3     False  22-10-2021         NaN           5  \n",
       "4     False  05-10-2022         NaN           5  \n",
       "...     ...         ...         ...         ...  \n",
       "1107   True         NaN  22-03-2022          69  \n",
       "1108  False  22-10-2021         NaN         357  \n",
       "1109  False  02-08-2022         NaN           3  \n",
       "1110  False  07-08-2022         NaN          15  \n",
       "1111  False  11-05-2022         NaN           9  \n",
       "\n",
       "[1112 rows x 11 columns]"
      ]
     },
     "metadata": {},
     "output_type": "display_data"
    }
   ],
   "source": [
    "display(df_withOCR)"
   ]
  },
  {
   "cell_type": "code",
   "execution_count": 189,
   "id": "3e70f063",
   "metadata": {},
   "outputs": [
    {
     "data": {
      "text/html": [
       "<div>\n",
       "<style scoped>\n",
       "    .dataframe tbody tr th:only-of-type {\n",
       "        vertical-align: middle;\n",
       "    }\n",
       "\n",
       "    .dataframe tbody tr th {\n",
       "        vertical-align: top;\n",
       "    }\n",
       "\n",
       "    .dataframe thead th {\n",
       "        text-align: right;\n",
       "    }\n",
       "</style>\n",
       "<table border=\"1\" class=\"dataframe\">\n",
       "  <thead>\n",
       "    <tr style=\"text-align: right;\">\n",
       "      <th></th>\n",
       "      <th>Verzoek</th>\n",
       "      <th>docdatums</th>\n",
       "      <th>urls</th>\n",
       "      <th>verdatums</th>\n",
       "      <th>verantwoordelijke</th>\n",
       "      <th>jaar</th>\n",
       "      <th>kwartaal</th>\n",
       "      <th>image</th>\n",
       "      <th>verdatum</th>\n",
       "      <th>OCR_datum</th>\n",
       "      <th>Doc_Length</th>\n",
       "      <th>final_date</th>\n",
       "    </tr>\n",
       "  </thead>\n",
       "  <tbody>\n",
       "    <tr>\n",
       "      <th>0</th>\n",
       "      <td>Beslissing op bezwaar Wob verzoek corresponden...</td>\n",
       "      <td>2022-09-15</td>\n",
       "      <td>['https://open.overheid.nl/documenten/ronl-34e...</td>\n",
       "      <td>[nan, nan, nan]</td>\n",
       "      <td>Ministerie van Infrastructuur en Waterstaat</td>\n",
       "      <td>2022</td>\n",
       "      <td>3e Kwartaal</td>\n",
       "      <td>False</td>\n",
       "      <td>NaN</td>\n",
       "      <td>NaN</td>\n",
       "      <td>20</td>\n",
       "      <td>NaN</td>\n",
       "    </tr>\n",
       "    <tr>\n",
       "      <th>1</th>\n",
       "      <td>Beslissing op bezwaar Wob-/Woo-verzoek over in...</td>\n",
       "      <td>2022-12-23</td>\n",
       "      <td>['https://open.overheid.nl/documenten/ronl-7a0...</td>\n",
       "      <td>['14-07-2022', nan, nan]</td>\n",
       "      <td>Ministerie van Infrastructuur en Waterstaat</td>\n",
       "      <td>2022</td>\n",
       "      <td>4e Kwartaal</td>\n",
       "      <td>False</td>\n",
       "      <td>14-07-2022</td>\n",
       "      <td>NaN</td>\n",
       "      <td>185</td>\n",
       "      <td>14-07-2022</td>\n",
       "    </tr>\n",
       "    <tr>\n",
       "      <th>2</th>\n",
       "      <td>Beslissing op bezwaar Wob-/Woo-verzoek over ve...</td>\n",
       "      <td>2023-01-27</td>\n",
       "      <td>['https://open.overheid.nl/documenten/ronl-0ba...</td>\n",
       "      <td>['image', '02-11-2021', '02-11-2021']</td>\n",
       "      <td>Ministerie van Landbouw, Natuur en Voedselkwal...</td>\n",
       "      <td>2023</td>\n",
       "      <td>1e Kwartaal</td>\n",
       "      <td>True</td>\n",
       "      <td>02-11-2021</td>\n",
       "      <td>NaN</td>\n",
       "      <td>79</td>\n",
       "      <td>02-11-2021</td>\n",
       "    </tr>\n",
       "    <tr>\n",
       "      <th>3</th>\n",
       "      <td>Beslissing op bezwaar Wob-besluit Financiën ov...</td>\n",
       "      <td>2022-04-26</td>\n",
       "      <td>['https://open.overheid.nl/documenten/ronl-e3e...</td>\n",
       "      <td>['22-10-2021', nan]</td>\n",
       "      <td>Ministerie van Financiën</td>\n",
       "      <td>2022</td>\n",
       "      <td>2e Kwartaal</td>\n",
       "      <td>False</td>\n",
       "      <td>22-10-2021</td>\n",
       "      <td>NaN</td>\n",
       "      <td>5</td>\n",
       "      <td>22-10-2021</td>\n",
       "    </tr>\n",
       "    <tr>\n",
       "      <th>4</th>\n",
       "      <td>Beslissing op bezwaar Wob-besluit over afstemm...</td>\n",
       "      <td>2023-02-09</td>\n",
       "      <td>['https://open.overheid.nl/documenten/ronl-07e...</td>\n",
       "      <td>[nan, '05-10-2022']</td>\n",
       "      <td>Ministerie van Financiën</td>\n",
       "      <td>2023</td>\n",
       "      <td>1e Kwartaal</td>\n",
       "      <td>False</td>\n",
       "      <td>05-10-2022</td>\n",
       "      <td>NaN</td>\n",
       "      <td>5</td>\n",
       "      <td>05-10-2022</td>\n",
       "    </tr>\n",
       "    <tr>\n",
       "      <th>...</th>\n",
       "      <td>...</td>\n",
       "      <td>...</td>\n",
       "      <td>...</td>\n",
       "      <td>...</td>\n",
       "      <td>...</td>\n",
       "      <td>...</td>\n",
       "      <td>...</td>\n",
       "      <td>...</td>\n",
       "      <td>...</td>\n",
       "      <td>...</td>\n",
       "      <td>...</td>\n",
       "      <td>...</td>\n",
       "    </tr>\n",
       "    <tr>\n",
       "      <th>1107</th>\n",
       "      <td>Besluit van 20 juli 2022 op het verzoek inzake...</td>\n",
       "      <td>2022-07-20</td>\n",
       "      <td>['https://open.overheid.nl/documenten/ronl-751...</td>\n",
       "      <td>['image']</td>\n",
       "      <td>Ministerie van Justitie en Veiligheid</td>\n",
       "      <td>2022</td>\n",
       "      <td>3e Kwartaal</td>\n",
       "      <td>True</td>\n",
       "      <td>NaN</td>\n",
       "      <td>22-03-2022</td>\n",
       "      <td>69</td>\n",
       "      <td>22-03-2022</td>\n",
       "    </tr>\n",
       "    <tr>\n",
       "      <th>1108</th>\n",
       "      <td>Woo-verzoek Evaluatiecommissie Tuitjenhorn</td>\n",
       "      <td>2022-06-30</td>\n",
       "      <td>['https://open.overheid.nl/documenten/ronl-370...</td>\n",
       "      <td>['22-10-2021', nan]</td>\n",
       "      <td>Ministerie van Justitie en Veiligheid</td>\n",
       "      <td>2022</td>\n",
       "      <td>2e Kwartaal</td>\n",
       "      <td>False</td>\n",
       "      <td>22-10-2021</td>\n",
       "      <td>NaN</td>\n",
       "      <td>357</td>\n",
       "      <td>22-10-2021</td>\n",
       "    </tr>\n",
       "    <tr>\n",
       "      <th>1109</th>\n",
       "      <td>Woo-verzoek over de identiteit achter anonieme...</td>\n",
       "      <td>2022-08-25</td>\n",
       "      <td>['https://open.overheid.nl/documenten/ronl-2a0...</td>\n",
       "      <td>['02-08-2022']</td>\n",
       "      <td>Ministerie van Landbouw, Natuur en Voedselkwal...</td>\n",
       "      <td>2022</td>\n",
       "      <td>3e Kwartaal</td>\n",
       "      <td>False</td>\n",
       "      <td>02-08-2022</td>\n",
       "      <td>NaN</td>\n",
       "      <td>3</td>\n",
       "      <td>02-08-2022</td>\n",
       "    </tr>\n",
       "    <tr>\n",
       "      <th>1110</th>\n",
       "      <td>Woo-verzoek over landbouwvrijstelling in inkom...</td>\n",
       "      <td>2023-02-27</td>\n",
       "      <td>['https://open.overheid.nl/documenten/ronl-1c0...</td>\n",
       "      <td>[nan, '07-08-2022', nan]</td>\n",
       "      <td>Ministerie van Financiën</td>\n",
       "      <td>2023</td>\n",
       "      <td>1e Kwartaal</td>\n",
       "      <td>False</td>\n",
       "      <td>07-08-2022</td>\n",
       "      <td>NaN</td>\n",
       "      <td>15</td>\n",
       "      <td>07-08-2022</td>\n",
       "    </tr>\n",
       "    <tr>\n",
       "      <th>1111</th>\n",
       "      <td>Woo-verzoek over ongeval met trampoline</td>\n",
       "      <td>2022-08-23</td>\n",
       "      <td>['https://open.overheid.nl/documenten/ronl-41c...</td>\n",
       "      <td>['11-05-2022']</td>\n",
       "      <td>Ministerie van Landbouw, Natuur en Voedselkwal...</td>\n",
       "      <td>2022</td>\n",
       "      <td>3e Kwartaal</td>\n",
       "      <td>False</td>\n",
       "      <td>11-05-2022</td>\n",
       "      <td>NaN</td>\n",
       "      <td>9</td>\n",
       "      <td>11-05-2022</td>\n",
       "    </tr>\n",
       "  </tbody>\n",
       "</table>\n",
       "<p>1112 rows × 12 columns</p>\n",
       "</div>"
      ],
      "text/plain": [
       "                                                Verzoek   docdatums  \\\n",
       "0     Beslissing op bezwaar Wob verzoek corresponden...  2022-09-15   \n",
       "1     Beslissing op bezwaar Wob-/Woo-verzoek over in...  2022-12-23   \n",
       "2     Beslissing op bezwaar Wob-/Woo-verzoek over ve...  2023-01-27   \n",
       "3     Beslissing op bezwaar Wob-besluit Financiën ov...  2022-04-26   \n",
       "4     Beslissing op bezwaar Wob-besluit over afstemm...  2023-02-09   \n",
       "...                                                 ...         ...   \n",
       "1107  Besluit van 20 juli 2022 op het verzoek inzake...  2022-07-20   \n",
       "1108         Woo-verzoek Evaluatiecommissie Tuitjenhorn  2022-06-30   \n",
       "1109  Woo-verzoek over de identiteit achter anonieme...  2022-08-25   \n",
       "1110  Woo-verzoek over landbouwvrijstelling in inkom...  2023-02-27   \n",
       "1111            Woo-verzoek over ongeval met trampoline  2022-08-23   \n",
       "\n",
       "                                                   urls  \\\n",
       "0     ['https://open.overheid.nl/documenten/ronl-34e...   \n",
       "1     ['https://open.overheid.nl/documenten/ronl-7a0...   \n",
       "2     ['https://open.overheid.nl/documenten/ronl-0ba...   \n",
       "3     ['https://open.overheid.nl/documenten/ronl-e3e...   \n",
       "4     ['https://open.overheid.nl/documenten/ronl-07e...   \n",
       "...                                                 ...   \n",
       "1107  ['https://open.overheid.nl/documenten/ronl-751...   \n",
       "1108  ['https://open.overheid.nl/documenten/ronl-370...   \n",
       "1109  ['https://open.overheid.nl/documenten/ronl-2a0...   \n",
       "1110  ['https://open.overheid.nl/documenten/ronl-1c0...   \n",
       "1111  ['https://open.overheid.nl/documenten/ronl-41c...   \n",
       "\n",
       "                                  verdatums  \\\n",
       "0                           [nan, nan, nan]   \n",
       "1                  ['14-07-2022', nan, nan]   \n",
       "2     ['image', '02-11-2021', '02-11-2021']   \n",
       "3                       ['22-10-2021', nan]   \n",
       "4                       [nan, '05-10-2022']   \n",
       "...                                     ...   \n",
       "1107                              ['image']   \n",
       "1108                    ['22-10-2021', nan]   \n",
       "1109                         ['02-08-2022']   \n",
       "1110               [nan, '07-08-2022', nan]   \n",
       "1111                         ['11-05-2022']   \n",
       "\n",
       "                                      verantwoordelijke  jaar     kwartaal  \\\n",
       "0           Ministerie van Infrastructuur en Waterstaat  2022  3e Kwartaal   \n",
       "1           Ministerie van Infrastructuur en Waterstaat  2022  4e Kwartaal   \n",
       "2     Ministerie van Landbouw, Natuur en Voedselkwal...  2023  1e Kwartaal   \n",
       "3                              Ministerie van Financiën  2022  2e Kwartaal   \n",
       "4                              Ministerie van Financiën  2023  1e Kwartaal   \n",
       "...                                                 ...   ...          ...   \n",
       "1107              Ministerie van Justitie en Veiligheid  2022  3e Kwartaal   \n",
       "1108              Ministerie van Justitie en Veiligheid  2022  2e Kwartaal   \n",
       "1109  Ministerie van Landbouw, Natuur en Voedselkwal...  2022  3e Kwartaal   \n",
       "1110                           Ministerie van Financiën  2023  1e Kwartaal   \n",
       "1111  Ministerie van Landbouw, Natuur en Voedselkwal...  2022  3e Kwartaal   \n",
       "\n",
       "      image    verdatum   OCR_datum  Doc_Length  final_date  \n",
       "0     False         NaN         NaN          20         NaN  \n",
       "1     False  14-07-2022         NaN         185  14-07-2022  \n",
       "2      True  02-11-2021         NaN          79  02-11-2021  \n",
       "3     False  22-10-2021         NaN           5  22-10-2021  \n",
       "4     False  05-10-2022         NaN           5  05-10-2022  \n",
       "...     ...         ...         ...         ...         ...  \n",
       "1107   True         NaN  22-03-2022          69  22-03-2022  \n",
       "1108  False  22-10-2021         NaN         357  22-10-2021  \n",
       "1109  False  02-08-2022         NaN           3  02-08-2022  \n",
       "1110  False  07-08-2022         NaN          15  07-08-2022  \n",
       "1111  False  11-05-2022         NaN           9  11-05-2022  \n",
       "\n",
       "[1112 rows x 12 columns]"
      ]
     },
     "metadata": {},
     "output_type": "display_data"
    }
   ],
   "source": [
    "final = []\n",
    "\n",
    "for i,r in df_withOCR.iterrows():\n",
    "    if r.OCR_datum is np.nan and r.verdatum is not np.nan:\n",
    "        if r.verdatum[-4:] == '2005':\n",
    "            final.append('21-01-2021')\n",
    "        else:\n",
    "            final.append(r.verdatum)\n",
    "    elif r.OCR_datum is not np.nan and r.verdatum is np.nan:\n",
    "        final.append(r.OCR_datum)\n",
    "    else:\n",
    "        final.append(np.nan)\n",
    "    \n",
    "df_withOCR['final_date'] = final\n",
    "\n",
    "display(df_withOCR)"
   ]
  },
  {
   "cell_type": "code",
   "execution_count": 190,
   "id": "a60f76f0",
   "metadata": {},
   "outputs": [],
   "source": [
    "FINAL_withOCR = df_withOCR.copy()"
   ]
  },
  {
   "cell_type": "code",
   "execution_count": 233,
   "id": "a220b477",
   "metadata": {},
   "outputs": [
    {
     "data": {
      "text/html": [
       "<div>\n",
       "<style scoped>\n",
       "    .dataframe tbody tr th:only-of-type {\n",
       "        vertical-align: middle;\n",
       "    }\n",
       "\n",
       "    .dataframe tbody tr th {\n",
       "        vertical-align: top;\n",
       "    }\n",
       "\n",
       "    .dataframe thead th {\n",
       "        text-align: right;\n",
       "    }\n",
       "</style>\n",
       "<table border=\"1\" class=\"dataframe\">\n",
       "  <thead>\n",
       "    <tr style=\"text-align: right;\">\n",
       "      <th></th>\n",
       "      <th>Verzoek</th>\n",
       "      <th>docdatums</th>\n",
       "      <th>urls</th>\n",
       "      <th>verdatums</th>\n",
       "      <th>verantwoordelijke</th>\n",
       "      <th>jaar</th>\n",
       "      <th>kwartaal</th>\n",
       "      <th>image</th>\n",
       "      <th>verdatum</th>\n",
       "      <th>OCR_datum</th>\n",
       "      <th>Doc_Length</th>\n",
       "      <th>final_date</th>\n",
       "      <th>dagen</th>\n",
       "    </tr>\n",
       "  </thead>\n",
       "  <tbody>\n",
       "    <tr>\n",
       "      <th>0</th>\n",
       "      <td>Beslissing op bezwaar Wob verzoek corresponden...</td>\n",
       "      <td>2022-09-15</td>\n",
       "      <td>['https://open.overheid.nl/documenten/ronl-34e...</td>\n",
       "      <td>[nan, nan, nan]</td>\n",
       "      <td>Ministerie van Infrastructuur en Waterstaat</td>\n",
       "      <td>2022</td>\n",
       "      <td>3e Kwartaal</td>\n",
       "      <td>False</td>\n",
       "      <td>NaN</td>\n",
       "      <td>NaN</td>\n",
       "      <td>20</td>\n",
       "      <td>NaT</td>\n",
       "      <td>NaN</td>\n",
       "    </tr>\n",
       "    <tr>\n",
       "      <th>1</th>\n",
       "      <td>Beslissing op bezwaar Wob-/Woo-verzoek over in...</td>\n",
       "      <td>2022-12-23</td>\n",
       "      <td>['https://open.overheid.nl/documenten/ronl-7a0...</td>\n",
       "      <td>['14-07-2022', nan, nan]</td>\n",
       "      <td>Ministerie van Infrastructuur en Waterstaat</td>\n",
       "      <td>2022</td>\n",
       "      <td>4e Kwartaal</td>\n",
       "      <td>False</td>\n",
       "      <td>14-07-2022</td>\n",
       "      <td>NaN</td>\n",
       "      <td>185</td>\n",
       "      <td>2022-07-14</td>\n",
       "      <td>162.0</td>\n",
       "    </tr>\n",
       "    <tr>\n",
       "      <th>2</th>\n",
       "      <td>Beslissing op bezwaar Wob-/Woo-verzoek over ve...</td>\n",
       "      <td>2023-01-27</td>\n",
       "      <td>['https://open.overheid.nl/documenten/ronl-0ba...</td>\n",
       "      <td>['image', '02-11-2021', '02-11-2021']</td>\n",
       "      <td>Ministerie van Landbouw, Natuur en Voedselkwal...</td>\n",
       "      <td>2023</td>\n",
       "      <td>1e Kwartaal</td>\n",
       "      <td>True</td>\n",
       "      <td>02-11-2021</td>\n",
       "      <td>NaN</td>\n",
       "      <td>79</td>\n",
       "      <td>2021-11-02</td>\n",
       "      <td>451.0</td>\n",
       "    </tr>\n",
       "    <tr>\n",
       "      <th>3</th>\n",
       "      <td>Beslissing op bezwaar Wob-besluit Financiën ov...</td>\n",
       "      <td>2022-04-26</td>\n",
       "      <td>['https://open.overheid.nl/documenten/ronl-e3e...</td>\n",
       "      <td>['22-10-2021', nan]</td>\n",
       "      <td>Ministerie van Financiën</td>\n",
       "      <td>2022</td>\n",
       "      <td>2e Kwartaal</td>\n",
       "      <td>False</td>\n",
       "      <td>22-10-2021</td>\n",
       "      <td>NaN</td>\n",
       "      <td>5</td>\n",
       "      <td>2021-10-22</td>\n",
       "      <td>186.0</td>\n",
       "    </tr>\n",
       "    <tr>\n",
       "      <th>4</th>\n",
       "      <td>Beslissing op bezwaar Wob-besluit over afstemm...</td>\n",
       "      <td>2023-02-09</td>\n",
       "      <td>['https://open.overheid.nl/documenten/ronl-07e...</td>\n",
       "      <td>[nan, '05-10-2022']</td>\n",
       "      <td>Ministerie van Financiën</td>\n",
       "      <td>2023</td>\n",
       "      <td>1e Kwartaal</td>\n",
       "      <td>False</td>\n",
       "      <td>05-10-2022</td>\n",
       "      <td>NaN</td>\n",
       "      <td>5</td>\n",
       "      <td>2022-10-05</td>\n",
       "      <td>127.0</td>\n",
       "    </tr>\n",
       "    <tr>\n",
       "      <th>...</th>\n",
       "      <td>...</td>\n",
       "      <td>...</td>\n",
       "      <td>...</td>\n",
       "      <td>...</td>\n",
       "      <td>...</td>\n",
       "      <td>...</td>\n",
       "      <td>...</td>\n",
       "      <td>...</td>\n",
       "      <td>...</td>\n",
       "      <td>...</td>\n",
       "      <td>...</td>\n",
       "      <td>...</td>\n",
       "      <td>...</td>\n",
       "    </tr>\n",
       "    <tr>\n",
       "      <th>1107</th>\n",
       "      <td>Besluit van 20 juli 2022 op het verzoek inzake...</td>\n",
       "      <td>2022-07-20</td>\n",
       "      <td>['https://open.overheid.nl/documenten/ronl-751...</td>\n",
       "      <td>['image']</td>\n",
       "      <td>Ministerie van Justitie en Veiligheid</td>\n",
       "      <td>2022</td>\n",
       "      <td>3e Kwartaal</td>\n",
       "      <td>True</td>\n",
       "      <td>NaN</td>\n",
       "      <td>22-03-2022</td>\n",
       "      <td>69</td>\n",
       "      <td>2022-03-22</td>\n",
       "      <td>120.0</td>\n",
       "    </tr>\n",
       "    <tr>\n",
       "      <th>1108</th>\n",
       "      <td>Woo-verzoek Evaluatiecommissie Tuitjenhorn</td>\n",
       "      <td>2022-06-30</td>\n",
       "      <td>['https://open.overheid.nl/documenten/ronl-370...</td>\n",
       "      <td>['22-10-2021', nan]</td>\n",
       "      <td>Ministerie van Justitie en Veiligheid</td>\n",
       "      <td>2022</td>\n",
       "      <td>2e Kwartaal</td>\n",
       "      <td>False</td>\n",
       "      <td>22-10-2021</td>\n",
       "      <td>NaN</td>\n",
       "      <td>357</td>\n",
       "      <td>2021-10-22</td>\n",
       "      <td>251.0</td>\n",
       "    </tr>\n",
       "    <tr>\n",
       "      <th>1109</th>\n",
       "      <td>Woo-verzoek over de identiteit achter anonieme...</td>\n",
       "      <td>2022-08-25</td>\n",
       "      <td>['https://open.overheid.nl/documenten/ronl-2a0...</td>\n",
       "      <td>['02-08-2022']</td>\n",
       "      <td>Ministerie van Landbouw, Natuur en Voedselkwal...</td>\n",
       "      <td>2022</td>\n",
       "      <td>3e Kwartaal</td>\n",
       "      <td>False</td>\n",
       "      <td>02-08-2022</td>\n",
       "      <td>NaN</td>\n",
       "      <td>3</td>\n",
       "      <td>2022-08-02</td>\n",
       "      <td>23.0</td>\n",
       "    </tr>\n",
       "    <tr>\n",
       "      <th>1110</th>\n",
       "      <td>Woo-verzoek over landbouwvrijstelling in inkom...</td>\n",
       "      <td>2023-02-27</td>\n",
       "      <td>['https://open.overheid.nl/documenten/ronl-1c0...</td>\n",
       "      <td>[nan, '07-08-2022', nan]</td>\n",
       "      <td>Ministerie van Financiën</td>\n",
       "      <td>2023</td>\n",
       "      <td>1e Kwartaal</td>\n",
       "      <td>False</td>\n",
       "      <td>07-08-2022</td>\n",
       "      <td>NaN</td>\n",
       "      <td>15</td>\n",
       "      <td>2022-08-07</td>\n",
       "      <td>204.0</td>\n",
       "    </tr>\n",
       "    <tr>\n",
       "      <th>1111</th>\n",
       "      <td>Woo-verzoek over ongeval met trampoline</td>\n",
       "      <td>2022-08-23</td>\n",
       "      <td>['https://open.overheid.nl/documenten/ronl-41c...</td>\n",
       "      <td>['11-05-2022']</td>\n",
       "      <td>Ministerie van Landbouw, Natuur en Voedselkwal...</td>\n",
       "      <td>2022</td>\n",
       "      <td>3e Kwartaal</td>\n",
       "      <td>False</td>\n",
       "      <td>11-05-2022</td>\n",
       "      <td>NaN</td>\n",
       "      <td>9</td>\n",
       "      <td>2022-05-11</td>\n",
       "      <td>104.0</td>\n",
       "    </tr>\n",
       "  </tbody>\n",
       "</table>\n",
       "<p>1112 rows × 13 columns</p>\n",
       "</div>"
      ],
      "text/plain": [
       "                                                Verzoek  docdatums  \\\n",
       "0     Beslissing op bezwaar Wob verzoek corresponden... 2022-09-15   \n",
       "1     Beslissing op bezwaar Wob-/Woo-verzoek over in... 2022-12-23   \n",
       "2     Beslissing op bezwaar Wob-/Woo-verzoek over ve... 2023-01-27   \n",
       "3     Beslissing op bezwaar Wob-besluit Financiën ov... 2022-04-26   \n",
       "4     Beslissing op bezwaar Wob-besluit over afstemm... 2023-02-09   \n",
       "...                                                 ...        ...   \n",
       "1107  Besluit van 20 juli 2022 op het verzoek inzake... 2022-07-20   \n",
       "1108         Woo-verzoek Evaluatiecommissie Tuitjenhorn 2022-06-30   \n",
       "1109  Woo-verzoek over de identiteit achter anonieme... 2022-08-25   \n",
       "1110  Woo-verzoek over landbouwvrijstelling in inkom... 2023-02-27   \n",
       "1111            Woo-verzoek over ongeval met trampoline 2022-08-23   \n",
       "\n",
       "                                                   urls  \\\n",
       "0     ['https://open.overheid.nl/documenten/ronl-34e...   \n",
       "1     ['https://open.overheid.nl/documenten/ronl-7a0...   \n",
       "2     ['https://open.overheid.nl/documenten/ronl-0ba...   \n",
       "3     ['https://open.overheid.nl/documenten/ronl-e3e...   \n",
       "4     ['https://open.overheid.nl/documenten/ronl-07e...   \n",
       "...                                                 ...   \n",
       "1107  ['https://open.overheid.nl/documenten/ronl-751...   \n",
       "1108  ['https://open.overheid.nl/documenten/ronl-370...   \n",
       "1109  ['https://open.overheid.nl/documenten/ronl-2a0...   \n",
       "1110  ['https://open.overheid.nl/documenten/ronl-1c0...   \n",
       "1111  ['https://open.overheid.nl/documenten/ronl-41c...   \n",
       "\n",
       "                                  verdatums  \\\n",
       "0                           [nan, nan, nan]   \n",
       "1                  ['14-07-2022', nan, nan]   \n",
       "2     ['image', '02-11-2021', '02-11-2021']   \n",
       "3                       ['22-10-2021', nan]   \n",
       "4                       [nan, '05-10-2022']   \n",
       "...                                     ...   \n",
       "1107                              ['image']   \n",
       "1108                    ['22-10-2021', nan]   \n",
       "1109                         ['02-08-2022']   \n",
       "1110               [nan, '07-08-2022', nan]   \n",
       "1111                         ['11-05-2022']   \n",
       "\n",
       "                                      verantwoordelijke  jaar     kwartaal  \\\n",
       "0           Ministerie van Infrastructuur en Waterstaat  2022  3e Kwartaal   \n",
       "1           Ministerie van Infrastructuur en Waterstaat  2022  4e Kwartaal   \n",
       "2     Ministerie van Landbouw, Natuur en Voedselkwal...  2023  1e Kwartaal   \n",
       "3                              Ministerie van Financiën  2022  2e Kwartaal   \n",
       "4                              Ministerie van Financiën  2023  1e Kwartaal   \n",
       "...                                                 ...   ...          ...   \n",
       "1107              Ministerie van Justitie en Veiligheid  2022  3e Kwartaal   \n",
       "1108              Ministerie van Justitie en Veiligheid  2022  2e Kwartaal   \n",
       "1109  Ministerie van Landbouw, Natuur en Voedselkwal...  2022  3e Kwartaal   \n",
       "1110                           Ministerie van Financiën  2023  1e Kwartaal   \n",
       "1111  Ministerie van Landbouw, Natuur en Voedselkwal...  2022  3e Kwartaal   \n",
       "\n",
       "      image    verdatum   OCR_datum  Doc_Length final_date  dagen  \n",
       "0     False         NaN         NaN          20        NaT    NaN  \n",
       "1     False  14-07-2022         NaN         185 2022-07-14  162.0  \n",
       "2      True  02-11-2021         NaN          79 2021-11-02  451.0  \n",
       "3     False  22-10-2021         NaN           5 2021-10-22  186.0  \n",
       "4     False  05-10-2022         NaN           5 2022-10-05  127.0  \n",
       "...     ...         ...         ...         ...        ...    ...  \n",
       "1107   True         NaN  22-03-2022          69 2022-03-22  120.0  \n",
       "1108  False  22-10-2021         NaN         357 2021-10-22  251.0  \n",
       "1109  False  02-08-2022         NaN           3 2022-08-02   23.0  \n",
       "1110  False  07-08-2022         NaN          15 2022-08-07  204.0  \n",
       "1111  False  11-05-2022         NaN           9 2022-05-11  104.0  \n",
       "\n",
       "[1112 rows x 13 columns]"
      ]
     },
     "metadata": {},
     "output_type": "display_data"
    }
   ],
   "source": [
    "df_withOCR['docdatums'] = pd.to_datetime(df_withOCR['docdatums'], format = '%Y-%m-%d')\n",
    "df_withOCR['final_date'] = pd.to_datetime(df_withOCR['final_date'], format = '%d-%m-%Y')\n",
    "\n",
    "df_withOCR['dagen'] = (df_withOCR['docdatums'] - df_withOCR['final_date']).dt.days\n",
    "\n",
    "display(df_withOCR)"
   ]
  },
  {
   "cell_type": "code",
   "execution_count": 252,
   "id": "fce083e0",
   "metadata": {},
   "outputs": [
    {
     "data": {
      "text/html": [
       "<div>\n",
       "<style scoped>\n",
       "    .dataframe tbody tr th:only-of-type {\n",
       "        vertical-align: middle;\n",
       "    }\n",
       "\n",
       "    .dataframe tbody tr th {\n",
       "        vertical-align: top;\n",
       "    }\n",
       "\n",
       "    .dataframe thead th {\n",
       "        text-align: right;\n",
       "    }\n",
       "</style>\n",
       "<table border=\"1\" class=\"dataframe\">\n",
       "  <thead>\n",
       "    <tr style=\"text-align: right;\">\n",
       "      <th></th>\n",
       "      <th>Verzoek</th>\n",
       "      <th>docdatums</th>\n",
       "      <th>urls</th>\n",
       "      <th>verdatums</th>\n",
       "      <th>verantwoordelijke</th>\n",
       "      <th>jaar</th>\n",
       "      <th>kwartaal</th>\n",
       "      <th>image</th>\n",
       "      <th>verdatum</th>\n",
       "      <th>OCR_datum</th>\n",
       "      <th>Doc_Length</th>\n",
       "      <th>final_date</th>\n",
       "      <th>dagen</th>\n",
       "      <th>Publicatiedatum</th>\n",
       "    </tr>\n",
       "  </thead>\n",
       "  <tbody>\n",
       "    <tr>\n",
       "      <th>0</th>\n",
       "      <td>Beslissing op bezwaar Wob verzoek corresponden...</td>\n",
       "      <td>2022-09-15</td>\n",
       "      <td>['https://open.overheid.nl/documenten/ronl-34e...</td>\n",
       "      <td>[nan, nan, nan]</td>\n",
       "      <td>Ministerie van Infrastructuur en Waterstaat</td>\n",
       "      <td>2022</td>\n",
       "      <td>3e Kwartaal</td>\n",
       "      <td>False</td>\n",
       "      <td>NaN</td>\n",
       "      <td>NaN</td>\n",
       "      <td>20</td>\n",
       "      <td>NaT</td>\n",
       "      <td>NaN</td>\n",
       "      <td>06-10-2022</td>\n",
       "    </tr>\n",
       "    <tr>\n",
       "      <th>1</th>\n",
       "      <td>Beslissing op bezwaar Wob-/Woo-verzoek over in...</td>\n",
       "      <td>2022-12-23</td>\n",
       "      <td>['https://open.overheid.nl/documenten/ronl-7a0...</td>\n",
       "      <td>['14-07-2022', nan, nan]</td>\n",
       "      <td>Ministerie van Infrastructuur en Waterstaat</td>\n",
       "      <td>2022</td>\n",
       "      <td>4e Kwartaal</td>\n",
       "      <td>False</td>\n",
       "      <td>14-07-2022</td>\n",
       "      <td>NaN</td>\n",
       "      <td>185</td>\n",
       "      <td>2022-07-14</td>\n",
       "      <td>162.0</td>\n",
       "      <td>11-01-2023</td>\n",
       "    </tr>\n",
       "    <tr>\n",
       "      <th>2</th>\n",
       "      <td>Beslissing op bezwaar Wob-/Woo-verzoek over ve...</td>\n",
       "      <td>2023-01-27</td>\n",
       "      <td>['https://open.overheid.nl/documenten/ronl-0ba...</td>\n",
       "      <td>['image', '02-11-2021', '02-11-2021']</td>\n",
       "      <td>Ministerie van Landbouw, Natuur en Voedselkwal...</td>\n",
       "      <td>2023</td>\n",
       "      <td>1e Kwartaal</td>\n",
       "      <td>True</td>\n",
       "      <td>02-11-2021</td>\n",
       "      <td>NaN</td>\n",
       "      <td>79</td>\n",
       "      <td>2021-11-02</td>\n",
       "      <td>451.0</td>\n",
       "      <td>27-02-2023</td>\n",
       "    </tr>\n",
       "    <tr>\n",
       "      <th>3</th>\n",
       "      <td>Beslissing op bezwaar Wob-besluit Financiën ov...</td>\n",
       "      <td>2022-04-26</td>\n",
       "      <td>['https://open.overheid.nl/documenten/ronl-e3e...</td>\n",
       "      <td>['22-10-2021', nan]</td>\n",
       "      <td>Ministerie van Financiën</td>\n",
       "      <td>2022</td>\n",
       "      <td>2e Kwartaal</td>\n",
       "      <td>False</td>\n",
       "      <td>22-10-2021</td>\n",
       "      <td>NaN</td>\n",
       "      <td>5</td>\n",
       "      <td>2021-10-22</td>\n",
       "      <td>186.0</td>\n",
       "      <td>16-05-2022</td>\n",
       "    </tr>\n",
       "    <tr>\n",
       "      <th>4</th>\n",
       "      <td>Beslissing op bezwaar Wob-besluit over afstemm...</td>\n",
       "      <td>2023-02-09</td>\n",
       "      <td>['https://open.overheid.nl/documenten/ronl-07e...</td>\n",
       "      <td>[nan, '05-10-2022']</td>\n",
       "      <td>Ministerie van Financiën</td>\n",
       "      <td>2023</td>\n",
       "      <td>1e Kwartaal</td>\n",
       "      <td>False</td>\n",
       "      <td>05-10-2022</td>\n",
       "      <td>NaN</td>\n",
       "      <td>5</td>\n",
       "      <td>2022-10-05</td>\n",
       "      <td>127.0</td>\n",
       "      <td>09-02-2023</td>\n",
       "    </tr>\n",
       "    <tr>\n",
       "      <th>...</th>\n",
       "      <td>...</td>\n",
       "      <td>...</td>\n",
       "      <td>...</td>\n",
       "      <td>...</td>\n",
       "      <td>...</td>\n",
       "      <td>...</td>\n",
       "      <td>...</td>\n",
       "      <td>...</td>\n",
       "      <td>...</td>\n",
       "      <td>...</td>\n",
       "      <td>...</td>\n",
       "      <td>...</td>\n",
       "      <td>...</td>\n",
       "      <td>...</td>\n",
       "    </tr>\n",
       "    <tr>\n",
       "      <th>1107</th>\n",
       "      <td>Besluit van 20 juli 2022 op het verzoek inzake...</td>\n",
       "      <td>2022-07-20</td>\n",
       "      <td>['https://open.overheid.nl/documenten/ronl-751...</td>\n",
       "      <td>['image']</td>\n",
       "      <td>Ministerie van Justitie en Veiligheid</td>\n",
       "      <td>2022</td>\n",
       "      <td>3e Kwartaal</td>\n",
       "      <td>True</td>\n",
       "      <td>NaN</td>\n",
       "      <td>22-03-2022</td>\n",
       "      <td>69</td>\n",
       "      <td>2022-03-22</td>\n",
       "      <td>120.0</td>\n",
       "      <td>20-07-2022</td>\n",
       "    </tr>\n",
       "    <tr>\n",
       "      <th>1108</th>\n",
       "      <td>Woo-verzoek Evaluatiecommissie Tuitjenhorn</td>\n",
       "      <td>2022-06-30</td>\n",
       "      <td>['https://open.overheid.nl/documenten/ronl-370...</td>\n",
       "      <td>['22-10-2021', nan]</td>\n",
       "      <td>Ministerie van Justitie en Veiligheid</td>\n",
       "      <td>2022</td>\n",
       "      <td>2e Kwartaal</td>\n",
       "      <td>False</td>\n",
       "      <td>22-10-2021</td>\n",
       "      <td>NaN</td>\n",
       "      <td>357</td>\n",
       "      <td>2021-10-22</td>\n",
       "      <td>251.0</td>\n",
       "      <td>30-06-2022</td>\n",
       "    </tr>\n",
       "    <tr>\n",
       "      <th>1109</th>\n",
       "      <td>Woo-verzoek over de identiteit achter anonieme...</td>\n",
       "      <td>2022-08-25</td>\n",
       "      <td>['https://open.overheid.nl/documenten/ronl-2a0...</td>\n",
       "      <td>['02-08-2022']</td>\n",
       "      <td>Ministerie van Landbouw, Natuur en Voedselkwal...</td>\n",
       "      <td>2022</td>\n",
       "      <td>3e Kwartaal</td>\n",
       "      <td>False</td>\n",
       "      <td>02-08-2022</td>\n",
       "      <td>NaN</td>\n",
       "      <td>3</td>\n",
       "      <td>2022-08-02</td>\n",
       "      <td>23.0</td>\n",
       "      <td>25-08-2022</td>\n",
       "    </tr>\n",
       "    <tr>\n",
       "      <th>1110</th>\n",
       "      <td>Woo-verzoek over landbouwvrijstelling in inkom...</td>\n",
       "      <td>2023-02-27</td>\n",
       "      <td>['https://open.overheid.nl/documenten/ronl-1c0...</td>\n",
       "      <td>[nan, '07-08-2022', nan]</td>\n",
       "      <td>Ministerie van Financiën</td>\n",
       "      <td>2023</td>\n",
       "      <td>1e Kwartaal</td>\n",
       "      <td>False</td>\n",
       "      <td>07-08-2022</td>\n",
       "      <td>NaN</td>\n",
       "      <td>15</td>\n",
       "      <td>2022-08-07</td>\n",
       "      <td>204.0</td>\n",
       "      <td>27-02-2023</td>\n",
       "    </tr>\n",
       "    <tr>\n",
       "      <th>1111</th>\n",
       "      <td>Woo-verzoek over ongeval met trampoline</td>\n",
       "      <td>2022-08-23</td>\n",
       "      <td>['https://open.overheid.nl/documenten/ronl-41c...</td>\n",
       "      <td>['11-05-2022']</td>\n",
       "      <td>Ministerie van Landbouw, Natuur en Voedselkwal...</td>\n",
       "      <td>2022</td>\n",
       "      <td>3e Kwartaal</td>\n",
       "      <td>False</td>\n",
       "      <td>11-05-2022</td>\n",
       "      <td>NaN</td>\n",
       "      <td>9</td>\n",
       "      <td>2022-05-11</td>\n",
       "      <td>104.0</td>\n",
       "      <td>23-08-2022</td>\n",
       "    </tr>\n",
       "  </tbody>\n",
       "</table>\n",
       "<p>1112 rows × 14 columns</p>\n",
       "</div>"
      ],
      "text/plain": [
       "                                                Verzoek  docdatums  \\\n",
       "0     Beslissing op bezwaar Wob verzoek corresponden... 2022-09-15   \n",
       "1     Beslissing op bezwaar Wob-/Woo-verzoek over in... 2022-12-23   \n",
       "2     Beslissing op bezwaar Wob-/Woo-verzoek over ve... 2023-01-27   \n",
       "3     Beslissing op bezwaar Wob-besluit Financiën ov... 2022-04-26   \n",
       "4     Beslissing op bezwaar Wob-besluit over afstemm... 2023-02-09   \n",
       "...                                                 ...        ...   \n",
       "1107  Besluit van 20 juli 2022 op het verzoek inzake... 2022-07-20   \n",
       "1108         Woo-verzoek Evaluatiecommissie Tuitjenhorn 2022-06-30   \n",
       "1109  Woo-verzoek over de identiteit achter anonieme... 2022-08-25   \n",
       "1110  Woo-verzoek over landbouwvrijstelling in inkom... 2023-02-27   \n",
       "1111            Woo-verzoek over ongeval met trampoline 2022-08-23   \n",
       "\n",
       "                                                   urls  \\\n",
       "0     ['https://open.overheid.nl/documenten/ronl-34e...   \n",
       "1     ['https://open.overheid.nl/documenten/ronl-7a0...   \n",
       "2     ['https://open.overheid.nl/documenten/ronl-0ba...   \n",
       "3     ['https://open.overheid.nl/documenten/ronl-e3e...   \n",
       "4     ['https://open.overheid.nl/documenten/ronl-07e...   \n",
       "...                                                 ...   \n",
       "1107  ['https://open.overheid.nl/documenten/ronl-751...   \n",
       "1108  ['https://open.overheid.nl/documenten/ronl-370...   \n",
       "1109  ['https://open.overheid.nl/documenten/ronl-2a0...   \n",
       "1110  ['https://open.overheid.nl/documenten/ronl-1c0...   \n",
       "1111  ['https://open.overheid.nl/documenten/ronl-41c...   \n",
       "\n",
       "                                  verdatums  \\\n",
       "0                           [nan, nan, nan]   \n",
       "1                  ['14-07-2022', nan, nan]   \n",
       "2     ['image', '02-11-2021', '02-11-2021']   \n",
       "3                       ['22-10-2021', nan]   \n",
       "4                       [nan, '05-10-2022']   \n",
       "...                                     ...   \n",
       "1107                              ['image']   \n",
       "1108                    ['22-10-2021', nan]   \n",
       "1109                         ['02-08-2022']   \n",
       "1110               [nan, '07-08-2022', nan]   \n",
       "1111                         ['11-05-2022']   \n",
       "\n",
       "                                      verantwoordelijke  jaar     kwartaal  \\\n",
       "0           Ministerie van Infrastructuur en Waterstaat  2022  3e Kwartaal   \n",
       "1           Ministerie van Infrastructuur en Waterstaat  2022  4e Kwartaal   \n",
       "2     Ministerie van Landbouw, Natuur en Voedselkwal...  2023  1e Kwartaal   \n",
       "3                              Ministerie van Financiën  2022  2e Kwartaal   \n",
       "4                              Ministerie van Financiën  2023  1e Kwartaal   \n",
       "...                                                 ...   ...          ...   \n",
       "1107              Ministerie van Justitie en Veiligheid  2022  3e Kwartaal   \n",
       "1108              Ministerie van Justitie en Veiligheid  2022  2e Kwartaal   \n",
       "1109  Ministerie van Landbouw, Natuur en Voedselkwal...  2022  3e Kwartaal   \n",
       "1110                           Ministerie van Financiën  2023  1e Kwartaal   \n",
       "1111  Ministerie van Landbouw, Natuur en Voedselkwal...  2022  3e Kwartaal   \n",
       "\n",
       "      image    verdatum   OCR_datum  Doc_Length final_date  dagen  \\\n",
       "0     False         NaN         NaN          20        NaT    NaN   \n",
       "1     False  14-07-2022         NaN         185 2022-07-14  162.0   \n",
       "2      True  02-11-2021         NaN          79 2021-11-02  451.0   \n",
       "3     False  22-10-2021         NaN           5 2021-10-22  186.0   \n",
       "4     False  05-10-2022         NaN           5 2022-10-05  127.0   \n",
       "...     ...         ...         ...         ...        ...    ...   \n",
       "1107   True         NaN  22-03-2022          69 2022-03-22  120.0   \n",
       "1108  False  22-10-2021         NaN         357 2021-10-22  251.0   \n",
       "1109  False  02-08-2022         NaN           3 2022-08-02   23.0   \n",
       "1110  False  07-08-2022         NaN          15 2022-08-07  204.0   \n",
       "1111  False  11-05-2022         NaN           9 2022-05-11  104.0   \n",
       "\n",
       "     Publicatiedatum  \n",
       "0         06-10-2022  \n",
       "1         11-01-2023  \n",
       "2         27-02-2023  \n",
       "3         16-05-2022  \n",
       "4         09-02-2023  \n",
       "...              ...  \n",
       "1107      20-07-2022  \n",
       "1108      30-06-2022  \n",
       "1109      25-08-2022  \n",
       "1110      27-02-2023  \n",
       "1111      23-08-2022  \n",
       "\n",
       "[1112 rows x 14 columns]"
      ]
     },
     "metadata": {},
     "output_type": "display_data"
    }
   ],
   "source": [
    "df_withOCR['Publicatiedatum'] = df_publicatiedatums['Publicatiedatum']\n",
    "display(df_withOCR)"
   ]
  },
  {
   "cell_type": "code",
   "execution_count": 261,
   "id": "43184cee",
   "metadata": {},
   "outputs": [],
   "source": [
    "ministerie_dict = {\n",
    "       'Ministerie van Algemene Zaken':'AZ', \n",
    "       'Ministerie van Binnenlandse Zaken en Koninkrijksrelaties': 'BZK', \n",
    "       'Ministerie van Buitenlandse Zaken':'BuZa', \n",
    "       'Ministerie van Defensie':'DEF', \n",
    "       'Ministerie van Economische Zaken en Klimaat': 'EZK',\n",
    "       'Ministerie van Financiën':'FIN', \n",
    "       'Ministerie van Infrastructuur en Waterstaat':'I&W',\n",
    "       'Ministerie van Justitie en Veiligheid':'J&V',\n",
    "       'Ministerie van Landbouw, Natuur en Voedselkwaliteit':'LNV', \n",
    "       'Ministerie van Onderwijs, Cultuur en Wetenschap':'OCW',\n",
    "       'Ministerie van Sociale Zaken en Werkgelegenheid':'SZW',\n",
    "       'Ministerie van Volksgezondheid, Welzijn en Sport':'VWS'\n",
    "}\n"
   ]
  },
  {
   "cell_type": "code",
   "execution_count": 273,
   "id": "9992d987",
   "metadata": {},
   "outputs": [
    {
     "data": {
      "text/html": [
       "<div>\n",
       "<style scoped>\n",
       "    .dataframe tbody tr th:only-of-type {\n",
       "        vertical-align: middle;\n",
       "    }\n",
       "\n",
       "    .dataframe tbody tr th {\n",
       "        vertical-align: top;\n",
       "    }\n",
       "\n",
       "    .dataframe thead th {\n",
       "        text-align: right;\n",
       "    }\n",
       "</style>\n",
       "<table border=\"1\" class=\"dataframe\">\n",
       "  <thead>\n",
       "    <tr style=\"text-align: right;\">\n",
       "      <th></th>\n",
       "      <th>Verzoek</th>\n",
       "      <th>docdatums</th>\n",
       "      <th>urls</th>\n",
       "      <th>verdatums</th>\n",
       "      <th>verantwoordelijke</th>\n",
       "      <th>jaar</th>\n",
       "      <th>kwartaal</th>\n",
       "      <th>image</th>\n",
       "      <th>verdatum</th>\n",
       "      <th>OCR_datum</th>\n",
       "      <th>Doc_Length</th>\n",
       "      <th>final_date</th>\n",
       "      <th>dagen</th>\n",
       "      <th>Publicatiedatum</th>\n",
       "      <th>Ministerie</th>\n",
       "    </tr>\n",
       "  </thead>\n",
       "  <tbody>\n",
       "    <tr>\n",
       "      <th>0</th>\n",
       "      <td>Beslissing op bezwaar Wob verzoek corresponden...</td>\n",
       "      <td>2022-09-15</td>\n",
       "      <td>['https://open.overheid.nl/documenten/ronl-34e...</td>\n",
       "      <td>[nan, nan, nan]</td>\n",
       "      <td>Ministerie van Infrastructuur en Waterstaat</td>\n",
       "      <td>2022</td>\n",
       "      <td>3e Kwartaal</td>\n",
       "      <td>False</td>\n",
       "      <td>NaN</td>\n",
       "      <td>NaN</td>\n",
       "      <td>20</td>\n",
       "      <td>NaT</td>\n",
       "      <td>NaN</td>\n",
       "      <td>06-10-2022</td>\n",
       "      <td>I&amp;W</td>\n",
       "    </tr>\n",
       "    <tr>\n",
       "      <th>1</th>\n",
       "      <td>Beslissing op bezwaar Wob-/Woo-verzoek over in...</td>\n",
       "      <td>2022-12-23</td>\n",
       "      <td>['https://open.overheid.nl/documenten/ronl-7a0...</td>\n",
       "      <td>['14-07-2022', nan, nan]</td>\n",
       "      <td>Ministerie van Infrastructuur en Waterstaat</td>\n",
       "      <td>2022</td>\n",
       "      <td>4e Kwartaal</td>\n",
       "      <td>False</td>\n",
       "      <td>14-07-2022</td>\n",
       "      <td>NaN</td>\n",
       "      <td>185</td>\n",
       "      <td>2022-07-14</td>\n",
       "      <td>162.0</td>\n",
       "      <td>11-01-2023</td>\n",
       "      <td>I&amp;W</td>\n",
       "    </tr>\n",
       "    <tr>\n",
       "      <th>2</th>\n",
       "      <td>Beslissing op bezwaar Wob-/Woo-verzoek over ve...</td>\n",
       "      <td>2023-01-27</td>\n",
       "      <td>['https://open.overheid.nl/documenten/ronl-0ba...</td>\n",
       "      <td>['image', '02-11-2021', '02-11-2021']</td>\n",
       "      <td>Ministerie van Landbouw, Natuur en Voedselkwal...</td>\n",
       "      <td>2023</td>\n",
       "      <td>1e Kwartaal</td>\n",
       "      <td>True</td>\n",
       "      <td>02-11-2021</td>\n",
       "      <td>NaN</td>\n",
       "      <td>79</td>\n",
       "      <td>2021-11-02</td>\n",
       "      <td>451.0</td>\n",
       "      <td>27-02-2023</td>\n",
       "      <td>LNV</td>\n",
       "    </tr>\n",
       "    <tr>\n",
       "      <th>3</th>\n",
       "      <td>Beslissing op bezwaar Wob-besluit Financiën ov...</td>\n",
       "      <td>2022-04-26</td>\n",
       "      <td>['https://open.overheid.nl/documenten/ronl-e3e...</td>\n",
       "      <td>['22-10-2021', nan]</td>\n",
       "      <td>Ministerie van Financiën</td>\n",
       "      <td>2022</td>\n",
       "      <td>2e Kwartaal</td>\n",
       "      <td>False</td>\n",
       "      <td>22-10-2021</td>\n",
       "      <td>NaN</td>\n",
       "      <td>5</td>\n",
       "      <td>2021-10-22</td>\n",
       "      <td>186.0</td>\n",
       "      <td>16-05-2022</td>\n",
       "      <td>FIN</td>\n",
       "    </tr>\n",
       "    <tr>\n",
       "      <th>4</th>\n",
       "      <td>Beslissing op bezwaar Wob-besluit over afstemm...</td>\n",
       "      <td>2023-02-09</td>\n",
       "      <td>['https://open.overheid.nl/documenten/ronl-07e...</td>\n",
       "      <td>[nan, '05-10-2022']</td>\n",
       "      <td>Ministerie van Financiën</td>\n",
       "      <td>2023</td>\n",
       "      <td>1e Kwartaal</td>\n",
       "      <td>False</td>\n",
       "      <td>05-10-2022</td>\n",
       "      <td>NaN</td>\n",
       "      <td>5</td>\n",
       "      <td>2022-10-05</td>\n",
       "      <td>127.0</td>\n",
       "      <td>09-02-2023</td>\n",
       "      <td>FIN</td>\n",
       "    </tr>\n",
       "    <tr>\n",
       "      <th>...</th>\n",
       "      <td>...</td>\n",
       "      <td>...</td>\n",
       "      <td>...</td>\n",
       "      <td>...</td>\n",
       "      <td>...</td>\n",
       "      <td>...</td>\n",
       "      <td>...</td>\n",
       "      <td>...</td>\n",
       "      <td>...</td>\n",
       "      <td>...</td>\n",
       "      <td>...</td>\n",
       "      <td>...</td>\n",
       "      <td>...</td>\n",
       "      <td>...</td>\n",
       "      <td>...</td>\n",
       "    </tr>\n",
       "    <tr>\n",
       "      <th>1107</th>\n",
       "      <td>Besluit van 20 juli 2022 op het verzoek inzake...</td>\n",
       "      <td>2022-07-20</td>\n",
       "      <td>['https://open.overheid.nl/documenten/ronl-751...</td>\n",
       "      <td>['image']</td>\n",
       "      <td>Ministerie van Justitie en Veiligheid</td>\n",
       "      <td>2022</td>\n",
       "      <td>3e Kwartaal</td>\n",
       "      <td>True</td>\n",
       "      <td>NaN</td>\n",
       "      <td>22-03-2022</td>\n",
       "      <td>69</td>\n",
       "      <td>2022-03-22</td>\n",
       "      <td>120.0</td>\n",
       "      <td>20-07-2022</td>\n",
       "      <td>J&amp;V</td>\n",
       "    </tr>\n",
       "    <tr>\n",
       "      <th>1108</th>\n",
       "      <td>Woo-verzoek Evaluatiecommissie Tuitjenhorn</td>\n",
       "      <td>2022-06-30</td>\n",
       "      <td>['https://open.overheid.nl/documenten/ronl-370...</td>\n",
       "      <td>['22-10-2021', nan]</td>\n",
       "      <td>Ministerie van Justitie en Veiligheid</td>\n",
       "      <td>2022</td>\n",
       "      <td>2e Kwartaal</td>\n",
       "      <td>False</td>\n",
       "      <td>22-10-2021</td>\n",
       "      <td>NaN</td>\n",
       "      <td>357</td>\n",
       "      <td>2021-10-22</td>\n",
       "      <td>251.0</td>\n",
       "      <td>30-06-2022</td>\n",
       "      <td>J&amp;V</td>\n",
       "    </tr>\n",
       "    <tr>\n",
       "      <th>1109</th>\n",
       "      <td>Woo-verzoek over de identiteit achter anonieme...</td>\n",
       "      <td>2022-08-25</td>\n",
       "      <td>['https://open.overheid.nl/documenten/ronl-2a0...</td>\n",
       "      <td>['02-08-2022']</td>\n",
       "      <td>Ministerie van Landbouw, Natuur en Voedselkwal...</td>\n",
       "      <td>2022</td>\n",
       "      <td>3e Kwartaal</td>\n",
       "      <td>False</td>\n",
       "      <td>02-08-2022</td>\n",
       "      <td>NaN</td>\n",
       "      <td>3</td>\n",
       "      <td>2022-08-02</td>\n",
       "      <td>23.0</td>\n",
       "      <td>25-08-2022</td>\n",
       "      <td>LNV</td>\n",
       "    </tr>\n",
       "    <tr>\n",
       "      <th>1110</th>\n",
       "      <td>Woo-verzoek over landbouwvrijstelling in inkom...</td>\n",
       "      <td>2023-02-27</td>\n",
       "      <td>['https://open.overheid.nl/documenten/ronl-1c0...</td>\n",
       "      <td>[nan, '07-08-2022', nan]</td>\n",
       "      <td>Ministerie van Financiën</td>\n",
       "      <td>2023</td>\n",
       "      <td>1e Kwartaal</td>\n",
       "      <td>False</td>\n",
       "      <td>07-08-2022</td>\n",
       "      <td>NaN</td>\n",
       "      <td>15</td>\n",
       "      <td>2022-08-07</td>\n",
       "      <td>204.0</td>\n",
       "      <td>27-02-2023</td>\n",
       "      <td>FIN</td>\n",
       "    </tr>\n",
       "    <tr>\n",
       "      <th>1111</th>\n",
       "      <td>Woo-verzoek over ongeval met trampoline</td>\n",
       "      <td>2022-08-23</td>\n",
       "      <td>['https://open.overheid.nl/documenten/ronl-41c...</td>\n",
       "      <td>['11-05-2022']</td>\n",
       "      <td>Ministerie van Landbouw, Natuur en Voedselkwal...</td>\n",
       "      <td>2022</td>\n",
       "      <td>3e Kwartaal</td>\n",
       "      <td>False</td>\n",
       "      <td>11-05-2022</td>\n",
       "      <td>NaN</td>\n",
       "      <td>9</td>\n",
       "      <td>2022-05-11</td>\n",
       "      <td>104.0</td>\n",
       "      <td>23-08-2022</td>\n",
       "      <td>LNV</td>\n",
       "    </tr>\n",
       "  </tbody>\n",
       "</table>\n",
       "<p>1112 rows × 15 columns</p>\n",
       "</div>"
      ],
      "text/plain": [
       "                                                Verzoek  docdatums  \\\n",
       "0     Beslissing op bezwaar Wob verzoek corresponden... 2022-09-15   \n",
       "1     Beslissing op bezwaar Wob-/Woo-verzoek over in... 2022-12-23   \n",
       "2     Beslissing op bezwaar Wob-/Woo-verzoek over ve... 2023-01-27   \n",
       "3     Beslissing op bezwaar Wob-besluit Financiën ov... 2022-04-26   \n",
       "4     Beslissing op bezwaar Wob-besluit over afstemm... 2023-02-09   \n",
       "...                                                 ...        ...   \n",
       "1107  Besluit van 20 juli 2022 op het verzoek inzake... 2022-07-20   \n",
       "1108         Woo-verzoek Evaluatiecommissie Tuitjenhorn 2022-06-30   \n",
       "1109  Woo-verzoek over de identiteit achter anonieme... 2022-08-25   \n",
       "1110  Woo-verzoek over landbouwvrijstelling in inkom... 2023-02-27   \n",
       "1111            Woo-verzoek over ongeval met trampoline 2022-08-23   \n",
       "\n",
       "                                                   urls  \\\n",
       "0     ['https://open.overheid.nl/documenten/ronl-34e...   \n",
       "1     ['https://open.overheid.nl/documenten/ronl-7a0...   \n",
       "2     ['https://open.overheid.nl/documenten/ronl-0ba...   \n",
       "3     ['https://open.overheid.nl/documenten/ronl-e3e...   \n",
       "4     ['https://open.overheid.nl/documenten/ronl-07e...   \n",
       "...                                                 ...   \n",
       "1107  ['https://open.overheid.nl/documenten/ronl-751...   \n",
       "1108  ['https://open.overheid.nl/documenten/ronl-370...   \n",
       "1109  ['https://open.overheid.nl/documenten/ronl-2a0...   \n",
       "1110  ['https://open.overheid.nl/documenten/ronl-1c0...   \n",
       "1111  ['https://open.overheid.nl/documenten/ronl-41c...   \n",
       "\n",
       "                                  verdatums  \\\n",
       "0                           [nan, nan, nan]   \n",
       "1                  ['14-07-2022', nan, nan]   \n",
       "2     ['image', '02-11-2021', '02-11-2021']   \n",
       "3                       ['22-10-2021', nan]   \n",
       "4                       [nan, '05-10-2022']   \n",
       "...                                     ...   \n",
       "1107                              ['image']   \n",
       "1108                    ['22-10-2021', nan]   \n",
       "1109                         ['02-08-2022']   \n",
       "1110               [nan, '07-08-2022', nan]   \n",
       "1111                         ['11-05-2022']   \n",
       "\n",
       "                                      verantwoordelijke  jaar     kwartaal  \\\n",
       "0           Ministerie van Infrastructuur en Waterstaat  2022  3e Kwartaal   \n",
       "1           Ministerie van Infrastructuur en Waterstaat  2022  4e Kwartaal   \n",
       "2     Ministerie van Landbouw, Natuur en Voedselkwal...  2023  1e Kwartaal   \n",
       "3                              Ministerie van Financiën  2022  2e Kwartaal   \n",
       "4                              Ministerie van Financiën  2023  1e Kwartaal   \n",
       "...                                                 ...   ...          ...   \n",
       "1107              Ministerie van Justitie en Veiligheid  2022  3e Kwartaal   \n",
       "1108              Ministerie van Justitie en Veiligheid  2022  2e Kwartaal   \n",
       "1109  Ministerie van Landbouw, Natuur en Voedselkwal...  2022  3e Kwartaal   \n",
       "1110                           Ministerie van Financiën  2023  1e Kwartaal   \n",
       "1111  Ministerie van Landbouw, Natuur en Voedselkwal...  2022  3e Kwartaal   \n",
       "\n",
       "      image    verdatum   OCR_datum  Doc_Length final_date  dagen  \\\n",
       "0     False         NaN         NaN          20        NaT    NaN   \n",
       "1     False  14-07-2022         NaN         185 2022-07-14  162.0   \n",
       "2      True  02-11-2021         NaN          79 2021-11-02  451.0   \n",
       "3     False  22-10-2021         NaN           5 2021-10-22  186.0   \n",
       "4     False  05-10-2022         NaN           5 2022-10-05  127.0   \n",
       "...     ...         ...         ...         ...        ...    ...   \n",
       "1107   True         NaN  22-03-2022          69 2022-03-22  120.0   \n",
       "1108  False  22-10-2021         NaN         357 2021-10-22  251.0   \n",
       "1109  False  02-08-2022         NaN           3 2022-08-02   23.0   \n",
       "1110  False  07-08-2022         NaN          15 2022-08-07  204.0   \n",
       "1111  False  11-05-2022         NaN           9 2022-05-11  104.0   \n",
       "\n",
       "     Publicatiedatum Ministerie  \n",
       "0         06-10-2022        I&W  \n",
       "1         11-01-2023        I&W  \n",
       "2         27-02-2023        LNV  \n",
       "3         16-05-2022        FIN  \n",
       "4         09-02-2023        FIN  \n",
       "...              ...        ...  \n",
       "1107      20-07-2022        J&V  \n",
       "1108      30-06-2022        J&V  \n",
       "1109      25-08-2022        LNV  \n",
       "1110      27-02-2023        FIN  \n",
       "1111      23-08-2022        LNV  \n",
       "\n",
       "[1112 rows x 15 columns]"
      ]
     },
     "metadata": {},
     "output_type": "display_data"
    }
   ],
   "source": [
    "df_withOCR['Ministerie'] = df_withOCR['verantwoordelijke'].replace(ministerie_dict)\n",
    "display(df_withOCR)"
   ]
  },
  {
   "cell_type": "code",
   "execution_count": 274,
   "id": "0e0612cf",
   "metadata": {},
   "outputs": [],
   "source": [
    "#df_withOCR.to_csv(r'C:\\Users\\ramon\\Downloads\\PlotData.csv', index = False)"
   ]
  },
  {
   "cell_type": "code",
   "execution_count": null,
   "id": "36f29ef8",
   "metadata": {},
   "outputs": [],
   "source": []
  }
 ],
 "metadata": {
  "kernelspec": {
   "display_name": "Python 3 (ipykernel)",
   "language": "python",
   "name": "python3"
  },
  "language_info": {
   "codemirror_mode": {
    "name": "ipython",
    "version": 3
   },
   "file_extension": ".py",
   "mimetype": "text/x-python",
   "name": "python",
   "nbconvert_exporter": "python",
   "pygments_lexer": "ipython3",
   "version": "3.9.10"
  }
 },
 "nbformat": 4,
 "nbformat_minor": 5
}
