{
 "cells": [
  {
   "cell_type": "code",
   "execution_count": 25,
   "id": "550ff4e1",
   "metadata": {},
   "outputs": [],
   "source": [
    "from selenium import webdriver\n",
    "from selenium.webdriver.chrome.service import Service\n",
    "from webdriver_manager.chrome import ChromeDriverManager\n",
    "from selenium.webdriver.common.by import By\n",
    "import time\n",
    "from selenium.webdriver.support.ui import WebDriverWait\n",
    "from selenium.webdriver.support import expected_conditions as EC\n",
    "import pandas as pd\n",
    "import numpy as np\n",
    "import regex as re\n",
    "from bs4 import BeautifulSoup\n",
    "import requests\n",
    "import urllib\n",
    "from urllib.request import urlopen\n",
    "from selenium.common.exceptions import NoSuchElementException\n",
    "from collections import Counter"
   ]
  },
  {
   "cell_type": "code",
   "execution_count": 26,
   "id": "d3905bbc",
   "metadata": {
    "scrolled": true
   },
   "outputs": [
    {
     "data": {
      "text/html": [
       "<div>\n",
       "<style scoped>\n",
       "    .dataframe tbody tr th:only-of-type {\n",
       "        vertical-align: middle;\n",
       "    }\n",
       "\n",
       "    .dataframe tbody tr th {\n",
       "        vertical-align: top;\n",
       "    }\n",
       "\n",
       "    .dataframe thead th {\n",
       "        text-align: right;\n",
       "    }\n",
       "</style>\n",
       "<table border=\"1\" class=\"dataframe\">\n",
       "  <thead>\n",
       "    <tr style=\"text-align: right;\">\n",
       "      <th></th>\n",
       "      <th>Titel</th>\n",
       "      <th>Verzoek</th>\n",
       "      <th>Specifiek</th>\n",
       "      <th>Verantwoordelijke</th>\n",
       "      <th>Thema</th>\n",
       "      <th>Documentsoort</th>\n",
       "      <th>Publicatiedatum</th>\n",
       "      <th>Documentdatum</th>\n",
       "      <th>Onderwerp</th>\n",
       "      <th>url</th>\n",
       "      <th>verzoekdatum</th>\n",
       "    </tr>\n",
       "  </thead>\n",
       "  <tbody>\n",
       "    <tr>\n",
       "      <th>3040</th>\n",
       "      <td>Bijlagen deel 1 bij besluit op Woo-verzoek ove...</td>\n",
       "      <td>Bijlagen deel 1 bij besluit op Woo-verzoek ove...</td>\n",
       "      <td>Bijlagen 11-17 bij besluit op Woo-verzoek over...</td>\n",
       "      <td>Ministerie van Infrastructuur en Waterstaat</td>\n",
       "      <td>Water</td>\n",
       "      <td>Beslissing op Wob-/Woo-verzoek</td>\n",
       "      <td>06-03-2023</td>\n",
       "      <td>28-10-2022</td>\n",
       "      <td>NaN</td>\n",
       "      <td>https://open.overheid.nl/documenten/ronl-a624d...</td>\n",
       "      <td>NaN</td>\n",
       "    </tr>\n",
       "    <tr>\n",
       "      <th>3041</th>\n",
       "      <td>Besluit op Woo-verzoek over overeenkomst Arcad...</td>\n",
       "      <td>Besluit op Woo-verzoek over overeenkomst Arcadis</td>\n",
       "      <td>Lijst van documenten</td>\n",
       "      <td>Ministerie van Infrastructuur en Waterstaat</td>\n",
       "      <td>Water</td>\n",
       "      <td>Beslissing op Wob-/Woo-verzoek</td>\n",
       "      <td>06-03-2023</td>\n",
       "      <td>28-10-2022</td>\n",
       "      <td>NaN</td>\n",
       "      <td>https://open.overheid.nl/documenten/ronl-a77f8...</td>\n",
       "      <td>NaN</td>\n",
       "    </tr>\n",
       "    <tr>\n",
       "      <th>3042</th>\n",
       "      <td>Bijlagen deel 1 bij besluit op Woo-verzoek ove...</td>\n",
       "      <td>Bijlagen deel 1 bij besluit op Woo-verzoek ove...</td>\n",
       "      <td>Bijlage 20 bij besluit op Woo-verzoek over ove...</td>\n",
       "      <td>Ministerie van Infrastructuur en Waterstaat</td>\n",
       "      <td>Water</td>\n",
       "      <td>Beslissing op Wob-/Woo-verzoek</td>\n",
       "      <td>06-03-2023</td>\n",
       "      <td>28-10-2022</td>\n",
       "      <td>NaN</td>\n",
       "      <td>https://open.overheid.nl/documenten/ronl-a97fa...</td>\n",
       "      <td>NaN</td>\n",
       "    </tr>\n",
       "    <tr>\n",
       "      <th>3043</th>\n",
       "      <td>Bijlagen deel 1 bij besluit op Woo-verzoek ove...</td>\n",
       "      <td>Bijlagen deel 1 bij besluit op Woo-verzoek ove...</td>\n",
       "      <td>Bijlagen 22-23 bij besluit op Woo-verzoek over...</td>\n",
       "      <td>Ministerie van Infrastructuur en Waterstaat</td>\n",
       "      <td>Water</td>\n",
       "      <td>Beslissing op Wob-/Woo-verzoek</td>\n",
       "      <td>06-03-2023</td>\n",
       "      <td>28-10-2022</td>\n",
       "      <td>NaN</td>\n",
       "      <td>https://open.overheid.nl/documenten/ronl-c0708...</td>\n",
       "      <td>NaN</td>\n",
       "    </tr>\n",
       "    <tr>\n",
       "      <th>3044</th>\n",
       "      <td>Bijlagen deel 1 bij besluit op Woo-verzoek ove...</td>\n",
       "      <td>Bijlagen deel 1 bij besluit op Woo-verzoek ove...</td>\n",
       "      <td>Bijlagen 18-19 bij besluit op Woo-verzoek over...</td>\n",
       "      <td>Ministerie van Infrastructuur en Waterstaat</td>\n",
       "      <td>Water</td>\n",
       "      <td>Beslissing op Wob-/Woo-verzoek</td>\n",
       "      <td>06-03-2023</td>\n",
       "      <td>28-10-2022</td>\n",
       "      <td>NaN</td>\n",
       "      <td>https://open.overheid.nl/documenten/ronl-c9d13...</td>\n",
       "      <td>NaN</td>\n",
       "    </tr>\n",
       "    <tr>\n",
       "      <th>3045</th>\n",
       "      <td>Besluit op Woo-verzoek over meststoffen en afv...</td>\n",
       "      <td>Besluit op Woo-verzoek over meststoffen en afv...</td>\n",
       "      <td>NaN</td>\n",
       "      <td>Ministerie van Landbouw, Natuur en Voedselkwal...</td>\n",
       "      <td>Stoffen</td>\n",
       "      <td>Beslissing op Wob-/Woo-verzoek</td>\n",
       "      <td>06-03-2023</td>\n",
       "      <td>03-03-2023</td>\n",
       "      <td>Mest</td>\n",
       "      <td>https://open.overheid.nl/documenten/ronl-cbaf4...</td>\n",
       "      <td>23-05-2022</td>\n",
       "    </tr>\n",
       "    <tr>\n",
       "      <th>3046</th>\n",
       "      <td>Besluit Woo-verzoek ECER-website - Openbaar ge...</td>\n",
       "      <td>Besluit Woo-verzoek ECER-website</td>\n",
       "      <td>Openbaar gemaakte documenten deel 1</td>\n",
       "      <td>Ministerie van Buitenlandse Zaken</td>\n",
       "      <td>Europese zaken</td>\n",
       "      <td>Beslissing op Wob-/Woo-verzoek</td>\n",
       "      <td>06-03-2023</td>\n",
       "      <td>08-02-2023</td>\n",
       "      <td>Europese Unie</td>\n",
       "      <td>https://open.overheid.nl/documenten/ronl-da28a...</td>\n",
       "      <td>NaN</td>\n",
       "    </tr>\n",
       "    <tr>\n",
       "      <th>3047</th>\n",
       "      <td>Besluit op Woo-verzoek over aanvraag tot verpl...</td>\n",
       "      <td>Besluit op Woo-verzoek over aanvraag tot verpl...</td>\n",
       "      <td>Woo-verzoek aanvraag verplichtstelling deelnem...</td>\n",
       "      <td>Ministerie van Sociale Zaken en Werkgelegenheid</td>\n",
       "      <td>['Arbeidsverhoudingen', 'Arbeidsverhoudingen']</td>\n",
       "      <td>Beslissing op Wob-/Woo-verzoek</td>\n",
       "      <td>06-03-2023</td>\n",
       "      <td>03-03-2023</td>\n",
       "      <td>['Arbeidsovereenkomst en cao', 'Pensioen']</td>\n",
       "      <td>https://open.overheid.nl/documenten/ronl-e1591...</td>\n",
       "      <td>19-05-2022</td>\n",
       "    </tr>\n",
       "    <tr>\n",
       "      <th>3048</th>\n",
       "      <td>Bijlagen deel 3 bij besluit op Woo-verzoek ove...</td>\n",
       "      <td>Bijlagen deel 3 bij besluit op Woo-verzoek ove...</td>\n",
       "      <td>Bijlagen 195-197 bij besluit op Woo-verzoek ov...</td>\n",
       "      <td>Ministerie van Infrastructuur en Waterstaat</td>\n",
       "      <td>Water</td>\n",
       "      <td>Beslissing op Wob-/Woo-verzoek</td>\n",
       "      <td>06-03-2023</td>\n",
       "      <td>28-10-2022</td>\n",
       "      <td>NaN</td>\n",
       "      <td>https://open.overheid.nl/documenten/ronl-e1644...</td>\n",
       "      <td>NaN</td>\n",
       "    </tr>\n",
       "    <tr>\n",
       "      <th>3049</th>\n",
       "      <td>Bijlagen deel 2 bij besluit op Woo-verzoek ove...</td>\n",
       "      <td>Bijlagen deel 2 bij besluit op Woo-verzoek ove...</td>\n",
       "      <td>Bijlagen 43-50 bij besluit op Woo-verzoek over...</td>\n",
       "      <td>Ministerie van Infrastructuur en Waterstaat</td>\n",
       "      <td>Water</td>\n",
       "      <td>Beslissing op Wob-/Woo-verzoek</td>\n",
       "      <td>06-03-2023</td>\n",
       "      <td>28-10-2022</td>\n",
       "      <td>NaN</td>\n",
       "      <td>https://open.overheid.nl/documenten/ronl-e36fc...</td>\n",
       "      <td>NaN</td>\n",
       "    </tr>\n",
       "    <tr>\n",
       "      <th>3050</th>\n",
       "      <td>Besluit op Woo-verzoek over landbouwregistrati...</td>\n",
       "      <td>Besluit op Woo-verzoek over landbouwregistrati...</td>\n",
       "      <td>NaN</td>\n",
       "      <td>Ministerie van Landbouw, Natuur en Voedselkwal...</td>\n",
       "      <td>Landbouw, visserij, voedselkwaliteit</td>\n",
       "      <td>Beslissing op Wob-/Woo-verzoek</td>\n",
       "      <td>06-03-2023</td>\n",
       "      <td>01-03-2023</td>\n",
       "      <td>Veehouderij</td>\n",
       "      <td>https://open.overheid.nl/documenten/ronl-ebaf9...</td>\n",
       "      <td>NaN</td>\n",
       "    </tr>\n",
       "    <tr>\n",
       "      <th>3051</th>\n",
       "      <td>Besluit Woo-verzoek over het smaakstoffen-rapp...</td>\n",
       "      <td>Besluit Woo-verzoek over het smaakstoffen-rapport</td>\n",
       "      <td>Woo-besluit en inventarislijst over het smaaks...</td>\n",
       "      <td>Ministerie van Volksgezondheid, Welzijn en Sport</td>\n",
       "      <td>Gezondheidsrisico's</td>\n",
       "      <td>Beslissing op Wob-/Woo-verzoek</td>\n",
       "      <td>06-03-2023</td>\n",
       "      <td>21-02-2023</td>\n",
       "      <td>Roken</td>\n",
       "      <td>https://open.overheid.nl/documenten/ronl-ee530...</td>\n",
       "      <td>14-06-2022</td>\n",
       "    </tr>\n",
       "    <tr>\n",
       "      <th>3052</th>\n",
       "      <td>Besluit op Wob-/Woo-verzoek over openbaarmakin...</td>\n",
       "      <td>Besluit op Wob-/Woo-verzoek over openbaarmakin...</td>\n",
       "      <td>NaN</td>\n",
       "      <td>Ministerie van Landbouw, Natuur en Voedselkwal...</td>\n",
       "      <td>['Natuur en landschapsbeheer', 'Landbouw visse...</td>\n",
       "      <td>Beslissing op Wob-/Woo-verzoek</td>\n",
       "      <td>06-03-2023</td>\n",
       "      <td>24-02-2023</td>\n",
       "      <td>['Dierenwelzijn', 'Diergezondheid', 'Wetgeving']</td>\n",
       "      <td>https://open.overheid.nl/documenten/ronl-ef91a...</td>\n",
       "      <td>14-07-2021</td>\n",
       "    </tr>\n",
       "    <tr>\n",
       "      <th>3053</th>\n",
       "      <td>Bijlagen deel 1 bij besluit op Woo-verzoek ove...</td>\n",
       "      <td>Bijlagen deel 1 bij besluit op Woo-verzoek ove...</td>\n",
       "      <td>Bijlage 25 bij besluit op Woo-verzoek over ove...</td>\n",
       "      <td>Ministerie van Infrastructuur en Waterstaat</td>\n",
       "      <td>Water</td>\n",
       "      <td>Beslissing op Wob-/Woo-verzoek</td>\n",
       "      <td>06-03-2023</td>\n",
       "      <td>28-10-2022</td>\n",
       "      <td>NaN</td>\n",
       "      <td>https://open.overheid.nl/documenten/ronl-f7489...</td>\n",
       "      <td>NaN</td>\n",
       "    </tr>\n",
       "    <tr>\n",
       "      <th>3054</th>\n",
       "      <td>Besluit Woo-verzoek ECER-website - Openbaar ge...</td>\n",
       "      <td>Besluit Woo-verzoek ECER-website</td>\n",
       "      <td>Openbaar gemaakte documenten deel 2</td>\n",
       "      <td>Ministerie van Buitenlandse Zaken</td>\n",
       "      <td>Europese zaken</td>\n",
       "      <td>Beslissing op Wob-/Woo-verzoek</td>\n",
       "      <td>06-03-2023</td>\n",
       "      <td>08-02-2023</td>\n",
       "      <td>Europese Unie</td>\n",
       "      <td>https://open.overheid.nl/documenten/ronl-f823c...</td>\n",
       "      <td>NaN</td>\n",
       "    </tr>\n",
       "    <tr>\n",
       "      <th>3055</th>\n",
       "      <td>Besluit Woo-verzoek aangepaste werkwijze gezin...</td>\n",
       "      <td>Besluit Woo-verzoek aangepaste werkwijze gezin...</td>\n",
       "      <td>Besluit en lijst van documenten</td>\n",
       "      <td>Ministerie van Buitenlandse Zaken</td>\n",
       "      <td>Migratie</td>\n",
       "      <td>Beslissing op Wob-/Woo-verzoek</td>\n",
       "      <td>06-03-2023</td>\n",
       "      <td>15-02-2023</td>\n",
       "      <td>Asielbeleid</td>\n",
       "      <td>https://open.overheid.nl/documenten/ronl-fcb5a...</td>\n",
       "      <td>NaN</td>\n",
       "    </tr>\n",
       "    <tr>\n",
       "      <th>3056</th>\n",
       "      <td>Besluit op Woo-verzoek over kennisgeving onder...</td>\n",
       "      <td>Besluit op Woo-verzoek over kennisgeving onder...</td>\n",
       "      <td>Besluit</td>\n",
       "      <td>Ministerie van Infrastructuur en Waterstaat</td>\n",
       "      <td>Onbekend thema</td>\n",
       "      <td>Beslissing op Wob-/Woo-verzoek</td>\n",
       "      <td>07-03-2023</td>\n",
       "      <td>02-02-2023</td>\n",
       "      <td>NaN</td>\n",
       "      <td>https://open.overheid.nl/documenten/ronl-16bf3...</td>\n",
       "      <td>09-12-2022</td>\n",
       "    </tr>\n",
       "    <tr>\n",
       "      <th>3057</th>\n",
       "      <td>Besluit op Woo-verzoek over kennisgeving onder...</td>\n",
       "      <td>Besluit op Woo-verzoek over kennisgeving onder...</td>\n",
       "      <td>Bijlagen</td>\n",
       "      <td>Ministerie van Infrastructuur en Waterstaat</td>\n",
       "      <td>Onbekend thema</td>\n",
       "      <td>Beslissing op Wob-/Woo-verzoek</td>\n",
       "      <td>07-03-2023</td>\n",
       "      <td>02-02-2023</td>\n",
       "      <td>NaN</td>\n",
       "      <td>https://open.overheid.nl/documenten/ronl-21c18...</td>\n",
       "      <td>NaN</td>\n",
       "    </tr>\n",
       "    <tr>\n",
       "      <th>3058</th>\n",
       "      <td>Besluit op Woo-verzoek over lozingsvergunning ...</td>\n",
       "      <td>Besluit op Woo-verzoek over lozingsvergunning ...</td>\n",
       "      <td>NaN</td>\n",
       "      <td>Ministerie van Infrastructuur en Waterstaat</td>\n",
       "      <td>Water</td>\n",
       "      <td>Beslissing op Wob-/Woo-verzoek</td>\n",
       "      <td>07-03-2023</td>\n",
       "      <td>01-03-2023</td>\n",
       "      <td>NaN</td>\n",
       "      <td>https://open.overheid.nl/documenten/ronl-37873...</td>\n",
       "      <td>NaN</td>\n",
       "    </tr>\n",
       "    <tr>\n",
       "      <th>3059</th>\n",
       "      <td>Besluit op Woo-verzoek over uitgezonden percen...</td>\n",
       "      <td>Besluit op Woo-verzoek over uitgezonden percen...</td>\n",
       "      <td>NaN</td>\n",
       "      <td>Ministerie van Economische Zaken en Klimaat</td>\n",
       "      <td>['Dienstensector', 'Media']</td>\n",
       "      <td>Beslissing op Wob-/Woo-verzoek</td>\n",
       "      <td>07-03-2023</td>\n",
       "      <td>03-03-2023</td>\n",
       "      <td>['Telecommunicatie', 'Media en publieke omroep']</td>\n",
       "      <td>https://open.overheid.nl/documenten/ronl-b937a...</td>\n",
       "      <td>NaN</td>\n",
       "    </tr>\n",
       "    <tr>\n",
       "      <th>3060</th>\n",
       "      <td>Besluit op Woo-verzoek over kennisgeving onder...</td>\n",
       "      <td>Besluit op Woo-verzoek over kennisgeving onder...</td>\n",
       "      <td>Inventaris</td>\n",
       "      <td>Ministerie van Infrastructuur en Waterstaat</td>\n",
       "      <td>Onbekend thema</td>\n",
       "      <td>Beslissing op Wob-/Woo-verzoek</td>\n",
       "      <td>07-03-2023</td>\n",
       "      <td>02-02-2023</td>\n",
       "      <td>NaN</td>\n",
       "      <td>https://open.overheid.nl/documenten/ronl-f3467...</td>\n",
       "      <td>NaN</td>\n",
       "    </tr>\n",
       "  </tbody>\n",
       "</table>\n",
       "</div>"
      ],
      "text/plain": [
       "                                                  Titel  \\\n",
       "3040  Bijlagen deel 1 bij besluit op Woo-verzoek ove...   \n",
       "3041  Besluit op Woo-verzoek over overeenkomst Arcad...   \n",
       "3042  Bijlagen deel 1 bij besluit op Woo-verzoek ove...   \n",
       "3043  Bijlagen deel 1 bij besluit op Woo-verzoek ove...   \n",
       "3044  Bijlagen deel 1 bij besluit op Woo-verzoek ove...   \n",
       "3045  Besluit op Woo-verzoek over meststoffen en afv...   \n",
       "3046  Besluit Woo-verzoek ECER-website - Openbaar ge...   \n",
       "3047  Besluit op Woo-verzoek over aanvraag tot verpl...   \n",
       "3048  Bijlagen deel 3 bij besluit op Woo-verzoek ove...   \n",
       "3049  Bijlagen deel 2 bij besluit op Woo-verzoek ove...   \n",
       "3050  Besluit op Woo-verzoek over landbouwregistrati...   \n",
       "3051  Besluit Woo-verzoek over het smaakstoffen-rapp...   \n",
       "3052  Besluit op Wob-/Woo-verzoek over openbaarmakin...   \n",
       "3053  Bijlagen deel 1 bij besluit op Woo-verzoek ove...   \n",
       "3054  Besluit Woo-verzoek ECER-website - Openbaar ge...   \n",
       "3055  Besluit Woo-verzoek aangepaste werkwijze gezin...   \n",
       "3056  Besluit op Woo-verzoek over kennisgeving onder...   \n",
       "3057  Besluit op Woo-verzoek over kennisgeving onder...   \n",
       "3058  Besluit op Woo-verzoek over lozingsvergunning ...   \n",
       "3059  Besluit op Woo-verzoek over uitgezonden percen...   \n",
       "3060  Besluit op Woo-verzoek over kennisgeving onder...   \n",
       "\n",
       "                                                Verzoek  \\\n",
       "3040  Bijlagen deel 1 bij besluit op Woo-verzoek ove...   \n",
       "3041   Besluit op Woo-verzoek over overeenkomst Arcadis   \n",
       "3042  Bijlagen deel 1 bij besluit op Woo-verzoek ove...   \n",
       "3043  Bijlagen deel 1 bij besluit op Woo-verzoek ove...   \n",
       "3044  Bijlagen deel 1 bij besluit op Woo-verzoek ove...   \n",
       "3045  Besluit op Woo-verzoek over meststoffen en afv...   \n",
       "3046                   Besluit Woo-verzoek ECER-website   \n",
       "3047  Besluit op Woo-verzoek over aanvraag tot verpl...   \n",
       "3048  Bijlagen deel 3 bij besluit op Woo-verzoek ove...   \n",
       "3049  Bijlagen deel 2 bij besluit op Woo-verzoek ove...   \n",
       "3050  Besluit op Woo-verzoek over landbouwregistrati...   \n",
       "3051  Besluit Woo-verzoek over het smaakstoffen-rapport   \n",
       "3052  Besluit op Wob-/Woo-verzoek over openbaarmakin...   \n",
       "3053  Bijlagen deel 1 bij besluit op Woo-verzoek ove...   \n",
       "3054                   Besluit Woo-verzoek ECER-website   \n",
       "3055  Besluit Woo-verzoek aangepaste werkwijze gezin...   \n",
       "3056  Besluit op Woo-verzoek over kennisgeving onder...   \n",
       "3057  Besluit op Woo-verzoek over kennisgeving onder...   \n",
       "3058  Besluit op Woo-verzoek over lozingsvergunning ...   \n",
       "3059  Besluit op Woo-verzoek over uitgezonden percen...   \n",
       "3060  Besluit op Woo-verzoek over kennisgeving onder...   \n",
       "\n",
       "                                              Specifiek  \\\n",
       "3040  Bijlagen 11-17 bij besluit op Woo-verzoek over...   \n",
       "3041                               Lijst van documenten   \n",
       "3042  Bijlage 20 bij besluit op Woo-verzoek over ove...   \n",
       "3043  Bijlagen 22-23 bij besluit op Woo-verzoek over...   \n",
       "3044  Bijlagen 18-19 bij besluit op Woo-verzoek over...   \n",
       "3045                                                NaN   \n",
       "3046                Openbaar gemaakte documenten deel 1   \n",
       "3047  Woo-verzoek aanvraag verplichtstelling deelnem...   \n",
       "3048  Bijlagen 195-197 bij besluit op Woo-verzoek ov...   \n",
       "3049  Bijlagen 43-50 bij besluit op Woo-verzoek over...   \n",
       "3050                                                NaN   \n",
       "3051  Woo-besluit en inventarislijst over het smaaks...   \n",
       "3052                                                NaN   \n",
       "3053  Bijlage 25 bij besluit op Woo-verzoek over ove...   \n",
       "3054                Openbaar gemaakte documenten deel 2   \n",
       "3055                    Besluit en lijst van documenten   \n",
       "3056                                            Besluit   \n",
       "3057                                           Bijlagen   \n",
       "3058                                                NaN   \n",
       "3059                                                NaN   \n",
       "3060                                         Inventaris   \n",
       "\n",
       "                                      Verantwoordelijke  \\\n",
       "3040        Ministerie van Infrastructuur en Waterstaat   \n",
       "3041        Ministerie van Infrastructuur en Waterstaat   \n",
       "3042        Ministerie van Infrastructuur en Waterstaat   \n",
       "3043        Ministerie van Infrastructuur en Waterstaat   \n",
       "3044        Ministerie van Infrastructuur en Waterstaat   \n",
       "3045  Ministerie van Landbouw, Natuur en Voedselkwal...   \n",
       "3046                  Ministerie van Buitenlandse Zaken   \n",
       "3047    Ministerie van Sociale Zaken en Werkgelegenheid   \n",
       "3048        Ministerie van Infrastructuur en Waterstaat   \n",
       "3049        Ministerie van Infrastructuur en Waterstaat   \n",
       "3050  Ministerie van Landbouw, Natuur en Voedselkwal...   \n",
       "3051   Ministerie van Volksgezondheid, Welzijn en Sport   \n",
       "3052  Ministerie van Landbouw, Natuur en Voedselkwal...   \n",
       "3053        Ministerie van Infrastructuur en Waterstaat   \n",
       "3054                  Ministerie van Buitenlandse Zaken   \n",
       "3055                  Ministerie van Buitenlandse Zaken   \n",
       "3056        Ministerie van Infrastructuur en Waterstaat   \n",
       "3057        Ministerie van Infrastructuur en Waterstaat   \n",
       "3058        Ministerie van Infrastructuur en Waterstaat   \n",
       "3059        Ministerie van Economische Zaken en Klimaat   \n",
       "3060        Ministerie van Infrastructuur en Waterstaat   \n",
       "\n",
       "                                                  Thema  \\\n",
       "3040                                              Water   \n",
       "3041                                              Water   \n",
       "3042                                              Water   \n",
       "3043                                              Water   \n",
       "3044                                              Water   \n",
       "3045                                            Stoffen   \n",
       "3046                                     Europese zaken   \n",
       "3047     ['Arbeidsverhoudingen', 'Arbeidsverhoudingen']   \n",
       "3048                                              Water   \n",
       "3049                                              Water   \n",
       "3050               Landbouw, visserij, voedselkwaliteit   \n",
       "3051                                Gezondheidsrisico's   \n",
       "3052  ['Natuur en landschapsbeheer', 'Landbouw visse...   \n",
       "3053                                              Water   \n",
       "3054                                     Europese zaken   \n",
       "3055                                           Migratie   \n",
       "3056                                     Onbekend thema   \n",
       "3057                                     Onbekend thema   \n",
       "3058                                              Water   \n",
       "3059                        ['Dienstensector', 'Media']   \n",
       "3060                                     Onbekend thema   \n",
       "\n",
       "                       Documentsoort Publicatiedatum Documentdatum  \\\n",
       "3040  Beslissing op Wob-/Woo-verzoek      06-03-2023    28-10-2022   \n",
       "3041  Beslissing op Wob-/Woo-verzoek      06-03-2023    28-10-2022   \n",
       "3042  Beslissing op Wob-/Woo-verzoek      06-03-2023    28-10-2022   \n",
       "3043  Beslissing op Wob-/Woo-verzoek      06-03-2023    28-10-2022   \n",
       "3044  Beslissing op Wob-/Woo-verzoek      06-03-2023    28-10-2022   \n",
       "3045  Beslissing op Wob-/Woo-verzoek      06-03-2023    03-03-2023   \n",
       "3046  Beslissing op Wob-/Woo-verzoek      06-03-2023    08-02-2023   \n",
       "3047  Beslissing op Wob-/Woo-verzoek      06-03-2023    03-03-2023   \n",
       "3048  Beslissing op Wob-/Woo-verzoek      06-03-2023    28-10-2022   \n",
       "3049  Beslissing op Wob-/Woo-verzoek      06-03-2023    28-10-2022   \n",
       "3050  Beslissing op Wob-/Woo-verzoek      06-03-2023    01-03-2023   \n",
       "3051  Beslissing op Wob-/Woo-verzoek      06-03-2023    21-02-2023   \n",
       "3052  Beslissing op Wob-/Woo-verzoek      06-03-2023    24-02-2023   \n",
       "3053  Beslissing op Wob-/Woo-verzoek      06-03-2023    28-10-2022   \n",
       "3054  Beslissing op Wob-/Woo-verzoek      06-03-2023    08-02-2023   \n",
       "3055  Beslissing op Wob-/Woo-verzoek      06-03-2023    15-02-2023   \n",
       "3056  Beslissing op Wob-/Woo-verzoek      07-03-2023    02-02-2023   \n",
       "3057  Beslissing op Wob-/Woo-verzoek      07-03-2023    02-02-2023   \n",
       "3058  Beslissing op Wob-/Woo-verzoek      07-03-2023    01-03-2023   \n",
       "3059  Beslissing op Wob-/Woo-verzoek      07-03-2023    03-03-2023   \n",
       "3060  Beslissing op Wob-/Woo-verzoek      07-03-2023    02-02-2023   \n",
       "\n",
       "                                             Onderwerp  \\\n",
       "3040                                               NaN   \n",
       "3041                                               NaN   \n",
       "3042                                               NaN   \n",
       "3043                                               NaN   \n",
       "3044                                               NaN   \n",
       "3045                                              Mest   \n",
       "3046                                     Europese Unie   \n",
       "3047        ['Arbeidsovereenkomst en cao', 'Pensioen']   \n",
       "3048                                               NaN   \n",
       "3049                                               NaN   \n",
       "3050                                       Veehouderij   \n",
       "3051                                             Roken   \n",
       "3052  ['Dierenwelzijn', 'Diergezondheid', 'Wetgeving']   \n",
       "3053                                               NaN   \n",
       "3054                                     Europese Unie   \n",
       "3055                                       Asielbeleid   \n",
       "3056                                               NaN   \n",
       "3057                                               NaN   \n",
       "3058                                               NaN   \n",
       "3059  ['Telecommunicatie', 'Media en publieke omroep']   \n",
       "3060                                               NaN   \n",
       "\n",
       "                                                    url verzoekdatum  \n",
       "3040  https://open.overheid.nl/documenten/ronl-a624d...          NaN  \n",
       "3041  https://open.overheid.nl/documenten/ronl-a77f8...          NaN  \n",
       "3042  https://open.overheid.nl/documenten/ronl-a97fa...          NaN  \n",
       "3043  https://open.overheid.nl/documenten/ronl-c0708...          NaN  \n",
       "3044  https://open.overheid.nl/documenten/ronl-c9d13...          NaN  \n",
       "3045  https://open.overheid.nl/documenten/ronl-cbaf4...   23-05-2022  \n",
       "3046  https://open.overheid.nl/documenten/ronl-da28a...          NaN  \n",
       "3047  https://open.overheid.nl/documenten/ronl-e1591...   19-05-2022  \n",
       "3048  https://open.overheid.nl/documenten/ronl-e1644...          NaN  \n",
       "3049  https://open.overheid.nl/documenten/ronl-e36fc...          NaN  \n",
       "3050  https://open.overheid.nl/documenten/ronl-ebaf9...          NaN  \n",
       "3051  https://open.overheid.nl/documenten/ronl-ee530...   14-06-2022  \n",
       "3052  https://open.overheid.nl/documenten/ronl-ef91a...   14-07-2021  \n",
       "3053  https://open.overheid.nl/documenten/ronl-f7489...          NaN  \n",
       "3054  https://open.overheid.nl/documenten/ronl-f823c...          NaN  \n",
       "3055  https://open.overheid.nl/documenten/ronl-fcb5a...          NaN  \n",
       "3056  https://open.overheid.nl/documenten/ronl-16bf3...   09-12-2022  \n",
       "3057  https://open.overheid.nl/documenten/ronl-21c18...          NaN  \n",
       "3058  https://open.overheid.nl/documenten/ronl-37873...          NaN  \n",
       "3059  https://open.overheid.nl/documenten/ronl-b937a...          NaN  \n",
       "3060  https://open.overheid.nl/documenten/ronl-f3467...          NaN  "
      ]
     },
     "metadata": {},
     "output_type": "display_data"
    }
   ],
   "source": [
    "Dataframe = pd.read_csv('Woo-5-mei.csv')\n",
    "\n",
    "display(Dataframe[3040:])"
   ]
  },
  {
   "cell_type": "markdown",
   "id": "c3eefd38",
   "metadata": {},
   "source": [
    "Deelbesluiten etc omzetten tot gewoon besluit. "
   ]
  },
  {
   "cell_type": "code",
   "execution_count": 27,
   "id": "aedce7be",
   "metadata": {},
   "outputs": [],
   "source": [
    "def eerstwrd(woord):\n",
    "    \n",
    "    eerste3woorden = woord.split(' ')[:3]\n",
    "    string = ' '.join(eerste3woorden)\n",
    "    \n",
    "    if 'besluit' in string:\n",
    "        if eerste3woorden[2].isnumeric() == True:\n",
    "            Split = woord.split(eerste3woorden[2])\n",
    "        elif eerste3woorden[1].isnumeric() == True:\n",
    "            Split = woord.split(eerste3woorden[1])    \n",
    "            \n",
    "        else:\n",
    "            Split = woord.split('besluit')\n",
    "        \n",
    "        return 'Besluit' + Split[1]\n",
    "    \n",
    "    elif 'beslissing' in string:\n",
    "        \n",
    "        if eerste3woorden[2].isnumeric() == True:\n",
    "            Split = woord.split(eerste3woorden[2])\n",
    "        elif eerste3woorden[1].isnumeric() == True:\n",
    "            Split = woord.split(eerste3woorden[1])    \n",
    "        else:\n",
    "            Split = woord.split('beslissing')\n",
    "            \n",
    "        return 'Beslissing' + Split[1]\n",
    "    \n",
    "    else:\n",
    "        return woord"
   ]
  },
  {
   "cell_type": "code",
   "execution_count": 28,
   "id": "f7a2add3",
   "metadata": {},
   "outputs": [
    {
     "data": {
      "text/html": [
       "<div>\n",
       "<style scoped>\n",
       "    .dataframe tbody tr th:only-of-type {\n",
       "        vertical-align: middle;\n",
       "    }\n",
       "\n",
       "    .dataframe tbody tr th {\n",
       "        vertical-align: top;\n",
       "    }\n",
       "\n",
       "    .dataframe thead th {\n",
       "        text-align: right;\n",
       "    }\n",
       "</style>\n",
       "<table border=\"1\" class=\"dataframe\">\n",
       "  <thead>\n",
       "    <tr style=\"text-align: right;\">\n",
       "      <th></th>\n",
       "      <th>Titel</th>\n",
       "      <th>Verzoek</th>\n",
       "      <th>Specifiek</th>\n",
       "      <th>Verantwoordelijke</th>\n",
       "      <th>Thema</th>\n",
       "      <th>Documentsoort</th>\n",
       "      <th>Publicatiedatum</th>\n",
       "      <th>Documentdatum</th>\n",
       "      <th>Onderwerp</th>\n",
       "      <th>url</th>\n",
       "      <th>verzoekdatum</th>\n",
       "    </tr>\n",
       "  </thead>\n",
       "  <tbody>\n",
       "    <tr>\n",
       "      <th>0</th>\n",
       "      <td>Besluit op Wob-verzoek over aankoop van het sc...</td>\n",
       "      <td>Besluit op Wob-verzoek over aankoop van het sc...</td>\n",
       "      <td>NaN</td>\n",
       "      <td>Ministerie van Onderwijs, Cultuur en Wetenschap</td>\n",
       "      <td>Cultuur</td>\n",
       "      <td>Beslissing op Wob-/Woo-verzoek</td>\n",
       "      <td>02-05-2022</td>\n",
       "      <td>2022-04-29</td>\n",
       "      <td>Kunst en cultuur</td>\n",
       "      <td>https://open.overheid.nl/documenten/ronl-0b4b7...</td>\n",
       "      <td>NaN</td>\n",
       "    </tr>\n",
       "    <tr>\n",
       "      <th>1</th>\n",
       "      <td>Besluit op Wob-verzoek over het op afstand pla...</td>\n",
       "      <td>Besluit op Wob-verzoek over het op afstand pla...</td>\n",
       "      <td>bijlagen bij Wob-verzoek over op afstand plaat...</td>\n",
       "      <td>Ministerie van Financiën</td>\n",
       "      <td>Onbekend thema</td>\n",
       "      <td>Beslissing op Wob-/Woo-verzoek</td>\n",
       "      <td>02-05-2022</td>\n",
       "      <td>2022-04-29</td>\n",
       "      <td>NaN</td>\n",
       "      <td>https://open.overheid.nl/documenten/ronl-232e7...</td>\n",
       "      <td>NaN</td>\n",
       "    </tr>\n",
       "    <tr>\n",
       "      <th>2</th>\n",
       "      <td>Besluit op Wob-verzoek over aankoop van het sc...</td>\n",
       "      <td>Besluit op Wob-verzoek over aankoop van het sc...</td>\n",
       "      <td>Inventarislijst Wob-verzoek over aankoop van s...</td>\n",
       "      <td>Ministerie van Onderwijs, Cultuur en Wetenschap</td>\n",
       "      <td>Cultuur</td>\n",
       "      <td>Beslissing op Wob-/Woo-verzoek</td>\n",
       "      <td>02-05-2022</td>\n",
       "      <td>2022-04-29</td>\n",
       "      <td>Kunst en cultuur</td>\n",
       "      <td>https://open.overheid.nl/documenten/ronl-2af63...</td>\n",
       "      <td>NaN</td>\n",
       "    </tr>\n",
       "    <tr>\n",
       "      <th>3</th>\n",
       "      <td>Besluit op Wob-verzoek over aankoop van het sc...</td>\n",
       "      <td>Besluit op Wob-verzoek over aankoop van het sc...</td>\n",
       "      <td>NaN</td>\n",
       "      <td>Ministerie van Onderwijs, Cultuur en Wetenschap</td>\n",
       "      <td>Cultuur</td>\n",
       "      <td>Beslissing op Wob-/Woo-verzoek</td>\n",
       "      <td>02-05-2022</td>\n",
       "      <td>2022-04-29</td>\n",
       "      <td>Kunst en cultuur</td>\n",
       "      <td>https://open.overheid.nl/documenten/ronl-3210e...</td>\n",
       "      <td>NaN</td>\n",
       "    </tr>\n",
       "    <tr>\n",
       "      <th>4</th>\n",
       "      <td>Besluit op Wob-verzoek correspondentie over st...</td>\n",
       "      <td>Besluit op Wob-verzoek correspondentie over st...</td>\n",
       "      <td>wobbesluit-staatssteunaspecten-bik.pdf</td>\n",
       "      <td>Ministerie van Financiën</td>\n",
       "      <td>Inkoop en beheer</td>\n",
       "      <td>Beslissing op Wob-/Woo-verzoek</td>\n",
       "      <td>02-05-2022</td>\n",
       "      <td>2022-04-29</td>\n",
       "      <td>Staatssteun</td>\n",
       "      <td>https://open.overheid.nl/documenten/ronl-3c18a...</td>\n",
       "      <td>09-07-2021</td>\n",
       "    </tr>\n",
       "    <tr>\n",
       "      <th>...</th>\n",
       "      <td>...</td>\n",
       "      <td>...</td>\n",
       "      <td>...</td>\n",
       "      <td>...</td>\n",
       "      <td>...</td>\n",
       "      <td>...</td>\n",
       "      <td>...</td>\n",
       "      <td>...</td>\n",
       "      <td>...</td>\n",
       "      <td>...</td>\n",
       "      <td>...</td>\n",
       "    </tr>\n",
       "    <tr>\n",
       "      <th>3056</th>\n",
       "      <td>Besluit op Woo-verzoek over kennisgeving onder...</td>\n",
       "      <td>Besluit op Woo-verzoek over kennisgeving onder...</td>\n",
       "      <td>Besluit</td>\n",
       "      <td>Ministerie van Infrastructuur en Waterstaat</td>\n",
       "      <td>Onbekend thema</td>\n",
       "      <td>Beslissing op Wob-/Woo-verzoek</td>\n",
       "      <td>07-03-2023</td>\n",
       "      <td>2023-02-02</td>\n",
       "      <td>NaN</td>\n",
       "      <td>https://open.overheid.nl/documenten/ronl-16bf3...</td>\n",
       "      <td>09-12-2022</td>\n",
       "    </tr>\n",
       "    <tr>\n",
       "      <th>3057</th>\n",
       "      <td>Besluit op Woo-verzoek over kennisgeving onder...</td>\n",
       "      <td>Besluit op Woo-verzoek over kennisgeving onder...</td>\n",
       "      <td>Bijlagen</td>\n",
       "      <td>Ministerie van Infrastructuur en Waterstaat</td>\n",
       "      <td>Onbekend thema</td>\n",
       "      <td>Beslissing op Wob-/Woo-verzoek</td>\n",
       "      <td>07-03-2023</td>\n",
       "      <td>2023-02-02</td>\n",
       "      <td>NaN</td>\n",
       "      <td>https://open.overheid.nl/documenten/ronl-21c18...</td>\n",
       "      <td>NaN</td>\n",
       "    </tr>\n",
       "    <tr>\n",
       "      <th>3058</th>\n",
       "      <td>Besluit op Woo-verzoek over lozingsvergunning ...</td>\n",
       "      <td>Besluit op Woo-verzoek over lozingsvergunning ...</td>\n",
       "      <td>NaN</td>\n",
       "      <td>Ministerie van Infrastructuur en Waterstaat</td>\n",
       "      <td>Water</td>\n",
       "      <td>Beslissing op Wob-/Woo-verzoek</td>\n",
       "      <td>07-03-2023</td>\n",
       "      <td>2023-03-01</td>\n",
       "      <td>NaN</td>\n",
       "      <td>https://open.overheid.nl/documenten/ronl-37873...</td>\n",
       "      <td>NaN</td>\n",
       "    </tr>\n",
       "    <tr>\n",
       "      <th>3059</th>\n",
       "      <td>Besluit op Woo-verzoek over uitgezonden percen...</td>\n",
       "      <td>Besluit op Woo-verzoek over uitgezonden percen...</td>\n",
       "      <td>NaN</td>\n",
       "      <td>Ministerie van Economische Zaken en Klimaat</td>\n",
       "      <td>['Dienstensector', 'Media']</td>\n",
       "      <td>Beslissing op Wob-/Woo-verzoek</td>\n",
       "      <td>07-03-2023</td>\n",
       "      <td>2023-03-03</td>\n",
       "      <td>['Telecommunicatie', 'Media en publieke omroep']</td>\n",
       "      <td>https://open.overheid.nl/documenten/ronl-b937a...</td>\n",
       "      <td>NaN</td>\n",
       "    </tr>\n",
       "    <tr>\n",
       "      <th>3060</th>\n",
       "      <td>Besluit op Woo-verzoek over kennisgeving onder...</td>\n",
       "      <td>Besluit op Woo-verzoek over kennisgeving onder...</td>\n",
       "      <td>Inventaris</td>\n",
       "      <td>Ministerie van Infrastructuur en Waterstaat</td>\n",
       "      <td>Onbekend thema</td>\n",
       "      <td>Beslissing op Wob-/Woo-verzoek</td>\n",
       "      <td>07-03-2023</td>\n",
       "      <td>2023-02-02</td>\n",
       "      <td>NaN</td>\n",
       "      <td>https://open.overheid.nl/documenten/ronl-f3467...</td>\n",
       "      <td>NaN</td>\n",
       "    </tr>\n",
       "  </tbody>\n",
       "</table>\n",
       "<p>2788 rows × 11 columns</p>\n",
       "</div>"
      ],
      "text/plain": [
       "                                                  Titel  \\\n",
       "0     Besluit op Wob-verzoek over aankoop van het sc...   \n",
       "1     Besluit op Wob-verzoek over het op afstand pla...   \n",
       "2     Besluit op Wob-verzoek over aankoop van het sc...   \n",
       "3     Besluit op Wob-verzoek over aankoop van het sc...   \n",
       "4     Besluit op Wob-verzoek correspondentie over st...   \n",
       "...                                                 ...   \n",
       "3056  Besluit op Woo-verzoek over kennisgeving onder...   \n",
       "3057  Besluit op Woo-verzoek over kennisgeving onder...   \n",
       "3058  Besluit op Woo-verzoek over lozingsvergunning ...   \n",
       "3059  Besluit op Woo-verzoek over uitgezonden percen...   \n",
       "3060  Besluit op Woo-verzoek over kennisgeving onder...   \n",
       "\n",
       "                                                Verzoek  \\\n",
       "0     Besluit op Wob-verzoek over aankoop van het sc...   \n",
       "1     Besluit op Wob-verzoek over het op afstand pla...   \n",
       "2     Besluit op Wob-verzoek over aankoop van het sc...   \n",
       "3     Besluit op Wob-verzoek over aankoop van het sc...   \n",
       "4     Besluit op Wob-verzoek correspondentie over st...   \n",
       "...                                                 ...   \n",
       "3056  Besluit op Woo-verzoek over kennisgeving onder...   \n",
       "3057  Besluit op Woo-verzoek over kennisgeving onder...   \n",
       "3058  Besluit op Woo-verzoek over lozingsvergunning ...   \n",
       "3059  Besluit op Woo-verzoek over uitgezonden percen...   \n",
       "3060  Besluit op Woo-verzoek over kennisgeving onder...   \n",
       "\n",
       "                                              Specifiek  \\\n",
       "0                                                   NaN   \n",
       "1     bijlagen bij Wob-verzoek over op afstand plaat...   \n",
       "2     Inventarislijst Wob-verzoek over aankoop van s...   \n",
       "3                                                   NaN   \n",
       "4                wobbesluit-staatssteunaspecten-bik.pdf   \n",
       "...                                                 ...   \n",
       "3056                                            Besluit   \n",
       "3057                                           Bijlagen   \n",
       "3058                                                NaN   \n",
       "3059                                                NaN   \n",
       "3060                                         Inventaris   \n",
       "\n",
       "                                    Verantwoordelijke  \\\n",
       "0     Ministerie van Onderwijs, Cultuur en Wetenschap   \n",
       "1                            Ministerie van Financiën   \n",
       "2     Ministerie van Onderwijs, Cultuur en Wetenschap   \n",
       "3     Ministerie van Onderwijs, Cultuur en Wetenschap   \n",
       "4                            Ministerie van Financiën   \n",
       "...                                               ...   \n",
       "3056      Ministerie van Infrastructuur en Waterstaat   \n",
       "3057      Ministerie van Infrastructuur en Waterstaat   \n",
       "3058      Ministerie van Infrastructuur en Waterstaat   \n",
       "3059      Ministerie van Economische Zaken en Klimaat   \n",
       "3060      Ministerie van Infrastructuur en Waterstaat   \n",
       "\n",
       "                            Thema                   Documentsoort  \\\n",
       "0                         Cultuur  Beslissing op Wob-/Woo-verzoek   \n",
       "1                  Onbekend thema  Beslissing op Wob-/Woo-verzoek   \n",
       "2                         Cultuur  Beslissing op Wob-/Woo-verzoek   \n",
       "3                         Cultuur  Beslissing op Wob-/Woo-verzoek   \n",
       "4                Inkoop en beheer  Beslissing op Wob-/Woo-verzoek   \n",
       "...                           ...                             ...   \n",
       "3056               Onbekend thema  Beslissing op Wob-/Woo-verzoek   \n",
       "3057               Onbekend thema  Beslissing op Wob-/Woo-verzoek   \n",
       "3058                        Water  Beslissing op Wob-/Woo-verzoek   \n",
       "3059  ['Dienstensector', 'Media']  Beslissing op Wob-/Woo-verzoek   \n",
       "3060               Onbekend thema  Beslissing op Wob-/Woo-verzoek   \n",
       "\n",
       "     Publicatiedatum Documentdatum  \\\n",
       "0         02-05-2022    2022-04-29   \n",
       "1         02-05-2022    2022-04-29   \n",
       "2         02-05-2022    2022-04-29   \n",
       "3         02-05-2022    2022-04-29   \n",
       "4         02-05-2022    2022-04-29   \n",
       "...              ...           ...   \n",
       "3056      07-03-2023    2023-02-02   \n",
       "3057      07-03-2023    2023-02-02   \n",
       "3058      07-03-2023    2023-03-01   \n",
       "3059      07-03-2023    2023-03-03   \n",
       "3060      07-03-2023    2023-02-02   \n",
       "\n",
       "                                             Onderwerp  \\\n",
       "0                                     Kunst en cultuur   \n",
       "1                                                  NaN   \n",
       "2                                     Kunst en cultuur   \n",
       "3                                     Kunst en cultuur   \n",
       "4                                          Staatssteun   \n",
       "...                                                ...   \n",
       "3056                                               NaN   \n",
       "3057                                               NaN   \n",
       "3058                                               NaN   \n",
       "3059  ['Telecommunicatie', 'Media en publieke omroep']   \n",
       "3060                                               NaN   \n",
       "\n",
       "                                                    url verzoekdatum  \n",
       "0     https://open.overheid.nl/documenten/ronl-0b4b7...          NaN  \n",
       "1     https://open.overheid.nl/documenten/ronl-232e7...          NaN  \n",
       "2     https://open.overheid.nl/documenten/ronl-2af63...          NaN  \n",
       "3     https://open.overheid.nl/documenten/ronl-3210e...          NaN  \n",
       "4     https://open.overheid.nl/documenten/ronl-3c18a...   09-07-2021  \n",
       "...                                                 ...          ...  \n",
       "3056  https://open.overheid.nl/documenten/ronl-16bf3...   09-12-2022  \n",
       "3057  https://open.overheid.nl/documenten/ronl-21c18...          NaN  \n",
       "3058  https://open.overheid.nl/documenten/ronl-37873...          NaN  \n",
       "3059  https://open.overheid.nl/documenten/ronl-b937a...          NaN  \n",
       "3060  https://open.overheid.nl/documenten/ronl-f3467...          NaN  \n",
       "\n",
       "[2788 rows x 11 columns]"
      ]
     },
     "metadata": {},
     "output_type": "display_data"
    }
   ],
   "source": [
    "Dataframe['Documentdatum'] = pd.to_datetime(Dataframe['Documentdatum'], format='%d-%m-%Y')\n",
    "Dataframe = Dataframe.loc[Dataframe['Documentdatum'] >= '01-05-2022']\n",
    "\n",
    "Dataframe['Verzoek'] = Dataframe['Verzoek'].map(lambda x:eerstwrd(x))\n",
    "\n",
    "# deze functie zal het wisselende beginwoord proberen te veranderen naar Besluit of Beslissing\n",
    "Dataframe['eerste_woord'] = Dataframe['Verzoek'].str.split(' ').str.get(0)\n",
    "\n",
    "# Omdat het moeilijk is om te bepalen welk beginwoord wel of niet te droppen heb ik besloten enkel deze te behouden.\n",
    "woord_list = ['Besluit', 'Wob-verzoek', 'Beslissing', 'Wob-besluit', 'Woo-verzoek','Woo-besluit']\n",
    "\n",
    "Dataframe = Dataframe[Dataframe['eerste_woord'].isin(woord_list)]\n",
    "Dataframe = Dataframe.drop('eerste_woord', axis=1)\n",
    "\n",
    "display(Dataframe)"
   ]
  },
  {
   "cell_type": "markdown",
   "id": "99788dd7",
   "metadata": {},
   "source": [
    "Enkel besluiten van ministeries hebben de structuur die bruikbaar is. "
   ]
  },
  {
   "cell_type": "code",
   "execution_count": 29,
   "id": "bca746b7",
   "metadata": {},
   "outputs": [],
   "source": [
    "def eerste_woord(string):\n",
    "    spl = string.split(' ')\n",
    "    if spl[0] != 'Ministerie':\n",
    "        return np.nan\n",
    "    else:\n",
    "        return string"
   ]
  },
  {
   "cell_type": "code",
   "execution_count": 30,
   "id": "4b3f144c",
   "metadata": {},
   "outputs": [
    {
     "name": "stdout",
     "output_type": "stream",
     "text": [
      "2788\n",
      "2775\n"
     ]
    }
   ],
   "source": [
    "print(len(Dataframe))\n",
    "Dataframe['Verantwoordelijke'] = Dataframe['Verantwoordelijke'].map(lambda x:eerste_woord(x))\n",
    "Dataframe = Dataframe[Dataframe['Verantwoordelijke'].notna()]\n",
    "print(len(Dataframe))"
   ]
  },
  {
   "cell_type": "markdown",
   "id": "348cf4d0",
   "metadata": {},
   "source": [
    "Statistieken over de verzoekdatum:"
   ]
  },
  {
   "cell_type": "code",
   "execution_count": 31,
   "id": "c72af32a",
   "metadata": {},
   "outputs": [
    {
     "name": "stdout",
     "output_type": "stream",
     "text": [
      "2775 Totaal aantal documenten\n",
      "1922 Aantal documenten zonder vindbare verzoekdatum\n",
      "315 Documenten die niet leesbaar zijn (images)\n",
      "11.351351351351353 % fotos\n",
      "19.387387387387385 % met verzoekdatum\n"
     ]
    }
   ],
   "source": [
    "x = Dataframe['verzoekdatum'].values.tolist()\n",
    "\n",
    "total = len(x)\n",
    "nans = len([i for i in x if i is np.nan])\n",
    "imgs = len([i for i in x if i == 'image'])\n",
    "\n",
    "print(f'{total} Totaal aantal documenten')\n",
    "print(f\"{nans} Aantal documenten zonder vindbare verzoekdatum\")\n",
    "print(f'{imgs} Documenten die niet leesbaar zijn (images)')\n",
    "\n",
    "dates = total - nans - imgs\n",
    "print(str((imgs/total) * 100) + ' % fotos')\n",
    "print(str((dates/total) * 100) + ' % met verzoekdatum')"
   ]
  },
  {
   "cell_type": "markdown",
   "id": "fe44995b",
   "metadata": {},
   "source": [
    "Ik haal op dit moment alle besluiten met meerdere data weg maar er kan in de toekomst gekozen worden om dan de eerste of laatste datum te nemen afhankelijk van wat wenselijk is."
   ]
  },
  {
   "cell_type": "code",
   "execution_count": 34,
   "id": "03032c53",
   "metadata": {},
   "outputs": [
    {
     "data": {
      "text/html": [
       "<div>\n",
       "<style scoped>\n",
       "    .dataframe tbody tr th:only-of-type {\n",
       "        vertical-align: middle;\n",
       "    }\n",
       "\n",
       "    .dataframe tbody tr th {\n",
       "        vertical-align: top;\n",
       "    }\n",
       "\n",
       "    .dataframe thead th {\n",
       "        text-align: right;\n",
       "    }\n",
       "</style>\n",
       "<table border=\"1\" class=\"dataframe\">\n",
       "  <thead>\n",
       "    <tr style=\"text-align: right;\">\n",
       "      <th></th>\n",
       "      <th>Verzoek</th>\n",
       "      <th>urls</th>\n",
       "    </tr>\n",
       "  </thead>\n",
       "  <tbody>\n",
       "    <tr>\n",
       "      <th>0</th>\n",
       "      <td>Beslissing op bezwaar Wob verzoek corresponden...</td>\n",
       "      <td>[https://open.overheid.nl/documenten/ronl-34e6...</td>\n",
       "    </tr>\n",
       "    <tr>\n",
       "      <th>1</th>\n",
       "      <td>Beslissing op bezwaar Wob-/Woo-verzoek over in...</td>\n",
       "      <td>[https://open.overheid.nl/documenten/ronl-7a0f...</td>\n",
       "    </tr>\n",
       "    <tr>\n",
       "      <th>2</th>\n",
       "      <td>Beslissing op bezwaar Wob-/Woo-verzoek over ve...</td>\n",
       "      <td>[https://open.overheid.nl/documenten/ronl-0ba9...</td>\n",
       "    </tr>\n",
       "    <tr>\n",
       "      <th>3</th>\n",
       "      <td>Beslissing op bezwaar Wob-besluit Financiën ov...</td>\n",
       "      <td>[https://open.overheid.nl/documenten/ronl-e3e1...</td>\n",
       "    </tr>\n",
       "    <tr>\n",
       "      <th>4</th>\n",
       "      <td>Beslissing op bezwaar Wob-besluit over afstemm...</td>\n",
       "      <td>[https://open.overheid.nl/documenten/ronl-07e2...</td>\n",
       "    </tr>\n",
       "    <tr>\n",
       "      <th>...</th>\n",
       "      <td>...</td>\n",
       "      <td>...</td>\n",
       "    </tr>\n",
       "    <tr>\n",
       "      <th>1128</th>\n",
       "      <td>Besluit van Wob-verzoek over productverbetering</td>\n",
       "      <td>[https://open.overheid.nl/documenten/ronl-0491...</td>\n",
       "    </tr>\n",
       "    <tr>\n",
       "      <th>1129</th>\n",
       "      <td>Woo-verzoek Evaluatiecommissie Tuitjenhorn</td>\n",
       "      <td>[https://open.overheid.nl/documenten/ronl-370d...</td>\n",
       "    </tr>\n",
       "    <tr>\n",
       "      <th>1130</th>\n",
       "      <td>Woo-verzoek over de identiteit achter anonieme...</td>\n",
       "      <td>[https://open.overheid.nl/documenten/ronl-2a0b...</td>\n",
       "    </tr>\n",
       "    <tr>\n",
       "      <th>1131</th>\n",
       "      <td>Woo-verzoek over landbouwvrijstelling in inkom...</td>\n",
       "      <td>[https://open.overheid.nl/documenten/ronl-1c09...</td>\n",
       "    </tr>\n",
       "    <tr>\n",
       "      <th>1132</th>\n",
       "      <td>Woo-verzoek over ongeval met trampoline</td>\n",
       "      <td>[https://open.overheid.nl/documenten/ronl-41c5...</td>\n",
       "    </tr>\n",
       "  </tbody>\n",
       "</table>\n",
       "<p>1133 rows × 2 columns</p>\n",
       "</div>"
      ],
      "text/plain": [
       "                                                Verzoek  \\\n",
       "0     Beslissing op bezwaar Wob verzoek corresponden...   \n",
       "1     Beslissing op bezwaar Wob-/Woo-verzoek over in...   \n",
       "2     Beslissing op bezwaar Wob-/Woo-verzoek over ve...   \n",
       "3     Beslissing op bezwaar Wob-besluit Financiën ov...   \n",
       "4     Beslissing op bezwaar Wob-besluit over afstemm...   \n",
       "...                                                 ...   \n",
       "1128    Besluit van Wob-verzoek over productverbetering   \n",
       "1129         Woo-verzoek Evaluatiecommissie Tuitjenhorn   \n",
       "1130  Woo-verzoek over de identiteit achter anonieme...   \n",
       "1131  Woo-verzoek over landbouwvrijstelling in inkom...   \n",
       "1132            Woo-verzoek over ongeval met trampoline   \n",
       "\n",
       "                                                   urls  \n",
       "0     [https://open.overheid.nl/documenten/ronl-34e6...  \n",
       "1     [https://open.overheid.nl/documenten/ronl-7a0f...  \n",
       "2     [https://open.overheid.nl/documenten/ronl-0ba9...  \n",
       "3     [https://open.overheid.nl/documenten/ronl-e3e1...  \n",
       "4     [https://open.overheid.nl/documenten/ronl-07e2...  \n",
       "...                                                 ...  \n",
       "1128  [https://open.overheid.nl/documenten/ronl-0491...  \n",
       "1129  [https://open.overheid.nl/documenten/ronl-370d...  \n",
       "1130  [https://open.overheid.nl/documenten/ronl-2a0b...  \n",
       "1131  [https://open.overheid.nl/documenten/ronl-1c09...  \n",
       "1132  [https://open.overheid.nl/documenten/ronl-41c5...  \n",
       "\n",
       "[1133 rows x 2 columns]"
      ]
     },
     "metadata": {},
     "output_type": "display_data"
    },
    {
     "data": {
      "text/html": [
       "<div>\n",
       "<style scoped>\n",
       "    .dataframe tbody tr th:only-of-type {\n",
       "        vertical-align: middle;\n",
       "    }\n",
       "\n",
       "    .dataframe tbody tr th {\n",
       "        vertical-align: top;\n",
       "    }\n",
       "\n",
       "    .dataframe thead th {\n",
       "        text-align: right;\n",
       "    }\n",
       "</style>\n",
       "<table border=\"1\" class=\"dataframe\">\n",
       "  <thead>\n",
       "    <tr style=\"text-align: right;\">\n",
       "      <th></th>\n",
       "      <th>Verzoek</th>\n",
       "      <th>docdatums</th>\n",
       "    </tr>\n",
       "  </thead>\n",
       "  <tbody>\n",
       "    <tr>\n",
       "      <th>0</th>\n",
       "      <td>Beslissing op bezwaar Wob verzoek corresponden...</td>\n",
       "      <td>2022-09-15</td>\n",
       "    </tr>\n",
       "    <tr>\n",
       "      <th>1</th>\n",
       "      <td>Beslissing op bezwaar Wob-/Woo-verzoek over in...</td>\n",
       "      <td>2022-12-23</td>\n",
       "    </tr>\n",
       "    <tr>\n",
       "      <th>2</th>\n",
       "      <td>Beslissing op bezwaar Wob-/Woo-verzoek over ve...</td>\n",
       "      <td>2023-01-27</td>\n",
       "    </tr>\n",
       "    <tr>\n",
       "      <th>3</th>\n",
       "      <td>Beslissing op bezwaar Wob-besluit Financiën ov...</td>\n",
       "      <td>2022-04-26</td>\n",
       "    </tr>\n",
       "    <tr>\n",
       "      <th>4</th>\n",
       "      <td>Beslissing op bezwaar Wob-besluit over afstemm...</td>\n",
       "      <td>2023-02-09</td>\n",
       "    </tr>\n",
       "    <tr>\n",
       "      <th>...</th>\n",
       "      <td>...</td>\n",
       "      <td>...</td>\n",
       "    </tr>\n",
       "    <tr>\n",
       "      <th>1127</th>\n",
       "      <td>Besluit van 20 juli 2022 op het verzoek inzake...</td>\n",
       "      <td>2022-07-20</td>\n",
       "    </tr>\n",
       "    <tr>\n",
       "      <th>1129</th>\n",
       "      <td>Woo-verzoek Evaluatiecommissie Tuitjenhorn</td>\n",
       "      <td>2022-06-30</td>\n",
       "    </tr>\n",
       "    <tr>\n",
       "      <th>1130</th>\n",
       "      <td>Woo-verzoek over de identiteit achter anonieme...</td>\n",
       "      <td>2022-08-25</td>\n",
       "    </tr>\n",
       "    <tr>\n",
       "      <th>1131</th>\n",
       "      <td>Woo-verzoek over landbouwvrijstelling in inkom...</td>\n",
       "      <td>2023-02-27</td>\n",
       "    </tr>\n",
       "    <tr>\n",
       "      <th>1132</th>\n",
       "      <td>Woo-verzoek over ongeval met trampoline</td>\n",
       "      <td>2022-08-23</td>\n",
       "    </tr>\n",
       "  </tbody>\n",
       "</table>\n",
       "<p>1112 rows × 2 columns</p>\n",
       "</div>"
      ],
      "text/plain": [
       "                                                Verzoek  docdatums\n",
       "0     Beslissing op bezwaar Wob verzoek corresponden... 2022-09-15\n",
       "1     Beslissing op bezwaar Wob-/Woo-verzoek over in... 2022-12-23\n",
       "2     Beslissing op bezwaar Wob-/Woo-verzoek over ve... 2023-01-27\n",
       "3     Beslissing op bezwaar Wob-besluit Financiën ov... 2022-04-26\n",
       "4     Beslissing op bezwaar Wob-besluit over afstemm... 2023-02-09\n",
       "...                                                 ...        ...\n",
       "1127  Besluit van 20 juli 2022 op het verzoek inzake... 2022-07-20\n",
       "1129         Woo-verzoek Evaluatiecommissie Tuitjenhorn 2022-06-30\n",
       "1130  Woo-verzoek over de identiteit achter anonieme... 2022-08-25\n",
       "1131  Woo-verzoek over landbouwvrijstelling in inkom... 2023-02-27\n",
       "1132            Woo-verzoek over ongeval met trampoline 2022-08-23\n",
       "\n",
       "[1112 rows x 2 columns]"
      ]
     },
     "metadata": {},
     "output_type": "display_data"
    },
    {
     "data": {
      "text/html": [
       "<div>\n",
       "<style scoped>\n",
       "    .dataframe tbody tr th:only-of-type {\n",
       "        vertical-align: middle;\n",
       "    }\n",
       "\n",
       "    .dataframe tbody tr th {\n",
       "        vertical-align: top;\n",
       "    }\n",
       "\n",
       "    .dataframe thead th {\n",
       "        text-align: right;\n",
       "    }\n",
       "</style>\n",
       "<table border=\"1\" class=\"dataframe\">\n",
       "  <thead>\n",
       "    <tr style=\"text-align: right;\">\n",
       "      <th></th>\n",
       "      <th>Verzoek</th>\n",
       "      <th>verdatums</th>\n",
       "    </tr>\n",
       "  </thead>\n",
       "  <tbody>\n",
       "    <tr>\n",
       "      <th>0</th>\n",
       "      <td>Beslissing op bezwaar Wob verzoek corresponden...</td>\n",
       "      <td>[nan, nan, nan]</td>\n",
       "    </tr>\n",
       "    <tr>\n",
       "      <th>1</th>\n",
       "      <td>Beslissing op bezwaar Wob-/Woo-verzoek over in...</td>\n",
       "      <td>[25-07-2022, nan, nan]</td>\n",
       "    </tr>\n",
       "    <tr>\n",
       "      <th>2</th>\n",
       "      <td>Beslissing op bezwaar Wob-/Woo-verzoek over ve...</td>\n",
       "      <td>[image, 02-11-2021, nan]</td>\n",
       "    </tr>\n",
       "    <tr>\n",
       "      <th>3</th>\n",
       "      <td>Beslissing op bezwaar Wob-besluit Financiën ov...</td>\n",
       "      <td>[nan, nan]</td>\n",
       "    </tr>\n",
       "    <tr>\n",
       "      <th>4</th>\n",
       "      <td>Beslissing op bezwaar Wob-besluit over afstemm...</td>\n",
       "      <td>[nan, nan]</td>\n",
       "    </tr>\n",
       "    <tr>\n",
       "      <th>...</th>\n",
       "      <td>...</td>\n",
       "      <td>...</td>\n",
       "    </tr>\n",
       "    <tr>\n",
       "      <th>1128</th>\n",
       "      <td>Besluit van Wob-verzoek over productverbetering</td>\n",
       "      <td>[nan, nan]</td>\n",
       "    </tr>\n",
       "    <tr>\n",
       "      <th>1129</th>\n",
       "      <td>Woo-verzoek Evaluatiecommissie Tuitjenhorn</td>\n",
       "      <td>[22-10-2021, nan]</td>\n",
       "    </tr>\n",
       "    <tr>\n",
       "      <th>1130</th>\n",
       "      <td>Woo-verzoek over de identiteit achter anonieme...</td>\n",
       "      <td>[02-08-2022]</td>\n",
       "    </tr>\n",
       "    <tr>\n",
       "      <th>1131</th>\n",
       "      <td>Woo-verzoek over landbouwvrijstelling in inkom...</td>\n",
       "      <td>[nan, 07-08-2022, nan]</td>\n",
       "    </tr>\n",
       "    <tr>\n",
       "      <th>1132</th>\n",
       "      <td>Woo-verzoek over ongeval met trampoline</td>\n",
       "      <td>[11-05-2022]</td>\n",
       "    </tr>\n",
       "  </tbody>\n",
       "</table>\n",
       "<p>1133 rows × 2 columns</p>\n",
       "</div>"
      ],
      "text/plain": [
       "                                                Verzoek  \\\n",
       "0     Beslissing op bezwaar Wob verzoek corresponden...   \n",
       "1     Beslissing op bezwaar Wob-/Woo-verzoek over in...   \n",
       "2     Beslissing op bezwaar Wob-/Woo-verzoek over ve...   \n",
       "3     Beslissing op bezwaar Wob-besluit Financiën ov...   \n",
       "4     Beslissing op bezwaar Wob-besluit over afstemm...   \n",
       "...                                                 ...   \n",
       "1128    Besluit van Wob-verzoek over productverbetering   \n",
       "1129         Woo-verzoek Evaluatiecommissie Tuitjenhorn   \n",
       "1130  Woo-verzoek over de identiteit achter anonieme...   \n",
       "1131  Woo-verzoek over landbouwvrijstelling in inkom...   \n",
       "1132            Woo-verzoek over ongeval met trampoline   \n",
       "\n",
       "                     verdatums  \n",
       "0              [nan, nan, nan]  \n",
       "1       [25-07-2022, nan, nan]  \n",
       "2     [image, 02-11-2021, nan]  \n",
       "3                   [nan, nan]  \n",
       "4                   [nan, nan]  \n",
       "...                        ...  \n",
       "1128                [nan, nan]  \n",
       "1129         [22-10-2021, nan]  \n",
       "1130              [02-08-2022]  \n",
       "1131    [nan, 07-08-2022, nan]  \n",
       "1132              [11-05-2022]  \n",
       "\n",
       "[1133 rows x 2 columns]"
      ]
     },
     "metadata": {},
     "output_type": "display_data"
    }
   ],
   "source": [
    "df_urls = Dataframe.groupby(['Verzoek'])['url'].apply(list).reset_index(name='urls')\n",
    "# deelbesluiten hebben mogelijk meerdere data dus ook deze nemen we niet of later pas mee!\n",
    "df_documentdatums = Dataframe.groupby(['Verzoek'])['Documentdatum'].apply(set).reset_index(name='docdatums')\n",
    "df_documentdatums = df_documentdatums[df_documentdatums['docdatums'].map(lambda x: len(x)) == 1]\n",
    "df_documentdatums['docdatums'] = df_documentdatums['docdatums'].apply(lambda x: list(x)[0])\n",
    "\n",
    "df_verzoekdatums = Dataframe.groupby(['Verzoek'])['verzoekdatum'].apply(list).reset_index(name='verdatums')\n",
    "df_verantwoordelijke = Dataframe.groupby(['Verzoek'])['Verantwoordelijke'].apply(set).reset_index(name='verantwoordelijke')\n",
    "df_verantwoordelijke['verantwoordelijke'] = df_verantwoordelijke['verantwoordelijke'].apply(lambda x: list(x)[0])\n",
    "\n",
    "display(df_urls)\n",
    "display(df_documentdatums)\n",
    "display(df_verzoekdatums)"
   ]
  },
  {
   "cell_type": "code",
   "execution_count": 35,
   "id": "658666be",
   "metadata": {},
   "outputs": [
    {
     "data": {
      "text/html": [
       "<div>\n",
       "<style scoped>\n",
       "    .dataframe tbody tr th:only-of-type {\n",
       "        vertical-align: middle;\n",
       "    }\n",
       "\n",
       "    .dataframe tbody tr th {\n",
       "        vertical-align: top;\n",
       "    }\n",
       "\n",
       "    .dataframe thead th {\n",
       "        text-align: right;\n",
       "    }\n",
       "</style>\n",
       "<table border=\"1\" class=\"dataframe\">\n",
       "  <thead>\n",
       "    <tr style=\"text-align: right;\">\n",
       "      <th></th>\n",
       "      <th>Verzoek</th>\n",
       "      <th>verantwoordelijke</th>\n",
       "    </tr>\n",
       "  </thead>\n",
       "  <tbody>\n",
       "    <tr>\n",
       "      <th>0</th>\n",
       "      <td>Beslissing op bezwaar Wob verzoek corresponden...</td>\n",
       "      <td>Ministerie van Infrastructuur en Waterstaat</td>\n",
       "    </tr>\n",
       "    <tr>\n",
       "      <th>1</th>\n",
       "      <td>Beslissing op bezwaar Wob-/Woo-verzoek over in...</td>\n",
       "      <td>Ministerie van Infrastructuur en Waterstaat</td>\n",
       "    </tr>\n",
       "    <tr>\n",
       "      <th>2</th>\n",
       "      <td>Beslissing op bezwaar Wob-/Woo-verzoek over ve...</td>\n",
       "      <td>Ministerie van Landbouw, Natuur en Voedselkwal...</td>\n",
       "    </tr>\n",
       "    <tr>\n",
       "      <th>3</th>\n",
       "      <td>Beslissing op bezwaar Wob-besluit Financiën ov...</td>\n",
       "      <td>Ministerie van Financiën</td>\n",
       "    </tr>\n",
       "    <tr>\n",
       "      <th>4</th>\n",
       "      <td>Beslissing op bezwaar Wob-besluit over afstemm...</td>\n",
       "      <td>Ministerie van Financiën</td>\n",
       "    </tr>\n",
       "    <tr>\n",
       "      <th>...</th>\n",
       "      <td>...</td>\n",
       "      <td>...</td>\n",
       "    </tr>\n",
       "    <tr>\n",
       "      <th>1128</th>\n",
       "      <td>Besluit van Wob-verzoek over productverbetering</td>\n",
       "      <td>Ministerie van Volksgezondheid, Welzijn en Sport</td>\n",
       "    </tr>\n",
       "    <tr>\n",
       "      <th>1129</th>\n",
       "      <td>Woo-verzoek Evaluatiecommissie Tuitjenhorn</td>\n",
       "      <td>Ministerie van Justitie en Veiligheid</td>\n",
       "    </tr>\n",
       "    <tr>\n",
       "      <th>1130</th>\n",
       "      <td>Woo-verzoek over de identiteit achter anonieme...</td>\n",
       "      <td>Ministerie van Landbouw, Natuur en Voedselkwal...</td>\n",
       "    </tr>\n",
       "    <tr>\n",
       "      <th>1131</th>\n",
       "      <td>Woo-verzoek over landbouwvrijstelling in inkom...</td>\n",
       "      <td>Ministerie van Financiën</td>\n",
       "    </tr>\n",
       "    <tr>\n",
       "      <th>1132</th>\n",
       "      <td>Woo-verzoek over ongeval met trampoline</td>\n",
       "      <td>Ministerie van Landbouw, Natuur en Voedselkwal...</td>\n",
       "    </tr>\n",
       "  </tbody>\n",
       "</table>\n",
       "<p>1133 rows × 2 columns</p>\n",
       "</div>"
      ],
      "text/plain": [
       "                                                Verzoek  \\\n",
       "0     Beslissing op bezwaar Wob verzoek corresponden...   \n",
       "1     Beslissing op bezwaar Wob-/Woo-verzoek over in...   \n",
       "2     Beslissing op bezwaar Wob-/Woo-verzoek over ve...   \n",
       "3     Beslissing op bezwaar Wob-besluit Financiën ov...   \n",
       "4     Beslissing op bezwaar Wob-besluit over afstemm...   \n",
       "...                                                 ...   \n",
       "1128    Besluit van Wob-verzoek over productverbetering   \n",
       "1129         Woo-verzoek Evaluatiecommissie Tuitjenhorn   \n",
       "1130  Woo-verzoek over de identiteit achter anonieme...   \n",
       "1131  Woo-verzoek over landbouwvrijstelling in inkom...   \n",
       "1132            Woo-verzoek over ongeval met trampoline   \n",
       "\n",
       "                                      verantwoordelijke  \n",
       "0           Ministerie van Infrastructuur en Waterstaat  \n",
       "1           Ministerie van Infrastructuur en Waterstaat  \n",
       "2     Ministerie van Landbouw, Natuur en Voedselkwal...  \n",
       "3                              Ministerie van Financiën  \n",
       "4                              Ministerie van Financiën  \n",
       "...                                                 ...  \n",
       "1128   Ministerie van Volksgezondheid, Welzijn en Sport  \n",
       "1129              Ministerie van Justitie en Veiligheid  \n",
       "1130  Ministerie van Landbouw, Natuur en Voedselkwal...  \n",
       "1131                           Ministerie van Financiën  \n",
       "1132  Ministerie van Landbouw, Natuur en Voedselkwal...  \n",
       "\n",
       "[1133 rows x 2 columns]"
      ]
     },
     "metadata": {},
     "output_type": "display_data"
    }
   ],
   "source": [
    "display(df_verantwoordelijke)"
   ]
  },
  {
   "cell_type": "code",
   "execution_count": 36,
   "id": "bc971212",
   "metadata": {},
   "outputs": [],
   "source": [
    "df_documentdatums = df_documentdatums.join(df_urls.set_index('Verzoek'), on='Verzoek')\n",
    "df = df_documentdatums.join(df_verzoekdatums.set_index('Verzoek'), on='Verzoek')\n",
    "df = df.join(df_verantwoordelijke.set_index('Verzoek'), on='Verzoek')"
   ]
  },
  {
   "cell_type": "code",
   "execution_count": 37,
   "id": "b4146a89",
   "metadata": {
    "scrolled": false
   },
   "outputs": [
    {
     "data": {
      "text/html": [
       "<div>\n",
       "<style scoped>\n",
       "    .dataframe tbody tr th:only-of-type {\n",
       "        vertical-align: middle;\n",
       "    }\n",
       "\n",
       "    .dataframe tbody tr th {\n",
       "        vertical-align: top;\n",
       "    }\n",
       "\n",
       "    .dataframe thead th {\n",
       "        text-align: right;\n",
       "    }\n",
       "</style>\n",
       "<table border=\"1\" class=\"dataframe\">\n",
       "  <thead>\n",
       "    <tr style=\"text-align: right;\">\n",
       "      <th></th>\n",
       "      <th>Verzoek</th>\n",
       "      <th>docdatums</th>\n",
       "      <th>urls</th>\n",
       "      <th>verdatums</th>\n",
       "      <th>verantwoordelijke</th>\n",
       "    </tr>\n",
       "  </thead>\n",
       "  <tbody>\n",
       "    <tr>\n",
       "      <th>0</th>\n",
       "      <td>Beslissing op bezwaar Wob verzoek corresponden...</td>\n",
       "      <td>2022-09-15</td>\n",
       "      <td>[https://open.overheid.nl/documenten/ronl-34e6...</td>\n",
       "      <td>[nan, nan, nan]</td>\n",
       "      <td>Ministerie van Infrastructuur en Waterstaat</td>\n",
       "    </tr>\n",
       "    <tr>\n",
       "      <th>1</th>\n",
       "      <td>Beslissing op bezwaar Wob-/Woo-verzoek over in...</td>\n",
       "      <td>2022-12-23</td>\n",
       "      <td>[https://open.overheid.nl/documenten/ronl-7a0f...</td>\n",
       "      <td>[25-07-2022, nan, nan]</td>\n",
       "      <td>Ministerie van Infrastructuur en Waterstaat</td>\n",
       "    </tr>\n",
       "    <tr>\n",
       "      <th>2</th>\n",
       "      <td>Beslissing op bezwaar Wob-/Woo-verzoek over ve...</td>\n",
       "      <td>2023-01-27</td>\n",
       "      <td>[https://open.overheid.nl/documenten/ronl-0ba9...</td>\n",
       "      <td>[image, 02-11-2021, nan]</td>\n",
       "      <td>Ministerie van Landbouw, Natuur en Voedselkwal...</td>\n",
       "    </tr>\n",
       "    <tr>\n",
       "      <th>3</th>\n",
       "      <td>Beslissing op bezwaar Wob-besluit Financiën ov...</td>\n",
       "      <td>2022-04-26</td>\n",
       "      <td>[https://open.overheid.nl/documenten/ronl-e3e1...</td>\n",
       "      <td>[nan, nan]</td>\n",
       "      <td>Ministerie van Financiën</td>\n",
       "    </tr>\n",
       "    <tr>\n",
       "      <th>4</th>\n",
       "      <td>Beslissing op bezwaar Wob-besluit over afstemm...</td>\n",
       "      <td>2023-02-09</td>\n",
       "      <td>[https://open.overheid.nl/documenten/ronl-07e2...</td>\n",
       "      <td>[nan, nan]</td>\n",
       "      <td>Ministerie van Financiën</td>\n",
       "    </tr>\n",
       "    <tr>\n",
       "      <th>...</th>\n",
       "      <td>...</td>\n",
       "      <td>...</td>\n",
       "      <td>...</td>\n",
       "      <td>...</td>\n",
       "      <td>...</td>\n",
       "    </tr>\n",
       "    <tr>\n",
       "      <th>1127</th>\n",
       "      <td>Besluit van 20 juli 2022 op het verzoek inzake...</td>\n",
       "      <td>2022-07-20</td>\n",
       "      <td>[https://open.overheid.nl/documenten/ronl-7517...</td>\n",
       "      <td>[image]</td>\n",
       "      <td>Ministerie van Justitie en Veiligheid</td>\n",
       "    </tr>\n",
       "    <tr>\n",
       "      <th>1129</th>\n",
       "      <td>Woo-verzoek Evaluatiecommissie Tuitjenhorn</td>\n",
       "      <td>2022-06-30</td>\n",
       "      <td>[https://open.overheid.nl/documenten/ronl-370d...</td>\n",
       "      <td>[22-10-2021, nan]</td>\n",
       "      <td>Ministerie van Justitie en Veiligheid</td>\n",
       "    </tr>\n",
       "    <tr>\n",
       "      <th>1130</th>\n",
       "      <td>Woo-verzoek over de identiteit achter anonieme...</td>\n",
       "      <td>2022-08-25</td>\n",
       "      <td>[https://open.overheid.nl/documenten/ronl-2a0b...</td>\n",
       "      <td>[02-08-2022]</td>\n",
       "      <td>Ministerie van Landbouw, Natuur en Voedselkwal...</td>\n",
       "    </tr>\n",
       "    <tr>\n",
       "      <th>1131</th>\n",
       "      <td>Woo-verzoek over landbouwvrijstelling in inkom...</td>\n",
       "      <td>2023-02-27</td>\n",
       "      <td>[https://open.overheid.nl/documenten/ronl-1c09...</td>\n",
       "      <td>[nan, 07-08-2022, nan]</td>\n",
       "      <td>Ministerie van Financiën</td>\n",
       "    </tr>\n",
       "    <tr>\n",
       "      <th>1132</th>\n",
       "      <td>Woo-verzoek over ongeval met trampoline</td>\n",
       "      <td>2022-08-23</td>\n",
       "      <td>[https://open.overheid.nl/documenten/ronl-41c5...</td>\n",
       "      <td>[11-05-2022]</td>\n",
       "      <td>Ministerie van Landbouw, Natuur en Voedselkwal...</td>\n",
       "    </tr>\n",
       "  </tbody>\n",
       "</table>\n",
       "<p>1112 rows × 5 columns</p>\n",
       "</div>"
      ],
      "text/plain": [
       "                                                Verzoek  docdatums  \\\n",
       "0     Beslissing op bezwaar Wob verzoek corresponden... 2022-09-15   \n",
       "1     Beslissing op bezwaar Wob-/Woo-verzoek over in... 2022-12-23   \n",
       "2     Beslissing op bezwaar Wob-/Woo-verzoek over ve... 2023-01-27   \n",
       "3     Beslissing op bezwaar Wob-besluit Financiën ov... 2022-04-26   \n",
       "4     Beslissing op bezwaar Wob-besluit over afstemm... 2023-02-09   \n",
       "...                                                 ...        ...   \n",
       "1127  Besluit van 20 juli 2022 op het verzoek inzake... 2022-07-20   \n",
       "1129         Woo-verzoek Evaluatiecommissie Tuitjenhorn 2022-06-30   \n",
       "1130  Woo-verzoek over de identiteit achter anonieme... 2022-08-25   \n",
       "1131  Woo-verzoek over landbouwvrijstelling in inkom... 2023-02-27   \n",
       "1132            Woo-verzoek over ongeval met trampoline 2022-08-23   \n",
       "\n",
       "                                                   urls  \\\n",
       "0     [https://open.overheid.nl/documenten/ronl-34e6...   \n",
       "1     [https://open.overheid.nl/documenten/ronl-7a0f...   \n",
       "2     [https://open.overheid.nl/documenten/ronl-0ba9...   \n",
       "3     [https://open.overheid.nl/documenten/ronl-e3e1...   \n",
       "4     [https://open.overheid.nl/documenten/ronl-07e2...   \n",
       "...                                                 ...   \n",
       "1127  [https://open.overheid.nl/documenten/ronl-7517...   \n",
       "1129  [https://open.overheid.nl/documenten/ronl-370d...   \n",
       "1130  [https://open.overheid.nl/documenten/ronl-2a0b...   \n",
       "1131  [https://open.overheid.nl/documenten/ronl-1c09...   \n",
       "1132  [https://open.overheid.nl/documenten/ronl-41c5...   \n",
       "\n",
       "                     verdatums  \\\n",
       "0              [nan, nan, nan]   \n",
       "1       [25-07-2022, nan, nan]   \n",
       "2     [image, 02-11-2021, nan]   \n",
       "3                   [nan, nan]   \n",
       "4                   [nan, nan]   \n",
       "...                        ...   \n",
       "1127                   [image]   \n",
       "1129         [22-10-2021, nan]   \n",
       "1130              [02-08-2022]   \n",
       "1131    [nan, 07-08-2022, nan]   \n",
       "1132              [11-05-2022]   \n",
       "\n",
       "                                      verantwoordelijke  \n",
       "0           Ministerie van Infrastructuur en Waterstaat  \n",
       "1           Ministerie van Infrastructuur en Waterstaat  \n",
       "2     Ministerie van Landbouw, Natuur en Voedselkwal...  \n",
       "3                              Ministerie van Financiën  \n",
       "4                              Ministerie van Financiën  \n",
       "...                                                 ...  \n",
       "1127              Ministerie van Justitie en Veiligheid  \n",
       "1129              Ministerie van Justitie en Veiligheid  \n",
       "1130  Ministerie van Landbouw, Natuur en Voedselkwal...  \n",
       "1131                           Ministerie van Financiën  \n",
       "1132  Ministerie van Landbouw, Natuur en Voedselkwal...  \n",
       "\n",
       "[1112 rows x 5 columns]"
      ]
     },
     "metadata": {},
     "output_type": "display_data"
    }
   ],
   "source": [
    "display(df)"
   ]
  },
  {
   "cell_type": "code",
   "execution_count": 38,
   "id": "e35c704a",
   "metadata": {},
   "outputs": [
    {
     "name": "stdout",
     "output_type": "stream",
     "text": [
      "['https://open.overheid.nl/documenten/ronl-34e6543c6a831746aeca995b23f6e546938e0f43/pdf', 'https://open.overheid.nl/documenten/ronl-40e537aa5e5214fa7bf8aeb65ad23773e42867c7/pdf', 'https://open.overheid.nl/documenten/ronl-4f5cc3ca1ec6072b43d21bf02472e7a28c206958/pdf']\n",
      "['https://open.overheid.nl/documenten/ronl-7a0f146a99fbedda2e677881e1516d02894733c9/pdf', 'https://open.overheid.nl/documenten/ronl-840ac43ed158509d82b3764b22e5954217f668eb/pdf', 'https://open.overheid.nl/documenten/ronl-d359f9a0507d2fe416281ae8716f94f9aef91eb6/pdf']\n",
      "['https://open.overheid.nl/documenten/ronl-0ba9f966e41074f6e65fb2b0b053557cec4a0f22/pdf', 'https://open.overheid.nl/documenten/ronl-ad97ad1af4d15a3b68a655975d022cb56487c29f/pdf', 'https://open.overheid.nl/documenten/ronl-ebfa6d0b5c1c8488b70d6b5e42976948cf0eb5b7/pdf']\n",
      "['https://open.overheid.nl/documenten/ronl-e3e19e839d7aa59b1d7d433a4cf51995e881fff2/pdf', 'https://open.overheid.nl/documenten/ronl-f1bfa17f28c490776b59f177c12e8acbccceb1ed/pdf']\n",
      "['https://open.overheid.nl/documenten/ronl-07e2087414d716bf8163dca8aeaac298e88d0497/pdf', 'https://open.overheid.nl/documenten/ronl-63062567ec8d1e0bf2295fe559a07846fa5b175b/pdf']\n",
      "['https://open.overheid.nl/documenten/ronl-aa6eaa197782e756b5bc0a88f9a15f84d79d09eb/pdf', 'https://open.overheid.nl/documenten/ronl-c79b20cc614eb990dd98418f623dd5734936f07c/pdf', 'https://open.overheid.nl/documenten/ronl-c8851b56b04dbafeaaf2c5b26cea23cfcdf4392f/pdf']\n",
      "['https://open.overheid.nl/documenten/ronl-9dc5c83fc3a470b981d66067c847d0581ff90dc1/pdf', 'https://open.overheid.nl/documenten/ronl-f65a8cb94946d2597fd404d6b54bd1f013ee7765/pdf', 'https://open.overheid.nl/documenten/ronl-fa86cb449402ad31c237b72d965c3cbd6bf9b741/pdf']\n",
      "['https://open.overheid.nl/documenten/ronl-450993204517c5bb0a905ce3ad989c9ac5c4a4ae/pdf', 'https://open.overheid.nl/documenten/ronl-60b43ebeeac64923de28936308fb7bcb6fb0788d/pdf', 'https://open.overheid.nl/documenten/ronl-77594c91a3705d93681d4387ba00c734104b0e8e/pdf', 'https://open.overheid.nl/documenten/ronl-7f18419186e4348cd632fbf8cf3c085b046c3864/pdf', 'https://open.overheid.nl/documenten/ronl-7f2f15b3913ae9cd3f60c6be84011069cf72281e/pdf', 'https://open.overheid.nl/documenten/ronl-86adec93df731c50aea2cf5427db27556fff815f/pdf', 'https://open.overheid.nl/documenten/ronl-de82851059a4f5b6f5bd1c8ddbfb5db2ec5d312a/pdf', 'https://open.overheid.nl/documenten/ronl-e3816e6531924d7efd557ca21ed1033962d47127/pdf', 'https://open.overheid.nl/documenten/ronl-fec546cd0d74c76a74e1d2b6ff9e37cb43e8d59c/pdf']\n",
      "['https://open.overheid.nl/documenten/ronl-5e191a4d587b8d9d2fe9c7dc10c165f225d2ee07/pdf', 'https://open.overheid.nl/documenten/ronl-e325361092382454faa1d7f1dc4d541d4d29a3d9/pdf']\n",
      "['https://open.overheid.nl/documenten/ronl-277c9d700e93a01e9941268fbf740d6bcf7ca74b/pdf', 'https://open.overheid.nl/documenten/ronl-3d20e775b530e8e71dea23d1f36920f85e55e2a0/pdf', 'https://open.overheid.nl/documenten/ronl-62c1905bc371b853e52acd3a7f0d3dba6b090d20/pdf', 'https://open.overheid.nl/documenten/ronl-fa05a8e4a3eebf1ee165789fffb8bbd3738f9c0b/pdf']\n",
      "['https://open.overheid.nl/documenten/ronl-f87f559f51dfd236ed49371f031e1a52a87ab163/pdf']\n",
      "['https://open.overheid.nl/documenten/ronl-1bfd4cf693fea5d313e58c8de7dbd533deaa42c8/pdf', 'https://open.overheid.nl/documenten/ronl-4feefea15ade4f3f2c298ff91bd2a370712981fd/pdf']\n",
      "['https://open.overheid.nl/documenten/ronl-59cd11452a590d1e411f897cf765ff44cbe4c02e/pdf']\n",
      "['https://open.overheid.nl/documenten/ronl-2313e73c747942d09843d0062a2f25b2cc783a06/pdf', 'https://open.overheid.nl/documenten/ronl-705b8bad839d8b2a3ad9d4fddd65b643b573623c/pdf', 'https://open.overheid.nl/documenten/ronl-aa6f321a67b8feecd3371a4bf45896e47bb055eb/pdf', 'https://open.overheid.nl/documenten/ronl-f2a1cb70f3e165c674c2f19a039e7d7c6ee2692f/pdf']\n",
      "['https://open.overheid.nl/documenten/ronl-1dfd760758c6ae434218d662472de03da9517d2f/pdf', 'https://open.overheid.nl/documenten/ronl-7b3eb97d2920b06ca89cb2940de6c74bc7ed1dd1/pdf', 'https://open.overheid.nl/documenten/ronl-f7bfbe7f92d0ee1967aaebcccadfe5b0335cbf30/pdf']\n",
      "['https://open.overheid.nl/documenten/ronl-bb365187f09d565b272fc054e6f4fce33947c538/pdf', 'https://open.overheid.nl/documenten/ronl-db98bca6f464b325b0e8b43ab3e188f075ea6d57/pdf']\n",
      "['https://open.overheid.nl/documenten/ronl-581e778d5486ace235d842682b5a10ad53cb8496/pdf', 'https://open.overheid.nl/documenten/ronl-71f1c0b7975b34303c270755c16e431a20a4b15c/pdf', 'https://open.overheid.nl/documenten/ronl-c04e7b404e74b875e64b5f31888a3fe92d28b440/pdf']\n",
      "['https://open.overheid.nl/documenten/ronl-1534402fb272709353d7d2de7566b3e3ea17c5f4/pdf', 'https://open.overheid.nl/documenten/ronl-cf228e7c1b152735cacac4ad1ff5223ad157f91f/pdf', 'https://open.overheid.nl/documenten/ronl-fe8efe18cc4f4388e59e45308a867ae8eb36daa2/pdf']\n",
      "['https://open.overheid.nl/documenten/ronl-bb530402a929c175ccbc9cfaf370360bb785eb78/pdf']\n",
      "['https://open.overheid.nl/documenten/ronl-62a1fce16e527f222f8b5d691da720dce868f483/pdf']\n",
      "['https://open.overheid.nl/documenten/ronl-32bbd00a80d888cdf9d849821b1a4b3bcc5a4f02/pdf', 'https://open.overheid.nl/documenten/ronl-333cb9a705025b4bfdc9c164700ba525f9dcf51b/pdf', 'https://open.overheid.nl/documenten/ronl-44470bd73da8f4d4e187bf199fb241c232c6c4f0/pdf']\n",
      "['https://open.overheid.nl/documenten/ronl-d82e831e1472117eafa560f51ff30202ea2fda3b/pdf']\n",
      "['https://open.overheid.nl/documenten/ronl-41bda038b24f871db89186d5dedbcc891fcd24fe/pdf']\n",
      "['https://open.overheid.nl/documenten/ronl-201b384d324102fb8966cdd14227a64846e72db6/pdf', 'https://open.overheid.nl/documenten/ronl-651f78cca71afb0dc140b82deb9a480a1a9a2f26/pdf']\n",
      "['https://open.overheid.nl/documenten/ronl-a106e65fa61d324120ac3e5b07db98c2e3272ac5/pdf']\n",
      "['https://open.overheid.nl/documenten/ronl-ece7303a524dbb36cc90d1b32b65cb8eb10b37c3/pdf']\n",
      "['https://open.overheid.nl/documenten/ronl-f944f076698ebe7fda450da5ec96460668999a04/pdf']\n",
      "['https://open.overheid.nl/documenten/ronl-752f72d2ea8c251282882e839cf6a4abcc623de8/pdf', 'https://open.overheid.nl/documenten/ronl-b1ee8280f9456897165aecc3f243c4c38f47eef1/pdf', 'https://open.overheid.nl/documenten/ronl-dcfd367fad4b329cff727659adccae1230375122/pdf']\n",
      "['https://open.overheid.nl/documenten/ronl-a94f326b1f61694582f83722cd58d52cdb9b4d7f/pdf']\n",
      "['https://open.overheid.nl/documenten/ronl-23385913eccddf504486cc832f76850e67128408/pdf', 'https://open.overheid.nl/documenten/ronl-6dce40798a138a5a0a77a868448822a3307a6557/pdf']\n",
      "['https://open.overheid.nl/documenten/ronl-2bc1c72be37965036729826a0496474af7e313ce/pdf']\n",
      "['https://open.overheid.nl/documenten/ronl-2c78f9fa41bc068438395501e363d7fff929f053/pdf', 'https://open.overheid.nl/documenten/ronl-4380d74aae0bbdc2680cbecdebb1f74179de8c34/pdf', 'https://open.overheid.nl/documenten/ronl-82304f7d56737d016dc8318b77d9a60370911667/pdf', 'https://open.overheid.nl/documenten/ronl-be04769a6b5b7a0b2845de6a0d8a50b040324b89/pdf', 'https://open.overheid.nl/documenten/ronl-fbd0cbd704a410dc96c7340865a67bc664da5bff/pdf', 'https://open.overheid.nl/documenten/ronl-ffc292ecf7d577fd1d3ebd84349e69d42229e0d2/pdf']\n",
      "['https://open.overheid.nl/documenten/ronl-39d861a6b1cc160a075ba555798e6241e732206c/pdf', 'https://open.overheid.nl/documenten/ronl-4364a4586651a61aa60f5fd5535f18a2c34f7ba3/pdf', 'https://open.overheid.nl/documenten/ronl-5ad45d2a02315a7a4de1f20eab7fe7846d3579b5/pdf', 'https://open.overheid.nl/documenten/ronl-838bc100d5972096dc9e16fd1c9be21002d85037/pdf']\n",
      "['https://open.overheid.nl/documenten/ronl-dc86d4c34b0770dfeae6d54789db8a383b8d597a/pdf']\n",
      "['https://open.overheid.nl/documenten/ronl-01c1920a9f6056d96195187d6d7c47b05532e3da/pdf']\n",
      "['https://open.overheid.nl/documenten/ronl-9979107fccf4e1e3450b7bb581c0cfc5b38cf6d4/pdf']\n",
      "['https://open.overheid.nl/documenten/ronl-be9f8836f1091203a379cc97b463f2efe6771a47/pdf']\n",
      "['https://open.overheid.nl/documenten/ronl-0a515d1bb923daf03ce8c9397bce5df5c4b4f9b2/pdf', 'https://open.overheid.nl/documenten/ronl-7514a8fdb9a4db4a06f36b094bb3fc1c663d872a/pdf', 'https://open.overheid.nl/documenten/ronl-ec147bf8c6e9eba1981eaf49642ab149512a0be2/pdf', 'https://open.overheid.nl/documenten/ronl-fc24c6df6e6e3a2aeee835d3bb056fda5f42345a/pdf']\n",
      "['https://open.overheid.nl/documenten/ronl-08e7a1d715aa4144a3a122f0e013f18b3c1469aa/pdf', 'https://open.overheid.nl/documenten/ronl-1c9672078f1ad65593ded153d019dd51753374a7/pdf', 'https://open.overheid.nl/documenten/ronl-e5b37d17bc1bc146f450ca3e0ca5a323ec9937cb/pdf']\n",
      "['https://open.overheid.nl/documenten/ronl-a49b9deae5e2b4b2da867ba9feaa7d143dd959d3/pdf', 'https://open.overheid.nl/documenten/ronl-f04e9e5071fbb109d1eaa829e8d110a42d43de43/pdf']\n",
      "['https://open.overheid.nl/documenten/ronl-1f22a14fbedb9646f4d9d02e2ca084aaa10dcb6b/pdf', 'https://open.overheid.nl/documenten/ronl-46c8b892ce9dc2de96c3dea35d76b3411f33ea8a/pdf', 'https://open.overheid.nl/documenten/ronl-d75c0c6bc7f2ea913e20e5b8936a6f0a0b953760/pdf']\n",
      "['https://open.overheid.nl/documenten/ronl-917c768caed3c9763c58a0a6582fa65e85f4a810/pdf']\n",
      "['https://open.overheid.nl/documenten/ronl-a57011a1bdb2bf30e04141c4458f1df7d1768518/pdf']\n",
      "['https://open.overheid.nl/documenten/ronl-894cc8229ddddf2b3fe61ef9e60875935ad956d3/pdf']\n",
      "['https://open.overheid.nl/documenten/ronl-7f345ab474e4d2c1eb8bba9ae05ac2d634ba3104/pdf', 'https://open.overheid.nl/documenten/ronl-a0dfde3e084160dcf39ebac222475cf23cc992f6/pdf', 'https://open.overheid.nl/documenten/ronl-bfd6bfd159601dfc8faabb71fbb460a5e061e519/pdf', 'https://open.overheid.nl/documenten/ronl-c28eb5da7a0c3305aa0746423aaa9503443cbf93/pdf', 'https://open.overheid.nl/documenten/ronl-d6ed786dca1d8b3be0b5c6d147c688332565ea46/pdf', 'https://open.overheid.nl/documenten/ronl-eb1012c4e7d9d091234d6f01b27475b74ce8df3f/pdf']\n",
      "['https://open.overheid.nl/documenten/ronl-29095067dfbcf93e3c13ad097c4e30d1be96574b/pdf', 'https://open.overheid.nl/documenten/ronl-4919dd57259064a42d7163e8c7172f012afc6ac7/pdf', 'https://open.overheid.nl/documenten/ronl-604bbf2ca37b1721685a60a3d1bfb52aeb0ab697/pdf', 'https://open.overheid.nl/documenten/ronl-731e20c0ec01063249e2e8af2780248e313d2d0d/pdf', 'https://open.overheid.nl/documenten/ronl-75646c73210725c66accbaa0789920e6a6c0f9b2/pdf', 'https://open.overheid.nl/documenten/ronl-ada42f8b63244b6e2907a73571d336710119f431/pdf', 'https://open.overheid.nl/documenten/ronl-b500a26927038a2ddd1416e657d56b35e48c75d0/pdf', 'https://open.overheid.nl/documenten/ronl-bff8046e7de26d73b9b9e1eefa144cf969e35ad6/pdf', 'https://open.overheid.nl/documenten/ronl-e006efba61b49eedb24bf58e0d78be1c2f44034d/pdf', 'https://open.overheid.nl/documenten/ronl-e5f0c2718c94c0bcb27644c23e3326f9d0630470/pdf', 'https://open.overheid.nl/documenten/ronl-f56d55edd18b5dcd20250a5d780b0dcebab1d775/pdf']\n",
      "['https://open.overheid.nl/documenten/ronl-45040056f9842047106dfe94fac69f727308cb44/pdf', 'https://open.overheid.nl/documenten/ronl-450c86691ebd661ecfbd0f86a8041a591882a1d5/pdf', 'https://open.overheid.nl/documenten/ronl-7d5060b3bae75da69c8d4a3d545cd676d18553ed/pdf', 'https://open.overheid.nl/documenten/ronl-acaaca196a5310bb3d2c7f9407166387b8f7bccf/pdf', 'https://open.overheid.nl/documenten/ronl-b4d990b4f200751fe3c6dc2f47f84dcbca2a463e/pdf', 'https://open.overheid.nl/documenten/ronl-eb56a4e64970f8807f76e08c383f9eb869e85a94/pdf']\n",
      "['https://open.overheid.nl/documenten/ronl-1a8b4dca838a250365439448788217d4c592ba58/pdf', 'https://open.overheid.nl/documenten/ronl-646cbd5e9a2e74907058d67c5c3bae4846033d36/pdf', 'https://open.overheid.nl/documenten/ronl-9b5d1828a9cde2de430c6b67ba7ec6a98220e33f/pdf']\n",
      "['https://open.overheid.nl/documenten/ronl-6ff85afd2e1c4bad3d4bbb321f721aa2d7767c36/pdf', 'https://open.overheid.nl/documenten/ronl-9cfcb626f00c68a9102089a12ebee283bf5ea3a9/pdf']\n",
      "['https://open.overheid.nl/documenten/ronl-1bd24f1d1757bbf8a1fb3cb922aba35c40070418/pdf']\n",
      "['https://open.overheid.nl/documenten/ronl-0e5c8c5b4b2328387f9b4f4ceeeeb97a922ad8a1/pdf', 'https://open.overheid.nl/documenten/ronl-4f0361cda2d7fa2af1102b31bf293fcc0744e5a3/pdf', 'https://open.overheid.nl/documenten/ronl-761f63b8a7f24c77985053ee942aa6fc83be382b/pdf', 'https://open.overheid.nl/documenten/ronl-bae97b9f5a239f3fe2351945be8fb63587240a86/pdf', 'https://open.overheid.nl/documenten/ronl-c23cb91842fc4b6573ede5e39e3a38a89dd5d3d2/pdf', 'https://open.overheid.nl/documenten/ronl-cbfe03ee1b92d9f779e727ff7c1147b1dc935530/pdf']\n",
      "['https://open.overheid.nl/documenten/ronl-82db3c8192ad04b4dd4d0dcd4a347a78212dea33/pdf', 'https://open.overheid.nl/documenten/ronl-f21e00dce19c89e2c9a5c3669ef2bef1234e861c/pdf']\n",
      "['https://open.overheid.nl/documenten/ronl-390091cded5bbac44e7940d85c018d92db8a5de5/pdf', 'https://open.overheid.nl/documenten/ronl-d7a1b70e466332f648a1a6a7cdc3f4a79a784596/pdf']\n",
      "['https://open.overheid.nl/documenten/ronl-41a870b601617f88dba7f274039cce699ffb5b12/pdf', 'https://open.overheid.nl/documenten/ronl-decd3e9788dede2abbea5e9beab5f4aecb05c863/pdf']\n",
      "['https://open.overheid.nl/documenten/ronl-11ef73d6968cd2dc4a27d7061c5ac78a11fb089b/pdf', 'https://open.overheid.nl/documenten/ronl-6b8ac09cdfa57ce0c71e81ccafcfe8a03ebde7d3/pdf']\n",
      "['https://open.overheid.nl/documenten/ronl-71b1c822ef5a15459ed033b93e0d8bc385255c39/pdf', 'https://open.overheid.nl/documenten/ronl-9c02bafd13fd4d7116072ec4ae52e99064f587e5/pdf', 'https://open.overheid.nl/documenten/ronl-a77d82aaece6b36b8c87cee121f1cce14727890f/pdf']\n",
      "['https://open.overheid.nl/documenten/ronl-1bed99c4db736548f3f98430fb611828914923a4/pdf', 'https://open.overheid.nl/documenten/ronl-4cc6ff3cac278fce99989da7e4b152b6acf34511/pdf']\n",
      "['https://open.overheid.nl/documenten/ronl-21a7822d735ac23b9d8b652e12f2d704e34381cc/pdf', 'https://open.overheid.nl/documenten/ronl-250654a48da180336e8244db22316668f5665ac3/pdf', 'https://open.overheid.nl/documenten/ronl-972dfc7c40a47bbb50c8f2c65ea8a3231fd142ee/pdf', 'https://open.overheid.nl/documenten/ronl-bdb4aa76b6865f655954740c299d28a37e92276b/pdf', 'https://open.overheid.nl/documenten/ronl-cde4ebbdfb33c0debefdaeeff15df5ff59931dbb/pdf', 'https://open.overheid.nl/documenten/ronl-df81524986c137f4daf6aacbbf59d5de41b7a5ee/pdf']\n",
      "['https://open.overheid.nl/documenten/ronl-01e27502c1c498d15223f8f1980b6c51e9caabe3/pdf', 'https://open.overheid.nl/documenten/ronl-38c282a656ff51261f1e3b1b41cc5aa8869dac57/pdf', 'https://open.overheid.nl/documenten/ronl-4a66250f696eab32b0694fbc70c2b96906e44d1b/pdf', 'https://open.overheid.nl/documenten/ronl-82fd9229dd33ada8cc5cd6a9ddfe9eb8fb33648f/pdf']\n",
      "['https://open.overheid.nl/documenten/ronl-9ad78f80beee4d6d70a75f9cc2c7fbe67b73d401/pdf']\n",
      "['https://open.overheid.nl/documenten/ronl-2cc61a03b2b1f325d6c9ab84a2682ba4c35b5c87/pdf', 'https://open.overheid.nl/documenten/ronl-8442c03a9d2d16ab5aa26776e63e57114c48a35d/pdf', 'https://open.overheid.nl/documenten/ronl-8d78f74fecdb0941ccd626edc0e48aff3b6ce9c2/pdf', 'https://open.overheid.nl/documenten/ronl-eea930d281672d7e0c12e70e1ca224436af0b006/pdf']\n",
      "['https://open.overheid.nl/documenten/ronl-1373143dd67d6b2ebd2b374a4efa225aeac2cc81/pdf', 'https://open.overheid.nl/documenten/ronl-3b7642c361bb002c2de5c529914b2ddcf23cf621/pdf', 'https://open.overheid.nl/documenten/ronl-6b85ad0e2553133b51cf7cdaa3e9749451991b61/pdf', 'https://open.overheid.nl/documenten/ronl-d7758570adb96c23c604b17a97d31811a51b5860/pdf']\n",
      "['https://open.overheid.nl/documenten/ronl-b4ff45566a99dc8b2a9a53e7271e9fd16f6c98f1/pdf']\n",
      "['https://open.overheid.nl/documenten/ronl-3113e020afe74c557ddf55c3d1e65f3a5a145ae8/pdf']\n",
      "['https://open.overheid.nl/documenten/ronl-7f8069bec39aa4d84f117856f3e8b88805e7c13a/pdf', 'https://open.overheid.nl/documenten/ronl-a585523022833b0a337526b93f57d513e41428ee/pdf']\n",
      "['https://open.overheid.nl/documenten/ronl-3d4eff2ad8d24183672ef02b50ee40c4e85b169b/pdf', 'https://open.overheid.nl/documenten/ronl-4b1656a72262f05bc8d87fff197a145833fa084a/pdf', 'https://open.overheid.nl/documenten/ronl-fa076dbc26eda777e8ebbf5a0b62f7258acb6758/pdf']\n",
      "['https://open.overheid.nl/documenten/ronl-06a779b4225e7b6a719e0d7f3249d7a2a4443136/pdf', 'https://open.overheid.nl/documenten/ronl-0ea64cadde99960f77fc4a607f6a5b2814e65f01/pdf', 'https://open.overheid.nl/documenten/ronl-2963999ff2e7875c74f1880f70740e101e04dbe5/pdf', 'https://open.overheid.nl/documenten/ronl-62d0d8e816b81f2a77dac574f542e072ba89b549/pdf', 'https://open.overheid.nl/documenten/ronl-668b6921dfbbf526b1dd8b0e0ba88dbee0f3ebea/pdf', 'https://open.overheid.nl/documenten/ronl-90cafc7121afd3b046d65641b9e7f055317f484a/pdf']\n",
      "['https://open.overheid.nl/documenten/ronl-0d23b93d016a664ec524215f90cdfd1ae2d5c394/pdf', 'https://open.overheid.nl/documenten/ronl-62655e73b8be7154423a066ac99f7714c3c1f291/pdf']\n",
      "['https://open.overheid.nl/documenten/ronl-c6250a15ea504b7b3535572441db20adb484f441/pdf']\n",
      "['https://open.overheid.nl/documenten/ronl-137f5f8a01ad58e18ffc2230c66eeb8880c40d4c/pdf', 'https://open.overheid.nl/documenten/ronl-275d960bcf55e9b9ec09d7e558d7c6583609beeb/pdf']\n",
      "['https://open.overheid.nl/documenten/ronl-0d8e796f368b904eae70b031221bd83d4c86d566/pdf', 'https://open.overheid.nl/documenten/ronl-52afe202c4e05134b89211e6d19086b7ef756003/pdf']\n",
      "['https://open.overheid.nl/documenten/ronl-a9b3473f39ee81bd60b474d23dc574de2753da59/pdf']\n",
      "['https://open.overheid.nl/documenten/ronl-136576aea52bbbc176aa6e4b915ef941fce70307/pdf', 'https://open.overheid.nl/documenten/ronl-29afef2d4b9308ff91aea63c060ccec1cc80e4ed/pdf']\n",
      "['https://open.overheid.nl/documenten/ronl-87974044c87786ae6768532c6d05eda29a2f4a83/pdf']\n",
      "['https://open.overheid.nl/documenten/ronl-05efcafc97ffc58b785d5bd483738ac1584b2fb8/pdf', 'https://open.overheid.nl/documenten/ronl-1e1ca07f415d9b2d6c2e639338da8cf9daa5947c/pdf', 'https://open.overheid.nl/documenten/ronl-4b6f0aa3e3d481916ee42a239490ee44f3bdcabd/pdf', 'https://open.overheid.nl/documenten/ronl-710542fb73a273a409050485c66a8b5da324695c/pdf', 'https://open.overheid.nl/documenten/ronl-76fbc4839b874214904f40e055276362f8384f2b/pdf', 'https://open.overheid.nl/documenten/ronl-8b00b79a2ff2079be909aaf739e3fc9e014b25a8/pdf', 'https://open.overheid.nl/documenten/ronl-b13eef7bd66d735f015c61edc6bc1dd7df05f6e8/pdf', 'https://open.overheid.nl/documenten/ronl-f31c2978a7c1d18df77e2215895ae7c6a66af92a/pdf', 'https://open.overheid.nl/documenten/ronl-fc608a9c555904b0c657ae5fb23e91a791288119/pdf']\n",
      "['https://open.overheid.nl/documenten/ronl-26e563285723ae736ab1a01eddeb9f89c34c6a61/pdf', 'https://open.overheid.nl/documenten/ronl-55901d9ab22583d71806d551acc85b67565ab521/pdf', 'https://open.overheid.nl/documenten/ronl-f347865b87263ffc0166bed869ee96455bad551d/pdf']\n",
      "['https://open.overheid.nl/documenten/ronl-b94ed6187ca8e97c73f25f36069dce6778fe95b3/pdf', 'https://open.overheid.nl/documenten/ronl-c8a4bdc7af54727a4b64417af6caf60ac98057f5/pdf']\n",
      "['https://open.overheid.nl/documenten/ronl-00e87880bbdb492fd266364f434157160e474192/pdf', 'https://open.overheid.nl/documenten/ronl-834661a0ac1f1e5e864cbaf9f017686ec2360acd/pdf']\n",
      "['https://open.overheid.nl/documenten/ronl-1482a03f449140ead0f9c28cdbb4384fd821c9c2/pdf', 'https://open.overheid.nl/documenten/ronl-8abd6466106e773a88f9d4afedc98ffa26d55f29/pdf', 'https://open.overheid.nl/documenten/ronl-b8c4ee3011fd41f27d7926972609c6e51c638d96/pdf', 'https://open.overheid.nl/documenten/ronl-c882805467dbabd41da236502b8942beabdd6585/pdf']\n",
      "['https://open.overheid.nl/documenten/ronl-45678db6227cec95e2a07a91e0ec97686283c137/pdf', 'https://open.overheid.nl/documenten/ronl-4f77196436cc4ed95667e3b4031b250c9d74595d/pdf', 'https://open.overheid.nl/documenten/ronl-b20649d241afd7b282b488a84bc92f60c66c8222/pdf']\n",
      "['https://open.overheid.nl/documenten/ronl-221f82477024ac87ccefb36b42fcae6b0240f53a/pdf', 'https://open.overheid.nl/documenten/ronl-294a62820c4f2285d144b2eb4093e7d7513cb341/pdf', 'https://open.overheid.nl/documenten/ronl-a7497256a9ca0bc2f4f72efbe7aae5c7233962d8/pdf', 'https://open.overheid.nl/documenten/ronl-a970fc5b45af256c240aad4f9727f87971840085/pdf']\n",
      "['https://open.overheid.nl/documenten/ronl-52635f3d93a9a8bd3e1a1166df2c0da0408e86ab/pdf']\n",
      "['https://open.overheid.nl/documenten/ronl-034d6865b2267014396b2a70ecc499a9bb60adf3/pdf', 'https://open.overheid.nl/documenten/ronl-d3a04859846ecb0609d85e869459139ebdd6e1d9/pdf']\n",
      "['https://open.overheid.nl/documenten/ronl-6d19d9344165a2b78abc43bfb9a53226c1791fb6/pdf']\n",
      "['https://open.overheid.nl/documenten/ronl-12b641b24872666ab0257d7408e11b67ad45b9c7/pdf', 'https://open.overheid.nl/documenten/ronl-b674e24b060847006cca52b1207f079775c957b3/pdf', 'https://open.overheid.nl/documenten/ronl-d5b6725ea68e7f84c0d0c03c4c34efc11df4164e/pdf', 'https://open.overheid.nl/documenten/ronl-ee10d26732a9e863b5e3702b825653b65f1b37aa/pdf']\n",
      "['https://open.overheid.nl/documenten/ronl-55802eb9adf7bcfa50c824c5573f0682a40185ff/pdf', 'https://open.overheid.nl/documenten/ronl-875c0dac2666c2d9839017e7aa59470fbd9afa77/pdf', 'https://open.overheid.nl/documenten/ronl-ab48b039b6d34525c4206afb8efde67b5020455d/pdf', 'https://open.overheid.nl/documenten/ronl-cac459fbae4bf3f44eec532112fd9db45e186f82/pdf', 'https://open.overheid.nl/documenten/ronl-d926230265ae4f68624ece5829d3927e8c123fa1/pdf', 'https://open.overheid.nl/documenten/ronl-e62bc40796a52c1c91c9a3a8e064afdcf8e2221e/pdf']\n",
      "['https://open.overheid.nl/documenten/ronl-b6b4fba114cacc5d48faa720863c1aed5f0fe162/pdf']\n",
      "['https://open.overheid.nl/documenten/ronl-262b007fe84d37391414aad113a3a11ada01b5c4/pdf', 'https://open.overheid.nl/documenten/ronl-d48529158407acc7c7e8afec5fdbd1d25b731806/pdf', 'https://open.overheid.nl/documenten/ronl-e0a11a7dae660cf20d4eac3758033f62270b953d/pdf']\n",
      "['https://open.overheid.nl/documenten/ronl-39b7b77a0d88ee74760780a09876590323376370/pdf']\n",
      "['https://open.overheid.nl/documenten/ronl-ab68205d7241d3f183c5009a2b5c779cf8a67316/pdf']\n",
      "['https://open.overheid.nl/documenten/ronl-25a372e4dee5c261ffbbcd3cf3b095473d807b14/pdf', 'https://open.overheid.nl/documenten/ronl-a4221df81ccfe019479e369c25ddc4b0e2ad505c/pdf']\n",
      "['https://open.overheid.nl/documenten/ronl-a95e97f506522e62bef5556175a9316ccc3fafe2/pdf', 'https://open.overheid.nl/documenten/ronl-c02d905da63b6b4c5794a594b31ca933062c1433/pdf']\n",
      "['https://open.overheid.nl/documenten/ronl-4c95e0f625bf7629e05aeb8816b62fb65254c36b/pdf']\n",
      "['https://open.overheid.nl/documenten/ronl-6f7d7d3d11f23c4cbd95a88dd0c514b16b9cc2cf/pdf', 'https://open.overheid.nl/documenten/ronl-fe773b3bc5741f20393c35eac841d6695e1a3e76/pdf']\n",
      "['https://open.overheid.nl/documenten/ronl-63c07d242c62fdd2c5f5c603782d81cc3dcf2d0d/pdf', 'https://open.overheid.nl/documenten/ronl-9a5d66ee663adeb52ba94b12f30eea2260ad7787/pdf']\n",
      "['https://open.overheid.nl/documenten/ronl-a3005c029b61e51c00cf4c04b78a86d288790638/pdf']\n",
      "['https://open.overheid.nl/documenten/ronl-50f9a5c027568fd6ceeec946c1816dd9b7bae704/pdf', 'https://open.overheid.nl/documenten/ronl-d2627df18dcce8d252078967f8e09333603b66eb/pdf', 'https://open.overheid.nl/documenten/ronl-f8fe76f0718a21f9f39b8d1035b4d3cf4f0a5d78/pdf']\n",
      "['https://open.overheid.nl/documenten/ronl-cf4d68d0820c7be0f659478b07b46d4f06ef6cb0/pdf']\n",
      "['https://open.overheid.nl/documenten/ronl-637f218910b343ea862c5c115d73a064671dce8c/pdf', 'https://open.overheid.nl/documenten/ronl-cbf81f1331a27c8134ce7bea043e1087f6006c30/pdf']\n",
      "['https://open.overheid.nl/documenten/ronl-6eefcac01311880008bcce0a1d806cbc5196f47d/pdf', 'https://open.overheid.nl/documenten/ronl-82ec0d49566434d130307497e8878244d3215e60/pdf']\n",
      "['https://open.overheid.nl/documenten/ronl-524fb8b10f6acb4483a02a777c9b5229d9403a28/pdf', 'https://open.overheid.nl/documenten/ronl-bfeb6e208ad5cc64aca4734b9eb0c1936067395f/pdf']\n",
      "['https://open.overheid.nl/documenten/ronl-8dcd52288960df21b3b472c328d00ed35b7346d9/pdf']\n",
      "['https://open.overheid.nl/documenten/ronl-1a28f859c0f5fa6fb07cad1e817f04abbf58b94f/pdf', 'https://open.overheid.nl/documenten/ronl-45be1ce03ff520aad321e7eada13bf4531804fa2/pdf', 'https://open.overheid.nl/documenten/ronl-4d7a0dc637cce8ff7b022bab5a24934b1c1ccb39/pdf', 'https://open.overheid.nl/documenten/ronl-5b487581168514c5277ffae54ebea3783321089c/pdf', 'https://open.overheid.nl/documenten/ronl-722af66ea1ea037c2d96eebbacff2c2306b018c1/pdf', 'https://open.overheid.nl/documenten/ronl-9d14480ee216d091df4e5e6257e5c92316a05cb9/pdf', 'https://open.overheid.nl/documenten/ronl-ba4fd650c2f797726d93353bead79fb0365b6f37/pdf', 'https://open.overheid.nl/documenten/ronl-f30c1535314ed089d68e0a5ba87a82922dfc16b7/pdf']\n",
      "['https://open.overheid.nl/documenten/ronl-4b72fb4d1b6e0140b738253ac692523319ec7cd2/pdf', 'https://open.overheid.nl/documenten/ronl-bbbe4bffe7b837c496855dd7fa5fd69b29cfb99a/pdf']\n",
      "['https://open.overheid.nl/documenten/ronl-07fa583e4821da95068497ef265c6a83cac77cda/pdf', 'https://open.overheid.nl/documenten/ronl-1d74551bedf53116f126274b0527901e01ec2e9b/pdf', 'https://open.overheid.nl/documenten/ronl-3a79c0c844f64ef3b59a34dd600aa9d7c064690a/pdf', 'https://open.overheid.nl/documenten/ronl-3dc7684adde86cdf03a6dd165f14b558e2168328/pdf', 'https://open.overheid.nl/documenten/ronl-9b5e7be3ab38634d1dd3b5492c0ce0cacc17c71b/pdf', 'https://open.overheid.nl/documenten/ronl-b05840ed15922b88f5dfa5f6c2a35ff103dbc8e7/pdf', 'https://open.overheid.nl/documenten/ronl-bc12456cf14ef74f7418dc977f8f1fb283b76f20/pdf']\n",
      "['https://open.overheid.nl/documenten/ronl-1499523c8da17f0f49fd3275ef6104e222749afa/pdf']\n",
      "['https://open.overheid.nl/documenten/ronl-07d0d626fb0271957fc02025c3ede15f29da13e7/pdf', 'https://open.overheid.nl/documenten/ronl-bcbe51333e5e180c1dbf5c38b3fa4628c7972383/pdf']\n",
      "['https://open.overheid.nl/documenten/ronl-6def03e0cf9c37c7cbc96292e20eebf082502e62/pdf', 'https://open.overheid.nl/documenten/ronl-dc0bfece6c71343bd93be515cc86cbbff1dbdbc9/pdf', 'https://open.overheid.nl/documenten/ronl-fdb41fe9ff1d6001d05efe2ddcda9e13fa78fba9/pdf']\n",
      "['https://open.overheid.nl/documenten/ronl-a7415d6e26c005a796aa712457c267bde8e67f0d/pdf']\n",
      "['https://open.overheid.nl/documenten/ronl-65f48d93da03dd82d8db0693c79434f62eff57ad/pdf', 'https://open.overheid.nl/documenten/ronl-cd22e807de1ef20cfafff0531f80c616b3723186/pdf']\n",
      "['https://open.overheid.nl/documenten/ronl-2b98c432408371cf0bed902091dba99934349adf/pdf', 'https://open.overheid.nl/documenten/ronl-3353813d5a3a832c654b9d7b8fb16c3f20ea7a03/pdf', 'https://open.overheid.nl/documenten/ronl-3842035c114a86a671bdee06960564f079cab197/pdf']\n",
      "['https://open.overheid.nl/documenten/ronl-54a367912b68bcec2f6d39669aaf7f1fd7fe0f99/pdf', 'https://open.overheid.nl/documenten/ronl-d8a2514949e2cbbbb502f56906a4005a6f9cd9c7/pdf']\n",
      "['https://open.overheid.nl/documenten/ronl-2729fa0ff1802870e76cac0ef760d0ffa7da7237/pdf', 'https://open.overheid.nl/documenten/ronl-6e3d07253ff5ab5426e093c3611108b3d37169fe/pdf', 'https://open.overheid.nl/documenten/ronl-bffcd2169dcb73fd3ff78a4f4c8f28ff5ec9f9a0/pdf']\n",
      "['https://open.overheid.nl/documenten/ronl-06c1cc515d46b1e37b3fed5439764229cdbec9e3/pdf']\n",
      "['https://open.overheid.nl/documenten/ronl-5e9f2ee4d1f4308304595503eb29d935bbed9023/pdf', 'https://open.overheid.nl/documenten/ronl-78f3d5463d985af1f756be1690438315897e413b/pdf', 'https://open.overheid.nl/documenten/ronl-c0f483fdde5b73dbada28d8aac835ccfbd355535/pdf', 'https://open.overheid.nl/documenten/ronl-e98397ca10bdc2b8e6444cf73b6ff051fdbae4cb/pdf']\n",
      "['https://open.overheid.nl/documenten/ronl-9cbd5ec47666fadff530d2cfb7ea69dbbc676044/pdf', 'https://open.overheid.nl/documenten/ronl-f8311432305224dba13b26ca7b0bbceb9805a2f7/pdf']\n",
      "['https://open.overheid.nl/documenten/ronl-9338a27dc2a6d160079a6686aa96700970682c6d/pdf', 'https://open.overheid.nl/documenten/ronl-b28f01d36dfbeb11cd159c2cc763a108989e5b9a/pdf']\n",
      "['https://open.overheid.nl/documenten/ronl-ec56e82ea7f35a1c3bc701cb6172aeaf4f289359/pdf']\n",
      "['https://open.overheid.nl/documenten/ronl-13b8bdb6445b224ec679d7959b8050904b8c32a5/pdf', 'https://open.overheid.nl/documenten/ronl-1765b39e439ae02b7dd9e2a2f52989277f00f7db/pdf', 'https://open.overheid.nl/documenten/ronl-1f652f09556931cd4d08d734de7d5257249bfd78/pdf', 'https://open.overheid.nl/documenten/ronl-55d640d245a6e48d78bcb4edb32dcea42ecdb68b/pdf', 'https://open.overheid.nl/documenten/ronl-6dd38b3bc7fcec93fbc9b51e9cbc445fdfcdcf14/pdf', 'https://open.overheid.nl/documenten/ronl-7eb22bfe0f3e91cae99c507febb5d1f8036f665d/pdf', 'https://open.overheid.nl/documenten/ronl-96d9a7bc09ddc9913899e459e063af7d6253b431/pdf', 'https://open.overheid.nl/documenten/ronl-e4aaf69ea4bc86f43eed2a68774a50e3bf01db97/pdf']\n",
      "['https://open.overheid.nl/documenten/ronl-3424c729eb56a897330638ff8ad70c967dd1817b/pdf']\n",
      "['https://open.overheid.nl/documenten/ronl-cc71b9b71f0a76fd8cd75dc20cc88ae3e69a3fe2/pdf']\n",
      "['https://open.overheid.nl/documenten/ronl-168b46abb45e3f7c0de8338a8afdc59f3e674e40/pdf']\n",
      "['https://open.overheid.nl/documenten/ronl-82f60897f411bb510c8dbe60234fc87a79013fcd/pdf']\n",
      "['https://open.overheid.nl/documenten/ronl-07a47b80bb7ce7633730e5f78582baf84c154348/pdf', 'https://open.overheid.nl/documenten/ronl-ace2b502d12b2f79503d25bdfdcd9ae15628794f/pdf']\n",
      "['https://open.overheid.nl/documenten/ronl-988336dcfebb0657dba879a19a355f3882d9d24f/pdf', 'https://open.overheid.nl/documenten/ronl-9b04fc208818f879926c6e49a6e5b02d67e86976/pdf']\n",
      "['https://open.overheid.nl/documenten/ronl-de2c06499de7a664ec49daa4d78445613b0d6f0f/pdf']\n",
      "['https://open.overheid.nl/documenten/ronl-8a7300e034a18bbd45ff6eacbcd1243ca55ee2ac/pdf', 'https://open.overheid.nl/documenten/ronl-acb31218765f430ad20a15c8831e09f962329e1b/pdf']\n",
      "['https://open.overheid.nl/documenten/ronl-04ec0f375030ca81e79ae4eaafc51664d5817064/pdf']\n",
      "['https://open.overheid.nl/documenten/ronl-13baf22610fd0e1482480eb898d62b9c48c5f760/pdf', 'https://open.overheid.nl/documenten/ronl-67d6eeefef30fe484cc57cc88e6a6560dd933ee9/pdf', 'https://open.overheid.nl/documenten/ronl-99d137e479d2742cc57423f69fb27020016dc906/pdf', 'https://open.overheid.nl/documenten/ronl-b9082813dacd88d0b358e18525b01a6f1e25d1f6/pdf', 'https://open.overheid.nl/documenten/ronl-ea2d9844b78b963b8867aa08d59d6389a777a40a/pdf']\n",
      "['https://open.overheid.nl/documenten/ronl-bcd000041cecb7771628cd2c90e86ab75246531e/pdf']\n",
      "['https://open.overheid.nl/documenten/ronl-4f923594af20d80a78aeff3fcaa43535b9361829/pdf']\n",
      "['https://open.overheid.nl/documenten/ronl-10d77b58cf85cb5906e9bd7c3a154086a60ac45a/pdf']\n",
      "['https://open.overheid.nl/documenten/ronl-0c198cb3fda61a72e9f4d1891faf96558b2b4fae/pdf', 'https://open.overheid.nl/documenten/ronl-2368a81cc0e031ecc9fd7398a83d0bd18463c318/pdf']\n",
      "['https://open.overheid.nl/documenten/ronl-d9b90aeeb8aa5eeb90738db5a9a4a78a3ba6d5ff/pdf']\n",
      "['https://open.overheid.nl/documenten/ronl-20fac1fed28584de0e8a694b743a01758419aaed/pdf', 'https://open.overheid.nl/documenten/ronl-29f0b2eac5f3915a8fc7f9cff2b873d6aaba057a/pdf', 'https://open.overheid.nl/documenten/ronl-854b823ac3b5cca49382194d97f84b1ec618f63a/pdf', 'https://open.overheid.nl/documenten/ronl-def2e42b7596c89606e75cdf0708882304e49b14/pdf']\n",
      "['https://open.overheid.nl/documenten/ronl-54d24438aef181939c4e79b654a55a9c6096ac60/pdf', 'https://open.overheid.nl/documenten/ronl-a665cea90cdad404c6653f64c014284945669721/pdf', 'https://open.overheid.nl/documenten/ronl-ab4a4708104a7f929e293f31bf8537b938fd7bed/pdf']\n",
      "['https://open.overheid.nl/documenten/ronl-1b41185848844bba2a5efd3d3414e0a5798e03e0/pdf', 'https://open.overheid.nl/documenten/ronl-b394a01ba6a6fa2c0277df36c035847946ed7b5a/pdf']\n",
      "['https://open.overheid.nl/documenten/ronl-363edc64d0f85df80a3446ec376ee367b441837b/pdf', 'https://open.overheid.nl/documenten/ronl-6eef554d13dad04e060a8550fe6a5af7da2fc4c7/pdf']\n",
      "['https://open.overheid.nl/documenten/ronl-be9fc1e3336d7bcd03418f0d8c7decc53159d8f9/pdf']\n",
      "['https://open.overheid.nl/documenten/ronl-3312090a3ab0ff93ba03785407a7221559555a5e/pdf', 'https://open.overheid.nl/documenten/ronl-a319a09a3870c9ccfaf54b12d57885586dec8b11/pdf', 'https://open.overheid.nl/documenten/ronl-f783568bd52401690f4ced60916bed41ed8db605/pdf']\n",
      "['https://open.overheid.nl/documenten/ronl-2d9782ecb0250e652b4aeff32de7971f7517f392/pdf', 'https://open.overheid.nl/documenten/ronl-955e620be5cd59acc3b71bd998bf68de3ccf87ab/pdf', 'https://open.overheid.nl/documenten/ronl-e6228b62e0f9eb0d7f68f74c417e209abe4a2259/pdf']\n",
      "['https://open.overheid.nl/documenten/ronl-4a52bee269b918499a31f344c5baa765243e3024/pdf', 'https://open.overheid.nl/documenten/ronl-b50e7758893776fc435e33b6126ffc50b53740d3/pdf']\n",
      "['https://open.overheid.nl/documenten/ronl-3a3bde589fa78cff1521a612e87b8b838f3629a8/pdf', 'https://open.overheid.nl/documenten/ronl-a4516e73407981e8249f71c82d4a9fc3d051265c/pdf']\n",
      "['https://open.overheid.nl/documenten/ronl-423b359caff02496ca381f194492f401f21066b6/pdf', 'https://open.overheid.nl/documenten/ronl-7508219cb5bac96f9a6d7586947ad245ff8f623f/pdf', 'https://open.overheid.nl/documenten/ronl-8cdc0f3ad7fa3ff0534906157604b363bd5ee108/pdf']\n",
      "['https://open.overheid.nl/documenten/ronl-610c8c54894a4c57b05bbadcd443080e21798102/pdf', 'https://open.overheid.nl/documenten/ronl-f32236046370ded0ba047e689cc2e0c34103aa81/pdf']\n",
      "['https://open.overheid.nl/documenten/ronl-c691f3722753087aee3cba53ed086a242e81d6e5/pdf']\n",
      "['https://open.overheid.nl/documenten/ronl-2e80cd9ac7b2fa630006b34670cb315fd6bdac95/pdf']\n",
      "['https://open.overheid.nl/documenten/ronl-30291371b0521de7c46992ebea6691488010675f/pdf', 'https://open.overheid.nl/documenten/ronl-467fc355b44fb5ce55d1292c7bbcee492b7935f2/pdf', 'https://open.overheid.nl/documenten/ronl-bdb8482bd2f86a334c648ebd55ffc15447b4bc38/pdf', 'https://open.overheid.nl/documenten/ronl-c220cc5d61e8eddd0631d301a35e7f4eb78118b6/pdf', 'https://open.overheid.nl/documenten/ronl-df7fdb6d0c2c181c67cabbc2a5952beee30b0977/pdf']\n",
      "['https://open.overheid.nl/documenten/ronl-255ed11ef11a273b831c47ad304e9546d93355e0/pdf']\n",
      "['https://open.overheid.nl/documenten/ronl-0fab3d8eeab59f648ab98a815000d655b6413be9/pdf', 'https://open.overheid.nl/documenten/ronl-3d17b9cb4019e43fc534cddd047e1fb5bc20c159/pdf', 'https://open.overheid.nl/documenten/ronl-563ff2864fe069b6d75980597e6f5ef4fc21311e/pdf', 'https://open.overheid.nl/documenten/ronl-7640719323f4d3a13d1aeface46bfc4ca61f1a8e/pdf']\n",
      "['https://open.overheid.nl/documenten/ronl-36c9188258b3c0a85253b7b290268c1766cb306a/pdf', 'https://open.overheid.nl/documenten/ronl-46aaa0642d20173b4bf452879405dddd05a5b612/pdf', 'https://open.overheid.nl/documenten/ronl-5a889279376c2c3914a6b1d8ba874aca99cacbf7/pdf', 'https://open.overheid.nl/documenten/ronl-8cb51eae9f83ade1387f5dd25983aa61b545d9c1/pdf', 'https://open.overheid.nl/documenten/ronl-a2b0259866c7fe33ef1a0d28f59006dfbe53069f/pdf']\n",
      "['https://open.overheid.nl/documenten/ronl-3c02f5f55d4cdbb36a83a8c4f64b51e034871689/pdf', 'https://open.overheid.nl/documenten/ronl-60013c81634616427505fd337778eb089c94ee22/pdf']\n",
      "['https://open.overheid.nl/documenten/ronl-2655bdc0b9373c38c2f842c9decc22cfc1673c00/pdf', 'https://open.overheid.nl/documenten/ronl-adf4aca407ad2368cfc64f8db92ae3f7768c1849/pdf']\n",
      "['https://open.overheid.nl/documenten/ronl-6e383c0444ace1e984b132d23a90eabff7e081db/pdf', 'https://open.overheid.nl/documenten/ronl-87870dd8e459fbec1d4f55e09bd5a16334d72da5/pdf']\n",
      "['https://open.overheid.nl/documenten/ronl-16e1c85596d744c96879e788bc33620304528293/pdf', 'https://open.overheid.nl/documenten/ronl-33ff227e628de2b415309147b4b24b4c5720bb17/pdf']\n",
      "['https://open.overheid.nl/documenten/ronl-3f1a193ac2fb31b7aeb738177f74392c56082731/pdf']\n",
      "['https://open.overheid.nl/documenten/ronl-95badb55111e4f494537b6b5e801f6b812384da2/pdf', 'https://open.overheid.nl/documenten/ronl-c8fdc0ed398409a1dbeae58c46f59d4fee7e0b64/pdf', 'https://open.overheid.nl/documenten/ronl-ce8bd59d6a80cd42b332dceaa2de7c87a472b3de/pdf', 'https://open.overheid.nl/documenten/ronl-e6c19e566f91d907992aa9f7eb4668a76ebc4bfa/pdf']\n",
      "['https://open.overheid.nl/documenten/ronl-1e2f3b61f79ceea6a35e49c717d3b882fdaa727c/pdf', 'https://open.overheid.nl/documenten/ronl-314af26eb1e16f3146b2945916557f3d9cf14bae/pdf', 'https://open.overheid.nl/documenten/ronl-d9235796602690d9b098dadb67e9d01657d6139a/pdf']\n",
      "['https://open.overheid.nl/documenten/ronl-2124f37102761ecaf0247f34794f85a9889bdcde/pdf', 'https://open.overheid.nl/documenten/ronl-6ca1c893d9eac8d7386611085118c35dcabaa181/pdf', 'https://open.overheid.nl/documenten/ronl-8639ab6a1b1ec3b68142514d46ca2d7c2390624b/pdf', 'https://open.overheid.nl/documenten/ronl-9f4276a0f6d92720e1a701ab99d471d441926c48/pdf', 'https://open.overheid.nl/documenten/ronl-fcb6a50c6d8dbad0ca89d7106e29f2c9c70d941d/pdf']\n",
      "['https://open.overheid.nl/documenten/ronl-74cc079b5c85ad74d367e9fc10b466c3672bd2ee/pdf']\n",
      "['https://open.overheid.nl/documenten/ronl-3c8dd377ac5c8ff6b61ec2eafbcbad2489a32da4/pdf']\n",
      "['https://open.overheid.nl/documenten/ronl-438c08b40adffeac99f1e0515ed1cedc7b606a57/pdf', 'https://open.overheid.nl/documenten/ronl-5e768097702588083f9dcae7792ad728c7c11e52/pdf', 'https://open.overheid.nl/documenten/ronl-da28a88504db54368b180bdb55e60d0c595bd909/pdf', 'https://open.overheid.nl/documenten/ronl-f823ccd72448412faf61c8f06742c98c29c76baa/pdf']\n",
      "['https://open.overheid.nl/documenten/ronl-38e8683b0cd26ec6288c8dcd0abf0d73a87cda4d/pdf', 'https://open.overheid.nl/documenten/ronl-c333bf856f84470c3bad6598ef600bad5223489a/pdf', 'https://open.overheid.nl/documenten/ronl-ddad2550da6c76bbe76d3fb160563467d65ca7c2/pdf']\n",
      "['https://open.overheid.nl/documenten/ronl-2ff6cce6fe5442c4895365a7699c5fec799965f7/pdf']\n",
      "['https://open.overheid.nl/documenten/ronl-5891c381fb2f7aae8162bbe6a77fe5d30051e69b/pdf', 'https://open.overheid.nl/documenten/ronl-6734dabd8a7bda89bd4f573fef5ff38dae57c399/pdf']\n",
      "['https://open.overheid.nl/documenten/ronl-209a154347afef92f2bb92a8d253f823bf2ec8f8/pdf', 'https://open.overheid.nl/documenten/ronl-4b81ea122ee6d8d787c43a8e3438a06faa3f199a/pdf']\n",
      "['https://open.overheid.nl/documenten/ronl-1a507af0e6144afaa0df26d168f38c557d87f0ce/pdf', 'https://open.overheid.nl/documenten/ronl-7d6e536b5be183f11757062241e777263d78599f/pdf']\n",
      "['https://open.overheid.nl/documenten/ronl-3fe5688b32a304bd19e50570fa5c03eac42fd54f/pdf', 'https://open.overheid.nl/documenten/ronl-56d2575888342f91a3175d7e9c977df7284f317e/pdf', 'https://open.overheid.nl/documenten/ronl-5b8f60c336dfc7f5792bd71937ae443bf6d43d2f/pdf', 'https://open.overheid.nl/documenten/ronl-9587c5fab4cf5e9d383272512efc341fe13a89ff/pdf', 'https://open.overheid.nl/documenten/ronl-959eb2f975885864ca2960ff83bf4771b7900b19/pdf', 'https://open.overheid.nl/documenten/ronl-a590fd14898a1e3a0019f5852642cc2c0094a4d7/pdf', 'https://open.overheid.nl/documenten/ronl-b1459317057c26d4134c9bfb6640cc8eb783855e/pdf', 'https://open.overheid.nl/documenten/ronl-f04265defecb3a7b5ed50584790d534a0dd3f41e/pdf']\n",
      "['https://open.overheid.nl/documenten/ronl-20c081d81ca01a854d04c6526ef892806249c334/pdf']\n",
      "['https://open.overheid.nl/documenten/ronl-220a4975ba29aec3ae8e2472f3bac98ab3526ecd/pdf']\n",
      "['https://open.overheid.nl/documenten/ronl-143dc078855c6d69a170a4a9957a74005ce1c4e8/pdf', 'https://open.overheid.nl/documenten/ronl-fcb5acdeaa3c4b0f1bd7ccb2c58e3950c4f2f1c2/pdf']\n",
      "['https://open.overheid.nl/documenten/ronl-641f88bd0d453d0df3c3817997ebec2d2304f0d4/pdf', 'https://open.overheid.nl/documenten/ronl-e01018dfa63f2e37253dee004d55fabd722cb824/pdf']\n",
      "['https://open.overheid.nl/documenten/ronl-8ca72ba9128db0e95d5b85c59384d0beb34d7943/pdf']\n",
      "['https://open.overheid.nl/documenten/ronl-c5d4922e3abfb72893f7cd82f3d601c351928e93/pdf']\n",
      "['https://open.overheid.nl/documenten/ronl-cab30b3440dafc6840ff14d9022e6583fe38a8f1/pdf']\n",
      "['https://open.overheid.nl/documenten/ronl-eea1ff959bc620cc66d81114f8448686d379db4a/pdf']\n",
      "['https://open.overheid.nl/documenten/ronl-0c5f1e80bafc13a92da9cfed48e9fd7753f3d643/pdf', 'https://open.overheid.nl/documenten/ronl-539e5ce91f8f4adda0fe91c08cb525746325e16f/pdf', 'https://open.overheid.nl/documenten/ronl-65849b4b50377fcbb68c005cab4926eaee4488fd/pdf', 'https://open.overheid.nl/documenten/ronl-c50fdab80b98c39378aabf08d7bf3ac230c748ca/pdf', 'https://open.overheid.nl/documenten/ronl-cf216a26e1e6350e94fe5ab79175800332ef7cc3/pdf']\n",
      "['https://open.overheid.nl/documenten/ronl-818681b2414401d7c6f0b58c693a15bef60302c4/pdf', 'https://open.overheid.nl/documenten/ronl-837c7e7ae4171c649fcadbfe99b51161d501a59e/pdf', 'https://open.overheid.nl/documenten/ronl-8d5f2024a841e0c6811e2a19b2a56654ebee86d7/pdf', 'https://open.overheid.nl/documenten/ronl-b18310076f91d921b8f73afa322c5ace573cbcde/pdf', 'https://open.overheid.nl/documenten/ronl-bcbbda3bac3210a50f169c77d461f4a227dd6e7e/pdf']\n",
      "['https://open.overheid.nl/documenten/ronl-50299ef1920c68f10f345a265c0b40e187236b27/pdf', 'https://open.overheid.nl/documenten/ronl-dbfdb43cec6b5bfec0790ab7b626b3fab824910e/pdf', 'https://open.overheid.nl/documenten/ronl-e6aaa0cacce0dc86e266877b6d890a5c769d927f/pdf']\n",
      "['https://open.overheid.nl/documenten/ronl-4e495d13627422ffe2cf97e7bf443090fa09707f/pdf']\n",
      "['https://open.overheid.nl/documenten/ronl-15a74204d876a2da425276888c3a1e8cf4d12924/pdf', 'https://open.overheid.nl/documenten/ronl-f07b96238873d2d52ff1f87645689de5df669184/pdf']\n",
      "['https://open.overheid.nl/documenten/ronl-3136073d93e11c83e7edaf53de68455da082a657/pdf', 'https://open.overheid.nl/documenten/ronl-467e413a30aa3a7c4a1c77377482084943abb45f/pdf', 'https://open.overheid.nl/documenten/ronl-7dc3dff05ced755a85aec70a951ab35ad66fe0e4/pdf']\n",
      "['https://open.overheid.nl/documenten/ronl-0d912a765e71cd0ce4b09326d6a4d2daaa747c63/pdf', 'https://open.overheid.nl/documenten/ronl-0ec8999f5ca52b0771c15db7bd5dcb167016664c/pdf']\n",
      "['https://open.overheid.nl/documenten/ronl-3fe7d02a9afd59c17b5d81e5874366775d5a38f8/pdf', 'https://open.overheid.nl/documenten/ronl-80e559579a3c55ee5559bd93ffbd8696c22c5ef4/pdf', 'https://open.overheid.nl/documenten/ronl-eaafa54c46394b1c631c4893169768e2d65138e5/pdf']\n",
      "['https://open.overheid.nl/documenten/ronl-a57e0339b371e7df98f9e7c58d60db116941ebfd/pdf', 'https://open.overheid.nl/documenten/ronl-c54e55bfc634dce9dc60d28b612eff7bcb001a4c/pdf']\n",
      "['https://open.overheid.nl/documenten/ronl-b9f4428d75d9969f400375949166b5c86d99a394/pdf', 'https://open.overheid.nl/documenten/ronl-d38fdc2c7f9d5779a053809ef0a7cd41ea2ea5b5/pdf', 'https://open.overheid.nl/documenten/ronl-e6421570ac800b6d335d88dfcacf3887669ad1a0/pdf']\n",
      "['https://open.overheid.nl/documenten/ronl-8984e2125edb0a823db1e72a06041a1f95c18dfa/pdf']\n",
      "['https://open.overheid.nl/documenten/ronl-69d8c5a704daeba530fbfc03eb74f1843f6da29a/pdf', 'https://open.overheid.nl/documenten/ronl-e8e94b95e048c8d3035fc9a06697a13c63571a63/pdf']\n",
      "['https://open.overheid.nl/documenten/ronl-0221001c75f877d38d3f5cd16ce5a8ead1316dfd/pdf', 'https://open.overheid.nl/documenten/ronl-d067b16ad7a31f4201ee2d37978a67736282cd3e/pdf']\n",
      "['https://open.overheid.nl/documenten/ronl-49961c10cc593a2aa4ddd56519ecf6839e1fb0b5/pdf', 'https://open.overheid.nl/documenten/ronl-9b9af6f202cbae332301dd05ee71f6b17ef2683a/pdf']\n",
      "['https://open.overheid.nl/documenten/ronl-04d719b9198e67c04c9473e99535fd7d308e18db/pdf', 'https://open.overheid.nl/documenten/ronl-0b38814267820b620a74b47331fb26464d5db586/pdf', 'https://open.overheid.nl/documenten/ronl-1a6cdb470136c7fc3694b217f8c3301c120bdb97/pdf', 'https://open.overheid.nl/documenten/ronl-3ea8f1ca04af0f1c231d282ab754752c07c25d20/pdf', 'https://open.overheid.nl/documenten/ronl-cc941bd93be4a08cba90983a3c70075148ef5a7b/pdf']\n",
      "['https://open.overheid.nl/documenten/ronl-7a6c675babae4f89c6cc562d415eb76935aba573/pdf', 'https://open.overheid.nl/documenten/ronl-e49687473f909f19d40fa3cbe65489ffaaaa5ca7/pdf']\n",
      "['https://open.overheid.nl/documenten/ronl-7d7c13b2447962f41c55ffb1d320c2c5064f1818/pdf']\n",
      "['https://open.overheid.nl/documenten/ronl-aeb447eb21bcb19746abea0318904219d49b5742/pdf']\n",
      "['https://open.overheid.nl/documenten/ronl-1b9b76ff08f16415159da09b619903865851ef44/pdf', 'https://open.overheid.nl/documenten/ronl-2684a48fd5388285b21bb0bccc9b6b9c8f67dc07/pdf', 'https://open.overheid.nl/documenten/ronl-75c42ef15520b46874c1b65c4eab2e7e8acbe2e3/pdf', 'https://open.overheid.nl/documenten/ronl-d6437a502ca29c2cabffe80d04c2dbd7708dfbd7/pdf']\n",
      "['https://open.overheid.nl/documenten/ronl-6c7fccc36d982d3338fa9440358529b7100f6d24/pdf', 'https://open.overheid.nl/documenten/ronl-83f8b25de7276a00ecf74b514ff1d554d74d059a/pdf']\n",
      "['https://open.overheid.nl/documenten/ronl-882f19e1b3b19ed603b60456e3b04a96345fd22a/pdf', 'https://open.overheid.nl/documenten/ronl-b826b6f96be8b19e86cb01b2d2a4f0d660229323/pdf']\n",
      "['https://open.overheid.nl/documenten/ronl-2e9b2b6d53ffc44298aaa5150b3591b6e696a7f6/pdf', 'https://open.overheid.nl/documenten/ronl-66615512b8519bde08e3e9b24676fd5b5d66611b/pdf']\n",
      "['https://open.overheid.nl/documenten/ronl-184f795ef802b981aad1c600dbb0fa60515e54f9/pdf', 'https://open.overheid.nl/documenten/ronl-a666fdef989b0d395cc10e3d303d975faac61c90/pdf']\n",
      "['https://open.overheid.nl/documenten/ronl-0652a6a0f9c03497bc72cc8cabfed7369502c694/pdf', 'https://open.overheid.nl/documenten/ronl-1b3bc50eb791666809f43c267aa9c953a54442af/pdf', 'https://open.overheid.nl/documenten/ronl-5bc6a49f9a7b5cd048d0bcf92a3129b57bb8d9d8/pdf']\n",
      "['https://open.overheid.nl/documenten/ronl-acc016d99d9ebc6d170c2738d91e8fa3bfc058e5/pdf']\n",
      "['https://open.overheid.nl/documenten/ronl-bb8398b477ffc2b5e20adcd5e0ae411f65229032/pdf']\n",
      "['https://open.overheid.nl/documenten/ronl-c30a37da8d1128d8eeb6f4abb67be97e4f2a1233/pdf', 'https://open.overheid.nl/documenten/ronl-fc623d72262d32be7ef68a82316d46aa68d79490/pdf']\n",
      "['https://open.overheid.nl/documenten/ronl-1699c4001b6d7aed6a1f71fc81c3ccccef1fd34a/pdf', 'https://open.overheid.nl/documenten/ronl-7a4ecb7d866df3e0394ad03a2a0f6b949ad355c6/pdf', 'https://open.overheid.nl/documenten/ronl-c5ad9ba366700d1d5051030e73c2c54ff38de557/pdf']\n",
      "['https://open.overheid.nl/documenten/ronl-10b71d19fd99f2ad523cb9be1d8b40676b8c0912/pdf']\n",
      "['https://open.overheid.nl/documenten/ronl-e87a3f175544e7dcac7d60c19acd47d7dbd060c2/pdf']\n",
      "['https://open.overheid.nl/documenten/ronl-0cdd548c4d2ea35b5bf815636ceed7d0b9ed43a7/pdf']\n",
      "['https://open.overheid.nl/documenten/ronl-268e06f52d666302497be8df531c2938d921485a/pdf']\n",
      "['https://open.overheid.nl/documenten/ronl-5ec231f03773ce22d913c26bd746d40f54787faa/pdf']\n",
      "['https://open.overheid.nl/documenten/ronl-caeafb62a5ca3349a450a489327b8200e5e3fb14/pdf']\n",
      "['https://open.overheid.nl/documenten/ronl-f3be3600db00ffc1042e433bb510e59d6bd078db/pdf']\n",
      "['https://open.overheid.nl/documenten/ronl-59b29cc622e4067ab1d160470e9047e7c73cb421/pdf']\n",
      "['https://open.overheid.nl/documenten/ronl-ba46e18d752e1fd78500a2933d1f032c96d78d44/pdf']\n",
      "['https://open.overheid.nl/documenten/ronl-7bc252ec5ec1a6ee5683e66e6a4198d496954473/pdf']\n",
      "['https://open.overheid.nl/documenten/ronl-65dc44ff9b70e432c72a28b20bd5899c96aca537/pdf', 'https://open.overheid.nl/documenten/ronl-b96f8f9f478e10b3980f977aee986441678898e6/pdf']\n",
      "['https://open.overheid.nl/documenten/ronl-301aa388be756069e147761de27aad614af51f4e/pdf', 'https://open.overheid.nl/documenten/ronl-db69fe1fe5d21b5ad2276e6b21e1a9c2a37ca454/pdf']\n",
      "['https://open.overheid.nl/documenten/ronl-b9b6471bf684d5ccedf7e4b9eaac94705272ebf7/pdf']\n",
      "['https://open.overheid.nl/documenten/ronl-d1b14dec0c42dbae6cba1c62256a1bd04b02a51f/pdf']\n",
      "['https://open.overheid.nl/documenten/ronl-8ebd0137644f38691b7130237446a44107a9633c/pdf']\n",
      "['https://open.overheid.nl/documenten/ronl-aa9f7c4483ea6f5fe9a5ae24435b32637e66f022/pdf', 'https://open.overheid.nl/documenten/ronl-ca22efd2ab465867e27cb63d68ac84a66c05453f/pdf']\n",
      "['https://open.overheid.nl/documenten/ronl-ba8133c0e9c1e68a2fad21ce39f5b667520798a7/pdf', 'https://open.overheid.nl/documenten/ronl-e648a44d9462f932a06ef905273b77e711d94bb3/pdf', 'https://open.overheid.nl/documenten/ronl-eeed6705eefbdb1c2d26831d54ca459eb3f17fda/pdf']\n",
      "['https://open.overheid.nl/documenten/ronl-57023898926722e870d3d6e9f7a240ee52afd62c/pdf', 'https://open.overheid.nl/documenten/ronl-6f896fe0c7bf0be1716827c717fb4562e18fda08/pdf']\n",
      "['https://open.overheid.nl/documenten/ronl-ac0cd7a05085da524202646284cdcaf38d698d66/pdf', 'https://open.overheid.nl/documenten/ronl-b16effeefc1da315238898476c2e984433648482/pdf']\n",
      "['https://open.overheid.nl/documenten/ronl-0e3ec098895e26824182fb19bc7e09531a26ef31/pdf', 'https://open.overheid.nl/documenten/ronl-f3d4521160837792fd932681890b9955a80d7573/pdf']\n",
      "['https://open.overheid.nl/documenten/ronl-066230a0bda7a95a2a32b5bc26df89a465a7eb8f/pdf']\n",
      "['https://open.overheid.nl/documenten/ronl-d0df509e9db829e88874d3059dfb56fec06d13fa/pdf']\n",
      "['https://open.overheid.nl/documenten/ronl-6ad11d595110423e4092f2698937dc4b13d762cb/pdf', 'https://open.overheid.nl/documenten/ronl-e574042147350d1278d7a7126657df44fc50618f/pdf', 'https://open.overheid.nl/documenten/ronl-fb21e9c8eabef8aa42b8c558b26bd729036aba0b/pdf']\n",
      "['https://open.overheid.nl/documenten/ronl-11ff0c396136096b4d37d9a2a85963f6cfff533a/pdf', 'https://open.overheid.nl/documenten/ronl-6a6614012fc0591fce0a7b1a59081c0f216d3704/pdf']\n",
      "['https://open.overheid.nl/documenten/ronl-7378c2b003ece13b4661a9cee03e930970339f2a/pdf']\n",
      "['https://open.overheid.nl/documenten/ronl-abc9ffb9c394387a4dda2f0e87cd9462d19aaf8b/pdf']\n",
      "['https://open.overheid.nl/documenten/ronl-6a3d113966d674e185579409c5a1360cff2c1123/pdf']\n",
      "['https://open.overheid.nl/documenten/ronl-af2332e89bcdfae90de0c8619d52664fed5710c6/pdf']\n",
      "['https://open.overheid.nl/documenten/ronl-4e3705d5181db98aa311db2dfd93b19b9c6a3b0a/pdf', 'https://open.overheid.nl/documenten/ronl-71c4cdcd67c958b071409df9cb561de6e04b59d7/pdf', 'https://open.overheid.nl/documenten/ronl-c039dcbd48da4119d725e3b26dd35541015b9cda/pdf']\n",
      "['https://open.overheid.nl/documenten/ronl-5889ec1c5e66b821d8f9179efaf0854c8ab7e27e/pdf', 'https://open.overheid.nl/documenten/ronl-9ef6540eaf507da9a69aef498d06330593fadbbc/pdf']\n",
      "['https://open.overheid.nl/documenten/ronl-f61d3bc1e567c08a318dca003492b28f1d831a82/pdf']\n",
      "['https://open.overheid.nl/documenten/ronl-153860dcedfd7213bffeeb9f60344b48bb92edff/pdf', 'https://open.overheid.nl/documenten/ronl-21d775c620216961540bad62314e5ba639dce817/pdf', 'https://open.overheid.nl/documenten/ronl-295b41ce6db25e67b55e180543975dc01b2fe915/pdf', 'https://open.overheid.nl/documenten/ronl-bcced11b786347dbf4b1352dfdf4e60ad82fa9ea/pdf', 'https://open.overheid.nl/documenten/ronl-c34b9cb38fad73ab48b3022dcd5c61af2278d742/pdf', 'https://open.overheid.nl/documenten/ronl-ca5b6a3685e88f6073dbdfc72f07f1bbafe3c9ea/pdf']\n",
      "['https://open.overheid.nl/documenten/ronl-26c33d655788c9d8c17442cb6786a40d24d35423/pdf']\n",
      "['https://open.overheid.nl/documenten/ronl-31161139fd55351a335baa6758854eeac9c1a8f8/pdf']\n",
      "['https://open.overheid.nl/documenten/ronl-47bda2adf609d859f5074031dd9ecb7b4268f703/pdf', 'https://open.overheid.nl/documenten/ronl-4fa99c5e48ff07b7edc791279c1a3d04e69ad0a3/pdf', 'https://open.overheid.nl/documenten/ronl-b97fd215c5989b83b238981ddcf098a34d2dadd2/pdf']\n",
      "['https://open.overheid.nl/documenten/ronl-17e35bf57bf2882942b52cb6f0c19a7a165a5d12/pdf', 'https://open.overheid.nl/documenten/ronl-4095ac6f3bfbdb7978cbd808028666026b2a5125/pdf', 'https://open.overheid.nl/documenten/ronl-6a7b054b58ba0d9419e0b85ce5406bd3aa4caf91/pdf']\n",
      "['https://open.overheid.nl/documenten/ronl-9d22519acbf87b39748adadee0d132e0e1d4c6bd/pdf']\n",
      "['https://open.overheid.nl/documenten/ronl-51aaf1ccfa403a668a6edb13a7cf3e32e5b32ce1/pdf', 'https://open.overheid.nl/documenten/ronl-87acb8bdf1960a0a5c38cc0d5b5d48baa9221132/pdf']\n",
      "['https://open.overheid.nl/documenten/ronl-1f12d09ec0edb8da41c150b58f8074e662534328/pdf', 'https://open.overheid.nl/documenten/ronl-ea71f0e88bf6bddeb2cc5909a278f09802bb8e67/pdf']\n",
      "['https://open.overheid.nl/documenten/ronl-12c1e1cf1c8c69ea33485e4c773d17a213efe3f2/pdf']\n",
      "['https://open.overheid.nl/documenten/ronl-26416f523988906b00f4c8fe9b0c5f63294b2cde/pdf', 'https://open.overheid.nl/documenten/ronl-36c7ca7e13e9d556511c971d5243211720011c97/pdf']\n",
      "['https://open.overheid.nl/documenten/ronl-2153690c14763ab2cf2d3263906692ffbbe9b73e/pdf', 'https://open.overheid.nl/documenten/ronl-442b9dd44eb3a6757bb5d9c95fa0bb75f6b88e68/pdf', 'https://open.overheid.nl/documenten/ronl-a45e2bd265a7c58958ea11656e2c8d78892926a9/pdf', 'https://open.overheid.nl/documenten/ronl-b0bbb89afc998fcf53b62d98e88a62e01e0ea3df/pdf']\n",
      "['https://open.overheid.nl/documenten/ronl-264e2017cac5cb214bee0fdacc231388874eb4cd/pdf', 'https://open.overheid.nl/documenten/ronl-61d072acbe124be51509ace30676f98e21a5020d/pdf', 'https://open.overheid.nl/documenten/ronl-84baca473ecda07d1569c92452cafbb498c2f60c/pdf', 'https://open.overheid.nl/documenten/ronl-b400a35697ec053ef52d4a5cb530585ec3631576/pdf', 'https://open.overheid.nl/documenten/ronl-cb53afbe8e3947ae22f0d50100f2381d44642c5a/pdf', 'https://open.overheid.nl/documenten/ronl-e001e1323e8358fbe732d1f595f90225ada720fe/pdf']\n",
      "['https://open.overheid.nl/documenten/ronl-462d74c472b7daeb2c1bb0940c8f5793acfc30bd/pdf']\n",
      "['https://open.overheid.nl/documenten/ronl-31a62aa333c9745c2113875fc72d9ed25bf9ef2b/pdf', 'https://open.overheid.nl/documenten/ronl-56006c1ff19d5f4972e3de5de22438417dc6dfa6/pdf', 'https://open.overheid.nl/documenten/ronl-67d1042f1913fb2dbe105f1807a03d2edc379ea8/pdf']\n",
      "['https://open.overheid.nl/documenten/ronl-aa64bb209b03a0aa7d5f7bb82aebb7fbb9e59ae9/pdf']\n",
      "['https://open.overheid.nl/documenten/ronl-59fad191ed0cd1d97dbafd9172ad9bb4976832c2/pdf']\n",
      "['https://open.overheid.nl/documenten/ronl-bd06d4929f823837ff5ff197cea57dad5427987f/pdf']\n",
      "['https://open.overheid.nl/documenten/ronl-b4977f46895f01da881d4fb29198a59337eaec77/pdf']\n",
      "['https://open.overheid.nl/documenten/ronl-2033b039c7249a348f66e3ad1dc02f10eca0655d/pdf', 'https://open.overheid.nl/documenten/ronl-d5174059b5b4f0d6697aa242022f1850e773748f/pdf']\n",
      "['https://open.overheid.nl/documenten/ronl-2dbde8a1b513a045cee4b3684d5f98f1d19b0da9/pdf', 'https://open.overheid.nl/documenten/ronl-5187b6aa1b2bcc9c562d76ea9c56d24d11524bab/pdf', 'https://open.overheid.nl/documenten/ronl-73cd4444f57ec1d6873b0506e4c658449849b5f3/pdf']\n",
      "['https://open.overheid.nl/documenten/ronl-2144c24e3f8b96433103e15295e5d413c6e27d85/pdf', 'https://open.overheid.nl/documenten/ronl-87df6960827aea112b895fef7080aca4a2f96362/pdf', 'https://open.overheid.nl/documenten/ronl-a8f71fba6f7f8d8f057cb46484a153e3c03c9296/pdf', 'https://open.overheid.nl/documenten/ronl-eb8cc97d21755efdde6c50cd879ea987867ba5cb/pdf', 'https://open.overheid.nl/documenten/ronl-f7687f07c11fb4465e11f4cb47cd395760b1fd95/pdf']\n",
      "['https://open.overheid.nl/documenten/ronl-64870dddac651ee6be499e20e50748307e1c35a4/pdf']\n",
      "['https://open.overheid.nl/documenten/ronl-6d9af90547a41e167326a4f1a11be4a138fd413c/pdf']\n",
      "['https://open.overheid.nl/documenten/ronl-1e3948c1f374da437e764cae6d02cca504949689/pdf', 'https://open.overheid.nl/documenten/ronl-7c14bac28d916dc371dfc683d5406408c3b68b6b/pdf']\n",
      "['https://open.overheid.nl/documenten/ronl-80246a1d0f8f019bde3af749a102a29767b3becc/pdf']\n",
      "['https://open.overheid.nl/documenten/ronl-895930e738825b6c79c86bf107dd525857b88352/pdf', 'https://open.overheid.nl/documenten/ronl-ee530d9db9b002079865b692507f454d24f32207/pdf']\n",
      "['https://open.overheid.nl/documenten/ronl-31e01d5f4e1588c5dffb3219cfcff0e5d987cbb8/pdf', 'https://open.overheid.nl/documenten/ronl-841090f288daa0300247a36f08a6e8f908ca437a/pdf']\n",
      "['https://open.overheid.nl/documenten/ronl-65ab28338e3e85a9ed036d9080716eccd2d0e0cf/pdf', 'https://open.overheid.nl/documenten/ronl-7f088ed2c1560d1dad8370e79743af9a31c697ac/pdf']\n",
      "['https://open.overheid.nl/documenten/ronl-0e59e1b7159c0df49e1a43af7856547428180e72/pdf', 'https://open.overheid.nl/documenten/ronl-2afd2b1197b645b3bbfbd02930c7717e9f7b7838/pdf', 'https://open.overheid.nl/documenten/ronl-9c17e92375f4ec8e573333c61731696ec83ad219/pdf']\n",
      "['https://open.overheid.nl/documenten/ronl-117a748a4f0196340c104028beb545b22268edd8/pdf']\n",
      "['https://open.overheid.nl/documenten/ronl-196f13e19a405c74891c6dd649b9bf3e70531005/pdf', 'https://open.overheid.nl/documenten/ronl-1ee0c10b7cbc4aff22e40f92477b238a7847e927/pdf', 'https://open.overheid.nl/documenten/ronl-5e50158c8bb47ebfa873bad79068f269a5b6e4a6/pdf', 'https://open.overheid.nl/documenten/ronl-87560816a703c1b93cc8a2c5becf21f669c93e10/pdf', 'https://open.overheid.nl/documenten/ronl-d54066de261599b3a25fd397d58a11d73eaa212c/pdf', 'https://open.overheid.nl/documenten/ronl-dd606c14429ddc99d7b5c6413fe5abe783efdaa9/pdf', 'https://open.overheid.nl/documenten/ronl-e70de74a3e8f044d148dcf8827f814d781c4d859/pdf']\n",
      "['https://open.overheid.nl/documenten/ronl-82230522de05f6782ba4042aee800d83b769315b/pdf', 'https://open.overheid.nl/documenten/ronl-dc2fb2df19e3f3f5d9da5f81707016c2656799d4/pdf', 'https://open.overheid.nl/documenten/ronl-f4da0203806243163e0e44dee1f68e938c39b3eb/pdf']\n",
      "['https://open.overheid.nl/documenten/ronl-13a02c1c5be2640fa068fd18f254576661f562cc/pdf', 'https://open.overheid.nl/documenten/ronl-62fcd8ed176ac4f27767af6abc35ef6ac1493795/pdf', 'https://open.overheid.nl/documenten/ronl-7dfe482ea72f44d8cf83b0930d734b0c50cbcd42/pdf']\n",
      "['https://open.overheid.nl/documenten/ronl-4735630f8824188638b616daecebf552774c73af/pdf', 'https://open.overheid.nl/documenten/ronl-4995fa39109c9edc53172e6fdd2b74dae34fc722/pdf', 'https://open.overheid.nl/documenten/ronl-7d257a9331793b8b949aefee1c44b38fa76f91a6/pdf']\n",
      "['https://open.overheid.nl/documenten/ronl-8faa461b902b09fa23b36f6a36d57718b5326e91/pdf', 'https://open.overheid.nl/documenten/ronl-a2e68481be559dd571beea8ace2b18d718efc93f/pdf']\n",
      "['https://open.overheid.nl/documenten/ronl-010626a97af32428addafff19a188ce5557bb4e2/pdf', 'https://open.overheid.nl/documenten/ronl-76ef320eb96ec8c3345fe8ce10a0685088bb4142/pdf', 'https://open.overheid.nl/documenten/ronl-a110b6e2b93a0558ccdb3e0eef305581b9295a0e/pdf']\n",
      "['https://open.overheid.nl/documenten/ronl-50dc074d606a798854cd9ac570575d2d39e2e021/pdf', 'https://open.overheid.nl/documenten/ronl-5fffc5f8cfc3a40d9c545bf565637764b3949edd/pdf', 'https://open.overheid.nl/documenten/ronl-a75c0c325098b312e26bc124bfb8ebba912824ed/pdf']\n",
      "['https://open.overheid.nl/documenten/ronl-2a5bd482c339dc22b6cd2e2a70d5f868bbafe7dc/pdf']\n",
      "['https://open.overheid.nl/documenten/ronl-0a1dade1894241464f32f9558640af3de0fd5ad4/pdf', 'https://open.overheid.nl/documenten/ronl-33a07bd13ad4b06d0eef0721440bb5265710a0e7/pdf', 'https://open.overheid.nl/documenten/ronl-41b551cb786db37e6762f8ab006bfb7c902160c0/pdf', 'https://open.overheid.nl/documenten/ronl-47c357f7cfea40186a1ec3da0efc502eaf436aed/pdf', 'https://open.overheid.nl/documenten/ronl-fe1d0660d9f71492f34715c22dffb8494210ae21/pdf']\n",
      "['https://open.overheid.nl/documenten/ronl-a5320639291c50a40f20a89f0477c33a7e53cefc/pdf', 'https://open.overheid.nl/documenten/ronl-cdf732c5e493d48e75dd4570222311183babcac7/pdf']\n",
      "['https://open.overheid.nl/documenten/ronl-39f6836797a87c0f326cec6c411dc6545018b676/pdf']\n",
      "['https://open.overheid.nl/documenten/ronl-0f6519746652ca2206acdda764363a37e13a3cfd/pdf', 'https://open.overheid.nl/documenten/ronl-1abe37c8235bb1f55677ae8459e008037027bb1d/pdf', 'https://open.overheid.nl/documenten/ronl-5134c09030785b2c6601792834631672af66f4e2/pdf', 'https://open.overheid.nl/documenten/ronl-914cc9b2c88c845b655585bb21b4d2d703e7fa48/pdf', 'https://open.overheid.nl/documenten/ronl-d4c4ae4c72d0e07421713606f0025fd162363829/pdf', 'https://open.overheid.nl/documenten/ronl-fccf05aad480f68a2fc4c99d8d4b109bdf791ed3/pdf']\n",
      "['https://open.overheid.nl/documenten/ronl-13f96dc3ce44a3297a76e46653699b4101442b97/pdf', 'https://open.overheid.nl/documenten/ronl-2d9d4f3d8ca828bd9bfbe767aa348f5bf854f4a7/pdf', 'https://open.overheid.nl/documenten/ronl-379ed9b7bf749c3e3a80a12f1249906cdd40f903/pdf', 'https://open.overheid.nl/documenten/ronl-68af03a567c273da4afef8c7cca91f2100e15342/pdf', 'https://open.overheid.nl/documenten/ronl-90dd5c6cc60f76521419eed66010508269fb3161/pdf', 'https://open.overheid.nl/documenten/ronl-f4068103afd038c24995decfa008465c441581a7/pdf']\n",
      "['https://open.overheid.nl/documenten/ronl-31f81ce88e83c4fc28b571bf6676bdb680af3bf6/pdf', 'https://open.overheid.nl/documenten/ronl-b179619b614a73cb67cafe07b017f83117bcfaf1/pdf']\n",
      "['https://open.overheid.nl/documenten/ronl-95a16a3e26708098e5de0bc042b011250ee39264/pdf']\n",
      "['https://open.overheid.nl/documenten/ronl-19b3a6503ed572c2d1488f505dd51c2836b61a6c/pdf', 'https://open.overheid.nl/documenten/ronl-76a0a1e96fdbb3e01ddf54ae8530284f263e9ac5/pdf', 'https://open.overheid.nl/documenten/ronl-e0671b1b0ced594bb86ec14d3fb2d1e8f3b9a341/pdf', 'https://open.overheid.nl/documenten/ronl-efdab001008a4efe4cd9214fc73cf26806de9222/pdf']\n",
      "['https://open.overheid.nl/documenten/ronl-4466983a9960ae498f3ce74bdf089a3c09beb091/pdf']\n",
      "['https://open.overheid.nl/documenten/ronl-1bfcfcc083719199f5bcd8e459528980fcd3624d/pdf', 'https://open.overheid.nl/documenten/ronl-305a0d378fae1e69cff5776880acc1df3cbf2e09/pdf', 'https://open.overheid.nl/documenten/ronl-673058f654b49171f0ce47f3222438154f9af9a6/pdf', 'https://open.overheid.nl/documenten/ronl-cd08d7b40be3266829cc35956518a5c036d757a9/pdf']\n",
      "['https://open.overheid.nl/documenten/ronl-242e8f0a468bc6226a414b9aa0b42040c183d464/pdf', 'https://open.overheid.nl/documenten/ronl-3066bfb388bd35683224cc169450b9f1cb4bdb6b/pdf', 'https://open.overheid.nl/documenten/ronl-cc025a57b9dcd47ffbb0b0c3d068ed2e0680dc3f/pdf']\n",
      "['https://open.overheid.nl/documenten/ronl-2b0dfab207d22e74e185294b4c83cedbc369664f/pdf', 'https://open.overheid.nl/documenten/ronl-862af514964bda2922259673e820e2d899b8048e/pdf', 'https://open.overheid.nl/documenten/ronl-9336e670e878537963ada11110a65d85a9ed11a4/pdf']\n",
      "['https://open.overheid.nl/documenten/ronl-0b2ec710a885703c1a68179df5940c4b5292ee8c/pdf', 'https://open.overheid.nl/documenten/ronl-245baec6f886027c62e770b377e1ca61c21cbf75/pdf', 'https://open.overheid.nl/documenten/ronl-3eb6f993e745019ccecc59ba10bec5333451521d/pdf']\n",
      "['https://open.overheid.nl/documenten/ronl-7a252058271222f33ddef63815370c6dda4d2dfe/pdf']\n",
      "['https://open.overheid.nl/documenten/ronl-1da71c884001bdcf3154176304a288fb549d6171/pdf', 'https://open.overheid.nl/documenten/ronl-a3938d94360514721090dfbff1b2ddd087e8bb8c/pdf']\n",
      "['https://open.overheid.nl/documenten/ronl-6b14742b365dabf9a7d355d3cfe2b8667e045e86/pdf', 'https://open.overheid.nl/documenten/ronl-f72af032ec8452bf2870032ab15ce988a3ea9678/pdf']\n",
      "['https://open.overheid.nl/documenten/ronl-6290aaee51bf9acef1c20450fb4ac68d344f9b8f/pdf']\n",
      "['https://open.overheid.nl/documenten/ronl-1aec115aa3b5a2dbf67cfa90e9f802f201a78446/pdf', 'https://open.overheid.nl/documenten/ronl-379702a824d85e69ae30d69f7f40650ff48acbb6/pdf', 'https://open.overheid.nl/documenten/ronl-6d6d933df5be244f662d8f9bed691aeb37f005ac/pdf', 'https://open.overheid.nl/documenten/ronl-7fc4e00101f6496fc93d455122596f75a9612d43/pdf']\n",
      "['https://open.overheid.nl/documenten/ronl-e4abbbf87138023ba666db4be593c429a244c430/pdf']\n",
      "['https://open.overheid.nl/documenten/ronl-6d82d70bfca81644c5ebb39e416fb14c553ee6f4/pdf']\n",
      "['https://open.overheid.nl/documenten/ronl-3ec01d85b4deb8fbee1e10c47b6a970fb8af5002/pdf', 'https://open.overheid.nl/documenten/ronl-a394cb211dc0c8fa6ab5be53dafa770da33ee7ca/pdf', 'https://open.overheid.nl/documenten/ronl-f64e4a390e1dbec9e5fc5a4e394adea6ebfbbcc0/pdf']\n",
      "['https://open.overheid.nl/documenten/ronl-077f0600df8a172694c47625d43d04d0d46e3248/pdf', 'https://open.overheid.nl/documenten/ronl-18d908e6e2be9b10785c94a009704ffe80c96cc8/pdf', 'https://open.overheid.nl/documenten/ronl-645151f5b596b100dbf711f1dfe01be7b26803c2/pdf']\n",
      "['https://open.overheid.nl/documenten/ronl-f7346463c8f590d3300533eb472443cc2acfae03/pdf']\n",
      "['https://open.overheid.nl/documenten/ronl-90667e75f181d25ef8b0d70b38644ddff22edea7/pdf']\n",
      "['https://open.overheid.nl/documenten/ronl-75e16eb9d1a61bd00d81c209824ec4f6e3fa6023/pdf']\n",
      "['https://open.overheid.nl/documenten/ronl-4154fa05881df624e2715e2b8c5013b660035978/pdf', 'https://open.overheid.nl/documenten/ronl-62de7ceb86d4d02b7681146cdb9fb0f190a74482/pdf']\n",
      "['https://open.overheid.nl/documenten/ronl-3fc6acb258174bca295a76f076eea5a166e0ae92/pdf']\n",
      "['https://open.overheid.nl/documenten/ronl-50489bde473e7d82ed94445d741fef9b507cd21d/pdf', 'https://open.overheid.nl/documenten/ronl-90cdd398d6e66f5327a26d47ceee6c4a4d4dcce3/pdf', 'https://open.overheid.nl/documenten/ronl-ad1800abfad0cc8470ce4522979c2d76d845aa2f/pdf']\n",
      "['https://open.overheid.nl/documenten/ronl-2c8993c3cae2498511f9ea00d8c032f3e3d8090c/pdf', 'https://open.overheid.nl/documenten/ronl-8e2a36bff69b0c6f165fab99141d5ca566fad736/pdf']\n",
      "['https://open.overheid.nl/documenten/ronl-4f58bf4a289d71c555526f9f680617f79d5e5915/pdf']\n",
      "['https://open.overheid.nl/documenten/ronl-8cbff3e2190082c65a9fb5f24f8756a6c7bbab5b/pdf']\n",
      "['https://open.overheid.nl/documenten/ronl-4bd04f81eeffdba3e11058851bf7d232de2046fa/pdf']\n",
      "['https://open.overheid.nl/documenten/ronl-af91fef7e14b13aa3b3721c60778b435457d238a/pdf', 'https://open.overheid.nl/documenten/ronl-c48509eff06d7269b0778ca7d2f7d92aae78500f/pdf', 'https://open.overheid.nl/documenten/ronl-ceb9cdb26e59355992f3c4d12a6b76a1127138da/pdf']\n",
      "['https://open.overheid.nl/documenten/ronl-7e84dd9c0f4ff14ce4b1295e402f580a49601a66/pdf', 'https://open.overheid.nl/documenten/ronl-f78aa3f5446be60176a038d90d7d28c707bebe76/pdf']\n",
      "['https://open.overheid.nl/documenten/ronl-6341a7eb7d490033c511e138de0dfe58f2ef8a6b/pdf', 'https://open.overheid.nl/documenten/ronl-7892f6aa21c73b0c7b1ba091f16e0a34397cab67/pdf', 'https://open.overheid.nl/documenten/ronl-b76073c7dfd8b29b0cdf8807bb31b569564c2a0e/pdf']\n",
      "['https://open.overheid.nl/documenten/ronl-9b3b4d7c015f3ead38fb8846704ba7cfabb24c7a/pdf']\n",
      "['https://open.overheid.nl/documenten/ronl-1c01e9e70aa940078e9f0a7f0977f5fc0f3d8f63/pdf', 'https://open.overheid.nl/documenten/ronl-284994ee4b21754bc1d55d9fc798beb5e799c03e/pdf', 'https://open.overheid.nl/documenten/ronl-3c0d8c4cc5380319f21c05ed64a9776b1fda17c3/pdf', 'https://open.overheid.nl/documenten/ronl-4076e26f2b8c0973693d28e2b3eaafb8c55c8d3a/pdf', 'https://open.overheid.nl/documenten/ronl-5bbed7cb29bce79b811ee78ce9939e423a99eb97/pdf', 'https://open.overheid.nl/documenten/ronl-821f1f56cd0bf8b3b48c160bca7032dd24cddffd/pdf', 'https://open.overheid.nl/documenten/ronl-88b9422b7282cbf533f55b7ed0809c3a4c76832e/pdf', 'https://open.overheid.nl/documenten/ronl-9716cd05e15dda844f826227dd372563d64e872d/pdf', 'https://open.overheid.nl/documenten/ronl-9ce9652463ce1b80d5198a483948c0028464b7cf/pdf', 'https://open.overheid.nl/documenten/ronl-c0c43fbddab0e1c142a455504af378093eca24e3/pdf', 'https://open.overheid.nl/documenten/ronl-c5d76f7d6ac6ffd5b4b2f0f056a268b2c51914b1/pdf', 'https://open.overheid.nl/documenten/ronl-e23b8fa1b6ae3a9ef66a647673d7e701ec17a2ed/pdf', 'https://open.overheid.nl/documenten/ronl-efea49f41966c0255e413389ea120c4cb61e9647/pdf']\n",
      "['https://open.overheid.nl/documenten/ronl-7372697688e0c41f0202186dbaaf81477de4d72a/pdf', 'https://open.overheid.nl/documenten/ronl-7f5430b54b7b416e797280da1a005c1c862e9b0a/pdf']\n",
      "['https://open.overheid.nl/documenten/ronl-92afa295290692ebba05c6c1d9210bc35861844b/pdf']\n",
      "['https://open.overheid.nl/documenten/ronl-b4a59ab7889ff814e029d693fb169a51be4d21a6/pdf']\n",
      "['https://open.overheid.nl/documenten/ronl-57eb5ebdc140fcb56726e91754ac33103568c107/pdf', 'https://open.overheid.nl/documenten/ronl-6e8aabd796371a1ac2095a35f539c7cc7b855c9c/pdf', 'https://open.overheid.nl/documenten/ronl-ac93e7070779ee785db10b02e08a6251c47ace95/pdf']\n",
      "['https://open.overheid.nl/documenten/ronl-1f16d6957848009645c1170dbbb1c5463abe7e90/pdf', 'https://open.overheid.nl/documenten/ronl-375d1f0f1a65f1493cce66fff484d875fb9160ed/pdf', 'https://open.overheid.nl/documenten/ronl-7cfc0a7ad09e77cf8c58bb2fabda7323b260c949/pdf', 'https://open.overheid.nl/documenten/ronl-9dee6f207a5acae45e73fa93c3085f2ae567efbd/pdf', 'https://open.overheid.nl/documenten/ronl-b4b9465b6e71f5574eef19b89b02cce9254e7368/pdf']\n",
      "['https://open.overheid.nl/documenten/ronl-ca3d7bd5060081cf566a6628c8a992d4f297695b/pdf', 'https://open.overheid.nl/documenten/ronl-d03fe028dba127eb158dbad222881a63ce985243/pdf']\n",
      "['https://open.overheid.nl/documenten/ronl-2c835a1ef39fc7308bb32e3b2d264d7c09cbede8/pdf', 'https://open.overheid.nl/documenten/ronl-65b75a4eee626e5b051d563a3e61f094657a86c5/pdf', 'https://open.overheid.nl/documenten/ronl-76136272188fdb6f962f1fe6f21097a419c11ca8/pdf', 'https://open.overheid.nl/documenten/ronl-87a7a5a7cb844f8e3792b2686e83fac78ef659c7/pdf']\n",
      "['https://open.overheid.nl/documenten/ronl-2de94c5f9609362fa09cdef38e82e3e5c5a4cfa0/pdf', 'https://open.overheid.nl/documenten/ronl-317fb34b7a6514529b3cf3d5ca27d62770674bcb/pdf', 'https://open.overheid.nl/documenten/ronl-8d9789a646f70e40f242a4865de38d6bae727de1/pdf']\n",
      "['https://open.overheid.nl/documenten/ronl-2a626ad434dd702efe57e72c9a78b8cd3cd33f0a/pdf', 'https://open.overheid.nl/documenten/ronl-3879e11b5e424df355ee7e544903eb0352e14da3/pdf', 'https://open.overheid.nl/documenten/ronl-7683a32fde1b4b8d26b0334781cd30234bf29bbc/pdf', 'https://open.overheid.nl/documenten/ronl-95417cab562fc8eb59d8038997626a680254c766/pdf', 'https://open.overheid.nl/documenten/ronl-cd0e7cc18d9bddfffd4a4de8588680decbcf8673/pdf']\n",
      "['https://open.overheid.nl/documenten/ronl-9997ab37d7ce8ffe905050c349da80445fe3e33b/pdf']\n",
      "['https://open.overheid.nl/documenten/ronl-c7a1505bb77fce255dd4c84e7940c988ec4bcf94/pdf']\n",
      "['https://open.overheid.nl/documenten/ronl-7512c13a638f930725a8c65ef4ef29042b259766/pdf']\n",
      "['https://open.overheid.nl/documenten/ronl-4e2d7fd216f8bba501efac572349bcc96d86907e/pdf', 'https://open.overheid.nl/documenten/ronl-736810fea475af17d9b506cf2bb24e25aef37c5d/pdf', 'https://open.overheid.nl/documenten/ronl-ee0c1faf541d422b2708e0969563831759fffae3/pdf']\n",
      "['https://open.overheid.nl/documenten/ronl-0f70f977f35c3b6f7c39139784e4d9eebe6280fa/pdf', 'https://open.overheid.nl/documenten/ronl-8b6d6dc8115b7738d7b79583a114e86bfe415c7b/pdf', 'https://open.overheid.nl/documenten/ronl-b31469e509d24c11b683e7cfdda0dab17dd9e013/pdf', 'https://open.overheid.nl/documenten/ronl-c2fd9a9eb4a174de18addf86837d0a5a230f262b/pdf']\n",
      "['https://open.overheid.nl/documenten/ronl-3ca15ddc41c6b837e9989a3cc330dd2d10bae059/pdf', 'https://open.overheid.nl/documenten/ronl-571d6ab0cf0c1f90d9973330cefc45fb0cc557eb/pdf', 'https://open.overheid.nl/documenten/ronl-86ef1e138706182ef226931756f5b5fc9a03ac52/pdf']\n",
      "['https://open.overheid.nl/documenten/ronl-2be6413f4c2ce1783f96e42ed851582afc1e5e12/pdf', 'https://open.overheid.nl/documenten/ronl-39e728c3bdf50ad5f3861ef4d5ad242fc89f1063/pdf', 'https://open.overheid.nl/documenten/ronl-59c9f7fa2847590ab7a95fbfa3bdc2181f353fce/pdf', 'https://open.overheid.nl/documenten/ronl-6636bdf0bf2104cadb5fb310445112d80623c870/pdf', 'https://open.overheid.nl/documenten/ronl-982c77ceab586bdecb2051108d55c200366015c7/pdf', 'https://open.overheid.nl/documenten/ronl-e0fee7e562c2f24e6d731a1c94ce79d82be673e7/pdf', 'https://open.overheid.nl/documenten/ronl-e7a4bbc7db509d929eb574c0ae5ae834bcfc08ba/pdf', 'https://open.overheid.nl/documenten/ronl-f397f6d75c4f14f4bd0c730cc331afe6461d7850/pdf']\n",
      "['https://open.overheid.nl/documenten/ronl-c0284f6dff7c776d266e87471a39d50838958774/pdf']\n",
      "['https://open.overheid.nl/documenten/ronl-0bd1dc181b490694069413e997969643c79a35f6/pdf', 'https://open.overheid.nl/documenten/ronl-39257f5df6beb71f7599cbeef582525223ac8012/pdf', 'https://open.overheid.nl/documenten/ronl-503b6789fc93c457f18305a204478b4cd1552408/pdf']\n",
      "['https://open.overheid.nl/documenten/ronl-76df23f0eed544c7e07f7e03f40cf59c28b71d99/pdf', 'https://open.overheid.nl/documenten/ronl-cd63e169511732fe4d82950753a9a1bcfd79df6d/pdf']\n",
      "['https://open.overheid.nl/documenten/ronl-1354b601fdc2dbdb64a1569375043531aa481586/pdf', 'https://open.overheid.nl/documenten/ronl-8ba2fc5753bc3a0abec72449192b85877b89ed87/pdf', 'https://open.overheid.nl/documenten/ronl-9f5949e60a6a587cfc4cb14b5391a8d33ca2d053/pdf', 'https://open.overheid.nl/documenten/ronl-d38ba66b4fb819797f230557a4d7525e752d4842/pdf', 'https://open.overheid.nl/documenten/ronl-f0f092eb97cb7901315de7bbfc8f5dae88dc4363/pdf']\n",
      "['https://open.overheid.nl/documenten/ronl-062bb70b50aa050a3ac9e5ed3f77b21dbf0aa1bb/pdf']\n",
      "['https://open.overheid.nl/documenten/ronl-39be091dfa435b9cad4fcb1507c70fc3cc59d63d/pdf', 'https://open.overheid.nl/documenten/ronl-cd9a2f76e50cb7a59ba0aa7d985d7ca0f25cc9c6/pdf', 'https://open.overheid.nl/documenten/ronl-db5fc6164a035fee425f70c5af52041fbc3a5420/pdf']\n",
      "['https://open.overheid.nl/documenten/ronl-3d5d47a444f698bc58e4cdd06f23b1e8e4d21861/pdf', 'https://open.overheid.nl/documenten/ronl-57ecf28879205fd3540841aed168e518d35cfdc2/pdf', 'https://open.overheid.nl/documenten/ronl-81281034b860e977a57df89a07903fb22dfd1d07/pdf', 'https://open.overheid.nl/documenten/ronl-9f04ae513d000588e17c1a03e6027bc49d6c3697/pdf', 'https://open.overheid.nl/documenten/ronl-e624484382515d98ded433524c3c838d3e07b33d/pdf']\n",
      "['https://open.overheid.nl/documenten/ronl-5b81b125806275c6348d65e89c06953ea51d281a/pdf', 'https://open.overheid.nl/documenten/ronl-9c359cfb6bbcb2d47888fd6da1a2d11cf35111f1/pdf', 'https://open.overheid.nl/documenten/ronl-da370f96be213ad85e3a3c904768d42024738b75/pdf', 'https://open.overheid.nl/documenten/ronl-f4367b665474d9f5dce07e9c168dd1d2277a789d/pdf']\n",
      "['https://open.overheid.nl/documenten/ronl-8ffa308a5afa7a966f24b8cabe253bbb6f917fc2/pdf', 'https://open.overheid.nl/documenten/ronl-981a2862a1228ddea83de8976190f48a45f5b00c/pdf', 'https://open.overheid.nl/documenten/ronl-b643a9e903f7f55c32293cb334da31a3f1bbc096/pdf']\n",
      "['https://open.overheid.nl/documenten/ronl-416b10e549291360cfcc893bc85064f542ea316f/pdf', 'https://open.overheid.nl/documenten/ronl-4e7450a5eb6de46d5566354c9b7e471cfbfa4a11/pdf', 'https://open.overheid.nl/documenten/ronl-8b319a68e21860f19e638d36f2d6605a98f1cc2d/pdf']\n",
      "['https://open.overheid.nl/documenten/ronl-810af9ec61c62b674cb66b2377fb40d7f21ee22a/pdf']\n",
      "['https://open.overheid.nl/documenten/ronl-284c4878797def0e3b68cc3df76c34d9429a8855/pdf', 'https://open.overheid.nl/documenten/ronl-5d92091d40efdb8122285c7c58683a164b49acb4/pdf', 'https://open.overheid.nl/documenten/ronl-6dc0f245f23ff8033b3420cefe68c0bcecce460e/pdf', 'https://open.overheid.nl/documenten/ronl-726a017340923eecae3e88165116108f182b36b3/pdf', 'https://open.overheid.nl/documenten/ronl-99f3bdb2065273a1bfbbdb17e0308b9852edad60/pdf', 'https://open.overheid.nl/documenten/ronl-ac934a66eb5c88a589aa1d6ad5529224d8da8aa1/pdf']\n",
      "['https://open.overheid.nl/documenten/ronl-bf5875c58ccfd856a82fc668f82eb8c995b2b572/pdf']\n",
      "['https://open.overheid.nl/documenten/ronl-0174cc9633827653df20996959a070ff210ccddb/pdf', 'https://open.overheid.nl/documenten/ronl-1b107743ca4e18f2fb6726938c4adf4e95ee8f6e/pdf', 'https://open.overheid.nl/documenten/ronl-1bd4c6630362a82bfe56d1952e8e9ed1cb692499/pdf', 'https://open.overheid.nl/documenten/ronl-2472874f9aaf4a2e1311607831f558607b85dc91/pdf', 'https://open.overheid.nl/documenten/ronl-3c2fe297c9f848d9e19d9751ad77c61f8cea3b20/pdf', 'https://open.overheid.nl/documenten/ronl-4075864097437f5f7c5da0511874b51ed29f09e1/pdf', 'https://open.overheid.nl/documenten/ronl-4899a6be594507f9e6e4345fde24e855946580f7/pdf', 'https://open.overheid.nl/documenten/ronl-4fd32f811eaeee6b10edb58fe562c0f32d1b6b09/pdf', 'https://open.overheid.nl/documenten/ronl-5f59ba3b130293fb0f63d287b24a428ed367b209/pdf', 'https://open.overheid.nl/documenten/ronl-6cd8ae2a51ba06a417f9d32ce4237a220bb3c6a4/pdf', 'https://open.overheid.nl/documenten/ronl-8947fe621c794cff51d757c3263132d29eec1e6e/pdf', 'https://open.overheid.nl/documenten/ronl-a546f061b58eaaeecf2129017d86f2b50912c194/pdf', 'https://open.overheid.nl/documenten/ronl-b56bc5a1597166161dd819e8ecff6f796a273c5e/pdf', 'https://open.overheid.nl/documenten/ronl-c38730e2a41b9fe22d3a4863faaa75a7fe29e3c4/pdf', 'https://open.overheid.nl/documenten/ronl-c6faa2aeeba8fde3d4c8e1105347caa87362d3c2/pdf', 'https://open.overheid.nl/documenten/ronl-d85c622d7dd71dccad9b902fe778c64fadb85163/pdf', 'https://open.overheid.nl/documenten/ronl-de1b7893d232974b9029545199242d40bb9cb752/pdf', 'https://open.overheid.nl/documenten/ronl-e2c07c9427d636d1ccb98ebb665544dfd68bbd08/pdf', 'https://open.overheid.nl/documenten/ronl-f0b73f1a0a71b3beb9810a37d097f2eab6349d8b/pdf', 'https://open.overheid.nl/documenten/ronl-f5f22be08379930eaad02ee284792097fa6b4d47/pdf']\n",
      "['https://open.overheid.nl/documenten/ronl-7f7a66501ce985f15e259ad5310d8aa6ef580d85/pdf', 'https://open.overheid.nl/documenten/ronl-aa90077510aecb21312de0d6c544f25772a9bcda/pdf', 'https://open.overheid.nl/documenten/ronl-d363460de45460c661d4aaa6215eb700833842f2/pdf']\n",
      "['https://open.overheid.nl/documenten/ronl-15c68017bc4b85e328bcd9450f6bfd7569e3007b/pdf', 'https://open.overheid.nl/documenten/ronl-58a983f77b2969eb565b2f5c374e7916978cc1bd/pdf', 'https://open.overheid.nl/documenten/ronl-656af97264a9d437400f702005da4f010899fb53/pdf', 'https://open.overheid.nl/documenten/ronl-78b0ddfb7a3f8c5bc7a0344d25be474dbecac1a9/pdf', 'https://open.overheid.nl/documenten/ronl-8c44725af3b8d963befd464bdfb031e3016cb69a/pdf', 'https://open.overheid.nl/documenten/ronl-962a38f78bd63003f160cdf4c690276b91d56238/pdf', 'https://open.overheid.nl/documenten/ronl-b5625494e3d03652f359fe60fa3521224c761288/pdf', 'https://open.overheid.nl/documenten/ronl-c721f97239862cf1340171cd2f7a87f375009d17/pdf']\n",
      "['https://open.overheid.nl/documenten/ronl-6101da012f64ee831fe63016b55cb241069cc271/pdf', 'https://open.overheid.nl/documenten/ronl-e6c114cc6a85bbf3c5d862ecb092cb5c19c8d2ad/pdf']\n",
      "['https://open.overheid.nl/documenten/ronl-eeb73b3fb1cf87da2f30a51631e796fa95a98ea1/pdf']\n",
      "['https://open.overheid.nl/documenten/ronl-433b0882c51514669cbcda1284e79d2b67f62dbd/pdf', 'https://open.overheid.nl/documenten/ronl-53d1c8241643dc1e02fd8e2609641a69ad344219/pdf', 'https://open.overheid.nl/documenten/ronl-8745257c3b4aa6c8c8fefa1a700a3b02d95ec4ef/pdf', 'https://open.overheid.nl/documenten/ronl-a3d48848c166d81007b2f4975d20c5be653f30e4/pdf']\n",
      "['https://open.overheid.nl/documenten/ronl-15f25856c90cc9ea29ce06bfe5b99769ffc2dedf/pdf']\n",
      "['https://open.overheid.nl/documenten/ronl-56b1dfdb67d25d03c2407e92aabd22db6c6c9fc8/pdf', 'https://open.overheid.nl/documenten/ronl-9b2daacecef8e42757f70c70e07e2c3096df5df2/pdf', 'https://open.overheid.nl/documenten/ronl-9f15d7dcc541a16af1c86b0d1b015171851f1fad/pdf']\n",
      "['https://open.overheid.nl/documenten/ronl-1e74d81d8c23aa09f6e1c4eb40e36db250639562/pdf', 'https://open.overheid.nl/documenten/ronl-7d16c77b5c0dd1a8787523a4f94dfcd629a2e463/pdf', 'https://open.overheid.nl/documenten/ronl-e1c7ca7b81bf525ad6f2b90afcec506aa9060360/pdf']\n",
      "['https://open.overheid.nl/documenten/ronl-2f81fb7696e65cc32cb409e35e8aa7dd25cb68c8/pdf', 'https://open.overheid.nl/documenten/ronl-84dbae0219bd2502cf4f52b45814688d2a5d18b2/pdf', 'https://open.overheid.nl/documenten/ronl-e0b5767ddd7fb398efa60e65be3b4e7bc4c1bfd8/pdf']\n",
      "['https://open.overheid.nl/documenten/ronl-def1116a93fb7d60bef67e197b8a09f5a993ca74/pdf']\n",
      "['https://open.overheid.nl/documenten/ronl-9329d16eb01da4e9778d72375bd02dc326a86291/pdf', 'https://open.overheid.nl/documenten/ronl-b7b81a2bab37beb9fbe011f390136e1f43ae76ec/pdf', 'https://open.overheid.nl/documenten/ronl-f05ef24c197cd86604f9004ca568d93645c28eb2/pdf']\n",
      "['https://open.overheid.nl/documenten/ronl-f6c8948fadee4009311643c2583d26aed5115297/pdf']\n",
      "['https://open.overheid.nl/documenten/ronl-6b7906c0e6b7fd53f5a2af40a63eaca52959aeb3/pdf', 'https://open.overheid.nl/documenten/ronl-ca9747e54aa532552154a20954863fe05ed863db/pdf']\n",
      "['https://open.overheid.nl/documenten/ronl-0d16d1f8e6cc43033a9ecd7332fcab282c99996c/pdf', 'https://open.overheid.nl/documenten/ronl-51dfc2b31ec67422b9f095537b304111d6c6c5f6/pdf', 'https://open.overheid.nl/documenten/ronl-e40e0587caba3222dca230f15d299685efb697ce/pdf']\n",
      "['https://open.overheid.nl/documenten/ronl-95e567579c91fc8b6e8e9e21a989c4d0ccd058f9/pdf']\n",
      "['https://open.overheid.nl/documenten/ronl-1a94698bfee4886284d9a4ca68a7c61eee175dd9/pdf', 'https://open.overheid.nl/documenten/ronl-974ee969168b10c865ceb06f3cdbf27031ff8d25/pdf', 'https://open.overheid.nl/documenten/ronl-bb78f08e5f9c075dad2f8b3c867bb7cbe87710b5/pdf']\n",
      "['https://open.overheid.nl/documenten/ronl-3a77aa5120e5d64e932e13ba6b8f575800ecf30d/pdf', 'https://open.overheid.nl/documenten/ronl-68da5ce92543bc27a4e62db7c4967e2bd0ce0b8f/pdf', 'https://open.overheid.nl/documenten/ronl-77381c9d6b3781affd865b1ccf7456cfa460d402/pdf', 'https://open.overheid.nl/documenten/ronl-7cfff2cfdd9ed433cf659e0d5bb581489443be13/pdf', 'https://open.overheid.nl/documenten/ronl-f880e6c93583cb48bb4380e6b4e9f5a5cd992c95/pdf']\n",
      "['https://open.overheid.nl/documenten/ronl-8bb00cd62239a298ce8bfde63bd0683b327317ac/pdf']\n",
      "['https://open.overheid.nl/documenten/ronl-3a64a9a862328a562317fc01ee8bd57340a1ec17/pdf', 'https://open.overheid.nl/documenten/ronl-809dd98eee6b1c52bb83c9ea53cd7c4cd22ad5ba/pdf', 'https://open.overheid.nl/documenten/ronl-97a1f7ee9d8a5fa222a95c1afc7c8697f816670c/pdf', 'https://open.overheid.nl/documenten/ronl-c9eed825e40ae86a5bd06d7572f71bf3eaa78f85/pdf']\n",
      "['https://open.overheid.nl/documenten/ronl-07a331a13047baaf3a2b4a4a86eda2d77ac4392c/pdf', 'https://open.overheid.nl/documenten/ronl-2f1109bc97b6f1846f705727263a612b4c882dd3/pdf']\n",
      "['https://open.overheid.nl/documenten/ronl-52f58930e3d7c1eec87b0e29defd92ca8fe607d5/pdf', 'https://open.overheid.nl/documenten/ronl-e54f1fc2a7a3d8363a9dba05c7459c5705635dc3/pdf']\n",
      "['https://open.overheid.nl/documenten/ronl-43e832bb13a0ffaf7d9a5dd4c1f070f0455e1b88/pdf', 'https://open.overheid.nl/documenten/ronl-652554a01bbd75db71f5281e6040cd201504bae3/pdf', 'https://open.overheid.nl/documenten/ronl-e6737222cf7c43954858ff729e254e31b1cb78f2/pdf']\n",
      "['https://open.overheid.nl/documenten/ronl-9ff6bdd3382807e882e556ce338e73d25a4fd098/pdf']\n",
      "['https://open.overheid.nl/documenten/ronl-8837a80077cb1640329207fc68899184ffabc26c/pdf', 'https://open.overheid.nl/documenten/ronl-c6bcc9b8bc095272fe90c5b1681e5c26e47b4400/pdf', 'https://open.overheid.nl/documenten/ronl-ec718c8b6b8bc2156fb9516925abbdb466ba4191/pdf']\n",
      "['https://open.overheid.nl/documenten/ronl-68d4a3fc28d48d49d44b21cf83478f36c74592f7/pdf', 'https://open.overheid.nl/documenten/ronl-833a855e1d1c02a55eaa47ebdddce0aec6bf3248/pdf', 'https://open.overheid.nl/documenten/ronl-cc4206d29a400543c3bf840d39719df500d21c95/pdf']\n",
      "['https://open.overheid.nl/documenten/ronl-43c64ccb754301a210b4b7b7048f47c691893e40/pdf', 'https://open.overheid.nl/documenten/ronl-4896a6f0973af827f6c42208ee049e0e9975ae05/pdf', 'https://open.overheid.nl/documenten/ronl-954aa5a3815385846dbe83f7bb46efce6cf87f14/pdf']\n",
      "['https://open.overheid.nl/documenten/ronl-47befe57f2df41afd6936c1c61b8a95714a2e978/pdf', 'https://open.overheid.nl/documenten/ronl-5c31cb201c281a333bf94f0cc124868d92403927/pdf', 'https://open.overheid.nl/documenten/ronl-f9dd57fb64ea9aba32ca95d70185ffd17f551690/pdf']\n",
      "['https://open.overheid.nl/documenten/ronl-5e685fc6605e2fbfe19949f2fa59c8840126f8d5/pdf']\n",
      "['https://open.overheid.nl/documenten/ronl-12bdd7edc3858ec8130c38e107e2d43838d0f033/pdf', 'https://open.overheid.nl/documenten/ronl-e936e16efc31e5fc0358e1244563e2614c5a2acb/pdf']\n",
      "['https://open.overheid.nl/documenten/ronl-1bf56bfc96e69be8c4cb61bb802d9473b02503a9/pdf', 'https://open.overheid.nl/documenten/ronl-2cfede54fca30f9dca85a06e44753c96b5099c72/pdf']\n",
      "['https://open.overheid.nl/documenten/ronl-9f0791cc7d65d957f5ccf60c833452f89a28e694/pdf']\n",
      "['https://open.overheid.nl/documenten/ronl-4ead5643212e8b9fc64b76d539d37511dd9c0083/pdf', 'https://open.overheid.nl/documenten/ronl-674d7770526c919e464a72b34454731cc826a15a/pdf', 'https://open.overheid.nl/documenten/ronl-c492c4453939dc8cf8b4b9188eb071bc16f19ec4/pdf']\n",
      "['https://open.overheid.nl/documenten/ronl-0d5e85013766495753910e325a2f45eb3fa100e1/pdf']\n",
      "['https://open.overheid.nl/documenten/ronl-543a7c5130871f99fe5bdab541aba737e89b6e7c/pdf']\n",
      "['https://open.overheid.nl/documenten/ronl-3a3ee750a5fe3ae81dfcff88ae77b3e2def685e3/pdf']\n",
      "['https://open.overheid.nl/documenten/ronl-dcb1b49edd6bd2c569cfbc491150dfb10d7e46db/pdf']\n",
      "['https://open.overheid.nl/documenten/ronl-259f253313bb066b8d31802b430d1dd653a93361/pdf', 'https://open.overheid.nl/documenten/ronl-ab9b0f1b4a22c3a698e38b0b0c66ec1648cfac6a/pdf']\n",
      "['https://open.overheid.nl/documenten/ronl-1dfc00cb8672c352614e432e0f884bb76b2e6746/pdf']\n",
      "['https://open.overheid.nl/documenten/ronl-36e01a51e732af4873b127670171c7c6fcc9f404/pdf', 'https://open.overheid.nl/documenten/ronl-53dc14533dc7b39fa78209ca7c5ce4fd7fd1fa17/pdf']\n",
      "['https://open.overheid.nl/documenten/ronl-d2f219ab6e76bf38f708e167cfb37bb4eaea2459/pdf']\n",
      "['https://open.overheid.nl/documenten/ronl-81283b91220ede36a5e4e008392b868caebf093f/pdf']\n",
      "['https://open.overheid.nl/documenten/ronl-821cfe501f0ab5daf59d492ed177d46deb019aa4/pdf']\n",
      "['https://open.overheid.nl/documenten/ronl-e5bab4345e902e57d837b5b24aa1444681fc43a4/pdf']\n",
      "['https://open.overheid.nl/documenten/ronl-4842576b99b0527115fe8a7117547f68dccc047e/pdf', 'https://open.overheid.nl/documenten/ronl-6ee4f1f70cf070d931228abba70a5487008e5595/pdf', 'https://open.overheid.nl/documenten/ronl-f9076b710cb9c5bad65a72354e0e306f66326113/pdf']\n",
      "['https://open.overheid.nl/documenten/ronl-5a07a5c6f0cabd484ef67ff14874f507474667ba/pdf', 'https://open.overheid.nl/documenten/ronl-608497abb1e9c96362eac6274f1ace02454fe54d/pdf', 'https://open.overheid.nl/documenten/ronl-72b0210acb3d7d8fc622279b50ea6f3bbdf081d6/pdf']\n",
      "['https://open.overheid.nl/documenten/ronl-33a8c55e09bd1050a86bb76c64c4cb97600aba56/pdf']\n",
      "['https://open.overheid.nl/documenten/ronl-f5fdb169bfced695c015e1a09c8b03533e141c36/pdf']\n",
      "['https://open.overheid.nl/documenten/ronl-56413142904d75cb5485e65451f5d8f8f05b79a0/pdf']\n",
      "['https://open.overheid.nl/documenten/ronl-b0efd4aece801c690a604941d4e781b699806768/pdf']\n",
      "['https://open.overheid.nl/documenten/ronl-e92c8fd9e9da5cb8538ba487592bc445de91a02a/pdf']\n",
      "['https://open.overheid.nl/documenten/ronl-d4fcb163e731628fa57f99554499b39b2f4d23ac/pdf']\n",
      "['https://open.overheid.nl/documenten/ronl-514c0c5939e617634be94629c8373cc9bacafae1/pdf']\n",
      "['https://open.overheid.nl/documenten/ronl-d0d52e2adc8594e8fe3e0727105fedafd00dc639/pdf']\n",
      "['https://open.overheid.nl/documenten/ronl-0688936894e789b49d0371d0eba40e90f14bc819/pdf']\n",
      "['https://open.overheid.nl/documenten/ronl-a5f302e3ab08db85482bd87af9d6590c888ddb68/pdf']\n",
      "['https://open.overheid.nl/documenten/ronl-58ccdb75b7648f812142b86072c6632c59a79e1f/pdf']\n",
      "['https://open.overheid.nl/documenten/ronl-024cb0d399308d624dbc0bdd4b242df774af75e4/pdf', 'https://open.overheid.nl/documenten/ronl-64eb6de9d29b6baebaab16e1097a046b4180b2af/pdf', 'https://open.overheid.nl/documenten/ronl-b32bb3f2db19693598cc82f20bbeedfb8ea28259/pdf']\n",
      "['https://open.overheid.nl/documenten/ronl-f1be143434c9a66c9a50100624271cd63b0ac019/pdf']\n",
      "['https://open.overheid.nl/documenten/ronl-0001dcdfa3170582b4c78ca2f79839cc352b3898/pdf', 'https://open.overheid.nl/documenten/ronl-1cf34dea0096b2ab23aa0ca61385d4b81065d791/pdf', 'https://open.overheid.nl/documenten/ronl-6dfaa9e0f4ff34d9ef3332fd18cb33299c58d856/pdf', 'https://open.overheid.nl/documenten/ronl-ad8bdd4a253f9ff2cb10c844dfc008131998feb2/pdf', 'https://open.overheid.nl/documenten/ronl-af4bde913b572a4803ec8f7664403ca602d90065/pdf']\n",
      "['https://open.overheid.nl/documenten/ronl-14a34efa015a90de7bd1f1339f2d5bb9dd76e2c9/pdf', 'https://open.overheid.nl/documenten/ronl-52df2654c275937a8400a16809e0e895c4570730/pdf', 'https://open.overheid.nl/documenten/ronl-c9cfd05e9ed8bb3f482d04509a6b54a789ddd543/pdf', 'https://open.overheid.nl/documenten/ronl-dd9d35c10295226cd53150b64b1f4fcf19db5c2c/pdf']\n",
      "['https://open.overheid.nl/documenten/ronl-f67719dcd3ea12bc949dc40dd62eba72eec23b56/pdf']\n",
      "['https://open.overheid.nl/documenten/ronl-8cb23ac38469be4ea789960b265e21c9306ce938/pdf', 'https://open.overheid.nl/documenten/ronl-a198ce8b1a423786716064672dcf992fdda41bf7/pdf', 'https://open.overheid.nl/documenten/ronl-c79a1da988927c60314030b97d432a7433d22022/pdf']\n",
      "['https://open.overheid.nl/documenten/ronl-48316f97d201c984e3225f8c4cf550603695fd7c/pdf', 'https://open.overheid.nl/documenten/ronl-6a8e32478d842802f057a055797c21ec3a28c71d/pdf', 'https://open.overheid.nl/documenten/ronl-b24b0e06fe56a129a7890c64e35667d8fefdce6b/pdf']\n",
      "['https://open.overheid.nl/documenten/ronl-4d37e708e5d5050d3b39d2b1bae195367ffe0301/pdf', 'https://open.overheid.nl/documenten/ronl-75c49f7d8177cb5c6db9acfd7de14929d6964b4d/pdf', 'https://open.overheid.nl/documenten/ronl-7a54eb1b9e426119c986530e704f083921461245/pdf', 'https://open.overheid.nl/documenten/ronl-8f03748006605a977dd2116346c8359d6c4458f8/pdf', 'https://open.overheid.nl/documenten/ronl-a8dda95e18e7ddbc35fb60d3c9b07beb961423fc/pdf', 'https://open.overheid.nl/documenten/ronl-c5f5961b38ea9b56966411266399af88f1207dad/pdf', 'https://open.overheid.nl/documenten/ronl-d8055590e2e9f153fb6ae43a95520bf9d59c2b25/pdf']\n",
      "['https://open.overheid.nl/documenten/ronl-0e00a7459e20ed4ddac106d815b8cb1c36f786fe/pdf']\n",
      "['https://open.overheid.nl/documenten/ronl-020c9e9dfed8884b75a3dec476fb419c59be30c6/pdf', 'https://open.overheid.nl/documenten/ronl-1ecbb48174ed40f44edd619f615d4f42ac466b7d/pdf', 'https://open.overheid.nl/documenten/ronl-3ebf9d020d3b801452d138f45c1bf3e5cb3c1094/pdf', 'https://open.overheid.nl/documenten/ronl-9744988279787d9fad8ca9001001f18e5fef94cf/pdf', 'https://open.overheid.nl/documenten/ronl-985fbfbdbae5a434aba36dae80d791cf2c076978/pdf', 'https://open.overheid.nl/documenten/ronl-9baea999f5c905d16da0e024761e38a460cfff35/pdf', 'https://open.overheid.nl/documenten/ronl-d13f8d7ac3144a7b0790e42e618636fbd2ef5ee5/pdf', 'https://open.overheid.nl/documenten/ronl-efdb09ac9ee3e5d51734b047861a08e237300483/pdf']\n",
      "['https://open.overheid.nl/documenten/ronl-235e8c8e7e32907f2240b184bc368550446ff2b3/pdf', 'https://open.overheid.nl/documenten/ronl-51f82a044bfa114149211b658ed681861c674c22/pdf']\n",
      "['https://open.overheid.nl/documenten/ronl-34d75cfba9c9cdde130f991a62cadef31b553af5/pdf', 'https://open.overheid.nl/documenten/ronl-6c1d579900f1d9ef863290804a642c96117c6214/pdf', 'https://open.overheid.nl/documenten/ronl-d06c39b9a1c8cb3a8664ea6349b0448c26dcebcc/pdf', 'https://open.overheid.nl/documenten/ronl-ee180e9a467effcf39ca23d1d5c26387baba9455/pdf']\n",
      "['https://open.overheid.nl/documenten/ronl-11e5b1e3788683610a474343f5860392235c4d69/pdf', 'https://open.overheid.nl/documenten/ronl-ba83a0021b6d26788fd7ed4f5399b38033dea45f/pdf', 'https://open.overheid.nl/documenten/ronl-fc24a53146b721ecb45015a4fc543b95e7b0ad8f/pdf']\n",
      "['https://open.overheid.nl/documenten/ronl-d83b0ec2df5b0dfb5b0a7a5924f8f81620ea7287/pdf']\n",
      "['https://open.overheid.nl/documenten/ronl-2bd38c9c2089f9cb7c8b11c057a46eb39a9d75e0/pdf', 'https://open.overheid.nl/documenten/ronl-c171c7057edabbab7447e3733d6f05e305d428d9/pdf', 'https://open.overheid.nl/documenten/ronl-d080198a2f3714471c903f8e9727d0bd03fbdb37/pdf', 'https://open.overheid.nl/documenten/ronl-f33dc49e8722fa5fb2b2f60cebd9bbf9ac3e862e/pdf', 'https://open.overheid.nl/documenten/ronl-fd860e05ed3652217ae4861c6ca20e17deee5a34/pdf']\n",
      "['https://open.overheid.nl/documenten/ronl-4b781e7d50c7f8e0b9d742c5907deeef7e7ad814/pdf', 'https://open.overheid.nl/documenten/ronl-9093499fe0d7bc535bd655492511f8ee4402dbc2/pdf', 'https://open.overheid.nl/documenten/ronl-a4789b2cf3dd0eeca6e9add599de64b8bae86d58/pdf']\n",
      "['https://open.overheid.nl/documenten/ronl-ec85ac746c59bb14073045d9b46977b76974e85c/pdf']\n",
      "['https://open.overheid.nl/documenten/ronl-6b150acdc20568b05eaa42bc1a83b73c8c82decb/pdf']\n",
      "['https://open.overheid.nl/documenten/ronl-4420d17de5cb6e87b6df67563ce64d81437f10d9/pdf']\n",
      "['https://open.overheid.nl/documenten/ronl-304dc79a8275802ac42c00b197ee7ea4372ab584/pdf', 'https://open.overheid.nl/documenten/ronl-5b50ad3cc86c9856ad833982efdafb180a9f754d/pdf', 'https://open.overheid.nl/documenten/ronl-9603c78da8775ac4166ee39d10b4671b2d571da3/pdf', 'https://open.overheid.nl/documenten/ronl-cac80b123f2f5108448ad22389a492323d7cb927/pdf']\n",
      "['https://open.overheid.nl/documenten/ronl-1507d6b45ff99312760eaa055aad0524daee288b/pdf', 'https://open.overheid.nl/documenten/ronl-61f54a07a3bdbc969683f48d7414d7fbe0bfcf5b/pdf']\n",
      "['https://open.overheid.nl/documenten/ronl-7ad72b31c308b49633de57aeafcb514f8ae2fd2c/pdf']\n",
      "['https://open.overheid.nl/documenten/ronl-88ef2926f7472ffcde986dfadfd90363ffdec012/pdf']\n",
      "['https://open.overheid.nl/documenten/ronl-ad39e3b0c6acd52021b4bd5edb7a1b48babe75d4/pdf']\n",
      "['https://open.overheid.nl/documenten/ronl-57b1832289e72702928b9e78bc27236d0dd34ae3/pdf', 'https://open.overheid.nl/documenten/ronl-b54bb0d91a3ff9da9b8829c2ea3ffa20c9e5a6e9/pdf']\n",
      "['https://open.overheid.nl/documenten/ronl-7978312f234fafedeb4372c7685c383ecc79de61/pdf']\n",
      "['https://open.overheid.nl/documenten/ronl-a585e2d303ee60e1c4af1b135975c107f68a69bc/pdf']\n",
      "['https://open.overheid.nl/documenten/ronl-33436ebbd0de54022e1a14caf5b601efca1b1e1b/pdf', 'https://open.overheid.nl/documenten/ronl-e29bf15e67c449379d60147945c0b4ed531eb486/pdf']\n",
      "['https://open.overheid.nl/documenten/ronl-11efaef491e6246f34d1562a9a1f72cad171ceb7/pdf']\n",
      "['https://open.overheid.nl/documenten/ronl-05aef0d8e3b64ccead43212428beeb3eaa95dadc/pdf', 'https://open.overheid.nl/documenten/ronl-8bedff6d69717b51893c1a39bc5a31bc7306d641/pdf']\n",
      "['https://open.overheid.nl/documenten/ronl-1bfb94bcce41b4e43759c9ef3393e7864e0b873e/pdf', 'https://open.overheid.nl/documenten/ronl-36aa1e89055cf162807acc06c10b9792ecbda846/pdf', 'https://open.overheid.nl/documenten/ronl-4b55ed235583d70e32d565c41f80d8d6615c013c/pdf', 'https://open.overheid.nl/documenten/ronl-55b66dcce2a275bf2b165469d7dd916b252a1548/pdf', 'https://open.overheid.nl/documenten/ronl-739918346d27ef764c16933ba2a974223cc20674/pdf', 'https://open.overheid.nl/documenten/ronl-b00ab515e7af5de00a836c1af9f2cec6e8d201b1/pdf', 'https://open.overheid.nl/documenten/ronl-bc1778a96fd7a7631a18d402cffbb6f689792716/pdf', 'https://open.overheid.nl/documenten/ronl-f502ad6f34900afa8d0222c200124aded2b8d106/pdf']\n",
      "['https://open.overheid.nl/documenten/ronl-100b636438c10db94eb67aaad128e40dac2cc422/pdf', 'https://open.overheid.nl/documenten/ronl-1ab5a7f12325c2ce74dde134720964f6049eab7c/pdf', 'https://open.overheid.nl/documenten/ronl-41c5abaf4784e886a011997bd93850a42efa4b3f/pdf', 'https://open.overheid.nl/documenten/ronl-678afdf82ac78a6084bfa40c124f8ce25337fce2/pdf', 'https://open.overheid.nl/documenten/ronl-81aa10f7201fbfa1dd232867a48ed623149b3e3e/pdf', 'https://open.overheid.nl/documenten/ronl-9411a42e9559f956dd81fcfd7a77e8bb3be219b5/pdf', 'https://open.overheid.nl/documenten/ronl-9cad92185f355e02a8be65e3af24b8543283e56f/pdf', 'https://open.overheid.nl/documenten/ronl-ea71e5f69e142dcb46a4be38851e1b78b388bff6/pdf']\n",
      "['https://open.overheid.nl/documenten/ronl-ef91afd4f073075e7cb653279591a8c815224b83/pdf']\n",
      "['https://open.overheid.nl/documenten/ronl-50563325aa504144753626dbb8ea702247fe3104/pdf', 'https://open.overheid.nl/documenten/ronl-cd2010aaf466f622bd7ef4c1d8244cb64807e671/pdf', 'https://open.overheid.nl/documenten/ronl-f41e1ae086fe51a08b0ebf4a60536ebed3b00e89/pdf']\n",
      "['https://open.overheid.nl/documenten/ronl-5a20434a1f5bade7c0444237691dfa92c62050cc/pdf', 'https://open.overheid.nl/documenten/ronl-6e42517c90ad8e8db952d7d657733550b46c60c0/pdf']\n",
      "['https://open.overheid.nl/documenten/ronl-0a7977462f7341c8e5d9b1b5258579726185e1bb/pdf']\n",
      "['https://open.overheid.nl/documenten/ronl-1c658446cdb1847b60a67b64d11ef07ae2e22e15/pdf', 'https://open.overheid.nl/documenten/ronl-5f73c31f76b63118e0de4b12d694f36b0e8163fb/pdf', 'https://open.overheid.nl/documenten/ronl-84fe55f6c2f4ca0d974d7999c6d2afc96d9a0be9/pdf', 'https://open.overheid.nl/documenten/ronl-9830020b346bafc0904f0b437bbaa4d54acb137b/pdf', 'https://open.overheid.nl/documenten/ronl-9b6261033e5d18fe6c52b9f3a52d1be4ca3b7f95/pdf', 'https://open.overheid.nl/documenten/ronl-a431375bfd45b5f083a451394da33eaf8c37e686/pdf']\n",
      "['https://open.overheid.nl/documenten/ronl-0c21f8334b821f47afb8174ceb935624ad21f80d/pdf', 'https://open.overheid.nl/documenten/ronl-1c7db196c5c61c01786ffe0845e87fd5805c4f79/pdf', 'https://open.overheid.nl/documenten/ronl-662cf1bf5cae78f01b8a1651b24296009064a67b/pdf', 'https://open.overheid.nl/documenten/ronl-713a05c506747a1380287734a638a7a12fb5e2d0/pdf', 'https://open.overheid.nl/documenten/ronl-d58f699ef67f1abc511f080236440cafe4352f1b/pdf']\n",
      "['https://open.overheid.nl/documenten/ronl-343c75ae72cca5002e6b7b7e13a5aa3262805d8e/pdf']\n",
      "['https://open.overheid.nl/documenten/ronl-48afc4f392bcb994b8cc1ced75ce6a438b70c9b6/pdf', 'https://open.overheid.nl/documenten/ronl-ce7bbf14572804fb6c970c5b9b145b8afea077e0/pdf']\n",
      "['https://open.overheid.nl/documenten/ronl-09380faa02e2f45a2a63f1b2a174f7a2af255040/pdf', 'https://open.overheid.nl/documenten/ronl-0ff95fd03d608516c091e6a18cee72a40533f90c/pdf', 'https://open.overheid.nl/documenten/ronl-4ec380408763158e4bcd308a63c17efc1941cc24/pdf', 'https://open.overheid.nl/documenten/ronl-7147ba66d041dca960df1cc8e9f7a00d406fe625/pdf', 'https://open.overheid.nl/documenten/ronl-842a9dc977883b504737f65dea636e646dc22405/pdf', 'https://open.overheid.nl/documenten/ronl-900a920f32fe7b559a1152b24ef9fbde67c76b8b/pdf', 'https://open.overheid.nl/documenten/ronl-bbb0b087849924b27dc166560b6fcb015b32c654/pdf', 'https://open.overheid.nl/documenten/ronl-e6672d7f607c26abe120ef7fe7c75a29ecefd795/pdf']\n",
      "['https://open.overheid.nl/documenten/ronl-33f5ca11ce4e9bb66c894e197d025f55f28e86ad/pdf', 'https://open.overheid.nl/documenten/ronl-fd68977fe4d7b557f6998d2d92d111741403c6cd/pdf']\n",
      "['https://open.overheid.nl/documenten/ronl-4852e2bb2383de7d302a7e946c76e21a2aa38102/pdf', 'https://open.overheid.nl/documenten/ronl-66b94a3ebb7802b395844dfed57e3c354fc111c3/pdf']\n",
      "['https://open.overheid.nl/documenten/ronl-b42029ade5d0c1a5c2bd97f04e60f9510f7360d8/pdf']\n",
      "['https://open.overheid.nl/documenten/ronl-c1fdb827d2fb23b80a4034e039013007eb0ac52f/pdf', 'https://open.overheid.nl/documenten/ronl-d46cd59cf64f77bc8207aa5836031e32a3a6a93b/pdf', 'https://open.overheid.nl/documenten/ronl-f29e0a99449d81d1bb2fba89a594f10164fb100c/pdf']\n",
      "['https://open.overheid.nl/documenten/ronl-9af647a2b5c77d7002fa93a6cc0bc7275774b3f9/pdf']\n",
      "['https://open.overheid.nl/documenten/ronl-941f021a226e86cd5ffb1f127e60b6f195b8a6f3/pdf', 'https://open.overheid.nl/documenten/ronl-e666111f8746120b84ccac742970d9bda714f368/pdf']\n",
      "['https://open.overheid.nl/documenten/ronl-d08e463fb6dd8cf955aac673fb588efd6d8e7fd4/pdf']\n",
      "['https://open.overheid.nl/documenten/ronl-302cce39ad6a8cc998cb6fc089d7b81483bff38b/pdf', 'https://open.overheid.nl/documenten/ronl-740b550ec1dba0f49da327a291660b478d0cb880/pdf', 'https://open.overheid.nl/documenten/ronl-dbb3f25037f2342b37bbc0c93c55c529a1b602a8/pdf']\n",
      "['https://open.overheid.nl/documenten/ronl-a131e69552f950744123a4f4a99bd607641262ed/pdf']\n",
      "['https://open.overheid.nl/documenten/ronl-7203847185542b9893f560e415faaea03e91f5c9/pdf', 'https://open.overheid.nl/documenten/ronl-b459f2e440c6d90f8f9dd24bcd6ddaf6119846d1/pdf', 'https://open.overheid.nl/documenten/ronl-e320488a6f874cc923397c9be00861488cf6f3ff/pdf']\n",
      "['https://open.overheid.nl/documenten/ronl-1241a52d988c3c9f74cf9bf569f034e588015c4c/pdf', 'https://open.overheid.nl/documenten/ronl-d7a44fb2ae2ff929b1660ae52dca46771185093e/pdf']\n",
      "['https://open.overheid.nl/documenten/ronl-0551adab33a729a750456ae5d82b1396da7e2c94/pdf', 'https://open.overheid.nl/documenten/ronl-7148f07334be8e6395ec743d087fdc51ecd9cbbd/pdf', 'https://open.overheid.nl/documenten/ronl-bfee7e752118b812b87ceb03e6ce8eaf342490f6/pdf']\n",
      "['https://open.overheid.nl/documenten/ronl-b8239500053f9d1708507c2000c07f1f37784afb/pdf', 'https://open.overheid.nl/documenten/ronl-c2476652b971c2a83001203331f9181d5e8f1f26/pdf']\n",
      "['https://open.overheid.nl/documenten/ronl-2c31089f86b3c5e56494da5b44857a438b390458/pdf', 'https://open.overheid.nl/documenten/ronl-ea1407f09fea092f013ccab61853f7ec6d3edabb/pdf']\n",
      "['https://open.overheid.nl/documenten/ronl-3cc0ebb750aa0f7c86e6466b20465f41b84e58e0/pdf']\n",
      "['https://open.overheid.nl/documenten/ronl-07af374e16e425172aec7c13d02463744c5c0884/pdf', 'https://open.overheid.nl/documenten/ronl-98cf645ac85df7f1cbd3e587d54181ec23239948/pdf', 'https://open.overheid.nl/documenten/ronl-d0cf489a5b1e172e42e09753cb1a13389426bee8/pdf', 'https://open.overheid.nl/documenten/ronl-dbfa7f5d8549a780fcf1ea391164c541d08ecf4c/pdf', 'https://open.overheid.nl/documenten/ronl-eb366fb91174c08d09567946f2250530b859260f/pdf']\n",
      "['https://open.overheid.nl/documenten/ronl-7e5c2ba50e239dd1fcfe6433c3d6143a1b3ca3ef/pdf', 'https://open.overheid.nl/documenten/ronl-bcb890dd5b9d6987aa8630dab455def28a143c6c/pdf']\n",
      "['https://open.overheid.nl/documenten/ronl-d329aef60d16a7b7126cb87dbfcec4e5a1c877ac/pdf']\n",
      "['https://open.overheid.nl/documenten/ronl-37680f0d6c64a721821b2230140ace7b1cc7d34f/pdf', 'https://open.overheid.nl/documenten/ronl-a469a549ef56ee613283300fbfcb5722703da581/pdf', 'https://open.overheid.nl/documenten/ronl-dade4ada7da2d2a50e05da2ac3c8386619351863/pdf']\n",
      "['https://open.overheid.nl/documenten/ronl-522c8dadf43c9f1f6d3c0ccfe515f3638cd3b97a/pdf', 'https://open.overheid.nl/documenten/ronl-c6e3b975c114c392683cbc62c0f802bca896f016/pdf', 'https://open.overheid.nl/documenten/ronl-e0e0921521c95600fffd6cad837e08cedee77200/pdf']\n",
      "['https://open.overheid.nl/documenten/ronl-58d35553983a52ed344c66051499611aa35c1617/pdf', 'https://open.overheid.nl/documenten/ronl-644eecb29f2d7b5a1b34935400ae27d7315719a1/pdf', 'https://open.overheid.nl/documenten/ronl-bae78321749f565f131471796733e5a253fdcfc9/pdf', 'https://open.overheid.nl/documenten/ronl-dda8adfa0fbc203332397843de58daf2bf3b0fd8/pdf', 'https://open.overheid.nl/documenten/ronl-f1643dc5098ff3f1a4729ce2543b9ffca765f422/pdf']\n",
      "['https://open.overheid.nl/documenten/ronl-211a7d1a37baa6c9b19b9bff96ad87c65c7b877d/pdf', 'https://open.overheid.nl/documenten/ronl-67c9771f4e8d9676ce067bbccc5f982f89f8547d/pdf', 'https://open.overheid.nl/documenten/ronl-795e5a6056dbcc7b48496bdf465d8f3f5b18f32a/pdf', 'https://open.overheid.nl/documenten/ronl-cb332a2ef3f426c7c2f697b21a685d2d4e38cb14/pdf']\n",
      "['https://open.overheid.nl/documenten/ronl-a3318f6143e151f41829281f7c9d1ae46b774e92/pdf']\n",
      "['https://open.overheid.nl/documenten/ronl-0305201e0b25618c2c125e3fb98477363b7f76cd/pdf', 'https://open.overheid.nl/documenten/ronl-8f9d92dcc26b9cd515d39727a714e5f2fbcd5475/pdf', 'https://open.overheid.nl/documenten/ronl-ae00cf93315569efbe8fd5afdab135d26ca2b778/pdf']\n",
      "['https://open.overheid.nl/documenten/ronl-d388f7b6d0730f1fe7716f2fdd318f32e94fccb7/pdf']\n",
      "['https://open.overheid.nl/documenten/ronl-76a40d25b7fe0cb38d68372bdc926ea10e3c7203/pdf']\n",
      "['https://open.overheid.nl/documenten/ronl-053b4b8df8dccb8b5b6e789b83876235f40d4ce4/pdf', 'https://open.overheid.nl/documenten/ronl-0cd9a8db07561274defa8992b803b06e79437b8b/pdf', 'https://open.overheid.nl/documenten/ronl-4d3e8661efdb48694d484b7c4c55dc5a470093c8/pdf', 'https://open.overheid.nl/documenten/ronl-57217e42e378abde2e91ddeca82d784eaa560a3e/pdf', 'https://open.overheid.nl/documenten/ronl-5c3353c3ec2d2aa1ebbab6a22889ba32e00dd931/pdf', 'https://open.overheid.nl/documenten/ronl-627f4c85bb5b990bc52670b8cafbd2af2849d614/pdf', 'https://open.overheid.nl/documenten/ronl-6ca149e308a2f4b32d7aea55c872a8677c02be2e/pdf', 'https://open.overheid.nl/documenten/ronl-72ce64d55202197fc41f759bfe54c4f2b484810b/pdf', 'https://open.overheid.nl/documenten/ronl-939fb25b73f6c12627b729070fd12146d1d3970b/pdf', 'https://open.overheid.nl/documenten/ronl-ad5c61dfc1d3a168065271350f84c87a9b19003d/pdf', 'https://open.overheid.nl/documenten/ronl-d8ec05368d48e802eddc9f434c51cac0aafd6c59/pdf']\n",
      "['https://open.overheid.nl/documenten/ronl-6e2935f1ec5ada50fb0b5df52cdfe2de89b5a0cc/pdf']\n",
      "['https://open.overheid.nl/documenten/ronl-192ce6fe5eb92c5cb813ee86faa686994c5728f4/pdf', 'https://open.overheid.nl/documenten/ronl-618a00ec342ce3c661174b04a6278b7125f1e642/pdf', 'https://open.overheid.nl/documenten/ronl-64c3a1c6a2528885207c9e6fce9b13ac57e5bf40/pdf']\n",
      "['https://open.overheid.nl/documenten/ronl-761de58d5fad5d3d5322285b0907351544aec75f/pdf', 'https://open.overheid.nl/documenten/ronl-9931cd9eff4f6865d4f1ef3ac94b11f18dc86c2e/pdf']\n",
      "['https://open.overheid.nl/documenten/ronl-31b1958622d6239ebf75126b63beb6849a612c17/pdf', 'https://open.overheid.nl/documenten/ronl-6830486ab5f65e31e9557e128e07aba6a24a85ab/pdf', 'https://open.overheid.nl/documenten/ronl-faa5729a46b0f26fa345e55354daa82f2881325d/pdf']\n",
      "['https://open.overheid.nl/documenten/ronl-b6a2eaf1dfc85fc8d8ab81f9360942801604dec0/pdf', 'https://open.overheid.nl/documenten/ronl-d891d88066e597ac7b720f2f3511325af7aacf96/pdf']\n",
      "['https://open.overheid.nl/documenten/ronl-6fc479b6e8b5af34bede38812e618b831567403a/pdf', 'https://open.overheid.nl/documenten/ronl-88d3bc17399317687f8d1df7d35ab738debc1f86/pdf', 'https://open.overheid.nl/documenten/ronl-995801fdfb847954e40e1d49c1917af9df32e4ba/pdf', 'https://open.overheid.nl/documenten/ronl-dcbd1b88ba8e0919943c02fe9a7e4cc109c7f73d/pdf']\n",
      "['https://open.overheid.nl/documenten/ronl-38b24858169ba32c430239efc271ba018c903a0c/pdf', 'https://open.overheid.nl/documenten/ronl-6569aab31f8120c5a50ca1092ace54508c673f92/pdf', 'https://open.overheid.nl/documenten/ronl-7322c3731141a0172fdee1973266a2b1a3978f2c/pdf', 'https://open.overheid.nl/documenten/ronl-9f9f3d89d28964c2d749eeec543f1cb289fb17f5/pdf', 'https://open.overheid.nl/documenten/ronl-c14e46a45dac478746b1936cbcdb35cbdf419e99/pdf']\n",
      "['https://open.overheid.nl/documenten/ronl-07d61456fc0913711fc1d0abe5180b98ffb8fc5c/pdf', 'https://open.overheid.nl/documenten/ronl-49712ec0f92d7210267d74b406c562509c787314/pdf', 'https://open.overheid.nl/documenten/ronl-5c6f0a7ea6e173ab1332153e0f92bf8d46eaf2e7/pdf', 'https://open.overheid.nl/documenten/ronl-8704724590679550d0dac6ecf56d0f03b2d3e807/pdf']\n",
      "['https://open.overheid.nl/documenten/ronl-2aeb776ec4561b5e25fbcf4c7f8651d124b3e22f/pdf', 'https://open.overheid.nl/documenten/ronl-460e21126ce2e0de85e5c7be5a02f6ca47283346/pdf', 'https://open.overheid.nl/documenten/ronl-7e16d69088a76b70dde7b57e8faea7d06a89f7a0/pdf']\n",
      "['https://open.overheid.nl/documenten/ronl-33ee805e72f84e65fd6c43aebc0f279c49f56a66/pdf']\n",
      "['https://open.overheid.nl/documenten/ronl-af4ec91ecbbd934ae751e78b2b8b1fe9500f1df3/pdf']\n",
      "['https://open.overheid.nl/documenten/ronl-5a29c6090cbf6bd35747b8462d607295c9f9f874/pdf']\n",
      "['https://open.overheid.nl/documenten/ronl-5cf71920697cd23fc83e6cf3bb35bc698ee760e8/pdf']\n",
      "['https://open.overheid.nl/documenten/ronl-0f15871db035f81fca7ef8ca9634c2ebb0a099d3/pdf', 'https://open.overheid.nl/documenten/ronl-108094830c89c36f1b714d3d0fe1d0525e6774b4/pdf', 'https://open.overheid.nl/documenten/ronl-9ea7654eafe6a599178853b5614f95b2f0e7cabc/pdf']\n",
      "['https://open.overheid.nl/documenten/ronl-6c2b0510a57cc7c71010be132c2cff18c58d1d63/pdf']\n",
      "['https://open.overheid.nl/documenten/ronl-4da255ba4947fe3d09f3c2c5d143ee1739ead396/pdf']\n",
      "['https://open.overheid.nl/documenten/ronl-2434ecd5fc030b9328f6c3fc2ef9fba6c9f6159a/pdf', 'https://open.overheid.nl/documenten/ronl-c0ff83881d6891ebb30817397ecb2ed8e042aee9/pdf', 'https://open.overheid.nl/documenten/ronl-f6d43d81b148f6cbe8c82de4ec194759837898ad/pdf']\n",
      "['https://open.overheid.nl/documenten/ronl-71c1cced878ed189a9a990a1b81ebbb4a2cb1d72/pdf', 'https://open.overheid.nl/documenten/ronl-8eae7b8cdbe7e99a6989aa911465bf529c55451e/pdf', 'https://open.overheid.nl/documenten/ronl-9a7cab42a4f237688ae4de1d323de13dc1af4244/pdf']\n",
      "['https://open.overheid.nl/documenten/ronl-3c18a40797368b6a834aa9d024bff6a306f395a3/pdf', 'https://open.overheid.nl/documenten/ronl-bb83765cc679316695526789503b39e58ca57223/pdf', 'https://open.overheid.nl/documenten/ronl-cb29753a5be626c0520c070e533c2e11b78cf7be/pdf', 'https://open.overheid.nl/documenten/ronl-cd171b362c98fa1a3f52c0415d9b56ff3ca8cb90/pdf', 'https://open.overheid.nl/documenten/ronl-de09f9443e5547638aa8cf84cd87494cd3b223cf/pdf']\n",
      "['https://open.overheid.nl/documenten/ronl-648e2e97647b7c42be0b5e8455bb32b529fe0301/pdf', 'https://open.overheid.nl/documenten/ronl-97481cada6bc51b3ee9029af105ab6a662392e03/pdf']\n",
      "['https://open.overheid.nl/documenten/ronl-1255c2490c42de85e50bb0deec049555c63f399b/pdf', 'https://open.overheid.nl/documenten/ronl-17a4292e8d0be1400a37fe350809166a2bcc1747/pdf', 'https://open.overheid.nl/documenten/ronl-439dfebe8cffecb9a385633cb757ced59de469ee/pdf']\n",
      "['https://open.overheid.nl/documenten/ronl-6787f7810105fc00571e812a3f6eb5a8ebde9e8a/pdf', 'https://open.overheid.nl/documenten/ronl-b57df4532b3dac216ee3bf0c2fac6fe8e4d4cf98/pdf']\n",
      "['https://open.overheid.nl/documenten/ronl-75ec9957e1c0cff891ac55e02e70736d1598bc5f/pdf', 'https://open.overheid.nl/documenten/ronl-ab69b482ed5445981a11d95e54b25d897999ea85/pdf', 'https://open.overheid.nl/documenten/ronl-c458dde4d637e0cf75fe384acf06e6eb01380ebd/pdf']\n",
      "['https://open.overheid.nl/documenten/ronl-24c10f3b69783e8ab67dca230ecfaafd0f99c026/pdf', 'https://open.overheid.nl/documenten/ronl-2961d5d1763344f89a0859b9cb38bd0557ac7836/pdf', 'https://open.overheid.nl/documenten/ronl-7a50d89e92a59c62633623784633f22019e97893/pdf']\n",
      "['https://open.overheid.nl/documenten/ronl-16e30197f650313b28083e24ea5eb48e915c234e/pdf', 'https://open.overheid.nl/documenten/ronl-647626f1c2732ab22614b03274f1d7310234478b/pdf']\n",
      "['https://open.overheid.nl/documenten/ronl-15fafae1241a3f3b0f5c3da10d6334c9674c7945/pdf', 'https://open.overheid.nl/documenten/ronl-61e17844d22b6e1d14f3827a4413a8fea93f8709/pdf', 'https://open.overheid.nl/documenten/ronl-db8787ba1cabb57871de0ce2cc80ed5d7f59e4f6/pdf']\n",
      "['https://open.overheid.nl/documenten/ronl-d48e59c5018af5cb30987616791bfee0c8c41377/pdf', 'https://open.overheid.nl/documenten/ronl-fc208a3f9441b049d48e3216a42ae2b86bef0f93/pdf']\n",
      "['https://open.overheid.nl/documenten/ronl-4a4ce297c7271a75c4ff54b090ddba3598402507/pdf', 'https://open.overheid.nl/documenten/ronl-a2d2b4ce2416ce554805e1a480bbadd7dcbec370/pdf', 'https://open.overheid.nl/documenten/ronl-aa54cf416e32ad828304003a270e8125afa71717/pdf']\n",
      "['https://open.overheid.nl/documenten/ronl-ae490f136728e409298d7abad8a5fe1f59dfd2fe/pdf']\n",
      "['https://open.overheid.nl/documenten/ronl-06e6ba8b8928bf33038e118b0a72f786002089ea/pdf', 'https://open.overheid.nl/documenten/ronl-578c354056c2a615384ce253636caba2e02e6fa5/pdf', 'https://open.overheid.nl/documenten/ronl-600e876185fa7a80b373c37def9a8409f03f894c/pdf']\n",
      "['https://open.overheid.nl/documenten/ronl-0cc4bbcb50a1e5868d34ec84edd3c88b57cc0826/pdf', 'https://open.overheid.nl/documenten/ronl-5f31ab1afc5a72aa82ba1c42471e304fd99bfe2d/pdf', 'https://open.overheid.nl/documenten/ronl-caa7386bffca3c9819918be753237ef4fa1357f7/pdf', 'https://open.overheid.nl/documenten/ronl-e7c6001e9684b536c62f0c9836554a6a0e5e3815/pdf']\n",
      "['https://open.overheid.nl/documenten/ronl-f2c69c6ad0870667e1c3fd2cb43fa576855d2bf0/pdf']\n",
      "['https://open.overheid.nl/documenten/ronl-6eb6f442bdecb906ed32f59e04ac7c27853c0c1e/pdf']\n",
      "['https://open.overheid.nl/documenten/ronl-8318484e305de84a8833386a86882abc00fd7975/pdf']\n",
      "['https://open.overheid.nl/documenten/ronl-5a383d02857036240db99a37a3b9390370436ebc/pdf', 'https://open.overheid.nl/documenten/ronl-6aae229816ed3afc35ed7b180aaaa03f1a484fce/pdf', 'https://open.overheid.nl/documenten/ronl-dc7431484247ee20c001917373ecc98c5a188e19/pdf']\n",
      "['https://open.overheid.nl/documenten/ronl-02b4ddcf3f4315f8ca2d507ff3ebeb94b25864d1/pdf', 'https://open.overheid.nl/documenten/ronl-094146c3e2cf188ecebb9efc4a303ddf8938f9a0/pdf', 'https://open.overheid.nl/documenten/ronl-09def99e194344098656d1db59ae59bfaab8c0ee/pdf', 'https://open.overheid.nl/documenten/ronl-0b04ca3e94ab135f34beb0d8422be1fd04d2c898/pdf', 'https://open.overheid.nl/documenten/ronl-1792374fc572dde3b433cf2c4181fb4c18ccb90a/pdf', 'https://open.overheid.nl/documenten/ronl-188e9bc3b2f642d8c46fcc617dfd5f585d9278ac/pdf', 'https://open.overheid.nl/documenten/ronl-3a53166ca26dbfa7629ea737aff23a957cadc458/pdf', 'https://open.overheid.nl/documenten/ronl-3aed1086327985a67965a538694b589d8d310d5a/pdf', 'https://open.overheid.nl/documenten/ronl-3d16de2195add2f5b599fe330163218903a77c48/pdf', 'https://open.overheid.nl/documenten/ronl-3fa0657b206cb8df5307afc167d28d3d1fb4dfd5/pdf', 'https://open.overheid.nl/documenten/ronl-46d696ff6232e0e50f70cb229d26f68b1549d168/pdf', 'https://open.overheid.nl/documenten/ronl-5e729f05296f72fdc0f4eaa5ae15d262907b2870/pdf', 'https://open.overheid.nl/documenten/ronl-8f30ba8c399a49594d8750154842888e786931cd/pdf', 'https://open.overheid.nl/documenten/ronl-b3908ce7a8cc0b61ceb2d20ef267cf82b58ebcb2/pdf', 'https://open.overheid.nl/documenten/ronl-c955d7912b52fa352fea0f49547b38d15a223c32/pdf', 'https://open.overheid.nl/documenten/ronl-d94c6b93010426dbc11ee1bb7d6df279ccbea13d/pdf', 'https://open.overheid.nl/documenten/ronl-e67a5b20acd0f7e6506ad5f3cdefc8340fb3b7e0/pdf']\n",
      "['https://open.overheid.nl/documenten/ronl-63bb928a96d57f0eed05f1d175003aa9488d0b8c/pdf']\n",
      "['https://open.overheid.nl/documenten/ronl-e1f2a98fb251d99843c9c518a17e91d55aefced4/pdf']\n",
      "['https://open.overheid.nl/documenten/ronl-bdf0c92ba9f79835743c6beff0058a3489701d78/pdf']\n",
      "['https://open.overheid.nl/documenten/ronl-7d52cd572511ca06acec39fd7450193e5c7d520b/pdf']\n",
      "['https://open.overheid.nl/documenten/ronl-7fa820b3edd6ac24b3daa1494196b4058851364a/pdf']\n",
      "['https://open.overheid.nl/documenten/ronl-be5d1a5364de8239cd4f08054ac2dd9499759638/pdf']\n",
      "['https://open.overheid.nl/documenten/ronl-ebc8b048928b30d6369e0c27ef8baade805e9738/pdf']\n",
      "['https://open.overheid.nl/documenten/ronl-15d296658b5355ba2087ed7c428e3f95411c366d/pdf', 'https://open.overheid.nl/documenten/ronl-9bc399aab9d4fa5b1f2775e100cee5887bfded65/pdf']\n",
      "['https://open.overheid.nl/documenten/ronl-4e8a812ed4d35e194af8b8e7a4e9a397f248e2a7/pdf', 'https://open.overheid.nl/documenten/ronl-97c548a48ddf0ac48506e8f22df478feca158266/pdf', 'https://open.overheid.nl/documenten/ronl-a0250a0b51af990bbffea88c11da0151289dbd64/pdf', 'https://open.overheid.nl/documenten/ronl-b1c2bd69a7dfad95c2ea27471dd353e078f0d58b/pdf']\n",
      "['https://open.overheid.nl/documenten/ronl-2265f651f0f10b59292fee62d9d0d34253daab61/pdf']\n",
      "['https://open.overheid.nl/documenten/ronl-4bfe5e42d58ead56a145543dc1f8172f113338a5/pdf']\n",
      "['https://open.overheid.nl/documenten/ronl-1c77bedd57fafefc827046361b1823ac21ca8285/pdf', 'https://open.overheid.nl/documenten/ronl-1efc4bdb3256480cbcc3f2d62df2b5bc5fd7af21/pdf']\n",
      "['https://open.overheid.nl/documenten/ronl-165e2ed811309218dc8009c30a659dde6dd1e5af/pdf', 'https://open.overheid.nl/documenten/ronl-4171b87c4d73b59b7ce09aa3d6fd5b1d02248cfe/pdf']\n",
      "['https://open.overheid.nl/documenten/ronl-0333fcd988d60e3db4868a0b4e014ff4766f3e19/pdf', 'https://open.overheid.nl/documenten/ronl-39eb1424b7c10ee269465211f54ac7cc4bd84147/pdf']\n",
      "['https://open.overheid.nl/documenten/ronl-1d26d0bd08bb6ffd3d31a205b8b10dec9b0651c0/pdf', 'https://open.overheid.nl/documenten/ronl-25c9fb778ae453c5c49e16bcc9fe8d8f9e5c4907/pdf', 'https://open.overheid.nl/documenten/ronl-52207b60aa308421c71fe3b621c1460eb548bec7/pdf', 'https://open.overheid.nl/documenten/ronl-ccab64219eaa1569f927420d11c7cd6c00c90356/pdf']\n",
      "['https://open.overheid.nl/documenten/ronl-30235b79f1e45b69f15b41134edc33a3b70aae28/pdf', 'https://open.overheid.nl/documenten/ronl-9d14a39568fc8abf031280bed6e1038d6ee0fd99/pdf', 'https://open.overheid.nl/documenten/ronl-c05bbabff10c3e9e4e558149d34360f2fedef3fa/pdf']\n",
      "['https://open.overheid.nl/documenten/ronl-202971668f54e726eee1e61bf9b8c6697a6b4201/pdf', 'https://open.overheid.nl/documenten/ronl-2476a3ea09d493048dec1e91de478812367f28e9/pdf']\n",
      "['https://open.overheid.nl/documenten/ronl-174499cce35299d9700dac1f146d252fb926a2b2/pdf', 'https://open.overheid.nl/documenten/ronl-54f4301e1e27f067bcec014972edeca430bad316/pdf', 'https://open.overheid.nl/documenten/ronl-aaf0559de6b09376515964addc47ae6779e27028/pdf', 'https://open.overheid.nl/documenten/ronl-c59eddfbaf273360fbff1ea0d1e2f3cf618c42d3/pdf']\n",
      "['https://open.overheid.nl/documenten/ronl-33ecf7f5d3e1df7f94a5a08ba859b9f89cd38ef8/pdf', 'https://open.overheid.nl/documenten/ronl-65c23ca6ccde39a7bf6f7f9719469b6c0702ae92/pdf', 'https://open.overheid.nl/documenten/ronl-79f0e92103c7317eefb6755532c1ea5c5f5bb9b4/pdf', 'https://open.overheid.nl/documenten/ronl-8dafce4bdb5735501d5bdfd491c31078a05b2e57/pdf', 'https://open.overheid.nl/documenten/ronl-8f5738d2565314f826294f39c70960c4d8357a44/pdf']\n",
      "['https://open.overheid.nl/documenten/ronl-3029e00f4d0cabc145e7e10c362379cecb48d4e7/pdf', 'https://open.overheid.nl/documenten/ronl-69b6fd9d76718bf5d49fa73af9a69d7727075bb7/pdf', 'https://open.overheid.nl/documenten/ronl-ea8cbdf6d13adfa95d43dda2f916f7443b5e259c/pdf']\n",
      "['https://open.overheid.nl/documenten/ronl-3629bdf26cc351d034fb7f5d2a8c01267f7517b8/pdf', 'https://open.overheid.nl/documenten/ronl-e3015a92ae0a5032e464ecaaf7166b8abcf893b5/pdf']\n",
      "['https://open.overheid.nl/documenten/ronl-08dd0f8fddc712da8e0c0f742056d6de4d858259/pdf', 'https://open.overheid.nl/documenten/ronl-32b58adf9bf5d9de0bf041759418f0598f00fd1d/pdf', 'https://open.overheid.nl/documenten/ronl-56255307b809fbcab1d37ee9c9ebfbed4a47b9df/pdf', 'https://open.overheid.nl/documenten/ronl-82dd6cbc23ab7188a38483847d14fb4cdbfb677a/pdf', 'https://open.overheid.nl/documenten/ronl-94ef2df721744a1c21743880815e58021e3b841b/pdf']\n",
      "['https://open.overheid.nl/documenten/ronl-1ccfae31e5e5ddfaf5e4c19ca9964c16b72ca67a/pdf', 'https://open.overheid.nl/documenten/ronl-9867072ac3b5ba0012f493b4848f3ca3a521ce82/pdf']\n",
      "['https://open.overheid.nl/documenten/ronl-1d000f00b0f04ccae9afc47be78a2971fd5d818f/pdf', 'https://open.overheid.nl/documenten/ronl-22818af5217c4fc0244de267432c12e7e2a59c19/pdf', 'https://open.overheid.nl/documenten/ronl-753f3efa5dc348e14b0a2699a0908a2a97bea5f4/pdf', 'https://open.overheid.nl/documenten/ronl-87bfc2c403b313982face453a56e977b5557c832/pdf', 'https://open.overheid.nl/documenten/ronl-9533bdf4a5bdade41d9835dfef913745b971bf6c/pdf', 'https://open.overheid.nl/documenten/ronl-e882209d66415b7c6ff319c5d526b0ece8d2d5ee/pdf']\n",
      "['https://open.overheid.nl/documenten/ronl-15f16699dfd2353e2bbef0c0305fbcc39698babd/pdf', 'https://open.overheid.nl/documenten/ronl-782e7d26a6f1fd2ebb5b382b6e14e920d78583bc/pdf', 'https://open.overheid.nl/documenten/ronl-8b86de994df20b51b620576e7fecaeb6764e85fb/pdf', 'https://open.overheid.nl/documenten/ronl-a5845337a170528084cbdaf12d4f664fdb3ff95f/pdf']\n",
      "['https://open.overheid.nl/documenten/ronl-09c203e179232f0285b66728b651340dd0726196/pdf', 'https://open.overheid.nl/documenten/ronl-2f02d83634b73785dddfe173326c07ffb8fb1932/pdf', 'https://open.overheid.nl/documenten/ronl-30bba4fb1d3f716768f422bcd60f96f162b1521c/pdf', 'https://open.overheid.nl/documenten/ronl-53260a912e3249f6aa41a5f486805e8241b74a5c/pdf', 'https://open.overheid.nl/documenten/ronl-7bacd4532bc3a9075adce4dd18d27bd0452b1cf3/pdf', 'https://open.overheid.nl/documenten/ronl-890c547a241f9feaf5edc44c360dfa14dff4c5a7/pdf', 'https://open.overheid.nl/documenten/ronl-8c6607a984070f34702c4e8ca33ea258f9345b89/pdf', 'https://open.overheid.nl/documenten/ronl-a8f93d174e12109f8f3ff92b24d1375f0d5ec41d/pdf', 'https://open.overheid.nl/documenten/ronl-b070acf4256377140596b6723225742915adcf80/pdf', 'https://open.overheid.nl/documenten/ronl-f71f884b21ca24eb90bca2c26cfe0e57f45a6631/pdf']\n",
      "['https://open.overheid.nl/documenten/ronl-c4a9818dda800c38176529bb1f2359b7b76d4f80/pdf']\n",
      "['https://open.overheid.nl/documenten/ronl-224832a1aa8efc6b3e6e97fcfdb7b2513a992829/pdf', 'https://open.overheid.nl/documenten/ronl-e754d4a2900bfb125afbbe379e15fdd69657a91d/pdf']\n",
      "['https://open.overheid.nl/documenten/ronl-4e91507fd7b062aa0227feb72594ba4420295acb/pdf', 'https://open.overheid.nl/documenten/ronl-977c6d3f6ab5f9646a094d61377267a3b1f0971d/pdf', 'https://open.overheid.nl/documenten/ronl-b4a90460b0cdad21106c9377672bb6586e39755a/pdf', 'https://open.overheid.nl/documenten/ronl-bd2908d6dcff34bc0f873357aa75a3d25a8c1f95/pdf', 'https://open.overheid.nl/documenten/ronl-de92eda84036b8f598fc9a9689add03edff953eb/pdf', 'https://open.overheid.nl/documenten/ronl-ec123fcefa6998e6781ab4f165a0602f969bddb0/pdf']\n",
      "['https://open.overheid.nl/documenten/ronl-033074b33bb14c64303416f67a9c818b6803ff9b/pdf', 'https://open.overheid.nl/documenten/ronl-5563ec84c7f5578449bb7d652dc5c0e991f423d0/pdf', 'https://open.overheid.nl/documenten/ronl-62348adfcf551a11ec4775dc7816df268a8cb566/pdf', 'https://open.overheid.nl/documenten/ronl-8a9535f4be2f5e75c7af18771aafae4066a748c5/pdf', 'https://open.overheid.nl/documenten/ronl-a1b7a63a9ed2800d90c25d299ea141e6db5dab93/pdf']\n",
      "['https://open.overheid.nl/documenten/ronl-0b32c1b758fb86da38dfa4bf4ede0c495c884b29/pdf', 'https://open.overheid.nl/documenten/ronl-2630f3a47f518e2563043ed5c1fce277d07b8028/pdf', 'https://open.overheid.nl/documenten/ronl-2c82d4d6bafe357304c4552af0321d5e4d238d3d/pdf', 'https://open.overheid.nl/documenten/ronl-4069689e5bf679359b6fba5830a63b0d684e06d0/pdf', 'https://open.overheid.nl/documenten/ronl-b0a0ecff1d9690773109edaac068ae7354bff9bc/pdf']\n",
      "['https://open.overheid.nl/documenten/ronl-116bab962c98c4723309120d05db17472e721874/pdf', 'https://open.overheid.nl/documenten/ronl-3ff5917dd82827eb70d4be6bd71b547b1c715ed3/pdf', 'https://open.overheid.nl/documenten/ronl-86f6f49d96bd9e375ac3e99d9c3ecf0c7de3ed0e/pdf', 'https://open.overheid.nl/documenten/ronl-aa54c766904e2563de3e54fab9b29899ba6b23d7/pdf', 'https://open.overheid.nl/documenten/ronl-d047ed55b05ee51ebdceb7fcda5f9e8810c8eb9d/pdf']\n",
      "['https://open.overheid.nl/documenten/ronl-4ade72e8c85be572b35834d27125cebd486d9b2e/pdf', 'https://open.overheid.nl/documenten/ronl-69968b24591c8f66e58149361bf1a7349951ff83/pdf', 'https://open.overheid.nl/documenten/ronl-96e6b02afee24e5e8c06ff49d97f5a963ea0fda5/pdf', 'https://open.overheid.nl/documenten/ronl-c27510e3651203363986e5b3404e871155937656/pdf', 'https://open.overheid.nl/documenten/ronl-db0c97aadbc21df7eb67805c8ac005ab2250ded1/pdf', 'https://open.overheid.nl/documenten/ronl-ed11afa686828bf0189bd2d87036dae9570f417a/pdf']\n",
      "['https://open.overheid.nl/documenten/ronl-040eb0315b7d9e7b0692c3f19b344373039e73c9/pdf', 'https://open.overheid.nl/documenten/ronl-1bd3de504f17916a52bdb43e504324a7226029e5/pdf', 'https://open.overheid.nl/documenten/ronl-4ade04c08e447eae6fbb6a3ecc8c7b6258c3d6ea/pdf', 'https://open.overheid.nl/documenten/ronl-5005988b08e8db587d81ab8b33c8aa16be662fcc/pdf', 'https://open.overheid.nl/documenten/ronl-6c70da0f7d705e3ad1027abad824fb233bff8a3e/pdf', 'https://open.overheid.nl/documenten/ronl-9f7045c46120db5b286905bb52abb62ca3500df3/pdf']\n",
      "['https://open.overheid.nl/documenten/ronl-293e572eaeae7150075f5c7643f69f7af105b6aa/pdf', 'https://open.overheid.nl/documenten/ronl-7cdcece94a9a27285a0506cd86d14ab8df6cd14b/pdf', 'https://open.overheid.nl/documenten/ronl-95528eea3ec07459b2770f9659dc12a2400ce10a/pdf', 'https://open.overheid.nl/documenten/ronl-a848e77d35e600407e41bbc44edeed6782943308/pdf']\n",
      "['https://open.overheid.nl/documenten/ronl-1bc260c570672a3048586bbfff3822be02d0ccff/pdf', 'https://open.overheid.nl/documenten/ronl-ab789831e59edfd76bb44882ab2a0f2b2c3fb7f9/pdf', 'https://open.overheid.nl/documenten/ronl-dc5810cb2a4c6423f5500ae745ca42c4f8e04844/pdf', 'https://open.overheid.nl/documenten/ronl-ed1c647aa8a7bd4fde3e8395ac549d496559c397/pdf']\n",
      "['https://open.overheid.nl/documenten/ronl-f445a4d1c5f2709449c43dd754a8930d130c2bf8/pdf']\n",
      "['https://open.overheid.nl/documenten/ronl-55a0f67144183be278e12145dc48ce2fd2fd430e/pdf', 'https://open.overheid.nl/documenten/ronl-a485467fa9b79c4771dda59a9aadf9eb00c961eb/pdf']\n",
      "['https://open.overheid.nl/documenten/ronl-0b4b781f1c43dae5dd0edd41931b3e0e88ef1192/pdf', 'https://open.overheid.nl/documenten/ronl-2af63c1accf35d3f65ac9bdcb41fbf0f2d92d414/pdf', 'https://open.overheid.nl/documenten/ronl-3210e58d564ea159f4fe32b3a48604bfedf0e4ae/pdf', 'https://open.overheid.nl/documenten/ronl-4e11b5aef58dcf151a3659db805af5e8309eec71/pdf', 'https://open.overheid.nl/documenten/ronl-ec43ca6cb2516827bdb58510b1ac5be434bc27ea/pdf']\n",
      "['https://open.overheid.nl/documenten/ronl-224b69142e55c0f5777fe6b1293b5f0efeaa4c5d/pdf', 'https://open.overheid.nl/documenten/ronl-3c5f66c5d185846d941f38d02acc465a4acf30fe/pdf', 'https://open.overheid.nl/documenten/ronl-51dba193c96534c2e337b0d1e87b90b768fc2441/pdf', 'https://open.overheid.nl/documenten/ronl-8122851924022f53a09b6af5164cdc351969b27d/pdf', 'https://open.overheid.nl/documenten/ronl-ec59328668a3a5caa875b8e907b6a4b41143eaa6/pdf']\n",
      "['https://open.overheid.nl/documenten/ronl-6fc8fad7b7defef59eb4b23e5f2d0cb2fa9dfee1/pdf', 'https://open.overheid.nl/documenten/ronl-f4fcb7296c82a4b56734a4d937170be6d14acc00/pdf']\n",
      "['https://open.overheid.nl/documenten/ronl-5d8bdf55c1380ff76856fd16692b1d11332b4b16/pdf']\n",
      "['https://open.overheid.nl/documenten/ronl-75baaa383b65cd663560d0d7e850fff1668f68c2/pdf', 'https://open.overheid.nl/documenten/ronl-7c8043883301e8419c5ae2c28888545ee55bc953/pdf']\n",
      "['https://open.overheid.nl/documenten/ronl-9568a6f2366c131e3c67979101110fffec024aa0/pdf', 'https://open.overheid.nl/documenten/ronl-98948a8a367e7816a4346f14bd3c9a55fb91268b/pdf', 'https://open.overheid.nl/documenten/ronl-f6468d2aae8f681a3f98369afd92f9e6f8874630/pdf']\n",
      "['https://open.overheid.nl/documenten/ronl-5dceb5321822e90e7839907268f90bb2aa30d17e/pdf', 'https://open.overheid.nl/documenten/ronl-a7df5c9083ec1c4363107aed4e34c95ef305ce94/pdf', 'https://open.overheid.nl/documenten/ronl-e9c34b4382d50790ebeb180dcb9edc5bf5925f0d/pdf', 'https://open.overheid.nl/documenten/ronl-eedf8d8dc88bee4bcd9a71a54bf35fd7422b950a/pdf']\n",
      "['https://open.overheid.nl/documenten/ronl-bcc86cb3d40b705be2cbfae1629f2c0bfb532880/pdf']\n",
      "['https://open.overheid.nl/documenten/ronl-5bb075c475eae0cc990c87176d8b58f9e7032e6b/pdf']\n",
      "['https://open.overheid.nl/documenten/ronl-0347ff50b0d03b10060fe4bf242431d97d85a3ad/pdf', 'https://open.overheid.nl/documenten/ronl-5719be0c0a840f7c63413cf1c00d8d5eab3177c1/pdf']\n",
      "['https://open.overheid.nl/documenten/ronl-a23853e7db33ae8776250d669197f832978036a6/pdf', 'https://open.overheid.nl/documenten/ronl-a57aadb8d5ba2f91031ce72b27f4b6b001654661/pdf', 'https://open.overheid.nl/documenten/ronl-c5ed78c58c04a9e3a0f5a96cbf4381be7e6bcffe/pdf', 'https://open.overheid.nl/documenten/ronl-c954a4a84d2bc560148841da7c692edf7c3a27ad/pdf']\n",
      "['https://open.overheid.nl/documenten/ronl-62f3024488ff87f44fb205d547cce9a9d56a52f3/pdf']\n",
      "['https://open.overheid.nl/documenten/ronl-163abca45a236883c1945b2310781afa081a569d/pdf', 'https://open.overheid.nl/documenten/ronl-373fffc7bbc243f30d71377b27b3faddec2f933c/pdf']\n",
      "['https://open.overheid.nl/documenten/ronl-789f1d4aecea88e85f8624a6fb4d67aeb39e436d/pdf']\n",
      "['https://open.overheid.nl/documenten/ronl-1304d9d05ede879978670b470b5fa65c20de2066/pdf', 'https://open.overheid.nl/documenten/ronl-463c8939efb01f5b8afffa2a49fd0f490f010f93/pdf', 'https://open.overheid.nl/documenten/ronl-713beb22e0036f52578e9de763325d6c57fe0fdc/pdf', 'https://open.overheid.nl/documenten/ronl-d6200b0384009b67c2b5ee02edb7c8fdb49008fd/pdf', 'https://open.overheid.nl/documenten/ronl-e6f4bd4e0a6ce5641ba5fe2808b191548e337b4e/pdf']\n",
      "['https://open.overheid.nl/documenten/ronl-62dffb1a2cab6889695c686bff873411cb29f9a5/pdf']\n",
      "['https://open.overheid.nl/documenten/ronl-45d8b26a2961e532c3e56ad80feb0d8d875aff4b/pdf']\n",
      "['https://open.overheid.nl/documenten/ronl-fc8248603572bb4198fe266034dd9f750d72bb1d/pdf']\n",
      "['https://open.overheid.nl/documenten/ronl-40ca41b54416bfe5b376b602fb9dbfc109f87d9c/pdf', 'https://open.overheid.nl/documenten/ronl-95642260ba29a8628b6183c1d849cdd9eba869dc/pdf', 'https://open.overheid.nl/documenten/ronl-d61313b34693277b939c062cad35d80c626ba21e/pdf']\n",
      "['https://open.overheid.nl/documenten/ronl-13ce74b462d23e181dce0093b00f7dd1f64b8bc5/pdf', 'https://open.overheid.nl/documenten/ronl-e9708e066ea53162b05bed63bf8748ebe7dafdb2/pdf']\n",
      "['https://open.overheid.nl/documenten/ronl-c65a3ceea3bcd69347d127b99e6e742de2ed6273/pdf']\n",
      "['https://open.overheid.nl/documenten/ronl-0e9ca85978ed61f4f5dd692ed586af0ec915219a/pdf']\n",
      "['https://open.overheid.nl/documenten/ronl-b0c65139a5a6f3d8cd671a6976cf6b108cb7e9f8/pdf', 'https://open.overheid.nl/documenten/ronl-b3971a99ac2c028e414252db2e7958fc0ee881e3/pdf', 'https://open.overheid.nl/documenten/ronl-d07dc422d28b8b94ab48e9b5c94f93010370daa0/pdf', 'https://open.overheid.nl/documenten/ronl-f894e91045d879863f8d654753b2d806799e0f7d/pdf']\n",
      "['https://open.overheid.nl/documenten/ronl-0c8d7de98cc61ae3b4f54f3edc364a920c007ec1/pdf', 'https://open.overheid.nl/documenten/ronl-515c11bdbd5ce97bf299d4e1c285c388045fbb58/pdf', 'https://open.overheid.nl/documenten/ronl-7ba33769f6f5981565e1c3457d9a4108824d7394/pdf', 'https://open.overheid.nl/documenten/ronl-c807febdb0338c297cfa7eb9197e91ff7a026979/pdf']\n",
      "['https://open.overheid.nl/documenten/ronl-654c0ad08b187568439a2f547b0b2c0344904cb5/pdf']\n",
      "['https://open.overheid.nl/documenten/ronl-3dad81b6aa1b80f007dfc7f28960df3937bb6878/pdf']\n",
      "['https://open.overheid.nl/documenten/ronl-0d6ea564b27352208716af800a98a8a4ee7a30ad/pdf', 'https://open.overheid.nl/documenten/ronl-ca4f315099df15fb33c95b0b23a36e181f7d4316/pdf']\n",
      "['https://open.overheid.nl/documenten/ronl-02b07afed35f8ed5ecdabaef563182a0b0565cc6/pdf', 'https://open.overheid.nl/documenten/ronl-453b0be19e00b79e87453443eee61067593e1aa9/pdf']\n",
      "['https://open.overheid.nl/documenten/ronl-b81e1b75e3ed0e350e1d8feb77b9c8593a2d9254/pdf', 'https://open.overheid.nl/documenten/ronl-dd859dd91e7f9fe2703f793e16cd05ec234e0c04/pdf', 'https://open.overheid.nl/documenten/ronl-f41b4a2803272f745c829ae9640602006c601025/pdf']\n",
      "['https://open.overheid.nl/documenten/ronl-6c0ed91b15c7205ef3ccc32dd31e1e5fca70eef2/pdf', 'https://open.overheid.nl/documenten/ronl-6cd71ab689124cf40f4217358fb68bf6f29c6598/pdf', 'https://open.overheid.nl/documenten/ronl-7174a8a2f6617dda6fc834b4555af0805232f389/pdf', 'https://open.overheid.nl/documenten/ronl-820dc73a2624a7e9f8166be1f6ed50f85e9ae188/pdf', 'https://open.overheid.nl/documenten/ronl-d27d969c3db52c5b5c3172b9e794a4f9a3ca3e26/pdf', 'https://open.overheid.nl/documenten/ronl-da134741464787cac5ad4ff43cb1f18367483822/pdf']\n",
      "['https://open.overheid.nl/documenten/ronl-6e7213f4f4ae772b3ea664df597844c5a17220ee/pdf', 'https://open.overheid.nl/documenten/ronl-7f406f31c855b703d6a9f571a803f5f112fbda93/pdf', 'https://open.overheid.nl/documenten/ronl-a99e979c2a5154402d033709d1e1ffbce269b7de/pdf', 'https://open.overheid.nl/documenten/ronl-b8c233ed7e7f28727189e9184d41ea58bb2e2eb5/pdf', 'https://open.overheid.nl/documenten/ronl-e173086862ce7a8d58bc12d4d38622c2fd04d361/pdf']\n",
      "['https://open.overheid.nl/documenten/ronl-3f4035fb6b136edabb414b7b0a598b7bee84852e/pdf', 'https://open.overheid.nl/documenten/ronl-63b022e68b3ce06119c2927e81ce6b99ecfe095a/pdf', 'https://open.overheid.nl/documenten/ronl-77fec729b07d723df5b68592e248dbf97e59169e/pdf', 'https://open.overheid.nl/documenten/ronl-ea9fdb1264a3e63258948334615160c1ecab2bdb/pdf']\n",
      "['https://open.overheid.nl/documenten/ronl-0ec9156513d84f09debf2cd9e4f583391d3b52ef/pdf', 'https://open.overheid.nl/documenten/ronl-1e742fa31bc60db69055c1ba6eb1a57b46a60503/pdf', 'https://open.overheid.nl/documenten/ronl-7224cde3f74cf36b06bc01af8cf50750c24c0c25/pdf']\n",
      "['https://open.overheid.nl/documenten/ronl-464ff050ebd52f9b08b052df9e56044f251f5923/pdf', 'https://open.overheid.nl/documenten/ronl-fc32c2662ba79d6318acb5f8a4c051fd5571dd45/pdf']\n",
      "['https://open.overheid.nl/documenten/ronl-198d94fa07afe5f7e2c043a18adca30669460524/pdf', 'https://open.overheid.nl/documenten/ronl-30eb829266ffd267b8ea3113b8fb8f22de8cb218/pdf', 'https://open.overheid.nl/documenten/ronl-3c0a0a36b8935010d590c944eb0d5bbfc247c263/pdf', 'https://open.overheid.nl/documenten/ronl-5290954d7f95bfd4dd227ecee5a679e5a1f62fd2/pdf', 'https://open.overheid.nl/documenten/ronl-b36b8e860b2659c94df70bb2bd14a818cdc429cb/pdf']\n",
      "['https://open.overheid.nl/documenten/ronl-4d293ffeb2312cc4ec046d56479f2811193e874c/pdf', 'https://open.overheid.nl/documenten/ronl-996e1f88d6a0c710d0fc7dd994d14b3cc233331f/pdf', 'https://open.overheid.nl/documenten/ronl-e25d7e04c2e1bd8fffa27465ddd1e7b28dc1b99e/pdf']\n",
      "['https://open.overheid.nl/documenten/ronl-5edad2fbf6345fc35fa68bfb578e3bab460bb812/pdf']\n",
      "['https://open.overheid.nl/documenten/ronl-7ec3668423d8b5ef48bf3b8ae128e2d71e659de8/pdf', 'https://open.overheid.nl/documenten/ronl-e4676942caf6ecb608105d21a4a59ee7465b8ec5/pdf', 'https://open.overheid.nl/documenten/ronl-f4c1f35f4d0c58a01f49b6f2cb6a52a613bdd87a/pdf']\n",
      "['https://open.overheid.nl/documenten/ronl-695fd37e09d005e154d475d0355dba898b59bce6/pdf']\n",
      "['https://open.overheid.nl/documenten/ronl-0e68fab0b0ecda3a16f60dc19a35d93bbfd7eddf/pdf', 'https://open.overheid.nl/documenten/ronl-6b7985b773d837d200bbef583c7908cfc371a23d/pdf']\n",
      "['https://open.overheid.nl/documenten/ronl-c1894bd7030fe8482273df60dd5df348a0200d79/pdf', 'https://open.overheid.nl/documenten/ronl-ee19912a1b28d8e78bfe3db1d1c24d0ede93311b/pdf']\n",
      "['https://open.overheid.nl/documenten/ronl-2c2b599b2b9ca9ae42a84cc1a2cecc9d1b2060ac/pdf']\n",
      "['https://open.overheid.nl/documenten/ronl-1dd3c107f487b235c3746ca53c03e95194b1c1ad/pdf', 'https://open.overheid.nl/documenten/ronl-22aac18d0cee6e13af912fd5609dbb86032ff689/pdf', 'https://open.overheid.nl/documenten/ronl-7e4c179ac97700f48d8da80755624b6d2b6a0667/pdf', 'https://open.overheid.nl/documenten/ronl-88b7c6d3852688485c4007a0d0453b540c4a610f/pdf', 'https://open.overheid.nl/documenten/ronl-a05a43fc500bdb5bbcac1b57fdaa77e759ec4be4/pdf', 'https://open.overheid.nl/documenten/ronl-e30ea31e66893b449f436f9e8f54c99cad2629a1/pdf']\n",
      "['https://open.overheid.nl/documenten/ronl-40f696e0ddf453b2738b08f570dc0d03e07e11ce/pdf', 'https://open.overheid.nl/documenten/ronl-6e1826e8de5fe202b0c7488c2f1ea371cf6c9d2a/pdf', 'https://open.overheid.nl/documenten/ronl-a4d523f7b93b89642b8c520678b7249db398dc69/pdf', 'https://open.overheid.nl/documenten/ronl-b2f5154044fce4f9ca76b3c2190eecd2d820e48c/pdf', 'https://open.overheid.nl/documenten/ronl-f78d4cc5663755e3257a4fc2672de2052e0453f8/pdf']\n",
      "['https://open.overheid.nl/documenten/ronl-232e724a4b1f8ca9b830f6111b81a18078d6c872/pdf', 'https://open.overheid.nl/documenten/ronl-50e15ec915ee6458140e948215739cc3998a41b9/pdf', 'https://open.overheid.nl/documenten/ronl-cbd9a8e9d73416577b1282dee2c9badd2f6addd1/pdf']\n",
      "['https://open.overheid.nl/documenten/ronl-063efbd2a1d49a024421ea730c21738bdd20a29f/pdf', 'https://open.overheid.nl/documenten/ronl-080c485376d114c0f6aede0b3367c54647e0363f/pdf', 'https://open.overheid.nl/documenten/ronl-10d4c18e216720576460c4e6005dfbb8d912a4b2/pdf', 'https://open.overheid.nl/documenten/ronl-45a634917bba18fef28fbe384a40ecf0dd6a9bc8/pdf', 'https://open.overheid.nl/documenten/ronl-46b14a34cd7b529442dc865f2ec71191d8f68732/pdf', 'https://open.overheid.nl/documenten/ronl-5fc5c6e2bfeeeb4a86a3eb7dabfbc18f4f61e0ba/pdf', 'https://open.overheid.nl/documenten/ronl-6aad6e13f835b28bb7f9f1eda2b33220340afef6/pdf', 'https://open.overheid.nl/documenten/ronl-73b0d83422106060ef4a82eb086f69dc0d73fb2d/pdf', 'https://open.overheid.nl/documenten/ronl-96dcc209a0c3ec640264781275d964b4898265f2/pdf', 'https://open.overheid.nl/documenten/ronl-b22033100644d155f5f59e51f311706380da9a09/pdf']\n",
      "['https://open.overheid.nl/documenten/ronl-378530151173afd885e4b18d1cd228e0cf68de5a/pdf', 'https://open.overheid.nl/documenten/ronl-41c067329ae9b1936b5ba23d74204b3bc879cea1/pdf', 'https://open.overheid.nl/documenten/ronl-57d6118819b685636d12ddebca8d01d8eab0ebc3/pdf']\n",
      "['https://open.overheid.nl/documenten/ronl-11ec325bf5ad36868ee89849a81460d038410494/pdf', 'https://open.overheid.nl/documenten/ronl-ba60768f67361c92f59df3408615a14a27214668/pdf', 'https://open.overheid.nl/documenten/ronl-da19b56e99aa241a20ad22c9e8f5ccbdf35b8be1/pdf']\n",
      "['https://open.overheid.nl/documenten/ronl-110ad67510f644864fcbe4f5f833bc6a0a9471c1/pdf', 'https://open.overheid.nl/documenten/ronl-d4da3bac3d7389467a96f5ae5bc72c679b571df0/pdf', 'https://open.overheid.nl/documenten/ronl-fedeee5f5b4761200254f9a170747e6ee85d3a8c/pdf']\n",
      "['https://open.overheid.nl/documenten/ronl-1a7e091df041834a576a3801c3f6493ae8162ccf/pdf', 'https://open.overheid.nl/documenten/ronl-918bc6ff08bab8f420a495456224ede4930dfd2c/pdf', 'https://open.overheid.nl/documenten/ronl-e20ffde17c800c5150cbe4bdfa6e169e7e275448/pdf']\n",
      "['https://open.overheid.nl/documenten/ronl-06d9b61fee61aedd9b60cf0245cc209dd7cf736e/pdf', 'https://open.overheid.nl/documenten/ronl-bf823294afed3d9339ad83302451d638d6d78fa2/pdf', 'https://open.overheid.nl/documenten/ronl-dfe7b8ecea77bcecd51392519f52de3c0f6cf39e/pdf', 'https://open.overheid.nl/documenten/ronl-ef615acf1751eb34eb153d610f36af9ac749587f/pdf', 'https://open.overheid.nl/documenten/ronl-f21e3caf2c04ebf84ac53222666c22b9c0177fa1/pdf']\n",
      "['https://open.overheid.nl/documenten/ronl-3b0712356b569723ad5063805689beff40785376/pdf']\n",
      "['https://open.overheid.nl/documenten/ronl-722489f1b36945e60bcbd730dbb75b70119e438c/pdf']\n",
      "['https://open.overheid.nl/documenten/ronl-87a09d76590de73e2c863ede6e66d43fec9b9430/pdf', 'https://open.overheid.nl/documenten/ronl-ca806923206dab8c27b4546e6090da7afcd57fae/pdf']\n",
      "['https://open.overheid.nl/documenten/ronl-6c3fc2efa85f777a9823e6e771cfc983ea04eaf9/pdf', 'https://open.overheid.nl/documenten/ronl-71a106d1f7fc3ca40ec4c1fbc81115c695e1d512/pdf']\n",
      "['https://open.overheid.nl/documenten/ronl-693705f148bd4ac706c9218c81c12c1a1c8c7a3d/pdf', 'https://open.overheid.nl/documenten/ronl-8d034751ff40ad4b37664b1ea0610294c647e273/pdf']\n",
      "['https://open.overheid.nl/documenten/ronl-1d523ea5b5069743e0c2f87313625281743eaf73/pdf', 'https://open.overheid.nl/documenten/ronl-20f567268848effc054beb64a6001273851b484c/pdf', 'https://open.overheid.nl/documenten/ronl-a9b64a9c557df755a601776150f3a184e926a03c/pdf', 'https://open.overheid.nl/documenten/ronl-d4281ff97d2069040fb31950fdef4ca175e37c45/pdf', 'https://open.overheid.nl/documenten/ronl-fcbd8e980842e9d911ed4912f5b127179dabbc30/pdf']\n",
      "['https://open.overheid.nl/documenten/ronl-7c2dad7185dcd2a5755407d3368a2dfd71c5ed18/pdf']\n",
      "['https://open.overheid.nl/documenten/ronl-1a9e341bbffe19ebc203d7d3ca8c2d69f9970182/pdf', 'https://open.overheid.nl/documenten/ronl-57cc8a688bb7d6c95fe8d7c15e49531a770899ea/pdf']\n",
      "['https://open.overheid.nl/documenten/ronl-786bfccf3e9d5fbd3e8ea9a83c99fbacbd40ab7a/pdf', 'https://open.overheid.nl/documenten/ronl-e3ba4987e233afebc278502af5898ba99081ef92/pdf']\n",
      "['https://open.overheid.nl/documenten/ronl-0e243e9dfe7f1f88fc220cf4ff5ae2a6c255e797/pdf', 'https://open.overheid.nl/documenten/ronl-535a3a15d1f1623e7c97989a9f5391b87988d5ef/pdf', 'https://open.overheid.nl/documenten/ronl-b48e6f8984df9c668b599f0da23dd0b1ec5ac0f3/pdf']\n",
      "['https://open.overheid.nl/documenten/ronl-8233697a5a7c8802aa2fba8065700e7c84d920b2/pdf', 'https://open.overheid.nl/documenten/ronl-9e6882bd721fc2fd9b9a1e7fc83fa6464fcdf799/pdf', 'https://open.overheid.nl/documenten/ronl-ba8d7e16ec1e3646b1ba9b8285340cd3b1d489c5/pdf', 'https://open.overheid.nl/documenten/ronl-d28e29b4300dce5479d4c47e2668c66465520da5/pdf', 'https://open.overheid.nl/documenten/ronl-dd03a398220ff91b20b4a2f02b3839fbbb65294a/pdf', 'https://open.overheid.nl/documenten/ronl-e2f42e348b03a66071cc93f0358de6faf8fba313/pdf']\n",
      "['https://open.overheid.nl/documenten/ronl-59505cd97c58330bb61ccc70bfe7326b5a146973/pdf']\n",
      "['https://open.overheid.nl/documenten/ronl-6b94e96cdc3892939b4f1d99aed133909d6fb42f/pdf', 'https://open.overheid.nl/documenten/ronl-c7969b4e6f92540fd6bbb0e6147bd9b87c76a190/pdf', 'https://open.overheid.nl/documenten/ronl-d947d601c37a12bbf3e69794117862f0bed16534/pdf']\n",
      "['https://open.overheid.nl/documenten/ronl-342ca66a2715759e589c31a7a3996abfa5a4c724/pdf', 'https://open.overheid.nl/documenten/ronl-52731544172856482e48c13976cd9a25c6d2affc/pdf', 'https://open.overheid.nl/documenten/ronl-7df53792c1ca0bc6b8545a5f65ba4034aa190458/pdf', 'https://open.overheid.nl/documenten/ronl-892094f131b3fb64d597417fd9b3c8efc585a137/pdf', 'https://open.overheid.nl/documenten/ronl-8c7249b3570b363660f27190d5cadb31a63001e1/pdf', 'https://open.overheid.nl/documenten/ronl-c88136d5c211d446fbb839223274ab1d768a2135/pdf', 'https://open.overheid.nl/documenten/ronl-f2231c5506ccf49605381cbe9c4bc9ef8c0aabef/pdf']\n",
      "['https://open.overheid.nl/documenten/ronl-fb1045867cca7661d2355bf1bbb3330fdfb5746b/pdf']\n",
      "['https://open.overheid.nl/documenten/ronl-245c2ed6164316c5dc0f3803827f5c70716aa1e2/pdf', 'https://open.overheid.nl/documenten/ronl-283b6e363115a4abfdf2aea36c1fa9a28e98e6d6/pdf', 'https://open.overheid.nl/documenten/ronl-509b0c474566f1a058f840325d85e00426f510d1/pdf', 'https://open.overheid.nl/documenten/ronl-8323112d17aaa1308ebb825ff42e1b286038c728/pdf', 'https://open.overheid.nl/documenten/ronl-e289ddac98224b4e89327e11727d635e9a013acb/pdf']\n",
      "['https://open.overheid.nl/documenten/ronl-1bc9b71bfba9e3b1aaae421709e058fcddf0322a/pdf', 'https://open.overheid.nl/documenten/ronl-6c38620adfc27b1ca431153cc9d8f7c6fae64af4/pdf', 'https://open.overheid.nl/documenten/ronl-d65d5b06da8f4b6b6c4eb90104cdd42deb21d8d9/pdf']\n",
      "['https://open.overheid.nl/documenten/ronl-8ffc85182dfb6deb7e7b663cf84e9e9366442103/pdf']\n",
      "['https://open.overheid.nl/documenten/ronl-2fc31b6f2864a42fa73002016d942750fb2e0b44/pdf', 'https://open.overheid.nl/documenten/ronl-340dd4b3dd6b011bf39daf30dba8c02324b69ec5/pdf', 'https://open.overheid.nl/documenten/ronl-36e1d592026a23a3b118d7ebb489443fc9723049/pdf', 'https://open.overheid.nl/documenten/ronl-54d6109127b20516a97c3bfab5faaad5584ceb83/pdf', 'https://open.overheid.nl/documenten/ronl-94a1f2c977b9745a19dfe37ea56e305098a620ee/pdf', 'https://open.overheid.nl/documenten/ronl-aa42f1fcbae9dba2e5157c0a229e955bc01cd3db/pdf', 'https://open.overheid.nl/documenten/ronl-b6b469445796d9a713d3b005f5cf0f53a72bd232/pdf', 'https://open.overheid.nl/documenten/ronl-bf91e3ba8f2dca722c7fd63801c5c7e336d073b1/pdf']\n",
      "['https://open.overheid.nl/documenten/ronl-5e09e1de64d3d9516651ac024cde7b39a37b704e/pdf', 'https://open.overheid.nl/documenten/ronl-6d662742e3ec5573ff4d6676dbc2f47abba9e602/pdf', 'https://open.overheid.nl/documenten/ronl-f8f3b3779a70632e09247414d56d00332850a897/pdf']\n",
      "['https://open.overheid.nl/documenten/ronl-cd76126e967e86863fd3cbf8c0a332d8a1303dee/pdf', 'https://open.overheid.nl/documenten/ronl-e5447b13401fe355f68ffda9bfbae4fc3a3f1110/pdf']\n",
      "['https://open.overheid.nl/documenten/ronl-1e18676cc3ab3f26148a3c5d7feec794baf49393/pdf', 'https://open.overheid.nl/documenten/ronl-3c330aa283b7c46b73bb0d5bfbf1b5b333521b5f/pdf']\n",
      "['https://open.overheid.nl/documenten/ronl-0c8a466dbe3d4a0cf9fc83a7735e24d36a960ff2/pdf', 'https://open.overheid.nl/documenten/ronl-9fa08d7f8b7ae38196171becaca62ff2fbad157d/pdf', 'https://open.overheid.nl/documenten/ronl-e4e37be392793d9fdb0d37b49a178e6316a2f015/pdf']\n",
      "['https://open.overheid.nl/documenten/ronl-52cd88ef61ab945e49d6693b8ed89f608c8e62ba/pdf', 'https://open.overheid.nl/documenten/ronl-be23001686684a0b557363251ddff29f1b05e981/pdf']\n",
      "['https://open.overheid.nl/documenten/ronl-ba5a383874226ac8a1a36bdecbdf477b059c4fea/pdf', 'https://open.overheid.nl/documenten/ronl-d437e9b8efe116086406b9d3d9f434748436b181/pdf', 'https://open.overheid.nl/documenten/ronl-fd9e64715329062c305aa8c086913bef5f597e2f/pdf']\n",
      "['https://open.overheid.nl/documenten/ronl-5e641d827c48f7a0b6580c8a9151018ed645b350/pdf', 'https://open.overheid.nl/documenten/ronl-d637a1d99be66409ab4d1d80064f5f4dc84a1a44/pdf']\n",
      "['https://open.overheid.nl/documenten/ronl-551d1cea504de68d4f3c908e1acb774707304249/pdf', 'https://open.overheid.nl/documenten/ronl-b93d6250ab6272ae0412a1345d5c799fadc447be/pdf']\n",
      "['https://open.overheid.nl/documenten/ronl-bc667fa6045d7f8a1df0154e81d9599ba8baedf7/pdf']\n",
      "['https://open.overheid.nl/documenten/ronl-0c27d40113bd79b8e0d98d9bd525d6a7f7341e5c/pdf']\n",
      "['https://open.overheid.nl/documenten/ronl-4db01c54cfa8bfb77861850ead9be34c14d8ae1b/pdf']\n",
      "['https://open.overheid.nl/documenten/ronl-2ad648e131fdc92a25c0b4dcf0d166eaf3742163/pdf', 'https://open.overheid.nl/documenten/ronl-44a94ee11fed3ceab8c6d3efec197791e3c209be/pdf', 'https://open.overheid.nl/documenten/ronl-f0f9de68a0b3cde8033097ca391f2fd657c3a7d1/pdf']\n",
      "['https://open.overheid.nl/documenten/ronl-1e4ea566cb563f8f74fc7435d5062f7ad2dcd346/pdf', 'https://open.overheid.nl/documenten/ronl-ad0ff5b33443aa21d622015f63989cb90bbe019f/pdf', 'https://open.overheid.nl/documenten/ronl-c566487f9dacc01d7ef7307f08b0c432b217b0fc/pdf']\n",
      "['https://open.overheid.nl/documenten/ronl-42f11e1385d4e64663cd635694c2276ad2c4f8a6/pdf', 'https://open.overheid.nl/documenten/ronl-9353a4ad7ca45ba9d1866c2396da4f1a51bd9c64/pdf']\n",
      "['https://open.overheid.nl/documenten/ronl-754de17ae46e45b56d2f22f7f74ddaf3cb469d71/pdf', 'https://open.overheid.nl/documenten/ronl-fd99d4dec6610003c8bdd6609a26679e32837dbf/pdf']\n",
      "['https://open.overheid.nl/documenten/ronl-3a69ea6caced94d6efebf66d58fac1ec2a409879/pdf']\n",
      "['https://open.overheid.nl/documenten/ronl-55b8fd5a72df64c6bade042bec01034dd138bf41/pdf', 'https://open.overheid.nl/documenten/ronl-569d1b6551d4841fbc9388b632f88751e2ceea0b/pdf', 'https://open.overheid.nl/documenten/ronl-76bcf804145c36fa8cefd64c5c2c17532c19a769/pdf']\n",
      "['https://open.overheid.nl/documenten/ronl-2bfa419b9bd5dcae4a6ff23b33aeb8bd3ccc5cf6/pdf']\n",
      "['https://open.overheid.nl/documenten/ronl-b45bc85e8f7c06a6e5f9d0354786cd12bdc02070/pdf']\n",
      "['https://open.overheid.nl/documenten/ronl-090a66b768b1ea66c0435ef983550865273d2076/pdf', 'https://open.overheid.nl/documenten/ronl-4f8e9ec8aca9756f50c1b948fccc9887c1cb200c/pdf', 'https://open.overheid.nl/documenten/ronl-d532df001cf293371516f200f10db879c9485898/pdf', 'https://open.overheid.nl/documenten/ronl-e1ddcf08aa67806c279c20a1f7e19d800ab76c4e/pdf']\n",
      "['https://open.overheid.nl/documenten/ronl-497ba42c77382ab31ac4f063936824f86609f7fb/pdf', 'https://open.overheid.nl/documenten/ronl-74dbdc40cd4f61030aa13c74d895ad1de05f02a3/pdf']\n",
      "['https://open.overheid.nl/documenten/ronl-a1d11459364969038bc209c8abcf35512e252824/pdf']\n",
      "['https://open.overheid.nl/documenten/ronl-fa6ab26d7ef778629391b4fe75c66d883798f424/pdf']\n",
      "['https://open.overheid.nl/documenten/ronl-b3bdbe8a4958058c84412fcab53e0d1f1b2478cb/pdf', 'https://open.overheid.nl/documenten/ronl-e64c557e3b2320fa4ecd1baace1b28ea41349428/pdf', 'https://open.overheid.nl/documenten/ronl-fe48703855bb0d6324632e37873fd55e0efd6402/pdf']\n",
      "['https://open.overheid.nl/documenten/ronl-5f52a347468ea68a6b523476404d46ac2fcdb4f1/pdf', 'https://open.overheid.nl/documenten/ronl-7933de32f32d8cc5d6b4a514ca45cf1244e74c61/pdf', 'https://open.overheid.nl/documenten/ronl-91faf1e01fd7321bcc9409e7152fedd462ac70da/pdf']\n",
      "['https://open.overheid.nl/documenten/ronl-55cbe8b9afbd71c2ff69fb3aac57a04db13809aa/pdf', 'https://open.overheid.nl/documenten/ronl-9d71fe8e65589fd4b60da21d407c89f45e359196/pdf', 'https://open.overheid.nl/documenten/ronl-b4ed5a7004cda5d9c3942b8fecd0e2ab90a7e27d/pdf']\n",
      "['https://open.overheid.nl/documenten/ronl-3952769bbfe6321bc41caaacb22ef8697b9d756c/pdf', 'https://open.overheid.nl/documenten/ronl-55553069b90c44ed836819900f7bb2e7619eef2b/pdf', 'https://open.overheid.nl/documenten/ronl-c020f1ac814cd045c63862b83c0f38b97fd102b7/pdf']\n",
      "['https://open.overheid.nl/documenten/ronl-3c941feb8f2cedb06f1ebbfefdab379edac29b89/pdf']\n",
      "['https://open.overheid.nl/documenten/ronl-04cf3ba5c417e268f33f261b214899e1ba334eea/pdf']\n",
      "['https://open.overheid.nl/documenten/ronl-1518131e496f7fe25dca3e5c7ef92af3a51191f2/pdf', 'https://open.overheid.nl/documenten/ronl-45edef4b642cc5eb46860a01aa2cfa088f7c2b85/pdf', 'https://open.overheid.nl/documenten/ronl-7f4ee4feb5d40d6f2e3f2c37ffc0587ff08002f2/pdf', 'https://open.overheid.nl/documenten/ronl-9125d8dd375bf4f375a15f853db77b1d5d6d7ac3/pdf', 'https://open.overheid.nl/documenten/ronl-9d70f1ea8455639a49fca28cf25bdda0b2423166/pdf', 'https://open.overheid.nl/documenten/ronl-c03a05a31c02b7a01fb3f52ff345941ef69070e4/pdf']\n",
      "['https://open.overheid.nl/documenten/ronl-041d807f525174473c5fd6caddaaa2f1f11b6e1c/pdf', 'https://open.overheid.nl/documenten/ronl-30d4194b6ed5e157a78127791bebdbf82b99202a/pdf', 'https://open.overheid.nl/documenten/ronl-69d09df8704478bd4cd705149ed88595000eb4d3/pdf', 'https://open.overheid.nl/documenten/ronl-f9dd999b78159d0763911599f71119cc13a2914b/pdf']\n",
      "['https://open.overheid.nl/documenten/ronl-5690466889f3a482c9cc1a79c7aadc14219441df/pdf', 'https://open.overheid.nl/documenten/ronl-7ee029141b7b11e3659d8cb140afd8c0047a2a9a/pdf', 'https://open.overheid.nl/documenten/ronl-ad496b9b53880d78015dd38777da741a5d1d9ce3/pdf', 'https://open.overheid.nl/documenten/ronl-ad8f863276850822ec9a36c22e2e1062750ee31e/pdf', 'https://open.overheid.nl/documenten/ronl-e4edc06cc28b4d256aadfbfb5065e587c9f89165/pdf']\n",
      "['https://open.overheid.nl/documenten/ronl-d99c26c2ab9b6e8ab801681047110f0ca929ec7d/pdf']\n",
      "['https://open.overheid.nl/documenten/ronl-55c270b15b9241d456ef3994074585b1053bd9c6/pdf', 'https://open.overheid.nl/documenten/ronl-663d136ea44e169d3e35bf38e031318302e666d6/pdf']\n",
      "['https://open.overheid.nl/documenten/ronl-ed37e475ca1e4e2eb771ed93435b1a5bb33181ab/pdf']\n",
      "['https://open.overheid.nl/documenten/ronl-6318473c86d07133d90ef1243cf24217381aeebe/pdf', 'https://open.overheid.nl/documenten/ronl-83c01cfb9c8ad17b0881851efda0b4d1068a7ec7/pdf', 'https://open.overheid.nl/documenten/ronl-cbf069f4d6fd1fa7d69b73ada5f7c1dec499d03b/pdf']\n",
      "['https://open.overheid.nl/documenten/ronl-2d4cb3936ac5e67e8ad6d57ffdfb37bd7aec1418/pdf', 'https://open.overheid.nl/documenten/ronl-6517fb0606812dc556e6a375f53c150688a9fb8d/pdf']\n",
      "['https://open.overheid.nl/documenten/ronl-576f56ef45c486db9f94929e3d25f922be06effe/pdf', 'https://open.overheid.nl/documenten/ronl-6404e9eda5a31183844a297206ccf5c8667c078f/pdf', 'https://open.overheid.nl/documenten/ronl-a3761f166e26d4705fe414b7c9e92a0f240a1340/pdf', 'https://open.overheid.nl/documenten/ronl-d8b0c7272787518743cd80c34a7c243081fe809a/pdf']\n",
      "['https://open.overheid.nl/documenten/ronl-0c86eb72495fa0d58d0f6a4d8e06fed904e8551c/pdf', 'https://open.overheid.nl/documenten/ronl-8711a9e3de852cecd16d28cc4150c07933a8b9f2/pdf']\n",
      "['https://open.overheid.nl/documenten/ronl-4abe9e22fedf827ea7c8a3fab14920f98d482e7b/pdf', 'https://open.overheid.nl/documenten/ronl-e5e6e1e8451cc83edc8d2f022b55b2f6262cc805/pdf', 'https://open.overheid.nl/documenten/ronl-e72fe4c9dbffa747f589dd228466342b64b4a23b/pdf']\n",
      "['https://open.overheid.nl/documenten/ronl-4fc75bc1e70439c2904a50d70a2df1b3b6323ee3/pdf', 'https://open.overheid.nl/documenten/ronl-adf2fcff842c113daac542cab1c18909c2b4ec48/pdf', 'https://open.overheid.nl/documenten/ronl-b45aa66977714b530ac6119c7b84ea8723d82dae/pdf', 'https://open.overheid.nl/documenten/ronl-ebb1c38af20b0a4a397e6a9c0d9aa8bb4af226f7/pdf']\n",
      "['https://open.overheid.nl/documenten/ronl-61e150f7cb6c611a31550c208311bb82a5b0a837/pdf', 'https://open.overheid.nl/documenten/ronl-ab3c99471ab67634466f4360753fd16383bbbc58/pdf']\n",
      "['https://open.overheid.nl/documenten/ronl-2ddc0ce31c10648d965ac00825cb3ef4427a388b/pdf']\n",
      "['https://open.overheid.nl/documenten/ronl-164be31f08ef6d10bbc90ea7d23e4080ccf614d5/pdf', 'https://open.overheid.nl/documenten/ronl-31d5aa66daee26eebaaa92f510e56c9af192695e/pdf', 'https://open.overheid.nl/documenten/ronl-3fc5d77651c7ab624729e88f03b1dbe122aa0cdb/pdf', 'https://open.overheid.nl/documenten/ronl-a4f42710ffec45435f51aaaa6fbf712ac40fbbd5/pdf', 'https://open.overheid.nl/documenten/ronl-f47eec8a7a10ecf56c3fd7ae146b5041f3bacae7/pdf']\n",
      "['https://open.overheid.nl/documenten/ronl-0883c87a1ff279af77653f42a10e927de5a05d20/pdf', 'https://open.overheid.nl/documenten/ronl-119badb5054d897f7f2c9627fdab0400e95da7cc/pdf', 'https://open.overheid.nl/documenten/ronl-32768bdb97737a306a12a13e456f9ac7aaecacad/pdf', 'https://open.overheid.nl/documenten/ronl-6c09aaced162da9db1b17b1eab85dbd9a59d1f71/pdf']\n",
      "['https://open.overheid.nl/documenten/ronl-43683f25364a78d030a8bb7180f2a1d0f28c44c4/pdf', 'https://open.overheid.nl/documenten/ronl-6a9eb4beef25df52108bba5a8d78fca84b42ecbb/pdf', 'https://open.overheid.nl/documenten/ronl-f34257a9afec06c40d91a41dd54c453913b94cc8/pdf']\n",
      "['https://open.overheid.nl/documenten/ronl-76e97666032dc6d279394194e98ec7327e62bd95/pdf', 'https://open.overheid.nl/documenten/ronl-e2284167c4581c2cbc61b14166a75d9e265f1482/pdf']\n",
      "['https://open.overheid.nl/documenten/ronl-a3a922d74a4debf8f4580b11b81cb09369d0e53b/pdf']\n",
      "['https://open.overheid.nl/documenten/ronl-267f15ccc072c9b1185bf080734fbe1824790a13/pdf', 'https://open.overheid.nl/documenten/ronl-8bfdab8308b81919472a9bb5724f4783e3926116/pdf', 'https://open.overheid.nl/documenten/ronl-b81e3a118c048f62589564212e0f6306a532644a/pdf', 'https://open.overheid.nl/documenten/ronl-d798d6c9634747a7107fbf073e2e3a948c145906/pdf', 'https://open.overheid.nl/documenten/ronl-ffa39b329656f08570fcb8282f54c6747d7f71f1/pdf']\n",
      "['https://open.overheid.nl/documenten/ronl-af0323bc391616696d8768989debf4c1b03cdeea/pdf', 'https://open.overheid.nl/documenten/ronl-c754d3256932cd4147b68a229bcf22e343db4098/pdf', 'https://open.overheid.nl/documenten/ronl-eb07bf37eb3bae50eccf1ff877edaa6fc27dc9a5/pdf']\n",
      "['https://open.overheid.nl/documenten/ronl-b4a5877fcf50332b7414737e46d04e40044920c0/pdf']\n",
      "['https://open.overheid.nl/documenten/ronl-35563e0b28d01f42b114ee086497e52b3eda5419/pdf']\n",
      "['https://open.overheid.nl/documenten/ronl-5d5ae9861362051ce849f42f9cd921ed8febf966/pdf']\n",
      "['https://open.overheid.nl/documenten/ronl-4883a7e8c9275999c59f136ed931ca31be18dc41/pdf', 'https://open.overheid.nl/documenten/ronl-b4b19d95907895c6078efcbb360abe64e42af95c/pdf']\n",
      "['https://open.overheid.nl/documenten/ronl-b40d429216924c79f0c9c8406907dad5817a780f/pdf', 'https://open.overheid.nl/documenten/ronl-d060decf8928f7394869c896a38e1b8895ca85da/pdf', 'https://open.overheid.nl/documenten/ronl-d39df042d033240d6d27746f4ecee85006661767/pdf']\n",
      "['https://open.overheid.nl/documenten/ronl-2447a69bc2025d883210b4620cc5038e2e562257/pdf', 'https://open.overheid.nl/documenten/ronl-47bf8e36b088276bdeedd7c0b0429b6ebb24171c/pdf', 'https://open.overheid.nl/documenten/ronl-4cfcb83ad3a214ddabc44594a2b1b3ee97ea27b4/pdf', 'https://open.overheid.nl/documenten/ronl-d88571189cbd9a865416729bee4e58adb8b06441/pdf']\n",
      "['https://open.overheid.nl/documenten/ronl-0c27714bc68524a8d6ffbe8884c312bbe854df75/pdf', 'https://open.overheid.nl/documenten/ronl-84e84378275b99b2f46047805529d83b44c8edde/pdf', 'https://open.overheid.nl/documenten/ronl-b6a09acadbdb1a5968551130d62de65871d36b5e/pdf']\n",
      "['https://open.overheid.nl/documenten/ronl-005ca4021228c2eaaa3e5b39783705f6a72c51ca/pdf']\n",
      "['https://open.overheid.nl/documenten/ronl-134aab0dce95679c2a48416579fce1fcaef49a87/pdf']\n",
      "['https://open.overheid.nl/documenten/ronl-059cafe348a226a30708c812268e51b104e137e4/pdf']\n",
      "['https://open.overheid.nl/documenten/ronl-578d98eedfd87adb88a9dbb99827984d750396a8/pdf', 'https://open.overheid.nl/documenten/ronl-5e561d4e340c93fc544ff6a7f5565e08de346863/pdf']\n",
      "['https://open.overheid.nl/documenten/ronl-10b764f79484708fa6526cf6a437d0efe0c0c398/pdf', 'https://open.overheid.nl/documenten/ronl-1fdb38847fb6838fde813a5f31fd230d73fb4259/pdf', 'https://open.overheid.nl/documenten/ronl-54242ecaf278ded9d340e502fa7f23ea8d40b0fb/pdf', 'https://open.overheid.nl/documenten/ronl-cbaa6ff2031d9e15fdfc3652642ee92dd1be5c48/pdf']\n",
      "['https://open.overheid.nl/documenten/ronl-c7c5fd16a1652e18ab92f6cea3e80a074990dfd0/pdf']\n",
      "['https://open.overheid.nl/documenten/ronl-2b23e5d8309d176d5d68640929dd0ccd69cf63da/pdf']\n",
      "['https://open.overheid.nl/documenten/ronl-f4e0d98424edeb5e3c948dae863a9e8a7f6bfdb1/pdf']\n",
      "['https://open.overheid.nl/documenten/ronl-cc0b7734fe08a80558778216f85cb8ff69ab7987/pdf']\n",
      "['https://open.overheid.nl/documenten/ronl-346e197f70bf74ffeaf0113dc09bdceb02b0cff6/pdf', 'https://open.overheid.nl/documenten/ronl-eb0ea6134168946b022ca12544a8beb686d18f0d/pdf']\n",
      "['https://open.overheid.nl/documenten/ronl-0ebcd4ac62c7f4cd53f38ee8de3f012b9146bb54/pdf', 'https://open.overheid.nl/documenten/ronl-633dc0ed3c478a802a6a28538e75478ca4a71bcb/pdf', 'https://open.overheid.nl/documenten/ronl-f4542b0683d577304a22512dd4705625569c10e1/pdf']\n",
      "['https://open.overheid.nl/documenten/ronl-2e2213b2b1907ba85768dc1eb09bea0ae382676c/pdf', 'https://open.overheid.nl/documenten/ronl-3aa695004e7fccb53db9584e29411fc0b64d1c6b/pdf', 'https://open.overheid.nl/documenten/ronl-80fecffdf4486a62e6728cafd00d1bf4c9475cf2/pdf', 'https://open.overheid.nl/documenten/ronl-8c634381b9bd8920b1b7a1d79f692806bd8444e9/pdf']\n",
      "['https://open.overheid.nl/documenten/ronl-20163cac1ff12971b1e317b4d530ea0caa062eed/pdf', 'https://open.overheid.nl/documenten/ronl-591b397b6aceffc879c72b481c9fc7184ed487be/pdf']\n",
      "['https://open.overheid.nl/documenten/ronl-20120e48ac1e1f0d169b59c6e630a73b5eca7147/pdf', 'https://open.overheid.nl/documenten/ronl-38cb3a139cab8286d3e3add37102a27f329f9bf3/pdf', 'https://open.overheid.nl/documenten/ronl-a54e85bbf609baa6f4028cc5b198d219c4eda390/pdf', 'https://open.overheid.nl/documenten/ronl-acfad76c6fb692878ea6059eb6ad1420ef618f2c/pdf']\n",
      "['https://open.overheid.nl/documenten/ronl-cc098d7b46b76cc070c21b15d64844b4a6ed7334/pdf']\n",
      "['https://open.overheid.nl/documenten/ronl-632b4677a279b8eec35131a405b7f2c96e0c3253/pdf', 'https://open.overheid.nl/documenten/ronl-9419f2ec5fa32a72ed1a0aa0786f0982c2b77bd6/pdf', 'https://open.overheid.nl/documenten/ronl-f5a227481107f91be77f03b1b89407976680dc2a/pdf']\n",
      "['https://open.overheid.nl/documenten/ronl-76b02fc1a163969a4bedbb0b86143ddce4e33220/pdf']\n",
      "['https://open.overheid.nl/documenten/ronl-595ce1e10b68f1a96e22e83d7e6e2535f0b79c5c/pdf', 'https://open.overheid.nl/documenten/ronl-63bc440a1b8e60726b78619482e87f1999cc7197/pdf']\n",
      "['https://open.overheid.nl/documenten/ronl-e7f2a675a5aa30724473abf522fb557f6fda47f6/pdf']\n",
      "['https://open.overheid.nl/documenten/ronl-efa7e332e52f8e6b554673eae4e3d220e756becc/pdf']\n",
      "['https://open.overheid.nl/documenten/ronl-ebbb649459dcca6c1ba9253bcfd2f31f6720aaf8/pdf']\n",
      "['https://open.overheid.nl/documenten/ronl-49dd45a250b9c3c4447193073c155f179907ef7f/pdf', 'https://open.overheid.nl/documenten/ronl-6ad05365a137c232811f366fe630c01ef46c22fd/pdf']\n",
      "['https://open.overheid.nl/documenten/ronl-19ca2c3a3b5fafe0f7f73d50fb52b9da9f2a9023/pdf', 'https://open.overheid.nl/documenten/ronl-4725d66bb0fc6bcd810b313cf4273890f71ec3c9/pdf', 'https://open.overheid.nl/documenten/ronl-97ede58ccfe1d2b0a0615cbc14db56e0e4621314/pdf']\n",
      "['https://open.overheid.nl/documenten/ronl-3a6cac0d71bccd84c7dbadaae3649feb847832ca/pdf', 'https://open.overheid.nl/documenten/ronl-45d04d0fda1f6460dd974171f07cbe6fe10d96c0/pdf', 'https://open.overheid.nl/documenten/ronl-4afe260b3772bbbfe9b3c34f80846d74493cc02f/pdf', 'https://open.overheid.nl/documenten/ronl-7b299a2b527fc9c5bc161c01712d5c9cc2fa4644/pdf']\n",
      "['https://open.overheid.nl/documenten/ronl-9fd2baa7a0f97caa4541f6832e8815d7dadecfe2/pdf']\n",
      "['https://open.overheid.nl/documenten/ronl-16c5557d4cb967d4d7bf0c9fa7a923f792dbee77/pdf']\n",
      "['https://open.overheid.nl/documenten/ronl-3a9b5d7bb1828c80b4f223d20666750d0526622e/pdf', 'https://open.overheid.nl/documenten/ronl-77fd6ceaef2280c7172892cbae9a3f12c1678f73/pdf', 'https://open.overheid.nl/documenten/ronl-8b3f15a777f8f9bb6832bc6d2270a70bf93a5db3/pdf']\n",
      "['https://open.overheid.nl/documenten/ronl-0c027400816d5fdde25dcb6bb17a903f7367832e/pdf', 'https://open.overheid.nl/documenten/ronl-2ab449c4286a9033b21b060289701a0061b3b884/pdf', 'https://open.overheid.nl/documenten/ronl-538e00b49676077537d6c355caff6ea62eb6fac8/pdf', 'https://open.overheid.nl/documenten/ronl-65776775f791493e5419cce8dbc9a31e690cd2a4/pdf', 'https://open.overheid.nl/documenten/ronl-7397a6040fd4287ad9f28321a5586e76f3701ac5/pdf', 'https://open.overheid.nl/documenten/ronl-749fd865a7afe181a69ddb969284e6ea20ec9cae/pdf', 'https://open.overheid.nl/documenten/ronl-c2eab69c06749eb61063a64c8884e32525cb3091/pdf', 'https://open.overheid.nl/documenten/ronl-c4c1e7ba6850d8e33b117f4acc9ea489d2f0d786/pdf']\n",
      "['https://open.overheid.nl/documenten/ronl-c4c61d971fbc07e89f55abe757f5f68420445f8a/pdf', 'https://open.overheid.nl/documenten/ronl-f63027b9b6c0cd64075a8e1242d0b362725e77ee/pdf']\n",
      "['https://open.overheid.nl/documenten/ronl-5f213e426ec8dbae83148a8abcdb03d7e096293a/pdf', 'https://open.overheid.nl/documenten/ronl-7127dbafdd68f1384e1671cbf9ad5d301a45fe4d/pdf', 'https://open.overheid.nl/documenten/ronl-912bc0134c41f2506d498e3430cb17a6b46574a1/pdf', 'https://open.overheid.nl/documenten/ronl-c2b4c1ce3eb0bc544a92f9f7c10ddaf63e5c4915/pdf']\n",
      "['https://open.overheid.nl/documenten/ronl-53e6cdfb6d0213ee120a338656536469a68dcaf1/pdf', 'https://open.overheid.nl/documenten/ronl-736f2f045540e854c30d089cc030cb32d99d9821/pdf']\n",
      "['https://open.overheid.nl/documenten/ronl-8e5f754e7fcca8dbf34e985ec2aab917afe89c88/pdf']\n",
      "['https://open.overheid.nl/documenten/ronl-43d4b97be8461bd898087d02c11b26886442ca66/pdf', 'https://open.overheid.nl/documenten/ronl-7bcf73c3e446c048ac9415cafb5753c83faec1f3/pdf', 'https://open.overheid.nl/documenten/ronl-d7ea4ae90214b8e78b0d09124131555b7b73d24a/pdf']\n",
      "['https://open.overheid.nl/documenten/ronl-657540d0474f53a1475a49af84e3d24dc74058ce/pdf', 'https://open.overheid.nl/documenten/ronl-ba0b734d76cb86611a37aba1890b4e36f022bc41/pdf', 'https://open.overheid.nl/documenten/ronl-e401a43b075faee82df427b7f34c16eb1028535c/pdf', 'https://open.overheid.nl/documenten/ronl-fb0bfd01ca4d1c41837294e3acda13ef739195b3/pdf']\n",
      "['https://open.overheid.nl/documenten/ronl-217e148fccbefa97485f5bf9426f8f881cca60d3/pdf']\n",
      "['https://open.overheid.nl/documenten/ronl-d3b6d01e8e42ba537551717d18b7a63e8b5041c2/pdf']\n",
      "['https://open.overheid.nl/documenten/ronl-3de38fceb725b8b417960f74a1842923cfc83c15/pdf']\n",
      "['https://open.overheid.nl/documenten/ronl-c3639639ba6c69e342cf074221aef4dc0d5ea7c4/pdf', 'https://open.overheid.nl/documenten/ronl-dd6dba3973ec9488b400c91674f32f69fa948124/pdf']\n",
      "['https://open.overheid.nl/documenten/ronl-6e7caf48d818f592daf9e0fec3f7f334f3948c9b/pdf']\n",
      "['https://open.overheid.nl/documenten/ronl-3915201d844f7bbc5c2c4aed1550fdd7b6652085/pdf', 'https://open.overheid.nl/documenten/ronl-5db8ccc77f564bf1fe9b6b0bb5b3acfeb13391b7/pdf', 'https://open.overheid.nl/documenten/ronl-7c7bea445a75a559f2ed3fc2beb2e32b27e6bb87/pdf', 'https://open.overheid.nl/documenten/ronl-de07b8cf6a0bf65b0137165be0e019d8891008d9/pdf']\n",
      "['https://open.overheid.nl/documenten/ronl-4c3b290096acd467d32c004f5a52aa50f4e60f0b/pdf']\n",
      "['https://open.overheid.nl/documenten/ronl-4d1360c5799d3ce320353c8b6d393e0332242060/pdf']\n",
      "['https://open.overheid.nl/documenten/ronl-0231df4076c8b64d1b6d73024879fbb11ed3313e/pdf']\n",
      "['https://open.overheid.nl/documenten/ronl-30bd1233c090ece367dec20c8cb349c31d7f2d7b/pdf', 'https://open.overheid.nl/documenten/ronl-725cfcf7aecc7289ec7f196fa8c3a10825960de8/pdf']\n",
      "['https://open.overheid.nl/documenten/ronl-4d8ad55de0730544d676ce08fb1d006f60b3c308/pdf']\n",
      "['https://open.overheid.nl/documenten/ronl-1ccb4134d79af3590d50e2f511927bce9dd9b6b4/pdf', 'https://open.overheid.nl/documenten/ronl-235e382271a5b703666531f0b8142f1ed659fcfd/pdf', 'https://open.overheid.nl/documenten/ronl-6f368a67eb50acb41a8ea9705bc382bf8af23921/pdf', 'https://open.overheid.nl/documenten/ronl-76e8b2496a7c12bd08700fda715a0a97f135c8e1/pdf', 'https://open.overheid.nl/documenten/ronl-b8046289b32dfc11231a1e823814a18ac9221a82/pdf', 'https://open.overheid.nl/documenten/ronl-e762af303c57d6d4eecdafedd870f4f49863ec99/pdf', 'https://open.overheid.nl/documenten/ronl-f270a6deaaca778ee9da392357b22bb4fbe233f7/pdf']\n",
      "['https://open.overheid.nl/documenten/ronl-2a419e0875ae59c4349e8a6898b13becf28fe3ac/pdf', 'https://open.overheid.nl/documenten/ronl-3b0a63b925fd9ecd3e60749a43b14197970f854d/pdf', 'https://open.overheid.nl/documenten/ronl-3d349565bd0a0d1788cb7d2dbb2da6a6b61afa3b/pdf', 'https://open.overheid.nl/documenten/ronl-da074604ac17e5245a5cad1873bd91db2b515864/pdf', 'https://open.overheid.nl/documenten/ronl-e649337e14e3e73089cb575744def9355ce6d13e/pdf', 'https://open.overheid.nl/documenten/ronl-fa4a1b74ec0f4591914b77de575fc2be30387266/pdf', 'https://open.overheid.nl/documenten/ronl-fc4962f8bb2c41bbb9d7505ec6d136cdafd3235c/pdf']\n",
      "['https://open.overheid.nl/documenten/ronl-34b178474317647a70a39c36e306cb80c04abb46/pdf']\n",
      "['https://open.overheid.nl/documenten/ronl-b421feaea386d85c2115dac425264a1627dc4b51/pdf', 'https://open.overheid.nl/documenten/ronl-cb1dc636f1749599410bb59ac2ecd6f101c3cfbf/pdf']\n",
      "['https://open.overheid.nl/documenten/ronl-16d0f414b1e8a9e5dd83215da20e98112b4989ef/pdf', 'https://open.overheid.nl/documenten/ronl-3c41dcbcbdb0860b061cf51318c1396b20762796/pdf', 'https://open.overheid.nl/documenten/ronl-59582cc9774e9bbc39467390fb62ce679e2c711b/pdf', 'https://open.overheid.nl/documenten/ronl-a17e8392128e215e29083547169963de087ec55a/pdf', 'https://open.overheid.nl/documenten/ronl-a8b540af7b561789b9fb68187477f39a8070c3cf/pdf', 'https://open.overheid.nl/documenten/ronl-d4e16f160b6049162bcd291b0fb140e3cffbe65e/pdf', 'https://open.overheid.nl/documenten/ronl-db92c3379d549505574456108cdde223cbff8531/pdf', 'https://open.overheid.nl/documenten/ronl-04f4c89597a275022c13a80685270f2684de1f6a/pdf', 'https://open.overheid.nl/documenten/ronl-1283d71ed45e7af70b82388a87b0bac6b6cb71fe/pdf', 'https://open.overheid.nl/documenten/ronl-28688328057f6bbd4928d63e6aae3c32d39b11ef/pdf', 'https://open.overheid.nl/documenten/ronl-7b400a5c7bc78af5d41a88ab3a5fcb0f6aad5506/pdf', 'https://open.overheid.nl/documenten/ronl-86f20844fb01ba81e99ca05859694adea09024ba/pdf', 'https://open.overheid.nl/documenten/ronl-be2c0a179b957f77d5901316adf75f48e3a7fdbb/pdf', 'https://open.overheid.nl/documenten/ronl-d08507d4955193ffccee2973982200ee265bebf9/pdf']\n",
      "['https://open.overheid.nl/documenten/ronl-2efc47cde35b831f6e3e947c451feb739ed992b9/pdf', 'https://open.overheid.nl/documenten/ronl-59f4591184f7bbffb4c2eea0244366bd3112d0df/pdf', 'https://open.overheid.nl/documenten/ronl-b9ae202dca2eba5eb81ddbc6dcbb2a1dad50d55c/pdf', 'https://open.overheid.nl/documenten/ronl-d8b7a36d2cf746d51b6db806c82af6f5806bd474/pdf']\n",
      "['https://open.overheid.nl/documenten/ronl-3dd9a8a1af299871479ac22e348e7554d6829254/pdf', 'https://open.overheid.nl/documenten/ronl-ebdffad1aa1d7acd4cf17b3dada2badd406be117/pdf']\n",
      "['https://open.overheid.nl/documenten/ronl-07467d66e78cf63ec24072f25c13c867a3b08dc3/pdf', 'https://open.overheid.nl/documenten/ronl-11d79d46806d5d79de248eda550f7e2870fc53ff/pdf', 'https://open.overheid.nl/documenten/ronl-5c9c630bc104ef51f13ed887499f2479c0fcebe3/pdf', 'https://open.overheid.nl/documenten/ronl-a7c51055c2696ece59a2106c19164878acec66cb/pdf', 'https://open.overheid.nl/documenten/ronl-bc3d53fbb4768838cdd209e921ab8a19961eb2d2/pdf']\n",
      "['https://open.overheid.nl/documenten/ronl-50704e4e8063d31e79c61875c8319c831215f3e7/pdf', 'https://open.overheid.nl/documenten/ronl-74cd6f781f6eb87e0081506d4af2c8e901f1e1fa/pdf', 'https://open.overheid.nl/documenten/ronl-bc358b1a7a5fe97f84392b01da3a2e87a0deb024/pdf']\n",
      "['https://open.overheid.nl/documenten/ronl-2cf23f4f719bc25f7111dd82776f0c5a072cf709/pdf', 'https://open.overheid.nl/documenten/ronl-f1ec02508edbb55fb357320c4eb453847a6bbe45/pdf']\n",
      "['https://open.overheid.nl/documenten/ronl-0613a9e6bdc87105df7c6b1d5ed097fbdcc706d1/pdf', 'https://open.overheid.nl/documenten/ronl-0c8232e9ad891c6960d429bc586b9c5aad0d6653/pdf', 'https://open.overheid.nl/documenten/ronl-81c0e3c3d1c17a13abe8c31e2d2fb14dcaed835e/pdf', 'https://open.overheid.nl/documenten/ronl-8cebfd247fd92f8dfc7653633478cd915e8e8688/pdf', 'https://open.overheid.nl/documenten/ronl-8f454f3c3d9f7ad00e5151c12e2a94086ded977a/pdf', 'https://open.overheid.nl/documenten/ronl-d780f19cecef2c9eb7274d5f18afcc2083c9c751/pdf']\n",
      "['https://open.overheid.nl/documenten/ronl-9f811cb883ccc945171024bad3f0c05e4b666e0e/pdf']\n",
      "['https://open.overheid.nl/documenten/ronl-a4160b5f9e2308793ce6855103135bd174388531/pdf', 'https://open.overheid.nl/documenten/ronl-ea7eed2131b337c0408a549d88b824510a842394/pdf']\n",
      "['https://open.overheid.nl/documenten/ronl-1211fd015cfaebdbe4d7afcfc485e350f220900d/pdf', 'https://open.overheid.nl/documenten/ronl-dd36bf738d288fbfc788573bf8139e4fe8bd4930/pdf']\n",
      "['https://open.overheid.nl/documenten/ronl-33eec4e1d55870b845d4c578ff4ed071bb752a00/pdf', 'https://open.overheid.nl/documenten/ronl-66a9abbcb39a163fdea8cbbfae71834953467c55/pdf', 'https://open.overheid.nl/documenten/ronl-7ec3db854390f26552ccb48862e41770f6742390/pdf', 'https://open.overheid.nl/documenten/ronl-91d20f78f83b1ea0d449606fb7c957ab83b29530/pdf', 'https://open.overheid.nl/documenten/ronl-f47747f4cc45ae108b910dd3f899874283f14bcd/pdf']\n",
      "['https://open.overheid.nl/documenten/ronl-2bad6c1b3aab62fa7bdfd4409673c9c583078307/pdf', 'https://open.overheid.nl/documenten/ronl-d199c1d90f29c1c35ce30efd50469a193fe15c63/pdf']\n",
      "['https://open.overheid.nl/documenten/ronl-49d14912e789e63b9b687bcf1024f23f858cbb99/pdf', 'https://open.overheid.nl/documenten/ronl-7d619316b6db873646a50581a3ac866ae9ddbf3a/pdf', 'https://open.overheid.nl/documenten/ronl-f8edf454167f78488f2d91d6cc1878df4c5c4435/pdf']\n",
      "['https://open.overheid.nl/documenten/ronl-0e3e9ca766dfb4973404b32d97a4cfd6d08c513f/pdf', 'https://open.overheid.nl/documenten/ronl-2445893b2f619b431f98f6e828192e203c325962/pdf', 'https://open.overheid.nl/documenten/ronl-838da4981a8b2c043bdf3387b9703c0a8931125e/pdf']\n",
      "['https://open.overheid.nl/documenten/ronl-c58d8f70beae23c361786fb8ee720e29314517f6/pdf', 'https://open.overheid.nl/documenten/ronl-f2a632cb03969e1ff63eb001b37a1d1ba71beb3e/pdf']\n",
      "['https://open.overheid.nl/documenten/ronl-b7883bf5750fec8e17e97f204f8d752557acf658/pdf']\n",
      "['https://open.overheid.nl/documenten/ronl-a5f3893e4334e84a3ea6002f84514146453ae1c8/pdf']\n",
      "['https://open.overheid.nl/documenten/ronl-e9b05132579dff57994e66a7863d0ef23b9d86d7/pdf']\n",
      "['https://open.overheid.nl/documenten/ronl-59b2a4ec7d6fecde3c5844199f3c597f45336a24/pdf', 'https://open.overheid.nl/documenten/ronl-72fad00c04dea8e8f687f546f148fdec80f28c9a/pdf']\n",
      "['https://open.overheid.nl/documenten/ronl-ad523cf8685bc10445985c593b88e033f84ef999/pdf', 'https://open.overheid.nl/documenten/ronl-b5a86058478b8ce391e987bba1868cca4967d23d/pdf', 'https://open.overheid.nl/documenten/ronl-b705183fb3cf5a6a57e587d70b4aa3ae63d7fe75/pdf']\n",
      "['https://open.overheid.nl/documenten/ronl-e62d75d59cf7172e809d2f041fc6387cea60c17e/pdf']\n",
      "['https://open.overheid.nl/documenten/ronl-278f893894aaaf0dabb2f5d7a1dba6041e115869/pdf']\n",
      "['https://open.overheid.nl/documenten/ronl-32ca5bbd1b3c82fba1228e9a315972d36629714b/pdf', 'https://open.overheid.nl/documenten/ronl-5495dc3d3475ccbbbd0e596542c8e6350ee9e4bc/pdf']\n",
      "['https://open.overheid.nl/documenten/ronl-2b1d532ec1285de9136f215683d0b28d557ebad4/pdf', 'https://open.overheid.nl/documenten/ronl-54947afd2f366d24fbd6c77e41eee6868945e5b2/pdf', 'https://open.overheid.nl/documenten/ronl-d4b3fa1ec1bed7661557ec47e6c41423b15adff4/pdf', 'https://open.overheid.nl/documenten/ronl-f0f0c8dd6b49c8506f8f009805f9a84f3a7115e0/pdf', 'https://open.overheid.nl/documenten/ronl-fa1e6836362c4e39e9dd13175d311cb2bae6e03f/pdf', 'https://open.overheid.nl/documenten/ronl-fe2dea8f0cc2731b9da4519e7be27fa4a29a8d09/pdf']\n",
      "['https://open.overheid.nl/documenten/ronl-6a6e09fe4ae96a1a1dbb2fc061b19ca103e4051a/pdf']\n",
      "['https://open.overheid.nl/documenten/ronl-23cbfb45f9e8f6ae4c61713bbdc5180ac136b0a4/pdf']\n",
      "['https://open.overheid.nl/documenten/ronl-0676d312e4a7417876d126fe941f2bcd6d3d5035/pdf', 'https://open.overheid.nl/documenten/ronl-09a726b41d885e572911fd5c8df910426e69e88e/pdf', 'https://open.overheid.nl/documenten/ronl-5a35fe64d10d6eced9d9e1ffe59083ceceb47a3a/pdf', 'https://open.overheid.nl/documenten/ronl-93b971bd70f8d3c037180a8c9e32e30be88f2921/pdf']\n",
      "['https://open.overheid.nl/documenten/ronl-8e653a6035eee05779003083e702f7d76f604143/pdf']\n",
      "['https://open.overheid.nl/documenten/ronl-cb5b056ffa71c8d5ba9536d1bfc70fa80ff9e1b7/pdf', 'https://open.overheid.nl/documenten/ronl-ef7460453df3cddb695fd44d1c18bf27aede0799/pdf']\n",
      "['https://open.overheid.nl/documenten/ronl-06d210b371901ce328f1c05f9866c6a8ecafc5b9/pdf', 'https://open.overheid.nl/documenten/ronl-291df6d4bfd64b263df249d7ebda8ce4aea8071d/pdf']\n",
      "['https://open.overheid.nl/documenten/ronl-093b3bfda953dc7af2b35daf713a9c2cebd200f8/pdf', 'https://open.overheid.nl/documenten/ronl-1897fc50b5e83721e4f713bea701c1957dea8393/pdf', 'https://open.overheid.nl/documenten/ronl-3e6149b6035aad122b06f9756b149bf1272d71e6/pdf', 'https://open.overheid.nl/documenten/ronl-9ddb7579139a7d44394c903958fe4a8a773a8530/pdf']\n",
      "['https://open.overheid.nl/documenten/ronl-eb94659f694b1387505aa7ca2c588bdef22f5b9c/pdf']\n",
      "['https://open.overheid.nl/documenten/ronl-4f6d038f47fd9d55018bab84a04817e8f40cd359/pdf']\n",
      "['https://open.overheid.nl/documenten/ronl-2c3ed5991588d90a19800e50be92cc01868fd853/pdf', 'https://open.overheid.nl/documenten/ronl-844a48482e4ee35e3e7580bf8bbe0687ef8e9044/pdf']\n",
      "['https://open.overheid.nl/documenten/ronl-5e731c719432d320dd1698250ac8547a5ba1f769/pdf', 'https://open.overheid.nl/documenten/ronl-8dd88dac3c029d6ceb12a719472f98c6b805af08/pdf']\n",
      "['https://open.overheid.nl/documenten/ronl-c1cecdfe79af29bb4cffe68491c2109bfef41662/pdf']\n",
      "['https://open.overheid.nl/documenten/ronl-55d609152f7bb218ee9a0a1c32b9b515cbb81778/pdf']\n",
      "['https://open.overheid.nl/documenten/ronl-9a1f6347a1311df7bfc9e35b6fb91f2e94879e0a/pdf']\n",
      "['https://open.overheid.nl/documenten/ronl-7e8904592a591684adc6a363e7609a1b177afa65/pdf']\n",
      "['https://open.overheid.nl/documenten/ronl-891b18ae5db41dc1a8d6de0583da598f7dd9bbbc/pdf']\n",
      "['https://open.overheid.nl/documenten/ronl-0c90cf0918263d38f1458a4a8e702d3188912336/pdf', 'https://open.overheid.nl/documenten/ronl-dc3b2586297b8805cd54e76b80ede3b4bf232286/pdf']\n",
      "['https://open.overheid.nl/documenten/ronl-93df6e6e21788c450274c54595e780ecdcab5fba/pdf', 'https://open.overheid.nl/documenten/ronl-9ce50459a159e5d97e17af6ae61e8f3006829857/pdf', 'https://open.overheid.nl/documenten/ronl-e159192b9159b3d1e0ddd3cd78c4e3d675768cfd/pdf']\n",
      "['https://open.overheid.nl/documenten/ronl-1d415b2298d5764aa085785c1bbb86dd79efa6a6/pdf', 'https://open.overheid.nl/documenten/ronl-5ccac456198bf631c4fe6a5427f08757c74c4e49/pdf', 'https://open.overheid.nl/documenten/ronl-bf1fa21208e4c0f8370d3e2a90a93b4266b508d4/pdf', 'https://open.overheid.nl/documenten/ronl-ca5da3a574a58a7d511bc87cc77223fde781f288/pdf', 'https://open.overheid.nl/documenten/ronl-d06023915a7380e0849769b9a139cb8dc308dadf/pdf', 'https://open.overheid.nl/documenten/ronl-ec6a4b8fba0e54a3c58cf6112f9e05e0e09e924c/pdf', 'https://open.overheid.nl/documenten/ronl-f8d90c4bf4661b51782c378491a195021cacaa73/pdf']\n",
      "['https://open.overheid.nl/documenten/ronl-17d55e04bfde29e37057aa843a8f0e66e6211d1c/pdf', 'https://open.overheid.nl/documenten/ronl-4d0074d5bf7c3d691c087747c39ffdd95384eeea/pdf', 'https://open.overheid.nl/documenten/ronl-536f34143dc82db908d9df1d3829c4020d19333a/pdf']\n",
      "['https://open.overheid.nl/documenten/ronl-012f49a2ee8fa9a767aa5cffb0021da602062c98/pdf']\n",
      "['https://open.overheid.nl/documenten/ronl-39f8a3022acfba517c148ae8a33746bc0c402d7d/pdf', 'https://open.overheid.nl/documenten/ronl-8173dc30a119e14abb37be29bfe63b3a06c583f6/pdf']\n",
      "['https://open.overheid.nl/documenten/ronl-19fb2de7dc3e345bbdc4083e45414dbecaf43deb/pdf', 'https://open.overheid.nl/documenten/ronl-37c683d47ccb6ec3c30d3541c453370d4462d064/pdf', 'https://open.overheid.nl/documenten/ronl-973ac123ecab695843b5986e762d2846eaf295a4/pdf']\n",
      "['https://open.overheid.nl/documenten/ronl-c0a5d5dcf0acb47434edb3cc26551b804310bbea/pdf']\n",
      "['https://open.overheid.nl/documenten/ronl-ae633432fe3320d2277683754ae786d61ed9931f/pdf', 'https://open.overheid.nl/documenten/ronl-de363296b9a20af212bfdf2126e7436c24320771/pdf', 'https://open.overheid.nl/documenten/ronl-f9538b36e948fec4ff06e0cffe8d0928ec4ae638/pdf']\n",
      "['https://open.overheid.nl/documenten/ronl-5352c476a1f6a40255ce4ce522c2425c8ba55c95/pdf']\n",
      "['https://open.overheid.nl/documenten/ronl-31a7b5497e28345ddd14b03b86f8d92a6c0d9fee/pdf', 'https://open.overheid.nl/documenten/ronl-355ada6139b47255fb3ccde4021c98b5dd59b075/pdf']\n",
      "['https://open.overheid.nl/documenten/ronl-096c9a92252b06c4fe9e3eff0d77dbe68194825a/pdf', 'https://open.overheid.nl/documenten/ronl-cb044e6e8cf74add4c6b6d9be838b4bdbf46e800/pdf']\n",
      "['https://open.overheid.nl/documenten/ronl-82db3739be643deaa17b67ca5b071631301bbaae/pdf']\n",
      "['https://open.overheid.nl/documenten/ronl-1596f247d2d5c65445dbe45d48a343f86f6fb4b8/pdf', 'https://open.overheid.nl/documenten/ronl-5226cef9808508aac65a76a88df6f5cf4c8dbffc/pdf', 'https://open.overheid.nl/documenten/ronl-88c2794e0901659089bdc2848417f84d58a48e99/pdf']\n",
      "['https://open.overheid.nl/documenten/ronl-f6992b684eba936a90a450fc631780400f6d6e53/pdf']\n",
      "['https://open.overheid.nl/documenten/ronl-257c13751ff089170028f7b2956631a7639ff8bc/pdf', 'https://open.overheid.nl/documenten/ronl-2930c46c436e838a95fb03bdf73d24607eccd1da/pdf', 'https://open.overheid.nl/documenten/ronl-2d0cd0c923ca0d2913410d9ffaaa59e2ce4ac7c6/pdf', 'https://open.overheid.nl/documenten/ronl-3f047d9e3c1fd3b9b1b8277cb5e67fe980878777/pdf', 'https://open.overheid.nl/documenten/ronl-7336b9db4d95c9e7acfb8ae9e6ddce581dae79cb/pdf', 'https://open.overheid.nl/documenten/ronl-84608b3e82578db0395ab405cc7dc98cbfae2732/pdf', 'https://open.overheid.nl/documenten/ronl-857d3cdd08925848a10ba7968ddf662c30449e44/pdf', 'https://open.overheid.nl/documenten/ronl-934390f11f36a99c6a15a4026fd24bd85363b760/pdf', 'https://open.overheid.nl/documenten/ronl-a8f69909912aeef829e4aa09362611e2f6f2facb/pdf', 'https://open.overheid.nl/documenten/ronl-becc343251cc8d76cb278e5f07292c514b1c20b8/pdf', 'https://open.overheid.nl/documenten/ronl-c2b0ca2886e806a69609696f6458e0c5314ab756/pdf', 'https://open.overheid.nl/documenten/ronl-cce134534791cd2aee532e177e6f4f220e8f5100/pdf', 'https://open.overheid.nl/documenten/ronl-f2a5bd3daee9b2037ad4102cb327221c4efd7133/pdf']\n",
      "['https://open.overheid.nl/documenten/ronl-9fd17901d8b79f94acde6ede8d7499b6de7dac23/pdf', 'https://open.overheid.nl/documenten/ronl-f79f34dc346756cfd38cd4543ccb3a24d79fdfe9/pdf']\n",
      "['https://open.overheid.nl/documenten/ronl-4adbb05b9b3e627929a4f10982ef989438efe447/pdf']\n",
      "['https://open.overheid.nl/documenten/ronl-2404ca03eeb66a76a6a41f46b94952bf5970a612/pdf', 'https://open.overheid.nl/documenten/ronl-4a72e562ff0bf1f68fe441cf6e5f430b08f7eea1/pdf']\n",
      "['https://open.overheid.nl/documenten/ronl-6796581514ad206bd12c2447777a4cd75524dd7f/pdf', 'https://open.overheid.nl/documenten/ronl-778db761777361722a53f1379f33b8855fc06cbf/pdf', 'https://open.overheid.nl/documenten/ronl-a8976d3d6fabf49b53e34aa86ad16a5d97cba3f3/pdf']\n",
      "['https://open.overheid.nl/documenten/ronl-353b319e36175b42339cbc52c48c3f26e1d01bda/pdf', 'https://open.overheid.nl/documenten/ronl-fb356e41b599dcc65809dcbd0cd10e63d7ff4487/pdf']\n",
      "['https://open.overheid.nl/documenten/ronl-6c7f1c001c4c6736f4dd635888dd2f5c6d61aa78/pdf', 'https://open.overheid.nl/documenten/ronl-c7b4830c68c6d95b9bd6a724145cf4a5cf020873/pdf', 'https://open.overheid.nl/documenten/ronl-e983d19d005051b3948ffb1e49717c1c7866c24b/pdf']\n",
      "['https://open.overheid.nl/documenten/ronl-aa138e9b506b92a91feb03326fb0a45fd918da0d/pdf', 'https://open.overheid.nl/documenten/ronl-bb7056e56d8e46629a28bde2eb2ef0021f8921fb/pdf', 'https://open.overheid.nl/documenten/ronl-f24c44bbf0a6a26ece2c2bb6e2bf8073cd42bc52/pdf']\n",
      "['https://open.overheid.nl/documenten/ronl-4992958502d1ed873647d756ae3342b97dbeb1f3/pdf', 'https://open.overheid.nl/documenten/ronl-4e31a5988f9fe8c0a04e5c8c3451e4205d94576d/pdf', 'https://open.overheid.nl/documenten/ronl-54e107278f93301ee772da7c955dcd87d96ec149/pdf', 'https://open.overheid.nl/documenten/ronl-f2f28fdd8611f805864e18dd46eaf92da2769331/pdf']\n",
      "['https://open.overheid.nl/documenten/ronl-c9faaa7705ae5f1202fb1066fd377eee0fceae9e/pdf']\n",
      "['https://open.overheid.nl/documenten/ronl-604c7e70cf56f40e1eb14b3f670bfde58342c74c/pdf']\n",
      "['https://open.overheid.nl/documenten/ronl-2b6ab8913ae008747cf0bd0793c8be5beae4b1db/pdf', 'https://open.overheid.nl/documenten/ronl-689c46f1fc2430af1715f5cfccae61128f4dd96b/pdf']\n",
      "['https://open.overheid.nl/documenten/ronl-1ba7a1237338e4e8863e5bd9b2aa1850d5e21392/pdf', 'https://open.overheid.nl/documenten/ronl-1da5fb5245dbbc3a43b424a19732a9c94114981c/pdf', 'https://open.overheid.nl/documenten/ronl-1da6d446af8b830a9f96812f4ce2daa465f168db/pdf', 'https://open.overheid.nl/documenten/ronl-33e9146f59e032ca3ed709fada741261a4777bd5/pdf', 'https://open.overheid.nl/documenten/ronl-5fd841bc6020cdc872a64d93e3e06b8e3df00192/pdf', 'https://open.overheid.nl/documenten/ronl-6d080ba9d6a1ef2523ec87462cc74afdfc9238e4/pdf', 'https://open.overheid.nl/documenten/ronl-723e8470ca38a547cb8ebc4574f92b7d1148174a/pdf', 'https://open.overheid.nl/documenten/ronl-a7d148aea297c7089ab23cd8560a939826b01a8f/pdf', 'https://open.overheid.nl/documenten/ronl-bc70eaa1c437c455f0aa945fa106ee583aba530a/pdf', 'https://open.overheid.nl/documenten/ronl-be5ef133dc6a449b302bfac968715524bc84b9b3/pdf', 'https://open.overheid.nl/documenten/ronl-c3315babf7e4859ab7164f421f4948afcb901ff8/pdf', 'https://open.overheid.nl/documenten/ronl-d58dfef99d9ed2c87b0b882c1da14222bb1934d9/pdf', 'https://open.overheid.nl/documenten/ronl-df122a4ada8a4db401633beb200104016c672e31/pdf', 'https://open.overheid.nl/documenten/ronl-f56c90387a75a8d656e846ce8ad12f3c206bb005/pdf']\n",
      "['https://open.overheid.nl/documenten/ronl-70f0bd910c4b8758cb67c22744af5b37ddfe2b4f/pdf']\n",
      "['https://open.overheid.nl/documenten/ronl-1f592c79ddafa8bd17aa0ef32a5728a6d6cfdf45/pdf', 'https://open.overheid.nl/documenten/ronl-a15c95de8b4206f96c303ba8620b07ccfb8657f0/pdf']\n",
      "['https://open.overheid.nl/documenten/ronl-5e0d7c11eca1a998758f1a4e7256884d43e03ad1/pdf', 'https://open.overheid.nl/documenten/ronl-91e33472f8ae6f8601f7098186414166ef96d667/pdf']\n",
      "['https://open.overheid.nl/documenten/ronl-d3cf9bc352fa04b2b1134e313b893de0bdce6d6b/pdf']\n",
      "['https://open.overheid.nl/documenten/ronl-4fd66830fcfb98f5cf743845431f1152c7f08fb4/pdf']\n",
      "['https://open.overheid.nl/documenten/ronl-16098f9c9d5df56e5da852572f15605778adc2d0/pdf', 'https://open.overheid.nl/documenten/ronl-32395c76b62c515dc95e4bac7d1e2fd56b19b515/pdf']\n",
      "['https://open.overheid.nl/documenten/ronl-5d671eab58023face46094de3c52cd04aecd66b6/pdf']\n",
      "['https://open.overheid.nl/documenten/ronl-382530551def516e417121971d3c504ded7b4ab7/pdf', 'https://open.overheid.nl/documenten/ronl-f5285afaa7c7be1ff0558c06d43d23234f5bc030/pdf']\n",
      "['https://open.overheid.nl/documenten/ronl-1b069e27181c65e60929572483d8aa9db588bd7b/pdf', 'https://open.overheid.nl/documenten/ronl-4ceb60729d653ecbfb959be38ebd72b29ce99903/pdf', 'https://open.overheid.nl/documenten/ronl-9b300e5ee4f9dfae2ebaefb2934fbb5a8b15450b/pdf']\n",
      "['https://open.overheid.nl/documenten/ronl-8c874d6c9b47bdcc7d2f4248c5d79b2a1fe54ba0/pdf']\n",
      "['https://open.overheid.nl/documenten/ronl-f42fb1e559ccb44f0718490c8bd22d32ea530c05/pdf']\n",
      "['https://open.overheid.nl/documenten/ronl-1aec158f6bdc29fdbe76ab63459375dfff2c398c/pdf', 'https://open.overheid.nl/documenten/ronl-ae3edc4b88b7e58f657238b698284608e400adc8/pdf', 'https://open.overheid.nl/documenten/ronl-bdd53ff46c0f7c56eb962a2e1142fa9cb7481321/pdf']\n",
      "['https://open.overheid.nl/documenten/ronl-0c765d57d76d0d8f969b1042e69ab5c279d07304/pdf', 'https://open.overheid.nl/documenten/ronl-3e1d7703a309d8e62c2ff3ce53ec9b19ccc53161/pdf']\n",
      "['https://open.overheid.nl/documenten/ronl-3fec7660e17352eaf0141236a10c322c6bc395ed/pdf', 'https://open.overheid.nl/documenten/ronl-850ef449b306dedc935751c8daa2665815121902/pdf']\n",
      "['https://open.overheid.nl/documenten/ronl-24440f7c97a006b690e5d9ba5c5917c2b02a99ce/pdf', 'https://open.overheid.nl/documenten/ronl-4e39f004822aa8cdaf5de9c7cb1c25cf4a259be7/pdf', 'https://open.overheid.nl/documenten/ronl-5ef2b09871611a4ba93693f75e1895f01d037d0b/pdf', 'https://open.overheid.nl/documenten/ronl-fec34e46b1ad19eacda701d099daf1356c8d9c85/pdf']\n",
      "['https://open.overheid.nl/documenten/ronl-d130844b30da1feedfcc576dacea0cbc9b3e8375/pdf']\n",
      "['https://open.overheid.nl/documenten/ronl-12689b8eade2eab29a6d128ead436dad5e736c9e/pdf', 'https://open.overheid.nl/documenten/ronl-34eeb98dcc190a529597d744861edeee75172dbd/pdf', 'https://open.overheid.nl/documenten/ronl-4440278f9a7fc09e8ced0fbf4942019e9a66e7c1/pdf', 'https://open.overheid.nl/documenten/ronl-5db1b66fdc5c748e154dc4e61e1be210136f885d/pdf', 'https://open.overheid.nl/documenten/ronl-6e87483b91026a25eb486cee17315ea2dc9f562c/pdf', 'https://open.overheid.nl/documenten/ronl-95e4d3df2d288d314b7281af262ee4d7d64fb78f/pdf']\n",
      "['https://open.overheid.nl/documenten/ronl-e534a6054bb62ad8ae6f807028c23a0bb39cf6d8/pdf']\n",
      "['https://open.overheid.nl/documenten/ronl-c85b7f23ef64c156fda934ae26c73283abebdc78/pdf']\n",
      "['https://open.overheid.nl/documenten/ronl-06602dc130f5a9e54cd849c96c409e1dcca3da12/pdf']\n",
      "['https://open.overheid.nl/documenten/ronl-dcade4c3631e0d78a0daebd2bd32f573bf63bd31/pdf']\n",
      "['https://open.overheid.nl/documenten/ronl-d23189a188581b96859fc074370fbd9d8e82d7e5/pdf', 'https://open.overheid.nl/documenten/ronl-d6bf9c92b29655c7bd0b29af18a36acba668568b/pdf']\n",
      "['https://open.overheid.nl/documenten/ronl-4a3fb61c9c9169d04678396a5efad023050d2ba4/pdf']\n",
      "['https://open.overheid.nl/documenten/ronl-9d7316e14bb374a6fc771d02448ea4571fc714a5/pdf', 'https://open.overheid.nl/documenten/ronl-cbad6fe57c5ad13c6ab525635fc25493819c2026/pdf']\n",
      "['https://open.overheid.nl/documenten/ronl-7f558f63b6817dba99cfb7794a717ee0de4721bc/pdf']\n",
      "['https://open.overheid.nl/documenten/ronl-582202af8f4909dea6de34a97f788b335cfa2d26/pdf', 'https://open.overheid.nl/documenten/ronl-6763277667719de81d04875176b78f142d923dc1/pdf']\n",
      "['https://open.overheid.nl/documenten/ronl-6d9f0832e4b2241044b0cb8ab871fb40f8b860ef/pdf']\n",
      "['https://open.overheid.nl/documenten/ronl-10871324fe0d4a941273e614bd6451d1695e3937/pdf', 'https://open.overheid.nl/documenten/ronl-195f1f508165b1ccdd24575b58d9a7ee90582fad/pdf', 'https://open.overheid.nl/documenten/ronl-21f488f6fa74a1a1f6bf73622f674f1b51659823/pdf', 'https://open.overheid.nl/documenten/ronl-b461d617363dea22b93c7959da3d4916d63b98f3/pdf', 'https://open.overheid.nl/documenten/ronl-ffb394bf8c31be065ea6cf527a89294d484162a2/pdf']\n",
      "['https://open.overheid.nl/documenten/ronl-72a56f698e894b7d36f01dfc111f437f0bb05b2d/pdf']\n",
      "['https://open.overheid.nl/documenten/ronl-4baf1840f29bcc7e052532b74a633af3dfe2cec1/pdf', 'https://open.overheid.nl/documenten/ronl-f2553ab78cb1f301c2d228110697594fd88b38c3/pdf']\n",
      "['https://open.overheid.nl/documenten/ronl-44897ea85ffd6c2946f35dea14bda9a9850d0e8e/pdf', 'https://open.overheid.nl/documenten/ronl-a26e00b82fd4a107d86e719a8f1e7e60e6dba0f2/pdf']\n",
      "['https://open.overheid.nl/documenten/ronl-265db6c883472277986fd0f688020b9d52d7064e/pdf', 'https://open.overheid.nl/documenten/ronl-60707071281789da48fbc28b1780c3eec58072b6/pdf', 'https://open.overheid.nl/documenten/ronl-8e1caadd14dded9c9c9b6f74a72ddc521d571723/pdf']\n",
      "['https://open.overheid.nl/documenten/ronl-6da73fbd50bf130419795a3f28c57ade2eec87b3/pdf', 'https://open.overheid.nl/documenten/ronl-8f148c22290ed55d5975c3a6a0c7872cc4193a7c/pdf']\n",
      "['https://open.overheid.nl/documenten/ronl-26c587681a85e3ce8ee9c4f88a98bd04ed8acfd5/pdf', 'https://open.overheid.nl/documenten/ronl-72000de7e4f523fb23c2c45017057a78d9530378/pdf', 'https://open.overheid.nl/documenten/ronl-87f08ade841310da312109670c43c927b60631c5/pdf', 'https://open.overheid.nl/documenten/ronl-adc69af0a2d885fcbd0990021383566bbb801487/pdf', 'https://open.overheid.nl/documenten/ronl-e58b27242fb55dd1334cc497e04eba994b8a860d/pdf']\n",
      "['https://open.overheid.nl/documenten/ronl-52cda64e4cc2a5d9accccfa67eaa324a1c6f5dfc/pdf', 'https://open.overheid.nl/documenten/ronl-542bf724aed7b196f13b6a087f24e8df5d2f6738/pdf']\n",
      "['https://open.overheid.nl/documenten/ronl-6aaa30b0731f3d2283be9ad1af3220e1c9733a1a/pdf']\n",
      "['https://open.overheid.nl/documenten/ronl-3b499d0e2f111c8b5960055052861d73eb9f099c/pdf', 'https://open.overheid.nl/documenten/ronl-43d0740fd37f44ed0ca08e28b5c46167bad58e6b/pdf']\n",
      "['https://open.overheid.nl/documenten/ronl-40ccbb2f016162819be46536b828c518ab76c7d9/pdf']\n",
      "['https://open.overheid.nl/documenten/ronl-13ef1937f44b4a85ab716746fe123e1480404d72/pdf', 'https://open.overheid.nl/documenten/ronl-2483eefcd843e629817f8406f74d2c1870caef10/pdf', 'https://open.overheid.nl/documenten/ronl-4b41a9b125b796b9470e85a2bdea1dabae78042a/pdf', 'https://open.overheid.nl/documenten/ronl-4d9b2a4d07a3303c3e922780dad5102fb7a4efea/pdf', 'https://open.overheid.nl/documenten/ronl-9ad4582e06fcea5c6f67b946edbcfab159bd6f88/pdf']\n",
      "['https://open.overheid.nl/documenten/ronl-4c2a3baf7dbaf22337af3f116565f324f2ffc45c/pdf']\n",
      "['https://open.overheid.nl/documenten/ronl-3fbe82d2575169665f866a43bea912da3c156621/pdf']\n",
      "['https://open.overheid.nl/documenten/ronl-83f5b92889cb3866808808725dd3651ac261174d/pdf', 'https://open.overheid.nl/documenten/ronl-a0542db349f39ccbbb00e613f389b85aecd07ccd/pdf', 'https://open.overheid.nl/documenten/ronl-c94716b57d7b4cc38c697efea3e945276097796f/pdf']\n",
      "['https://open.overheid.nl/documenten/ronl-27dd0459a02425dfadde01619cefcaccb03a5be4/pdf', 'https://open.overheid.nl/documenten/ronl-bc3d63946a4f14796ef5fb6b5110aace16ea739a/pdf']\n",
      "['https://open.overheid.nl/documenten/ronl-62f252896cc8e549f6f242fec7584dc652840470/pdf', 'https://open.overheid.nl/documenten/ronl-b6d75eb2b82a5fd4038bb1720a96409e7c134736/pdf']\n",
      "['https://open.overheid.nl/documenten/ronl-3591b79f301264a630d58611a2792e1d29bc4bc6/pdf', 'https://open.overheid.nl/documenten/ronl-590c2055c3edc2e77ba89353c36a5ee2faac0c72/pdf']\n",
      "['https://open.overheid.nl/documenten/ronl-9f49fb7c933870d398a0816e535cfd96ccfc9780/pdf']\n",
      "['https://open.overheid.nl/documenten/ronl-aceb9a09948a78a2d71aa01cb47666686c1d1946/pdf', 'https://open.overheid.nl/documenten/ronl-eb7cfac831735170da990112e3b89fb253a6243c/pdf', 'https://open.overheid.nl/documenten/ronl-fce43f47ff021a44ca58fd768e0b104f4ce6843a/pdf']\n",
      "['https://open.overheid.nl/documenten/ronl-39f24882677d66bf52a90b95c61123ea1e025060/pdf', 'https://open.overheid.nl/documenten/ronl-4d26055ebcd893ccff16873712b00a21a6c8e985/pdf', 'https://open.overheid.nl/documenten/ronl-d28c40b66b08bdc68eea3a5cc3d886bdf9b56ba2/pdf']\n",
      "['https://open.overheid.nl/documenten/ronl-51ab2f3f844cd8d1ba6f6a3fa2b5e8a24d970b6f/pdf', 'https://open.overheid.nl/documenten/ronl-520be6e4a7f0beb96f9ff02ce623482cce9e6002/pdf', 'https://open.overheid.nl/documenten/ronl-9af1d05c44c863847fc4d6376692427f9c46caed/pdf']\n",
      "['https://open.overheid.nl/documenten/ronl-47649c3073ade2326d1e73e6728848e9499f8f2b/pdf', 'https://open.overheid.nl/documenten/ronl-9e2530d77bf44902b26f517f3b5fdf16a9ab5630/pdf', 'https://open.overheid.nl/documenten/ronl-d05f370e362bd0644449f9c575e23189b41b1b52/pdf', 'https://open.overheid.nl/documenten/ronl-dd074a018e1f306c9140a2b096c5db0419c56122/pdf']\n",
      "['https://open.overheid.nl/documenten/ronl-5d3d834fbd614520d9092b269ef3f47e729d32f2/pdf']\n",
      "['https://open.overheid.nl/documenten/ronl-2e79fec9bff504fc5d0187dec92b0b884eb464f6/pdf', 'https://open.overheid.nl/documenten/ronl-3a50fcfac2d6edad99d10dd6a7abee2dca5b7ea3/pdf']\n",
      "['https://open.overheid.nl/documenten/ronl-47ef7aac6ac374ca7739b785e270fc74a338204c/pdf', 'https://open.overheid.nl/documenten/ronl-df933d3f6cefba8d62790d996a2110fb69ee0494/pdf']\n",
      "['https://open.overheid.nl/documenten/ronl-0f30468e960f4c0163c4058fd1c6a460c083bd55/pdf']\n",
      "['https://open.overheid.nl/documenten/ronl-2e8692149452bf153e7a6bbb8c9acc08af7f405a/pdf', 'https://open.overheid.nl/documenten/ronl-2f22ac7b5ce39884000d3997e3f552081161d2cc/pdf', 'https://open.overheid.nl/documenten/ronl-991deda9ba0ad53ed8a7280d31e5766e6273bdbf/pdf', 'https://open.overheid.nl/documenten/ronl-a4f764b302fd818e6614782060b00ce13dadab8b/pdf']\n",
      "['https://open.overheid.nl/documenten/ronl-48fca22ccb49aa21c6eba3025c120e4800d53fde/pdf']\n",
      "['https://open.overheid.nl/documenten/ronl-1ecca1fca8466b0c3a080b9782eee64e1d18ff96/pdf', 'https://open.overheid.nl/documenten/ronl-abfdb62cd621cc3ee2a9c800676f329ff6541e90/pdf']\n",
      "['https://open.overheid.nl/documenten/ronl-c9b4c63791670480525af032483cc3d5dc07e9f8/pdf', 'https://open.overheid.nl/documenten/ronl-e8d0be1eb5c3f49c1b040b5ec4b1edb2ab92358a/pdf']\n",
      "['https://open.overheid.nl/documenten/ronl-024b58690faf152dfb021020c814fbdcae47a3ad/pdf', 'https://open.overheid.nl/documenten/ronl-37c3fe9503e53f3a5c8d510d8608ee4f8061f00a/pdf', 'https://open.overheid.nl/documenten/ronl-6c7815154bd403f1f937b872472190c5fe3dd35e/pdf', 'https://open.overheid.nl/documenten/ronl-9817aea0c00e2b5625e24205785eb62b6141bac8/pdf', 'https://open.overheid.nl/documenten/ronl-d9dc8212afdcd8e8d63b68368a7e3f63e3e9cd85/pdf', 'https://open.overheid.nl/documenten/ronl-e5ded30f99776d9aa2f2ce8c0da988cc7d892811/pdf', 'https://open.overheid.nl/documenten/ronl-e8a15b82952cf8ccc168f9358a0e23bcacc56568/pdf', 'https://open.overheid.nl/documenten/ronl-f88a187f8dff8ea98fb6485993db2ccdc29f1b2c/pdf']\n",
      "['https://open.overheid.nl/documenten/ronl-f81a82034a6ef1e7aa7004896654e1359643d67d/pdf']\n",
      "['https://open.overheid.nl/documenten/ronl-4a93cd2d6375c576e0f2161f9bcf4b3f63e75bbf/pdf', 'https://open.overheid.nl/documenten/ronl-7c6b7066a8b16791fb16d012dc66b96812968945/pdf']\n",
      "['https://open.overheid.nl/documenten/ronl-1ef17cf1abcb44c038fb44979b696c148ecbd0ba/pdf', 'https://open.overheid.nl/documenten/ronl-3bef43c45705e2a20910bd00d595e2cd11c9bd42/pdf']\n",
      "['https://open.overheid.nl/documenten/ronl-38012fb5b1d3b3d5b5a20867f4caa52a48252d37/pdf', 'https://open.overheid.nl/documenten/ronl-a9a117bb3b9c3985d4b7a80b59d8be7618a801f4/pdf']\n",
      "['https://open.overheid.nl/documenten/ronl-3719c0deecad96f72c40cff2cbff1391ae9cfd45/pdf', 'https://open.overheid.nl/documenten/ronl-e7e21f6a280c819ef1014b80c362f24207c21c36/pdf']\n",
      "['https://open.overheid.nl/documenten/ronl-f892e06011eb25126478b2306a624a9757622205/pdf']\n",
      "['https://open.overheid.nl/documenten/ronl-bed312b23377cff0ff2c19f6f94f1ade6ecf8307/pdf']\n",
      "['https://open.overheid.nl/documenten/ronl-58edf6b5591cbb23f624376ccc1aa4c1199d23d3/pdf']\n",
      "['https://open.overheid.nl/documenten/ronl-7c55ad6e9be6bf5573f61270eab7a49e3fedb8e1/pdf']\n",
      "['https://open.overheid.nl/documenten/ronl-f6e8cde8523b28771a7e9fd540753d9f4f5c792b/pdf']\n",
      "['https://open.overheid.nl/documenten/ronl-93106ed3229b3a6b1de896430444e2bc0b15acbb/pdf', 'https://open.overheid.nl/documenten/ronl-fe2d795521653038683bbddd759e43e3960c7970/pdf']\n",
      "['https://open.overheid.nl/documenten/ronl-5dbeb02c0d06da2f6322be00595e34a98bd1c669/pdf', 'https://open.overheid.nl/documenten/ronl-9be81f6adba62d5932f6cc94c912cecdfe731e50/pdf', 'https://open.overheid.nl/documenten/ronl-fe56321d27f7a1e5237bf179b1342c4eb8c9ec02/pdf']\n",
      "['https://open.overheid.nl/documenten/ronl-ff876739ac21f60f353b5c8412cc859d33992650/pdf']\n",
      "['https://open.overheid.nl/documenten/ronl-2447f6c404f75e6d23598084cc9846eb6bc4a343/pdf', 'https://open.overheid.nl/documenten/ronl-ddb84f87118ec1283e354d5f2448afa41489a048/pdf']\n",
      "['https://open.overheid.nl/documenten/ronl-563613f1dab7678d1591e2977f92b9fe4c3cba56/pdf']\n",
      "['https://open.overheid.nl/documenten/ronl-07efa6b12879b824994e9d1e16120d67616b6ce7/pdf']\n",
      "['https://open.overheid.nl/documenten/ronl-c0ea7d93a1927a25ca156fb95efbeb5a37555468/pdf']\n",
      "['https://open.overheid.nl/documenten/ronl-6888c2c8d05cf7dc709e74c4ca212ca6d283df4c/pdf']\n",
      "['https://open.overheid.nl/documenten/ronl-fc60748f144bbab35227eff3e77d889e7e9c1973/pdf']\n",
      "['https://open.overheid.nl/documenten/ronl-687f9f5ad8dd37dc3763ecb8c3187bac0f3ab50c/pdf', 'https://open.overheid.nl/documenten/ronl-d4aa718d93db3cb85513316ce5e3ea5dacc62583/pdf', 'https://open.overheid.nl/documenten/ronl-e2c602bce357ffe7f74a67d2ca9dbdaedfb3b722/pdf', 'https://open.overheid.nl/documenten/ronl-ec34a8fe7ccbc0c764fddddd741a23351ac47d17/pdf']\n",
      "['https://open.overheid.nl/documenten/ronl-0398fe56777092e3932fa2f114ae8299c62b71bc/pdf', 'https://open.overheid.nl/documenten/ronl-70be4cc4d11da6c05274be696dab2279c5bd7291/pdf', 'https://open.overheid.nl/documenten/ronl-9b647336318e8f0a47305b201ff7cafb60e63999/pdf']\n",
      "['https://open.overheid.nl/documenten/ronl-bc69887537e95647665d7a57e0c8a2b5bcc4ff43/pdf', 'https://open.overheid.nl/documenten/ronl-c92898c38cd704e3d7ed837053b48b49b1c0cbf0/pdf', 'https://open.overheid.nl/documenten/ronl-e81a569ca3b6b36b1366d450d47111c85a28c668/pdf']\n",
      "['https://open.overheid.nl/documenten/ronl-59305a9d9007bf2d99d11a9543cfac345d5459e6/pdf', 'https://open.overheid.nl/documenten/ronl-6cb8123c07906c9571d2f1a03ac9574a3c90bd81/pdf', 'https://open.overheid.nl/documenten/ronl-b1447c2aa197a5f2a92261711d1624d1df2540be/pdf']\n",
      "['https://open.overheid.nl/documenten/ronl-156bc5f11fd4d58492fc8e8d3925e649602aa756/pdf']\n",
      "['https://open.overheid.nl/documenten/ronl-967ae541bfb0c9f34876daac689f2c2bcefdac71/pdf']\n",
      "['https://open.overheid.nl/documenten/ronl-8c0008d6208aab2a2926d8a4cb0e0a1de4d027be/pdf', 'https://open.overheid.nl/documenten/ronl-bec0b52e2d8e63231d58add8fbb6357b4c9c0362/pdf']\n",
      "['https://open.overheid.nl/documenten/ronl-37ae44a8503cf6ecff3fe5e855c8109ce38ddacf/pdf', 'https://open.overheid.nl/documenten/ronl-5386e9e5e9edb1c54a7c8a2b9b3f0592ad51967a/pdf', 'https://open.overheid.nl/documenten/ronl-54d80ae1aebb0984ed44e14060d11e881a5a4763/pdf']\n",
      "['https://open.overheid.nl/documenten/ronl-5278b36e49285b156b9aaa9d19d2139ea841d1f6/pdf']\n",
      "['https://open.overheid.nl/documenten/ronl-213a04cef7d9c337afddfd7f31b91f06d066291a/pdf']\n",
      "['https://open.overheid.nl/documenten/ronl-57fb3d6b1b282c25e7eab68e174341d2484fecfd/pdf', 'https://open.overheid.nl/documenten/ronl-f549c5fdb26e8621b5eb322d7762b077ac226e87/pdf']\n",
      "['https://open.overheid.nl/documenten/ronl-28e77b6a23cab87e79856e5a13265c8c4574e78d/pdf']\n",
      "['https://open.overheid.nl/documenten/ronl-9056b403260b79a5d63be0bb83bdaa53e97770de/pdf']\n",
      "['https://open.overheid.nl/documenten/ronl-3b34ea86e4fd3ff2397ccbef0e21abe00a745e54/pdf']\n",
      "['https://open.overheid.nl/documenten/ronl-dd8d080d5668bef8443f0e3f73523b9e92a26254/pdf']\n",
      "['https://open.overheid.nl/documenten/ronl-0c8ec42b4667f90f6b732a20c1213caa9f542b74/pdf', 'https://open.overheid.nl/documenten/ronl-8cc91df02c8bc71fe2d8e95242338eeaa69e9161/pdf']\n",
      "['https://open.overheid.nl/documenten/ronl-439fd001c31e0f25670c025e03e81fd1ff0b928c/pdf']\n",
      "['https://open.overheid.nl/documenten/ronl-a4f6453ec655df75e594e583814ee52ee74688fa/pdf']\n",
      "['https://open.overheid.nl/documenten/ronl-59525eb5e6829f81a8eb8da49449df7abb902e11/pdf', 'https://open.overheid.nl/documenten/ronl-d5e45ba2c742daa1a621546a86809a4d199b159b/pdf']\n",
      "['https://open.overheid.nl/documenten/ronl-0a630d804c0d9e448a24d0a5ea2b2882a250691c/pdf']\n",
      "['https://open.overheid.nl/documenten/ronl-1bedc19a8e6f1bc41d3c9254eeb8b4ecfb9f43dd/pdf', 'https://open.overheid.nl/documenten/ronl-b10c5af760f9a0beb3e986124fb781cf7e040903/pdf', 'https://open.overheid.nl/documenten/ronl-e4ac3a04e4e5baa1ef6bc35cf4e8d5f359cb349c/pdf']\n",
      "['https://open.overheid.nl/documenten/ronl-a69f0559fe2a6678da7c7da2c7872c2a4e9ed6f5/pdf', 'https://open.overheid.nl/documenten/ronl-b3e94684d4102e9ba44ba749fcbaf7820a5d4cc5/pdf']\n",
      "['https://open.overheid.nl/documenten/ronl-819302ff9730d38c56b666d56baa5e3dadc8f067/pdf', 'https://open.overheid.nl/documenten/ronl-e521965f31ad226eaac9089a1a777f70931bd727/pdf']\n",
      "['https://open.overheid.nl/documenten/ronl-2efc4cf5ab9699521c6a6485b1038dc2158ffdfa/pdf', 'https://open.overheid.nl/documenten/ronl-55f7c11d83406e6f6209260d880806c73a848de2/pdf', 'https://open.overheid.nl/documenten/ronl-78556031fc5a379fe418181798e0a7afef883193/pdf']\n",
      "['https://open.overheid.nl/documenten/ronl-20dab92b65845578e579447f2b76ebf95fe8d711/pdf', 'https://open.overheid.nl/documenten/ronl-2132520de0dcb9a99eaaf2b70e637b688d25d65e/pdf', 'https://open.overheid.nl/documenten/ronl-4045e640d20bc943cff2521eeedde1602ad301a5/pdf']\n",
      "['https://open.overheid.nl/documenten/ronl-13390dee56675f3579a58557935ff40dfe1efb20/pdf']\n",
      "['https://open.overheid.nl/documenten/ronl-dd73b95c45f885e10372c6957c7323fc7d80cb2a/pdf']\n",
      "['https://open.overheid.nl/documenten/ronl-c38c4b1d7fded28b6c0f74f0eeffbf909af8084a/pdf']\n",
      "['https://open.overheid.nl/documenten/ronl-db8f201b879e3aaa5b207c26249366ad999ef9f1/pdf', 'https://open.overheid.nl/documenten/ronl-e6617916c875dba210c03ac87c0fbfd514667aff/pdf', 'https://open.overheid.nl/documenten/ronl-e8aaa07079d46bbe97eb8eeecbc9ed5744c0f711/pdf']\n",
      "['https://open.overheid.nl/documenten/ronl-066ba951dde18e4edd670c463edc131b2a74c54d/pdf', 'https://open.overheid.nl/documenten/ronl-3e22b4ff52be38087355d3733bbf0a2878dea6ea/pdf', 'https://open.overheid.nl/documenten/ronl-452af2caf49101261ed251c29cbf36178e26e1b7/pdf', 'https://open.overheid.nl/documenten/ronl-58d15edd2d197bff792c080f576d8390e3b99be2/pdf', 'https://open.overheid.nl/documenten/ronl-836a0588c967c8f0fd9337be08f3b44db0e412cb/pdf', 'https://open.overheid.nl/documenten/ronl-96256c73d3ae4d32bffa0c39429ab06aa6a2cc0d/pdf']\n",
      "['https://open.overheid.nl/documenten/ronl-1f1ccf5331f48943400a4b36fd1e9c8ee927ae0d/pdf']\n",
      "['https://open.overheid.nl/documenten/ronl-3e2ad8e0321b7469a34dec892fce765249344f24/pdf', 'https://open.overheid.nl/documenten/ronl-5b9bb2852d3a3e0c7e8b4522009071e2ddb6ab85/pdf', 'https://open.overheid.nl/documenten/ronl-8091b70c392ad8cfba19369c5570ff55910576fd/pdf', 'https://open.overheid.nl/documenten/ronl-a0f4f40b29850c196e68ab96ceffd78cf71f388a/pdf', 'https://open.overheid.nl/documenten/ronl-b452c12de9763ce48a6c92ceb4305509e74d3675/pdf']\n",
      "['https://open.overheid.nl/documenten/ronl-0b92cd9d24e2228d9a56cfecab9cb4a7c6671cfc/pdf']\n",
      "['https://open.overheid.nl/documenten/ronl-708460704fe3375986db3a37f41258e88c8ddf39/pdf']\n",
      "['https://open.overheid.nl/documenten/ronl-d7eaef45f2392de922cbae1c738f4ae81e6d20d3/pdf']\n",
      "['https://open.overheid.nl/documenten/ronl-af62ef09e30db97f6334cd6bb4fb4890bc032139/pdf']\n",
      "['https://open.overheid.nl/documenten/ronl-133e4e17d6e8eb63f91dcfe6166c71c37010a40d/pdf']\n",
      "['https://open.overheid.nl/documenten/ronl-3aa08dac8a92ae6e8c13752b25f5cf7d89ac4aa1/pdf', 'https://open.overheid.nl/documenten/ronl-ce9a849b198fad5d01b547651cfa8e6e9e0b9359/pdf']\n",
      "['https://open.overheid.nl/documenten/ronl-c918b0cee5084d58cf045c8e3e0fa73568d877db/pdf']\n",
      "['https://open.overheid.nl/documenten/ronl-591c7d6f8835e127c63f6e17c2794ac328ca6e27/pdf']\n",
      "['https://open.overheid.nl/documenten/ronl-2b827032da8d98491f279934c5ec41911a2feb9e/pdf', 'https://open.overheid.nl/documenten/ronl-3f50601239036a4be758e844e33c04b5e8d4e126/pdf', 'https://open.overheid.nl/documenten/ronl-d215a683beabc0c06ee782f32cea7105e6eeb5bc/pdf']\n",
      "['https://open.overheid.nl/documenten/ronl-3946e813e59f7c7b2213a0254d01fe8a06459226/pdf']\n",
      "['https://open.overheid.nl/documenten/ronl-e0465dbe93c0173489151cd48fbf970dbde230dd/pdf']\n",
      "['https://open.overheid.nl/documenten/ronl-6d1db58ce719b50680686094e29624650c6a792a/pdf', 'https://open.overheid.nl/documenten/ronl-a38bdd24d41fe0733985dc45b81f34b40ecd71cd/pdf']\n",
      "['https://open.overheid.nl/documenten/ronl-1224b8ba9d0e9eb859fb26b52533b82808e26817/pdf', 'https://open.overheid.nl/documenten/ronl-3683b9f506355376ab181f948e753bb2f64171e5/pdf']\n",
      "['https://open.overheid.nl/documenten/ronl-186a2c70f83fd0f4ceb45291b3dbfbe77409da1e/pdf', 'https://open.overheid.nl/documenten/ronl-4078ac340529475016c28ffccd3f928ef92e05f2/pdf', 'https://open.overheid.nl/documenten/ronl-770d0f6c5db3b4a25a67d245a4251f80e6a0f60b/pdf', 'https://open.overheid.nl/documenten/ronl-9e4e903bde717d5ee31d7cd7ae8a4e97052e2ea9/pdf', 'https://open.overheid.nl/documenten/ronl-abccc18873ad9ee6f7c0e4767f806741092a126e/pdf', 'https://open.overheid.nl/documenten/ronl-ac0a33ef18f5c1e9c62b49894ff2fcdd80392dd9/pdf']\n",
      "['https://open.overheid.nl/documenten/ronl-50208192c8883da2019ec39c585b7dcde8fd53ff/pdf']\n",
      "['https://open.overheid.nl/documenten/ronl-fe1afd10f5f425f791392582b257e2c63b56070e/pdf']\n",
      "['https://open.overheid.nl/documenten/ronl-668f745e19088ee19416283d134b7b48b48b7cc9/pdf', 'https://open.overheid.nl/documenten/ronl-6cfb411be88e102ecd2ea64305004e9ebf614672/pdf', 'https://open.overheid.nl/documenten/ronl-76e38fb3c997af7913e51a93817a667c4656d021/pdf', 'https://open.overheid.nl/documenten/ronl-7c4f5e612f8db8682ffb3af6769695facc3ccf19/pdf', 'https://open.overheid.nl/documenten/ronl-b6c4ea682523e3e5f947c50564ecf2a3749984e9/pdf']\n",
      "['https://open.overheid.nl/documenten/ronl-dd0d04bccf076e552287ed3506d24ac0404af433/pdf']\n",
      "['https://open.overheid.nl/documenten/ronl-c61b9434c668eed4f3e4ce75cc79881e9f47d0d8/pdf']\n",
      "['https://open.overheid.nl/documenten/ronl-2cd1ffe45139fb54ded6f2ea5208f98c092ac756/pdf']\n",
      "['https://open.overheid.nl/documenten/ronl-767875a4e29b6242e3038bb0f639fb0b90a41cbf/pdf']\n",
      "['https://open.overheid.nl/documenten/ronl-a990047c52723d8be397924e19020cbb3c35167f/pdf', 'https://open.overheid.nl/documenten/ronl-acc311525601382aba886c8624b7d938d23e79c5/pdf']\n",
      "['https://open.overheid.nl/documenten/ronl-5bf637a3e238ee76cc72bd337fd2ee204c1de4b0/pdf', 'https://open.overheid.nl/documenten/ronl-77de0ab1aa0abe1108ee22b8daac1b4c75de301b/pdf']\n",
      "['https://open.overheid.nl/documenten/ronl-02c3852d77fb110c389605dbb38327bc0e61731a/pdf', 'https://open.overheid.nl/documenten/ronl-564f552289d75e21edeac48dc52004ddc1a9bb2b/pdf', 'https://open.overheid.nl/documenten/ronl-59d86370a5249e1f300b44635ce99d3753cfb04a/pdf', 'https://open.overheid.nl/documenten/ronl-8159d1037070133dca3aff006fd87972a1270e91/pdf', 'https://open.overheid.nl/documenten/ronl-8da395b5e6fdf9b2895c5f6bbf942c1e10665946/pdf', 'https://open.overheid.nl/documenten/ronl-ef709a71326864d186edbade2be7df987110ee54/pdf']\n",
      "['https://open.overheid.nl/documenten/ronl-36efffdf936b5ed1e58c2d3d281aa6869f757ea1/pdf', 'https://open.overheid.nl/documenten/ronl-b62c86be71ec68ea4200d2b42095d5aa19a2f96b/pdf']\n",
      "['https://open.overheid.nl/documenten/ronl-64bd972e6bc6b017294e11cbcf7568198226dd04/pdf']\n",
      "['https://open.overheid.nl/documenten/ronl-4c1c8fd670a3c2eb192cf24f57ab98f09884b705/pdf', 'https://open.overheid.nl/documenten/ronl-8fd1ce33dd74c90b4c21fe32d1845f141bb79226/pdf', 'https://open.overheid.nl/documenten/ronl-b0bd705d7747a4dc38c0479fd56544ce04a7810f/pdf']\n",
      "['https://open.overheid.nl/documenten/ronl-9095dee713688ca519fdb5a82090fc5296c27cd7/pdf']\n",
      "['https://open.overheid.nl/documenten/ronl-6e332a43d209bf2dad825caa570806b521057002/pdf', 'https://open.overheid.nl/documenten/ronl-048c10bf01fccd5e8d407e1b2dc5123456a86092/pdf', 'https://open.overheid.nl/documenten/ronl-6ec09bb27802a0f175f58f53d7498dd368e912f4/pdf', 'https://open.overheid.nl/documenten/ronl-a4da310a41b30156e8d62e6b44728e50a8fbd437/pdf', 'https://open.overheid.nl/documenten/ronl-bb98d1f85a5c5702f2db9b9f615b0551ce95a496/pdf', 'https://open.overheid.nl/documenten/ronl-bdd46e90d034932f6ba9bc1c98ca1b2132e00d7c/pdf', 'https://open.overheid.nl/documenten/ronl-d67b309716468c830e3c3a77f3b7ed215d65b145/pdf']\n",
      "['https://open.overheid.nl/documenten/ronl-12c9a6828a173c8474f596c3f425dacccab61576/pdf', 'https://open.overheid.nl/documenten/ronl-b143e95f3f1c149c6ec5753a50f5ff372b4a152b/pdf']\n",
      "['https://open.overheid.nl/documenten/ronl-2ad9c09c453393ccacecb01abdda6620e6f01323/pdf', 'https://open.overheid.nl/documenten/ronl-a2c252bc35991c90e1a8415d5ed62b8d5f1757b8/pdf']\n",
      "['https://open.overheid.nl/documenten/ronl-9b314a3aa1320ade73790a42e43340d778dadd9f/pdf']\n",
      "['https://open.overheid.nl/documenten/ronl-016b0cef5b87e6b80419dcce6883f850eff9224c/pdf']\n",
      "['https://open.overheid.nl/documenten/ronl-48eba11cf099c9248f0d0aa466564a4c78fe63f2/pdf', 'https://open.overheid.nl/documenten/ronl-5178edd14e126dafda9124397f770f675b172aaf/pdf', 'https://open.overheid.nl/documenten/ronl-6cca9ff6cd36eb48079e79f3680054fc083506b3/pdf', 'https://open.overheid.nl/documenten/ronl-6e26004e0396ff7098893713df7bc7e067d325d1/pdf', 'https://open.overheid.nl/documenten/ronl-c071f505234b6988603464489a1433d626bd96fb/pdf', 'https://open.overheid.nl/documenten/ronl-c649ee25f32745c01d53452442f06ee7b17cc473/pdf', 'https://open.overheid.nl/documenten/ronl-e7ab943883defe37c56d37c9953717f9dfb99dc2/pdf', 'https://open.overheid.nl/documenten/ronl-eca99ea58af24070dc98eb618a6a852d8e202857/pdf', 'https://open.overheid.nl/documenten/ronl-efaaf646dc2fc85238b276595da5cb887761a863/pdf']\n",
      "['https://open.overheid.nl/documenten/ronl-f2325cf36f73f7b9f64c56a48fdcb25a8d1a221f/pdf']\n",
      "['https://open.overheid.nl/documenten/ronl-480505bea12c416f820f758fb6f89ffe09b0e68e/pdf', 'https://open.overheid.nl/documenten/ronl-d5b81a458a00b157dde596116318fb52d64a7b50/pdf']\n",
      "['https://open.overheid.nl/documenten/ronl-69cd2c3559d088341d9c8892fdfba2f15c090ff6/pdf']\n",
      "['https://open.overheid.nl/documenten/ronl-2512f960ad8c7acc969a083a94c8f086cff0349e/pdf', 'https://open.overheid.nl/documenten/ronl-59ee319e4c72029c1cf2a67b57a8d0c9f1f19d08/pdf', 'https://open.overheid.nl/documenten/ronl-74ceef84b9d4fc119b9fb79da5962ecbb4e66b54/pdf', 'https://open.overheid.nl/documenten/ronl-e137a3eef8de6321c9d7cc30cf6b84862fe63df7/pdf']\n",
      "['https://open.overheid.nl/documenten/ronl-cec08d11af15cf1e52ab9d4e46c22a238f3e43db/pdf']\n",
      "['https://open.overheid.nl/documenten/ronl-23f8e267bff3f57299eb9388a48c7490d55e7052/pdf']\n",
      "['https://open.overheid.nl/documenten/ronl-fb33808309d51f9d5aee07f22d275f3200c8a9a0/pdf']\n",
      "['https://open.overheid.nl/documenten/ronl-5b04ca9657f0c7967e2f439c37c90f28683513a4/pdf']\n",
      "['https://open.overheid.nl/documenten/ronl-0e74ab488977b1b2a2937f0dd139f568738621b9/pdf']\n",
      "['https://open.overheid.nl/documenten/ronl-7c4fb48f4e13c8027f46718f5a921d78be34cb10/pdf']\n",
      "['https://open.overheid.nl/documenten/ronl-2dfc85f97eaec72d52bdeba2784f48ebbe6dd5e3/pdf', 'https://open.overheid.nl/documenten/ronl-e1fc7a9fd2fcf47d2849ddbfaa239eb61660daff/pdf']\n",
      "['https://open.overheid.nl/documenten/ronl-036f99db8e39313200537e37ef3c38889c849737/pdf', 'https://open.overheid.nl/documenten/ronl-25f517e3a064022292885649be4b48f14dd83690/pdf']\n",
      "['https://open.overheid.nl/documenten/ronl-b089bebfa7bee6f168f94de8e46603b1291b9f20/pdf']\n",
      "['https://open.overheid.nl/documenten/ronl-6969bd24fa6ec7c05c371c56c5f8294ffb575d89/pdf', 'https://open.overheid.nl/documenten/ronl-9f97792839c3fcf06da87d2eca2cd54c00bf8cbb/pdf']\n",
      "['https://open.overheid.nl/documenten/ronl-16bf3b3202424ba91abe0d217f844e0d51383c6c/pdf', 'https://open.overheid.nl/documenten/ronl-21c186e158f120554f184035f6a6dbd0535b0d3a/pdf', 'https://open.overheid.nl/documenten/ronl-f3467be5c65e613834fc97627fe388af7a502aba/pdf']\n",
      "['https://open.overheid.nl/documenten/ronl-a09321538a8be4e3aa30339ed70dc9131a88de33/pdf', 'https://open.overheid.nl/documenten/ronl-a8ce28cb76110c6e1f88bce0ba81101ce5ff3240/pdf']\n",
      "['https://open.overheid.nl/documenten/ronl-d8ba4da91089d9450c912e126c7076384281dcb4/pdf']\n",
      "['https://open.overheid.nl/documenten/ronl-aa6d3207236bc70fae8d2081efd38dc6f49b72ab/pdf']\n",
      "['https://open.overheid.nl/documenten/ronl-0c136e765ad58581a4983e6230ac1c5879904d0c/pdf', 'https://open.overheid.nl/documenten/ronl-9b39858c77130987b8258e3cb99d454add5d46e8/pdf']\n",
      "['https://open.overheid.nl/documenten/ronl-65439304a4bd36503f7ec6bd16ddd8587deebf9e/pdf']\n",
      "['https://open.overheid.nl/documenten/ronl-9edaa00a18d27bd9583bf9f3caea0b934caa78d1/pdf']\n",
      "['https://open.overheid.nl/documenten/ronl-05eb87a4a7a2fcc2300b200f7c38426a6b0ee63f/pdf', 'https://open.overheid.nl/documenten/ronl-a58340cbcc55b90b82b09a3d4f0529d29c8e3186/pdf']\n",
      "['https://open.overheid.nl/documenten/ronl-c840950a20e085598a15d4383bd7768c25ec2db0/pdf']\n",
      "['https://open.overheid.nl/documenten/ronl-d788026cfdcbe856f94b21e8a745561ae1395bbe/pdf']\n",
      "['https://open.overheid.nl/documenten/ronl-5534b68f60bd057f71643c764505534b1ca3f981/pdf']\n",
      "['https://open.overheid.nl/documenten/ronl-76f8c00169a42d4319ba3d6fa2518324eadcbbd5/pdf']\n",
      "['https://open.overheid.nl/documenten/ronl-ebaf9ba06ca5a0874d1d90f5863b6cc9b51a5101/pdf']\n",
      "['https://open.overheid.nl/documenten/ronl-2ab6a1f8ee63305b30b6bd91f00d226fc558fe88/pdf']\n",
      "['https://open.overheid.nl/documenten/ronl-640ddd774d4c1537153ed83b194d68582d50030e/pdf']\n",
      "['https://open.overheid.nl/documenten/ronl-2581610e178ab5aa3b3679ec8bc7a9e29756b371/pdf', 'https://open.overheid.nl/documenten/ronl-524404698d1d95b810123758403849c2475f3810/pdf', 'https://open.overheid.nl/documenten/ronl-5bac8f338a61962ff77fa59e5e3776e08031719f/pdf', 'https://open.overheid.nl/documenten/ronl-94500110e02016cd01058cd90bfcbeeb9b06a3e6/pdf', 'https://open.overheid.nl/documenten/ronl-be2c1be7dc85bac4991c1e0add2e14d57d5ebb1d/pdf', 'https://open.overheid.nl/documenten/ronl-c331b037c8f2ad492c741e88a32388d331e3d976/pdf', 'https://open.overheid.nl/documenten/ronl-e71028cbdd11c65dc39a98ec290987656c22fc39/pdf', 'https://open.overheid.nl/documenten/ronl-f0176d487235c5d432f0d7ad182aa03b95a3770b/pdf']\n",
      "['https://open.overheid.nl/documenten/ronl-37873ded3f6c9c59d3026da408c14ed0d56e2abc/pdf']\n",
      "['https://open.overheid.nl/documenten/ronl-0e625271f9625a16fc8ac4b55523c72b68ccde7d/pdf', 'https://open.overheid.nl/documenten/ronl-14be21fc3757af8e71180359e7cf03bbdcefeabf/pdf']\n",
      "['https://open.overheid.nl/documenten/ronl-467acfbf2e4176203e23383fa2cdee2df946ab26/pdf']\n",
      "['https://open.overheid.nl/documenten/ronl-ba55cd126286c721139ae9e30c922ec17a445f28/pdf']\n",
      "['https://open.overheid.nl/documenten/ronl-0b443b3c2e1f09edd511f50810229ded4500554d/pdf', 'https://open.overheid.nl/documenten/ronl-ecf8807564e7ade703609318a02e042382e1b175/pdf']\n",
      "['https://open.overheid.nl/documenten/ronl-11baef43d551760ceb2ed95594bd4a5228e64515/pdf']\n",
      "['https://open.overheid.nl/documenten/ronl-fdb350b4d2e6adfb41f020e726f88de94aaaea81/pdf']\n",
      "['https://open.overheid.nl/documenten/ronl-cbaf4d4000c8a7ea876f5d7039b7a72aa6b9ae2d/pdf']\n",
      "['https://open.overheid.nl/documenten/ronl-b308c66fcccdeeb93fb249bd33c1eeeb7e9c676e/pdf']\n",
      "['https://open.overheid.nl/documenten/ronl-92aa775aa6166940e04ca11c7502a44c04bac46a/pdf', 'https://open.overheid.nl/documenten/ronl-9478611976864e77f09143d4709855f9cfd65a62/pdf']\n",
      "['https://open.overheid.nl/documenten/ronl-2272fc80487d725d221cf1afa00c5bfc635e7dfd/pdf', 'https://open.overheid.nl/documenten/ronl-7cf717c663abe1c71902773b814d5d3caf67d9b6/pdf', 'https://open.overheid.nl/documenten/ronl-95110ec827f3083947d44eb927127c3b7793204e/pdf', 'https://open.overheid.nl/documenten/ronl-e015dfb8b09cd01342dcfc277d75cf9c39e6b92f/pdf', 'https://open.overheid.nl/documenten/ronl-e600e90779df2440fa1cedc273b8dade3e1027c3/pdf']\n",
      "['https://open.overheid.nl/documenten/ronl-9f6470a4b0c7c37962768f512f86a597dce2a3fb/pdf', 'https://open.overheid.nl/documenten/ronl-d9c2d36cfd0da34b7ba5a6e8b51b9e73dff98226/pdf']\n",
      "['https://open.overheid.nl/documenten/ronl-9ff41b7fa89702f9e4a5d9c917ee7cb733ac72a2/pdf']\n",
      "['https://open.overheid.nl/documenten/ronl-3c5bfed93381a00138beba55663ab808cbb5b959/pdf']\n",
      "['https://open.overheid.nl/documenten/ronl-2f2bb9ea9b61afa2d84cbd74ed014f1e69653b24/pdf', 'https://open.overheid.nl/documenten/ronl-d7637810ba633e1052bfeea3ae155a7b4094f14e/pdf']\n",
      "['https://open.overheid.nl/documenten/ronl-5c36295cfdb9317db96d6c8327119ce7c0006550/pdf']\n",
      "['https://open.overheid.nl/documenten/ronl-a3f7ee2fc26375d29cd3c8c8fdd8a5b5f1d0a76f/pdf', 'https://open.overheid.nl/documenten/ronl-af760a889c527a66131a3e3370f2e8ea2ecaf3a7/pdf', 'https://open.overheid.nl/documenten/ronl-b01f2fb7d22ba1e4720a45085def282a807a9f4a/pdf']\n",
      "['https://open.overheid.nl/documenten/ronl-9f4d3be29ce68ff96c0ebd9ac4a9c42a1e11d7a1/pdf']\n",
      "['https://open.overheid.nl/documenten/ronl-612358e9ac020ae27589da534645ec7c1709e37d/pdf']\n",
      "['https://open.overheid.nl/documenten/ronl-94fc3b7b64606fe421c422bfc03e3fae7c9a70b5/pdf']\n",
      "['https://open.overheid.nl/documenten/ronl-67660ad6b9adec0d9b08a36ab69f1612a98ed6db/pdf', 'https://open.overheid.nl/documenten/ronl-aba8377bc799667e413a796239e1c4306418937f/pdf', 'https://open.overheid.nl/documenten/ronl-c647ce81b6e841fdd95214cd61164fc22cd84dec/pdf']\n",
      "['https://open.overheid.nl/documenten/ronl-39e0e2c0614535977c3550db00fc9d6485c18f10/pdf', 'https://open.overheid.nl/documenten/ronl-74e82599cb75b70bb943d4fea3113eaaff467ab0/pdf', 'https://open.overheid.nl/documenten/ronl-c6c1084aeef78fd1967c9d04e23f2fe7cddcae64/pdf', 'https://open.overheid.nl/documenten/ronl-f2025e6b0203f993612f0eee216b879dc1ff7657/pdf']\n",
      "['https://open.overheid.nl/documenten/ronl-21e64ff2b603bda0171fafa2f7f101d503f9440b/pdf']\n",
      "['https://open.overheid.nl/documenten/ronl-8210f070c9879ba6c4ff7fca32b187f96938cb82/pdf']\n",
      "['https://open.overheid.nl/documenten/ronl-6985fb519fc87a8f82cd82c3b05c947d8500738d/pdf']\n",
      "['https://open.overheid.nl/documenten/ronl-9ceb8d1ee175c4fdaf61fd8046d3b71230ea6a4f/pdf']\n",
      "['https://open.overheid.nl/documenten/ronl-7091417d2eb6f219ea95f0178405a267b63a5de7/pdf']\n",
      "['https://open.overheid.nl/documenten/ronl-1735a48b92672132f112a0b6eca71e51d4267cd0/pdf', 'https://open.overheid.nl/documenten/ronl-e0cac753022c9dc04c4ddd79448ca2074a93b68a/pdf']\n",
      "['https://open.overheid.nl/documenten/ronl-6d543e82495f216f31e332d54dffc5944d5834bb/pdf']\n",
      "['https://open.overheid.nl/documenten/ronl-85df2b0cd5e438b3a816447a525b02ff8a83a5dc/pdf']\n",
      "['https://open.overheid.nl/documenten/ronl-8d062b864f8e492dc039fc2addb82eea9c67b006/pdf', 'https://open.overheid.nl/documenten/ronl-a77f87f6e44365ff543cd616d261e4f0db9c88c8/pdf']\n",
      "['https://open.overheid.nl/documenten/ronl-1a6632f12a34fc817131f519207bfe5016dd83b8/pdf', 'https://open.overheid.nl/documenten/ronl-1b33663717d8dc668a7c3fc64972e41bc48eba5a/pdf', 'https://open.overheid.nl/documenten/ronl-b78234ecd4a758d4fd1fa1460680d8a1427f4783/pdf', 'https://open.overheid.nl/documenten/ronl-b88a477d0dfd04de12a47e4e79af53e2aea2bba9/pdf']\n",
      "['https://open.overheid.nl/documenten/ronl-01027cbffdbcef1a04090d07981bea287043adae/pdf']\n",
      "['https://open.overheid.nl/documenten/ronl-37929af3c1c7833bfef99592f71922fce347a54c/pdf', 'https://open.overheid.nl/documenten/ronl-5a81e3909c6db86a1b4f47060f2dae6fc726f4b1/pdf', 'https://open.overheid.nl/documenten/ronl-712f582e8ffcb63c9430a4fbbadbd7e807ab9e4e/pdf']\n",
      "['https://open.overheid.nl/documenten/ronl-5f6fccad1f0257231febfed3f63f235edfc245d0/pdf']\n",
      "['https://open.overheid.nl/documenten/ronl-05e445bf6f6e8baf440f5149d050c2adf8c0ff63/pdf', 'https://open.overheid.nl/documenten/ronl-cad9125b2bfe03b157ee00bedff50cfc83831b54/pdf', 'https://open.overheid.nl/documenten/ronl-d525ac49f03ab9f6d1ecdb960fa0b305b6ed766e/pdf']\n",
      "['https://open.overheid.nl/documenten/ronl-132aa8e5f40914b01257123af613f427d3ef1dad/pdf', 'https://open.overheid.nl/documenten/ronl-46738001d2fcb49c3901b0ba7dfbf9cc7dca383a/pdf', 'https://open.overheid.nl/documenten/ronl-6092796a7efb953b37ce758b91d9ddfc69d5b4e2/pdf']\n",
      "['https://open.overheid.nl/documenten/ronl-170b65ed7c36079a383979d60429e2b26eef50a0/pdf']\n",
      "['https://open.overheid.nl/documenten/ronl-457d0bf0900c54d4435e683449883be817d5bc2b/pdf', 'https://open.overheid.nl/documenten/ronl-683074a73225f4fc5f98a2a7ca9c02813d461ce5/pdf']\n",
      "['https://open.overheid.nl/documenten/ronl-885932917e0ec7ca4ec5fc994032fe01622b101f/pdf']\n",
      "['https://open.overheid.nl/documenten/ronl-3aa5ca42cc07c31118aa7241560fbda5d4249644/pdf']\n",
      "['https://open.overheid.nl/documenten/ronl-128b60ba9f1cbdf49a3afc9d6165dc952de666cf/pdf', 'https://open.overheid.nl/documenten/ronl-8862b4c1c2b96cb7f808ec7badf007fe37d5512b/pdf', 'https://open.overheid.nl/documenten/ronl-906232fea7c378a6a175732dd85e04b4067fe2dd/pdf', 'https://open.overheid.nl/documenten/ronl-c9a9fb2202296a555faa696d106bb7029f4458f1/pdf', 'https://open.overheid.nl/documenten/ronl-f49d8ef25f475348e02246b325f19cb5e23e7081/pdf']\n",
      "['https://open.overheid.nl/documenten/ronl-4b44132872b2938b42d474a2bdfe6f73f0b454c1/pdf', 'https://open.overheid.nl/documenten/ronl-c966b1a623518525b4e6dea0761f8c53be6baebc/pdf']\n",
      "['https://open.overheid.nl/documenten/ronl-c84d5660a328dac6a53c45ab3358c70e329b3879/pdf', 'https://open.overheid.nl/documenten/ronl-f783b829a29b3159e7345bfb593ed367cb687f90/pdf']\n",
      "['https://open.overheid.nl/documenten/ronl-172d4237e2329052e315e8f3b5a4a8ee940ac5eb/pdf', 'https://open.overheid.nl/documenten/ronl-a4ac12bee4fb7f29a123c2b85ec71807ef6cca57/pdf']\n",
      "['https://open.overheid.nl/documenten/ronl-050674a4669448c8303c000ad39f9d800b63af87/pdf', 'https://open.overheid.nl/documenten/ronl-b4c13d035b82d29135f63ddea6f38c294fe393dd/pdf', 'https://open.overheid.nl/documenten/ronl-e84d0e6fe1bd0c9683c42ab35160acda1404bdab/pdf']\n",
      "['https://open.overheid.nl/documenten/ronl-d8665e2316943beb96427915efee4545e2f2ae9d/pdf']\n",
      "['https://open.overheid.nl/documenten/ronl-ec15d61f402a0c297448e887fd7dbbb065a32046/pdf']\n",
      "['https://open.overheid.nl/documenten/ronl-3407a17ec8094f0a9edbed6da89b4f7a52cfe0cd/pdf', 'https://open.overheid.nl/documenten/ronl-eca1c60b4586334297f0f1f12c70f12ebbaa339a/pdf']\n",
      "['https://open.overheid.nl/documenten/ronl-a6af003cb561c3d4195d4b1cd3b7c96015a2ce23/pdf']\n",
      "['https://open.overheid.nl/documenten/ronl-20ad7a97c462b441336d8464e2d80764b9d11e4a/pdf', 'https://open.overheid.nl/documenten/ronl-560b0dd8f460ec557c08edffee27470d5c6ceeaf/pdf']\n",
      "['https://open.overheid.nl/documenten/ronl-541f119ad9309b2ffcc010d6b36a40c4975ad8d6/pdf', 'https://open.overheid.nl/documenten/ronl-69b25b1aa4a0b8467ff31467ac05ada9c38afa0e/pdf', 'https://open.overheid.nl/documenten/ronl-b09d8bff1a833b50f78df25df2d9c83069b1cbb6/pdf']\n",
      "['https://open.overheid.nl/documenten/ronl-26f187c732df64a0232da864d166fd87e83aa5ea/pdf']\n",
      "['https://open.overheid.nl/documenten/ronl-abedb57d0405854b38107b94c8bf369a5d5c7a65/pdf']\n",
      "['https://open.overheid.nl/documenten/ronl-6ee6dcb70d7d02889b49eb1705f2ce68ec6cbdbd/pdf']\n",
      "['https://open.overheid.nl/documenten/ronl-16f823151b6b8acd4ac81090ae92e6aaa68cbbef/pdf', 'https://open.overheid.nl/documenten/ronl-3d0147a729b98c8b927e12e423ee7c93a1196d21/pdf', 'https://open.overheid.nl/documenten/ronl-8de8f6d91d47a08fd2eee7d577e2ca22107313b8/pdf', 'https://open.overheid.nl/documenten/ronl-ca60d8896f3200edaad624aef1ee3dcea707b825/pdf']\n",
      "['https://open.overheid.nl/documenten/ronl-168a64e6552606a8ff3e50174769b8a1925e5f0b/pdf', 'https://open.overheid.nl/documenten/ronl-3b4350da58c44fca41a854664a6c395e7067276d/pdf', 'https://open.overheid.nl/documenten/ronl-63a1b1e919445f322191a810c53eea66e1a4e84c/pdf', 'https://open.overheid.nl/documenten/ronl-676349134773df13964383a3eaf2c1764ce5d880/pdf', 'https://open.overheid.nl/documenten/ronl-a246fe5328b1db64566effcb4e74f7682054e842/pdf', 'https://open.overheid.nl/documenten/ronl-a5274ca5afa20e7c474b88cff35a4e77f57db0c7/pdf', 'https://open.overheid.nl/documenten/ronl-cdcf836b33d3e37c3d14713143014aaf0544c2e2/pdf']\n",
      "['https://open.overheid.nl/documenten/ronl-cc4fde7830f1063aec1c9729a98f374888be7f65/pdf', 'https://open.overheid.nl/documenten/ronl-ed77f78c3d9ee3eab003867aaedc4d07981be8d1/pdf']\n",
      "['https://open.overheid.nl/documenten/ronl-2212e9ce42b3b52c7fac4a1febb303e3ca70e006/pdf', 'https://open.overheid.nl/documenten/ronl-3c3c616e6503fdba643f03bc808c306ec8aae583/pdf']\n",
      "['https://open.overheid.nl/documenten/ronl-2a1e03b06d6e2cdf19993256842ff7f42bb48ce9/pdf', 'https://open.overheid.nl/documenten/ronl-2e5b76e1990afb8ef9b57e03e0aca5e2545f953a/pdf', 'https://open.overheid.nl/documenten/ronl-3a09f43356f53d00495ed5adcf82f65dc4a3bb41/pdf']\n",
      "['https://open.overheid.nl/documenten/ronl-984249268bf73b7eaa825611c0cf00af0195528d/pdf']\n",
      "['https://open.overheid.nl/documenten/ronl-2f263e8705efd7f39af79ed6af7ec1597c82d885/pdf', 'https://open.overheid.nl/documenten/ronl-3b8786a21e5d7a9fca1ed97888c242b671bbb68e/pdf', 'https://open.overheid.nl/documenten/ronl-9333c46a27439f08566514f81f30fba2c6bf3274/pdf']\n",
      "['https://open.overheid.nl/documenten/ronl-8372d419a0f8a3ad2ba38bdf92a0a19b5f8c8987/pdf']\n",
      "['https://open.overheid.nl/documenten/ronl-4803c200abc20bebe7382ee172a366f13f744331/pdf', 'https://open.overheid.nl/documenten/ronl-ff8dae563ffa8fb4a2d636c956a3c65e823fd5bb/pdf']\n",
      "['https://open.overheid.nl/documenten/ronl-4a27ff62e3046fc4e18710c843b120263bad5746/pdf', 'https://open.overheid.nl/documenten/ronl-8e44820c03f19497b64c78dffff28e3095a2cd60/pdf', 'https://open.overheid.nl/documenten/ronl-bf51c7f85af9df15c8a61b685529e2d2bf8aa5c4/pdf']\n",
      "['https://open.overheid.nl/documenten/ronl-1bb2ea35e8d852393adacfe218d01d22b22a880f/pdf', 'https://open.overheid.nl/documenten/ronl-623bda2757c70f27a51021a4521d35b6bf45df2b/pdf', 'https://open.overheid.nl/documenten/ronl-9649358cf92c4743cc5cc8ddaa887ffeecdf7c83/pdf']\n",
      "['https://open.overheid.nl/documenten/ronl-20e775ca4a5429ae7d24dcf92e625b63da28b7cb/pdf']\n",
      "['https://open.overheid.nl/documenten/ronl-bb3a851eec781b04920b00241a32b1f3d8a08ae5/pdf']\n",
      "['https://open.overheid.nl/documenten/ronl-bfb8b55f5c86885f18d29afe1c4ddedb81be8457/pdf', 'https://open.overheid.nl/documenten/ronl-ec250c03fed080c4ccf46ec9917a208ed4a6ed1f/pdf']\n",
      "['https://open.overheid.nl/documenten/ronl-0419da2b9adc699c00a1d66e6e325e86379953db/pdf', 'https://open.overheid.nl/documenten/ronl-22175994e4878aa24598c0728b8f6236fa1ea3e0/pdf', 'https://open.overheid.nl/documenten/ronl-ae4d4f52c8c41643fb24214ceb03bc9e9c381bc7/pdf', 'https://open.overheid.nl/documenten/ronl-dd869f3139d5471fe833f43b56453a13c2b7abfc/pdf', 'https://open.overheid.nl/documenten/ronl-e548364758c88c0a02d26b0f1490b1fec59fbdc2/pdf']\n",
      "['https://open.overheid.nl/documenten/ronl-5c092e4940e9a5c2bf5617bf43516624bcabd2b0/pdf', 'https://open.overheid.nl/documenten/ronl-bb2a90fb47f590f880a5dc5cee814ce24862c48b/pdf']\n",
      "['https://open.overheid.nl/documenten/ronl-06012f700a90bec6114a93ebad20ec93c418c484/pdf', 'https://open.overheid.nl/documenten/ronl-072459f3da22027477266028775fccdfbde22ed0/pdf', 'https://open.overheid.nl/documenten/ronl-6e38c30c001bc93342d8eb69a1c43ede08b584cf/pdf']\n",
      "['https://open.overheid.nl/documenten/ronl-16a6f7ce24e128288fd957cec4cec575ecc4a2c8/pdf']\n",
      "['https://open.overheid.nl/documenten/ronl-3529dfdf7cd88a92ac9d9415a6ab22f92e302e1f/pdf', 'https://open.overheid.nl/documenten/ronl-463b86f0a2ccf90a0240a67275a645873b0711c3/pdf', 'https://open.overheid.nl/documenten/ronl-59a07a9d8e6b8bb8ff717c5bc39f09a95f6e1e28/pdf', 'https://open.overheid.nl/documenten/ronl-63cabb3df4e73c237b84c8493196d4768a6a6bd4/pdf', 'https://open.overheid.nl/documenten/ronl-7b5350b17908569458dfda3054961a2442647bd2/pdf', 'https://open.overheid.nl/documenten/ronl-9f5201467f176976e486cbe5375b6599d2c61d71/pdf', 'https://open.overheid.nl/documenten/ronl-acffc58972c984dcf61858461584ee9cdf2c310f/pdf']\n",
      "['https://open.overheid.nl/documenten/ronl-a58d741a82101da4c83779c1ab240dcd2a7924bc/pdf']\n",
      "['https://open.overheid.nl/documenten/ronl-a074add056117355ce69ba1a5f5f4b28cd1d8471/pdf', 'https://open.overheid.nl/documenten/ronl-aa9f0dcfad5edc77a237c8e8df4b6a61863dbc25/pdf']\n",
      "['https://open.overheid.nl/documenten/ronl-1b3e111390b80b2d8d4731f2f17e39b3164e6f34/pdf', 'https://open.overheid.nl/documenten/ronl-84c893842674c387c8e60a8fc0f4725c634c6b55/pdf', 'https://open.overheid.nl/documenten/ronl-934d06d2090f6f7629bc3a420e42fd34dfd813ea/pdf']\n",
      "['https://open.overheid.nl/documenten/ronl-1ff285d59c61ebf3107b8715a4611a800c237781/pdf']\n",
      "['https://open.overheid.nl/documenten/ronl-b937aa25e2e92b529c90b084e45e46fd6474d98b/pdf']\n",
      "['https://open.overheid.nl/documenten/ronl-2e7627031f15ca9d054c6e22eacdb1daa92173e3/pdf', 'https://open.overheid.nl/documenten/ronl-74b6ec3754be3810d59ed7042720af2098b8c7c5/pdf', 'https://open.overheid.nl/documenten/ronl-f7300af14ed056877530bdbd6a264226f7de1e3e/pdf']\n",
      "['https://open.overheid.nl/documenten/ronl-9dd79ea567352093f38a4d3a1a07f5bd21ae4011/pdf']\n",
      "['https://open.overheid.nl/documenten/ronl-1e8a53d188cd17c47ae56a5b010b4ce99d48e1e8/pdf', 'https://open.overheid.nl/documenten/ronl-2d42d98e0b94365480d11d0472f8c506cc6a4955/pdf']\n",
      "['https://open.overheid.nl/documenten/ronl-70670684e6cd4183d102ecd96cf78a7faf0f24db/pdf', 'https://open.overheid.nl/documenten/ronl-8ad8672a6d69487e4955aa153b846f949211015a/pdf', 'https://open.overheid.nl/documenten/ronl-e4e24fd40fc0b3cff8e6ab92a277fbcd1dc59206/pdf']\n",
      "['https://open.overheid.nl/documenten/ronl-7ab2e16453d2562b1be781f65cfd6279bf597ff0/pdf', 'https://open.overheid.nl/documenten/ronl-91147cc958e91bff49b7213edf39d02163d30af3/pdf', 'https://open.overheid.nl/documenten/ronl-b156f4fc5561d8ab9caf24de7ad16ed1e784cb3d/pdf']\n",
      "['https://open.overheid.nl/documenten/ronl-1277ae7b89f25cffc959e56efcfa8f90df69d048/pdf', 'https://open.overheid.nl/documenten/ronl-59b834d3c790b2f0794c06ab74c0b8a8d1341951/pdf', 'https://open.overheid.nl/documenten/ronl-84b43ca2ccd8a89b271752110cf166175ff046cd/pdf', 'https://open.overheid.nl/documenten/ronl-d14b6e2077117086364cc89ce890e3979b35a71e/pdf']\n",
      "['https://open.overheid.nl/documenten/ronl-52189a2a2646c168ea682815e3785f3bd8ba1052/pdf', 'https://open.overheid.nl/documenten/ronl-585100da6893ca2889b462f33e4c7c0682914b91/pdf', 'https://open.overheid.nl/documenten/ronl-e1754a079ca157cd2ad78255164090ace65bf36a/pdf', 'https://open.overheid.nl/documenten/ronl-e515db1d9ef76ee2862ed6e528d6f238f00b7403/pdf']\n",
      "['https://open.overheid.nl/documenten/ronl-28980d324d50238fe00aea0518b594c8c915e669/pdf', 'https://open.overheid.nl/documenten/ronl-324a065a1fffb0ea917eba7c471ae2b7b1f77d88/pdf', 'https://open.overheid.nl/documenten/ronl-348574ef2bd5799213a25b04c9d3b6349a9886f9/pdf', 'https://open.overheid.nl/documenten/ronl-404391e8ef9604e9369c727d5433814ebe096c4b/pdf', 'https://open.overheid.nl/documenten/ronl-594f6a70776b1e8e8d84f9c75b76705323551fbc/pdf', 'https://open.overheid.nl/documenten/ronl-6fa0388e56f37e67fd21ca2a8e54dc21228dd0f2/pdf', 'https://open.overheid.nl/documenten/ronl-78dd6d6ca29b2dd5297647e6e4d7cffb26cae5b4/pdf', 'https://open.overheid.nl/documenten/ronl-83844557936d78534165ddadd0a77e192cf1b123/pdf', 'https://open.overheid.nl/documenten/ronl-8a4ae46bfc1359d606559388a6019f0943457b9f/pdf', 'https://open.overheid.nl/documenten/ronl-8e5d71f3122f28f4ba91ee41a43e750e68a7ab01/pdf', 'https://open.overheid.nl/documenten/ronl-90c52621319cbb53e168a0081869d19aac2b5b6e/pdf', 'https://open.overheid.nl/documenten/ronl-99af9c82310922076674aacd2201fbd45fe627a9/pdf', 'https://open.overheid.nl/documenten/ronl-b2f67841aa0c96c4212c4640588ef4d42811c4d7/pdf', 'https://open.overheid.nl/documenten/ronl-b981b462a5ed88642d8102ead4cdf17c25ef357b/pdf', 'https://open.overheid.nl/documenten/ronl-ca6861cbcd616d583ea23bf217a9ef1b09d0efcc/pdf']\n",
      "['https://open.overheid.nl/documenten/ronl-1e5c4e662793d695ac3e875456fde9238bac5cef/pdf', 'https://open.overheid.nl/documenten/ronl-36634e6be1a88ab763c530a4cec7d7fa0f7d5ef9/pdf', 'https://open.overheid.nl/documenten/ronl-828f1afa21a40304fcf4f076abaa49de38f4d0c0/pdf', 'https://open.overheid.nl/documenten/ronl-92b09e2ba4488da86d6eb2df1c7e105f16af10f7/pdf']\n",
      "['https://open.overheid.nl/documenten/ronl-719e311c01212e2e82f95a5435eedf7dcfa76d02/pdf']\n",
      "['https://open.overheid.nl/documenten/ronl-2cf6516c6e02452568132896c5f2f34e2e1a17dd/pdf']\n",
      "['https://open.overheid.nl/documenten/ronl-3ce6ae68e3f8171abebdbc76e20645e2197acf77/pdf', 'https://open.overheid.nl/documenten/ronl-aa3fb46eae8e40123323f68e8cf9f5491429d705/pdf']\n",
      "['https://open.overheid.nl/documenten/ronl-4d13157f79cb38377c4be8dd2d594c676e55946a/pdf', 'https://open.overheid.nl/documenten/ronl-5c23a7f608be67e1c5f664c113051e6092d396aa/pdf']\n",
      "['https://open.overheid.nl/documenten/ronl-1a9c2d493597ec448daf13c2bbed13606dcb59cb/pdf', 'https://open.overheid.nl/documenten/ronl-d37a6edb62159b209bd7350b7476240395042626/pdf']\n",
      "['https://open.overheid.nl/documenten/ronl-15f167177188b18aa8d5a6a78919827b6d0d6db0/pdf', 'https://open.overheid.nl/documenten/ronl-bf681ed02a26f0c86bf1aaa261e013790ab6495c/pdf']\n",
      "['https://open.overheid.nl/documenten/ronl-030c8a18ca0f233697f811eee3e15ade5b4d333a/pdf', 'https://open.overheid.nl/documenten/ronl-447883e8b1dca2cd5a0c6b83354c7f4dbb71a872/pdf', 'https://open.overheid.nl/documenten/ronl-546858c60246e3fdfb4126d296e7e73fe3f8ef7a/pdf']\n",
      "['https://open.overheid.nl/documenten/ronl-0c6de7093380f6d6a7e7dcb84941733f8cd56220/pdf', 'https://open.overheid.nl/documenten/ronl-58b4ff6be0af7a57659e2c8e36da54826bd2ad29/pdf', 'https://open.overheid.nl/documenten/ronl-afa32f5ee354d47e7abe3345a46353d6a697f2f0/pdf']\n",
      "['https://open.overheid.nl/documenten/ronl-a079399f1b7bfc7c7c24966c4bbfec8b200904a4/pdf']\n",
      "['https://open.overheid.nl/documenten/ronl-6392f3a2279873f1b28ba3d23497d0c3eea4d98e/pdf']\n",
      "['https://open.overheid.nl/documenten/ronl-ff8822d30a30c1f70df73b7394eb941503f04728/pdf']\n",
      "['https://open.overheid.nl/documenten/ronl-6f89a068c6c4115100795ecf326ac4fd2c0ff595/pdf']\n",
      "['https://open.overheid.nl/documenten/ronl-0f1a2f6ad2c8e727777f6af9e7f314f9f52002e9/pdf', 'https://open.overheid.nl/documenten/ronl-9b38affae71165e1beeee569c5effbaeda6c2d69/pdf']\n",
      "['https://open.overheid.nl/documenten/ronl-1f172659f9e3efbec362d1df4aa1e5821906dd10/pdf', 'https://open.overheid.nl/documenten/ronl-2a0e4c9165ec923b2818000154dc4e8b729d950f/pdf', 'https://open.overheid.nl/documenten/ronl-321c73f85d8fb4a4df7ca76b3edeb4b0b35bb281/pdf', 'https://open.overheid.nl/documenten/ronl-83593b89fb5ca8e936d1b95b0dda98647f39b675/pdf', 'https://open.overheid.nl/documenten/ronl-9a36694658d59ba92d80ead5ef47fb7462676ad9/pdf']\n",
      "['https://open.overheid.nl/documenten/ronl-745b00316e8402bf5006c72f14f65f4e8eaf0216/pdf', 'https://open.overheid.nl/documenten/ronl-9d4a6684dd04f5893eaa282003d3047ad10b8bdf/pdf', 'https://open.overheid.nl/documenten/ronl-af2386e52f808f5bfc91fda365c557adee8f5a3f/pdf']\n",
      "['https://open.overheid.nl/documenten/ronl-1fc915a7f58944eb4cb2aeb3596e0af516d7ecb4/pdf']\n",
      "['https://open.overheid.nl/documenten/ronl-1dc9f7b33b303028231ac2b5298073a39b2dac77/pdf', 'https://open.overheid.nl/documenten/ronl-98be24389663da035e24acb280b5e1e35503812b/pdf', 'https://open.overheid.nl/documenten/ronl-e255706c1010911f69a8fa6171d8c47a5b071724/pdf']\n",
      "['https://open.overheid.nl/documenten/ronl-2a9ed557aa758d67b1d1b4ada452dd6269fabf4f/pdf', 'https://open.overheid.nl/documenten/ronl-3e4331a4494b9683f97fd084c40d8c04ca5f27dd/pdf', 'https://open.overheid.nl/documenten/ronl-4c4219a48e09693da61a1bd4880e09b93c5139fc/pdf', 'https://open.overheid.nl/documenten/ronl-ce7f8ef6b7ebe12fbdd46d3942723fb759ec9ad5/pdf']\n",
      "['https://open.overheid.nl/documenten/ronl-31478906442b27509bc484c83d334d36e0af45ef/pdf', 'https://open.overheid.nl/documenten/ronl-4fd30c8653413de1193a1d69f45c09445758ffef/pdf', 'https://open.overheid.nl/documenten/ronl-7447dd2b9685cf07a7c0209d03e95398ef6bd41d/pdf', 'https://open.overheid.nl/documenten/ronl-9572df03107e0f9d2fe9cbc4b5bf424ce9c0f5a3/pdf', 'https://open.overheid.nl/documenten/ronl-d84302cc7ee9f244fe4f7b94e7a724a53757925b/pdf', 'https://open.overheid.nl/documenten/ronl-e02ab9884c10dc7aecf03abc99a217b72c21e617/pdf']\n",
      "['https://open.overheid.nl/documenten/ronl-477cbcdd7a0415595086a8defdaf032557e021c4/pdf', 'https://open.overheid.nl/documenten/ronl-66640e894a05272c7a60a9a33548bd3e12f29a57/pdf', 'https://open.overheid.nl/documenten/ronl-cce477de8d6ccb1d0031cd0a404d8bc2d2a1a732/pdf', 'https://open.overheid.nl/documenten/ronl-f4bdd4ce616798eb3374ecff24eeae73aa149f5c/pdf']\n",
      "['https://open.overheid.nl/documenten/ronl-ab146452fd45e2149c4040c7c5c65243227fa1fb/pdf']\n",
      "['https://open.overheid.nl/documenten/ronl-6246778f80c72a729cf9ad2331e42483b2250647/pdf', 'https://open.overheid.nl/documenten/ronl-cdf62d4458b35a0a25c8d8bb270146aab2d24f85/pdf', 'https://open.overheid.nl/documenten/ronl-d828901f836b722eda3d11839e068ae588d3dcb6/pdf']\n",
      "['https://open.overheid.nl/documenten/ronl-574e25bcf2632134b0abb5418dc120503578dd71/pdf', 'https://open.overheid.nl/documenten/ronl-7b8b1697787a66d66ed57fedf0f96ec72b1bcf65/pdf']\n",
      "['https://open.overheid.nl/documenten/ronl-48dff8a3cdc5f28ea922f5e3705f8c2da2907a53/pdf', 'https://open.overheid.nl/documenten/ronl-505f24113869679c4f7a3facf1fe51b1bc3c9bac/pdf', 'https://open.overheid.nl/documenten/ronl-c0d4f9e278cffdebae9fc9e20a94291512604a19/pdf']\n",
      "['https://open.overheid.nl/documenten/ronl-049a2ee5e6cc15233044ece07ebe2c98857925dc/pdf', 'https://open.overheid.nl/documenten/ronl-780331ad16e3e6b3b05bf17179429cf139b09f6e/pdf', 'https://open.overheid.nl/documenten/ronl-d8e6296e7fc8088df5bdd4ec6e54ca253d07b02e/pdf']\n",
      "['https://open.overheid.nl/documenten/ronl-2873312e1d261f0ffc0db4a96607dcb14307c143/pdf']\n",
      "['https://open.overheid.nl/documenten/ronl-75b8e760ba997aedbf80958742caa95a2ac7255f/pdf']\n",
      "['https://open.overheid.nl/documenten/ronl-02fb2d8357335c46370896d06735b64699101757/pdf', 'https://open.overheid.nl/documenten/ronl-8e84cea4c0a94cef1be2f73159e1b08d07053c33/pdf', 'https://open.overheid.nl/documenten/ronl-b7d8a939cab3103d279a6eef631f8fee7a467f4a/pdf', 'https://open.overheid.nl/documenten/ronl-ba46fbf14f80acbceff059369089867ae7d37342/pdf', 'https://open.overheid.nl/documenten/ronl-df2f3be74cc790a20fc3114d4288a4cb7122b986/pdf']\n",
      "['https://open.overheid.nl/documenten/ronl-33c3b19b852ee655612e9d0719a32fd01630fec0/pdf', 'https://open.overheid.nl/documenten/ronl-cd399947ae69980f6ee4c65b0eef4362d721d351/pdf']\n",
      "['https://open.overheid.nl/documenten/ronl-c5dd3dc8d4e66be4c43d331f16c60f3a8fe77008/pdf']\n",
      "['https://open.overheid.nl/documenten/ronl-15ddd9c08c9a8bb94862706ab3be2eb312dd049c/pdf']\n",
      "['https://open.overheid.nl/documenten/ronl-99a955bccf58d94cf33935970e3027926d779c4c/pdf']\n",
      "['https://open.overheid.nl/documenten/ronl-7aea4be4eb21750609702c273913ec4c223a2ecf/pdf']\n",
      "['https://open.overheid.nl/documenten/ronl-469867558de7b8752db0691a1953451219313f98/pdf']\n",
      "['https://open.overheid.nl/documenten/ronl-1008cfdeb1f33acb18de63c9b7198adee26517d9/pdf', 'https://open.overheid.nl/documenten/ronl-32f47aed752d2df5a26857249cd1c812af8575d3/pdf', 'https://open.overheid.nl/documenten/ronl-5702f87167304f8c2f82c34b3455ceb80f0ff3ec/pdf']\n",
      "['https://open.overheid.nl/documenten/ronl-37862ba1acfdb2d6bb2fed1588cfd7ec10f1a01a/pdf', 'https://open.overheid.nl/documenten/ronl-ff4f6116059c423f47296972c459f6a1e538b057/pdf']\n",
      "['https://open.overheid.nl/documenten/ronl-1d16893c1d5a9cabb891b6a9bb5cdc0978fc4517/pdf']\n",
      "['https://open.overheid.nl/documenten/ronl-2409f31317a2d53291becba6e3b7c60a9b9cd8c8/pdf', 'https://open.overheid.nl/documenten/ronl-33c5bb8fdf0587a1d535de9831310193b1240fd8/pdf', 'https://open.overheid.nl/documenten/ronl-d0ed8cef89d2b190c713559487a26bbf9f574bbf/pdf', 'https://open.overheid.nl/documenten/ronl-ff430314ed6849bb1e533bc2e4ff52ee8ac6ed2b/pdf']\n",
      "['https://open.overheid.nl/documenten/ronl-5b679fc0b6376c3784fb2212f272ef334f9abea4/pdf', 'https://open.overheid.nl/documenten/ronl-d0aac1b7bb7ccf4cfaf6fe494de818cf7d5c47b8/pdf', 'https://open.overheid.nl/documenten/ronl-e67994d2a87f07698226de7e39e3ad4380a1b46d/pdf']\n",
      "['https://open.overheid.nl/documenten/ronl-3eaba96a949fff81ce5055576a01bbbdfc44b8cf/pdf', 'https://open.overheid.nl/documenten/ronl-f53643c7be76447975b1db4cd9c5533f8c09af75/pdf']\n",
      "['https://open.overheid.nl/documenten/ronl-ac5e1720ed090a9286f4bfd9088ac3b891981434/pdf']\n",
      "['https://open.overheid.nl/documenten/ronl-d15df8dea64e9a220668ffa483a85e7948ce2da1/pdf']\n",
      "['https://open.overheid.nl/documenten/ronl-cc9dccf8ef9029b74c75a9f2370721c4d6529652/pdf']\n",
      "['https://open.overheid.nl/documenten/ronl-53942bab48d52c4c3729b20f5cbeec3eef8e715b/pdf']\n",
      "['https://open.overheid.nl/documenten/ronl-6bb2ecc189a5fad7d266fd9f01154c27c3db0862/pdf']\n",
      "['https://open.overheid.nl/documenten/ronl-1c7cd40007152f8f2049f9cd8a4020d25eea2db3/pdf', 'https://open.overheid.nl/documenten/ronl-7ebc87be5324a13dbba4a17c7e290dff56f7d9b7/pdf']\n",
      "['https://open.overheid.nl/documenten/ronl-0c929a7f26f00714f61efa596890150fcf0a1cb2/pdf', 'https://open.overheid.nl/documenten/ronl-4310b1b1d62f70cfe48f103fdc92fc207908938d/pdf', 'https://open.overheid.nl/documenten/ronl-b630b5ecbdefef3b9b9b242efb441137ed3b1218/pdf', 'https://open.overheid.nl/documenten/ronl-ce0ce1842f236ff604a0ac2dd4c75740bad3dbce/pdf']\n",
      "['https://open.overheid.nl/documenten/ronl-576fd9ef23644b6dc07982196720b15b79594166/pdf', 'https://open.overheid.nl/documenten/ronl-a5fd8268c2a07354aa7d4e97dd27ceb6fe2b0f96/pdf']\n",
      "['https://open.overheid.nl/documenten/ronl-16cae4524c3e39e3b988ac5276c07ed35c4dfb18/pdf', 'https://open.overheid.nl/documenten/ronl-64c4206bc43dec0ecbb6c023f4c78f23aaff24c1/pdf', 'https://open.overheid.nl/documenten/ronl-c0d4ba43c0d127fbd8c5a968fa98dd1e6231bbf7/pdf', 'https://open.overheid.nl/documenten/ronl-ee4d18f1fde5d65c7a0fa5e1f5e31ca7af8ef8ad/pdf']\n",
      "['https://open.overheid.nl/documenten/ronl-939feccc9f04388c7858ac193d27cdd93d58fec9/pdf', 'https://open.overheid.nl/documenten/ronl-c2c620d2280f38290f39c17aaf4a610e786f1df4/pdf']\n",
      "['https://open.overheid.nl/documenten/ronl-a3e3885fca42722ed2fcf45b56140260a0d7073a/pdf', 'https://open.overheid.nl/documenten/ronl-db7777bd760733236079028b10b1a4f1878af439/pdf']\n",
      "['https://open.overheid.nl/documenten/ronl-36f85bbf4ffcf92dc66c0b6048c7edb37c2f8a01/pdf', 'https://open.overheid.nl/documenten/ronl-72548706ee5f38494c145ff3e1c0dce60c747ef8/pdf', 'https://open.overheid.nl/documenten/ronl-88beb6b3fd2e958d8e63dd3048ba0e8e6cb99c84/pdf', 'https://open.overheid.nl/documenten/ronl-92867cc90de46486945a04e07f69a05bb88a4e6b/pdf', 'https://open.overheid.nl/documenten/ronl-f9739b659f2e13fcf5ea962ca2aa2e4b32e39a9c/pdf']\n",
      "['https://open.overheid.nl/documenten/ronl-d8f88170c6770a1044fb2404fa5ee998d7a69fa5/pdf']\n",
      "['https://open.overheid.nl/documenten/ronl-0126c0bb1805c5f8d3fbbb8ad0473d69f278bf39/pdf', 'https://open.overheid.nl/documenten/ronl-d949947be8872fa7b9153d5190a92e1f169e7dd1/pdf', 'https://open.overheid.nl/documenten/ronl-dba3953e183ab3742e2184503d8bb49b39ec7e5a/pdf']\n",
      "['https://open.overheid.nl/documenten/ronl-643ceabdab1388cbb07f7d1063bf0bfc9a2dd5f8/pdf', 'https://open.overheid.nl/documenten/ronl-7f5ec3c59f408f41ee9be19da788fd37927cec4b/pdf']\n",
      "['https://open.overheid.nl/documenten/ronl-1101c61ce283a97d71c274468d3900012b5bbfa3/pdf', 'https://open.overheid.nl/documenten/ronl-ccc6535f38bf9d763d2adb830b382931b8e987b2/pdf']\n",
      "['https://open.overheid.nl/documenten/ronl-27825b903fe423393c213fb470d4a55fa12cabcc/pdf', 'https://open.overheid.nl/documenten/ronl-ec41b6b45ec311b0d45882cd8e9a82eba3626da6/pdf']\n",
      "['https://open.overheid.nl/documenten/ronl-05d3841a5ec9777c7253e4187eaba9132aa6f107/pdf', 'https://open.overheid.nl/documenten/ronl-0effe08f1ff6f5a80102ea56f19d0560927621c9/pdf', 'https://open.overheid.nl/documenten/ronl-86ccba49e426aee9a46c1657d26fbc10da5db227/pdf']\n",
      "['https://open.overheid.nl/documenten/ronl-93659197f94854b8f15ae7282d1a162af991c5cf/pdf', 'https://open.overheid.nl/documenten/ronl-ae1ce8b50bd9ff3ec7557cd1094a4e7341ddce2f/pdf', 'https://open.overheid.nl/documenten/ronl-d8ae515ec904a05a31f36122bf6911572da66fd1/pdf']\n",
      "['https://open.overheid.nl/documenten/ronl-688b6c534f7f184d4630401110165a86de06e574/pdf']\n",
      "['https://open.overheid.nl/documenten/ronl-29d645c9b408a433bff8a1086ee496ab6ef6c7de/pdf']\n",
      "['https://open.overheid.nl/documenten/ronl-60da6423e47715ad3736357d7c7ed4e9c9fcc0d9/pdf']\n",
      "['https://open.overheid.nl/documenten/ronl-10e0a1ad30a681f1dc55407ec16a30d929b374b9/pdf', 'https://open.overheid.nl/documenten/ronl-3918c3f205c45f25cbe7da06489d25a4ef63ddd3/pdf', 'https://open.overheid.nl/documenten/ronl-69217e56e5e159cf9cef273229524b5740130b40/pdf', 'https://open.overheid.nl/documenten/ronl-f4cf4cef62be39454c6bb9b15794f3086e2559a6/pdf']\n",
      "['https://open.overheid.nl/documenten/ronl-7517bf69ecc569c0e09f91f7e1196862632f6b94/pdf']\n",
      "['https://open.overheid.nl/documenten/ronl-370d41bc78f1c02e9a775804a03eed72cf8e0fd9/pdf', 'https://open.overheid.nl/documenten/ronl-84835d9442f6352389b1f0f34eae6d3e4e5dbddf/pdf']\n",
      "['https://open.overheid.nl/documenten/ronl-2a0b25ae9bbc940adb0b3fc98d4f20497bcc8d63/pdf']\n",
      "['https://open.overheid.nl/documenten/ronl-1c090c52fb177f9183bc1f261b2273be365b60f3/pdf', 'https://open.overheid.nl/documenten/ronl-b1ffb1d37c52ac6e77427cffeaf330381012b589/pdf', 'https://open.overheid.nl/documenten/ronl-e460941d9cf4298a42fcd8dfdb870f86daceaaf0/pdf']\n",
      "['https://open.overheid.nl/documenten/ronl-41c55905d39f233d2489c1ce8397e934d0c07feb/pdf']\n"
     ]
    }
   ],
   "source": [
    "for i in df.urls:\n",
    "    print(i)"
   ]
  },
  {
   "cell_type": "code",
   "execution_count": 39,
   "id": "483eea0f",
   "metadata": {},
   "outputs": [
    {
     "data": {
      "text/html": [
       "<div>\n",
       "<style scoped>\n",
       "    .dataframe tbody tr th:only-of-type {\n",
       "        vertical-align: middle;\n",
       "    }\n",
       "\n",
       "    .dataframe tbody tr th {\n",
       "        vertical-align: top;\n",
       "    }\n",
       "\n",
       "    .dataframe thead th {\n",
       "        text-align: right;\n",
       "    }\n",
       "</style>\n",
       "<table border=\"1\" class=\"dataframe\">\n",
       "  <thead>\n",
       "    <tr style=\"text-align: right;\">\n",
       "      <th></th>\n",
       "      <th>Verzoek</th>\n",
       "      <th>docdatums</th>\n",
       "      <th>urls</th>\n",
       "      <th>verdatums</th>\n",
       "      <th>verantwoordelijke</th>\n",
       "    </tr>\n",
       "  </thead>\n",
       "  <tbody>\n",
       "    <tr>\n",
       "      <th>0</th>\n",
       "      <td>Beslissing op bezwaar Wob verzoek corresponden...</td>\n",
       "      <td>2022-09-15</td>\n",
       "      <td>[https://open.overheid.nl/documenten/ronl-34e6...</td>\n",
       "      <td>[nan, nan, nan]</td>\n",
       "      <td>Ministerie van Infrastructuur en Waterstaat</td>\n",
       "    </tr>\n",
       "    <tr>\n",
       "      <th>1</th>\n",
       "      <td>Beslissing op bezwaar Wob-/Woo-verzoek over in...</td>\n",
       "      <td>2022-12-23</td>\n",
       "      <td>[https://open.overheid.nl/documenten/ronl-7a0f...</td>\n",
       "      <td>25-07-2022</td>\n",
       "      <td>Ministerie van Infrastructuur en Waterstaat</td>\n",
       "    </tr>\n",
       "    <tr>\n",
       "      <th>2</th>\n",
       "      <td>Beslissing op bezwaar Wob-/Woo-verzoek over ve...</td>\n",
       "      <td>2023-01-27</td>\n",
       "      <td>[https://open.overheid.nl/documenten/ronl-0ba9...</td>\n",
       "      <td>02-11-2021</td>\n",
       "      <td>Ministerie van Landbouw, Natuur en Voedselkwal...</td>\n",
       "    </tr>\n",
       "    <tr>\n",
       "      <th>3</th>\n",
       "      <td>Beslissing op bezwaar Wob-besluit Financiën ov...</td>\n",
       "      <td>2022-04-26</td>\n",
       "      <td>[https://open.overheid.nl/documenten/ronl-e3e1...</td>\n",
       "      <td>[nan, nan]</td>\n",
       "      <td>Ministerie van Financiën</td>\n",
       "    </tr>\n",
       "    <tr>\n",
       "      <th>4</th>\n",
       "      <td>Beslissing op bezwaar Wob-besluit over afstemm...</td>\n",
       "      <td>2023-02-09</td>\n",
       "      <td>[https://open.overheid.nl/documenten/ronl-07e2...</td>\n",
       "      <td>[nan, nan]</td>\n",
       "      <td>Ministerie van Financiën</td>\n",
       "    </tr>\n",
       "    <tr>\n",
       "      <th>...</th>\n",
       "      <td>...</td>\n",
       "      <td>...</td>\n",
       "      <td>...</td>\n",
       "      <td>...</td>\n",
       "      <td>...</td>\n",
       "    </tr>\n",
       "    <tr>\n",
       "      <th>1127</th>\n",
       "      <td>Besluit van 20 juli 2022 op het verzoek inzake...</td>\n",
       "      <td>2022-07-20</td>\n",
       "      <td>[https://open.overheid.nl/documenten/ronl-7517...</td>\n",
       "      <td>[image]</td>\n",
       "      <td>Ministerie van Justitie en Veiligheid</td>\n",
       "    </tr>\n",
       "    <tr>\n",
       "      <th>1129</th>\n",
       "      <td>Woo-verzoek Evaluatiecommissie Tuitjenhorn</td>\n",
       "      <td>2022-06-30</td>\n",
       "      <td>[https://open.overheid.nl/documenten/ronl-370d...</td>\n",
       "      <td>22-10-2021</td>\n",
       "      <td>Ministerie van Justitie en Veiligheid</td>\n",
       "    </tr>\n",
       "    <tr>\n",
       "      <th>1130</th>\n",
       "      <td>Woo-verzoek over de identiteit achter anonieme...</td>\n",
       "      <td>2022-08-25</td>\n",
       "      <td>[https://open.overheid.nl/documenten/ronl-2a0b...</td>\n",
       "      <td>02-08-2022</td>\n",
       "      <td>Ministerie van Landbouw, Natuur en Voedselkwal...</td>\n",
       "    </tr>\n",
       "    <tr>\n",
       "      <th>1131</th>\n",
       "      <td>Woo-verzoek over landbouwvrijstelling in inkom...</td>\n",
       "      <td>2023-02-27</td>\n",
       "      <td>[https://open.overheid.nl/documenten/ronl-1c09...</td>\n",
       "      <td>07-08-2022</td>\n",
       "      <td>Ministerie van Financiën</td>\n",
       "    </tr>\n",
       "    <tr>\n",
       "      <th>1132</th>\n",
       "      <td>Woo-verzoek over ongeval met trampoline</td>\n",
       "      <td>2022-08-23</td>\n",
       "      <td>[https://open.overheid.nl/documenten/ronl-41c5...</td>\n",
       "      <td>11-05-2022</td>\n",
       "      <td>Ministerie van Landbouw, Natuur en Voedselkwal...</td>\n",
       "    </tr>\n",
       "  </tbody>\n",
       "</table>\n",
       "<p>1112 rows × 5 columns</p>\n",
       "</div>"
      ],
      "text/plain": [
       "                                                Verzoek  docdatums  \\\n",
       "0     Beslissing op bezwaar Wob verzoek corresponden... 2022-09-15   \n",
       "1     Beslissing op bezwaar Wob-/Woo-verzoek over in... 2022-12-23   \n",
       "2     Beslissing op bezwaar Wob-/Woo-verzoek over ve... 2023-01-27   \n",
       "3     Beslissing op bezwaar Wob-besluit Financiën ov... 2022-04-26   \n",
       "4     Beslissing op bezwaar Wob-besluit over afstemm... 2023-02-09   \n",
       "...                                                 ...        ...   \n",
       "1127  Besluit van 20 juli 2022 op het verzoek inzake... 2022-07-20   \n",
       "1129         Woo-verzoek Evaluatiecommissie Tuitjenhorn 2022-06-30   \n",
       "1130  Woo-verzoek over de identiteit achter anonieme... 2022-08-25   \n",
       "1131  Woo-verzoek over landbouwvrijstelling in inkom... 2023-02-27   \n",
       "1132            Woo-verzoek over ongeval met trampoline 2022-08-23   \n",
       "\n",
       "                                                   urls        verdatums  \\\n",
       "0     [https://open.overheid.nl/documenten/ronl-34e6...  [nan, nan, nan]   \n",
       "1     [https://open.overheid.nl/documenten/ronl-7a0f...       25-07-2022   \n",
       "2     [https://open.overheid.nl/documenten/ronl-0ba9...       02-11-2021   \n",
       "3     [https://open.overheid.nl/documenten/ronl-e3e1...       [nan, nan]   \n",
       "4     [https://open.overheid.nl/documenten/ronl-07e2...       [nan, nan]   \n",
       "...                                                 ...              ...   \n",
       "1127  [https://open.overheid.nl/documenten/ronl-7517...          [image]   \n",
       "1129  [https://open.overheid.nl/documenten/ronl-370d...       22-10-2021   \n",
       "1130  [https://open.overheid.nl/documenten/ronl-2a0b...       02-08-2022   \n",
       "1131  [https://open.overheid.nl/documenten/ronl-1c09...       07-08-2022   \n",
       "1132  [https://open.overheid.nl/documenten/ronl-41c5...       11-05-2022   \n",
       "\n",
       "                                      verantwoordelijke  \n",
       "0           Ministerie van Infrastructuur en Waterstaat  \n",
       "1           Ministerie van Infrastructuur en Waterstaat  \n",
       "2     Ministerie van Landbouw, Natuur en Voedselkwal...  \n",
       "3                              Ministerie van Financiën  \n",
       "4                              Ministerie van Financiën  \n",
       "...                                                 ...  \n",
       "1127              Ministerie van Justitie en Veiligheid  \n",
       "1129              Ministerie van Justitie en Veiligheid  \n",
       "1130  Ministerie van Landbouw, Natuur en Voedselkwal...  \n",
       "1131                           Ministerie van Financiën  \n",
       "1132  Ministerie van Landbouw, Natuur en Voedselkwal...  \n",
       "\n",
       "[1112 rows x 5 columns]"
      ]
     },
     "metadata": {},
     "output_type": "display_data"
    }
   ],
   "source": [
    "verdatums = []\n",
    "for verzoek in df['verdatums']:\n",
    "    if type(verzoek) is not list:\n",
    "        verdatums.append(verzoek)\n",
    "    \n",
    "    else:    \n",
    "        datum = [i for i in verzoek if '-' in str(i)]\n",
    "        if any(datum) == True:\n",
    "            verdatums.append(datum[0])\n",
    "        else:\n",
    "            verdatums.append(verzoek)\n",
    "\n",
    "df['verdatums'] = verdatums\n",
    "\n",
    "display(df)"
   ]
  },
  {
   "cell_type": "code",
   "execution_count": 40,
   "id": "17dfe906",
   "metadata": {},
   "outputs": [
    {
     "data": {
      "text/html": [
       "<div>\n",
       "<style scoped>\n",
       "    .dataframe tbody tr th:only-of-type {\n",
       "        vertical-align: middle;\n",
       "    }\n",
       "\n",
       "    .dataframe tbody tr th {\n",
       "        vertical-align: top;\n",
       "    }\n",
       "\n",
       "    .dataframe thead th {\n",
       "        text-align: right;\n",
       "    }\n",
       "</style>\n",
       "<table border=\"1\" class=\"dataframe\">\n",
       "  <thead>\n",
       "    <tr style=\"text-align: right;\">\n",
       "      <th></th>\n",
       "      <th>Verzoek</th>\n",
       "      <th>docdatums</th>\n",
       "      <th>urls</th>\n",
       "      <th>verdatums</th>\n",
       "      <th>verantwoordelijke</th>\n",
       "    </tr>\n",
       "  </thead>\n",
       "  <tbody>\n",
       "    <tr>\n",
       "      <th>1</th>\n",
       "      <td>Beslissing op bezwaar Wob-/Woo-verzoek over in...</td>\n",
       "      <td>2022-12-23</td>\n",
       "      <td>[https://open.overheid.nl/documenten/ronl-7a0f...</td>\n",
       "      <td>25-07-2022</td>\n",
       "      <td>Ministerie van Infrastructuur en Waterstaat</td>\n",
       "    </tr>\n",
       "    <tr>\n",
       "      <th>2</th>\n",
       "      <td>Beslissing op bezwaar Wob-/Woo-verzoek over ve...</td>\n",
       "      <td>2023-01-27</td>\n",
       "      <td>[https://open.overheid.nl/documenten/ronl-0ba9...</td>\n",
       "      <td>02-11-2021</td>\n",
       "      <td>Ministerie van Landbouw, Natuur en Voedselkwal...</td>\n",
       "    </tr>\n",
       "    <tr>\n",
       "      <th>17</th>\n",
       "      <td>Beslissing op bezwaar Woo-besluit over vraag 4...</td>\n",
       "      <td>2022-12-01</td>\n",
       "      <td>[https://open.overheid.nl/documenten/ronl-1534...</td>\n",
       "      <td>03-12-2021</td>\n",
       "      <td>Ministerie van Financiën</td>\n",
       "    </tr>\n",
       "    <tr>\n",
       "      <th>24</th>\n",
       "      <td>Beslissing op bezwaar op besluit Wob over VOC-...</td>\n",
       "      <td>2022-10-17</td>\n",
       "      <td>[https://open.overheid.nl/documenten/ronl-201b...</td>\n",
       "      <td>10-09-2021</td>\n",
       "      <td>Ministerie van Landbouw, Natuur en Voedselkwal...</td>\n",
       "    </tr>\n",
       "    <tr>\n",
       "      <th>27</th>\n",
       "      <td>Beslissing op bezwaar tegen Woo-besluit over A...</td>\n",
       "      <td>2023-02-02</td>\n",
       "      <td>[https://open.overheid.nl/documenten/ronl-f944...</td>\n",
       "      <td>09-08-2022</td>\n",
       "      <td>Ministerie van Buitenlandse Zaken</td>\n",
       "    </tr>\n",
       "    <tr>\n",
       "      <th>...</th>\n",
       "      <td>...</td>\n",
       "      <td>...</td>\n",
       "      <td>...</td>\n",
       "      <td>...</td>\n",
       "      <td>...</td>\n",
       "    </tr>\n",
       "    <tr>\n",
       "      <th>1124</th>\n",
       "      <td>Besluit over het corrigeren van onvolkomenhede...</td>\n",
       "      <td>2023-01-05</td>\n",
       "      <td>[https://open.overheid.nl/documenten/ronl-29d6...</td>\n",
       "      <td>14-10-2022</td>\n",
       "      <td>Ministerie van Landbouw, Natuur en Voedselkwal...</td>\n",
       "    </tr>\n",
       "    <tr>\n",
       "      <th>1129</th>\n",
       "      <td>Woo-verzoek Evaluatiecommissie Tuitjenhorn</td>\n",
       "      <td>2022-06-30</td>\n",
       "      <td>[https://open.overheid.nl/documenten/ronl-370d...</td>\n",
       "      <td>22-10-2021</td>\n",
       "      <td>Ministerie van Justitie en Veiligheid</td>\n",
       "    </tr>\n",
       "    <tr>\n",
       "      <th>1130</th>\n",
       "      <td>Woo-verzoek over de identiteit achter anonieme...</td>\n",
       "      <td>2022-08-25</td>\n",
       "      <td>[https://open.overheid.nl/documenten/ronl-2a0b...</td>\n",
       "      <td>02-08-2022</td>\n",
       "      <td>Ministerie van Landbouw, Natuur en Voedselkwal...</td>\n",
       "    </tr>\n",
       "    <tr>\n",
       "      <th>1131</th>\n",
       "      <td>Woo-verzoek over landbouwvrijstelling in inkom...</td>\n",
       "      <td>2023-02-27</td>\n",
       "      <td>[https://open.overheid.nl/documenten/ronl-1c09...</td>\n",
       "      <td>07-08-2022</td>\n",
       "      <td>Ministerie van Financiën</td>\n",
       "    </tr>\n",
       "    <tr>\n",
       "      <th>1132</th>\n",
       "      <td>Woo-verzoek over ongeval met trampoline</td>\n",
       "      <td>2022-08-23</td>\n",
       "      <td>[https://open.overheid.nl/documenten/ronl-41c5...</td>\n",
       "      <td>11-05-2022</td>\n",
       "      <td>Ministerie van Landbouw, Natuur en Voedselkwal...</td>\n",
       "    </tr>\n",
       "  </tbody>\n",
       "</table>\n",
       "<p>516 rows × 5 columns</p>\n",
       "</div>"
      ],
      "text/plain": [
       "                                                Verzoek  docdatums  \\\n",
       "1     Beslissing op bezwaar Wob-/Woo-verzoek over in... 2022-12-23   \n",
       "2     Beslissing op bezwaar Wob-/Woo-verzoek over ve... 2023-01-27   \n",
       "17    Beslissing op bezwaar Woo-besluit over vraag 4... 2022-12-01   \n",
       "24    Beslissing op bezwaar op besluit Wob over VOC-... 2022-10-17   \n",
       "27    Beslissing op bezwaar tegen Woo-besluit over A... 2023-02-02   \n",
       "...                                                 ...        ...   \n",
       "1124  Besluit over het corrigeren van onvolkomenhede... 2023-01-05   \n",
       "1129         Woo-verzoek Evaluatiecommissie Tuitjenhorn 2022-06-30   \n",
       "1130  Woo-verzoek over de identiteit achter anonieme... 2022-08-25   \n",
       "1131  Woo-verzoek over landbouwvrijstelling in inkom... 2023-02-27   \n",
       "1132            Woo-verzoek over ongeval met trampoline 2022-08-23   \n",
       "\n",
       "                                                   urls   verdatums  \\\n",
       "1     [https://open.overheid.nl/documenten/ronl-7a0f...  25-07-2022   \n",
       "2     [https://open.overheid.nl/documenten/ronl-0ba9...  02-11-2021   \n",
       "17    [https://open.overheid.nl/documenten/ronl-1534...  03-12-2021   \n",
       "24    [https://open.overheid.nl/documenten/ronl-201b...  10-09-2021   \n",
       "27    [https://open.overheid.nl/documenten/ronl-f944...  09-08-2022   \n",
       "...                                                 ...         ...   \n",
       "1124  [https://open.overheid.nl/documenten/ronl-29d6...  14-10-2022   \n",
       "1129  [https://open.overheid.nl/documenten/ronl-370d...  22-10-2021   \n",
       "1130  [https://open.overheid.nl/documenten/ronl-2a0b...  02-08-2022   \n",
       "1131  [https://open.overheid.nl/documenten/ronl-1c09...  07-08-2022   \n",
       "1132  [https://open.overheid.nl/documenten/ronl-41c5...  11-05-2022   \n",
       "\n",
       "                                      verantwoordelijke  \n",
       "1           Ministerie van Infrastructuur en Waterstaat  \n",
       "2     Ministerie van Landbouw, Natuur en Voedselkwal...  \n",
       "17                             Ministerie van Financiën  \n",
       "24    Ministerie van Landbouw, Natuur en Voedselkwal...  \n",
       "27                    Ministerie van Buitenlandse Zaken  \n",
       "...                                                 ...  \n",
       "1124  Ministerie van Landbouw, Natuur en Voedselkwal...  \n",
       "1129              Ministerie van Justitie en Veiligheid  \n",
       "1130  Ministerie van Landbouw, Natuur en Voedselkwal...  \n",
       "1131                           Ministerie van Financiën  \n",
       "1132  Ministerie van Landbouw, Natuur en Voedselkwal...  \n",
       "\n",
       "[516 rows x 5 columns]"
      ]
     },
     "metadata": {},
     "output_type": "display_data"
    }
   ],
   "source": [
    "df_dates = df[df['verdatums'].apply(lambda x: isinstance(x, str))]\n",
    "display(df_dates)"
   ]
  },
  {
   "cell_type": "code",
   "execution_count": 55,
   "id": "19208335",
   "metadata": {},
   "outputs": [
    {
     "data": {
      "text/html": [
       "<div>\n",
       "<style scoped>\n",
       "    .dataframe tbody tr th:only-of-type {\n",
       "        vertical-align: middle;\n",
       "    }\n",
       "\n",
       "    .dataframe tbody tr th {\n",
       "        vertical-align: top;\n",
       "    }\n",
       "\n",
       "    .dataframe thead th {\n",
       "        text-align: right;\n",
       "    }\n",
       "</style>\n",
       "<table border=\"1\" class=\"dataframe\">\n",
       "  <thead>\n",
       "    <tr style=\"text-align: right;\">\n",
       "      <th></th>\n",
       "      <th>Verzoek</th>\n",
       "      <th>docdatums</th>\n",
       "      <th>urls</th>\n",
       "      <th>verdatums</th>\n",
       "      <th>verantwoordelijke</th>\n",
       "      <th>dagen</th>\n",
       "    </tr>\n",
       "  </thead>\n",
       "  <tbody>\n",
       "    <tr>\n",
       "      <th>1</th>\n",
       "      <td>Beslissing op bezwaar Wob-/Woo-verzoek over in...</td>\n",
       "      <td>2022-12-23</td>\n",
       "      <td>[https://open.overheid.nl/documenten/ronl-7a0f...</td>\n",
       "      <td>2022-07-25</td>\n",
       "      <td>Ministerie van Infrastructuur en Waterstaat</td>\n",
       "      <td>151</td>\n",
       "    </tr>\n",
       "    <tr>\n",
       "      <th>2</th>\n",
       "      <td>Beslissing op bezwaar Wob-/Woo-verzoek over ve...</td>\n",
       "      <td>2023-01-27</td>\n",
       "      <td>[https://open.overheid.nl/documenten/ronl-0ba9...</td>\n",
       "      <td>2021-11-02</td>\n",
       "      <td>Ministerie van Landbouw, Natuur en Voedselkwal...</td>\n",
       "      <td>451</td>\n",
       "    </tr>\n",
       "    <tr>\n",
       "      <th>17</th>\n",
       "      <td>Beslissing op bezwaar Woo-besluit over vraag 4...</td>\n",
       "      <td>2022-12-01</td>\n",
       "      <td>[https://open.overheid.nl/documenten/ronl-1534...</td>\n",
       "      <td>2021-12-03</td>\n",
       "      <td>Ministerie van Financiën</td>\n",
       "      <td>363</td>\n",
       "    </tr>\n",
       "    <tr>\n",
       "      <th>24</th>\n",
       "      <td>Beslissing op bezwaar op besluit Wob over VOC-...</td>\n",
       "      <td>2022-10-17</td>\n",
       "      <td>[https://open.overheid.nl/documenten/ronl-201b...</td>\n",
       "      <td>2021-09-10</td>\n",
       "      <td>Ministerie van Landbouw, Natuur en Voedselkwal...</td>\n",
       "      <td>402</td>\n",
       "    </tr>\n",
       "    <tr>\n",
       "      <th>27</th>\n",
       "      <td>Beslissing op bezwaar tegen Woo-besluit over A...</td>\n",
       "      <td>2023-02-02</td>\n",
       "      <td>[https://open.overheid.nl/documenten/ronl-f944...</td>\n",
       "      <td>2022-08-09</td>\n",
       "      <td>Ministerie van Buitenlandse Zaken</td>\n",
       "      <td>177</td>\n",
       "    </tr>\n",
       "    <tr>\n",
       "      <th>...</th>\n",
       "      <td>...</td>\n",
       "      <td>...</td>\n",
       "      <td>...</td>\n",
       "      <td>...</td>\n",
       "      <td>...</td>\n",
       "      <td>...</td>\n",
       "    </tr>\n",
       "    <tr>\n",
       "      <th>1124</th>\n",
       "      <td>Besluit over het corrigeren van onvolkomenhede...</td>\n",
       "      <td>2023-01-05</td>\n",
       "      <td>[https://open.overheid.nl/documenten/ronl-29d6...</td>\n",
       "      <td>2022-10-14</td>\n",
       "      <td>Ministerie van Landbouw, Natuur en Voedselkwal...</td>\n",
       "      <td>83</td>\n",
       "    </tr>\n",
       "    <tr>\n",
       "      <th>1129</th>\n",
       "      <td>Woo-verzoek Evaluatiecommissie Tuitjenhorn</td>\n",
       "      <td>2022-06-30</td>\n",
       "      <td>[https://open.overheid.nl/documenten/ronl-370d...</td>\n",
       "      <td>2021-10-22</td>\n",
       "      <td>Ministerie van Justitie en Veiligheid</td>\n",
       "      <td>251</td>\n",
       "    </tr>\n",
       "    <tr>\n",
       "      <th>1130</th>\n",
       "      <td>Woo-verzoek over de identiteit achter anonieme...</td>\n",
       "      <td>2022-08-25</td>\n",
       "      <td>[https://open.overheid.nl/documenten/ronl-2a0b...</td>\n",
       "      <td>2022-08-02</td>\n",
       "      <td>Ministerie van Landbouw, Natuur en Voedselkwal...</td>\n",
       "      <td>23</td>\n",
       "    </tr>\n",
       "    <tr>\n",
       "      <th>1131</th>\n",
       "      <td>Woo-verzoek over landbouwvrijstelling in inkom...</td>\n",
       "      <td>2023-02-27</td>\n",
       "      <td>[https://open.overheid.nl/documenten/ronl-1c09...</td>\n",
       "      <td>2022-08-07</td>\n",
       "      <td>Ministerie van Financiën</td>\n",
       "      <td>204</td>\n",
       "    </tr>\n",
       "    <tr>\n",
       "      <th>1132</th>\n",
       "      <td>Woo-verzoek over ongeval met trampoline</td>\n",
       "      <td>2022-08-23</td>\n",
       "      <td>[https://open.overheid.nl/documenten/ronl-41c5...</td>\n",
       "      <td>2022-05-11</td>\n",
       "      <td>Ministerie van Landbouw, Natuur en Voedselkwal...</td>\n",
       "      <td>104</td>\n",
       "    </tr>\n",
       "  </tbody>\n",
       "</table>\n",
       "<p>514 rows × 6 columns</p>\n",
       "</div>"
      ],
      "text/plain": [
       "                                                Verzoek  docdatums  \\\n",
       "1     Beslissing op bezwaar Wob-/Woo-verzoek over in... 2022-12-23   \n",
       "2     Beslissing op bezwaar Wob-/Woo-verzoek over ve... 2023-01-27   \n",
       "17    Beslissing op bezwaar Woo-besluit over vraag 4... 2022-12-01   \n",
       "24    Beslissing op bezwaar op besluit Wob over VOC-... 2022-10-17   \n",
       "27    Beslissing op bezwaar tegen Woo-besluit over A... 2023-02-02   \n",
       "...                                                 ...        ...   \n",
       "1124  Besluit over het corrigeren van onvolkomenhede... 2023-01-05   \n",
       "1129         Woo-verzoek Evaluatiecommissie Tuitjenhorn 2022-06-30   \n",
       "1130  Woo-verzoek over de identiteit achter anonieme... 2022-08-25   \n",
       "1131  Woo-verzoek over landbouwvrijstelling in inkom... 2023-02-27   \n",
       "1132            Woo-verzoek over ongeval met trampoline 2022-08-23   \n",
       "\n",
       "                                                   urls  verdatums  \\\n",
       "1     [https://open.overheid.nl/documenten/ronl-7a0f... 2022-07-25   \n",
       "2     [https://open.overheid.nl/documenten/ronl-0ba9... 2021-11-02   \n",
       "17    [https://open.overheid.nl/documenten/ronl-1534... 2021-12-03   \n",
       "24    [https://open.overheid.nl/documenten/ronl-201b... 2021-09-10   \n",
       "27    [https://open.overheid.nl/documenten/ronl-f944... 2022-08-09   \n",
       "...                                                 ...        ...   \n",
       "1124  [https://open.overheid.nl/documenten/ronl-29d6... 2022-10-14   \n",
       "1129  [https://open.overheid.nl/documenten/ronl-370d... 2021-10-22   \n",
       "1130  [https://open.overheid.nl/documenten/ronl-2a0b... 2022-08-02   \n",
       "1131  [https://open.overheid.nl/documenten/ronl-1c09... 2022-08-07   \n",
       "1132  [https://open.overheid.nl/documenten/ronl-41c5... 2022-05-11   \n",
       "\n",
       "                                      verantwoordelijke  dagen  \n",
       "1           Ministerie van Infrastructuur en Waterstaat    151  \n",
       "2     Ministerie van Landbouw, Natuur en Voedselkwal...    451  \n",
       "17                             Ministerie van Financiën    363  \n",
       "24    Ministerie van Landbouw, Natuur en Voedselkwal...    402  \n",
       "27                    Ministerie van Buitenlandse Zaken    177  \n",
       "...                                                 ...    ...  \n",
       "1124  Ministerie van Landbouw, Natuur en Voedselkwal...     83  \n",
       "1129              Ministerie van Justitie en Veiligheid    251  \n",
       "1130  Ministerie van Landbouw, Natuur en Voedselkwal...     23  \n",
       "1131                           Ministerie van Financiën    204  \n",
       "1132  Ministerie van Landbouw, Natuur en Voedselkwal...    104  \n",
       "\n",
       "[514 rows x 6 columns]"
      ]
     },
     "metadata": {},
     "output_type": "display_data"
    }
   ],
   "source": [
    "df_dates['docdatums'] = pd.to_datetime(df_dates['docdatums'], format = '%d-%m-%Y')\n",
    "df_dates['verdatums'] = pd.to_datetime(df_dates['verdatums'], format = '%d-%m-%Y')\n",
    "\n",
    "\n",
    "df_dates['dagen'] = (df_dates['docdatums'] - df_dates['verdatums']).dt.days\n",
    "df_dates = df_dates[df_dates['dagen'] > 0]\n",
    "\n",
    "display(df_dates)"
   ]
  },
  {
   "cell_type": "markdown",
   "id": "038bb842",
   "metadata": {},
   "source": [
    "De documentdatum van deze twee is gewoon volledig fout. En is de datum van het verzoek de documentdatum geworden terwijl het besluitdocument pas weken/maanden later uit is gekomen."
   ]
  },
  {
   "cell_type": "code",
   "execution_count": 56,
   "id": "6e725f1e",
   "metadata": {},
   "outputs": [
    {
     "data": {
      "text/plain": [
       "verantwoordelijke\n",
       "Ministerie van Algemene Zaken                                 1\n",
       "Ministerie van Binnenlandse Zaken en Koninkrijksrelaties     43\n",
       "Ministerie van Buitenlandse Zaken                            33\n",
       "Ministerie van Economische Zaken en Klimaat                  53\n",
       "Ministerie van Financiën                                     80\n",
       "Ministerie van Infrastructuur en Waterstaat                  35\n",
       "Ministerie van Justitie en Veiligheid                        24\n",
       "Ministerie van Landbouw, Natuur en Voedselkwaliteit         157\n",
       "Ministerie van Onderwijs, Cultuur en Wetenschap              29\n",
       "Ministerie van Sociale Zaken en Werkgelegenheid              32\n",
       "Ministerie van Volksgezondheid, Welzijn en Sport             27\n",
       "Name: verantwoordelijke, dtype: int64"
      ]
     },
     "metadata": {},
     "output_type": "display_data"
    }
   ],
   "source": [
    "Data1 = df_dates.copy()\n",
    "Data1 = Data1.drop_duplicates(subset = ['Verzoek'])\n",
    "Data1 = Data1.groupby(['verantwoordelijke'])['verantwoordelijke'].count()\n",
    "\n",
    "display(Data1)\n",
    "\n",
    "# Data1.to_csv(r'C:\\Users\\ramon\\Downloads\\TestPlot.csv')"
   ]
  },
  {
   "cell_type": "code",
   "execution_count": 57,
   "id": "8d6e906b",
   "metadata": {
    "scrolled": true
   },
   "outputs": [
    {
     "data": {
      "application/vnd.plotly.v1+json": {
       "config": {
        "plotlyServerURL": "https://plot.ly"
       },
       "data": [
        {
         "alignmentgroup": "True",
         "cliponaxis": false,
         "hovertemplate": "x=%{x}<br>y=%{y}<extra></extra>",
         "legendgroup": "",
         "marker": {
          "color": "#636efa",
          "pattern": {
           "shape": ""
          }
         },
         "name": "",
         "offsetgroup": "",
         "orientation": "h",
         "showlegend": false,
         "textangle": 0,
         "textfont": {
          "size": 12
         },
         "textposition": "outside",
         "texttemplate": "%{x:1s}",
         "type": "bar",
         "x": [
          1,
          43,
          33,
          53,
          80,
          35,
          24,
          157,
          29,
          32,
          27
         ],
         "xaxis": "x",
         "y": [
          "Ministerie van Algemene Zaken",
          "Ministerie van Binnenlandse Zaken en Koninkrijksrelaties",
          "Ministerie van Buitenlandse Zaken",
          "Ministerie van Economische Zaken en Klimaat",
          "Ministerie van Financiën",
          "Ministerie van Infrastructuur en Waterstaat",
          "Ministerie van Justitie en Veiligheid",
          "Ministerie van Landbouw, Natuur en Voedselkwaliteit",
          "Ministerie van Onderwijs, Cultuur en Wetenschap",
          "Ministerie van Sociale Zaken en Werkgelegenheid",
          "Ministerie van Volksgezondheid, Welzijn en Sport"
         ],
         "yaxis": "y"
        }
       ],
       "layout": {
        "barmode": "relative",
        "legend": {
         "tracegroupgap": 0
        },
        "template": {
         "data": {
          "bar": [
           {
            "error_x": {
             "color": "#2a3f5f"
            },
            "error_y": {
             "color": "#2a3f5f"
            },
            "marker": {
             "line": {
              "color": "#E5ECF6",
              "width": 0.5
             },
             "pattern": {
              "fillmode": "overlay",
              "size": 10,
              "solidity": 0.2
             }
            },
            "type": "bar"
           }
          ],
          "barpolar": [
           {
            "marker": {
             "line": {
              "color": "#E5ECF6",
              "width": 0.5
             },
             "pattern": {
              "fillmode": "overlay",
              "size": 10,
              "solidity": 0.2
             }
            },
            "type": "barpolar"
           }
          ],
          "carpet": [
           {
            "aaxis": {
             "endlinecolor": "#2a3f5f",
             "gridcolor": "white",
             "linecolor": "white",
             "minorgridcolor": "white",
             "startlinecolor": "#2a3f5f"
            },
            "baxis": {
             "endlinecolor": "#2a3f5f",
             "gridcolor": "white",
             "linecolor": "white",
             "minorgridcolor": "white",
             "startlinecolor": "#2a3f5f"
            },
            "type": "carpet"
           }
          ],
          "choropleth": [
           {
            "colorbar": {
             "outlinewidth": 0,
             "ticks": ""
            },
            "type": "choropleth"
           }
          ],
          "contour": [
           {
            "colorbar": {
             "outlinewidth": 0,
             "ticks": ""
            },
            "colorscale": [
             [
              0,
              "#0d0887"
             ],
             [
              0.1111111111111111,
              "#46039f"
             ],
             [
              0.2222222222222222,
              "#7201a8"
             ],
             [
              0.3333333333333333,
              "#9c179e"
             ],
             [
              0.4444444444444444,
              "#bd3786"
             ],
             [
              0.5555555555555556,
              "#d8576b"
             ],
             [
              0.6666666666666666,
              "#ed7953"
             ],
             [
              0.7777777777777778,
              "#fb9f3a"
             ],
             [
              0.8888888888888888,
              "#fdca26"
             ],
             [
              1,
              "#f0f921"
             ]
            ],
            "type": "contour"
           }
          ],
          "contourcarpet": [
           {
            "colorbar": {
             "outlinewidth": 0,
             "ticks": ""
            },
            "type": "contourcarpet"
           }
          ],
          "heatmap": [
           {
            "colorbar": {
             "outlinewidth": 0,
             "ticks": ""
            },
            "colorscale": [
             [
              0,
              "#0d0887"
             ],
             [
              0.1111111111111111,
              "#46039f"
             ],
             [
              0.2222222222222222,
              "#7201a8"
             ],
             [
              0.3333333333333333,
              "#9c179e"
             ],
             [
              0.4444444444444444,
              "#bd3786"
             ],
             [
              0.5555555555555556,
              "#d8576b"
             ],
             [
              0.6666666666666666,
              "#ed7953"
             ],
             [
              0.7777777777777778,
              "#fb9f3a"
             ],
             [
              0.8888888888888888,
              "#fdca26"
             ],
             [
              1,
              "#f0f921"
             ]
            ],
            "type": "heatmap"
           }
          ],
          "heatmapgl": [
           {
            "colorbar": {
             "outlinewidth": 0,
             "ticks": ""
            },
            "colorscale": [
             [
              0,
              "#0d0887"
             ],
             [
              0.1111111111111111,
              "#46039f"
             ],
             [
              0.2222222222222222,
              "#7201a8"
             ],
             [
              0.3333333333333333,
              "#9c179e"
             ],
             [
              0.4444444444444444,
              "#bd3786"
             ],
             [
              0.5555555555555556,
              "#d8576b"
             ],
             [
              0.6666666666666666,
              "#ed7953"
             ],
             [
              0.7777777777777778,
              "#fb9f3a"
             ],
             [
              0.8888888888888888,
              "#fdca26"
             ],
             [
              1,
              "#f0f921"
             ]
            ],
            "type": "heatmapgl"
           }
          ],
          "histogram": [
           {
            "marker": {
             "pattern": {
              "fillmode": "overlay",
              "size": 10,
              "solidity": 0.2
             }
            },
            "type": "histogram"
           }
          ],
          "histogram2d": [
           {
            "colorbar": {
             "outlinewidth": 0,
             "ticks": ""
            },
            "colorscale": [
             [
              0,
              "#0d0887"
             ],
             [
              0.1111111111111111,
              "#46039f"
             ],
             [
              0.2222222222222222,
              "#7201a8"
             ],
             [
              0.3333333333333333,
              "#9c179e"
             ],
             [
              0.4444444444444444,
              "#bd3786"
             ],
             [
              0.5555555555555556,
              "#d8576b"
             ],
             [
              0.6666666666666666,
              "#ed7953"
             ],
             [
              0.7777777777777778,
              "#fb9f3a"
             ],
             [
              0.8888888888888888,
              "#fdca26"
             ],
             [
              1,
              "#f0f921"
             ]
            ],
            "type": "histogram2d"
           }
          ],
          "histogram2dcontour": [
           {
            "colorbar": {
             "outlinewidth": 0,
             "ticks": ""
            },
            "colorscale": [
             [
              0,
              "#0d0887"
             ],
             [
              0.1111111111111111,
              "#46039f"
             ],
             [
              0.2222222222222222,
              "#7201a8"
             ],
             [
              0.3333333333333333,
              "#9c179e"
             ],
             [
              0.4444444444444444,
              "#bd3786"
             ],
             [
              0.5555555555555556,
              "#d8576b"
             ],
             [
              0.6666666666666666,
              "#ed7953"
             ],
             [
              0.7777777777777778,
              "#fb9f3a"
             ],
             [
              0.8888888888888888,
              "#fdca26"
             ],
             [
              1,
              "#f0f921"
             ]
            ],
            "type": "histogram2dcontour"
           }
          ],
          "mesh3d": [
           {
            "colorbar": {
             "outlinewidth": 0,
             "ticks": ""
            },
            "type": "mesh3d"
           }
          ],
          "parcoords": [
           {
            "line": {
             "colorbar": {
              "outlinewidth": 0,
              "ticks": ""
             }
            },
            "type": "parcoords"
           }
          ],
          "pie": [
           {
            "automargin": true,
            "type": "pie"
           }
          ],
          "scatter": [
           {
            "marker": {
             "colorbar": {
              "outlinewidth": 0,
              "ticks": ""
             }
            },
            "type": "scatter"
           }
          ],
          "scatter3d": [
           {
            "line": {
             "colorbar": {
              "outlinewidth": 0,
              "ticks": ""
             }
            },
            "marker": {
             "colorbar": {
              "outlinewidth": 0,
              "ticks": ""
             }
            },
            "type": "scatter3d"
           }
          ],
          "scattercarpet": [
           {
            "marker": {
             "colorbar": {
              "outlinewidth": 0,
              "ticks": ""
             }
            },
            "type": "scattercarpet"
           }
          ],
          "scattergeo": [
           {
            "marker": {
             "colorbar": {
              "outlinewidth": 0,
              "ticks": ""
             }
            },
            "type": "scattergeo"
           }
          ],
          "scattergl": [
           {
            "marker": {
             "colorbar": {
              "outlinewidth": 0,
              "ticks": ""
             }
            },
            "type": "scattergl"
           }
          ],
          "scattermapbox": [
           {
            "marker": {
             "colorbar": {
              "outlinewidth": 0,
              "ticks": ""
             }
            },
            "type": "scattermapbox"
           }
          ],
          "scatterpolar": [
           {
            "marker": {
             "colorbar": {
              "outlinewidth": 0,
              "ticks": ""
             }
            },
            "type": "scatterpolar"
           }
          ],
          "scatterpolargl": [
           {
            "marker": {
             "colorbar": {
              "outlinewidth": 0,
              "ticks": ""
             }
            },
            "type": "scatterpolargl"
           }
          ],
          "scatterternary": [
           {
            "marker": {
             "colorbar": {
              "outlinewidth": 0,
              "ticks": ""
             }
            },
            "type": "scatterternary"
           }
          ],
          "surface": [
           {
            "colorbar": {
             "outlinewidth": 0,
             "ticks": ""
            },
            "colorscale": [
             [
              0,
              "#0d0887"
             ],
             [
              0.1111111111111111,
              "#46039f"
             ],
             [
              0.2222222222222222,
              "#7201a8"
             ],
             [
              0.3333333333333333,
              "#9c179e"
             ],
             [
              0.4444444444444444,
              "#bd3786"
             ],
             [
              0.5555555555555556,
              "#d8576b"
             ],
             [
              0.6666666666666666,
              "#ed7953"
             ],
             [
              0.7777777777777778,
              "#fb9f3a"
             ],
             [
              0.8888888888888888,
              "#fdca26"
             ],
             [
              1,
              "#f0f921"
             ]
            ],
            "type": "surface"
           }
          ],
          "table": [
           {
            "cells": {
             "fill": {
              "color": "#EBF0F8"
             },
             "line": {
              "color": "white"
             }
            },
            "header": {
             "fill": {
              "color": "#C8D4E3"
             },
             "line": {
              "color": "white"
             }
            },
            "type": "table"
           }
          ]
         },
         "layout": {
          "annotationdefaults": {
           "arrowcolor": "#2a3f5f",
           "arrowhead": 0,
           "arrowwidth": 1
          },
          "autotypenumbers": "strict",
          "coloraxis": {
           "colorbar": {
            "outlinewidth": 0,
            "ticks": ""
           }
          },
          "colorscale": {
           "diverging": [
            [
             0,
             "#8e0152"
            ],
            [
             0.1,
             "#c51b7d"
            ],
            [
             0.2,
             "#de77ae"
            ],
            [
             0.3,
             "#f1b6da"
            ],
            [
             0.4,
             "#fde0ef"
            ],
            [
             0.5,
             "#f7f7f7"
            ],
            [
             0.6,
             "#e6f5d0"
            ],
            [
             0.7,
             "#b8e186"
            ],
            [
             0.8,
             "#7fbc41"
            ],
            [
             0.9,
             "#4d9221"
            ],
            [
             1,
             "#276419"
            ]
           ],
           "sequential": [
            [
             0,
             "#0d0887"
            ],
            [
             0.1111111111111111,
             "#46039f"
            ],
            [
             0.2222222222222222,
             "#7201a8"
            ],
            [
             0.3333333333333333,
             "#9c179e"
            ],
            [
             0.4444444444444444,
             "#bd3786"
            ],
            [
             0.5555555555555556,
             "#d8576b"
            ],
            [
             0.6666666666666666,
             "#ed7953"
            ],
            [
             0.7777777777777778,
             "#fb9f3a"
            ],
            [
             0.8888888888888888,
             "#fdca26"
            ],
            [
             1,
             "#f0f921"
            ]
           ],
           "sequentialminus": [
            [
             0,
             "#0d0887"
            ],
            [
             0.1111111111111111,
             "#46039f"
            ],
            [
             0.2222222222222222,
             "#7201a8"
            ],
            [
             0.3333333333333333,
             "#9c179e"
            ],
            [
             0.4444444444444444,
             "#bd3786"
            ],
            [
             0.5555555555555556,
             "#d8576b"
            ],
            [
             0.6666666666666666,
             "#ed7953"
            ],
            [
             0.7777777777777778,
             "#fb9f3a"
            ],
            [
             0.8888888888888888,
             "#fdca26"
            ],
            [
             1,
             "#f0f921"
            ]
           ]
          },
          "colorway": [
           "#636efa",
           "#EF553B",
           "#00cc96",
           "#ab63fa",
           "#FFA15A",
           "#19d3f3",
           "#FF6692",
           "#B6E880",
           "#FF97FF",
           "#FECB52"
          ],
          "font": {
           "color": "#2a3f5f"
          },
          "geo": {
           "bgcolor": "white",
           "lakecolor": "white",
           "landcolor": "#E5ECF6",
           "showlakes": true,
           "showland": true,
           "subunitcolor": "white"
          },
          "hoverlabel": {
           "align": "left"
          },
          "hovermode": "closest",
          "mapbox": {
           "style": "light"
          },
          "paper_bgcolor": "white",
          "plot_bgcolor": "#E5ECF6",
          "polar": {
           "angularaxis": {
            "gridcolor": "white",
            "linecolor": "white",
            "ticks": ""
           },
           "bgcolor": "#E5ECF6",
           "radialaxis": {
            "gridcolor": "white",
            "linecolor": "white",
            "ticks": ""
           }
          },
          "scene": {
           "xaxis": {
            "backgroundcolor": "#E5ECF6",
            "gridcolor": "white",
            "gridwidth": 2,
            "linecolor": "white",
            "showbackground": true,
            "ticks": "",
            "zerolinecolor": "white"
           },
           "yaxis": {
            "backgroundcolor": "#E5ECF6",
            "gridcolor": "white",
            "gridwidth": 2,
            "linecolor": "white",
            "showbackground": true,
            "ticks": "",
            "zerolinecolor": "white"
           },
           "zaxis": {
            "backgroundcolor": "#E5ECF6",
            "gridcolor": "white",
            "gridwidth": 2,
            "linecolor": "white",
            "showbackground": true,
            "ticks": "",
            "zerolinecolor": "white"
           }
          },
          "shapedefaults": {
           "line": {
            "color": "#2a3f5f"
           }
          },
          "ternary": {
           "aaxis": {
            "gridcolor": "white",
            "linecolor": "white",
            "ticks": ""
           },
           "baxis": {
            "gridcolor": "white",
            "linecolor": "white",
            "ticks": ""
           },
           "bgcolor": "#E5ECF6",
           "caxis": {
            "gridcolor": "white",
            "linecolor": "white",
            "ticks": ""
           }
          },
          "title": {
           "x": 0.05
          },
          "xaxis": {
           "automargin": true,
           "gridcolor": "white",
           "linecolor": "white",
           "ticks": "",
           "title": {
            "standoff": 15
           },
           "zerolinecolor": "white",
           "zerolinewidth": 2
          },
          "yaxis": {
           "automargin": true,
           "gridcolor": "white",
           "linecolor": "white",
           "ticks": "",
           "title": {
            "standoff": 15
           },
           "zerolinecolor": "white",
           "zerolinewidth": 2
          }
         }
        },
        "title": {
         "text": "Aantal WOO/WOB verzoeken per Ministerie"
        },
        "xaxis": {
         "anchor": "y",
         "domain": [
          0,
          1
         ],
         "title": {
          "text": "x"
         }
        },
        "yaxis": {
         "anchor": "x",
         "domain": [
          0,
          1
         ],
         "title": {
          "text": "y"
         }
        }
       }
      },
      "text/html": [
       "<div>                            <div id=\"2edd002a-6d59-48eb-b685-537459c724a7\" class=\"plotly-graph-div\" style=\"height:525px; width:100%;\"></div>            <script type=\"text/javascript\">                require([\"plotly\"], function(Plotly) {                    window.PLOTLYENV=window.PLOTLYENV || {};                                    if (document.getElementById(\"2edd002a-6d59-48eb-b685-537459c724a7\")) {                    Plotly.newPlot(                        \"2edd002a-6d59-48eb-b685-537459c724a7\",                        [{\"alignmentgroup\":\"True\",\"hovertemplate\":\"x=%{x}<br>y=%{y}<extra></extra>\",\"legendgroup\":\"\",\"marker\":{\"color\":\"#636efa\",\"pattern\":{\"shape\":\"\"}},\"name\":\"\",\"offsetgroup\":\"\",\"orientation\":\"h\",\"showlegend\":false,\"textposition\":\"outside\",\"texttemplate\":\"%{x:1s}\",\"x\":[1,43,33,53,80,35,24,157,29,32,27],\"xaxis\":\"x\",\"y\":[\"Ministerie van Algemene Zaken\",\"Ministerie van Binnenlandse Zaken en Koninkrijksrelaties\",\"Ministerie van Buitenlandse Zaken\",\"Ministerie van Economische Zaken en Klimaat\",\"Ministerie van Financi\\u00ebn\",\"Ministerie van Infrastructuur en Waterstaat\",\"Ministerie van Justitie en Veiligheid\",\"Ministerie van Landbouw, Natuur en Voedselkwaliteit\",\"Ministerie van Onderwijs, Cultuur en Wetenschap\",\"Ministerie van Sociale Zaken en Werkgelegenheid\",\"Ministerie van Volksgezondheid, Welzijn en Sport\"],\"yaxis\":\"y\",\"type\":\"bar\",\"textfont\":{\"size\":12},\"cliponaxis\":false,\"textangle\":0}],                        {\"template\":{\"data\":{\"bar\":[{\"error_x\":{\"color\":\"#2a3f5f\"},\"error_y\":{\"color\":\"#2a3f5f\"},\"marker\":{\"line\":{\"color\":\"#E5ECF6\",\"width\":0.5},\"pattern\":{\"fillmode\":\"overlay\",\"size\":10,\"solidity\":0.2}},\"type\":\"bar\"}],\"barpolar\":[{\"marker\":{\"line\":{\"color\":\"#E5ECF6\",\"width\":0.5},\"pattern\":{\"fillmode\":\"overlay\",\"size\":10,\"solidity\":0.2}},\"type\":\"barpolar\"}],\"carpet\":[{\"aaxis\":{\"endlinecolor\":\"#2a3f5f\",\"gridcolor\":\"white\",\"linecolor\":\"white\",\"minorgridcolor\":\"white\",\"startlinecolor\":\"#2a3f5f\"},\"baxis\":{\"endlinecolor\":\"#2a3f5f\",\"gridcolor\":\"white\",\"linecolor\":\"white\",\"minorgridcolor\":\"white\",\"startlinecolor\":\"#2a3f5f\"},\"type\":\"carpet\"}],\"choropleth\":[{\"colorbar\":{\"outlinewidth\":0,\"ticks\":\"\"},\"type\":\"choropleth\"}],\"contour\":[{\"colorbar\":{\"outlinewidth\":0,\"ticks\":\"\"},\"colorscale\":[[0.0,\"#0d0887\"],[0.1111111111111111,\"#46039f\"],[0.2222222222222222,\"#7201a8\"],[0.3333333333333333,\"#9c179e\"],[0.4444444444444444,\"#bd3786\"],[0.5555555555555556,\"#d8576b\"],[0.6666666666666666,\"#ed7953\"],[0.7777777777777778,\"#fb9f3a\"],[0.8888888888888888,\"#fdca26\"],[1.0,\"#f0f921\"]],\"type\":\"contour\"}],\"contourcarpet\":[{\"colorbar\":{\"outlinewidth\":0,\"ticks\":\"\"},\"type\":\"contourcarpet\"}],\"heatmap\":[{\"colorbar\":{\"outlinewidth\":0,\"ticks\":\"\"},\"colorscale\":[[0.0,\"#0d0887\"],[0.1111111111111111,\"#46039f\"],[0.2222222222222222,\"#7201a8\"],[0.3333333333333333,\"#9c179e\"],[0.4444444444444444,\"#bd3786\"],[0.5555555555555556,\"#d8576b\"],[0.6666666666666666,\"#ed7953\"],[0.7777777777777778,\"#fb9f3a\"],[0.8888888888888888,\"#fdca26\"],[1.0,\"#f0f921\"]],\"type\":\"heatmap\"}],\"heatmapgl\":[{\"colorbar\":{\"outlinewidth\":0,\"ticks\":\"\"},\"colorscale\":[[0.0,\"#0d0887\"],[0.1111111111111111,\"#46039f\"],[0.2222222222222222,\"#7201a8\"],[0.3333333333333333,\"#9c179e\"],[0.4444444444444444,\"#bd3786\"],[0.5555555555555556,\"#d8576b\"],[0.6666666666666666,\"#ed7953\"],[0.7777777777777778,\"#fb9f3a\"],[0.8888888888888888,\"#fdca26\"],[1.0,\"#f0f921\"]],\"type\":\"heatmapgl\"}],\"histogram\":[{\"marker\":{\"pattern\":{\"fillmode\":\"overlay\",\"size\":10,\"solidity\":0.2}},\"type\":\"histogram\"}],\"histogram2d\":[{\"colorbar\":{\"outlinewidth\":0,\"ticks\":\"\"},\"colorscale\":[[0.0,\"#0d0887\"],[0.1111111111111111,\"#46039f\"],[0.2222222222222222,\"#7201a8\"],[0.3333333333333333,\"#9c179e\"],[0.4444444444444444,\"#bd3786\"],[0.5555555555555556,\"#d8576b\"],[0.6666666666666666,\"#ed7953\"],[0.7777777777777778,\"#fb9f3a\"],[0.8888888888888888,\"#fdca26\"],[1.0,\"#f0f921\"]],\"type\":\"histogram2d\"}],\"histogram2dcontour\":[{\"colorbar\":{\"outlinewidth\":0,\"ticks\":\"\"},\"colorscale\":[[0.0,\"#0d0887\"],[0.1111111111111111,\"#46039f\"],[0.2222222222222222,\"#7201a8\"],[0.3333333333333333,\"#9c179e\"],[0.4444444444444444,\"#bd3786\"],[0.5555555555555556,\"#d8576b\"],[0.6666666666666666,\"#ed7953\"],[0.7777777777777778,\"#fb9f3a\"],[0.8888888888888888,\"#fdca26\"],[1.0,\"#f0f921\"]],\"type\":\"histogram2dcontour\"}],\"mesh3d\":[{\"colorbar\":{\"outlinewidth\":0,\"ticks\":\"\"},\"type\":\"mesh3d\"}],\"parcoords\":[{\"line\":{\"colorbar\":{\"outlinewidth\":0,\"ticks\":\"\"}},\"type\":\"parcoords\"}],\"pie\":[{\"automargin\":true,\"type\":\"pie\"}],\"scatter\":[{\"marker\":{\"colorbar\":{\"outlinewidth\":0,\"ticks\":\"\"}},\"type\":\"scatter\"}],\"scatter3d\":[{\"line\":{\"colorbar\":{\"outlinewidth\":0,\"ticks\":\"\"}},\"marker\":{\"colorbar\":{\"outlinewidth\":0,\"ticks\":\"\"}},\"type\":\"scatter3d\"}],\"scattercarpet\":[{\"marker\":{\"colorbar\":{\"outlinewidth\":0,\"ticks\":\"\"}},\"type\":\"scattercarpet\"}],\"scattergeo\":[{\"marker\":{\"colorbar\":{\"outlinewidth\":0,\"ticks\":\"\"}},\"type\":\"scattergeo\"}],\"scattergl\":[{\"marker\":{\"colorbar\":{\"outlinewidth\":0,\"ticks\":\"\"}},\"type\":\"scattergl\"}],\"scattermapbox\":[{\"marker\":{\"colorbar\":{\"outlinewidth\":0,\"ticks\":\"\"}},\"type\":\"scattermapbox\"}],\"scatterpolar\":[{\"marker\":{\"colorbar\":{\"outlinewidth\":0,\"ticks\":\"\"}},\"type\":\"scatterpolar\"}],\"scatterpolargl\":[{\"marker\":{\"colorbar\":{\"outlinewidth\":0,\"ticks\":\"\"}},\"type\":\"scatterpolargl\"}],\"scatterternary\":[{\"marker\":{\"colorbar\":{\"outlinewidth\":0,\"ticks\":\"\"}},\"type\":\"scatterternary\"}],\"surface\":[{\"colorbar\":{\"outlinewidth\":0,\"ticks\":\"\"},\"colorscale\":[[0.0,\"#0d0887\"],[0.1111111111111111,\"#46039f\"],[0.2222222222222222,\"#7201a8\"],[0.3333333333333333,\"#9c179e\"],[0.4444444444444444,\"#bd3786\"],[0.5555555555555556,\"#d8576b\"],[0.6666666666666666,\"#ed7953\"],[0.7777777777777778,\"#fb9f3a\"],[0.8888888888888888,\"#fdca26\"],[1.0,\"#f0f921\"]],\"type\":\"surface\"}],\"table\":[{\"cells\":{\"fill\":{\"color\":\"#EBF0F8\"},\"line\":{\"color\":\"white\"}},\"header\":{\"fill\":{\"color\":\"#C8D4E3\"},\"line\":{\"color\":\"white\"}},\"type\":\"table\"}]},\"layout\":{\"annotationdefaults\":{\"arrowcolor\":\"#2a3f5f\",\"arrowhead\":0,\"arrowwidth\":1},\"autotypenumbers\":\"strict\",\"coloraxis\":{\"colorbar\":{\"outlinewidth\":0,\"ticks\":\"\"}},\"colorscale\":{\"diverging\":[[0,\"#8e0152\"],[0.1,\"#c51b7d\"],[0.2,\"#de77ae\"],[0.3,\"#f1b6da\"],[0.4,\"#fde0ef\"],[0.5,\"#f7f7f7\"],[0.6,\"#e6f5d0\"],[0.7,\"#b8e186\"],[0.8,\"#7fbc41\"],[0.9,\"#4d9221\"],[1,\"#276419\"]],\"sequential\":[[0.0,\"#0d0887\"],[0.1111111111111111,\"#46039f\"],[0.2222222222222222,\"#7201a8\"],[0.3333333333333333,\"#9c179e\"],[0.4444444444444444,\"#bd3786\"],[0.5555555555555556,\"#d8576b\"],[0.6666666666666666,\"#ed7953\"],[0.7777777777777778,\"#fb9f3a\"],[0.8888888888888888,\"#fdca26\"],[1.0,\"#f0f921\"]],\"sequentialminus\":[[0.0,\"#0d0887\"],[0.1111111111111111,\"#46039f\"],[0.2222222222222222,\"#7201a8\"],[0.3333333333333333,\"#9c179e\"],[0.4444444444444444,\"#bd3786\"],[0.5555555555555556,\"#d8576b\"],[0.6666666666666666,\"#ed7953\"],[0.7777777777777778,\"#fb9f3a\"],[0.8888888888888888,\"#fdca26\"],[1.0,\"#f0f921\"]]},\"colorway\":[\"#636efa\",\"#EF553B\",\"#00cc96\",\"#ab63fa\",\"#FFA15A\",\"#19d3f3\",\"#FF6692\",\"#B6E880\",\"#FF97FF\",\"#FECB52\"],\"font\":{\"color\":\"#2a3f5f\"},\"geo\":{\"bgcolor\":\"white\",\"lakecolor\":\"white\",\"landcolor\":\"#E5ECF6\",\"showlakes\":true,\"showland\":true,\"subunitcolor\":\"white\"},\"hoverlabel\":{\"align\":\"left\"},\"hovermode\":\"closest\",\"mapbox\":{\"style\":\"light\"},\"paper_bgcolor\":\"white\",\"plot_bgcolor\":\"#E5ECF6\",\"polar\":{\"angularaxis\":{\"gridcolor\":\"white\",\"linecolor\":\"white\",\"ticks\":\"\"},\"bgcolor\":\"#E5ECF6\",\"radialaxis\":{\"gridcolor\":\"white\",\"linecolor\":\"white\",\"ticks\":\"\"}},\"scene\":{\"xaxis\":{\"backgroundcolor\":\"#E5ECF6\",\"gridcolor\":\"white\",\"gridwidth\":2,\"linecolor\":\"white\",\"showbackground\":true,\"ticks\":\"\",\"zerolinecolor\":\"white\"},\"yaxis\":{\"backgroundcolor\":\"#E5ECF6\",\"gridcolor\":\"white\",\"gridwidth\":2,\"linecolor\":\"white\",\"showbackground\":true,\"ticks\":\"\",\"zerolinecolor\":\"white\"},\"zaxis\":{\"backgroundcolor\":\"#E5ECF6\",\"gridcolor\":\"white\",\"gridwidth\":2,\"linecolor\":\"white\",\"showbackground\":true,\"ticks\":\"\",\"zerolinecolor\":\"white\"}},\"shapedefaults\":{\"line\":{\"color\":\"#2a3f5f\"}},\"ternary\":{\"aaxis\":{\"gridcolor\":\"white\",\"linecolor\":\"white\",\"ticks\":\"\"},\"baxis\":{\"gridcolor\":\"white\",\"linecolor\":\"white\",\"ticks\":\"\"},\"bgcolor\":\"#E5ECF6\",\"caxis\":{\"gridcolor\":\"white\",\"linecolor\":\"white\",\"ticks\":\"\"}},\"title\":{\"x\":0.05},\"xaxis\":{\"automargin\":true,\"gridcolor\":\"white\",\"linecolor\":\"white\",\"ticks\":\"\",\"title\":{\"standoff\":15},\"zerolinecolor\":\"white\",\"zerolinewidth\":2},\"yaxis\":{\"automargin\":true,\"gridcolor\":\"white\",\"linecolor\":\"white\",\"ticks\":\"\",\"title\":{\"standoff\":15},\"zerolinecolor\":\"white\",\"zerolinewidth\":2}}},\"xaxis\":{\"anchor\":\"y\",\"domain\":[0.0,1.0],\"title\":{\"text\":\"x\"}},\"yaxis\":{\"anchor\":\"x\",\"domain\":[0.0,1.0],\"title\":{\"text\":\"y\"}},\"legend\":{\"tracegroupgap\":0},\"title\":{\"text\":\"Aantal WOO/WOB verzoeken per Ministerie\"},\"barmode\":\"relative\"},                        {\"responsive\": true}                    ).then(function(){\n",
       "                            \n",
       "var gd = document.getElementById('2edd002a-6d59-48eb-b685-537459c724a7');\n",
       "var x = new MutationObserver(function (mutations, observer) {{\n",
       "        var display = window.getComputedStyle(gd).display;\n",
       "        if (!display || display === 'none') {{\n",
       "            console.log([gd, 'removed!']);\n",
       "            Plotly.purge(gd);\n",
       "            observer.disconnect();\n",
       "        }}\n",
       "}});\n",
       "\n",
       "// Listen for the removal of the full notebook cells\n",
       "var notebookContainer = gd.closest('#notebook-container');\n",
       "if (notebookContainer) {{\n",
       "    x.observe(notebookContainer, {childList: true});\n",
       "}}\n",
       "\n",
       "// Listen for the clearing of the current output cell\n",
       "var outputEl = gd.closest('.output');\n",
       "if (outputEl) {{\n",
       "    x.observe(outputEl, {childList: true});\n",
       "}}\n",
       "\n",
       "                        })                };                });            </script>        </div>"
      ]
     },
     "metadata": {},
     "output_type": "display_data"
    }
   ],
   "source": [
    "import plotly.express as px\n",
    "\n",
    "# simpel plotje die al met de huidige data te maken is\n",
    "\n",
    "fig = px.bar(y=Data1.index, x=Data1.values, text_auto='1s',\n",
    "            title=\"Aantal WOO/WOB verzoeken per Ministerie\")\n",
    "fig.update_traces(textfont_size=12, textangle=0, textposition=\"outside\", cliponaxis=False)\n",
    "fig.show()"
   ]
  },
  {
   "cell_type": "code",
   "execution_count": 62,
   "id": "1202a6ec",
   "metadata": {
    "scrolled": true
   },
   "outputs": [
    {
     "data": {
      "application/vnd.plotly.v1+json": {
       "config": {
        "plotlyServerURL": "https://plot.ly"
       },
       "data": [
        {
         "alignmentgroup": "True",
         "hovertemplate": "x=%{x}<br>y=%{y}<extra></extra>",
         "legendgroup": "",
         "marker": {
          "color": "#636efa",
          "pattern": {
           "shape": ""
          }
         },
         "name": "",
         "offsetgroup": "",
         "orientation": "v",
         "showlegend": false,
         "textposition": "auto",
         "type": "bar",
         "x": [
          "Ministerie van Algemene Zaken",
          "Ministerie van Binnenlandse Zaken en Koninkrijksrelaties",
          "Ministerie van Buitenlandse Zaken",
          "Ministerie van Economische Zaken en Klimaat",
          "Ministerie van Financiën",
          "Ministerie van Infrastructuur en Waterstaat",
          "Ministerie van Justitie en Veiligheid",
          "Ministerie van Landbouw, Natuur en Voedselkwaliteit",
          "Ministerie van Onderwijs, Cultuur en Wetenschap",
          "Ministerie van Sociale Zaken en Werkgelegenheid",
          "Ministerie van Volksgezondheid, Welzijn en Sport"
         ],
         "xaxis": "x",
         "y": [
          48,
          146.95348837209303,
          104.21212121212122,
          192.67924528301887,
          256.2125,
          233.74285714285713,
          160.70833333333334,
          224.21019108280254,
          69.44827586206897,
          172.625,
          138.4814814814815
         ],
         "yaxis": "y"
        }
       ],
       "layout": {
        "barmode": "relative",
        "legend": {
         "tracegroupgap": 0
        },
        "margin": {
         "t": 60
        },
        "template": {
         "data": {
          "bar": [
           {
            "error_x": {
             "color": "#2a3f5f"
            },
            "error_y": {
             "color": "#2a3f5f"
            },
            "marker": {
             "line": {
              "color": "#E5ECF6",
              "width": 0.5
             },
             "pattern": {
              "fillmode": "overlay",
              "size": 10,
              "solidity": 0.2
             }
            },
            "type": "bar"
           }
          ],
          "barpolar": [
           {
            "marker": {
             "line": {
              "color": "#E5ECF6",
              "width": 0.5
             },
             "pattern": {
              "fillmode": "overlay",
              "size": 10,
              "solidity": 0.2
             }
            },
            "type": "barpolar"
           }
          ],
          "carpet": [
           {
            "aaxis": {
             "endlinecolor": "#2a3f5f",
             "gridcolor": "white",
             "linecolor": "white",
             "minorgridcolor": "white",
             "startlinecolor": "#2a3f5f"
            },
            "baxis": {
             "endlinecolor": "#2a3f5f",
             "gridcolor": "white",
             "linecolor": "white",
             "minorgridcolor": "white",
             "startlinecolor": "#2a3f5f"
            },
            "type": "carpet"
           }
          ],
          "choropleth": [
           {
            "colorbar": {
             "outlinewidth": 0,
             "ticks": ""
            },
            "type": "choropleth"
           }
          ],
          "contour": [
           {
            "colorbar": {
             "outlinewidth": 0,
             "ticks": ""
            },
            "colorscale": [
             [
              0,
              "#0d0887"
             ],
             [
              0.1111111111111111,
              "#46039f"
             ],
             [
              0.2222222222222222,
              "#7201a8"
             ],
             [
              0.3333333333333333,
              "#9c179e"
             ],
             [
              0.4444444444444444,
              "#bd3786"
             ],
             [
              0.5555555555555556,
              "#d8576b"
             ],
             [
              0.6666666666666666,
              "#ed7953"
             ],
             [
              0.7777777777777778,
              "#fb9f3a"
             ],
             [
              0.8888888888888888,
              "#fdca26"
             ],
             [
              1,
              "#f0f921"
             ]
            ],
            "type": "contour"
           }
          ],
          "contourcarpet": [
           {
            "colorbar": {
             "outlinewidth": 0,
             "ticks": ""
            },
            "type": "contourcarpet"
           }
          ],
          "heatmap": [
           {
            "colorbar": {
             "outlinewidth": 0,
             "ticks": ""
            },
            "colorscale": [
             [
              0,
              "#0d0887"
             ],
             [
              0.1111111111111111,
              "#46039f"
             ],
             [
              0.2222222222222222,
              "#7201a8"
             ],
             [
              0.3333333333333333,
              "#9c179e"
             ],
             [
              0.4444444444444444,
              "#bd3786"
             ],
             [
              0.5555555555555556,
              "#d8576b"
             ],
             [
              0.6666666666666666,
              "#ed7953"
             ],
             [
              0.7777777777777778,
              "#fb9f3a"
             ],
             [
              0.8888888888888888,
              "#fdca26"
             ],
             [
              1,
              "#f0f921"
             ]
            ],
            "type": "heatmap"
           }
          ],
          "heatmapgl": [
           {
            "colorbar": {
             "outlinewidth": 0,
             "ticks": ""
            },
            "colorscale": [
             [
              0,
              "#0d0887"
             ],
             [
              0.1111111111111111,
              "#46039f"
             ],
             [
              0.2222222222222222,
              "#7201a8"
             ],
             [
              0.3333333333333333,
              "#9c179e"
             ],
             [
              0.4444444444444444,
              "#bd3786"
             ],
             [
              0.5555555555555556,
              "#d8576b"
             ],
             [
              0.6666666666666666,
              "#ed7953"
             ],
             [
              0.7777777777777778,
              "#fb9f3a"
             ],
             [
              0.8888888888888888,
              "#fdca26"
             ],
             [
              1,
              "#f0f921"
             ]
            ],
            "type": "heatmapgl"
           }
          ],
          "histogram": [
           {
            "marker": {
             "pattern": {
              "fillmode": "overlay",
              "size": 10,
              "solidity": 0.2
             }
            },
            "type": "histogram"
           }
          ],
          "histogram2d": [
           {
            "colorbar": {
             "outlinewidth": 0,
             "ticks": ""
            },
            "colorscale": [
             [
              0,
              "#0d0887"
             ],
             [
              0.1111111111111111,
              "#46039f"
             ],
             [
              0.2222222222222222,
              "#7201a8"
             ],
             [
              0.3333333333333333,
              "#9c179e"
             ],
             [
              0.4444444444444444,
              "#bd3786"
             ],
             [
              0.5555555555555556,
              "#d8576b"
             ],
             [
              0.6666666666666666,
              "#ed7953"
             ],
             [
              0.7777777777777778,
              "#fb9f3a"
             ],
             [
              0.8888888888888888,
              "#fdca26"
             ],
             [
              1,
              "#f0f921"
             ]
            ],
            "type": "histogram2d"
           }
          ],
          "histogram2dcontour": [
           {
            "colorbar": {
             "outlinewidth": 0,
             "ticks": ""
            },
            "colorscale": [
             [
              0,
              "#0d0887"
             ],
             [
              0.1111111111111111,
              "#46039f"
             ],
             [
              0.2222222222222222,
              "#7201a8"
             ],
             [
              0.3333333333333333,
              "#9c179e"
             ],
             [
              0.4444444444444444,
              "#bd3786"
             ],
             [
              0.5555555555555556,
              "#d8576b"
             ],
             [
              0.6666666666666666,
              "#ed7953"
             ],
             [
              0.7777777777777778,
              "#fb9f3a"
             ],
             [
              0.8888888888888888,
              "#fdca26"
             ],
             [
              1,
              "#f0f921"
             ]
            ],
            "type": "histogram2dcontour"
           }
          ],
          "mesh3d": [
           {
            "colorbar": {
             "outlinewidth": 0,
             "ticks": ""
            },
            "type": "mesh3d"
           }
          ],
          "parcoords": [
           {
            "line": {
             "colorbar": {
              "outlinewidth": 0,
              "ticks": ""
             }
            },
            "type": "parcoords"
           }
          ],
          "pie": [
           {
            "automargin": true,
            "type": "pie"
           }
          ],
          "scatter": [
           {
            "marker": {
             "colorbar": {
              "outlinewidth": 0,
              "ticks": ""
             }
            },
            "type": "scatter"
           }
          ],
          "scatter3d": [
           {
            "line": {
             "colorbar": {
              "outlinewidth": 0,
              "ticks": ""
             }
            },
            "marker": {
             "colorbar": {
              "outlinewidth": 0,
              "ticks": ""
             }
            },
            "type": "scatter3d"
           }
          ],
          "scattercarpet": [
           {
            "marker": {
             "colorbar": {
              "outlinewidth": 0,
              "ticks": ""
             }
            },
            "type": "scattercarpet"
           }
          ],
          "scattergeo": [
           {
            "marker": {
             "colorbar": {
              "outlinewidth": 0,
              "ticks": ""
             }
            },
            "type": "scattergeo"
           }
          ],
          "scattergl": [
           {
            "marker": {
             "colorbar": {
              "outlinewidth": 0,
              "ticks": ""
             }
            },
            "type": "scattergl"
           }
          ],
          "scattermapbox": [
           {
            "marker": {
             "colorbar": {
              "outlinewidth": 0,
              "ticks": ""
             }
            },
            "type": "scattermapbox"
           }
          ],
          "scatterpolar": [
           {
            "marker": {
             "colorbar": {
              "outlinewidth": 0,
              "ticks": ""
             }
            },
            "type": "scatterpolar"
           }
          ],
          "scatterpolargl": [
           {
            "marker": {
             "colorbar": {
              "outlinewidth": 0,
              "ticks": ""
             }
            },
            "type": "scatterpolargl"
           }
          ],
          "scatterternary": [
           {
            "marker": {
             "colorbar": {
              "outlinewidth": 0,
              "ticks": ""
             }
            },
            "type": "scatterternary"
           }
          ],
          "surface": [
           {
            "colorbar": {
             "outlinewidth": 0,
             "ticks": ""
            },
            "colorscale": [
             [
              0,
              "#0d0887"
             ],
             [
              0.1111111111111111,
              "#46039f"
             ],
             [
              0.2222222222222222,
              "#7201a8"
             ],
             [
              0.3333333333333333,
              "#9c179e"
             ],
             [
              0.4444444444444444,
              "#bd3786"
             ],
             [
              0.5555555555555556,
              "#d8576b"
             ],
             [
              0.6666666666666666,
              "#ed7953"
             ],
             [
              0.7777777777777778,
              "#fb9f3a"
             ],
             [
              0.8888888888888888,
              "#fdca26"
             ],
             [
              1,
              "#f0f921"
             ]
            ],
            "type": "surface"
           }
          ],
          "table": [
           {
            "cells": {
             "fill": {
              "color": "#EBF0F8"
             },
             "line": {
              "color": "white"
             }
            },
            "header": {
             "fill": {
              "color": "#C8D4E3"
             },
             "line": {
              "color": "white"
             }
            },
            "type": "table"
           }
          ]
         },
         "layout": {
          "annotationdefaults": {
           "arrowcolor": "#2a3f5f",
           "arrowhead": 0,
           "arrowwidth": 1
          },
          "autotypenumbers": "strict",
          "coloraxis": {
           "colorbar": {
            "outlinewidth": 0,
            "ticks": ""
           }
          },
          "colorscale": {
           "diverging": [
            [
             0,
             "#8e0152"
            ],
            [
             0.1,
             "#c51b7d"
            ],
            [
             0.2,
             "#de77ae"
            ],
            [
             0.3,
             "#f1b6da"
            ],
            [
             0.4,
             "#fde0ef"
            ],
            [
             0.5,
             "#f7f7f7"
            ],
            [
             0.6,
             "#e6f5d0"
            ],
            [
             0.7,
             "#b8e186"
            ],
            [
             0.8,
             "#7fbc41"
            ],
            [
             0.9,
             "#4d9221"
            ],
            [
             1,
             "#276419"
            ]
           ],
           "sequential": [
            [
             0,
             "#0d0887"
            ],
            [
             0.1111111111111111,
             "#46039f"
            ],
            [
             0.2222222222222222,
             "#7201a8"
            ],
            [
             0.3333333333333333,
             "#9c179e"
            ],
            [
             0.4444444444444444,
             "#bd3786"
            ],
            [
             0.5555555555555556,
             "#d8576b"
            ],
            [
             0.6666666666666666,
             "#ed7953"
            ],
            [
             0.7777777777777778,
             "#fb9f3a"
            ],
            [
             0.8888888888888888,
             "#fdca26"
            ],
            [
             1,
             "#f0f921"
            ]
           ],
           "sequentialminus": [
            [
             0,
             "#0d0887"
            ],
            [
             0.1111111111111111,
             "#46039f"
            ],
            [
             0.2222222222222222,
             "#7201a8"
            ],
            [
             0.3333333333333333,
             "#9c179e"
            ],
            [
             0.4444444444444444,
             "#bd3786"
            ],
            [
             0.5555555555555556,
             "#d8576b"
            ],
            [
             0.6666666666666666,
             "#ed7953"
            ],
            [
             0.7777777777777778,
             "#fb9f3a"
            ],
            [
             0.8888888888888888,
             "#fdca26"
            ],
            [
             1,
             "#f0f921"
            ]
           ]
          },
          "colorway": [
           "#636efa",
           "#EF553B",
           "#00cc96",
           "#ab63fa",
           "#FFA15A",
           "#19d3f3",
           "#FF6692",
           "#B6E880",
           "#FF97FF",
           "#FECB52"
          ],
          "font": {
           "color": "#2a3f5f"
          },
          "geo": {
           "bgcolor": "white",
           "lakecolor": "white",
           "landcolor": "#E5ECF6",
           "showlakes": true,
           "showland": true,
           "subunitcolor": "white"
          },
          "hoverlabel": {
           "align": "left"
          },
          "hovermode": "closest",
          "mapbox": {
           "style": "light"
          },
          "paper_bgcolor": "white",
          "plot_bgcolor": "#E5ECF6",
          "polar": {
           "angularaxis": {
            "gridcolor": "white",
            "linecolor": "white",
            "ticks": ""
           },
           "bgcolor": "#E5ECF6",
           "radialaxis": {
            "gridcolor": "white",
            "linecolor": "white",
            "ticks": ""
           }
          },
          "scene": {
           "xaxis": {
            "backgroundcolor": "#E5ECF6",
            "gridcolor": "white",
            "gridwidth": 2,
            "linecolor": "white",
            "showbackground": true,
            "ticks": "",
            "zerolinecolor": "white"
           },
           "yaxis": {
            "backgroundcolor": "#E5ECF6",
            "gridcolor": "white",
            "gridwidth": 2,
            "linecolor": "white",
            "showbackground": true,
            "ticks": "",
            "zerolinecolor": "white"
           },
           "zaxis": {
            "backgroundcolor": "#E5ECF6",
            "gridcolor": "white",
            "gridwidth": 2,
            "linecolor": "white",
            "showbackground": true,
            "ticks": "",
            "zerolinecolor": "white"
           }
          },
          "shapedefaults": {
           "line": {
            "color": "#2a3f5f"
           }
          },
          "ternary": {
           "aaxis": {
            "gridcolor": "white",
            "linecolor": "white",
            "ticks": ""
           },
           "baxis": {
            "gridcolor": "white",
            "linecolor": "white",
            "ticks": ""
           },
           "bgcolor": "#E5ECF6",
           "caxis": {
            "gridcolor": "white",
            "linecolor": "white",
            "ticks": ""
           }
          },
          "title": {
           "x": 0.05
          },
          "xaxis": {
           "automargin": true,
           "gridcolor": "white",
           "linecolor": "white",
           "ticks": "",
           "title": {
            "standoff": 15
           },
           "zerolinecolor": "white",
           "zerolinewidth": 2
          },
          "yaxis": {
           "automargin": true,
           "gridcolor": "white",
           "linecolor": "white",
           "ticks": "",
           "title": {
            "standoff": 15
           },
           "zerolinecolor": "white",
           "zerolinewidth": 2
          }
         }
        },
        "xaxis": {
         "anchor": "y",
         "domain": [
          0,
          1
         ],
         "title": {
          "text": "x"
         }
        },
        "yaxis": {
         "anchor": "x",
         "domain": [
          0,
          1
         ],
         "title": {
          "text": "y"
         }
        }
       }
      },
      "text/html": [
       "<div>                            <div id=\"cdbc1a5c-ad15-4750-9220-b9595111a703\" class=\"plotly-graph-div\" style=\"height:525px; width:100%;\"></div>            <script type=\"text/javascript\">                require([\"plotly\"], function(Plotly) {                    window.PLOTLYENV=window.PLOTLYENV || {};                                    if (document.getElementById(\"cdbc1a5c-ad15-4750-9220-b9595111a703\")) {                    Plotly.newPlot(                        \"cdbc1a5c-ad15-4750-9220-b9595111a703\",                        [{\"alignmentgroup\":\"True\",\"hovertemplate\":\"x=%{x}<br>y=%{y}<extra></extra>\",\"legendgroup\":\"\",\"marker\":{\"color\":\"#636efa\",\"pattern\":{\"shape\":\"\"}},\"name\":\"\",\"offsetgroup\":\"\",\"orientation\":\"v\",\"showlegend\":false,\"textposition\":\"auto\",\"x\":[\"Ministerie van Algemene Zaken\",\"Ministerie van Binnenlandse Zaken en Koninkrijksrelaties\",\"Ministerie van Buitenlandse Zaken\",\"Ministerie van Economische Zaken en Klimaat\",\"Ministerie van Financi\\u00ebn\",\"Ministerie van Infrastructuur en Waterstaat\",\"Ministerie van Justitie en Veiligheid\",\"Ministerie van Landbouw, Natuur en Voedselkwaliteit\",\"Ministerie van Onderwijs, Cultuur en Wetenschap\",\"Ministerie van Sociale Zaken en Werkgelegenheid\",\"Ministerie van Volksgezondheid, Welzijn en Sport\"],\"xaxis\":\"x\",\"y\":[48.0,146.95348837209303,104.21212121212122,192.67924528301887,256.2125,233.74285714285713,160.70833333333334,224.21019108280254,69.44827586206897,172.625,138.4814814814815],\"yaxis\":\"y\",\"type\":\"bar\"}],                        {\"template\":{\"data\":{\"bar\":[{\"error_x\":{\"color\":\"#2a3f5f\"},\"error_y\":{\"color\":\"#2a3f5f\"},\"marker\":{\"line\":{\"color\":\"#E5ECF6\",\"width\":0.5},\"pattern\":{\"fillmode\":\"overlay\",\"size\":10,\"solidity\":0.2}},\"type\":\"bar\"}],\"barpolar\":[{\"marker\":{\"line\":{\"color\":\"#E5ECF6\",\"width\":0.5},\"pattern\":{\"fillmode\":\"overlay\",\"size\":10,\"solidity\":0.2}},\"type\":\"barpolar\"}],\"carpet\":[{\"aaxis\":{\"endlinecolor\":\"#2a3f5f\",\"gridcolor\":\"white\",\"linecolor\":\"white\",\"minorgridcolor\":\"white\",\"startlinecolor\":\"#2a3f5f\"},\"baxis\":{\"endlinecolor\":\"#2a3f5f\",\"gridcolor\":\"white\",\"linecolor\":\"white\",\"minorgridcolor\":\"white\",\"startlinecolor\":\"#2a3f5f\"},\"type\":\"carpet\"}],\"choropleth\":[{\"colorbar\":{\"outlinewidth\":0,\"ticks\":\"\"},\"type\":\"choropleth\"}],\"contour\":[{\"colorbar\":{\"outlinewidth\":0,\"ticks\":\"\"},\"colorscale\":[[0.0,\"#0d0887\"],[0.1111111111111111,\"#46039f\"],[0.2222222222222222,\"#7201a8\"],[0.3333333333333333,\"#9c179e\"],[0.4444444444444444,\"#bd3786\"],[0.5555555555555556,\"#d8576b\"],[0.6666666666666666,\"#ed7953\"],[0.7777777777777778,\"#fb9f3a\"],[0.8888888888888888,\"#fdca26\"],[1.0,\"#f0f921\"]],\"type\":\"contour\"}],\"contourcarpet\":[{\"colorbar\":{\"outlinewidth\":0,\"ticks\":\"\"},\"type\":\"contourcarpet\"}],\"heatmap\":[{\"colorbar\":{\"outlinewidth\":0,\"ticks\":\"\"},\"colorscale\":[[0.0,\"#0d0887\"],[0.1111111111111111,\"#46039f\"],[0.2222222222222222,\"#7201a8\"],[0.3333333333333333,\"#9c179e\"],[0.4444444444444444,\"#bd3786\"],[0.5555555555555556,\"#d8576b\"],[0.6666666666666666,\"#ed7953\"],[0.7777777777777778,\"#fb9f3a\"],[0.8888888888888888,\"#fdca26\"],[1.0,\"#f0f921\"]],\"type\":\"heatmap\"}],\"heatmapgl\":[{\"colorbar\":{\"outlinewidth\":0,\"ticks\":\"\"},\"colorscale\":[[0.0,\"#0d0887\"],[0.1111111111111111,\"#46039f\"],[0.2222222222222222,\"#7201a8\"],[0.3333333333333333,\"#9c179e\"],[0.4444444444444444,\"#bd3786\"],[0.5555555555555556,\"#d8576b\"],[0.6666666666666666,\"#ed7953\"],[0.7777777777777778,\"#fb9f3a\"],[0.8888888888888888,\"#fdca26\"],[1.0,\"#f0f921\"]],\"type\":\"heatmapgl\"}],\"histogram\":[{\"marker\":{\"pattern\":{\"fillmode\":\"overlay\",\"size\":10,\"solidity\":0.2}},\"type\":\"histogram\"}],\"histogram2d\":[{\"colorbar\":{\"outlinewidth\":0,\"ticks\":\"\"},\"colorscale\":[[0.0,\"#0d0887\"],[0.1111111111111111,\"#46039f\"],[0.2222222222222222,\"#7201a8\"],[0.3333333333333333,\"#9c179e\"],[0.4444444444444444,\"#bd3786\"],[0.5555555555555556,\"#d8576b\"],[0.6666666666666666,\"#ed7953\"],[0.7777777777777778,\"#fb9f3a\"],[0.8888888888888888,\"#fdca26\"],[1.0,\"#f0f921\"]],\"type\":\"histogram2d\"}],\"histogram2dcontour\":[{\"colorbar\":{\"outlinewidth\":0,\"ticks\":\"\"},\"colorscale\":[[0.0,\"#0d0887\"],[0.1111111111111111,\"#46039f\"],[0.2222222222222222,\"#7201a8\"],[0.3333333333333333,\"#9c179e\"],[0.4444444444444444,\"#bd3786\"],[0.5555555555555556,\"#d8576b\"],[0.6666666666666666,\"#ed7953\"],[0.7777777777777778,\"#fb9f3a\"],[0.8888888888888888,\"#fdca26\"],[1.0,\"#f0f921\"]],\"type\":\"histogram2dcontour\"}],\"mesh3d\":[{\"colorbar\":{\"outlinewidth\":0,\"ticks\":\"\"},\"type\":\"mesh3d\"}],\"parcoords\":[{\"line\":{\"colorbar\":{\"outlinewidth\":0,\"ticks\":\"\"}},\"type\":\"parcoords\"}],\"pie\":[{\"automargin\":true,\"type\":\"pie\"}],\"scatter\":[{\"marker\":{\"colorbar\":{\"outlinewidth\":0,\"ticks\":\"\"}},\"type\":\"scatter\"}],\"scatter3d\":[{\"line\":{\"colorbar\":{\"outlinewidth\":0,\"ticks\":\"\"}},\"marker\":{\"colorbar\":{\"outlinewidth\":0,\"ticks\":\"\"}},\"type\":\"scatter3d\"}],\"scattercarpet\":[{\"marker\":{\"colorbar\":{\"outlinewidth\":0,\"ticks\":\"\"}},\"type\":\"scattercarpet\"}],\"scattergeo\":[{\"marker\":{\"colorbar\":{\"outlinewidth\":0,\"ticks\":\"\"}},\"type\":\"scattergeo\"}],\"scattergl\":[{\"marker\":{\"colorbar\":{\"outlinewidth\":0,\"ticks\":\"\"}},\"type\":\"scattergl\"}],\"scattermapbox\":[{\"marker\":{\"colorbar\":{\"outlinewidth\":0,\"ticks\":\"\"}},\"type\":\"scattermapbox\"}],\"scatterpolar\":[{\"marker\":{\"colorbar\":{\"outlinewidth\":0,\"ticks\":\"\"}},\"type\":\"scatterpolar\"}],\"scatterpolargl\":[{\"marker\":{\"colorbar\":{\"outlinewidth\":0,\"ticks\":\"\"}},\"type\":\"scatterpolargl\"}],\"scatterternary\":[{\"marker\":{\"colorbar\":{\"outlinewidth\":0,\"ticks\":\"\"}},\"type\":\"scatterternary\"}],\"surface\":[{\"colorbar\":{\"outlinewidth\":0,\"ticks\":\"\"},\"colorscale\":[[0.0,\"#0d0887\"],[0.1111111111111111,\"#46039f\"],[0.2222222222222222,\"#7201a8\"],[0.3333333333333333,\"#9c179e\"],[0.4444444444444444,\"#bd3786\"],[0.5555555555555556,\"#d8576b\"],[0.6666666666666666,\"#ed7953\"],[0.7777777777777778,\"#fb9f3a\"],[0.8888888888888888,\"#fdca26\"],[1.0,\"#f0f921\"]],\"type\":\"surface\"}],\"table\":[{\"cells\":{\"fill\":{\"color\":\"#EBF0F8\"},\"line\":{\"color\":\"white\"}},\"header\":{\"fill\":{\"color\":\"#C8D4E3\"},\"line\":{\"color\":\"white\"}},\"type\":\"table\"}]},\"layout\":{\"annotationdefaults\":{\"arrowcolor\":\"#2a3f5f\",\"arrowhead\":0,\"arrowwidth\":1},\"autotypenumbers\":\"strict\",\"coloraxis\":{\"colorbar\":{\"outlinewidth\":0,\"ticks\":\"\"}},\"colorscale\":{\"diverging\":[[0,\"#8e0152\"],[0.1,\"#c51b7d\"],[0.2,\"#de77ae\"],[0.3,\"#f1b6da\"],[0.4,\"#fde0ef\"],[0.5,\"#f7f7f7\"],[0.6,\"#e6f5d0\"],[0.7,\"#b8e186\"],[0.8,\"#7fbc41\"],[0.9,\"#4d9221\"],[1,\"#276419\"]],\"sequential\":[[0.0,\"#0d0887\"],[0.1111111111111111,\"#46039f\"],[0.2222222222222222,\"#7201a8\"],[0.3333333333333333,\"#9c179e\"],[0.4444444444444444,\"#bd3786\"],[0.5555555555555556,\"#d8576b\"],[0.6666666666666666,\"#ed7953\"],[0.7777777777777778,\"#fb9f3a\"],[0.8888888888888888,\"#fdca26\"],[1.0,\"#f0f921\"]],\"sequentialminus\":[[0.0,\"#0d0887\"],[0.1111111111111111,\"#46039f\"],[0.2222222222222222,\"#7201a8\"],[0.3333333333333333,\"#9c179e\"],[0.4444444444444444,\"#bd3786\"],[0.5555555555555556,\"#d8576b\"],[0.6666666666666666,\"#ed7953\"],[0.7777777777777778,\"#fb9f3a\"],[0.8888888888888888,\"#fdca26\"],[1.0,\"#f0f921\"]]},\"colorway\":[\"#636efa\",\"#EF553B\",\"#00cc96\",\"#ab63fa\",\"#FFA15A\",\"#19d3f3\",\"#FF6692\",\"#B6E880\",\"#FF97FF\",\"#FECB52\"],\"font\":{\"color\":\"#2a3f5f\"},\"geo\":{\"bgcolor\":\"white\",\"lakecolor\":\"white\",\"landcolor\":\"#E5ECF6\",\"showlakes\":true,\"showland\":true,\"subunitcolor\":\"white\"},\"hoverlabel\":{\"align\":\"left\"},\"hovermode\":\"closest\",\"mapbox\":{\"style\":\"light\"},\"paper_bgcolor\":\"white\",\"plot_bgcolor\":\"#E5ECF6\",\"polar\":{\"angularaxis\":{\"gridcolor\":\"white\",\"linecolor\":\"white\",\"ticks\":\"\"},\"bgcolor\":\"#E5ECF6\",\"radialaxis\":{\"gridcolor\":\"white\",\"linecolor\":\"white\",\"ticks\":\"\"}},\"scene\":{\"xaxis\":{\"backgroundcolor\":\"#E5ECF6\",\"gridcolor\":\"white\",\"gridwidth\":2,\"linecolor\":\"white\",\"showbackground\":true,\"ticks\":\"\",\"zerolinecolor\":\"white\"},\"yaxis\":{\"backgroundcolor\":\"#E5ECF6\",\"gridcolor\":\"white\",\"gridwidth\":2,\"linecolor\":\"white\",\"showbackground\":true,\"ticks\":\"\",\"zerolinecolor\":\"white\"},\"zaxis\":{\"backgroundcolor\":\"#E5ECF6\",\"gridcolor\":\"white\",\"gridwidth\":2,\"linecolor\":\"white\",\"showbackground\":true,\"ticks\":\"\",\"zerolinecolor\":\"white\"}},\"shapedefaults\":{\"line\":{\"color\":\"#2a3f5f\"}},\"ternary\":{\"aaxis\":{\"gridcolor\":\"white\",\"linecolor\":\"white\",\"ticks\":\"\"},\"baxis\":{\"gridcolor\":\"white\",\"linecolor\":\"white\",\"ticks\":\"\"},\"bgcolor\":\"#E5ECF6\",\"caxis\":{\"gridcolor\":\"white\",\"linecolor\":\"white\",\"ticks\":\"\"}},\"title\":{\"x\":0.05},\"xaxis\":{\"automargin\":true,\"gridcolor\":\"white\",\"linecolor\":\"white\",\"ticks\":\"\",\"title\":{\"standoff\":15},\"zerolinecolor\":\"white\",\"zerolinewidth\":2},\"yaxis\":{\"automargin\":true,\"gridcolor\":\"white\",\"linecolor\":\"white\",\"ticks\":\"\",\"title\":{\"standoff\":15},\"zerolinecolor\":\"white\",\"zerolinewidth\":2}}},\"xaxis\":{\"anchor\":\"y\",\"domain\":[0.0,1.0],\"title\":{\"text\":\"x\"}},\"yaxis\":{\"anchor\":\"x\",\"domain\":[0.0,1.0],\"title\":{\"text\":\"y\"}},\"legend\":{\"tracegroupgap\":0},\"margin\":{\"t\":60},\"barmode\":\"relative\"},                        {\"responsive\": true}                    ).then(function(){\n",
       "                            \n",
       "var gd = document.getElementById('cdbc1a5c-ad15-4750-9220-b9595111a703');\n",
       "var x = new MutationObserver(function (mutations, observer) {{\n",
       "        var display = window.getComputedStyle(gd).display;\n",
       "        if (!display || display === 'none') {{\n",
       "            console.log([gd, 'removed!']);\n",
       "            Plotly.purge(gd);\n",
       "            observer.disconnect();\n",
       "        }}\n",
       "}});\n",
       "\n",
       "// Listen for the removal of the full notebook cells\n",
       "var notebookContainer = gd.closest('#notebook-container');\n",
       "if (notebookContainer) {{\n",
       "    x.observe(notebookContainer, {childList: true});\n",
       "}}\n",
       "\n",
       "// Listen for the clearing of the current output cell\n",
       "var outputEl = gd.closest('.output');\n",
       "if (outputEl) {{\n",
       "    x.observe(outputEl, {childList: true});\n",
       "}}\n",
       "\n",
       "                        })                };                });            </script>        </div>"
      ]
     },
     "metadata": {},
     "output_type": "display_data"
    }
   ],
   "source": [
    "df2 = df_dates.copy()\n",
    "df2 = df2.groupby(['verantwoordelijke'])['dagen'].mean()\n",
    "\n",
    "fig = px.bar(x=df2.index, y=df2.values)\n",
    "fig.show()"
   ]
  },
  {
   "cell_type": "code",
   "execution_count": null,
   "id": "78d8aa9b",
   "metadata": {},
   "outputs": [],
   "source": []
  },
  {
   "cell_type": "code",
   "execution_count": null,
   "id": "c325b27a",
   "metadata": {},
   "outputs": [],
   "source": []
  },
  {
   "cell_type": "code",
   "execution_count": null,
   "id": "cdd552a4",
   "metadata": {},
   "outputs": [],
   "source": []
  }
 ],
 "metadata": {
  "kernelspec": {
   "display_name": "Python 3 (ipykernel)",
   "language": "python",
   "name": "python3"
  },
  "language_info": {
   "codemirror_mode": {
    "name": "ipython",
    "version": 3
   },
   "file_extension": ".py",
   "mimetype": "text/x-python",
   "name": "python",
   "nbconvert_exporter": "python",
   "pygments_lexer": "ipython3",
   "version": "3.9.10"
  }
 },
 "nbformat": 4,
 "nbformat_minor": 5
}
