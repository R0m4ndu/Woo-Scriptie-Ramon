{
 "cells": [
  {
   "cell_type": "code",
   "execution_count": 1,
   "id": "4373f615",
   "metadata": {},
   "outputs": [],
   "source": [
    "from selenium import webdriver\n",
    "from selenium.webdriver.chrome.service import Service\n",
    "from webdriver_manager.chrome import ChromeDriverManager\n",
    "from selenium.webdriver.common.by import By\n",
    "import time\n",
    "from selenium.webdriver.support.ui import WebDriverWait\n",
    "from selenium.webdriver.support import expected_conditions as EC\n",
    "import pandas as pd\n",
    "import numpy as np\n",
    "import regex as re\n",
    "from bs4 import BeautifulSoup\n",
    "import requests\n",
    "import urllib\n",
    "from urllib.request import urlopen\n",
    "from selenium.common.exceptions import NoSuchElementException"
   ]
  },
  {
   "cell_type": "code",
   "execution_count": 2,
   "id": "da370059",
   "metadata": {},
   "outputs": [],
   "source": [
    "def check_if_exists(Class):\n",
    "    x = driver.find_elements(By.CLASS_NAME, Class)\n",
    "    if x == []:\n",
    "        return False\n",
    "    else:\n",
    "        return True"
   ]
  },
  {
   "cell_type": "markdown",
   "id": "723f59d8",
   "metadata": {},
   "source": [
    "verzoek_data lijkt niet meer te werken maar dat maakt niks meer uit want hij staat werkend in VSCode"
   ]
  },
  {
   "cell_type": "code",
   "execution_count": 96,
   "id": "2e04c735",
   "metadata": {},
   "outputs": [
    {
     "ename": "MaxRetryError",
     "evalue": "HTTPConnectionPool(host='localhost', port=50228): Max retries exceeded with url: /session/75c092ddc7f8e0be81bd2e84520f5fa2/elements (Caused by NewConnectionError('<urllib3.connection.HTTPConnection object at 0x000001FB8E871A60>: Failed to establish a new connection: [WinError 10061] Kan geen verbinding maken omdat de doelcomputer de verbinding actief heeft geweigerd'))",
     "output_type": "error",
     "traceback": [
      "\u001b[1;31m---------------------------------------------------------------------------\u001b[0m",
      "\u001b[1;31mConnectionRefusedError\u001b[0m                    Traceback (most recent call last)",
      "File \u001b[1;32mc:\\users\\ramon\\appdata\\local\\programs\\python\\python39\\lib\\site-packages\\urllib3\\connection.py:174\u001b[0m, in \u001b[0;36mHTTPConnection._new_conn\u001b[1;34m(self)\u001b[0m\n\u001b[0;32m    173\u001b[0m \u001b[38;5;28;01mtry\u001b[39;00m:\n\u001b[1;32m--> 174\u001b[0m     conn \u001b[38;5;241m=\u001b[39m connection\u001b[38;5;241m.\u001b[39mcreate_connection(\n\u001b[0;32m    175\u001b[0m         (\u001b[38;5;28mself\u001b[39m\u001b[38;5;241m.\u001b[39m_dns_host, \u001b[38;5;28mself\u001b[39m\u001b[38;5;241m.\u001b[39mport), \u001b[38;5;28mself\u001b[39m\u001b[38;5;241m.\u001b[39mtimeout, \u001b[38;5;241m*\u001b[39m\u001b[38;5;241m*\u001b[39mextra_kw\n\u001b[0;32m    176\u001b[0m     )\n\u001b[0;32m    178\u001b[0m \u001b[38;5;28;01mexcept\u001b[39;00m SocketTimeout:\n",
      "File \u001b[1;32mc:\\users\\ramon\\appdata\\local\\programs\\python\\python39\\lib\\site-packages\\urllib3\\util\\connection.py:95\u001b[0m, in \u001b[0;36mcreate_connection\u001b[1;34m(address, timeout, source_address, socket_options)\u001b[0m\n\u001b[0;32m     94\u001b[0m \u001b[38;5;28;01mif\u001b[39;00m err \u001b[38;5;129;01mis\u001b[39;00m \u001b[38;5;129;01mnot\u001b[39;00m \u001b[38;5;28;01mNone\u001b[39;00m:\n\u001b[1;32m---> 95\u001b[0m     \u001b[38;5;28;01mraise\u001b[39;00m err\n\u001b[0;32m     97\u001b[0m \u001b[38;5;28;01mraise\u001b[39;00m socket\u001b[38;5;241m.\u001b[39merror(\u001b[38;5;124m\"\u001b[39m\u001b[38;5;124mgetaddrinfo returns an empty list\u001b[39m\u001b[38;5;124m\"\u001b[39m)\n",
      "File \u001b[1;32mc:\\users\\ramon\\appdata\\local\\programs\\python\\python39\\lib\\site-packages\\urllib3\\util\\connection.py:85\u001b[0m, in \u001b[0;36mcreate_connection\u001b[1;34m(address, timeout, source_address, socket_options)\u001b[0m\n\u001b[0;32m     84\u001b[0m     sock\u001b[38;5;241m.\u001b[39mbind(source_address)\n\u001b[1;32m---> 85\u001b[0m \u001b[43msock\u001b[49m\u001b[38;5;241;43m.\u001b[39;49m\u001b[43mconnect\u001b[49m\u001b[43m(\u001b[49m\u001b[43msa\u001b[49m\u001b[43m)\u001b[49m\n\u001b[0;32m     86\u001b[0m \u001b[38;5;28;01mreturn\u001b[39;00m sock\n",
      "\u001b[1;31mConnectionRefusedError\u001b[0m: [WinError 10061] Kan geen verbinding maken omdat de doelcomputer de verbinding actief heeft geweigerd",
      "\nDuring handling of the above exception, another exception occurred:\n",
      "\u001b[1;31mNewConnectionError\u001b[0m                        Traceback (most recent call last)",
      "File \u001b[1;32mc:\\users\\ramon\\appdata\\local\\programs\\python\\python39\\lib\\site-packages\\urllib3\\connectionpool.py:703\u001b[0m, in \u001b[0;36mHTTPConnectionPool.urlopen\u001b[1;34m(self, method, url, body, headers, retries, redirect, assert_same_host, timeout, pool_timeout, release_conn, chunked, body_pos, **response_kw)\u001b[0m\n\u001b[0;32m    702\u001b[0m \u001b[38;5;66;03m# Make the request on the httplib connection object.\u001b[39;00m\n\u001b[1;32m--> 703\u001b[0m httplib_response \u001b[38;5;241m=\u001b[39m \u001b[38;5;28;43mself\u001b[39;49m\u001b[38;5;241;43m.\u001b[39;49m\u001b[43m_make_request\u001b[49m\u001b[43m(\u001b[49m\n\u001b[0;32m    704\u001b[0m \u001b[43m    \u001b[49m\u001b[43mconn\u001b[49m\u001b[43m,\u001b[49m\n\u001b[0;32m    705\u001b[0m \u001b[43m    \u001b[49m\u001b[43mmethod\u001b[49m\u001b[43m,\u001b[49m\n\u001b[0;32m    706\u001b[0m \u001b[43m    \u001b[49m\u001b[43murl\u001b[49m\u001b[43m,\u001b[49m\n\u001b[0;32m    707\u001b[0m \u001b[43m    \u001b[49m\u001b[43mtimeout\u001b[49m\u001b[38;5;241;43m=\u001b[39;49m\u001b[43mtimeout_obj\u001b[49m\u001b[43m,\u001b[49m\n\u001b[0;32m    708\u001b[0m \u001b[43m    \u001b[49m\u001b[43mbody\u001b[49m\u001b[38;5;241;43m=\u001b[39;49m\u001b[43mbody\u001b[49m\u001b[43m,\u001b[49m\n\u001b[0;32m    709\u001b[0m \u001b[43m    \u001b[49m\u001b[43mheaders\u001b[49m\u001b[38;5;241;43m=\u001b[39;49m\u001b[43mheaders\u001b[49m\u001b[43m,\u001b[49m\n\u001b[0;32m    710\u001b[0m \u001b[43m    \u001b[49m\u001b[43mchunked\u001b[49m\u001b[38;5;241;43m=\u001b[39;49m\u001b[43mchunked\u001b[49m\u001b[43m,\u001b[49m\n\u001b[0;32m    711\u001b[0m \u001b[43m\u001b[49m\u001b[43m)\u001b[49m\n\u001b[0;32m    713\u001b[0m \u001b[38;5;66;03m# If we're going to release the connection in ``finally:``, then\u001b[39;00m\n\u001b[0;32m    714\u001b[0m \u001b[38;5;66;03m# the response doesn't need to know about the connection. Otherwise\u001b[39;00m\n\u001b[0;32m    715\u001b[0m \u001b[38;5;66;03m# it will also try to release it and we'll have a double-release\u001b[39;00m\n\u001b[0;32m    716\u001b[0m \u001b[38;5;66;03m# mess.\u001b[39;00m\n",
      "File \u001b[1;32mc:\\users\\ramon\\appdata\\local\\programs\\python\\python39\\lib\\site-packages\\urllib3\\connectionpool.py:398\u001b[0m, in \u001b[0;36mHTTPConnectionPool._make_request\u001b[1;34m(self, conn, method, url, timeout, chunked, **httplib_request_kw)\u001b[0m\n\u001b[0;32m    397\u001b[0m     \u001b[38;5;28;01melse\u001b[39;00m:\n\u001b[1;32m--> 398\u001b[0m         conn\u001b[38;5;241m.\u001b[39mrequest(method, url, \u001b[38;5;241m*\u001b[39m\u001b[38;5;241m*\u001b[39mhttplib_request_kw)\n\u001b[0;32m    400\u001b[0m \u001b[38;5;66;03m# We are swallowing BrokenPipeError (errno.EPIPE) since the server is\u001b[39;00m\n\u001b[0;32m    401\u001b[0m \u001b[38;5;66;03m# legitimately able to close the connection after sending a valid response.\u001b[39;00m\n\u001b[0;32m    402\u001b[0m \u001b[38;5;66;03m# With this behaviour, the received response is still readable.\u001b[39;00m\n",
      "File \u001b[1;32mc:\\users\\ramon\\appdata\\local\\programs\\python\\python39\\lib\\site-packages\\urllib3\\connection.py:239\u001b[0m, in \u001b[0;36mHTTPConnection.request\u001b[1;34m(self, method, url, body, headers)\u001b[0m\n\u001b[0;32m    238\u001b[0m     headers[\u001b[38;5;124m\"\u001b[39m\u001b[38;5;124mUser-Agent\u001b[39m\u001b[38;5;124m\"\u001b[39m] \u001b[38;5;241m=\u001b[39m _get_default_user_agent()\n\u001b[1;32m--> 239\u001b[0m \u001b[38;5;28;43msuper\u001b[39;49m\u001b[43m(\u001b[49m\u001b[43mHTTPConnection\u001b[49m\u001b[43m,\u001b[49m\u001b[43m \u001b[49m\u001b[38;5;28;43mself\u001b[39;49m\u001b[43m)\u001b[49m\u001b[38;5;241;43m.\u001b[39;49m\u001b[43mrequest\u001b[49m\u001b[43m(\u001b[49m\u001b[43mmethod\u001b[49m\u001b[43m,\u001b[49m\u001b[43m \u001b[49m\u001b[43murl\u001b[49m\u001b[43m,\u001b[49m\u001b[43m \u001b[49m\u001b[43mbody\u001b[49m\u001b[38;5;241;43m=\u001b[39;49m\u001b[43mbody\u001b[49m\u001b[43m,\u001b[49m\u001b[43m \u001b[49m\u001b[43mheaders\u001b[49m\u001b[38;5;241;43m=\u001b[39;49m\u001b[43mheaders\u001b[49m\u001b[43m)\u001b[49m\n",
      "File \u001b[1;32mc:\\users\\ramon\\appdata\\local\\programs\\python\\python39\\lib\\http\\client.py:1285\u001b[0m, in \u001b[0;36mHTTPConnection.request\u001b[1;34m(self, method, url, body, headers, encode_chunked)\u001b[0m\n\u001b[0;32m   1284\u001b[0m \u001b[38;5;124;03m\"\"\"Send a complete request to the server.\"\"\"\u001b[39;00m\n\u001b[1;32m-> 1285\u001b[0m \u001b[38;5;28;43mself\u001b[39;49m\u001b[38;5;241;43m.\u001b[39;49m\u001b[43m_send_request\u001b[49m\u001b[43m(\u001b[49m\u001b[43mmethod\u001b[49m\u001b[43m,\u001b[49m\u001b[43m \u001b[49m\u001b[43murl\u001b[49m\u001b[43m,\u001b[49m\u001b[43m \u001b[49m\u001b[43mbody\u001b[49m\u001b[43m,\u001b[49m\u001b[43m \u001b[49m\u001b[43mheaders\u001b[49m\u001b[43m,\u001b[49m\u001b[43m \u001b[49m\u001b[43mencode_chunked\u001b[49m\u001b[43m)\u001b[49m\n",
      "File \u001b[1;32mc:\\users\\ramon\\appdata\\local\\programs\\python\\python39\\lib\\http\\client.py:1331\u001b[0m, in \u001b[0;36mHTTPConnection._send_request\u001b[1;34m(self, method, url, body, headers, encode_chunked)\u001b[0m\n\u001b[0;32m   1330\u001b[0m     body \u001b[38;5;241m=\u001b[39m _encode(body, \u001b[38;5;124m'\u001b[39m\u001b[38;5;124mbody\u001b[39m\u001b[38;5;124m'\u001b[39m)\n\u001b[1;32m-> 1331\u001b[0m \u001b[38;5;28;43mself\u001b[39;49m\u001b[38;5;241;43m.\u001b[39;49m\u001b[43mendheaders\u001b[49m\u001b[43m(\u001b[49m\u001b[43mbody\u001b[49m\u001b[43m,\u001b[49m\u001b[43m \u001b[49m\u001b[43mencode_chunked\u001b[49m\u001b[38;5;241;43m=\u001b[39;49m\u001b[43mencode_chunked\u001b[49m\u001b[43m)\u001b[49m\n",
      "File \u001b[1;32mc:\\users\\ramon\\appdata\\local\\programs\\python\\python39\\lib\\http\\client.py:1280\u001b[0m, in \u001b[0;36mHTTPConnection.endheaders\u001b[1;34m(self, message_body, encode_chunked)\u001b[0m\n\u001b[0;32m   1279\u001b[0m     \u001b[38;5;28;01mraise\u001b[39;00m CannotSendHeader()\n\u001b[1;32m-> 1280\u001b[0m \u001b[38;5;28;43mself\u001b[39;49m\u001b[38;5;241;43m.\u001b[39;49m\u001b[43m_send_output\u001b[49m\u001b[43m(\u001b[49m\u001b[43mmessage_body\u001b[49m\u001b[43m,\u001b[49m\u001b[43m \u001b[49m\u001b[43mencode_chunked\u001b[49m\u001b[38;5;241;43m=\u001b[39;49m\u001b[43mencode_chunked\u001b[49m\u001b[43m)\u001b[49m\n",
      "File \u001b[1;32mc:\\users\\ramon\\appdata\\local\\programs\\python\\python39\\lib\\http\\client.py:1040\u001b[0m, in \u001b[0;36mHTTPConnection._send_output\u001b[1;34m(self, message_body, encode_chunked)\u001b[0m\n\u001b[0;32m   1039\u001b[0m \u001b[38;5;28;01mdel\u001b[39;00m \u001b[38;5;28mself\u001b[39m\u001b[38;5;241m.\u001b[39m_buffer[:]\n\u001b[1;32m-> 1040\u001b[0m \u001b[38;5;28;43mself\u001b[39;49m\u001b[38;5;241;43m.\u001b[39;49m\u001b[43msend\u001b[49m\u001b[43m(\u001b[49m\u001b[43mmsg\u001b[49m\u001b[43m)\u001b[49m\n\u001b[0;32m   1042\u001b[0m \u001b[38;5;28;01mif\u001b[39;00m message_body \u001b[38;5;129;01mis\u001b[39;00m \u001b[38;5;129;01mnot\u001b[39;00m \u001b[38;5;28;01mNone\u001b[39;00m:\n\u001b[0;32m   1043\u001b[0m \n\u001b[0;32m   1044\u001b[0m     \u001b[38;5;66;03m# create a consistent interface to message_body\u001b[39;00m\n",
      "File \u001b[1;32mc:\\users\\ramon\\appdata\\local\\programs\\python\\python39\\lib\\http\\client.py:980\u001b[0m, in \u001b[0;36mHTTPConnection.send\u001b[1;34m(self, data)\u001b[0m\n\u001b[0;32m    979\u001b[0m \u001b[38;5;28;01mif\u001b[39;00m \u001b[38;5;28mself\u001b[39m\u001b[38;5;241m.\u001b[39mauto_open:\n\u001b[1;32m--> 980\u001b[0m     \u001b[38;5;28;43mself\u001b[39;49m\u001b[38;5;241;43m.\u001b[39;49m\u001b[43mconnect\u001b[49m\u001b[43m(\u001b[49m\u001b[43m)\u001b[49m\n\u001b[0;32m    981\u001b[0m \u001b[38;5;28;01melse\u001b[39;00m:\n",
      "File \u001b[1;32mc:\\users\\ramon\\appdata\\local\\programs\\python\\python39\\lib\\site-packages\\urllib3\\connection.py:205\u001b[0m, in \u001b[0;36mHTTPConnection.connect\u001b[1;34m(self)\u001b[0m\n\u001b[0;32m    204\u001b[0m \u001b[38;5;28;01mdef\u001b[39;00m \u001b[38;5;21mconnect\u001b[39m(\u001b[38;5;28mself\u001b[39m):\n\u001b[1;32m--> 205\u001b[0m     conn \u001b[38;5;241m=\u001b[39m \u001b[38;5;28;43mself\u001b[39;49m\u001b[38;5;241;43m.\u001b[39;49m\u001b[43m_new_conn\u001b[49m\u001b[43m(\u001b[49m\u001b[43m)\u001b[49m\n\u001b[0;32m    206\u001b[0m     \u001b[38;5;28mself\u001b[39m\u001b[38;5;241m.\u001b[39m_prepare_conn(conn)\n",
      "File \u001b[1;32mc:\\users\\ramon\\appdata\\local\\programs\\python\\python39\\lib\\site-packages\\urllib3\\connection.py:186\u001b[0m, in \u001b[0;36mHTTPConnection._new_conn\u001b[1;34m(self)\u001b[0m\n\u001b[0;32m    185\u001b[0m \u001b[38;5;28;01mexcept\u001b[39;00m SocketError \u001b[38;5;28;01mas\u001b[39;00m e:\n\u001b[1;32m--> 186\u001b[0m     \u001b[38;5;28;01mraise\u001b[39;00m NewConnectionError(\n\u001b[0;32m    187\u001b[0m         \u001b[38;5;28mself\u001b[39m, \u001b[38;5;124m\"\u001b[39m\u001b[38;5;124mFailed to establish a new connection: \u001b[39m\u001b[38;5;132;01m%s\u001b[39;00m\u001b[38;5;124m\"\u001b[39m \u001b[38;5;241m%\u001b[39m e\n\u001b[0;32m    188\u001b[0m     )\n\u001b[0;32m    190\u001b[0m \u001b[38;5;28;01mreturn\u001b[39;00m conn\n",
      "\u001b[1;31mNewConnectionError\u001b[0m: <urllib3.connection.HTTPConnection object at 0x000001FB8E871A60>: Failed to establish a new connection: [WinError 10061] Kan geen verbinding maken omdat de doelcomputer de verbinding actief heeft geweigerd",
      "\nDuring handling of the above exception, another exception occurred:\n",
      "\u001b[1;31mMaxRetryError\u001b[0m                             Traceback (most recent call last)",
      "Input \u001b[1;32mIn [96]\u001b[0m, in \u001b[0;36m<module>\u001b[1;34m\u001b[0m\n\u001b[0;32m     51\u001b[0m     result \u001b[38;5;241m=\u001b[39m \u001b[38;5;28mdict\u001b[39m(\u001b[38;5;28mzip\u001b[39m(keys, Row))\n\u001b[0;32m     53\u001b[0m     \u001b[38;5;28;01mreturn\u001b[39;00m result\n\u001b[1;32m---> 55\u001b[0m \u001b[38;5;28mprint\u001b[39m(\u001b[43mverzoek_data\u001b[49m\u001b[43m(\u001b[49m\u001b[38;5;124;43m'\u001b[39;49m\u001b[38;5;124;43mhttps://open.overheid.nl/Details/ronl-b1ffb1d37c52ac6e77427cffeaf330381012b589/1?hit=4&count=50&informatiesoort=c_4f50ca9c\u001b[39;49m\u001b[38;5;124;43m'\u001b[39;49m\u001b[43m)\u001b[49m)\n",
      "Input \u001b[1;32mIn [96]\u001b[0m, in \u001b[0;36mverzoek_data\u001b[1;34m(url)\u001b[0m\n\u001b[0;32m      7\u001b[0m driver\u001b[38;5;241m.\u001b[39mget(url)\n\u001b[0;32m      9\u001b[0m \u001b[38;5;66;03m# check of document deel uit maakt van een ander document\u001b[39;00m\n\u001b[1;32m---> 10\u001b[0m \u001b[38;5;28;01mif\u001b[39;00m \u001b[43mcheck_if_exists\u001b[49m\u001b[43m(\u001b[49m\u001b[38;5;124;43m'\u001b[39;49m\u001b[38;5;124;43malert__inner\u001b[39;49m\u001b[38;5;124;43m'\u001b[39;49m\u001b[43m)\u001b[49m \u001b[38;5;241m==\u001b[39m \u001b[38;5;28;01mTrue\u001b[39;00m:\n\u001b[0;32m     11\u001b[0m     \n\u001b[0;32m     12\u001b[0m     \u001b[38;5;66;03m# als dit het geval is ga verder op de nieuwe pagina\u001b[39;00m\n\u001b[0;32m     13\u001b[0m     URL_ \u001b[38;5;241m=\u001b[39m driver\u001b[38;5;241m.\u001b[39mfind_element(By\u001b[38;5;241m.\u001b[39mCLASS_NAME, \u001b[38;5;124m'\u001b[39m\u001b[38;5;124malert__inner\u001b[39m\u001b[38;5;124m'\u001b[39m)\n\u001b[0;32m     14\u001b[0m     URL \u001b[38;5;241m=\u001b[39m URL_\u001b[38;5;241m.\u001b[39mfind_element(By\u001b[38;5;241m.\u001b[39mTAG_NAME, \u001b[38;5;124m'\u001b[39m\u001b[38;5;124ma\u001b[39m\u001b[38;5;124m'\u001b[39m)\u001b[38;5;241m.\u001b[39mget_attribute(\u001b[38;5;124m'\u001b[39m\u001b[38;5;124mhref\u001b[39m\u001b[38;5;124m'\u001b[39m)\n",
      "Input \u001b[1;32mIn [6]\u001b[0m, in \u001b[0;36mcheck_if_exists\u001b[1;34m(Class)\u001b[0m\n\u001b[0;32m      1\u001b[0m \u001b[38;5;28;01mdef\u001b[39;00m \u001b[38;5;21mcheck_if_exists\u001b[39m(Class):\n\u001b[1;32m----> 2\u001b[0m     x \u001b[38;5;241m=\u001b[39m \u001b[43mdriver\u001b[49m\u001b[38;5;241;43m.\u001b[39;49m\u001b[43mfind_elements\u001b[49m\u001b[43m(\u001b[49m\u001b[43mBy\u001b[49m\u001b[38;5;241;43m.\u001b[39;49m\u001b[43mCLASS_NAME\u001b[49m\u001b[43m,\u001b[49m\u001b[43m \u001b[49m\u001b[43mClass\u001b[49m\u001b[43m)\u001b[49m\n\u001b[0;32m      3\u001b[0m     \u001b[38;5;28;01mif\u001b[39;00m x \u001b[38;5;241m==\u001b[39m []:\n\u001b[0;32m      4\u001b[0m         \u001b[38;5;28;01mreturn\u001b[39;00m \u001b[38;5;28;01mFalse\u001b[39;00m\n",
      "File \u001b[1;32mc:\\users\\ramon\\appdata\\local\\programs\\python\\python39\\lib\\site-packages\\selenium\\webdriver\\remote\\webdriver.py:860\u001b[0m, in \u001b[0;36mWebDriver.find_elements\u001b[1;34m(self, by, value)\u001b[0m\n\u001b[0;32m    856\u001b[0m     value \u001b[38;5;241m=\u001b[39m \u001b[38;5;124mf\u001b[39m\u001b[38;5;124m'\u001b[39m\u001b[38;5;124m[name=\u001b[39m\u001b[38;5;124m\"\u001b[39m\u001b[38;5;132;01m{\u001b[39;00mvalue\u001b[38;5;132;01m}\u001b[39;00m\u001b[38;5;124m\"\u001b[39m\u001b[38;5;124m]\u001b[39m\u001b[38;5;124m'\u001b[39m\n\u001b[0;32m    858\u001b[0m \u001b[38;5;66;03m# Return empty list if driver returns null\u001b[39;00m\n\u001b[0;32m    859\u001b[0m \u001b[38;5;66;03m# See https://github.com/SeleniumHQ/selenium/issues/4555\u001b[39;00m\n\u001b[1;32m--> 860\u001b[0m \u001b[38;5;28;01mreturn\u001b[39;00m \u001b[38;5;28;43mself\u001b[39;49m\u001b[38;5;241;43m.\u001b[39;49m\u001b[43mexecute\u001b[49m\u001b[43m(\u001b[49m\u001b[43mCommand\u001b[49m\u001b[38;5;241;43m.\u001b[39;49m\u001b[43mFIND_ELEMENTS\u001b[49m\u001b[43m,\u001b[49m\u001b[43m \u001b[49m\u001b[43m{\u001b[49m\u001b[38;5;124;43m\"\u001b[39;49m\u001b[38;5;124;43musing\u001b[39;49m\u001b[38;5;124;43m\"\u001b[39;49m\u001b[43m:\u001b[49m\u001b[43m \u001b[49m\u001b[43mby\u001b[49m\u001b[43m,\u001b[49m\u001b[43m \u001b[49m\u001b[38;5;124;43m\"\u001b[39;49m\u001b[38;5;124;43mvalue\u001b[39;49m\u001b[38;5;124;43m\"\u001b[39;49m\u001b[43m:\u001b[49m\u001b[43m \u001b[49m\u001b[43mvalue\u001b[49m\u001b[43m}\u001b[49m\u001b[43m)\u001b[49m[\u001b[38;5;124m\"\u001b[39m\u001b[38;5;124mvalue\u001b[39m\u001b[38;5;124m\"\u001b[39m] \u001b[38;5;129;01mor\u001b[39;00m []\n",
      "File \u001b[1;32mc:\\users\\ramon\\appdata\\local\\programs\\python\\python39\\lib\\site-packages\\selenium\\webdriver\\remote\\webdriver.py:438\u001b[0m, in \u001b[0;36mWebDriver.execute\u001b[1;34m(self, driver_command, params)\u001b[0m\n\u001b[0;32m    435\u001b[0m     \u001b[38;5;28;01melif\u001b[39;00m \u001b[38;5;124m\"\u001b[39m\u001b[38;5;124msessionId\u001b[39m\u001b[38;5;124m\"\u001b[39m \u001b[38;5;129;01mnot\u001b[39;00m \u001b[38;5;129;01min\u001b[39;00m params:\n\u001b[0;32m    436\u001b[0m         params[\u001b[38;5;124m\"\u001b[39m\u001b[38;5;124msessionId\u001b[39m\u001b[38;5;124m\"\u001b[39m] \u001b[38;5;241m=\u001b[39m \u001b[38;5;28mself\u001b[39m\u001b[38;5;241m.\u001b[39msession_id\n\u001b[1;32m--> 438\u001b[0m response \u001b[38;5;241m=\u001b[39m \u001b[38;5;28;43mself\u001b[39;49m\u001b[38;5;241;43m.\u001b[39;49m\u001b[43mcommand_executor\u001b[49m\u001b[38;5;241;43m.\u001b[39;49m\u001b[43mexecute\u001b[49m\u001b[43m(\u001b[49m\u001b[43mdriver_command\u001b[49m\u001b[43m,\u001b[49m\u001b[43m \u001b[49m\u001b[43mparams\u001b[49m\u001b[43m)\u001b[49m\n\u001b[0;32m    439\u001b[0m \u001b[38;5;28;01mif\u001b[39;00m response:\n\u001b[0;32m    440\u001b[0m     \u001b[38;5;28mself\u001b[39m\u001b[38;5;241m.\u001b[39merror_handler\u001b[38;5;241m.\u001b[39mcheck_response(response)\n",
      "File \u001b[1;32mc:\\users\\ramon\\appdata\\local\\programs\\python\\python39\\lib\\site-packages\\selenium\\webdriver\\remote\\remote_connection.py:290\u001b[0m, in \u001b[0;36mRemoteConnection.execute\u001b[1;34m(self, command, params)\u001b[0m\n\u001b[0;32m    288\u001b[0m data \u001b[38;5;241m=\u001b[39m utils\u001b[38;5;241m.\u001b[39mdump_json(params)\n\u001b[0;32m    289\u001b[0m url \u001b[38;5;241m=\u001b[39m \u001b[38;5;124mf\u001b[39m\u001b[38;5;124m\"\u001b[39m\u001b[38;5;132;01m{\u001b[39;00m\u001b[38;5;28mself\u001b[39m\u001b[38;5;241m.\u001b[39m_url\u001b[38;5;132;01m}\u001b[39;00m\u001b[38;5;132;01m{\u001b[39;00mpath\u001b[38;5;132;01m}\u001b[39;00m\u001b[38;5;124m\"\u001b[39m\n\u001b[1;32m--> 290\u001b[0m \u001b[38;5;28;01mreturn\u001b[39;00m \u001b[38;5;28;43mself\u001b[39;49m\u001b[38;5;241;43m.\u001b[39;49m\u001b[43m_request\u001b[49m\u001b[43m(\u001b[49m\u001b[43mcommand_info\u001b[49m\u001b[43m[\u001b[49m\u001b[38;5;241;43m0\u001b[39;49m\u001b[43m]\u001b[49m\u001b[43m,\u001b[49m\u001b[43m \u001b[49m\u001b[43murl\u001b[49m\u001b[43m,\u001b[49m\u001b[43m \u001b[49m\u001b[43mbody\u001b[49m\u001b[38;5;241;43m=\u001b[39;49m\u001b[43mdata\u001b[49m\u001b[43m)\u001b[49m\n",
      "File \u001b[1;32mc:\\users\\ramon\\appdata\\local\\programs\\python\\python39\\lib\\site-packages\\selenium\\webdriver\\remote\\remote_connection.py:311\u001b[0m, in \u001b[0;36mRemoteConnection._request\u001b[1;34m(self, method, url, body)\u001b[0m\n\u001b[0;32m    308\u001b[0m     body \u001b[38;5;241m=\u001b[39m \u001b[38;5;28;01mNone\u001b[39;00m\n\u001b[0;32m    310\u001b[0m \u001b[38;5;28;01mif\u001b[39;00m \u001b[38;5;28mself\u001b[39m\u001b[38;5;241m.\u001b[39mkeep_alive:\n\u001b[1;32m--> 311\u001b[0m     response \u001b[38;5;241m=\u001b[39m \u001b[38;5;28;43mself\u001b[39;49m\u001b[38;5;241;43m.\u001b[39;49m\u001b[43m_conn\u001b[49m\u001b[38;5;241;43m.\u001b[39;49m\u001b[43mrequest\u001b[49m\u001b[43m(\u001b[49m\u001b[43mmethod\u001b[49m\u001b[43m,\u001b[49m\u001b[43m \u001b[49m\u001b[43murl\u001b[49m\u001b[43m,\u001b[49m\u001b[43m \u001b[49m\u001b[43mbody\u001b[49m\u001b[38;5;241;43m=\u001b[39;49m\u001b[43mbody\u001b[49m\u001b[43m,\u001b[49m\u001b[43m \u001b[49m\u001b[43mheaders\u001b[49m\u001b[38;5;241;43m=\u001b[39;49m\u001b[43mheaders\u001b[49m\u001b[43m)\u001b[49m\n\u001b[0;32m    312\u001b[0m     statuscode \u001b[38;5;241m=\u001b[39m response\u001b[38;5;241m.\u001b[39mstatus\n\u001b[0;32m    313\u001b[0m \u001b[38;5;28;01melse\u001b[39;00m:\n",
      "File \u001b[1;32mc:\\users\\ramon\\appdata\\local\\programs\\python\\python39\\lib\\site-packages\\urllib3\\request.py:78\u001b[0m, in \u001b[0;36mRequestMethods.request\u001b[1;34m(self, method, url, fields, headers, **urlopen_kw)\u001b[0m\n\u001b[0;32m     74\u001b[0m     \u001b[38;5;28;01mreturn\u001b[39;00m \u001b[38;5;28mself\u001b[39m\u001b[38;5;241m.\u001b[39mrequest_encode_url(\n\u001b[0;32m     75\u001b[0m         method, url, fields\u001b[38;5;241m=\u001b[39mfields, headers\u001b[38;5;241m=\u001b[39mheaders, \u001b[38;5;241m*\u001b[39m\u001b[38;5;241m*\u001b[39murlopen_kw\n\u001b[0;32m     76\u001b[0m     )\n\u001b[0;32m     77\u001b[0m \u001b[38;5;28;01melse\u001b[39;00m:\n\u001b[1;32m---> 78\u001b[0m     \u001b[38;5;28;01mreturn\u001b[39;00m \u001b[38;5;28mself\u001b[39m\u001b[38;5;241m.\u001b[39mrequest_encode_body(\n\u001b[0;32m     79\u001b[0m         method, url, fields\u001b[38;5;241m=\u001b[39mfields, headers\u001b[38;5;241m=\u001b[39mheaders, \u001b[38;5;241m*\u001b[39m\u001b[38;5;241m*\u001b[39murlopen_kw\n\u001b[0;32m     80\u001b[0m     )\n",
      "File \u001b[1;32mc:\\users\\ramon\\appdata\\local\\programs\\python\\python39\\lib\\site-packages\\urllib3\\request.py:170\u001b[0m, in \u001b[0;36mRequestMethods.request_encode_body\u001b[1;34m(self, method, url, fields, headers, encode_multipart, multipart_boundary, **urlopen_kw)\u001b[0m\n\u001b[0;32m    167\u001b[0m extra_kw[\u001b[38;5;124m\"\u001b[39m\u001b[38;5;124mheaders\u001b[39m\u001b[38;5;124m\"\u001b[39m]\u001b[38;5;241m.\u001b[39mupdate(headers)\n\u001b[0;32m    168\u001b[0m extra_kw\u001b[38;5;241m.\u001b[39mupdate(urlopen_kw)\n\u001b[1;32m--> 170\u001b[0m \u001b[38;5;28;01mreturn\u001b[39;00m \u001b[38;5;28mself\u001b[39m\u001b[38;5;241m.\u001b[39murlopen(method, url, \u001b[38;5;241m*\u001b[39m\u001b[38;5;241m*\u001b[39mextra_kw)\n",
      "File \u001b[1;32mc:\\users\\ramon\\appdata\\local\\programs\\python\\python39\\lib\\site-packages\\urllib3\\poolmanager.py:375\u001b[0m, in \u001b[0;36mPoolManager.urlopen\u001b[1;34m(self, method, url, redirect, **kw)\u001b[0m\n\u001b[0;32m    373\u001b[0m     response \u001b[38;5;241m=\u001b[39m conn\u001b[38;5;241m.\u001b[39murlopen(method, url, \u001b[38;5;241m*\u001b[39m\u001b[38;5;241m*\u001b[39mkw)\n\u001b[0;32m    374\u001b[0m \u001b[38;5;28;01melse\u001b[39;00m:\n\u001b[1;32m--> 375\u001b[0m     response \u001b[38;5;241m=\u001b[39m conn\u001b[38;5;241m.\u001b[39murlopen(method, u\u001b[38;5;241m.\u001b[39mrequest_uri, \u001b[38;5;241m*\u001b[39m\u001b[38;5;241m*\u001b[39mkw)\n\u001b[0;32m    377\u001b[0m redirect_location \u001b[38;5;241m=\u001b[39m redirect \u001b[38;5;129;01mand\u001b[39;00m response\u001b[38;5;241m.\u001b[39mget_redirect_location()\n\u001b[0;32m    378\u001b[0m \u001b[38;5;28;01mif\u001b[39;00m \u001b[38;5;129;01mnot\u001b[39;00m redirect_location:\n",
      "File \u001b[1;32mc:\\users\\ramon\\appdata\\local\\programs\\python\\python39\\lib\\site-packages\\urllib3\\connectionpool.py:813\u001b[0m, in \u001b[0;36mHTTPConnectionPool.urlopen\u001b[1;34m(self, method, url, body, headers, retries, redirect, assert_same_host, timeout, pool_timeout, release_conn, chunked, body_pos, **response_kw)\u001b[0m\n\u001b[0;32m    808\u001b[0m \u001b[38;5;28;01mif\u001b[39;00m \u001b[38;5;129;01mnot\u001b[39;00m conn:\n\u001b[0;32m    809\u001b[0m     \u001b[38;5;66;03m# Try again\u001b[39;00m\n\u001b[0;32m    810\u001b[0m     log\u001b[38;5;241m.\u001b[39mwarning(\n\u001b[0;32m    811\u001b[0m         \u001b[38;5;124m\"\u001b[39m\u001b[38;5;124mRetrying (\u001b[39m\u001b[38;5;132;01m%r\u001b[39;00m\u001b[38;5;124m) after connection broken by \u001b[39m\u001b[38;5;124m'\u001b[39m\u001b[38;5;132;01m%r\u001b[39;00m\u001b[38;5;124m'\u001b[39m\u001b[38;5;124m: \u001b[39m\u001b[38;5;132;01m%s\u001b[39;00m\u001b[38;5;124m\"\u001b[39m, retries, err, url\n\u001b[0;32m    812\u001b[0m     )\n\u001b[1;32m--> 813\u001b[0m     \u001b[38;5;28;01mreturn\u001b[39;00m \u001b[38;5;28mself\u001b[39m\u001b[38;5;241m.\u001b[39murlopen(\n\u001b[0;32m    814\u001b[0m         method,\n\u001b[0;32m    815\u001b[0m         url,\n\u001b[0;32m    816\u001b[0m         body,\n\u001b[0;32m    817\u001b[0m         headers,\n\u001b[0;32m    818\u001b[0m         retries,\n\u001b[0;32m    819\u001b[0m         redirect,\n\u001b[0;32m    820\u001b[0m         assert_same_host,\n\u001b[0;32m    821\u001b[0m         timeout\u001b[38;5;241m=\u001b[39mtimeout,\n\u001b[0;32m    822\u001b[0m         pool_timeout\u001b[38;5;241m=\u001b[39mpool_timeout,\n\u001b[0;32m    823\u001b[0m         release_conn\u001b[38;5;241m=\u001b[39mrelease_conn,\n\u001b[0;32m    824\u001b[0m         chunked\u001b[38;5;241m=\u001b[39mchunked,\n\u001b[0;32m    825\u001b[0m         body_pos\u001b[38;5;241m=\u001b[39mbody_pos,\n\u001b[0;32m    826\u001b[0m         \u001b[38;5;241m*\u001b[39m\u001b[38;5;241m*\u001b[39mresponse_kw\n\u001b[0;32m    827\u001b[0m     )\n\u001b[0;32m    829\u001b[0m \u001b[38;5;66;03m# Handle redirect?\u001b[39;00m\n\u001b[0;32m    830\u001b[0m redirect_location \u001b[38;5;241m=\u001b[39m redirect \u001b[38;5;129;01mand\u001b[39;00m response\u001b[38;5;241m.\u001b[39mget_redirect_location()\n",
      "File \u001b[1;32mc:\\users\\ramon\\appdata\\local\\programs\\python\\python39\\lib\\site-packages\\urllib3\\connectionpool.py:813\u001b[0m, in \u001b[0;36mHTTPConnectionPool.urlopen\u001b[1;34m(self, method, url, body, headers, retries, redirect, assert_same_host, timeout, pool_timeout, release_conn, chunked, body_pos, **response_kw)\u001b[0m\n\u001b[0;32m    808\u001b[0m \u001b[38;5;28;01mif\u001b[39;00m \u001b[38;5;129;01mnot\u001b[39;00m conn:\n\u001b[0;32m    809\u001b[0m     \u001b[38;5;66;03m# Try again\u001b[39;00m\n\u001b[0;32m    810\u001b[0m     log\u001b[38;5;241m.\u001b[39mwarning(\n\u001b[0;32m    811\u001b[0m         \u001b[38;5;124m\"\u001b[39m\u001b[38;5;124mRetrying (\u001b[39m\u001b[38;5;132;01m%r\u001b[39;00m\u001b[38;5;124m) after connection broken by \u001b[39m\u001b[38;5;124m'\u001b[39m\u001b[38;5;132;01m%r\u001b[39;00m\u001b[38;5;124m'\u001b[39m\u001b[38;5;124m: \u001b[39m\u001b[38;5;132;01m%s\u001b[39;00m\u001b[38;5;124m\"\u001b[39m, retries, err, url\n\u001b[0;32m    812\u001b[0m     )\n\u001b[1;32m--> 813\u001b[0m     \u001b[38;5;28;01mreturn\u001b[39;00m \u001b[38;5;28mself\u001b[39m\u001b[38;5;241m.\u001b[39murlopen(\n\u001b[0;32m    814\u001b[0m         method,\n\u001b[0;32m    815\u001b[0m         url,\n\u001b[0;32m    816\u001b[0m         body,\n\u001b[0;32m    817\u001b[0m         headers,\n\u001b[0;32m    818\u001b[0m         retries,\n\u001b[0;32m    819\u001b[0m         redirect,\n\u001b[0;32m    820\u001b[0m         assert_same_host,\n\u001b[0;32m    821\u001b[0m         timeout\u001b[38;5;241m=\u001b[39mtimeout,\n\u001b[0;32m    822\u001b[0m         pool_timeout\u001b[38;5;241m=\u001b[39mpool_timeout,\n\u001b[0;32m    823\u001b[0m         release_conn\u001b[38;5;241m=\u001b[39mrelease_conn,\n\u001b[0;32m    824\u001b[0m         chunked\u001b[38;5;241m=\u001b[39mchunked,\n\u001b[0;32m    825\u001b[0m         body_pos\u001b[38;5;241m=\u001b[39mbody_pos,\n\u001b[0;32m    826\u001b[0m         \u001b[38;5;241m*\u001b[39m\u001b[38;5;241m*\u001b[39mresponse_kw\n\u001b[0;32m    827\u001b[0m     )\n\u001b[0;32m    829\u001b[0m \u001b[38;5;66;03m# Handle redirect?\u001b[39;00m\n\u001b[0;32m    830\u001b[0m redirect_location \u001b[38;5;241m=\u001b[39m redirect \u001b[38;5;129;01mand\u001b[39;00m response\u001b[38;5;241m.\u001b[39mget_redirect_location()\n",
      "File \u001b[1;32mc:\\users\\ramon\\appdata\\local\\programs\\python\\python39\\lib\\site-packages\\urllib3\\connectionpool.py:813\u001b[0m, in \u001b[0;36mHTTPConnectionPool.urlopen\u001b[1;34m(self, method, url, body, headers, retries, redirect, assert_same_host, timeout, pool_timeout, release_conn, chunked, body_pos, **response_kw)\u001b[0m\n\u001b[0;32m    808\u001b[0m \u001b[38;5;28;01mif\u001b[39;00m \u001b[38;5;129;01mnot\u001b[39;00m conn:\n\u001b[0;32m    809\u001b[0m     \u001b[38;5;66;03m# Try again\u001b[39;00m\n\u001b[0;32m    810\u001b[0m     log\u001b[38;5;241m.\u001b[39mwarning(\n\u001b[0;32m    811\u001b[0m         \u001b[38;5;124m\"\u001b[39m\u001b[38;5;124mRetrying (\u001b[39m\u001b[38;5;132;01m%r\u001b[39;00m\u001b[38;5;124m) after connection broken by \u001b[39m\u001b[38;5;124m'\u001b[39m\u001b[38;5;132;01m%r\u001b[39;00m\u001b[38;5;124m'\u001b[39m\u001b[38;5;124m: \u001b[39m\u001b[38;5;132;01m%s\u001b[39;00m\u001b[38;5;124m\"\u001b[39m, retries, err, url\n\u001b[0;32m    812\u001b[0m     )\n\u001b[1;32m--> 813\u001b[0m     \u001b[38;5;28;01mreturn\u001b[39;00m \u001b[38;5;28mself\u001b[39m\u001b[38;5;241m.\u001b[39murlopen(\n\u001b[0;32m    814\u001b[0m         method,\n\u001b[0;32m    815\u001b[0m         url,\n\u001b[0;32m    816\u001b[0m         body,\n\u001b[0;32m    817\u001b[0m         headers,\n\u001b[0;32m    818\u001b[0m         retries,\n\u001b[0;32m    819\u001b[0m         redirect,\n\u001b[0;32m    820\u001b[0m         assert_same_host,\n\u001b[0;32m    821\u001b[0m         timeout\u001b[38;5;241m=\u001b[39mtimeout,\n\u001b[0;32m    822\u001b[0m         pool_timeout\u001b[38;5;241m=\u001b[39mpool_timeout,\n\u001b[0;32m    823\u001b[0m         release_conn\u001b[38;5;241m=\u001b[39mrelease_conn,\n\u001b[0;32m    824\u001b[0m         chunked\u001b[38;5;241m=\u001b[39mchunked,\n\u001b[0;32m    825\u001b[0m         body_pos\u001b[38;5;241m=\u001b[39mbody_pos,\n\u001b[0;32m    826\u001b[0m         \u001b[38;5;241m*\u001b[39m\u001b[38;5;241m*\u001b[39mresponse_kw\n\u001b[0;32m    827\u001b[0m     )\n\u001b[0;32m    829\u001b[0m \u001b[38;5;66;03m# Handle redirect?\u001b[39;00m\n\u001b[0;32m    830\u001b[0m redirect_location \u001b[38;5;241m=\u001b[39m redirect \u001b[38;5;129;01mand\u001b[39;00m response\u001b[38;5;241m.\u001b[39mget_redirect_location()\n",
      "File \u001b[1;32mc:\\users\\ramon\\appdata\\local\\programs\\python\\python39\\lib\\site-packages\\urllib3\\connectionpool.py:785\u001b[0m, in \u001b[0;36mHTTPConnectionPool.urlopen\u001b[1;34m(self, method, url, body, headers, retries, redirect, assert_same_host, timeout, pool_timeout, release_conn, chunked, body_pos, **response_kw)\u001b[0m\n\u001b[0;32m    782\u001b[0m \u001b[38;5;28;01melif\u001b[39;00m \u001b[38;5;28misinstance\u001b[39m(e, (SocketError, HTTPException)):\n\u001b[0;32m    783\u001b[0m     e \u001b[38;5;241m=\u001b[39m ProtocolError(\u001b[38;5;124m\"\u001b[39m\u001b[38;5;124mConnection aborted.\u001b[39m\u001b[38;5;124m\"\u001b[39m, e)\n\u001b[1;32m--> 785\u001b[0m retries \u001b[38;5;241m=\u001b[39m \u001b[43mretries\u001b[49m\u001b[38;5;241;43m.\u001b[39;49m\u001b[43mincrement\u001b[49m\u001b[43m(\u001b[49m\n\u001b[0;32m    786\u001b[0m \u001b[43m    \u001b[49m\u001b[43mmethod\u001b[49m\u001b[43m,\u001b[49m\u001b[43m \u001b[49m\u001b[43murl\u001b[49m\u001b[43m,\u001b[49m\u001b[43m \u001b[49m\u001b[43merror\u001b[49m\u001b[38;5;241;43m=\u001b[39;49m\u001b[43me\u001b[49m\u001b[43m,\u001b[49m\u001b[43m \u001b[49m\u001b[43m_pool\u001b[49m\u001b[38;5;241;43m=\u001b[39;49m\u001b[38;5;28;43mself\u001b[39;49m\u001b[43m,\u001b[49m\u001b[43m \u001b[49m\u001b[43m_stacktrace\u001b[49m\u001b[38;5;241;43m=\u001b[39;49m\u001b[43msys\u001b[49m\u001b[38;5;241;43m.\u001b[39;49m\u001b[43mexc_info\u001b[49m\u001b[43m(\u001b[49m\u001b[43m)\u001b[49m\u001b[43m[\u001b[49m\u001b[38;5;241;43m2\u001b[39;49m\u001b[43m]\u001b[49m\n\u001b[0;32m    787\u001b[0m \u001b[43m\u001b[49m\u001b[43m)\u001b[49m\n\u001b[0;32m    788\u001b[0m retries\u001b[38;5;241m.\u001b[39msleep()\n\u001b[0;32m    790\u001b[0m \u001b[38;5;66;03m# Keep track of the error for the retry warning.\u001b[39;00m\n",
      "File \u001b[1;32mc:\\users\\ramon\\appdata\\local\\programs\\python\\python39\\lib\\site-packages\\urllib3\\util\\retry.py:592\u001b[0m, in \u001b[0;36mRetry.increment\u001b[1;34m(self, method, url, response, error, _pool, _stacktrace)\u001b[0m\n\u001b[0;32m    581\u001b[0m new_retry \u001b[38;5;241m=\u001b[39m \u001b[38;5;28mself\u001b[39m\u001b[38;5;241m.\u001b[39mnew(\n\u001b[0;32m    582\u001b[0m     total\u001b[38;5;241m=\u001b[39mtotal,\n\u001b[0;32m    583\u001b[0m     connect\u001b[38;5;241m=\u001b[39mconnect,\n\u001b[1;32m   (...)\u001b[0m\n\u001b[0;32m    588\u001b[0m     history\u001b[38;5;241m=\u001b[39mhistory,\n\u001b[0;32m    589\u001b[0m )\n\u001b[0;32m    591\u001b[0m \u001b[38;5;28;01mif\u001b[39;00m new_retry\u001b[38;5;241m.\u001b[39mis_exhausted():\n\u001b[1;32m--> 592\u001b[0m     \u001b[38;5;28;01mraise\u001b[39;00m MaxRetryError(_pool, url, error \u001b[38;5;129;01mor\u001b[39;00m ResponseError(cause))\n\u001b[0;32m    594\u001b[0m log\u001b[38;5;241m.\u001b[39mdebug(\u001b[38;5;124m\"\u001b[39m\u001b[38;5;124mIncremented Retry for (url=\u001b[39m\u001b[38;5;124m'\u001b[39m\u001b[38;5;132;01m%s\u001b[39;00m\u001b[38;5;124m'\u001b[39m\u001b[38;5;124m): \u001b[39m\u001b[38;5;132;01m%r\u001b[39;00m\u001b[38;5;124m\"\u001b[39m, url, new_retry)\n\u001b[0;32m    596\u001b[0m \u001b[38;5;28;01mreturn\u001b[39;00m new_retry\n",
      "\u001b[1;31mMaxRetryError\u001b[0m: HTTPConnectionPool(host='localhost', port=50228): Max retries exceeded with url: /session/75c092ddc7f8e0be81bd2e84520f5fa2/elements (Caused by NewConnectionError('<urllib3.connection.HTTPConnection object at 0x000001FB8E871A60>: Failed to establish a new connection: [WinError 10061] Kan geen verbinding maken omdat de doelcomputer de verbinding actief heeft geweigerd'))"
     ]
    }
   ],
   "source": [
    "def verzoek_data(url):\n",
    "    \n",
    "    # keys voor de dictionary\n",
    "    keys=['Naam', 'Verantwoordelijke', 'Thema', 'Documentsoort', 'Publicatiedatum', 'Documentdatum', 'Onderwerp', 'url']\n",
    "    \n",
    "    driver = webdriver.Chrome(service=Service(ChromeDriverManager().install()))\n",
    "    driver.get(url)\n",
    "    \n",
    "    # check of document deel uit maakt van een ander document\n",
    "    if check_if_exists('alert__inner') == True:\n",
    "        \n",
    "        # als dit het geval is ga verder op de nieuwe pagina\n",
    "        URL_ = driver.find_element(By.CLASS_NAME, 'alert__inner')\n",
    "        URL = URL_.find_element(By.TAG_NAME, 'a').get_attribute('href')\n",
    "        driver.get(URL)\n",
    "        \n",
    "    title = (driver.find_element(By.CLASS_NAME, \"h2\")).text\n",
    "    Row = [title]\n",
    "\n",
    "    FILE = driver.find_element(By.CLASS_NAME, \"result--list \")\n",
    "    url = FILE.find_elements(By.TAG_NAME, 'a')\n",
    "    \n",
    "    url_list = [i.get_attribute('href') for i in url]\n",
    "\n",
    "    # vind de tabel met data en verzamel de data hieruit\n",
    "    table = driver.find_element(By.CLASS_NAME, \"table__data-overview\")\n",
    "\n",
    "    for row in table.find_elements(By.XPATH, \".//tr\"):\n",
    "        row_data = row.find_element(By.XPATH, \".//td\").get_attribute('textContent')\n",
    "\n",
    "        # als de data van een bepaald vak een lijst is maakt deze code er een python list van\n",
    "        if ('\\n') in row_data:\n",
    "            Data = []\n",
    "\n",
    "            i = row_data.split('\\n')\n",
    "            for item in i:\n",
    "                res = re.findall(r'\\w+', item)\n",
    "                if res != []:\n",
    "                    sentence = ' '.join([str(r) for r in res])\n",
    "                    Data.append(sentence)\n",
    "        else:\n",
    "            Data = row_data\n",
    "        \n",
    "        Row.append(Data)\n",
    "\n",
    "    if len(Row) == 6:\n",
    "        Row.append(np.nan)\n",
    "        \n",
    "    Row.append(url_list)\n",
    "    \n",
    "    result = dict(zip(keys, Row))\n",
    "    \n",
    "    return result\n",
    "    \n",
    "print(verzoek_data('https://open.overheid.nl/Details/ronl-b1ffb1d37c52ac6e77427cffeaf330381012b589/1?hit=4&count=50&informatiesoort=c_4f50ca9c'))\n",
    "    "
   ]
  },
  {
   "cell_type": "code",
   "execution_count": 59,
   "id": "d60a44d1",
   "metadata": {
    "scrolled": false
   },
   "outputs": [
    {
     "data": {
      "text/html": [
       "<div>\n",
       "<style scoped>\n",
       "    .dataframe tbody tr th:only-of-type {\n",
       "        vertical-align: middle;\n",
       "    }\n",
       "\n",
       "    .dataframe tbody tr th {\n",
       "        vertical-align: top;\n",
       "    }\n",
       "\n",
       "    .dataframe thead th {\n",
       "        text-align: right;\n",
       "    }\n",
       "</style>\n",
       "<table border=\"1\" class=\"dataframe\">\n",
       "  <thead>\n",
       "    <tr style=\"text-align: right;\">\n",
       "      <th></th>\n",
       "      <th>Titel</th>\n",
       "      <th>Verzoek</th>\n",
       "      <th>Specifiek</th>\n",
       "      <th>Verantwoordelijke</th>\n",
       "      <th>Thema</th>\n",
       "      <th>Documentsoort</th>\n",
       "      <th>Publicatiedatum</th>\n",
       "      <th>Documentdatum</th>\n",
       "      <th>Onderwerp</th>\n",
       "      <th>url</th>\n",
       "    </tr>\n",
       "  </thead>\n",
       "  <tbody>\n",
       "    <tr>\n",
       "      <th>0</th>\n",
       "      <td>Besluit op Woo-verzoek over geleiderails langs...</td>\n",
       "      <td>Besluit op Woo-verzoek over geleiderails langs...</td>\n",
       "      <td>Bijlagen deel 5 bij Woo-besluit over geleidera...</td>\n",
       "      <td>Ministerie van Infrastructuur en Waterstaat</td>\n",
       "      <td>Rail- en wegverkeer</td>\n",
       "      <td>Beslissing op Wob-/Woo-verzoek</td>\n",
       "      <td>02-01-2023</td>\n",
       "      <td>23-12-2022</td>\n",
       "      <td>Wegen</td>\n",
       "      <td>https://open.overheid.nl/documenten/ronl-066ba...</td>\n",
       "    </tr>\n",
       "    <tr>\n",
       "      <th>1</th>\n",
       "      <td>Besluit op Woo-verzoek over geleiderails langs...</td>\n",
       "      <td>Besluit op Woo-verzoek over geleiderails langs...</td>\n",
       "      <td>Bijlagen deel 1 bij Woo-besluit over geleidera...</td>\n",
       "      <td>Ministerie van Infrastructuur en Waterstaat</td>\n",
       "      <td>Rail- en wegverkeer</td>\n",
       "      <td>Beslissing op Wob-/Woo-verzoek</td>\n",
       "      <td>02-01-2023</td>\n",
       "      <td>23-12-2022</td>\n",
       "      <td>Wegen</td>\n",
       "      <td>https://open.overheid.nl/documenten/ronl-3e22b...</td>\n",
       "    </tr>\n",
       "    <tr>\n",
       "      <th>2</th>\n",
       "      <td>Besluit op Woo-verzoek over geleiderails langs...</td>\n",
       "      <td>Besluit op Woo-verzoek over geleiderails langs...</td>\n",
       "      <td>Bijlagen deel 4 bij Woo-besluit over geleidera...</td>\n",
       "      <td>Ministerie van Infrastructuur en Waterstaat</td>\n",
       "      <td>Rail- en wegverkeer</td>\n",
       "      <td>Beslissing op Wob-/Woo-verzoek</td>\n",
       "      <td>02-01-2023</td>\n",
       "      <td>23-12-2022</td>\n",
       "      <td>Wegen</td>\n",
       "      <td>https://open.overheid.nl/documenten/ronl-452af...</td>\n",
       "    </tr>\n",
       "    <tr>\n",
       "      <th>3</th>\n",
       "      <td>Besluit op Woo-verzoek over geleiderails langs...</td>\n",
       "      <td>Besluit op Woo-verzoek over geleiderails langs...</td>\n",
       "      <td>Bijlagen deel 2 bij Woo-besluit over geleidera...</td>\n",
       "      <td>Ministerie van Infrastructuur en Waterstaat</td>\n",
       "      <td>Rail- en wegverkeer</td>\n",
       "      <td>Beslissing op Wob-/Woo-verzoek</td>\n",
       "      <td>02-01-2023</td>\n",
       "      <td>23-12-2022</td>\n",
       "      <td>Wegen</td>\n",
       "      <td>https://open.overheid.nl/documenten/ronl-58d15...</td>\n",
       "    </tr>\n",
       "    <tr>\n",
       "      <th>4</th>\n",
       "      <td>Besluit op Woo-verzoek over geleiderails langs...</td>\n",
       "      <td>Besluit op Woo-verzoek over geleiderails langs...</td>\n",
       "      <td>Besluit en inventaris bij Woo-verzoek over gel...</td>\n",
       "      <td>Ministerie van Infrastructuur en Waterstaat</td>\n",
       "      <td>Rail- en wegverkeer</td>\n",
       "      <td>Beslissing op Wob-/Woo-verzoek</td>\n",
       "      <td>02-01-2023</td>\n",
       "      <td>23-12-2022</td>\n",
       "      <td>Wegen</td>\n",
       "      <td>https://open.overheid.nl/documenten/ronl-836a0...</td>\n",
       "    </tr>\n",
       "    <tr>\n",
       "      <th>...</th>\n",
       "      <td>...</td>\n",
       "      <td>...</td>\n",
       "      <td>...</td>\n",
       "      <td>...</td>\n",
       "      <td>...</td>\n",
       "      <td>...</td>\n",
       "      <td>...</td>\n",
       "      <td>...</td>\n",
       "      <td>...</td>\n",
       "      <td>...</td>\n",
       "    </tr>\n",
       "    <tr>\n",
       "      <th>617</th>\n",
       "      <td>Herziening besluit op Woo-verzoek over in- en ...</td>\n",
       "      <td>Herziening besluit op Woo-verzoek over in- en ...</td>\n",
       "      <td>Documenten deel 3 bij Woo-verzoek Ameerega Sil...</td>\n",
       "      <td>Ministerie van Landbouw, Natuur en Voedselkwal...</td>\n",
       "      <td>Natuur- en landschapsbeheer</td>\n",
       "      <td>Beslissing op Wob-/Woo-verzoek</td>\n",
       "      <td>02-03-2023</td>\n",
       "      <td>09-02-2023</td>\n",
       "      <td>Natuur en biodiversiteit</td>\n",
       "      <td>https://open.overheid.nl/documenten/ronl-70a48...</td>\n",
       "    </tr>\n",
       "    <tr>\n",
       "      <th>618</th>\n",
       "      <td>Herziening besluit op Woo-verzoek over in- en ...</td>\n",
       "      <td>Herziening besluit op Woo-verzoek over in- en ...</td>\n",
       "      <td>Documenten deel 2 bij Woo-verzoek Ameerega Sil...</td>\n",
       "      <td>Ministerie van Landbouw, Natuur en Voedselkwal...</td>\n",
       "      <td>Natuur- en landschapsbeheer</td>\n",
       "      <td>Beslissing op Wob-/Woo-verzoek</td>\n",
       "      <td>02-03-2023</td>\n",
       "      <td>09-02-2023</td>\n",
       "      <td>Natuur en biodiversiteit</td>\n",
       "      <td>https://open.overheid.nl/documenten/ronl-7b5a4...</td>\n",
       "    </tr>\n",
       "    <tr>\n",
       "      <th>619</th>\n",
       "      <td>Herziening besluit op Woo-verzoek over in- en ...</td>\n",
       "      <td>Herziening besluit op Woo-verzoek over in- en ...</td>\n",
       "      <td>Documenten deel 6 bij Woo-verzoek Ameerega Sil...</td>\n",
       "      <td>Ministerie van Landbouw, Natuur en Voedselkwal...</td>\n",
       "      <td>Natuur- en landschapsbeheer</td>\n",
       "      <td>Beslissing op Wob-/Woo-verzoek</td>\n",
       "      <td>02-03-2023</td>\n",
       "      <td>09-02-2023</td>\n",
       "      <td>Natuur en biodiversiteit</td>\n",
       "      <td>https://open.overheid.nl/documenten/ronl-c564c...</td>\n",
       "    </tr>\n",
       "    <tr>\n",
       "      <th>620</th>\n",
       "      <td>Besluit op Woo-verzoek over financiële sanctie...</td>\n",
       "      <td>Besluit op Woo-verzoek over financiële sanctie...</td>\n",
       "      <td>Documenten bij Woo-besluit over financiële san...</td>\n",
       "      <td>Ministerie van Buitenlandse Zaken</td>\n",
       "      <td>[Europese zaken, Internationale betrekkingen]</td>\n",
       "      <td>Beslissing op Wob-/Woo-verzoek</td>\n",
       "      <td>02-03-2023</td>\n",
       "      <td>28-02-2023</td>\n",
       "      <td>[Europese Unie, Oorlog in Oekraïne]</td>\n",
       "      <td>https://open.overheid.nl/documenten/ronl-d5e45...</td>\n",
       "    </tr>\n",
       "    <tr>\n",
       "      <th>621</th>\n",
       "      <td>Herziening besluit op Woo-verzoek over in- en ...</td>\n",
       "      <td>Herziening besluit op Woo-verzoek over in- en ...</td>\n",
       "      <td>Besluit, inventaris en documenten deel 1 bij W...</td>\n",
       "      <td>Ministerie van Landbouw, Natuur en Voedselkwal...</td>\n",
       "      <td>Natuur- en landschapsbeheer</td>\n",
       "      <td>Beslissing op Wob-/Woo-verzoek</td>\n",
       "      <td>02-03-2023</td>\n",
       "      <td>09-02-2023</td>\n",
       "      <td>Natuur en biodiversiteit</td>\n",
       "      <td>https://open.overheid.nl/documenten/ronl-e1598...</td>\n",
       "    </tr>\n",
       "  </tbody>\n",
       "</table>\n",
       "<p>622 rows × 10 columns</p>\n",
       "</div>"
      ],
      "text/plain": [
       "                                                 Titel  \\\n",
       "0    Besluit op Woo-verzoek over geleiderails langs...   \n",
       "1    Besluit op Woo-verzoek over geleiderails langs...   \n",
       "2    Besluit op Woo-verzoek over geleiderails langs...   \n",
       "3    Besluit op Woo-verzoek over geleiderails langs...   \n",
       "4    Besluit op Woo-verzoek over geleiderails langs...   \n",
       "..                                                 ...   \n",
       "617  Herziening besluit op Woo-verzoek over in- en ...   \n",
       "618  Herziening besluit op Woo-verzoek over in- en ...   \n",
       "619  Herziening besluit op Woo-verzoek over in- en ...   \n",
       "620  Besluit op Woo-verzoek over financiële sanctie...   \n",
       "621  Herziening besluit op Woo-verzoek over in- en ...   \n",
       "\n",
       "                                               Verzoek  \\\n",
       "0    Besluit op Woo-verzoek over geleiderails langs...   \n",
       "1    Besluit op Woo-verzoek over geleiderails langs...   \n",
       "2    Besluit op Woo-verzoek over geleiderails langs...   \n",
       "3    Besluit op Woo-verzoek over geleiderails langs...   \n",
       "4    Besluit op Woo-verzoek over geleiderails langs...   \n",
       "..                                                 ...   \n",
       "617  Herziening besluit op Woo-verzoek over in- en ...   \n",
       "618  Herziening besluit op Woo-verzoek over in- en ...   \n",
       "619  Herziening besluit op Woo-verzoek over in- en ...   \n",
       "620  Besluit op Woo-verzoek over financiële sanctie...   \n",
       "621  Herziening besluit op Woo-verzoek over in- en ...   \n",
       "\n",
       "                                             Specifiek  \\\n",
       "0    Bijlagen deel 5 bij Woo-besluit over geleidera...   \n",
       "1    Bijlagen deel 1 bij Woo-besluit over geleidera...   \n",
       "2    Bijlagen deel 4 bij Woo-besluit over geleidera...   \n",
       "3    Bijlagen deel 2 bij Woo-besluit over geleidera...   \n",
       "4    Besluit en inventaris bij Woo-verzoek over gel...   \n",
       "..                                                 ...   \n",
       "617  Documenten deel 3 bij Woo-verzoek Ameerega Sil...   \n",
       "618  Documenten deel 2 bij Woo-verzoek Ameerega Sil...   \n",
       "619  Documenten deel 6 bij Woo-verzoek Ameerega Sil...   \n",
       "620  Documenten bij Woo-besluit over financiële san...   \n",
       "621  Besluit, inventaris en documenten deel 1 bij W...   \n",
       "\n",
       "                                     Verantwoordelijke  \\\n",
       "0          Ministerie van Infrastructuur en Waterstaat   \n",
       "1          Ministerie van Infrastructuur en Waterstaat   \n",
       "2          Ministerie van Infrastructuur en Waterstaat   \n",
       "3          Ministerie van Infrastructuur en Waterstaat   \n",
       "4          Ministerie van Infrastructuur en Waterstaat   \n",
       "..                                                 ...   \n",
       "617  Ministerie van Landbouw, Natuur en Voedselkwal...   \n",
       "618  Ministerie van Landbouw, Natuur en Voedselkwal...   \n",
       "619  Ministerie van Landbouw, Natuur en Voedselkwal...   \n",
       "620                  Ministerie van Buitenlandse Zaken   \n",
       "621  Ministerie van Landbouw, Natuur en Voedselkwal...   \n",
       "\n",
       "                                             Thema  \\\n",
       "0                              Rail- en wegverkeer   \n",
       "1                              Rail- en wegverkeer   \n",
       "2                              Rail- en wegverkeer   \n",
       "3                              Rail- en wegverkeer   \n",
       "4                              Rail- en wegverkeer   \n",
       "..                                             ...   \n",
       "617                    Natuur- en landschapsbeheer   \n",
       "618                    Natuur- en landschapsbeheer   \n",
       "619                    Natuur- en landschapsbeheer   \n",
       "620  [Europese zaken, Internationale betrekkingen]   \n",
       "621                    Natuur- en landschapsbeheer   \n",
       "\n",
       "                      Documentsoort Publicatiedatum Documentdatum  \\\n",
       "0    Beslissing op Wob-/Woo-verzoek      02-01-2023    23-12-2022   \n",
       "1    Beslissing op Wob-/Woo-verzoek      02-01-2023    23-12-2022   \n",
       "2    Beslissing op Wob-/Woo-verzoek      02-01-2023    23-12-2022   \n",
       "3    Beslissing op Wob-/Woo-verzoek      02-01-2023    23-12-2022   \n",
       "4    Beslissing op Wob-/Woo-verzoek      02-01-2023    23-12-2022   \n",
       "..                              ...             ...           ...   \n",
       "617  Beslissing op Wob-/Woo-verzoek      02-03-2023    09-02-2023   \n",
       "618  Beslissing op Wob-/Woo-verzoek      02-03-2023    09-02-2023   \n",
       "619  Beslissing op Wob-/Woo-verzoek      02-03-2023    09-02-2023   \n",
       "620  Beslissing op Wob-/Woo-verzoek      02-03-2023    28-02-2023   \n",
       "621  Beslissing op Wob-/Woo-verzoek      02-03-2023    09-02-2023   \n",
       "\n",
       "                               Onderwerp  \\\n",
       "0                                  Wegen   \n",
       "1                                  Wegen   \n",
       "2                                  Wegen   \n",
       "3                                  Wegen   \n",
       "4                                  Wegen   \n",
       "..                                   ...   \n",
       "617             Natuur en biodiversiteit   \n",
       "618             Natuur en biodiversiteit   \n",
       "619             Natuur en biodiversiteit   \n",
       "620  [Europese Unie, Oorlog in Oekraïne]   \n",
       "621             Natuur en biodiversiteit   \n",
       "\n",
       "                                                   url  \n",
       "0    https://open.overheid.nl/documenten/ronl-066ba...  \n",
       "1    https://open.overheid.nl/documenten/ronl-3e22b...  \n",
       "2    https://open.overheid.nl/documenten/ronl-452af...  \n",
       "3    https://open.overheid.nl/documenten/ronl-58d15...  \n",
       "4    https://open.overheid.nl/documenten/ronl-836a0...  \n",
       "..                                                 ...  \n",
       "617  https://open.overheid.nl/documenten/ronl-70a48...  \n",
       "618  https://open.overheid.nl/documenten/ronl-7b5a4...  \n",
       "619  https://open.overheid.nl/documenten/ronl-c564c...  \n",
       "620  https://open.overheid.nl/documenten/ronl-d5e45...  \n",
       "621  https://open.overheid.nl/documenten/ronl-e1598...  \n",
       "\n",
       "[622 rows x 10 columns]"
      ]
     },
     "metadata": {},
     "output_type": "display_data"
    }
   ],
   "source": [
    "# installeer webdriver indien nodig en maak benodigde URL driver\n",
    "driver = webdriver.Chrome(service=Service(ChromeDriverManager().install()))\n",
    "driver.get(\"https://open.overheid.nl/zoekresultaten?datumBeschikbaarVanaf=01-01-2023&sort=date-asc&informatiesoort=c_4f50ca9c&page=1&count=761\")\n",
    "\n",
    "# zet dataframe eerst als none zodat de columns toegevoegd kunnen worden\n",
    "Dataframe = None\n",
    "\n",
    "# de columnnamen zijn opzich ook te verzamelen door middel van Selenium, maar dat is wel onnodig.\n",
    "column=['Titel', 'Verzoek', 'Specifiek', 'Verantwoordelijke', 'Thema', 'Documentsoort', 'Publicatiedatum', 'Documentdatum', 'Onderwerp', 'url']\n",
    "\n",
    "# localiseer alle documenten\n",
    "lists = driver.find_elements(By.CLASS_NAME, 'result--title ')\n",
    "\n",
    "# vind alle URLS in de documenten\n",
    "URLS = []\n",
    "for i in lists:\n",
    "    element = i.find_element(By.TAG_NAME, 'a').get_attribute(\"href\")\n",
    "    URLS.append(element)\n",
    "\n",
    "# loop over al de URLS \n",
    "for i in URLS:\n",
    "    usable = True\n",
    "    \n",
    "    # verander de driver met de nieuwe URL\n",
    "    driver.get(i)\n",
    "    \n",
    "    # vind de titel van het document\n",
    "    title = (driver.find_element(By.CLASS_NAME, \"h2\")).text\n",
    "    \n",
    "    FILE = driver.find_element(By.CLASS_NAME, \"result--list \")\n",
    "    url = FILE.find_elements(By.TAG_NAME, 'a')\n",
    "\n",
    "    url_list = [i.get_attribute('href') for i in url]\n",
    "    \n",
    "    if len(url_list) != 1:\n",
    "        usable = False\n",
    "    \n",
    "    # split titel in twee delen indien mogelijk\n",
    "    split = title.split(\" - \")\n",
    "    if len(split) == 1:\n",
    "        Row = [title, split[0], np.nan]\n",
    "    else:\n",
    "        Row = [title, split[0], split[1]]\n",
    "    \n",
    "    # vind de tabel met data en verzamel de data hieruit\n",
    "    table = driver.find_element(By.CLASS_NAME, \"table__data-overview\")\n",
    "    \n",
    "    for row in table.find_elements(By.XPATH, \".//tr\"):\n",
    "        row_data = row.find_element(By.XPATH, \".//td\").get_attribute('textContent')\n",
    "        \n",
    "        # als de data van een bepaald vak een lijst is maakt deze code er een python list van\n",
    "        if ('\\n') in row_data:\n",
    "            Data = []\n",
    "            \n",
    "            i = row_data.split('\\n')\n",
    "            for item in i:\n",
    "                res = re.findall(r'\\w+', item)\n",
    "                if res != []:\n",
    "                    sentence = ' '.join([str(r) for r in res])\n",
    "                    Data.append(sentence)\n",
    "        else:\n",
    "            Data = row_data\n",
    "        \n",
    "        Row.append(Data)\n",
    "        \n",
    "    # insert kolommmen en rijen in dataframe\n",
    "    if Dataframe is None:\n",
    "        Dataframe = pd.DataFrame(columns=column)\n",
    "\n",
    "    if len(Row) == 8:\n",
    "        Row.append(np.nan)\n",
    "    \n",
    "    if usable == True:\n",
    "        Row.append(url_list[0])\n",
    "        Dataframe.loc[len(Dataframe)] = Row\n",
    "        \n",
    "    # Het verzoek wat hier wordt gepasst heeft een grote kans om alsnog in de database te komen omdat er andere instanties\n",
    "    # zijn waarvan de structuur wel voldoet.\n",
    "    else:\n",
    "        pass\n",
    "    \n",
    "driver.quit()\n",
    "\n",
    "display(Dataframe)"
   ]
  },
  {
   "cell_type": "code",
   "execution_count": 85,
   "id": "d4b7c69c",
   "metadata": {},
   "outputs": [
    {
     "name": "stdout",
     "output_type": "stream",
     "text": [
      "['', '', '', 'Directie Juridische Zaken', '', 'Korte Voorhout 7', '2511 CW  Den Haag', 'Postbus 20201', '2500 EE  Den Haag', 'www.rijksoverheid.nl', '', 'Inlichtingen', 'www.minfin.nl', '', 'Ons kenmerk', '2022-0000284765', '', 'Uw brief (kenmerk)', '3 augustus 2022', '', 'Bijlage', 'A Relevante artikelen Woo  > Retouradres Postbus 20201 2500 EE  Den Haag', '', '', 'Pagina 1 van 4', 'Datum  27 februari 2023', 'Betreft  Besluit op uw Woo verzoek inzake informatie bilaterale', 'bijeenkomst Nederland – Rusland G20 forum 2019', '', '', '', 'Geachte ,', 'In uw verzoek van 3 augustus 2022, door mij op dezelfde dag ontvangen, heeft u mijn ministerie gevraagd informatie openbaar te maken over een bilateraal', 'gesprek tussen Nederland en Rusland op de G20 top in Osaka in 2019.', '', 'U verzoekt om de volgende document en:', '- Overwegingen, overleg, communicatie en besluitvorming van de Minister van', 'Financiën betreffende het tot stand komen van de bilaterale ontmoeting', 'tussen Nederland en Rusland op de G20 top in Osaka Japan ;', '- Overwegingen, overleg, communicatie en besluitvor ming van de Minister van', 'Financiën met de Minister van Buitenlandse Zaken betreffende het tot stand', 'komen van de bilaterale ontmoeting tussen Nederland en Rusland op de G20 top in Osaka Japan ;', '- Overwegingen, overleg, communicatie en besluitvorming van de Mi nister van', 'Financiën met de Minister -president betreffende het tot stand komen van de', 'bilaterale ontmoeting tussen Nederland en Rusland op de G20 top in Osaka Japan , en', '- Overwegingen, overleg, communicatie en besluitvorming van a mbtenaren,', 'bewindspersonen,  ambassadeurs en overige externen betreffende het tot', 'stand komen van de bilaterale ontmoeting tussen Nederland en Rusland op', 'de G20 top in Osaka Japan.', '', 'De ontvangst van uw verzoek heb ik u schriftelijk bevestigd bij brief van 29', 'augustus 2022, met kenmerk 2022- 0000208543.', '', 'Helaas is het niet gelukt om binnen de wettelijke termijn een besluit te nemen op', 'uw verzoek. Daarvoor bied ik u mijn excuses aan.', '', 'Besluit', 'Uw verzoek heeft betrekking op informatie die niet aanwezig is. Derhalve wijs ik u', 'verzoek om informatie af. Hierbij merk ik het volgende op.', '', 'Wettelijk kader', 'Uw verzoek wordt behandeld als een verzoek op basis van de Wet open overheid', '(hierna te noemen: Woo).', '']\n",
      "CPU times: total: 31.2 ms\n",
      "Wall time: 363 ms\n"
     ]
    }
   ],
   "source": [
    "%%time\n",
    "\n",
    "import io\n",
    "from PyPDF2 import PdfReader\n",
    "\n",
    "# Hiermee is het mogelijk om pdf's te lezen uit een pdfreader wellicht waardeloos, maar kan in sommige gevallen wellicht \n",
    "# wel handig blijken want soms is de verzoekdatum wel makkelijk te achthttps://open.overheid.nl/Details/ronl-b1ffb1d37c52ac6e77427cffeaf330381012b589/1#panel-teksterhalen (in uw brief van ... ) om maar een vb te noemen\n",
    "url = 'https://open.overheid.nl/documenten/ronl-9095dee713688ca519fdb5a82090fc5296c27cd7/pdf'\n",
    "\n",
    "r = requests.get(url)\n",
    "f = io.BytesIO(r.content)\n",
    "\n",
    "reader = PdfReader(f)\n",
    "\n",
    "# leest eerste pagina enige mogelijk nuttige pagina lijkt mij\n",
    "contents = reader.pages[0].extract_text().split('\\n')\n",
    "contents = [content.strip() for content in contents]\n",
    "\n",
    "print(contents)"
   ]
  },
  {
   "cell_type": "code",
   "execution_count": 60,
   "id": "952796cd",
   "metadata": {},
   "outputs": [],
   "source": [
    "# Sla het op als csv file zodat dit niet nog een keer gerunt hoeft te worden. Duurde ongeveer 45 minuten namelijk\n",
    "Dataframe.to_csv(r'C:\\Users\\ramon\\Downloads\\WOO2023.csv', index=False)"
   ]
  },
  {
   "cell_type": "code",
   "execution_count": 107,
   "id": "dd6a773c",
   "metadata": {},
   "outputs": [],
   "source": [
    "def eerstwrd(woord):\n",
    "    \n",
    "    eerste2woorden = woord.split(' ')[:2]\n",
    "    string = ' '.join(eerste2woorden)\n",
    "    if 'besluit' in string:\n",
    "        Split = woord.split('besluit')\n",
    "        return 'Besluit' + Split[1]\n",
    "    \n",
    "    elif 'beslissing' in string:\n",
    "        Split = woord.split('beslissing')\n",
    "        return 'Beslissing' + Split[1]\n",
    "    \n",
    "    else:\n",
    "        return woord"
   ]
  },
  {
   "cell_type": "code",
   "execution_count": 126,
   "id": "47d08bd1",
   "metadata": {
    "scrolled": false
   },
   "outputs": [
    {
     "data": {
      "text/html": [
       "<div>\n",
       "<style scoped>\n",
       "    .dataframe tbody tr th:only-of-type {\n",
       "        vertical-align: middle;\n",
       "    }\n",
       "\n",
       "    .dataframe tbody tr th {\n",
       "        vertical-align: top;\n",
       "    }\n",
       "\n",
       "    .dataframe thead th {\n",
       "        text-align: right;\n",
       "    }\n",
       "</style>\n",
       "<table border=\"1\" class=\"dataframe\">\n",
       "  <thead>\n",
       "    <tr style=\"text-align: right;\">\n",
       "      <th></th>\n",
       "      <th>Titel</th>\n",
       "      <th>Verzoek</th>\n",
       "      <th>Specifiek</th>\n",
       "      <th>Verantwoordelijke</th>\n",
       "      <th>Thema</th>\n",
       "      <th>Documentsoort</th>\n",
       "      <th>Publicatiedatum</th>\n",
       "      <th>Documentdatum</th>\n",
       "      <th>Onderwerp</th>\n",
       "      <th>url</th>\n",
       "      <th>year</th>\n",
       "    </tr>\n",
       "  </thead>\n",
       "  <tbody>\n",
       "    <tr>\n",
       "      <th>12</th>\n",
       "      <td>Besluit Woo-verzoek - geen documenten aangetro...</td>\n",
       "      <td>Besluit Woo-verzoek</td>\n",
       "      <td>geen documenten aangetroffen</td>\n",
       "      <td>Ministerie van Justitie en Veiligheid</td>\n",
       "      <td>Onbekend thema</td>\n",
       "      <td>Beslissing op Wob-/Woo-verzoek</td>\n",
       "      <td>03-01-2023</td>\n",
       "      <td>03-01-2023</td>\n",
       "      <td>NaN</td>\n",
       "      <td>https://open.overheid.nl/documenten/ronl-7e84d...</td>\n",
       "      <td>2023</td>\n",
       "    </tr>\n",
       "    <tr>\n",
       "      <th>20</th>\n",
       "      <td>Besluit Woo-verzoek - geen documenten aangetro...</td>\n",
       "      <td>Besluit Woo-verzoek</td>\n",
       "      <td>geen documenten aangetroffen</td>\n",
       "      <td>Ministerie van Justitie en Veiligheid</td>\n",
       "      <td>Onbekend thema</td>\n",
       "      <td>Beslissing op Wob-/Woo-verzoek</td>\n",
       "      <td>03-01-2023</td>\n",
       "      <td>03-01-2023</td>\n",
       "      <td>NaN</td>\n",
       "      <td>https://open.overheid.nl/documenten/ronl-f78aa...</td>\n",
       "      <td>2023</td>\n",
       "    </tr>\n",
       "    <tr>\n",
       "      <th>35</th>\n",
       "      <td>Besluit op Wob-/Woo-verzoek over correspondent...</td>\n",
       "      <td>Besluit op Wob-/Woo-verzoek over correspondent...</td>\n",
       "      <td>Bijlage 1</td>\n",
       "      <td>Ministerie van Infrastructuur en Waterstaat</td>\n",
       "      <td>Openbaar vervoer</td>\n",
       "      <td>Beslissing op Wob-/Woo-verzoek</td>\n",
       "      <td>05-01-2023</td>\n",
       "      <td>03-01-2023</td>\n",
       "      <td>Openbaar vervoer (ov)</td>\n",
       "      <td>https://open.overheid.nl/documenten/ronl-3a77a...</td>\n",
       "      <td>2023</td>\n",
       "    </tr>\n",
       "    <tr>\n",
       "      <th>36</th>\n",
       "      <td>Besluit op Wob-/Woo-verzoek over correspondent...</td>\n",
       "      <td>Besluit op Wob-/Woo-verzoek over correspondent...</td>\n",
       "      <td>Bijlage 4</td>\n",
       "      <td>Ministerie van Infrastructuur en Waterstaat</td>\n",
       "      <td>Openbaar vervoer</td>\n",
       "      <td>Beslissing op Wob-/Woo-verzoek</td>\n",
       "      <td>05-01-2023</td>\n",
       "      <td>03-01-2023</td>\n",
       "      <td>Openbaar vervoer (ov)</td>\n",
       "      <td>https://open.overheid.nl/documenten/ronl-68da5...</td>\n",
       "      <td>2023</td>\n",
       "    </tr>\n",
       "    <tr>\n",
       "      <th>37</th>\n",
       "      <td>Besluit op Wob-/Woo-verzoek over correspondent...</td>\n",
       "      <td>Besluit op Wob-/Woo-verzoek over correspondent...</td>\n",
       "      <td>Bijlage 3</td>\n",
       "      <td>Ministerie van Infrastructuur en Waterstaat</td>\n",
       "      <td>Openbaar vervoer</td>\n",
       "      <td>Beslissing op Wob-/Woo-verzoek</td>\n",
       "      <td>05-01-2023</td>\n",
       "      <td>03-01-2023</td>\n",
       "      <td>Openbaar vervoer (ov)</td>\n",
       "      <td>https://open.overheid.nl/documenten/ronl-77381...</td>\n",
       "      <td>2023</td>\n",
       "    </tr>\n",
       "    <tr>\n",
       "      <th>...</th>\n",
       "      <td>...</td>\n",
       "      <td>...</td>\n",
       "      <td>...</td>\n",
       "      <td>...</td>\n",
       "      <td>...</td>\n",
       "      <td>...</td>\n",
       "      <td>...</td>\n",
       "      <td>...</td>\n",
       "      <td>...</td>\n",
       "      <td>...</td>\n",
       "      <td>...</td>\n",
       "    </tr>\n",
       "    <tr>\n",
       "      <th>617</th>\n",
       "      <td>Herziening besluit op Woo-verzoek over in- en ...</td>\n",
       "      <td>Besluit op Woo-verzoek over in- en uitvoerverg...</td>\n",
       "      <td>Documenten deel 3 bij Woo-verzoek Ameerega Sil...</td>\n",
       "      <td>Ministerie van Landbouw, Natuur en Voedselkwal...</td>\n",
       "      <td>Natuur- en landschapsbeheer</td>\n",
       "      <td>Beslissing op Wob-/Woo-verzoek</td>\n",
       "      <td>02-03-2023</td>\n",
       "      <td>09-02-2023</td>\n",
       "      <td>Natuur en biodiversiteit</td>\n",
       "      <td>https://open.overheid.nl/documenten/ronl-70a48...</td>\n",
       "      <td>2023</td>\n",
       "    </tr>\n",
       "    <tr>\n",
       "      <th>618</th>\n",
       "      <td>Herziening besluit op Woo-verzoek over in- en ...</td>\n",
       "      <td>Besluit op Woo-verzoek over in- en uitvoerverg...</td>\n",
       "      <td>Documenten deel 2 bij Woo-verzoek Ameerega Sil...</td>\n",
       "      <td>Ministerie van Landbouw, Natuur en Voedselkwal...</td>\n",
       "      <td>Natuur- en landschapsbeheer</td>\n",
       "      <td>Beslissing op Wob-/Woo-verzoek</td>\n",
       "      <td>02-03-2023</td>\n",
       "      <td>09-02-2023</td>\n",
       "      <td>Natuur en biodiversiteit</td>\n",
       "      <td>https://open.overheid.nl/documenten/ronl-7b5a4...</td>\n",
       "      <td>2023</td>\n",
       "    </tr>\n",
       "    <tr>\n",
       "      <th>619</th>\n",
       "      <td>Herziening besluit op Woo-verzoek over in- en ...</td>\n",
       "      <td>Besluit op Woo-verzoek over in- en uitvoerverg...</td>\n",
       "      <td>Documenten deel 6 bij Woo-verzoek Ameerega Sil...</td>\n",
       "      <td>Ministerie van Landbouw, Natuur en Voedselkwal...</td>\n",
       "      <td>Natuur- en landschapsbeheer</td>\n",
       "      <td>Beslissing op Wob-/Woo-verzoek</td>\n",
       "      <td>02-03-2023</td>\n",
       "      <td>09-02-2023</td>\n",
       "      <td>Natuur en biodiversiteit</td>\n",
       "      <td>https://open.overheid.nl/documenten/ronl-c564c...</td>\n",
       "      <td>2023</td>\n",
       "    </tr>\n",
       "    <tr>\n",
       "      <th>620</th>\n",
       "      <td>Besluit op Woo-verzoek over financiële sanctie...</td>\n",
       "      <td>Besluit op Woo-verzoek over financiële sanctie...</td>\n",
       "      <td>Documenten bij Woo-besluit over financiële san...</td>\n",
       "      <td>Ministerie van Buitenlandse Zaken</td>\n",
       "      <td>['Europese zaken', 'Internationale betrekkingen']</td>\n",
       "      <td>Beslissing op Wob-/Woo-verzoek</td>\n",
       "      <td>02-03-2023</td>\n",
       "      <td>28-02-2023</td>\n",
       "      <td>['Europese Unie', 'Oorlog in Oekraïne']</td>\n",
       "      <td>https://open.overheid.nl/documenten/ronl-d5e45...</td>\n",
       "      <td>2023</td>\n",
       "    </tr>\n",
       "    <tr>\n",
       "      <th>621</th>\n",
       "      <td>Herziening besluit op Woo-verzoek over in- en ...</td>\n",
       "      <td>Besluit op Woo-verzoek over in- en uitvoerverg...</td>\n",
       "      <td>Besluit, inventaris en documenten deel 1 bij W...</td>\n",
       "      <td>Ministerie van Landbouw, Natuur en Voedselkwal...</td>\n",
       "      <td>Natuur- en landschapsbeheer</td>\n",
       "      <td>Beslissing op Wob-/Woo-verzoek</td>\n",
       "      <td>02-03-2023</td>\n",
       "      <td>09-02-2023</td>\n",
       "      <td>Natuur en biodiversiteit</td>\n",
       "      <td>https://open.overheid.nl/documenten/ronl-e1598...</td>\n",
       "      <td>2023</td>\n",
       "    </tr>\n",
       "  </tbody>\n",
       "</table>\n",
       "<p>428 rows × 11 columns</p>\n",
       "</div>"
      ],
      "text/plain": [
       "                                                 Titel  \\\n",
       "12   Besluit Woo-verzoek - geen documenten aangetro...   \n",
       "20   Besluit Woo-verzoek - geen documenten aangetro...   \n",
       "35   Besluit op Wob-/Woo-verzoek over correspondent...   \n",
       "36   Besluit op Wob-/Woo-verzoek over correspondent...   \n",
       "37   Besluit op Wob-/Woo-verzoek over correspondent...   \n",
       "..                                                 ...   \n",
       "617  Herziening besluit op Woo-verzoek over in- en ...   \n",
       "618  Herziening besluit op Woo-verzoek over in- en ...   \n",
       "619  Herziening besluit op Woo-verzoek over in- en ...   \n",
       "620  Besluit op Woo-verzoek over financiële sanctie...   \n",
       "621  Herziening besluit op Woo-verzoek over in- en ...   \n",
       "\n",
       "                                               Verzoek  \\\n",
       "12                                 Besluit Woo-verzoek   \n",
       "20                                 Besluit Woo-verzoek   \n",
       "35   Besluit op Wob-/Woo-verzoek over correspondent...   \n",
       "36   Besluit op Wob-/Woo-verzoek over correspondent...   \n",
       "37   Besluit op Wob-/Woo-verzoek over correspondent...   \n",
       "..                                                 ...   \n",
       "617  Besluit op Woo-verzoek over in- en uitvoerverg...   \n",
       "618  Besluit op Woo-verzoek over in- en uitvoerverg...   \n",
       "619  Besluit op Woo-verzoek over in- en uitvoerverg...   \n",
       "620  Besluit op Woo-verzoek over financiële sanctie...   \n",
       "621  Besluit op Woo-verzoek over in- en uitvoerverg...   \n",
       "\n",
       "                                             Specifiek  \\\n",
       "12                        geen documenten aangetroffen   \n",
       "20                        geen documenten aangetroffen   \n",
       "35                                           Bijlage 1   \n",
       "36                                           Bijlage 4   \n",
       "37                                           Bijlage 3   \n",
       "..                                                 ...   \n",
       "617  Documenten deel 3 bij Woo-verzoek Ameerega Sil...   \n",
       "618  Documenten deel 2 bij Woo-verzoek Ameerega Sil...   \n",
       "619  Documenten deel 6 bij Woo-verzoek Ameerega Sil...   \n",
       "620  Documenten bij Woo-besluit over financiële san...   \n",
       "621  Besluit, inventaris en documenten deel 1 bij W...   \n",
       "\n",
       "                                     Verantwoordelijke  \\\n",
       "12               Ministerie van Justitie en Veiligheid   \n",
       "20               Ministerie van Justitie en Veiligheid   \n",
       "35         Ministerie van Infrastructuur en Waterstaat   \n",
       "36         Ministerie van Infrastructuur en Waterstaat   \n",
       "37         Ministerie van Infrastructuur en Waterstaat   \n",
       "..                                                 ...   \n",
       "617  Ministerie van Landbouw, Natuur en Voedselkwal...   \n",
       "618  Ministerie van Landbouw, Natuur en Voedselkwal...   \n",
       "619  Ministerie van Landbouw, Natuur en Voedselkwal...   \n",
       "620                  Ministerie van Buitenlandse Zaken   \n",
       "621  Ministerie van Landbouw, Natuur en Voedselkwal...   \n",
       "\n",
       "                                                 Thema  \\\n",
       "12                                      Onbekend thema   \n",
       "20                                      Onbekend thema   \n",
       "35                                    Openbaar vervoer   \n",
       "36                                    Openbaar vervoer   \n",
       "37                                    Openbaar vervoer   \n",
       "..                                                 ...   \n",
       "617                        Natuur- en landschapsbeheer   \n",
       "618                        Natuur- en landschapsbeheer   \n",
       "619                        Natuur- en landschapsbeheer   \n",
       "620  ['Europese zaken', 'Internationale betrekkingen']   \n",
       "621                        Natuur- en landschapsbeheer   \n",
       "\n",
       "                      Documentsoort Publicatiedatum Documentdatum  \\\n",
       "12   Beslissing op Wob-/Woo-verzoek      03-01-2023    03-01-2023   \n",
       "20   Beslissing op Wob-/Woo-verzoek      03-01-2023    03-01-2023   \n",
       "35   Beslissing op Wob-/Woo-verzoek      05-01-2023    03-01-2023   \n",
       "36   Beslissing op Wob-/Woo-verzoek      05-01-2023    03-01-2023   \n",
       "37   Beslissing op Wob-/Woo-verzoek      05-01-2023    03-01-2023   \n",
       "..                              ...             ...           ...   \n",
       "617  Beslissing op Wob-/Woo-verzoek      02-03-2023    09-02-2023   \n",
       "618  Beslissing op Wob-/Woo-verzoek      02-03-2023    09-02-2023   \n",
       "619  Beslissing op Wob-/Woo-verzoek      02-03-2023    09-02-2023   \n",
       "620  Beslissing op Wob-/Woo-verzoek      02-03-2023    28-02-2023   \n",
       "621  Beslissing op Wob-/Woo-verzoek      02-03-2023    09-02-2023   \n",
       "\n",
       "                                   Onderwerp  \\\n",
       "12                                       NaN   \n",
       "20                                       NaN   \n",
       "35                     Openbaar vervoer (ov)   \n",
       "36                     Openbaar vervoer (ov)   \n",
       "37                     Openbaar vervoer (ov)   \n",
       "..                                       ...   \n",
       "617                 Natuur en biodiversiteit   \n",
       "618                 Natuur en biodiversiteit   \n",
       "619                 Natuur en biodiversiteit   \n",
       "620  ['Europese Unie', 'Oorlog in Oekraïne']   \n",
       "621                 Natuur en biodiversiteit   \n",
       "\n",
       "                                                   url  year  \n",
       "12   https://open.overheid.nl/documenten/ronl-7e84d...  2023  \n",
       "20   https://open.overheid.nl/documenten/ronl-f78aa...  2023  \n",
       "35   https://open.overheid.nl/documenten/ronl-3a77a...  2023  \n",
       "36   https://open.overheid.nl/documenten/ronl-68da5...  2023  \n",
       "37   https://open.overheid.nl/documenten/ronl-77381...  2023  \n",
       "..                                                 ...   ...  \n",
       "617  https://open.overheid.nl/documenten/ronl-70a48...  2023  \n",
       "618  https://open.overheid.nl/documenten/ronl-7b5a4...  2023  \n",
       "619  https://open.overheid.nl/documenten/ronl-c564c...  2023  \n",
       "620  https://open.overheid.nl/documenten/ronl-d5e45...  2023  \n",
       "621  https://open.overheid.nl/documenten/ronl-e1598...  2023  \n",
       "\n",
       "[428 rows x 11 columns]"
      ]
     },
     "metadata": {},
     "output_type": "display_data"
    }
   ],
   "source": [
    "# laad de csv als dataframe\n",
    "df = pd.read_csv('WOO2023.csv')\n",
    "\n",
    "# compute het jaar en drop documenten uit 2018\n",
    "df['year'] = df['Documentdatum'].str.slice(-4, )\n",
    "df = df[df['year'] == '2023']\n",
    "df['Verzoek'] = df['Verzoek'].map(lambda x:eerstwrd(x))\n",
    "\n",
    "# deze functie zal het wisselende beginwoord proberen te veranderen naar Besluit of Beslissing\n",
    "df['eerste_woord'] = df['Verzoek'].str.split(' ').str.get(0)\n",
    "\n",
    "\n",
    "\n",
    "# Omdat het moeilijk is om te bepalen welk beginwoord wel of niet te droppen heb ik besloten enkel deze te behouden.\n",
    "woord_list = ['Besluit', 'Wob-verzoek', 'Beslissing', 'Wob-besluit', 'Woo-verzoek','Woo-besluit']\n",
    "\n",
    "df = df[df['eerste_woord'].isin(woord_list)]\n",
    "df = df.drop('eerste_woord', axis=1)\n",
    "\n",
    "display(df)"
   ]
  },
  {
   "cell_type": "code",
   "execution_count": 127,
   "id": "33c69af2",
   "metadata": {},
   "outputs": [
    {
     "data": {
      "text/html": [
       "<div>\n",
       "<style scoped>\n",
       "    .dataframe tbody tr th:only-of-type {\n",
       "        vertical-align: middle;\n",
       "    }\n",
       "\n",
       "    .dataframe tbody tr th {\n",
       "        vertical-align: top;\n",
       "    }\n",
       "\n",
       "    .dataframe thead th {\n",
       "        text-align: right;\n",
       "    }\n",
       "</style>\n",
       "<table border=\"1\" class=\"dataframe\">\n",
       "  <thead>\n",
       "    <tr style=\"text-align: right;\">\n",
       "      <th></th>\n",
       "      <th>Titel</th>\n",
       "      <th>Verzoek</th>\n",
       "      <th>Specifiek</th>\n",
       "      <th>Verantwoordelijke</th>\n",
       "      <th>Thema</th>\n",
       "      <th>Documentsoort</th>\n",
       "      <th>Publicatiedatum</th>\n",
       "      <th>Documentdatum</th>\n",
       "      <th>Onderwerp</th>\n",
       "      <th>url</th>\n",
       "      <th>year</th>\n",
       "      <th>kwartaal</th>\n",
       "    </tr>\n",
       "  </thead>\n",
       "  <tbody>\n",
       "    <tr>\n",
       "      <th>12</th>\n",
       "      <td>Besluit Woo-verzoek - geen documenten aangetro...</td>\n",
       "      <td>Besluit Woo-verzoek</td>\n",
       "      <td>geen documenten aangetroffen</td>\n",
       "      <td>Ministerie van Justitie en Veiligheid</td>\n",
       "      <td>Onbekend thema</td>\n",
       "      <td>Beslissing op Wob-/Woo-verzoek</td>\n",
       "      <td>03-01-2023</td>\n",
       "      <td>03-01-2023</td>\n",
       "      <td>NaN</td>\n",
       "      <td>https://open.overheid.nl/documenten/ronl-7e84d...</td>\n",
       "      <td>2023</td>\n",
       "      <td>1e Kwartaal</td>\n",
       "    </tr>\n",
       "    <tr>\n",
       "      <th>20</th>\n",
       "      <td>Besluit Woo-verzoek - geen documenten aangetro...</td>\n",
       "      <td>Besluit Woo-verzoek</td>\n",
       "      <td>geen documenten aangetroffen</td>\n",
       "      <td>Ministerie van Justitie en Veiligheid</td>\n",
       "      <td>Onbekend thema</td>\n",
       "      <td>Beslissing op Wob-/Woo-verzoek</td>\n",
       "      <td>03-01-2023</td>\n",
       "      <td>03-01-2023</td>\n",
       "      <td>NaN</td>\n",
       "      <td>https://open.overheid.nl/documenten/ronl-f78aa...</td>\n",
       "      <td>2023</td>\n",
       "      <td>1e Kwartaal</td>\n",
       "    </tr>\n",
       "    <tr>\n",
       "      <th>35</th>\n",
       "      <td>Besluit op Wob-/Woo-verzoek over correspondent...</td>\n",
       "      <td>Besluit op Wob-/Woo-verzoek over correspondent...</td>\n",
       "      <td>Bijlage 1</td>\n",
       "      <td>Ministerie van Infrastructuur en Waterstaat</td>\n",
       "      <td>Openbaar vervoer</td>\n",
       "      <td>Beslissing op Wob-/Woo-verzoek</td>\n",
       "      <td>05-01-2023</td>\n",
       "      <td>03-01-2023</td>\n",
       "      <td>Openbaar vervoer (ov)</td>\n",
       "      <td>https://open.overheid.nl/documenten/ronl-3a77a...</td>\n",
       "      <td>2023</td>\n",
       "      <td>1e Kwartaal</td>\n",
       "    </tr>\n",
       "    <tr>\n",
       "      <th>36</th>\n",
       "      <td>Besluit op Wob-/Woo-verzoek over correspondent...</td>\n",
       "      <td>Besluit op Wob-/Woo-verzoek over correspondent...</td>\n",
       "      <td>Bijlage 4</td>\n",
       "      <td>Ministerie van Infrastructuur en Waterstaat</td>\n",
       "      <td>Openbaar vervoer</td>\n",
       "      <td>Beslissing op Wob-/Woo-verzoek</td>\n",
       "      <td>05-01-2023</td>\n",
       "      <td>03-01-2023</td>\n",
       "      <td>Openbaar vervoer (ov)</td>\n",
       "      <td>https://open.overheid.nl/documenten/ronl-68da5...</td>\n",
       "      <td>2023</td>\n",
       "      <td>1e Kwartaal</td>\n",
       "    </tr>\n",
       "    <tr>\n",
       "      <th>37</th>\n",
       "      <td>Besluit op Wob-/Woo-verzoek over correspondent...</td>\n",
       "      <td>Besluit op Wob-/Woo-verzoek over correspondent...</td>\n",
       "      <td>Bijlage 3</td>\n",
       "      <td>Ministerie van Infrastructuur en Waterstaat</td>\n",
       "      <td>Openbaar vervoer</td>\n",
       "      <td>Beslissing op Wob-/Woo-verzoek</td>\n",
       "      <td>05-01-2023</td>\n",
       "      <td>03-01-2023</td>\n",
       "      <td>Openbaar vervoer (ov)</td>\n",
       "      <td>https://open.overheid.nl/documenten/ronl-77381...</td>\n",
       "      <td>2023</td>\n",
       "      <td>1e Kwartaal</td>\n",
       "    </tr>\n",
       "    <tr>\n",
       "      <th>...</th>\n",
       "      <td>...</td>\n",
       "      <td>...</td>\n",
       "      <td>...</td>\n",
       "      <td>...</td>\n",
       "      <td>...</td>\n",
       "      <td>...</td>\n",
       "      <td>...</td>\n",
       "      <td>...</td>\n",
       "      <td>...</td>\n",
       "      <td>...</td>\n",
       "      <td>...</td>\n",
       "      <td>...</td>\n",
       "    </tr>\n",
       "    <tr>\n",
       "      <th>617</th>\n",
       "      <td>Herziening besluit op Woo-verzoek over in- en ...</td>\n",
       "      <td>Besluit op Woo-verzoek over in- en uitvoerverg...</td>\n",
       "      <td>Documenten deel 3 bij Woo-verzoek Ameerega Sil...</td>\n",
       "      <td>Ministerie van Landbouw, Natuur en Voedselkwal...</td>\n",
       "      <td>Natuur- en landschapsbeheer</td>\n",
       "      <td>Beslissing op Wob-/Woo-verzoek</td>\n",
       "      <td>02-03-2023</td>\n",
       "      <td>09-02-2023</td>\n",
       "      <td>Natuur en biodiversiteit</td>\n",
       "      <td>https://open.overheid.nl/documenten/ronl-70a48...</td>\n",
       "      <td>2023</td>\n",
       "      <td>1e Kwartaal</td>\n",
       "    </tr>\n",
       "    <tr>\n",
       "      <th>618</th>\n",
       "      <td>Herziening besluit op Woo-verzoek over in- en ...</td>\n",
       "      <td>Besluit op Woo-verzoek over in- en uitvoerverg...</td>\n",
       "      <td>Documenten deel 2 bij Woo-verzoek Ameerega Sil...</td>\n",
       "      <td>Ministerie van Landbouw, Natuur en Voedselkwal...</td>\n",
       "      <td>Natuur- en landschapsbeheer</td>\n",
       "      <td>Beslissing op Wob-/Woo-verzoek</td>\n",
       "      <td>02-03-2023</td>\n",
       "      <td>09-02-2023</td>\n",
       "      <td>Natuur en biodiversiteit</td>\n",
       "      <td>https://open.overheid.nl/documenten/ronl-7b5a4...</td>\n",
       "      <td>2023</td>\n",
       "      <td>1e Kwartaal</td>\n",
       "    </tr>\n",
       "    <tr>\n",
       "      <th>619</th>\n",
       "      <td>Herziening besluit op Woo-verzoek over in- en ...</td>\n",
       "      <td>Besluit op Woo-verzoek over in- en uitvoerverg...</td>\n",
       "      <td>Documenten deel 6 bij Woo-verzoek Ameerega Sil...</td>\n",
       "      <td>Ministerie van Landbouw, Natuur en Voedselkwal...</td>\n",
       "      <td>Natuur- en landschapsbeheer</td>\n",
       "      <td>Beslissing op Wob-/Woo-verzoek</td>\n",
       "      <td>02-03-2023</td>\n",
       "      <td>09-02-2023</td>\n",
       "      <td>Natuur en biodiversiteit</td>\n",
       "      <td>https://open.overheid.nl/documenten/ronl-c564c...</td>\n",
       "      <td>2023</td>\n",
       "      <td>1e Kwartaal</td>\n",
       "    </tr>\n",
       "    <tr>\n",
       "      <th>620</th>\n",
       "      <td>Besluit op Woo-verzoek over financiële sanctie...</td>\n",
       "      <td>Besluit op Woo-verzoek over financiële sanctie...</td>\n",
       "      <td>Documenten bij Woo-besluit over financiële san...</td>\n",
       "      <td>Ministerie van Buitenlandse Zaken</td>\n",
       "      <td>['Europese zaken', 'Internationale betrekkingen']</td>\n",
       "      <td>Beslissing op Wob-/Woo-verzoek</td>\n",
       "      <td>02-03-2023</td>\n",
       "      <td>28-02-2023</td>\n",
       "      <td>['Europese Unie', 'Oorlog in Oekraïne']</td>\n",
       "      <td>https://open.overheid.nl/documenten/ronl-d5e45...</td>\n",
       "      <td>2023</td>\n",
       "      <td>1e Kwartaal</td>\n",
       "    </tr>\n",
       "    <tr>\n",
       "      <th>621</th>\n",
       "      <td>Herziening besluit op Woo-verzoek over in- en ...</td>\n",
       "      <td>Besluit op Woo-verzoek over in- en uitvoerverg...</td>\n",
       "      <td>Besluit, inventaris en documenten deel 1 bij W...</td>\n",
       "      <td>Ministerie van Landbouw, Natuur en Voedselkwal...</td>\n",
       "      <td>Natuur- en landschapsbeheer</td>\n",
       "      <td>Beslissing op Wob-/Woo-verzoek</td>\n",
       "      <td>02-03-2023</td>\n",
       "      <td>09-02-2023</td>\n",
       "      <td>Natuur en biodiversiteit</td>\n",
       "      <td>https://open.overheid.nl/documenten/ronl-e1598...</td>\n",
       "      <td>2023</td>\n",
       "      <td>1e Kwartaal</td>\n",
       "    </tr>\n",
       "  </tbody>\n",
       "</table>\n",
       "<p>428 rows × 12 columns</p>\n",
       "</div>"
      ],
      "text/plain": [
       "                                                 Titel  \\\n",
       "12   Besluit Woo-verzoek - geen documenten aangetro...   \n",
       "20   Besluit Woo-verzoek - geen documenten aangetro...   \n",
       "35   Besluit op Wob-/Woo-verzoek over correspondent...   \n",
       "36   Besluit op Wob-/Woo-verzoek over correspondent...   \n",
       "37   Besluit op Wob-/Woo-verzoek over correspondent...   \n",
       "..                                                 ...   \n",
       "617  Herziening besluit op Woo-verzoek over in- en ...   \n",
       "618  Herziening besluit op Woo-verzoek over in- en ...   \n",
       "619  Herziening besluit op Woo-verzoek over in- en ...   \n",
       "620  Besluit op Woo-verzoek over financiële sanctie...   \n",
       "621  Herziening besluit op Woo-verzoek over in- en ...   \n",
       "\n",
       "                                               Verzoek  \\\n",
       "12                                 Besluit Woo-verzoek   \n",
       "20                                 Besluit Woo-verzoek   \n",
       "35   Besluit op Wob-/Woo-verzoek over correspondent...   \n",
       "36   Besluit op Wob-/Woo-verzoek over correspondent...   \n",
       "37   Besluit op Wob-/Woo-verzoek over correspondent...   \n",
       "..                                                 ...   \n",
       "617  Besluit op Woo-verzoek over in- en uitvoerverg...   \n",
       "618  Besluit op Woo-verzoek over in- en uitvoerverg...   \n",
       "619  Besluit op Woo-verzoek over in- en uitvoerverg...   \n",
       "620  Besluit op Woo-verzoek over financiële sanctie...   \n",
       "621  Besluit op Woo-verzoek over in- en uitvoerverg...   \n",
       "\n",
       "                                             Specifiek  \\\n",
       "12                        geen documenten aangetroffen   \n",
       "20                        geen documenten aangetroffen   \n",
       "35                                           Bijlage 1   \n",
       "36                                           Bijlage 4   \n",
       "37                                           Bijlage 3   \n",
       "..                                                 ...   \n",
       "617  Documenten deel 3 bij Woo-verzoek Ameerega Sil...   \n",
       "618  Documenten deel 2 bij Woo-verzoek Ameerega Sil...   \n",
       "619  Documenten deel 6 bij Woo-verzoek Ameerega Sil...   \n",
       "620  Documenten bij Woo-besluit over financiële san...   \n",
       "621  Besluit, inventaris en documenten deel 1 bij W...   \n",
       "\n",
       "                                     Verantwoordelijke  \\\n",
       "12               Ministerie van Justitie en Veiligheid   \n",
       "20               Ministerie van Justitie en Veiligheid   \n",
       "35         Ministerie van Infrastructuur en Waterstaat   \n",
       "36         Ministerie van Infrastructuur en Waterstaat   \n",
       "37         Ministerie van Infrastructuur en Waterstaat   \n",
       "..                                                 ...   \n",
       "617  Ministerie van Landbouw, Natuur en Voedselkwal...   \n",
       "618  Ministerie van Landbouw, Natuur en Voedselkwal...   \n",
       "619  Ministerie van Landbouw, Natuur en Voedselkwal...   \n",
       "620                  Ministerie van Buitenlandse Zaken   \n",
       "621  Ministerie van Landbouw, Natuur en Voedselkwal...   \n",
       "\n",
       "                                                 Thema  \\\n",
       "12                                      Onbekend thema   \n",
       "20                                      Onbekend thema   \n",
       "35                                    Openbaar vervoer   \n",
       "36                                    Openbaar vervoer   \n",
       "37                                    Openbaar vervoer   \n",
       "..                                                 ...   \n",
       "617                        Natuur- en landschapsbeheer   \n",
       "618                        Natuur- en landschapsbeheer   \n",
       "619                        Natuur- en landschapsbeheer   \n",
       "620  ['Europese zaken', 'Internationale betrekkingen']   \n",
       "621                        Natuur- en landschapsbeheer   \n",
       "\n",
       "                      Documentsoort Publicatiedatum Documentdatum  \\\n",
       "12   Beslissing op Wob-/Woo-verzoek      03-01-2023    03-01-2023   \n",
       "20   Beslissing op Wob-/Woo-verzoek      03-01-2023    03-01-2023   \n",
       "35   Beslissing op Wob-/Woo-verzoek      05-01-2023    03-01-2023   \n",
       "36   Beslissing op Wob-/Woo-verzoek      05-01-2023    03-01-2023   \n",
       "37   Beslissing op Wob-/Woo-verzoek      05-01-2023    03-01-2023   \n",
       "..                              ...             ...           ...   \n",
       "617  Beslissing op Wob-/Woo-verzoek      02-03-2023    09-02-2023   \n",
       "618  Beslissing op Wob-/Woo-verzoek      02-03-2023    09-02-2023   \n",
       "619  Beslissing op Wob-/Woo-verzoek      02-03-2023    09-02-2023   \n",
       "620  Beslissing op Wob-/Woo-verzoek      02-03-2023    28-02-2023   \n",
       "621  Beslissing op Wob-/Woo-verzoek      02-03-2023    09-02-2023   \n",
       "\n",
       "                                   Onderwerp  \\\n",
       "12                                       NaN   \n",
       "20                                       NaN   \n",
       "35                     Openbaar vervoer (ov)   \n",
       "36                     Openbaar vervoer (ov)   \n",
       "37                     Openbaar vervoer (ov)   \n",
       "..                                       ...   \n",
       "617                 Natuur en biodiversiteit   \n",
       "618                 Natuur en biodiversiteit   \n",
       "619                 Natuur en biodiversiteit   \n",
       "620  ['Europese Unie', 'Oorlog in Oekraïne']   \n",
       "621                 Natuur en biodiversiteit   \n",
       "\n",
       "                                                   url  year     kwartaal  \n",
       "12   https://open.overheid.nl/documenten/ronl-7e84d...  2023  1e Kwartaal  \n",
       "20   https://open.overheid.nl/documenten/ronl-f78aa...  2023  1e Kwartaal  \n",
       "35   https://open.overheid.nl/documenten/ronl-3a77a...  2023  1e Kwartaal  \n",
       "36   https://open.overheid.nl/documenten/ronl-68da5...  2023  1e Kwartaal  \n",
       "37   https://open.overheid.nl/documenten/ronl-77381...  2023  1e Kwartaal  \n",
       "..                                                 ...   ...          ...  \n",
       "617  https://open.overheid.nl/documenten/ronl-70a48...  2023  1e Kwartaal  \n",
       "618  https://open.overheid.nl/documenten/ronl-7b5a4...  2023  1e Kwartaal  \n",
       "619  https://open.overheid.nl/documenten/ronl-c564c...  2023  1e Kwartaal  \n",
       "620  https://open.overheid.nl/documenten/ronl-d5e45...  2023  1e Kwartaal  \n",
       "621  https://open.overheid.nl/documenten/ronl-e1598...  2023  1e Kwartaal  \n",
       "\n",
       "[428 rows x 12 columns]"
      ]
     },
     "metadata": {},
     "output_type": "display_data"
    }
   ],
   "source": [
    "import math\n",
    "\n",
    "def datum_naar_kwartaal(datum):\n",
    "    \"\"\"\" Functie om datum om te zetten naar kwartaal\"\"\"\n",
    "    \n",
    "    maand = int(datum[3:5])\n",
    "    kwartaal = math.ceil(maand / 3)\n",
    "    return f\"{kwartaal}e Kwartaal\"\n",
    "    \n",
    "df['kwartaal'] = df['Publicatiedatum'].map(datum_naar_kwartaal)\n",
    "display(df)"
   ]
  },
  {
   "cell_type": "code",
   "execution_count": 128,
   "id": "ba7cf37e",
   "metadata": {
    "scrolled": false
   },
   "outputs": [
    {
     "name": "stdout",
     "output_type": "stream",
     "text": [
      "[('Besluit', 399), ('Beslissing', 26), ('Woo-verzoek', 3)]\n"
     ]
    }
   ],
   "source": [
    "from collections import Counter\n",
    "\n",
    "words = []\n",
    "\n",
    "for i in df.Verzoek:\n",
    "    i = i.split(' ', 1)\n",
    "    words.append(i[0])\n",
    "        \n",
    "X = Counter(words).most_common()\n",
    "\n",
    "print(X)"
   ]
  },
  {
   "cell_type": "code",
   "execution_count": 129,
   "id": "cac226c1",
   "metadata": {},
   "outputs": [
    {
     "name": "stdout",
     "output_type": "stream",
     "text": [
      "Titels: 162\n",
      "[('Besluit', 153), ('Beslissing', 8), ('Woo-verzoek', 1)]\n"
     ]
    }
   ],
   "source": [
    "titels = set()\n",
    "for i in df.Verzoek:\n",
    "    titels.add(i)\n",
    "    \n",
    "print('Titels:', len(titels))\n",
    "\n",
    "eerste_woord = []\n",
    "for i in titels:\n",
    "    x = i.split(' ')\n",
    "    eerste_woord.append(x[0])\n",
    "    \n",
    "print(Counter(eerste_woord).most_common())\n"
   ]
  },
  {
   "cell_type": "code",
   "execution_count": 137,
   "id": "bd1074ea",
   "metadata": {},
   "outputs": [
    {
     "data": {
      "text/plain": [
       "Verantwoordelijke\n",
       "Ministerie van Binnenlandse Zaken en Koninkrijksrelaties    21\n",
       "Ministerie van Buitenlandse Zaken                            9\n",
       "Ministerie van Defensie                                      6\n",
       "Ministerie van Economische Zaken en Klimaat                 14\n",
       "Ministerie van Financiën                                    28\n",
       "Ministerie van Infrastructuur en Waterstaat                 10\n",
       "Ministerie van Justitie en Veiligheid                       15\n",
       "Ministerie van Landbouw, Natuur en Voedselkwaliteit         45\n",
       "Ministerie van Onderwijs, Cultuur en Wetenschap              6\n",
       "Ministerie van Sociale Zaken en Werkgelegenheid              6\n",
       "Ministerie van Volksgezondheid, Welzijn en Sport             2\n",
       "Name: Verantwoordelijke, dtype: int64"
      ]
     },
     "metadata": {},
     "output_type": "display_data"
    }
   ],
   "source": [
    "Data1 = df.copy()\n",
    "Data1 = Data1.drop_duplicates(subset = ['Verzoek'])\n",
    "Data1 = Data1.groupby(['Verantwoordelijke'])['Verantwoordelijke'].count()\n",
    "\n",
    "display(Data1)\n",
    "\n",
    "Data1.to_csv(r'C:\\Users\\ramon\\Downloads\\TestPlot.csv')"
   ]
  },
  {
   "cell_type": "code",
   "execution_count": 140,
   "id": "3f5dd12b",
   "metadata": {},
   "outputs": [
    {
     "data": {
      "application/vnd.plotly.v1+json": {
       "config": {
        "plotlyServerURL": "https://plot.ly"
       },
       "data": [
        {
         "alignmentgroup": "True",
         "cliponaxis": false,
         "hovertemplate": "x=%{x}<br>y=%{y}<extra></extra>",
         "legendgroup": "",
         "marker": {
          "color": "#636efa",
          "pattern": {
           "shape": ""
          }
         },
         "name": "",
         "offsetgroup": "",
         "orientation": "h",
         "showlegend": false,
         "textangle": 0,
         "textfont": {
          "size": 12
         },
         "textposition": "outside",
         "texttemplate": "%{x:1s}",
         "type": "bar",
         "x": [
          21,
          9,
          6,
          14,
          28,
          10,
          15,
          45,
          6,
          6,
          2
         ],
         "xaxis": "x",
         "y": [
          "Ministerie van Binnenlandse Zaken en Koninkrijksrelaties",
          "Ministerie van Buitenlandse Zaken",
          "Ministerie van Defensie",
          "Ministerie van Economische Zaken en Klimaat",
          "Ministerie van Financiën",
          "Ministerie van Infrastructuur en Waterstaat",
          "Ministerie van Justitie en Veiligheid",
          "Ministerie van Landbouw, Natuur en Voedselkwaliteit",
          "Ministerie van Onderwijs, Cultuur en Wetenschap",
          "Ministerie van Sociale Zaken en Werkgelegenheid",
          "Ministerie van Volksgezondheid, Welzijn en Sport"
         ],
         "yaxis": "y"
        }
       ],
       "layout": {
        "barmode": "relative",
        "legend": {
         "tracegroupgap": 0
        },
        "template": {
         "data": {
          "bar": [
           {
            "error_x": {
             "color": "#2a3f5f"
            },
            "error_y": {
             "color": "#2a3f5f"
            },
            "marker": {
             "line": {
              "color": "#E5ECF6",
              "width": 0.5
             },
             "pattern": {
              "fillmode": "overlay",
              "size": 10,
              "solidity": 0.2
             }
            },
            "type": "bar"
           }
          ],
          "barpolar": [
           {
            "marker": {
             "line": {
              "color": "#E5ECF6",
              "width": 0.5
             },
             "pattern": {
              "fillmode": "overlay",
              "size": 10,
              "solidity": 0.2
             }
            },
            "type": "barpolar"
           }
          ],
          "carpet": [
           {
            "aaxis": {
             "endlinecolor": "#2a3f5f",
             "gridcolor": "white",
             "linecolor": "white",
             "minorgridcolor": "white",
             "startlinecolor": "#2a3f5f"
            },
            "baxis": {
             "endlinecolor": "#2a3f5f",
             "gridcolor": "white",
             "linecolor": "white",
             "minorgridcolor": "white",
             "startlinecolor": "#2a3f5f"
            },
            "type": "carpet"
           }
          ],
          "choropleth": [
           {
            "colorbar": {
             "outlinewidth": 0,
             "ticks": ""
            },
            "type": "choropleth"
           }
          ],
          "contour": [
           {
            "colorbar": {
             "outlinewidth": 0,
             "ticks": ""
            },
            "colorscale": [
             [
              0,
              "#0d0887"
             ],
             [
              0.1111111111111111,
              "#46039f"
             ],
             [
              0.2222222222222222,
              "#7201a8"
             ],
             [
              0.3333333333333333,
              "#9c179e"
             ],
             [
              0.4444444444444444,
              "#bd3786"
             ],
             [
              0.5555555555555556,
              "#d8576b"
             ],
             [
              0.6666666666666666,
              "#ed7953"
             ],
             [
              0.7777777777777778,
              "#fb9f3a"
             ],
             [
              0.8888888888888888,
              "#fdca26"
             ],
             [
              1,
              "#f0f921"
             ]
            ],
            "type": "contour"
           }
          ],
          "contourcarpet": [
           {
            "colorbar": {
             "outlinewidth": 0,
             "ticks": ""
            },
            "type": "contourcarpet"
           }
          ],
          "heatmap": [
           {
            "colorbar": {
             "outlinewidth": 0,
             "ticks": ""
            },
            "colorscale": [
             [
              0,
              "#0d0887"
             ],
             [
              0.1111111111111111,
              "#46039f"
             ],
             [
              0.2222222222222222,
              "#7201a8"
             ],
             [
              0.3333333333333333,
              "#9c179e"
             ],
             [
              0.4444444444444444,
              "#bd3786"
             ],
             [
              0.5555555555555556,
              "#d8576b"
             ],
             [
              0.6666666666666666,
              "#ed7953"
             ],
             [
              0.7777777777777778,
              "#fb9f3a"
             ],
             [
              0.8888888888888888,
              "#fdca26"
             ],
             [
              1,
              "#f0f921"
             ]
            ],
            "type": "heatmap"
           }
          ],
          "heatmapgl": [
           {
            "colorbar": {
             "outlinewidth": 0,
             "ticks": ""
            },
            "colorscale": [
             [
              0,
              "#0d0887"
             ],
             [
              0.1111111111111111,
              "#46039f"
             ],
             [
              0.2222222222222222,
              "#7201a8"
             ],
             [
              0.3333333333333333,
              "#9c179e"
             ],
             [
              0.4444444444444444,
              "#bd3786"
             ],
             [
              0.5555555555555556,
              "#d8576b"
             ],
             [
              0.6666666666666666,
              "#ed7953"
             ],
             [
              0.7777777777777778,
              "#fb9f3a"
             ],
             [
              0.8888888888888888,
              "#fdca26"
             ],
             [
              1,
              "#f0f921"
             ]
            ],
            "type": "heatmapgl"
           }
          ],
          "histogram": [
           {
            "marker": {
             "pattern": {
              "fillmode": "overlay",
              "size": 10,
              "solidity": 0.2
             }
            },
            "type": "histogram"
           }
          ],
          "histogram2d": [
           {
            "colorbar": {
             "outlinewidth": 0,
             "ticks": ""
            },
            "colorscale": [
             [
              0,
              "#0d0887"
             ],
             [
              0.1111111111111111,
              "#46039f"
             ],
             [
              0.2222222222222222,
              "#7201a8"
             ],
             [
              0.3333333333333333,
              "#9c179e"
             ],
             [
              0.4444444444444444,
              "#bd3786"
             ],
             [
              0.5555555555555556,
              "#d8576b"
             ],
             [
              0.6666666666666666,
              "#ed7953"
             ],
             [
              0.7777777777777778,
              "#fb9f3a"
             ],
             [
              0.8888888888888888,
              "#fdca26"
             ],
             [
              1,
              "#f0f921"
             ]
            ],
            "type": "histogram2d"
           }
          ],
          "histogram2dcontour": [
           {
            "colorbar": {
             "outlinewidth": 0,
             "ticks": ""
            },
            "colorscale": [
             [
              0,
              "#0d0887"
             ],
             [
              0.1111111111111111,
              "#46039f"
             ],
             [
              0.2222222222222222,
              "#7201a8"
             ],
             [
              0.3333333333333333,
              "#9c179e"
             ],
             [
              0.4444444444444444,
              "#bd3786"
             ],
             [
              0.5555555555555556,
              "#d8576b"
             ],
             [
              0.6666666666666666,
              "#ed7953"
             ],
             [
              0.7777777777777778,
              "#fb9f3a"
             ],
             [
              0.8888888888888888,
              "#fdca26"
             ],
             [
              1,
              "#f0f921"
             ]
            ],
            "type": "histogram2dcontour"
           }
          ],
          "mesh3d": [
           {
            "colorbar": {
             "outlinewidth": 0,
             "ticks": ""
            },
            "type": "mesh3d"
           }
          ],
          "parcoords": [
           {
            "line": {
             "colorbar": {
              "outlinewidth": 0,
              "ticks": ""
             }
            },
            "type": "parcoords"
           }
          ],
          "pie": [
           {
            "automargin": true,
            "type": "pie"
           }
          ],
          "scatter": [
           {
            "marker": {
             "colorbar": {
              "outlinewidth": 0,
              "ticks": ""
             }
            },
            "type": "scatter"
           }
          ],
          "scatter3d": [
           {
            "line": {
             "colorbar": {
              "outlinewidth": 0,
              "ticks": ""
             }
            },
            "marker": {
             "colorbar": {
              "outlinewidth": 0,
              "ticks": ""
             }
            },
            "type": "scatter3d"
           }
          ],
          "scattercarpet": [
           {
            "marker": {
             "colorbar": {
              "outlinewidth": 0,
              "ticks": ""
             }
            },
            "type": "scattercarpet"
           }
          ],
          "scattergeo": [
           {
            "marker": {
             "colorbar": {
              "outlinewidth": 0,
              "ticks": ""
             }
            },
            "type": "scattergeo"
           }
          ],
          "scattergl": [
           {
            "marker": {
             "colorbar": {
              "outlinewidth": 0,
              "ticks": ""
             }
            },
            "type": "scattergl"
           }
          ],
          "scattermapbox": [
           {
            "marker": {
             "colorbar": {
              "outlinewidth": 0,
              "ticks": ""
             }
            },
            "type": "scattermapbox"
           }
          ],
          "scatterpolar": [
           {
            "marker": {
             "colorbar": {
              "outlinewidth": 0,
              "ticks": ""
             }
            },
            "type": "scatterpolar"
           }
          ],
          "scatterpolargl": [
           {
            "marker": {
             "colorbar": {
              "outlinewidth": 0,
              "ticks": ""
             }
            },
            "type": "scatterpolargl"
           }
          ],
          "scatterternary": [
           {
            "marker": {
             "colorbar": {
              "outlinewidth": 0,
              "ticks": ""
             }
            },
            "type": "scatterternary"
           }
          ],
          "surface": [
           {
            "colorbar": {
             "outlinewidth": 0,
             "ticks": ""
            },
            "colorscale": [
             [
              0,
              "#0d0887"
             ],
             [
              0.1111111111111111,
              "#46039f"
             ],
             [
              0.2222222222222222,
              "#7201a8"
             ],
             [
              0.3333333333333333,
              "#9c179e"
             ],
             [
              0.4444444444444444,
              "#bd3786"
             ],
             [
              0.5555555555555556,
              "#d8576b"
             ],
             [
              0.6666666666666666,
              "#ed7953"
             ],
             [
              0.7777777777777778,
              "#fb9f3a"
             ],
             [
              0.8888888888888888,
              "#fdca26"
             ],
             [
              1,
              "#f0f921"
             ]
            ],
            "type": "surface"
           }
          ],
          "table": [
           {
            "cells": {
             "fill": {
              "color": "#EBF0F8"
             },
             "line": {
              "color": "white"
             }
            },
            "header": {
             "fill": {
              "color": "#C8D4E3"
             },
             "line": {
              "color": "white"
             }
            },
            "type": "table"
           }
          ]
         },
         "layout": {
          "annotationdefaults": {
           "arrowcolor": "#2a3f5f",
           "arrowhead": 0,
           "arrowwidth": 1
          },
          "autotypenumbers": "strict",
          "coloraxis": {
           "colorbar": {
            "outlinewidth": 0,
            "ticks": ""
           }
          },
          "colorscale": {
           "diverging": [
            [
             0,
             "#8e0152"
            ],
            [
             0.1,
             "#c51b7d"
            ],
            [
             0.2,
             "#de77ae"
            ],
            [
             0.3,
             "#f1b6da"
            ],
            [
             0.4,
             "#fde0ef"
            ],
            [
             0.5,
             "#f7f7f7"
            ],
            [
             0.6,
             "#e6f5d0"
            ],
            [
             0.7,
             "#b8e186"
            ],
            [
             0.8,
             "#7fbc41"
            ],
            [
             0.9,
             "#4d9221"
            ],
            [
             1,
             "#276419"
            ]
           ],
           "sequential": [
            [
             0,
             "#0d0887"
            ],
            [
             0.1111111111111111,
             "#46039f"
            ],
            [
             0.2222222222222222,
             "#7201a8"
            ],
            [
             0.3333333333333333,
             "#9c179e"
            ],
            [
             0.4444444444444444,
             "#bd3786"
            ],
            [
             0.5555555555555556,
             "#d8576b"
            ],
            [
             0.6666666666666666,
             "#ed7953"
            ],
            [
             0.7777777777777778,
             "#fb9f3a"
            ],
            [
             0.8888888888888888,
             "#fdca26"
            ],
            [
             1,
             "#f0f921"
            ]
           ],
           "sequentialminus": [
            [
             0,
             "#0d0887"
            ],
            [
             0.1111111111111111,
             "#46039f"
            ],
            [
             0.2222222222222222,
             "#7201a8"
            ],
            [
             0.3333333333333333,
             "#9c179e"
            ],
            [
             0.4444444444444444,
             "#bd3786"
            ],
            [
             0.5555555555555556,
             "#d8576b"
            ],
            [
             0.6666666666666666,
             "#ed7953"
            ],
            [
             0.7777777777777778,
             "#fb9f3a"
            ],
            [
             0.8888888888888888,
             "#fdca26"
            ],
            [
             1,
             "#f0f921"
            ]
           ]
          },
          "colorway": [
           "#636efa",
           "#EF553B",
           "#00cc96",
           "#ab63fa",
           "#FFA15A",
           "#19d3f3",
           "#FF6692",
           "#B6E880",
           "#FF97FF",
           "#FECB52"
          ],
          "font": {
           "color": "#2a3f5f"
          },
          "geo": {
           "bgcolor": "white",
           "lakecolor": "white",
           "landcolor": "#E5ECF6",
           "showlakes": true,
           "showland": true,
           "subunitcolor": "white"
          },
          "hoverlabel": {
           "align": "left"
          },
          "hovermode": "closest",
          "mapbox": {
           "style": "light"
          },
          "paper_bgcolor": "white",
          "plot_bgcolor": "#E5ECF6",
          "polar": {
           "angularaxis": {
            "gridcolor": "white",
            "linecolor": "white",
            "ticks": ""
           },
           "bgcolor": "#E5ECF6",
           "radialaxis": {
            "gridcolor": "white",
            "linecolor": "white",
            "ticks": ""
           }
          },
          "scene": {
           "xaxis": {
            "backgroundcolor": "#E5ECF6",
            "gridcolor": "white",
            "gridwidth": 2,
            "linecolor": "white",
            "showbackground": true,
            "ticks": "",
            "zerolinecolor": "white"
           },
           "yaxis": {
            "backgroundcolor": "#E5ECF6",
            "gridcolor": "white",
            "gridwidth": 2,
            "linecolor": "white",
            "showbackground": true,
            "ticks": "",
            "zerolinecolor": "white"
           },
           "zaxis": {
            "backgroundcolor": "#E5ECF6",
            "gridcolor": "white",
            "gridwidth": 2,
            "linecolor": "white",
            "showbackground": true,
            "ticks": "",
            "zerolinecolor": "white"
           }
          },
          "shapedefaults": {
           "line": {
            "color": "#2a3f5f"
           }
          },
          "ternary": {
           "aaxis": {
            "gridcolor": "white",
            "linecolor": "white",
            "ticks": ""
           },
           "baxis": {
            "gridcolor": "white",
            "linecolor": "white",
            "ticks": ""
           },
           "bgcolor": "#E5ECF6",
           "caxis": {
            "gridcolor": "white",
            "linecolor": "white",
            "ticks": ""
           }
          },
          "title": {
           "x": 0.05
          },
          "xaxis": {
           "automargin": true,
           "gridcolor": "white",
           "linecolor": "white",
           "ticks": "",
           "title": {
            "standoff": 15
           },
           "zerolinecolor": "white",
           "zerolinewidth": 2
          },
          "yaxis": {
           "automargin": true,
           "gridcolor": "white",
           "linecolor": "white",
           "ticks": "",
           "title": {
            "standoff": 15
           },
           "zerolinecolor": "white",
           "zerolinewidth": 2
          }
         }
        },
        "title": {
         "text": "Aantal WOO/WOB verzoeken per Ministerie"
        },
        "xaxis": {
         "anchor": "y",
         "domain": [
          0,
          1
         ],
         "title": {
          "text": "x"
         }
        },
        "yaxis": {
         "anchor": "x",
         "domain": [
          0,
          1
         ],
         "title": {
          "text": "y"
         }
        }
       }
      },
      "text/html": [
       "<div>                            <div id=\"cb5d6195-56c5-42d3-907e-b1e5e977985e\" class=\"plotly-graph-div\" style=\"height:525px; width:100%;\"></div>            <script type=\"text/javascript\">                require([\"plotly\"], function(Plotly) {                    window.PLOTLYENV=window.PLOTLYENV || {};                                    if (document.getElementById(\"cb5d6195-56c5-42d3-907e-b1e5e977985e\")) {                    Plotly.newPlot(                        \"cb5d6195-56c5-42d3-907e-b1e5e977985e\",                        [{\"alignmentgroup\":\"True\",\"hovertemplate\":\"x=%{x}<br>y=%{y}<extra></extra>\",\"legendgroup\":\"\",\"marker\":{\"color\":\"#636efa\",\"pattern\":{\"shape\":\"\"}},\"name\":\"\",\"offsetgroup\":\"\",\"orientation\":\"h\",\"showlegend\":false,\"textposition\":\"outside\",\"texttemplate\":\"%{x:1s}\",\"x\":[21,9,6,14,28,10,15,45,6,6,2],\"xaxis\":\"x\",\"y\":[\"Ministerie van Binnenlandse Zaken en Koninkrijksrelaties\",\"Ministerie van Buitenlandse Zaken\",\"Ministerie van Defensie\",\"Ministerie van Economische Zaken en Klimaat\",\"Ministerie van Financi\\u00ebn\",\"Ministerie van Infrastructuur en Waterstaat\",\"Ministerie van Justitie en Veiligheid\",\"Ministerie van Landbouw, Natuur en Voedselkwaliteit\",\"Ministerie van Onderwijs, Cultuur en Wetenschap\",\"Ministerie van Sociale Zaken en Werkgelegenheid\",\"Ministerie van Volksgezondheid, Welzijn en Sport\"],\"yaxis\":\"y\",\"type\":\"bar\",\"textfont\":{\"size\":12},\"cliponaxis\":false,\"textangle\":0}],                        {\"template\":{\"data\":{\"bar\":[{\"error_x\":{\"color\":\"#2a3f5f\"},\"error_y\":{\"color\":\"#2a3f5f\"},\"marker\":{\"line\":{\"color\":\"#E5ECF6\",\"width\":0.5},\"pattern\":{\"fillmode\":\"overlay\",\"size\":10,\"solidity\":0.2}},\"type\":\"bar\"}],\"barpolar\":[{\"marker\":{\"line\":{\"color\":\"#E5ECF6\",\"width\":0.5},\"pattern\":{\"fillmode\":\"overlay\",\"size\":10,\"solidity\":0.2}},\"type\":\"barpolar\"}],\"carpet\":[{\"aaxis\":{\"endlinecolor\":\"#2a3f5f\",\"gridcolor\":\"white\",\"linecolor\":\"white\",\"minorgridcolor\":\"white\",\"startlinecolor\":\"#2a3f5f\"},\"baxis\":{\"endlinecolor\":\"#2a3f5f\",\"gridcolor\":\"white\",\"linecolor\":\"white\",\"minorgridcolor\":\"white\",\"startlinecolor\":\"#2a3f5f\"},\"type\":\"carpet\"}],\"choropleth\":[{\"colorbar\":{\"outlinewidth\":0,\"ticks\":\"\"},\"type\":\"choropleth\"}],\"contour\":[{\"colorbar\":{\"outlinewidth\":0,\"ticks\":\"\"},\"colorscale\":[[0.0,\"#0d0887\"],[0.1111111111111111,\"#46039f\"],[0.2222222222222222,\"#7201a8\"],[0.3333333333333333,\"#9c179e\"],[0.4444444444444444,\"#bd3786\"],[0.5555555555555556,\"#d8576b\"],[0.6666666666666666,\"#ed7953\"],[0.7777777777777778,\"#fb9f3a\"],[0.8888888888888888,\"#fdca26\"],[1.0,\"#f0f921\"]],\"type\":\"contour\"}],\"contourcarpet\":[{\"colorbar\":{\"outlinewidth\":0,\"ticks\":\"\"},\"type\":\"contourcarpet\"}],\"heatmap\":[{\"colorbar\":{\"outlinewidth\":0,\"ticks\":\"\"},\"colorscale\":[[0.0,\"#0d0887\"],[0.1111111111111111,\"#46039f\"],[0.2222222222222222,\"#7201a8\"],[0.3333333333333333,\"#9c179e\"],[0.4444444444444444,\"#bd3786\"],[0.5555555555555556,\"#d8576b\"],[0.6666666666666666,\"#ed7953\"],[0.7777777777777778,\"#fb9f3a\"],[0.8888888888888888,\"#fdca26\"],[1.0,\"#f0f921\"]],\"type\":\"heatmap\"}],\"heatmapgl\":[{\"colorbar\":{\"outlinewidth\":0,\"ticks\":\"\"},\"colorscale\":[[0.0,\"#0d0887\"],[0.1111111111111111,\"#46039f\"],[0.2222222222222222,\"#7201a8\"],[0.3333333333333333,\"#9c179e\"],[0.4444444444444444,\"#bd3786\"],[0.5555555555555556,\"#d8576b\"],[0.6666666666666666,\"#ed7953\"],[0.7777777777777778,\"#fb9f3a\"],[0.8888888888888888,\"#fdca26\"],[1.0,\"#f0f921\"]],\"type\":\"heatmapgl\"}],\"histogram\":[{\"marker\":{\"pattern\":{\"fillmode\":\"overlay\",\"size\":10,\"solidity\":0.2}},\"type\":\"histogram\"}],\"histogram2d\":[{\"colorbar\":{\"outlinewidth\":0,\"ticks\":\"\"},\"colorscale\":[[0.0,\"#0d0887\"],[0.1111111111111111,\"#46039f\"],[0.2222222222222222,\"#7201a8\"],[0.3333333333333333,\"#9c179e\"],[0.4444444444444444,\"#bd3786\"],[0.5555555555555556,\"#d8576b\"],[0.6666666666666666,\"#ed7953\"],[0.7777777777777778,\"#fb9f3a\"],[0.8888888888888888,\"#fdca26\"],[1.0,\"#f0f921\"]],\"type\":\"histogram2d\"}],\"histogram2dcontour\":[{\"colorbar\":{\"outlinewidth\":0,\"ticks\":\"\"},\"colorscale\":[[0.0,\"#0d0887\"],[0.1111111111111111,\"#46039f\"],[0.2222222222222222,\"#7201a8\"],[0.3333333333333333,\"#9c179e\"],[0.4444444444444444,\"#bd3786\"],[0.5555555555555556,\"#d8576b\"],[0.6666666666666666,\"#ed7953\"],[0.7777777777777778,\"#fb9f3a\"],[0.8888888888888888,\"#fdca26\"],[1.0,\"#f0f921\"]],\"type\":\"histogram2dcontour\"}],\"mesh3d\":[{\"colorbar\":{\"outlinewidth\":0,\"ticks\":\"\"},\"type\":\"mesh3d\"}],\"parcoords\":[{\"line\":{\"colorbar\":{\"outlinewidth\":0,\"ticks\":\"\"}},\"type\":\"parcoords\"}],\"pie\":[{\"automargin\":true,\"type\":\"pie\"}],\"scatter\":[{\"marker\":{\"colorbar\":{\"outlinewidth\":0,\"ticks\":\"\"}},\"type\":\"scatter\"}],\"scatter3d\":[{\"line\":{\"colorbar\":{\"outlinewidth\":0,\"ticks\":\"\"}},\"marker\":{\"colorbar\":{\"outlinewidth\":0,\"ticks\":\"\"}},\"type\":\"scatter3d\"}],\"scattercarpet\":[{\"marker\":{\"colorbar\":{\"outlinewidth\":0,\"ticks\":\"\"}},\"type\":\"scattercarpet\"}],\"scattergeo\":[{\"marker\":{\"colorbar\":{\"outlinewidth\":0,\"ticks\":\"\"}},\"type\":\"scattergeo\"}],\"scattergl\":[{\"marker\":{\"colorbar\":{\"outlinewidth\":0,\"ticks\":\"\"}},\"type\":\"scattergl\"}],\"scattermapbox\":[{\"marker\":{\"colorbar\":{\"outlinewidth\":0,\"ticks\":\"\"}},\"type\":\"scattermapbox\"}],\"scatterpolar\":[{\"marker\":{\"colorbar\":{\"outlinewidth\":0,\"ticks\":\"\"}},\"type\":\"scatterpolar\"}],\"scatterpolargl\":[{\"marker\":{\"colorbar\":{\"outlinewidth\":0,\"ticks\":\"\"}},\"type\":\"scatterpolargl\"}],\"scatterternary\":[{\"marker\":{\"colorbar\":{\"outlinewidth\":0,\"ticks\":\"\"}},\"type\":\"scatterternary\"}],\"surface\":[{\"colorbar\":{\"outlinewidth\":0,\"ticks\":\"\"},\"colorscale\":[[0.0,\"#0d0887\"],[0.1111111111111111,\"#46039f\"],[0.2222222222222222,\"#7201a8\"],[0.3333333333333333,\"#9c179e\"],[0.4444444444444444,\"#bd3786\"],[0.5555555555555556,\"#d8576b\"],[0.6666666666666666,\"#ed7953\"],[0.7777777777777778,\"#fb9f3a\"],[0.8888888888888888,\"#fdca26\"],[1.0,\"#f0f921\"]],\"type\":\"surface\"}],\"table\":[{\"cells\":{\"fill\":{\"color\":\"#EBF0F8\"},\"line\":{\"color\":\"white\"}},\"header\":{\"fill\":{\"color\":\"#C8D4E3\"},\"line\":{\"color\":\"white\"}},\"type\":\"table\"}]},\"layout\":{\"annotationdefaults\":{\"arrowcolor\":\"#2a3f5f\",\"arrowhead\":0,\"arrowwidth\":1},\"autotypenumbers\":\"strict\",\"coloraxis\":{\"colorbar\":{\"outlinewidth\":0,\"ticks\":\"\"}},\"colorscale\":{\"diverging\":[[0,\"#8e0152\"],[0.1,\"#c51b7d\"],[0.2,\"#de77ae\"],[0.3,\"#f1b6da\"],[0.4,\"#fde0ef\"],[0.5,\"#f7f7f7\"],[0.6,\"#e6f5d0\"],[0.7,\"#b8e186\"],[0.8,\"#7fbc41\"],[0.9,\"#4d9221\"],[1,\"#276419\"]],\"sequential\":[[0.0,\"#0d0887\"],[0.1111111111111111,\"#46039f\"],[0.2222222222222222,\"#7201a8\"],[0.3333333333333333,\"#9c179e\"],[0.4444444444444444,\"#bd3786\"],[0.5555555555555556,\"#d8576b\"],[0.6666666666666666,\"#ed7953\"],[0.7777777777777778,\"#fb9f3a\"],[0.8888888888888888,\"#fdca26\"],[1.0,\"#f0f921\"]],\"sequentialminus\":[[0.0,\"#0d0887\"],[0.1111111111111111,\"#46039f\"],[0.2222222222222222,\"#7201a8\"],[0.3333333333333333,\"#9c179e\"],[0.4444444444444444,\"#bd3786\"],[0.5555555555555556,\"#d8576b\"],[0.6666666666666666,\"#ed7953\"],[0.7777777777777778,\"#fb9f3a\"],[0.8888888888888888,\"#fdca26\"],[1.0,\"#f0f921\"]]},\"colorway\":[\"#636efa\",\"#EF553B\",\"#00cc96\",\"#ab63fa\",\"#FFA15A\",\"#19d3f3\",\"#FF6692\",\"#B6E880\",\"#FF97FF\",\"#FECB52\"],\"font\":{\"color\":\"#2a3f5f\"},\"geo\":{\"bgcolor\":\"white\",\"lakecolor\":\"white\",\"landcolor\":\"#E5ECF6\",\"showlakes\":true,\"showland\":true,\"subunitcolor\":\"white\"},\"hoverlabel\":{\"align\":\"left\"},\"hovermode\":\"closest\",\"mapbox\":{\"style\":\"light\"},\"paper_bgcolor\":\"white\",\"plot_bgcolor\":\"#E5ECF6\",\"polar\":{\"angularaxis\":{\"gridcolor\":\"white\",\"linecolor\":\"white\",\"ticks\":\"\"},\"bgcolor\":\"#E5ECF6\",\"radialaxis\":{\"gridcolor\":\"white\",\"linecolor\":\"white\",\"ticks\":\"\"}},\"scene\":{\"xaxis\":{\"backgroundcolor\":\"#E5ECF6\",\"gridcolor\":\"white\",\"gridwidth\":2,\"linecolor\":\"white\",\"showbackground\":true,\"ticks\":\"\",\"zerolinecolor\":\"white\"},\"yaxis\":{\"backgroundcolor\":\"#E5ECF6\",\"gridcolor\":\"white\",\"gridwidth\":2,\"linecolor\":\"white\",\"showbackground\":true,\"ticks\":\"\",\"zerolinecolor\":\"white\"},\"zaxis\":{\"backgroundcolor\":\"#E5ECF6\",\"gridcolor\":\"white\",\"gridwidth\":2,\"linecolor\":\"white\",\"showbackground\":true,\"ticks\":\"\",\"zerolinecolor\":\"white\"}},\"shapedefaults\":{\"line\":{\"color\":\"#2a3f5f\"}},\"ternary\":{\"aaxis\":{\"gridcolor\":\"white\",\"linecolor\":\"white\",\"ticks\":\"\"},\"baxis\":{\"gridcolor\":\"white\",\"linecolor\":\"white\",\"ticks\":\"\"},\"bgcolor\":\"#E5ECF6\",\"caxis\":{\"gridcolor\":\"white\",\"linecolor\":\"white\",\"ticks\":\"\"}},\"title\":{\"x\":0.05},\"xaxis\":{\"automargin\":true,\"gridcolor\":\"white\",\"linecolor\":\"white\",\"ticks\":\"\",\"title\":{\"standoff\":15},\"zerolinecolor\":\"white\",\"zerolinewidth\":2},\"yaxis\":{\"automargin\":true,\"gridcolor\":\"white\",\"linecolor\":\"white\",\"ticks\":\"\",\"title\":{\"standoff\":15},\"zerolinecolor\":\"white\",\"zerolinewidth\":2}}},\"xaxis\":{\"anchor\":\"y\",\"domain\":[0.0,1.0],\"title\":{\"text\":\"x\"}},\"yaxis\":{\"anchor\":\"x\",\"domain\":[0.0,1.0],\"title\":{\"text\":\"y\"}},\"legend\":{\"tracegroupgap\":0},\"title\":{\"text\":\"Aantal WOO/WOB verzoeken per Ministerie\"},\"barmode\":\"relative\"},                        {\"responsive\": true}                    ).then(function(){\n",
       "                            \n",
       "var gd = document.getElementById('cb5d6195-56c5-42d3-907e-b1e5e977985e');\n",
       "var x = new MutationObserver(function (mutations, observer) {{\n",
       "        var display = window.getComputedStyle(gd).display;\n",
       "        if (!display || display === 'none') {{\n",
       "            console.log([gd, 'removed!']);\n",
       "            Plotly.purge(gd);\n",
       "            observer.disconnect();\n",
       "        }}\n",
       "}});\n",
       "\n",
       "// Listen for the removal of the full notebook cells\n",
       "var notebookContainer = gd.closest('#notebook-container');\n",
       "if (notebookContainer) {{\n",
       "    x.observe(notebookContainer, {childList: true});\n",
       "}}\n",
       "\n",
       "// Listen for the clearing of the current output cell\n",
       "var outputEl = gd.closest('.output');\n",
       "if (outputEl) {{\n",
       "    x.observe(outputEl, {childList: true});\n",
       "}}\n",
       "\n",
       "                        })                };                });            </script>        </div>"
      ]
     },
     "metadata": {},
     "output_type": "display_data"
    }
   ],
   "source": [
    "import plotly.express as px\n",
    "\n",
    "# simpel plotje die al met de huidige data te maken is\n",
    "\n",
    "fig = px.bar(y=Data1.index, x=Data1.values, text_auto='1s',\n",
    "            title=\"Aantal WOO/WOB verzoeken per Ministerie\")\n",
    "fig.update_traces(textfont_size=12, textangle=0, textposition=\"outside\", cliponaxis=False)\n",
    "fig.show()"
   ]
  },
  {
   "cell_type": "markdown",
   "id": "07cb0141",
   "metadata": {},
   "source": [
    "Helaas is het natuurlijk moeilijk om data te verkrijgen met verzoekdata of dat verzoeken wel of niet geslaagd zijn en met welke reden indien het niet is geslaagd. Alhoewel er natuurlijk wel test-data gemaakt kan en zal worden!"
   ]
  },
  {
   "cell_type": "code",
   "execution_count": null,
   "id": "1f377316",
   "metadata": {},
   "outputs": [],
   "source": []
  }
 ],
 "metadata": {
  "kernelspec": {
   "display_name": "Python 3 (ipykernel)",
   "language": "python",
   "name": "python3"
  },
  "language_info": {
   "codemirror_mode": {
    "name": "ipython",
    "version": 3
   },
   "file_extension": ".py",
   "mimetype": "text/x-python",
   "name": "python",
   "nbconvert_exporter": "python",
   "pygments_lexer": "ipython3",
   "version": "3.9.10"
  }
 },
 "nbformat": 4,
 "nbformat_minor": 5
}
