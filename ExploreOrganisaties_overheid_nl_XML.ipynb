{
 "cells": [
  {
   "cell_type": "code",
   "execution_count": 57,
   "id": "ede14a36",
   "metadata": {},
   "outputs": [],
   "source": [
    "from lxml import etree\n",
    "from collections import Counter\n",
    "import pandas as pd\n",
    "\n",
    "def xp(xpad, elem=tree, a=True):\n",
    "    '''return xpad evaluated on elem if a as a list, otherwise just return the first element, '''\n",
    "    xpad_extensie= elem.xpath(xpad, namespaces={'p':\"https://organisaties.overheid.nl/static/schema/oo/export/2.6.3\"})\n",
    "    if a:\n",
    "        return xpad_extensie\n",
    "    elif xpad_extensie:\n",
    "        return xpad_extensie[0]\n",
    "    else:\n",
    "        pass\n",
    "        "
   ]
  },
  {
   "cell_type": "code",
   "execution_count": 2,
   "id": "34a1b863",
   "metadata": {},
   "outputs": [
    {
     "name": "stdout",
     "output_type": "stream",
     "text": [
      "CPU times: user 482 ms, sys: 91.9 ms, total: 574 ms\n",
      "Wall time: 580 ms\n"
     ]
    }
   ],
   "source": [
    "%%time\n",
    "tree = etree.parse('exportOO.xml')"
   ]
  },
  {
   "cell_type": "code",
   "execution_count": 21,
   "id": "d67ee44d",
   "metadata": {},
   "outputs": [
    {
     "data": {
      "text/plain": [
       "(4017,\n",
       " [('Organisatieonderdeel', 1382),\n",
       "  ('Organisatie met overheidsbemoeienis', 1377),\n",
       "  ('Regionaal samenwerkingsorgaan', 421),\n",
       "  ('Gemeente', 419),\n",
       "  ('Zelfstandig bestuursorgaan', 160),\n",
       "  ('Adviescollege', 112),\n",
       "  ('Agentschap', 30),\n",
       "  ('Rechtspraak', 26),\n",
       "  ('Waterschap', 25),\n",
       "  ('Ministerie', 12),\n",
       "  ('Provincie', 12),\n",
       "  ('Grensoverschrijdend regionaal samenwerkingsorgaan', 11),\n",
       "  ('Openbaar lichaam voor beroep en bedrijf', 7),\n",
       "  ('Interdepartementale commissie', 7),\n",
       "  ('Hoog College van Staat', 6),\n",
       "  ('Koepelorganisatie', 4),\n",
       "  ('Caribisch openbaar lichaam', 3),\n",
       "  ('Politie en brandweer', 2),\n",
       "  ('Kabinet van de Koning', 1)])"
      ]
     },
     "execution_count": 21,
     "metadata": {},
     "output_type": "execute_result"
    }
   ],
   "source": [
    "orgtypes= xp('//p:organisatie/p:types/p:type')\n",
    "len(orgtypes), Counter(o.text for o in orgtypes).most_common(20)"
   ]
  },
  {
   "cell_type": "code",
   "execution_count": 58,
   "id": "0dfa74e5",
   "metadata": {},
   "outputs": [
    {
     "name": "stdout",
     "output_type": "stream",
     "text": [
      "4009\n"
     ]
    },
    {
     "data": {
      "text/plain": [
       "(661,\n",
       " ['https://identifier.overheid.nl/tooi/id/oorg/oorg10122',\n",
       "  'https://identifier.overheid.nl/tooi/id/oorg/oorg10196',\n",
       "  'https://identifier.overheid.nl/tooi/id/gemeente/gm0398',\n",
       "  'https://identifier.overheid.nl/tooi/id/oorg/oorg10185',\n",
       "  'https://identifier.overheid.nl/tooi/id/gemeente/gm1699'])"
      ]
     },
     "execution_count": 58,
     "metadata": {},
     "output_type": "execute_result"
    }
   ],
   "source": [
    "# old style\n",
    "orgs= xp('//p:organisatie')\n",
    "print(len(orgs))\n",
    "orgs_with_tooi_code=[xp('@p:resourceIdentifierTOOI', o)[0] for o in orgs if xp('@p:resourceIdentifierTOOI', o)]\n",
    "len(orgs_with_tooi_code), orgs_with_tooi_code[:5]"
   ]
  },
  {
   "cell_type": "code",
   "execution_count": 59,
   "id": "1b9c5b28",
   "metadata": {},
   "outputs": [
    {
     "name": "stdout",
     "output_type": "stream",
     "text": [
      "4009\n"
     ]
    },
    {
     "data": {
      "text/plain": [
       "(4009,\n",
       " 662,\n",
       " ['https://identifier.overheid.nl/tooi/id/oorg/oorg10122',\n",
       "  None,\n",
       "  'https://identifier.overheid.nl/tooi/id/oorg/oorg10196',\n",
       "  None,\n",
       "  None])"
      ]
     },
     "execution_count": 59,
     "metadata": {},
     "output_type": "execute_result"
    }
   ],
   "source": [
    "# new style\n",
    "\n",
    "orgs= xp('//p:organisatie' )\n",
    "print(len(orgs))\n",
    "orgs_with_tooi_code=[xp('@p:resourceIdentifierTOOI', o,a=False) for o in orgs  ]\n",
    "len(orgs_with_tooi_code), len(set(orgs_with_tooi_code)),orgs_with_tooi_code[:5]"
   ]
  },
  {
   "cell_type": "code",
   "execution_count": 60,
   "id": "80ea52b4",
   "metadata": {},
   "outputs": [
    {
     "name": "stdout",
     "output_type": "stream",
     "text": [
      "925 972\n"
     ]
    },
    {
     "data": {
      "text/plain": [
       "['http://standaarden.overheid.nl/owms/terms/RVO',\n",
       " 'http://standaarden.overheid.nl/owms/terms/haltewerk',\n",
       " 'http://standaarden.overheid.nl/owms/terms/grmer',\n",
       " 'http://standaarden.overheid.nl/owms/terms/westrom',\n",
       " 'http://standaarden.overheid.nl/owms/terms/Heerhugowaard_(gemeente)']"
      ]
     },
     "execution_count": 60,
     "metadata": {},
     "output_type": "execute_result"
    }
   ],
   "source": [
    "orgs_identifiers= [xp('@p:resourceIdentifierOWMS', o)[0] for o in orgs if xp('@p:resourceIdentifierOWMS', o)]\n",
    "\n",
    "print(len(set(orgs_identifiers)), len(orgs_identifiers))\n",
    "\n",
    "orgs_identifiers[:5]"
   ]
  },
  {
   "cell_type": "code",
   "execution_count": 63,
   "id": "b655fc31",
   "metadata": {},
   "outputs": [
    {
     "data": {
      "text/plain": [
       "[('Rijksdienst voor Ondernemend Nederland', 'Agentschap'),\n",
       " ('HALte werk', 'Regionaal samenwerkingsorgaan'),\n",
       " ('Commissie voor de milieueffectrapportage', 'Adviescollege'),\n",
       " ('Servicecentrum MER', 'Regionaal samenwerkingsorgaan'),\n",
       " ('Westrom', 'Regionaal samenwerkingsorgaan')]"
      ]
     },
     "execution_count": 63,
     "metadata": {},
     "output_type": "execute_result"
    }
   ],
   "source": [
    "orgs_namen= [(xp('p:naam/text()', o)[0],xp('p:types/p:type/text()',o)[0])  for o in orgs  ]\n",
    "orgs_namen[:5]"
   ]
  },
  {
   "cell_type": "code",
   "execution_count": 64,
   "id": "de4c41d2",
   "metadata": {},
   "outputs": [
    {
     "data": {
      "text/html": [
       "<div>\n",
       "<style scoped>\n",
       "    .dataframe tbody tr th:only-of-type {\n",
       "        vertical-align: middle;\n",
       "    }\n",
       "\n",
       "    .dataframe tbody tr th {\n",
       "        vertical-align: top;\n",
       "    }\n",
       "\n",
       "    .dataframe thead th {\n",
       "        text-align: right;\n",
       "    }\n",
       "</style>\n",
       "<table border=\"1\" class=\"dataframe\">\n",
       "  <thead>\n",
       "    <tr style=\"text-align: right;\">\n",
       "      <th></th>\n",
       "      <th>0</th>\n",
       "      <th>1</th>\n",
       "    </tr>\n",
       "  </thead>\n",
       "  <tbody>\n",
       "    <tr>\n",
       "      <th>0</th>\n",
       "      <td>Rijksdienst voor Ondernemend Nederland</td>\n",
       "      <td>Agentschap</td>\n",
       "    </tr>\n",
       "    <tr>\n",
       "      <th>1</th>\n",
       "      <td>HALte werk</td>\n",
       "      <td>Regionaal samenwerkingsorgaan</td>\n",
       "    </tr>\n",
       "    <tr>\n",
       "      <th>2</th>\n",
       "      <td>Commissie voor de milieueffectrapportage</td>\n",
       "      <td>Adviescollege</td>\n",
       "    </tr>\n",
       "    <tr>\n",
       "      <th>3</th>\n",
       "      <td>Servicecentrum MER</td>\n",
       "      <td>Regionaal samenwerkingsorgaan</td>\n",
       "    </tr>\n",
       "    <tr>\n",
       "      <th>4</th>\n",
       "      <td>Westrom</td>\n",
       "      <td>Regionaal samenwerkingsorgaan</td>\n",
       "    </tr>\n",
       "    <tr>\n",
       "      <th>...</th>\n",
       "      <td>...</td>\n",
       "      <td>...</td>\n",
       "    </tr>\n",
       "    <tr>\n",
       "      <th>4004</th>\n",
       "      <td>Kreis Viersen</td>\n",
       "      <td>Organisatie met overheidsbemoeienis</td>\n",
       "    </tr>\n",
       "    <tr>\n",
       "      <th>4005</th>\n",
       "      <td>Rhein-Kreis Neuss</td>\n",
       "      <td>Organisatie met overheidsbemoeienis</td>\n",
       "    </tr>\n",
       "    <tr>\n",
       "      <th>4006</th>\n",
       "      <td>Industrie- und Handelskammer Mittlerer Niederr...</td>\n",
       "      <td>Organisatie met overheidsbemoeienis</td>\n",
       "    </tr>\n",
       "    <tr>\n",
       "      <th>4007</th>\n",
       "      <td>Niederrheinische Industrie- und Handelskammer ...</td>\n",
       "      <td>Organisatie met overheidsbemoeienis</td>\n",
       "    </tr>\n",
       "    <tr>\n",
       "      <th>4008</th>\n",
       "      <td>Instituut Mijnbouwschade Groningen</td>\n",
       "      <td>Zelfstandig bestuursorgaan</td>\n",
       "    </tr>\n",
       "  </tbody>\n",
       "</table>\n",
       "<p>4009 rows × 2 columns</p>\n",
       "</div>"
      ],
      "text/plain": [
       "                                                      0   \n",
       "0                Rijksdienst voor Ondernemend Nederland  \\\n",
       "1                                            HALte werk   \n",
       "2              Commissie voor de milieueffectrapportage   \n",
       "3                                    Servicecentrum MER   \n",
       "4                                               Westrom   \n",
       "...                                                 ...   \n",
       "4004                                      Kreis Viersen   \n",
       "4005                                  Rhein-Kreis Neuss   \n",
       "4006  Industrie- und Handelskammer Mittlerer Niederr...   \n",
       "4007  Niederrheinische Industrie- und Handelskammer ...   \n",
       "4008                 Instituut Mijnbouwschade Groningen   \n",
       "\n",
       "                                        1  \n",
       "0                              Agentschap  \n",
       "1           Regionaal samenwerkingsorgaan  \n",
       "2                           Adviescollege  \n",
       "3           Regionaal samenwerkingsorgaan  \n",
       "4           Regionaal samenwerkingsorgaan  \n",
       "...                                   ...  \n",
       "4004  Organisatie met overheidsbemoeienis  \n",
       "4005  Organisatie met overheidsbemoeienis  \n",
       "4006  Organisatie met overheidsbemoeienis  \n",
       "4007  Organisatie met overheidsbemoeienis  \n",
       "4008           Zelfstandig bestuursorgaan  \n",
       "\n",
       "[4009 rows x 2 columns]"
      ]
     },
     "execution_count": 64,
     "metadata": {},
     "output_type": "execute_result"
    }
   ],
   "source": [
    "pd.DataFrame(orgs_namen)"
   ]
  },
  {
   "cell_type": "code",
   "execution_count": null,
   "id": "dfc89a33",
   "metadata": {},
   "outputs": [],
   "source": []
  }
 ],
 "metadata": {
  "kernelspec": {
   "display_name": "Python 3 (ipykernel)",
   "language": "python",
   "name": "python3"
  },
  "language_info": {
   "codemirror_mode": {
    "name": "ipython",
    "version": 3
   },
   "file_extension": ".py",
   "mimetype": "text/x-python",
   "name": "python",
   "nbconvert_exporter": "python",
   "pygments_lexer": "ipython3",
   "version": "3.9.7"
  },
  "toc": {
   "nav_menu": {},
   "number_sections": false,
   "sideBar": true,
   "skip_h1_title": false,
   "title_cell": "Table of Contents",
   "title_sidebar": "Contents",
   "toc_cell": false,
   "toc_position": {},
   "toc_section_display": true,
   "toc_window_display": false
  }
 },
 "nbformat": 4,
 "nbformat_minor": 5
}
